{
 "cells": [
  {
   "cell_type": "markdown",
   "metadata": {},
   "source": [
    "Импортируем все необходимые библиотеки"
   ]
  },
  {
   "cell_type": "code",
   "execution_count": 2,
   "metadata": {},
   "outputs": [],
   "source": [
    "#загружаем библиотеки для работы со структурированными данными, массивами и регулярными выражениями\n",
    "import pandas as pd\n",
    "import numpy as np\n",
    "import re\n",
    "\n",
    "#загружаем библиотеку для отображения времени выполнения ячейки и времени выполнения кода\n",
    "import time\n",
    "\n",
    "#загружаем библиотеку для корректной загрузки датасетов\n",
    "import os\n",
    "#загружаем библиотеку для проверки корректности url ссылки\n",
    "import requests\n",
    "\n",
    "\n",
    "#загружаем классы для визуализации\n",
    "from matplotlib import pyplot as plt\n",
    "import seaborn as sns\n",
    "\n",
    "#загружаем библиотеку для корреляционного анализа\n",
    "import phik\n",
    "\n",
    "# загружаем класс pipeline\n",
    "from sklearn.pipeline import Pipeline\n",
    "\n",
    "# загружаем классы для подготовки данных\n",
    "from sklearn.model_selection import train_test_split\n",
    "from sklearn.preprocessing import OneHotEncoder, OrdinalEncoder, StandardScaler, MinMaxScaler, RobustScaler\n",
    "from sklearn.compose import ColumnTransformer\n",
    "\n",
    "# загружаем класс для работы с пропусками\n",
    "from sklearn.impute import SimpleImputer\n",
    "\n",
    "# загружаем нужные модели\n",
    "from sklearn.tree import DecisionTreeRegressor\n",
    "from sklearn.dummy import DummyRegressor\n",
    "from catboost import CatBoostRegressor\n",
    "from lightgbm import LGBMRegressor\n",
    "from sklearn.neighbors import KNeighborsRegressor\n",
    "\n",
    "#загружаем инструменты для подбора гиперпараметров\n",
    "from sklearn.model_selection import RandomizedSearchCV\n",
    "from sklearn.model_selection import GridSearchCV\n",
    "\n",
    "# загружаем функции для работы с метриками\n",
    "from sklearn.metrics import mean_squared_error \n",
    "from sklearn.metrics import make_scorer"
   ]
  },
  {
   "cell_type": "markdown",
   "metadata": {},
   "source": [
    "Объявляем также константы"
   ]
  },
  {
   "cell_type": "code",
   "execution_count": 3,
   "metadata": {},
   "outputs": [],
   "source": [
    "RANDOM_STATE = 42\n",
    "TEST_SIZE = 0.25"
   ]
  },
  {
   "cell_type": "markdown",
   "metadata": {},
   "source": [
    "## Загрузка и изучение данных"
   ]
  },
  {
   "cell_type": "markdown",
   "metadata": {},
   "source": [
    "Загружаем файл датасета, создаем датафрейм, выводим первые 15 строк и основную информацию для ознакомления. Используем параметр `parse_dates` для того, чтобы сразу явно указать в `read_csv` столбцы, которые необходимо преобразовать во временной тип данных."
   ]
  },
  {
   "cell_type": "code",
   "execution_count": 4,
   "metadata": {},
   "outputs": [
    {
     "data": {
      "text/html": [
       "<div>\n",
       "<style scoped>\n",
       "    .dataframe tbody tr th:only-of-type {\n",
       "        vertical-align: middle;\n",
       "    }\n",
       "\n",
       "    .dataframe tbody tr th {\n",
       "        vertical-align: top;\n",
       "    }\n",
       "\n",
       "    .dataframe thead th {\n",
       "        text-align: right;\n",
       "    }\n",
       "</style>\n",
       "<table border=\"1\" class=\"dataframe\">\n",
       "  <thead>\n",
       "    <tr style=\"text-align: right;\">\n",
       "      <th></th>\n",
       "      <th>DateCrawled</th>\n",
       "      <th>Price</th>\n",
       "      <th>VehicleType</th>\n",
       "      <th>RegistrationYear</th>\n",
       "      <th>Gearbox</th>\n",
       "      <th>Power</th>\n",
       "      <th>Model</th>\n",
       "      <th>Kilometer</th>\n",
       "      <th>RegistrationMonth</th>\n",
       "      <th>FuelType</th>\n",
       "      <th>Brand</th>\n",
       "      <th>Repaired</th>\n",
       "      <th>DateCreated</th>\n",
       "      <th>NumberOfPictures</th>\n",
       "      <th>PostalCode</th>\n",
       "      <th>LastSeen</th>\n",
       "    </tr>\n",
       "  </thead>\n",
       "  <tbody>\n",
       "    <tr>\n",
       "      <th>0</th>\n",
       "      <td>2016-03-24 11:52:17</td>\n",
       "      <td>480</td>\n",
       "      <td>NaN</td>\n",
       "      <td>1993</td>\n",
       "      <td>manual</td>\n",
       "      <td>0</td>\n",
       "      <td>golf</td>\n",
       "      <td>150000</td>\n",
       "      <td>0</td>\n",
       "      <td>petrol</td>\n",
       "      <td>volkswagen</td>\n",
       "      <td>NaN</td>\n",
       "      <td>2016-03-24</td>\n",
       "      <td>0</td>\n",
       "      <td>70435</td>\n",
       "      <td>2016-04-07 03:16:57</td>\n",
       "    </tr>\n",
       "    <tr>\n",
       "      <th>1</th>\n",
       "      <td>2016-03-24 10:58:45</td>\n",
       "      <td>18300</td>\n",
       "      <td>coupe</td>\n",
       "      <td>2011</td>\n",
       "      <td>manual</td>\n",
       "      <td>190</td>\n",
       "      <td>NaN</td>\n",
       "      <td>125000</td>\n",
       "      <td>5</td>\n",
       "      <td>gasoline</td>\n",
       "      <td>audi</td>\n",
       "      <td>yes</td>\n",
       "      <td>2016-03-24</td>\n",
       "      <td>0</td>\n",
       "      <td>66954</td>\n",
       "      <td>2016-04-07 01:46:50</td>\n",
       "    </tr>\n",
       "    <tr>\n",
       "      <th>2</th>\n",
       "      <td>2016-03-14 12:52:21</td>\n",
       "      <td>9800</td>\n",
       "      <td>suv</td>\n",
       "      <td>2004</td>\n",
       "      <td>auto</td>\n",
       "      <td>163</td>\n",
       "      <td>grand</td>\n",
       "      <td>125000</td>\n",
       "      <td>8</td>\n",
       "      <td>gasoline</td>\n",
       "      <td>jeep</td>\n",
       "      <td>NaN</td>\n",
       "      <td>2016-03-14</td>\n",
       "      <td>0</td>\n",
       "      <td>90480</td>\n",
       "      <td>2016-04-05 12:47:46</td>\n",
       "    </tr>\n",
       "    <tr>\n",
       "      <th>3</th>\n",
       "      <td>2016-03-17 16:54:04</td>\n",
       "      <td>1500</td>\n",
       "      <td>small</td>\n",
       "      <td>2001</td>\n",
       "      <td>manual</td>\n",
       "      <td>75</td>\n",
       "      <td>golf</td>\n",
       "      <td>150000</td>\n",
       "      <td>6</td>\n",
       "      <td>petrol</td>\n",
       "      <td>volkswagen</td>\n",
       "      <td>no</td>\n",
       "      <td>2016-03-17</td>\n",
       "      <td>0</td>\n",
       "      <td>91074</td>\n",
       "      <td>2016-03-17 17:40:17</td>\n",
       "    </tr>\n",
       "    <tr>\n",
       "      <th>4</th>\n",
       "      <td>2016-03-31 17:25:20</td>\n",
       "      <td>3600</td>\n",
       "      <td>small</td>\n",
       "      <td>2008</td>\n",
       "      <td>manual</td>\n",
       "      <td>69</td>\n",
       "      <td>fabia</td>\n",
       "      <td>90000</td>\n",
       "      <td>7</td>\n",
       "      <td>gasoline</td>\n",
       "      <td>skoda</td>\n",
       "      <td>no</td>\n",
       "      <td>2016-03-31</td>\n",
       "      <td>0</td>\n",
       "      <td>60437</td>\n",
       "      <td>2016-04-06 10:17:21</td>\n",
       "    </tr>\n",
       "    <tr>\n",
       "      <th>5</th>\n",
       "      <td>2016-04-04 17:36:23</td>\n",
       "      <td>650</td>\n",
       "      <td>sedan</td>\n",
       "      <td>1995</td>\n",
       "      <td>manual</td>\n",
       "      <td>102</td>\n",
       "      <td>3er</td>\n",
       "      <td>150000</td>\n",
       "      <td>10</td>\n",
       "      <td>petrol</td>\n",
       "      <td>bmw</td>\n",
       "      <td>yes</td>\n",
       "      <td>2016-04-04</td>\n",
       "      <td>0</td>\n",
       "      <td>33775</td>\n",
       "      <td>2016-04-06 19:17:07</td>\n",
       "    </tr>\n",
       "    <tr>\n",
       "      <th>6</th>\n",
       "      <td>2016-04-01 20:48:51</td>\n",
       "      <td>2200</td>\n",
       "      <td>convertible</td>\n",
       "      <td>2004</td>\n",
       "      <td>manual</td>\n",
       "      <td>109</td>\n",
       "      <td>2_reihe</td>\n",
       "      <td>150000</td>\n",
       "      <td>8</td>\n",
       "      <td>petrol</td>\n",
       "      <td>peugeot</td>\n",
       "      <td>no</td>\n",
       "      <td>2016-04-01</td>\n",
       "      <td>0</td>\n",
       "      <td>67112</td>\n",
       "      <td>2016-04-05 18:18:39</td>\n",
       "    </tr>\n",
       "    <tr>\n",
       "      <th>7</th>\n",
       "      <td>2016-03-21 18:54:38</td>\n",
       "      <td>0</td>\n",
       "      <td>sedan</td>\n",
       "      <td>1980</td>\n",
       "      <td>manual</td>\n",
       "      <td>50</td>\n",
       "      <td>other</td>\n",
       "      <td>40000</td>\n",
       "      <td>7</td>\n",
       "      <td>petrol</td>\n",
       "      <td>volkswagen</td>\n",
       "      <td>no</td>\n",
       "      <td>2016-03-21</td>\n",
       "      <td>0</td>\n",
       "      <td>19348</td>\n",
       "      <td>2016-03-25 16:47:58</td>\n",
       "    </tr>\n",
       "    <tr>\n",
       "      <th>8</th>\n",
       "      <td>2016-04-04 23:42:13</td>\n",
       "      <td>14500</td>\n",
       "      <td>bus</td>\n",
       "      <td>2014</td>\n",
       "      <td>manual</td>\n",
       "      <td>125</td>\n",
       "      <td>c_max</td>\n",
       "      <td>30000</td>\n",
       "      <td>8</td>\n",
       "      <td>petrol</td>\n",
       "      <td>ford</td>\n",
       "      <td>NaN</td>\n",
       "      <td>2016-04-04</td>\n",
       "      <td>0</td>\n",
       "      <td>94505</td>\n",
       "      <td>2016-04-04 23:42:13</td>\n",
       "    </tr>\n",
       "    <tr>\n",
       "      <th>9</th>\n",
       "      <td>2016-03-17 10:53:50</td>\n",
       "      <td>999</td>\n",
       "      <td>small</td>\n",
       "      <td>1998</td>\n",
       "      <td>manual</td>\n",
       "      <td>101</td>\n",
       "      <td>golf</td>\n",
       "      <td>150000</td>\n",
       "      <td>0</td>\n",
       "      <td>NaN</td>\n",
       "      <td>volkswagen</td>\n",
       "      <td>NaN</td>\n",
       "      <td>2016-03-17</td>\n",
       "      <td>0</td>\n",
       "      <td>27472</td>\n",
       "      <td>2016-03-31 17:17:06</td>\n",
       "    </tr>\n",
       "    <tr>\n",
       "      <th>10</th>\n",
       "      <td>2016-03-26 19:54:18</td>\n",
       "      <td>2000</td>\n",
       "      <td>sedan</td>\n",
       "      <td>2004</td>\n",
       "      <td>manual</td>\n",
       "      <td>105</td>\n",
       "      <td>3_reihe</td>\n",
       "      <td>150000</td>\n",
       "      <td>12</td>\n",
       "      <td>petrol</td>\n",
       "      <td>mazda</td>\n",
       "      <td>no</td>\n",
       "      <td>2016-03-26</td>\n",
       "      <td>0</td>\n",
       "      <td>96224</td>\n",
       "      <td>2016-04-06 10:45:34</td>\n",
       "    </tr>\n",
       "    <tr>\n",
       "      <th>11</th>\n",
       "      <td>2016-04-07 10:06:22</td>\n",
       "      <td>2799</td>\n",
       "      <td>wagon</td>\n",
       "      <td>2005</td>\n",
       "      <td>manual</td>\n",
       "      <td>140</td>\n",
       "      <td>passat</td>\n",
       "      <td>150000</td>\n",
       "      <td>12</td>\n",
       "      <td>gasoline</td>\n",
       "      <td>volkswagen</td>\n",
       "      <td>yes</td>\n",
       "      <td>2016-04-07</td>\n",
       "      <td>0</td>\n",
       "      <td>57290</td>\n",
       "      <td>2016-04-07 10:25:17</td>\n",
       "    </tr>\n",
       "    <tr>\n",
       "      <th>12</th>\n",
       "      <td>2016-03-15 22:49:09</td>\n",
       "      <td>999</td>\n",
       "      <td>wagon</td>\n",
       "      <td>1995</td>\n",
       "      <td>manual</td>\n",
       "      <td>115</td>\n",
       "      <td>passat</td>\n",
       "      <td>150000</td>\n",
       "      <td>11</td>\n",
       "      <td>petrol</td>\n",
       "      <td>volkswagen</td>\n",
       "      <td>NaN</td>\n",
       "      <td>2016-03-15</td>\n",
       "      <td>0</td>\n",
       "      <td>37269</td>\n",
       "      <td>2016-04-01 13:16:16</td>\n",
       "    </tr>\n",
       "    <tr>\n",
       "      <th>13</th>\n",
       "      <td>2016-03-21 21:37:40</td>\n",
       "      <td>2500</td>\n",
       "      <td>wagon</td>\n",
       "      <td>2004</td>\n",
       "      <td>manual</td>\n",
       "      <td>131</td>\n",
       "      <td>passat</td>\n",
       "      <td>150000</td>\n",
       "      <td>2</td>\n",
       "      <td>NaN</td>\n",
       "      <td>volkswagen</td>\n",
       "      <td>no</td>\n",
       "      <td>2016-03-21</td>\n",
       "      <td>0</td>\n",
       "      <td>90762</td>\n",
       "      <td>2016-03-23 02:50:54</td>\n",
       "    </tr>\n",
       "    <tr>\n",
       "      <th>14</th>\n",
       "      <td>2016-03-21 12:57:01</td>\n",
       "      <td>17999</td>\n",
       "      <td>suv</td>\n",
       "      <td>2011</td>\n",
       "      <td>manual</td>\n",
       "      <td>190</td>\n",
       "      <td>navara</td>\n",
       "      <td>70000</td>\n",
       "      <td>3</td>\n",
       "      <td>gasoline</td>\n",
       "      <td>nissan</td>\n",
       "      <td>no</td>\n",
       "      <td>2016-03-21</td>\n",
       "      <td>0</td>\n",
       "      <td>4177</td>\n",
       "      <td>2016-04-06 07:45:42</td>\n",
       "    </tr>\n",
       "  </tbody>\n",
       "</table>\n",
       "</div>"
      ],
      "text/plain": [
       "           DateCrawled  Price  VehicleType  RegistrationYear Gearbox  Power  \\\n",
       "0  2016-03-24 11:52:17    480          NaN              1993  manual      0   \n",
       "1  2016-03-24 10:58:45  18300        coupe              2011  manual    190   \n",
       "2  2016-03-14 12:52:21   9800          suv              2004    auto    163   \n",
       "3  2016-03-17 16:54:04   1500        small              2001  manual     75   \n",
       "4  2016-03-31 17:25:20   3600        small              2008  manual     69   \n",
       "5  2016-04-04 17:36:23    650        sedan              1995  manual    102   \n",
       "6  2016-04-01 20:48:51   2200  convertible              2004  manual    109   \n",
       "7  2016-03-21 18:54:38      0        sedan              1980  manual     50   \n",
       "8  2016-04-04 23:42:13  14500          bus              2014  manual    125   \n",
       "9  2016-03-17 10:53:50    999        small              1998  manual    101   \n",
       "10 2016-03-26 19:54:18   2000        sedan              2004  manual    105   \n",
       "11 2016-04-07 10:06:22   2799        wagon              2005  manual    140   \n",
       "12 2016-03-15 22:49:09    999        wagon              1995  manual    115   \n",
       "13 2016-03-21 21:37:40   2500        wagon              2004  manual    131   \n",
       "14 2016-03-21 12:57:01  17999          suv              2011  manual    190   \n",
       "\n",
       "      Model  Kilometer  RegistrationMonth  FuelType       Brand Repaired  \\\n",
       "0      golf     150000                  0    petrol  volkswagen      NaN   \n",
       "1       NaN     125000                  5  gasoline        audi      yes   \n",
       "2     grand     125000                  8  gasoline        jeep      NaN   \n",
       "3      golf     150000                  6    petrol  volkswagen       no   \n",
       "4     fabia      90000                  7  gasoline       skoda       no   \n",
       "5       3er     150000                 10    petrol         bmw      yes   \n",
       "6   2_reihe     150000                  8    petrol     peugeot       no   \n",
       "7     other      40000                  7    petrol  volkswagen       no   \n",
       "8     c_max      30000                  8    petrol        ford      NaN   \n",
       "9      golf     150000                  0       NaN  volkswagen      NaN   \n",
       "10  3_reihe     150000                 12    petrol       mazda       no   \n",
       "11   passat     150000                 12  gasoline  volkswagen      yes   \n",
       "12   passat     150000                 11    petrol  volkswagen      NaN   \n",
       "13   passat     150000                  2       NaN  volkswagen       no   \n",
       "14   navara      70000                  3  gasoline      nissan       no   \n",
       "\n",
       "   DateCreated  NumberOfPictures  PostalCode            LastSeen  \n",
       "0   2016-03-24                 0       70435 2016-04-07 03:16:57  \n",
       "1   2016-03-24                 0       66954 2016-04-07 01:46:50  \n",
       "2   2016-03-14                 0       90480 2016-04-05 12:47:46  \n",
       "3   2016-03-17                 0       91074 2016-03-17 17:40:17  \n",
       "4   2016-03-31                 0       60437 2016-04-06 10:17:21  \n",
       "5   2016-04-04                 0       33775 2016-04-06 19:17:07  \n",
       "6   2016-04-01                 0       67112 2016-04-05 18:18:39  \n",
       "7   2016-03-21                 0       19348 2016-03-25 16:47:58  \n",
       "8   2016-04-04                 0       94505 2016-04-04 23:42:13  \n",
       "9   2016-03-17                 0       27472 2016-03-31 17:17:06  \n",
       "10  2016-03-26                 0       96224 2016-04-06 10:45:34  \n",
       "11  2016-04-07                 0       57290 2016-04-07 10:25:17  \n",
       "12  2016-03-15                 0       37269 2016-04-01 13:16:16  \n",
       "13  2016-03-21                 0       90762 2016-03-23 02:50:54  \n",
       "14  2016-03-21                 0        4177 2016-04-06 07:45:42  "
      ]
     },
     "metadata": {},
     "output_type": "display_data"
    },
    {
     "name": "stdout",
     "output_type": "stream",
     "text": [
      "<class 'pandas.core.frame.DataFrame'>\n",
      "RangeIndex: 354369 entries, 0 to 354368\n",
      "Data columns (total 16 columns):\n",
      " #   Column             Non-Null Count   Dtype         \n",
      "---  ------             --------------   -----         \n",
      " 0   DateCrawled        354369 non-null  datetime64[ns]\n",
      " 1   Price              354369 non-null  int64         \n",
      " 2   VehicleType        316879 non-null  object        \n",
      " 3   RegistrationYear   354369 non-null  int64         \n",
      " 4   Gearbox            334536 non-null  object        \n",
      " 5   Power              354369 non-null  int64         \n",
      " 6   Model              334664 non-null  object        \n",
      " 7   Kilometer          354369 non-null  int64         \n",
      " 8   RegistrationMonth  354369 non-null  int64         \n",
      " 9   FuelType           321474 non-null  object        \n",
      " 10  Brand              354369 non-null  object        \n",
      " 11  Repaired           283215 non-null  object        \n",
      " 12  DateCreated        354369 non-null  datetime64[ns]\n",
      " 13  NumberOfPictures   354369 non-null  int64         \n",
      " 14  PostalCode         354369 non-null  int64         \n",
      " 15  LastSeen           354369 non-null  datetime64[ns]\n",
      "dtypes: datetime64[ns](3), int64(7), object(6)\n",
      "memory usage: 43.3+ MB\n"
     ]
    }
   ],
   "source": [
    "#проверяем существование указанной дирректории и в случае возврата True загружаем датасет в переменную, указав верные разделители\n",
    "pth1 = '/datasets/autos.csv'\n",
    "pth2 = 'https://...../autos.csv' #полная ссылка скрыта ввиду NDA\n",
    "pth3 = 'autos.csv'\n",
    "if os.path.exists(pth1):\n",
    "    data_main = pd.read_csv(pth1, sep=',', decimal = '.', parse_dates = ['DateCrawled','DateCreated','LastSeen'])\n",
    "#добавляем проверку корректности url ссылки при помощи requests.get(url) и проверки status_code == 200\n",
    "elif requests.get(pth2).status_code == 200:\n",
    "    data_main = pd.read_csv(pth2, sep=',', decimal = '.', parse_dates = ['DateCrawled','DateCreated','LastSeen'])\n",
    "elif os.path.exists(pth3):\n",
    "    data_main = pd.read_csv(pth3, sep=',', decimal = '.', parse_dates = ['DateCrawled','DateCreated','LastSeen'])\n",
    "else:\n",
    "    print('Something is wrong')\n",
    "\n",
    "\n",
    "#выводим первые 15 строк и основную информацию датафрейма    \n",
    "display(data_main.head(15))\n",
    "data_main.info()"
   ]
  },
  {
   "cell_type": "markdown",
   "metadata": {},
   "source": [
    "**Созданный датафрейм:**\n",
    "- имеет размерность 354369 строк \n",
    "- имеет явные пропуски\n",
    "- столбцы имеют корректные типы данных\n",
    "- названия столбцов не приведены к змеиному \"регистру\"\n",
    "- при первичном ознакомлении неявные дубликаты не выделяются"
   ]
  },
  {
   "cell_type": "markdown",
   "metadata": {},
   "source": [
    "##  Предобработка данных"
   ]
  },
  {
   "cell_type": "markdown",
   "metadata": {},
   "source": [
    "### Переименование столбцов"
   ]
  },
  {
   "cell_type": "markdown",
   "metadata": {},
   "source": [
    "Для начала приведем названия столбцов к \"змеиному\" регистру: добавим при помощи регулярного выражения нижние подчеркивания в названиях столбцов перед всеми заглавными буквами, кроме начала строки, после этого приведем все буквы в наименованиях к нижнему регистру"
   ]
  },
  {
   "cell_type": "code",
   "execution_count": 5,
   "metadata": {},
   "outputs": [
    {
     "name": "stdout",
     "output_type": "stream",
     "text": [
      "Index(['date_crawled', 'price', 'vehicle_type', 'registration_year', 'gearbox',\n",
      "       'power', 'model', 'kilometer', 'registration_month', 'fuel_type',\n",
      "       'brand', 'repaired', 'date_created', 'number_of_pictures',\n",
      "       'postal_code', 'last_seen'],\n",
      "      dtype='object')\n"
     ]
    }
   ],
   "source": [
    "data_main.columns = data_main.columns.str.replace('(?<!^)(?=[A-Z])', '_', regex = True).str.lower()\n",
    "print(data_main.columns)"
   ]
  },
  {
   "cell_type": "markdown",
   "metadata": {},
   "source": [
    "**В наименованиях столбцов добавлены нижние подчеркивания. Столбцы приведены к змеиному регистру, лишних пробелов не обнаружено.**"
   ]
  },
  {
   "cell_type": "markdown",
   "metadata": {},
   "source": [
    "### Обработка пропусков"
   ]
  },
  {
   "cell_type": "markdown",
   "metadata": {},
   "source": [
    "Посчитаем все явные пропуски в датафрейме:"
   ]
  },
  {
   "cell_type": "code",
   "execution_count": 6,
   "metadata": {},
   "outputs": [
    {
     "data": {
      "text/plain": [
       "repaired              71154\n",
       "vehicle_type          37490\n",
       "fuel_type             32895\n",
       "gearbox               19833\n",
       "model                 19705\n",
       "date_crawled              0\n",
       "price                     0\n",
       "registration_year         0\n",
       "power                     0\n",
       "kilometer                 0\n",
       "registration_month        0\n",
       "brand                     0\n",
       "date_created              0\n",
       "number_of_pictures        0\n",
       "postal_code               0\n",
       "last_seen                 0\n",
       "dtype: int64"
      ]
     },
     "execution_count": 6,
     "metadata": {},
     "output_type": "execute_result"
    }
   ],
   "source": [
    "data_main.isna().sum().sort_values(ascending = False)"
   ]
  },
  {
   "cell_type": "markdown",
   "metadata": {},
   "source": [
    "Из полученных результатов видно, что пропуски присутствут в пяти категориальных столбцах. В столбце `model`, имеющем наименьшее количество пропусков из этих пяти столбцов, все равно общее количество пропущенных значений составляет более 5% от общего кол-ва строк, поэтому удалять эти строки мы не будем - заполним пропущенные значения во всех категориальных столбах заглушками `unknown`."
   ]
  },
  {
   "cell_type": "code",
   "execution_count": 7,
   "metadata": {},
   "outputs": [],
   "source": [
    "data_main[['repaired', 'vehicle_type','fuel_type','gearbox','model']] =\\\n",
    "data_main[['repaired', 'vehicle_type','fuel_type','gearbox','model']].fillna(value='unknown')"
   ]
  },
  {
   "cell_type": "markdown",
   "metadata": {},
   "source": [
    "Проверяем снова кол-во пропусков в столбцах"
   ]
  },
  {
   "cell_type": "code",
   "execution_count": 8,
   "metadata": {},
   "outputs": [
    {
     "data": {
      "text/plain": [
       "date_crawled          0\n",
       "price                 0\n",
       "vehicle_type          0\n",
       "registration_year     0\n",
       "gearbox               0\n",
       "power                 0\n",
       "model                 0\n",
       "kilometer             0\n",
       "registration_month    0\n",
       "fuel_type             0\n",
       "brand                 0\n",
       "repaired              0\n",
       "date_created          0\n",
       "number_of_pictures    0\n",
       "postal_code           0\n",
       "last_seen             0\n",
       "dtype: int64"
      ]
     },
     "execution_count": 8,
     "metadata": {},
     "output_type": "execute_result"
    }
   ],
   "source": [
    "data_main.isna().sum().sort_values(ascending = False)"
   ]
  },
  {
   "cell_type": "markdown",
   "metadata": {},
   "source": [
    "**Пропущенные значения в категориальных столбцах заменены на значения-заглушки**"
   ]
  },
  {
   "cell_type": "markdown",
   "metadata": {},
   "source": [
    "### Аномальные значения"
   ]
  },
  {
   "cell_type": "markdown",
   "metadata": {},
   "source": [
    "Выведем описательные статистики для всех количественных столбцов:"
   ]
  },
  {
   "cell_type": "code",
   "execution_count": 9,
   "metadata": {},
   "outputs": [
    {
     "data": {
      "text/html": [
       "<div>\n",
       "<style scoped>\n",
       "    .dataframe tbody tr th:only-of-type {\n",
       "        vertical-align: middle;\n",
       "    }\n",
       "\n",
       "    .dataframe tbody tr th {\n",
       "        vertical-align: top;\n",
       "    }\n",
       "\n",
       "    .dataframe thead th {\n",
       "        text-align: right;\n",
       "    }\n",
       "</style>\n",
       "<table border=\"1\" class=\"dataframe\">\n",
       "  <thead>\n",
       "    <tr style=\"text-align: right;\">\n",
       "      <th></th>\n",
       "      <th>count</th>\n",
       "      <th>mean</th>\n",
       "      <th>std</th>\n",
       "      <th>min</th>\n",
       "      <th>25%</th>\n",
       "      <th>50%</th>\n",
       "      <th>75%</th>\n",
       "      <th>max</th>\n",
       "    </tr>\n",
       "  </thead>\n",
       "  <tbody>\n",
       "    <tr>\n",
       "      <th>price</th>\n",
       "      <td>354369.0</td>\n",
       "      <td>4416.66</td>\n",
       "      <td>4514.16</td>\n",
       "      <td>0.0</td>\n",
       "      <td>1050.0</td>\n",
       "      <td>2700.0</td>\n",
       "      <td>6400.0</td>\n",
       "      <td>20000.0</td>\n",
       "    </tr>\n",
       "    <tr>\n",
       "      <th>registration_year</th>\n",
       "      <td>354369.0</td>\n",
       "      <td>2004.23</td>\n",
       "      <td>90.23</td>\n",
       "      <td>1000.0</td>\n",
       "      <td>1999.0</td>\n",
       "      <td>2003.0</td>\n",
       "      <td>2008.0</td>\n",
       "      <td>9999.0</td>\n",
       "    </tr>\n",
       "    <tr>\n",
       "      <th>power</th>\n",
       "      <td>354369.0</td>\n",
       "      <td>110.09</td>\n",
       "      <td>189.85</td>\n",
       "      <td>0.0</td>\n",
       "      <td>69.0</td>\n",
       "      <td>105.0</td>\n",
       "      <td>143.0</td>\n",
       "      <td>20000.0</td>\n",
       "    </tr>\n",
       "    <tr>\n",
       "      <th>kilometer</th>\n",
       "      <td>354369.0</td>\n",
       "      <td>128211.17</td>\n",
       "      <td>37905.34</td>\n",
       "      <td>5000.0</td>\n",
       "      <td>125000.0</td>\n",
       "      <td>150000.0</td>\n",
       "      <td>150000.0</td>\n",
       "      <td>150000.0</td>\n",
       "    </tr>\n",
       "    <tr>\n",
       "      <th>registration_month</th>\n",
       "      <td>354369.0</td>\n",
       "      <td>5.71</td>\n",
       "      <td>3.73</td>\n",
       "      <td>0.0</td>\n",
       "      <td>3.0</td>\n",
       "      <td>6.0</td>\n",
       "      <td>9.0</td>\n",
       "      <td>12.0</td>\n",
       "    </tr>\n",
       "    <tr>\n",
       "      <th>number_of_pictures</th>\n",
       "      <td>354369.0</td>\n",
       "      <td>0.00</td>\n",
       "      <td>0.00</td>\n",
       "      <td>0.0</td>\n",
       "      <td>0.0</td>\n",
       "      <td>0.0</td>\n",
       "      <td>0.0</td>\n",
       "      <td>0.0</td>\n",
       "    </tr>\n",
       "    <tr>\n",
       "      <th>postal_code</th>\n",
       "      <td>354369.0</td>\n",
       "      <td>50508.69</td>\n",
       "      <td>25783.10</td>\n",
       "      <td>1067.0</td>\n",
       "      <td>30165.0</td>\n",
       "      <td>49413.0</td>\n",
       "      <td>71083.0</td>\n",
       "      <td>99998.0</td>\n",
       "    </tr>\n",
       "  </tbody>\n",
       "</table>\n",
       "</div>"
      ],
      "text/plain": [
       "                       count       mean       std     min       25%       50%  \\\n",
       "price               354369.0    4416.66   4514.16     0.0    1050.0    2700.0   \n",
       "registration_year   354369.0    2004.23     90.23  1000.0    1999.0    2003.0   \n",
       "power               354369.0     110.09    189.85     0.0      69.0     105.0   \n",
       "kilometer           354369.0  128211.17  37905.34  5000.0  125000.0  150000.0   \n",
       "registration_month  354369.0       5.71      3.73     0.0       3.0       6.0   \n",
       "number_of_pictures  354369.0       0.00      0.00     0.0       0.0       0.0   \n",
       "postal_code         354369.0   50508.69  25783.10  1067.0   30165.0   49413.0   \n",
       "\n",
       "                         75%       max  \n",
       "price                 6400.0   20000.0  \n",
       "registration_year     2008.0    9999.0  \n",
       "power                  143.0   20000.0  \n",
       "kilometer           150000.0  150000.0  \n",
       "registration_month       9.0      12.0  \n",
       "number_of_pictures       0.0       0.0  \n",
       "postal_code          71083.0   99998.0  "
      ]
     },
     "metadata": {},
     "output_type": "display_data"
    }
   ],
   "source": [
    "display(round(data_main.describe(),2).T)"
   ]
  },
  {
   "cell_type": "markdown",
   "metadata": {},
   "source": [
    "Также выведем описательные статистики для столбцов с временным типом данных. Указываем параметр `datetime_is_numeric=True`, который еще используется в версии библиотеки `pandas` в этом окружении, в более свежей версии библиотеки `pandas` указывание этого аргумента приводит к ошибке."
   ]
  },
  {
   "cell_type": "code",
   "execution_count": 10,
   "metadata": {},
   "outputs": [
    {
     "data": {
      "text/html": [
       "<div>\n",
       "<style scoped>\n",
       "    .dataframe tbody tr th:only-of-type {\n",
       "        vertical-align: middle;\n",
       "    }\n",
       "\n",
       "    .dataframe tbody tr th {\n",
       "        vertical-align: top;\n",
       "    }\n",
       "\n",
       "    .dataframe thead th {\n",
       "        text-align: right;\n",
       "    }\n",
       "</style>\n",
       "<table border=\"1\" class=\"dataframe\">\n",
       "  <thead>\n",
       "    <tr style=\"text-align: right;\">\n",
       "      <th></th>\n",
       "      <th>count</th>\n",
       "      <th>mean</th>\n",
       "      <th>min</th>\n",
       "      <th>25%</th>\n",
       "      <th>50%</th>\n",
       "      <th>75%</th>\n",
       "      <th>max</th>\n",
       "    </tr>\n",
       "  </thead>\n",
       "  <tbody>\n",
       "    <tr>\n",
       "      <th>date_crawled</th>\n",
       "      <td>354369</td>\n",
       "      <td>2016-03-21 12:58:10.450648320</td>\n",
       "      <td>2016-03-05 14:06:22</td>\n",
       "      <td>2016-03-13 11:52:33</td>\n",
       "      <td>2016-03-21 17:50:55</td>\n",
       "      <td>2016-03-29 14:37:20</td>\n",
       "      <td>2016-04-07 14:36:58</td>\n",
       "    </tr>\n",
       "    <tr>\n",
       "      <th>date_created</th>\n",
       "      <td>354369</td>\n",
       "      <td>2016-03-20 19:12:07.753274112</td>\n",
       "      <td>2014-03-10 00:00:00</td>\n",
       "      <td>2016-03-13 00:00:00</td>\n",
       "      <td>2016-03-21 00:00:00</td>\n",
       "      <td>2016-03-29 00:00:00</td>\n",
       "      <td>2016-04-07 00:00:00</td>\n",
       "    </tr>\n",
       "    <tr>\n",
       "      <th>last_seen</th>\n",
       "      <td>354369</td>\n",
       "      <td>2016-03-29 23:51:00.667456768</td>\n",
       "      <td>2016-03-05 14:15:08</td>\n",
       "      <td>2016-03-23 02:50:03</td>\n",
       "      <td>2016-04-03 15:15:51</td>\n",
       "      <td>2016-04-06 10:15:19</td>\n",
       "      <td>2016-04-07 14:58:51</td>\n",
       "    </tr>\n",
       "  </tbody>\n",
       "</table>\n",
       "</div>"
      ],
      "text/plain": [
       "               count                          mean                 min  \\\n",
       "date_crawled  354369 2016-03-21 12:58:10.450648320 2016-03-05 14:06:22   \n",
       "date_created  354369 2016-03-20 19:12:07.753274112 2014-03-10 00:00:00   \n",
       "last_seen     354369 2016-03-29 23:51:00.667456768 2016-03-05 14:15:08   \n",
       "\n",
       "                             25%                 50%                 75%  \\\n",
       "date_crawled 2016-03-13 11:52:33 2016-03-21 17:50:55 2016-03-29 14:37:20   \n",
       "date_created 2016-03-13 00:00:00 2016-03-21 00:00:00 2016-03-29 00:00:00   \n",
       "last_seen    2016-03-23 02:50:03 2016-04-03 15:15:51 2016-04-06 10:15:19   \n",
       "\n",
       "                             max  \n",
       "date_crawled 2016-04-07 14:36:58  \n",
       "date_created 2016-04-07 00:00:00  \n",
       "last_seen    2016-04-07 14:58:51  "
      ]
     },
     "metadata": {},
     "output_type": "display_data"
    }
   ],
   "source": [
    "display(data_main.select_dtypes(include='datetime64').describe(datetime_is_numeric=True).T)"
   ]
  },
  {
   "cell_type": "markdown",
   "metadata": {},
   "source": [
    "При первичном ознакомлении видны следующие аномалии:\n",
    "- минимальная цена некоторых автомобилей - 0\n",
    "- минимальный год регистрации некоторых автомобилей - 1000, максимальный - 9999\n",
    "- минимальная мощность некоторых автомобилей - 0, а некоторых 20000\n",
    "- минимальный месяц регистрации - 0\n",
    "- наличие столбца с количеством фотографий не несет пользы, так как все значения в нем пустые\n",
    "- также неизвестно, как самая поздняя дата активности пользователя может быть больше самой поздней даты скачивания анкеты \n",
    "\n",
    "По порядку исправим все аномалии"
   ]
  },
  {
   "cell_type": "markdown",
   "metadata": {},
   "source": [
    "Сперва посмотрим, у скольких автомобилей в столбце `price` значение цены `0`"
   ]
  },
  {
   "cell_type": "code",
   "execution_count": 11,
   "metadata": {},
   "outputs": [
    {
     "data": {
      "text/plain": [
       "10772"
      ]
     },
     "execution_count": 11,
     "metadata": {},
     "output_type": "execute_result"
    }
   ],
   "source": [
    "data_main.query('price == 0')['price'].count()"
   ]
  },
  {
   "cell_type": "markdown",
   "metadata": {},
   "source": [
    "Теперь посмотрим на общее количество объектов, у которых цена меньше `50` евро"
   ]
  },
  {
   "cell_type": "code",
   "execution_count": 12,
   "metadata": {},
   "outputs": [
    {
     "data": {
      "text/plain": [
       "12423"
      ]
     },
     "execution_count": 12,
     "metadata": {},
     "output_type": "execute_result"
    }
   ],
   "source": [
    "data_main.query('price < 50')['price'].count()"
   ]
  },
  {
   "cell_type": "markdown",
   "metadata": {},
   "source": [
    "Удалим объекты с аномальным значением цены в 0 евро (3% от общего количества данных), также уберем выбросы с ценой менее 50 евро. Замена на медианные значения может исказить итоговые результаты"
   ]
  },
  {
   "cell_type": "code",
   "execution_count": 13,
   "metadata": {},
   "outputs": [],
   "source": [
    "data_main = data_main.query('price >= 50')"
   ]
  },
  {
   "cell_type": "markdown",
   "metadata": {},
   "source": [
    "Теперь посмотрим кол-во строк с годом регистрации автомобиля `registration_year` больше 2025 или меньше 1950"
   ]
  },
  {
   "cell_type": "code",
   "execution_count": 14,
   "metadata": {},
   "outputs": [
    {
     "data": {
      "text/plain": [
       "235"
      ]
     },
     "execution_count": 14,
     "metadata": {},
     "output_type": "execute_result"
    }
   ],
   "source": [
    "data_main.query('registration_year > 2025 or registration_year < 1950').shape[0]"
   ]
  },
  {
   "cell_type": "markdown",
   "metadata": {},
   "source": [
    "Посмотрим внимательнее на автомобили, якобы выпускавшиеся до 1960 года"
   ]
  },
  {
   "cell_type": "code",
   "execution_count": 15,
   "metadata": {},
   "outputs": [
    {
     "data": {
      "text/html": [
       "<div>\n",
       "<style scoped>\n",
       "    .dataframe tbody tr th:only-of-type {\n",
       "        vertical-align: middle;\n",
       "    }\n",
       "\n",
       "    .dataframe tbody tr th {\n",
       "        vertical-align: top;\n",
       "    }\n",
       "\n",
       "    .dataframe thead th {\n",
       "        text-align: right;\n",
       "    }\n",
       "</style>\n",
       "<table border=\"1\" class=\"dataframe\">\n",
       "  <thead>\n",
       "    <tr style=\"text-align: right;\">\n",
       "      <th></th>\n",
       "      <th>date_crawled</th>\n",
       "      <th>price</th>\n",
       "      <th>vehicle_type</th>\n",
       "      <th>registration_year</th>\n",
       "      <th>gearbox</th>\n",
       "      <th>power</th>\n",
       "      <th>model</th>\n",
       "      <th>kilometer</th>\n",
       "      <th>registration_month</th>\n",
       "      <th>fuel_type</th>\n",
       "      <th>brand</th>\n",
       "      <th>repaired</th>\n",
       "      <th>date_created</th>\n",
       "      <th>number_of_pictures</th>\n",
       "      <th>postal_code</th>\n",
       "      <th>last_seen</th>\n",
       "    </tr>\n",
       "  </thead>\n",
       "  <tbody>\n",
       "    <tr>\n",
       "      <th>15</th>\n",
       "      <td>2016-03-11 21:39:15</td>\n",
       "      <td>450</td>\n",
       "      <td>small</td>\n",
       "      <td>1910</td>\n",
       "      <td>unknown</td>\n",
       "      <td>0</td>\n",
       "      <td>ka</td>\n",
       "      <td>5000</td>\n",
       "      <td>0</td>\n",
       "      <td>petrol</td>\n",
       "      <td>ford</td>\n",
       "      <td>unknown</td>\n",
       "      <td>2016-03-11</td>\n",
       "      <td>0</td>\n",
       "      <td>24148</td>\n",
       "      <td>2016-03-19 08:46:47</td>\n",
       "    </tr>\n",
       "    <tr>\n",
       "      <th>1928</th>\n",
       "      <td>2016-03-25 15:58:21</td>\n",
       "      <td>7000</td>\n",
       "      <td>suv</td>\n",
       "      <td>1945</td>\n",
       "      <td>manual</td>\n",
       "      <td>48</td>\n",
       "      <td>other</td>\n",
       "      <td>150000</td>\n",
       "      <td>2</td>\n",
       "      <td>petrol</td>\n",
       "      <td>volkswagen</td>\n",
       "      <td>no</td>\n",
       "      <td>2016-03-25</td>\n",
       "      <td>0</td>\n",
       "      <td>58135</td>\n",
       "      <td>2016-03-25 15:58:21</td>\n",
       "    </tr>\n",
       "    <tr>\n",
       "      <th>2273</th>\n",
       "      <td>2016-03-15 21:44:32</td>\n",
       "      <td>1800</td>\n",
       "      <td>convertible</td>\n",
       "      <td>1925</td>\n",
       "      <td>unknown</td>\n",
       "      <td>0</td>\n",
       "      <td>unknown</td>\n",
       "      <td>5000</td>\n",
       "      <td>1</td>\n",
       "      <td>unknown</td>\n",
       "      <td>sonstige_autos</td>\n",
       "      <td>no</td>\n",
       "      <td>2016-03-15</td>\n",
       "      <td>0</td>\n",
       "      <td>79288</td>\n",
       "      <td>2016-04-07 05:15:34</td>\n",
       "    </tr>\n",
       "    <tr>\n",
       "      <th>3333</th>\n",
       "      <td>2016-03-15 21:36:20</td>\n",
       "      <td>10500</td>\n",
       "      <td>sedan</td>\n",
       "      <td>1955</td>\n",
       "      <td>manual</td>\n",
       "      <td>30</td>\n",
       "      <td>other</td>\n",
       "      <td>60000</td>\n",
       "      <td>0</td>\n",
       "      <td>petrol</td>\n",
       "      <td>ford</td>\n",
       "      <td>unknown</td>\n",
       "      <td>2016-03-15</td>\n",
       "      <td>0</td>\n",
       "      <td>53498</td>\n",
       "      <td>2016-04-07 08:16:11</td>\n",
       "    </tr>\n",
       "    <tr>\n",
       "      <th>6977</th>\n",
       "      <td>2016-03-24 08:37:22</td>\n",
       "      <td>135</td>\n",
       "      <td>unknown</td>\n",
       "      <td>1910</td>\n",
       "      <td>unknown</td>\n",
       "      <td>0</td>\n",
       "      <td>unknown</td>\n",
       "      <td>5000</td>\n",
       "      <td>0</td>\n",
       "      <td>unknown</td>\n",
       "      <td>opel</td>\n",
       "      <td>unknown</td>\n",
       "      <td>2016-03-24</td>\n",
       "      <td>0</td>\n",
       "      <td>19374</td>\n",
       "      <td>2016-04-06 20:46:08</td>\n",
       "    </tr>\n",
       "    <tr>\n",
       "      <th>10183</th>\n",
       "      <td>2016-03-27 13:59:08</td>\n",
       "      <td>1250</td>\n",
       "      <td>unknown</td>\n",
       "      <td>1910</td>\n",
       "      <td>unknown</td>\n",
       "      <td>0</td>\n",
       "      <td>other</td>\n",
       "      <td>5000</td>\n",
       "      <td>0</td>\n",
       "      <td>unknown</td>\n",
       "      <td>audi</td>\n",
       "      <td>unknown</td>\n",
       "      <td>2016-03-27</td>\n",
       "      <td>0</td>\n",
       "      <td>18445</td>\n",
       "      <td>2016-04-07 10:45:31</td>\n",
       "    </tr>\n",
       "    <tr>\n",
       "      <th>12087</th>\n",
       "      <td>2016-03-25 15:38:43</td>\n",
       "      <td>260</td>\n",
       "      <td>unknown</td>\n",
       "      <td>1960</td>\n",
       "      <td>unknown</td>\n",
       "      <td>0</td>\n",
       "      <td>kaefer</td>\n",
       "      <td>10000</td>\n",
       "      <td>0</td>\n",
       "      <td>unknown</td>\n",
       "      <td>volkswagen</td>\n",
       "      <td>unknown</td>\n",
       "      <td>2016-03-25</td>\n",
       "      <td>0</td>\n",
       "      <td>94315</td>\n",
       "      <td>2016-04-06 19:16:05</td>\n",
       "    </tr>\n",
       "    <tr>\n",
       "      <th>12993</th>\n",
       "      <td>2016-03-07 14:38:00</td>\n",
       "      <td>11000</td>\n",
       "      <td>other</td>\n",
       "      <td>1955</td>\n",
       "      <td>manual</td>\n",
       "      <td>40</td>\n",
       "      <td>unknown</td>\n",
       "      <td>50000</td>\n",
       "      <td>1</td>\n",
       "      <td>petrol</td>\n",
       "      <td>sonstige_autos</td>\n",
       "      <td>no</td>\n",
       "      <td>2016-03-07</td>\n",
       "      <td>0</td>\n",
       "      <td>59556</td>\n",
       "      <td>2016-03-14 06:44:36</td>\n",
       "    </tr>\n",
       "    <tr>\n",
       "      <th>13177</th>\n",
       "      <td>2016-03-19 13:45:25</td>\n",
       "      <td>2300</td>\n",
       "      <td>sedan</td>\n",
       "      <td>1958</td>\n",
       "      <td>manual</td>\n",
       "      <td>45</td>\n",
       "      <td>unknown</td>\n",
       "      <td>80000</td>\n",
       "      <td>1</td>\n",
       "      <td>petrol</td>\n",
       "      <td>sonstige_autos</td>\n",
       "      <td>unknown</td>\n",
       "      <td>2016-03-19</td>\n",
       "      <td>0</td>\n",
       "      <td>9600</td>\n",
       "      <td>2016-03-30 05:47:21</td>\n",
       "    </tr>\n",
       "    <tr>\n",
       "      <th>15414</th>\n",
       "      <td>2016-03-30 23:38:13</td>\n",
       "      <td>18000</td>\n",
       "      <td>sedan</td>\n",
       "      <td>1956</td>\n",
       "      <td>manual</td>\n",
       "      <td>30</td>\n",
       "      <td>unknown</td>\n",
       "      <td>150000</td>\n",
       "      <td>0</td>\n",
       "      <td>petrol</td>\n",
       "      <td>volkswagen</td>\n",
       "      <td>unknown</td>\n",
       "      <td>2016-03-30</td>\n",
       "      <td>0</td>\n",
       "      <td>82205</td>\n",
       "      <td>2016-04-05 23:17:35</td>\n",
       "    </tr>\n",
       "    <tr>\n",
       "      <th>16062</th>\n",
       "      <td>2016-03-29 23:42:16</td>\n",
       "      <td>190</td>\n",
       "      <td>unknown</td>\n",
       "      <td>1000</td>\n",
       "      <td>unknown</td>\n",
       "      <td>0</td>\n",
       "      <td>mondeo</td>\n",
       "      <td>5000</td>\n",
       "      <td>0</td>\n",
       "      <td>unknown</td>\n",
       "      <td>ford</td>\n",
       "      <td>unknown</td>\n",
       "      <td>2016-03-29</td>\n",
       "      <td>0</td>\n",
       "      <td>47166</td>\n",
       "      <td>2016-04-06 10:44:58</td>\n",
       "    </tr>\n",
       "    <tr>\n",
       "      <th>16408</th>\n",
       "      <td>2016-03-19 20:38:14</td>\n",
       "      <td>6890</td>\n",
       "      <td>bus</td>\n",
       "      <td>1960</td>\n",
       "      <td>unknown</td>\n",
       "      <td>0</td>\n",
       "      <td>unknown</td>\n",
       "      <td>150000</td>\n",
       "      <td>5</td>\n",
       "      <td>petrol</td>\n",
       "      <td>sonstige_autos</td>\n",
       "      <td>unknown</td>\n",
       "      <td>2016-03-19</td>\n",
       "      <td>0</td>\n",
       "      <td>8066</td>\n",
       "      <td>2016-04-07 08:44:39</td>\n",
       "    </tr>\n",
       "    <tr>\n",
       "      <th>16635</th>\n",
       "      <td>2016-03-09 10:54:11</td>\n",
       "      <td>9500</td>\n",
       "      <td>suv</td>\n",
       "      <td>1941</td>\n",
       "      <td>manual</td>\n",
       "      <td>57</td>\n",
       "      <td>unknown</td>\n",
       "      <td>40000</td>\n",
       "      <td>1</td>\n",
       "      <td>petrol</td>\n",
       "      <td>sonstige_autos</td>\n",
       "      <td>no</td>\n",
       "      <td>2016-03-09</td>\n",
       "      <td>0</td>\n",
       "      <td>59557</td>\n",
       "      <td>2016-03-12 21:16:29</td>\n",
       "    </tr>\n",
       "    <tr>\n",
       "      <th>16902</th>\n",
       "      <td>2016-04-01 10:54:58</td>\n",
       "      <td>19000</td>\n",
       "      <td>suv</td>\n",
       "      <td>1960</td>\n",
       "      <td>manual</td>\n",
       "      <td>22</td>\n",
       "      <td>unknown</td>\n",
       "      <td>60000</td>\n",
       "      <td>4</td>\n",
       "      <td>petrol</td>\n",
       "      <td>sonstige_autos</td>\n",
       "      <td>no</td>\n",
       "      <td>2016-04-01</td>\n",
       "      <td>0</td>\n",
       "      <td>80995</td>\n",
       "      <td>2016-04-07 07:46:11</td>\n",
       "    </tr>\n",
       "    <tr>\n",
       "      <th>17806</th>\n",
       "      <td>2016-03-19 17:53:13</td>\n",
       "      <td>17900</td>\n",
       "      <td>suv</td>\n",
       "      <td>1960</td>\n",
       "      <td>manual</td>\n",
       "      <td>30</td>\n",
       "      <td>other</td>\n",
       "      <td>60000</td>\n",
       "      <td>7</td>\n",
       "      <td>gasoline</td>\n",
       "      <td>mercedes_benz</td>\n",
       "      <td>unknown</td>\n",
       "      <td>2016-03-19</td>\n",
       "      <td>0</td>\n",
       "      <td>66914</td>\n",
       "      <td>2016-04-03 03:44:33</td>\n",
       "    </tr>\n",
       "    <tr>\n",
       "      <th>18224</th>\n",
       "      <td>2016-03-09 17:49:44</td>\n",
       "      <td>7999</td>\n",
       "      <td>unknown</td>\n",
       "      <td>1500</td>\n",
       "      <td>manual</td>\n",
       "      <td>224</td>\n",
       "      <td>impreza</td>\n",
       "      <td>5000</td>\n",
       "      <td>3</td>\n",
       "      <td>unknown</td>\n",
       "      <td>subaru</td>\n",
       "      <td>unknown</td>\n",
       "      <td>2016-03-09</td>\n",
       "      <td>0</td>\n",
       "      <td>53577</td>\n",
       "      <td>2016-03-15 05:15:17</td>\n",
       "    </tr>\n",
       "    <tr>\n",
       "      <th>19106</th>\n",
       "      <td>2016-03-10 22:36:45</td>\n",
       "      <td>1500</td>\n",
       "      <td>small</td>\n",
       "      <td>1960</td>\n",
       "      <td>manual</td>\n",
       "      <td>21</td>\n",
       "      <td>other</td>\n",
       "      <td>5000</td>\n",
       "      <td>1</td>\n",
       "      <td>petrol</td>\n",
       "      <td>renault</td>\n",
       "      <td>yes</td>\n",
       "      <td>2016-03-10</td>\n",
       "      <td>0</td>\n",
       "      <td>66540</td>\n",
       "      <td>2016-03-17 07:16:02</td>\n",
       "    </tr>\n",
       "    <tr>\n",
       "      <th>22607</th>\n",
       "      <td>2016-03-21 02:36:19</td>\n",
       "      <td>9900</td>\n",
       "      <td>sedan</td>\n",
       "      <td>1960</td>\n",
       "      <td>manual</td>\n",
       "      <td>60</td>\n",
       "      <td>other</td>\n",
       "      <td>50000</td>\n",
       "      <td>1</td>\n",
       "      <td>petrol</td>\n",
       "      <td>volvo</td>\n",
       "      <td>no</td>\n",
       "      <td>2016-03-21</td>\n",
       "      <td>0</td>\n",
       "      <td>53757</td>\n",
       "      <td>2016-04-06 01:49:34</td>\n",
       "    </tr>\n",
       "    <tr>\n",
       "      <th>22621</th>\n",
       "      <td>2016-03-23 11:37:57</td>\n",
       "      <td>14000</td>\n",
       "      <td>sedan</td>\n",
       "      <td>1929</td>\n",
       "      <td>manual</td>\n",
       "      <td>30</td>\n",
       "      <td>unknown</td>\n",
       "      <td>5000</td>\n",
       "      <td>7</td>\n",
       "      <td>petrol</td>\n",
       "      <td>sonstige_autos</td>\n",
       "      <td>unknown</td>\n",
       "      <td>2016-03-23</td>\n",
       "      <td>0</td>\n",
       "      <td>90475</td>\n",
       "      <td>2016-04-05 11:18:18</td>\n",
       "    </tr>\n",
       "    <tr>\n",
       "      <th>23059</th>\n",
       "      <td>2016-03-12 20:47:36</td>\n",
       "      <td>16900</td>\n",
       "      <td>convertible</td>\n",
       "      <td>1960</td>\n",
       "      <td>manual</td>\n",
       "      <td>44</td>\n",
       "      <td>unknown</td>\n",
       "      <td>5000</td>\n",
       "      <td>7</td>\n",
       "      <td>petrol</td>\n",
       "      <td>sonstige_autos</td>\n",
       "      <td>no</td>\n",
       "      <td>2016-03-12</td>\n",
       "      <td>0</td>\n",
       "      <td>27777</td>\n",
       "      <td>2016-03-12 20:47:36</td>\n",
       "    </tr>\n",
       "  </tbody>\n",
       "</table>\n",
       "</div>"
      ],
      "text/plain": [
       "             date_crawled  price vehicle_type  registration_year  gearbox  \\\n",
       "15    2016-03-11 21:39:15    450        small               1910  unknown   \n",
       "1928  2016-03-25 15:58:21   7000          suv               1945   manual   \n",
       "2273  2016-03-15 21:44:32   1800  convertible               1925  unknown   \n",
       "3333  2016-03-15 21:36:20  10500        sedan               1955   manual   \n",
       "6977  2016-03-24 08:37:22    135      unknown               1910  unknown   \n",
       "10183 2016-03-27 13:59:08   1250      unknown               1910  unknown   \n",
       "12087 2016-03-25 15:38:43    260      unknown               1960  unknown   \n",
       "12993 2016-03-07 14:38:00  11000        other               1955   manual   \n",
       "13177 2016-03-19 13:45:25   2300        sedan               1958   manual   \n",
       "15414 2016-03-30 23:38:13  18000        sedan               1956   manual   \n",
       "16062 2016-03-29 23:42:16    190      unknown               1000  unknown   \n",
       "16408 2016-03-19 20:38:14   6890          bus               1960  unknown   \n",
       "16635 2016-03-09 10:54:11   9500          suv               1941   manual   \n",
       "16902 2016-04-01 10:54:58  19000          suv               1960   manual   \n",
       "17806 2016-03-19 17:53:13  17900          suv               1960   manual   \n",
       "18224 2016-03-09 17:49:44   7999      unknown               1500   manual   \n",
       "19106 2016-03-10 22:36:45   1500        small               1960   manual   \n",
       "22607 2016-03-21 02:36:19   9900        sedan               1960   manual   \n",
       "22621 2016-03-23 11:37:57  14000        sedan               1929   manual   \n",
       "23059 2016-03-12 20:47:36  16900  convertible               1960   manual   \n",
       "\n",
       "       power    model  kilometer  registration_month fuel_type  \\\n",
       "15         0       ka       5000                   0    petrol   \n",
       "1928      48    other     150000                   2    petrol   \n",
       "2273       0  unknown       5000                   1   unknown   \n",
       "3333      30    other      60000                   0    petrol   \n",
       "6977       0  unknown       5000                   0   unknown   \n",
       "10183      0    other       5000                   0   unknown   \n",
       "12087      0   kaefer      10000                   0   unknown   \n",
       "12993     40  unknown      50000                   1    petrol   \n",
       "13177     45  unknown      80000                   1    petrol   \n",
       "15414     30  unknown     150000                   0    petrol   \n",
       "16062      0   mondeo       5000                   0   unknown   \n",
       "16408      0  unknown     150000                   5    petrol   \n",
       "16635     57  unknown      40000                   1    petrol   \n",
       "16902     22  unknown      60000                   4    petrol   \n",
       "17806     30    other      60000                   7  gasoline   \n",
       "18224    224  impreza       5000                   3   unknown   \n",
       "19106     21    other       5000                   1    petrol   \n",
       "22607     60    other      50000                   1    petrol   \n",
       "22621     30  unknown       5000                   7    petrol   \n",
       "23059     44  unknown       5000                   7    petrol   \n",
       "\n",
       "                brand repaired date_created  number_of_pictures  postal_code  \\\n",
       "15               ford  unknown   2016-03-11                   0        24148   \n",
       "1928       volkswagen       no   2016-03-25                   0        58135   \n",
       "2273   sonstige_autos       no   2016-03-15                   0        79288   \n",
       "3333             ford  unknown   2016-03-15                   0        53498   \n",
       "6977             opel  unknown   2016-03-24                   0        19374   \n",
       "10183            audi  unknown   2016-03-27                   0        18445   \n",
       "12087      volkswagen  unknown   2016-03-25                   0        94315   \n",
       "12993  sonstige_autos       no   2016-03-07                   0        59556   \n",
       "13177  sonstige_autos  unknown   2016-03-19                   0         9600   \n",
       "15414      volkswagen  unknown   2016-03-30                   0        82205   \n",
       "16062            ford  unknown   2016-03-29                   0        47166   \n",
       "16408  sonstige_autos  unknown   2016-03-19                   0         8066   \n",
       "16635  sonstige_autos       no   2016-03-09                   0        59557   \n",
       "16902  sonstige_autos       no   2016-04-01                   0        80995   \n",
       "17806   mercedes_benz  unknown   2016-03-19                   0        66914   \n",
       "18224          subaru  unknown   2016-03-09                   0        53577   \n",
       "19106         renault      yes   2016-03-10                   0        66540   \n",
       "22607           volvo       no   2016-03-21                   0        53757   \n",
       "22621  sonstige_autos  unknown   2016-03-23                   0        90475   \n",
       "23059  sonstige_autos       no   2016-03-12                   0        27777   \n",
       "\n",
       "                last_seen  \n",
       "15    2016-03-19 08:46:47  \n",
       "1928  2016-03-25 15:58:21  \n",
       "2273  2016-04-07 05:15:34  \n",
       "3333  2016-04-07 08:16:11  \n",
       "6977  2016-04-06 20:46:08  \n",
       "10183 2016-04-07 10:45:31  \n",
       "12087 2016-04-06 19:16:05  \n",
       "12993 2016-03-14 06:44:36  \n",
       "13177 2016-03-30 05:47:21  \n",
       "15414 2016-04-05 23:17:35  \n",
       "16062 2016-04-06 10:44:58  \n",
       "16408 2016-04-07 08:44:39  \n",
       "16635 2016-03-12 21:16:29  \n",
       "16902 2016-04-07 07:46:11  \n",
       "17806 2016-04-03 03:44:33  \n",
       "18224 2016-03-15 05:15:17  \n",
       "19106 2016-03-17 07:16:02  \n",
       "22607 2016-04-06 01:49:34  \n",
       "22621 2016-04-05 11:18:18  \n",
       "23059 2016-03-12 20:47:36  "
      ]
     },
     "execution_count": 15,
     "metadata": {},
     "output_type": "execute_result"
    }
   ],
   "source": [
    "data_main.query('registration_year <= 1960').head(20)"
   ]
  },
  {
   "cell_type": "markdown",
   "metadata": {},
   "source": [
    "Уберем строки с этими значениями, так как указанные модели машин якобы этих годов до 1960 года на самом деле выпускались в 2000-х годах. Тем более нам нужно рассматривать более свежий диапазон для автомобилей"
   ]
  },
  {
   "cell_type": "code",
   "execution_count": 16,
   "metadata": {},
   "outputs": [],
   "source": [
    "data_main = data_main.query('registration_year <= 2025 and registration_year > 1960')"
   ]
  },
  {
   "cell_type": "markdown",
   "metadata": {},
   "source": [
    "Следующим шагом проверим объекты с мощностью `power` более `2000`, так как всего несколько машин в мире имеют такую мощность"
   ]
  },
  {
   "cell_type": "code",
   "execution_count": 17,
   "metadata": {},
   "outputs": [
    {
     "data": {
      "text/html": [
       "<div>\n",
       "<style scoped>\n",
       "    .dataframe tbody tr th:only-of-type {\n",
       "        vertical-align: middle;\n",
       "    }\n",
       "\n",
       "    .dataframe tbody tr th {\n",
       "        vertical-align: top;\n",
       "    }\n",
       "\n",
       "    .dataframe thead th {\n",
       "        text-align: right;\n",
       "    }\n",
       "</style>\n",
       "<table border=\"1\" class=\"dataframe\">\n",
       "  <thead>\n",
       "    <tr style=\"text-align: right;\">\n",
       "      <th></th>\n",
       "      <th>date_crawled</th>\n",
       "      <th>price</th>\n",
       "      <th>vehicle_type</th>\n",
       "      <th>registration_year</th>\n",
       "      <th>gearbox</th>\n",
       "      <th>power</th>\n",
       "      <th>model</th>\n",
       "      <th>kilometer</th>\n",
       "      <th>registration_month</th>\n",
       "      <th>fuel_type</th>\n",
       "      <th>brand</th>\n",
       "      <th>repaired</th>\n",
       "      <th>date_created</th>\n",
       "      <th>number_of_pictures</th>\n",
       "      <th>postal_code</th>\n",
       "      <th>last_seen</th>\n",
       "    </tr>\n",
       "  </thead>\n",
       "  <tbody>\n",
       "    <tr>\n",
       "      <th>7661</th>\n",
       "      <td>2016-04-02 19:25:25</td>\n",
       "      <td>1499</td>\n",
       "      <td>small</td>\n",
       "      <td>1999</td>\n",
       "      <td>manual</td>\n",
       "      <td>7515</td>\n",
       "      <td>lupo</td>\n",
       "      <td>150000</td>\n",
       "      <td>4</td>\n",
       "      <td>petrol</td>\n",
       "      <td>volkswagen</td>\n",
       "      <td>unknown</td>\n",
       "      <td>2016-04-02</td>\n",
       "      <td>0</td>\n",
       "      <td>65830</td>\n",
       "      <td>2016-04-06 11:46:49</td>\n",
       "    </tr>\n",
       "    <tr>\n",
       "      <th>19092</th>\n",
       "      <td>2016-03-20 17:54:04</td>\n",
       "      <td>9750</td>\n",
       "      <td>wagon</td>\n",
       "      <td>2005</td>\n",
       "      <td>auto</td>\n",
       "      <td>2729</td>\n",
       "      <td>5er</td>\n",
       "      <td>150000</td>\n",
       "      <td>7</td>\n",
       "      <td>gasoline</td>\n",
       "      <td>bmw</td>\n",
       "      <td>no</td>\n",
       "      <td>2016-03-20</td>\n",
       "      <td>0</td>\n",
       "      <td>21376</td>\n",
       "      <td>2016-03-23 02:48:53</td>\n",
       "    </tr>\n",
       "    <tr>\n",
       "      <th>25232</th>\n",
       "      <td>2016-03-28 19:57:39</td>\n",
       "      <td>10900</td>\n",
       "      <td>bus</td>\n",
       "      <td>2009</td>\n",
       "      <td>manual</td>\n",
       "      <td>10520</td>\n",
       "      <td>caddy</td>\n",
       "      <td>150000</td>\n",
       "      <td>6</td>\n",
       "      <td>gasoline</td>\n",
       "      <td>volkswagen</td>\n",
       "      <td>no</td>\n",
       "      <td>2016-03-28</td>\n",
       "      <td>0</td>\n",
       "      <td>36272</td>\n",
       "      <td>2016-04-07 02:47:02</td>\n",
       "    </tr>\n",
       "    <tr>\n",
       "      <th>33952</th>\n",
       "      <td>2016-03-09 11:37:03</td>\n",
       "      <td>3740</td>\n",
       "      <td>small</td>\n",
       "      <td>2006</td>\n",
       "      <td>manual</td>\n",
       "      <td>6920</td>\n",
       "      <td>aygo</td>\n",
       "      <td>90000</td>\n",
       "      <td>10</td>\n",
       "      <td>unknown</td>\n",
       "      <td>toyota</td>\n",
       "      <td>no</td>\n",
       "      <td>2016-03-09</td>\n",
       "      <td>0</td>\n",
       "      <td>94116</td>\n",
       "      <td>2016-03-17 05:16:32</td>\n",
       "    </tr>\n",
       "    <tr>\n",
       "      <th>36206</th>\n",
       "      <td>2016-04-01 01:56:06</td>\n",
       "      <td>5400</td>\n",
       "      <td>unknown</td>\n",
       "      <td>2017</td>\n",
       "      <td>manual</td>\n",
       "      <td>2017</td>\n",
       "      <td>transporter</td>\n",
       "      <td>150000</td>\n",
       "      <td>8</td>\n",
       "      <td>gasoline</td>\n",
       "      <td>volkswagen</td>\n",
       "      <td>unknown</td>\n",
       "      <td>2016-03-31</td>\n",
       "      <td>0</td>\n",
       "      <td>10178</td>\n",
       "      <td>2016-04-05 01:18:24</td>\n",
       "    </tr>\n",
       "    <tr>\n",
       "      <th>44520</th>\n",
       "      <td>2016-03-10 22:37:21</td>\n",
       "      <td>2500</td>\n",
       "      <td>convertible</td>\n",
       "      <td>1998</td>\n",
       "      <td>manual</td>\n",
       "      <td>7512</td>\n",
       "      <td>golf</td>\n",
       "      <td>150000</td>\n",
       "      <td>6</td>\n",
       "      <td>unknown</td>\n",
       "      <td>volkswagen</td>\n",
       "      <td>unknown</td>\n",
       "      <td>2016-03-10</td>\n",
       "      <td>0</td>\n",
       "      <td>68239</td>\n",
       "      <td>2016-04-05 15:17:50</td>\n",
       "    </tr>\n",
       "    <tr>\n",
       "      <th>45053</th>\n",
       "      <td>2016-04-07 07:36:38</td>\n",
       "      <td>15800</td>\n",
       "      <td>convertible</td>\n",
       "      <td>2014</td>\n",
       "      <td>auto</td>\n",
       "      <td>10218</td>\n",
       "      <td>fortwo</td>\n",
       "      <td>30000</td>\n",
       "      <td>3</td>\n",
       "      <td>petrol</td>\n",
       "      <td>smart</td>\n",
       "      <td>unknown</td>\n",
       "      <td>2016-04-06</td>\n",
       "      <td>0</td>\n",
       "      <td>81373</td>\n",
       "      <td>2016-04-07 07:36:38</td>\n",
       "    </tr>\n",
       "    <tr>\n",
       "      <th>45216</th>\n",
       "      <td>2016-03-28 11:39:17</td>\n",
       "      <td>1690</td>\n",
       "      <td>sedan</td>\n",
       "      <td>1999</td>\n",
       "      <td>manual</td>\n",
       "      <td>7544</td>\n",
       "      <td>golf</td>\n",
       "      <td>125000</td>\n",
       "      <td>12</td>\n",
       "      <td>petrol</td>\n",
       "      <td>volkswagen</td>\n",
       "      <td>unknown</td>\n",
       "      <td>2016-03-28</td>\n",
       "      <td>0</td>\n",
       "      <td>22305</td>\n",
       "      <td>2016-03-28 11:39:17</td>\n",
       "    </tr>\n",
       "    <tr>\n",
       "      <th>53158</th>\n",
       "      <td>2016-03-28 08:36:44</td>\n",
       "      <td>1200</td>\n",
       "      <td>small</td>\n",
       "      <td>2001</td>\n",
       "      <td>manual</td>\n",
       "      <td>5411</td>\n",
       "      <td>seicento</td>\n",
       "      <td>150000</td>\n",
       "      <td>2</td>\n",
       "      <td>unknown</td>\n",
       "      <td>fiat</td>\n",
       "      <td>no</td>\n",
       "      <td>2016-03-28</td>\n",
       "      <td>0</td>\n",
       "      <td>74357</td>\n",
       "      <td>2016-03-28 09:38:02</td>\n",
       "    </tr>\n",
       "    <tr>\n",
       "      <th>54607</th>\n",
       "      <td>2016-03-18 11:47:40</td>\n",
       "      <td>100</td>\n",
       "      <td>small</td>\n",
       "      <td>1996</td>\n",
       "      <td>manual</td>\n",
       "      <td>3750</td>\n",
       "      <td>polo</td>\n",
       "      <td>125000</td>\n",
       "      <td>4</td>\n",
       "      <td>petrol</td>\n",
       "      <td>volkswagen</td>\n",
       "      <td>yes</td>\n",
       "      <td>2016-03-18</td>\n",
       "      <td>0</td>\n",
       "      <td>12489</td>\n",
       "      <td>2016-04-03 21:17:20</td>\n",
       "    </tr>\n",
       "  </tbody>\n",
       "</table>\n",
       "</div>"
      ],
      "text/plain": [
       "             date_crawled  price vehicle_type  registration_year gearbox  \\\n",
       "7661  2016-04-02 19:25:25   1499        small               1999  manual   \n",
       "19092 2016-03-20 17:54:04   9750        wagon               2005    auto   \n",
       "25232 2016-03-28 19:57:39  10900          bus               2009  manual   \n",
       "33952 2016-03-09 11:37:03   3740        small               2006  manual   \n",
       "36206 2016-04-01 01:56:06   5400      unknown               2017  manual   \n",
       "44520 2016-03-10 22:37:21   2500  convertible               1998  manual   \n",
       "45053 2016-04-07 07:36:38  15800  convertible               2014    auto   \n",
       "45216 2016-03-28 11:39:17   1690        sedan               1999  manual   \n",
       "53158 2016-03-28 08:36:44   1200        small               2001  manual   \n",
       "54607 2016-03-18 11:47:40    100        small               1996  manual   \n",
       "\n",
       "       power        model  kilometer  registration_month fuel_type  \\\n",
       "7661    7515         lupo     150000                   4    petrol   \n",
       "19092   2729          5er     150000                   7  gasoline   \n",
       "25232  10520        caddy     150000                   6  gasoline   \n",
       "33952   6920         aygo      90000                  10   unknown   \n",
       "36206   2017  transporter     150000                   8  gasoline   \n",
       "44520   7512         golf     150000                   6   unknown   \n",
       "45053  10218       fortwo      30000                   3    petrol   \n",
       "45216   7544         golf     125000                  12    petrol   \n",
       "53158   5411     seicento     150000                   2   unknown   \n",
       "54607   3750         polo     125000                   4    petrol   \n",
       "\n",
       "            brand repaired date_created  number_of_pictures  postal_code  \\\n",
       "7661   volkswagen  unknown   2016-04-02                   0        65830   \n",
       "19092         bmw       no   2016-03-20                   0        21376   \n",
       "25232  volkswagen       no   2016-03-28                   0        36272   \n",
       "33952      toyota       no   2016-03-09                   0        94116   \n",
       "36206  volkswagen  unknown   2016-03-31                   0        10178   \n",
       "44520  volkswagen  unknown   2016-03-10                   0        68239   \n",
       "45053       smart  unknown   2016-04-06                   0        81373   \n",
       "45216  volkswagen  unknown   2016-03-28                   0        22305   \n",
       "53158        fiat       no   2016-03-28                   0        74357   \n",
       "54607  volkswagen      yes   2016-03-18                   0        12489   \n",
       "\n",
       "                last_seen  \n",
       "7661  2016-04-06 11:46:49  \n",
       "19092 2016-03-23 02:48:53  \n",
       "25232 2016-04-07 02:47:02  \n",
       "33952 2016-03-17 05:16:32  \n",
       "36206 2016-04-05 01:18:24  \n",
       "44520 2016-04-05 15:17:50  \n",
       "45053 2016-04-07 07:36:38  \n",
       "45216 2016-03-28 11:39:17  \n",
       "53158 2016-03-28 09:38:02  \n",
       "54607 2016-04-03 21:17:20  "
      ]
     },
     "execution_count": 17,
     "metadata": {},
     "output_type": "execute_result"
    }
   ],
   "source": [
    "data_main.query('power > 2000').head(10)"
   ]
  },
  {
   "cell_type": "markdown",
   "metadata": {},
   "source": [
    "Дополнительно посмотрим, есть ли в столбце тип автомобиля категория грузовой, так как тягачи могут иметь мощность более 3000 л.с."
   ]
  },
  {
   "cell_type": "code",
   "execution_count": 18,
   "metadata": {},
   "outputs": [
    {
     "data": {
      "text/plain": [
       "small          28\n",
       "sedan          20\n",
       "wagon          20\n",
       "unknown        16\n",
       "bus             8\n",
       "other           6\n",
       "convertible     5\n",
       "coupe           5\n",
       "suv             2\n",
       "Name: vehicle_type, dtype: int64"
      ]
     },
     "execution_count": 18,
     "metadata": {},
     "output_type": "execute_result"
    }
   ],
   "source": [
    "data_main.query('power > 2000')['vehicle_type'].value_counts()"
   ]
  },
  {
   "cell_type": "markdown",
   "metadata": {},
   "source": [
    "Такого типа нет, поэтому характеристики автомобилей аномальные, удалим их."
   ]
  },
  {
   "cell_type": "code",
   "execution_count": 19,
   "metadata": {},
   "outputs": [],
   "source": [
    "data_main = data_main.query('power < 2000')"
   ]
  },
  {
   "cell_type": "markdown",
   "metadata": {},
   "source": [
    "Также посмотрим количество автомобилей мощностью более `700`."
   ]
  },
  {
   "cell_type": "code",
   "execution_count": 20,
   "metadata": {},
   "outputs": [
    {
     "data": {
      "text/plain": [
       "204"
      ]
     },
     "execution_count": 20,
     "metadata": {},
     "output_type": "execute_result"
    }
   ],
   "source": [
    "data_main.query('power > 700').shape[0]"
   ]
  },
  {
   "cell_type": "markdown",
   "metadata": {},
   "source": [
    "Отсортируем их по цене по убыванию"
   ]
  },
  {
   "cell_type": "code",
   "execution_count": 21,
   "metadata": {},
   "outputs": [
    {
     "data": {
      "text/html": [
       "<div>\n",
       "<style scoped>\n",
       "    .dataframe tbody tr th:only-of-type {\n",
       "        vertical-align: middle;\n",
       "    }\n",
       "\n",
       "    .dataframe tbody tr th {\n",
       "        vertical-align: top;\n",
       "    }\n",
       "\n",
       "    .dataframe thead th {\n",
       "        text-align: right;\n",
       "    }\n",
       "</style>\n",
       "<table border=\"1\" class=\"dataframe\">\n",
       "  <thead>\n",
       "    <tr style=\"text-align: right;\">\n",
       "      <th></th>\n",
       "      <th>date_crawled</th>\n",
       "      <th>price</th>\n",
       "      <th>vehicle_type</th>\n",
       "      <th>registration_year</th>\n",
       "      <th>gearbox</th>\n",
       "      <th>power</th>\n",
       "      <th>model</th>\n",
       "      <th>kilometer</th>\n",
       "      <th>registration_month</th>\n",
       "      <th>fuel_type</th>\n",
       "      <th>brand</th>\n",
       "      <th>repaired</th>\n",
       "      <th>date_created</th>\n",
       "      <th>number_of_pictures</th>\n",
       "      <th>postal_code</th>\n",
       "      <th>last_seen</th>\n",
       "    </tr>\n",
       "  </thead>\n",
       "  <tbody>\n",
       "    <tr>\n",
       "      <th>84226</th>\n",
       "      <td>2016-03-06 15:48:33</td>\n",
       "      <td>18550</td>\n",
       "      <td>sedan</td>\n",
       "      <td>2013</td>\n",
       "      <td>manual</td>\n",
       "      <td>1288</td>\n",
       "      <td>c_klasse</td>\n",
       "      <td>90000</td>\n",
       "      <td>11</td>\n",
       "      <td>gasoline</td>\n",
       "      <td>mercedes_benz</td>\n",
       "      <td>no</td>\n",
       "      <td>2016-03-06</td>\n",
       "      <td>0</td>\n",
       "      <td>56729</td>\n",
       "      <td>2016-04-06 20:45:45</td>\n",
       "    </tr>\n",
       "    <tr>\n",
       "      <th>46941</th>\n",
       "      <td>2016-04-06 15:25:37</td>\n",
       "      <td>15000</td>\n",
       "      <td>coupe</td>\n",
       "      <td>2013</td>\n",
       "      <td>auto</td>\n",
       "      <td>751</td>\n",
       "      <td>unknown</td>\n",
       "      <td>10000</td>\n",
       "      <td>1</td>\n",
       "      <td>petrol</td>\n",
       "      <td>sonstige_autos</td>\n",
       "      <td>no</td>\n",
       "      <td>2016-04-06</td>\n",
       "      <td>0</td>\n",
       "      <td>60386</td>\n",
       "      <td>2016-04-06 15:25:37</td>\n",
       "    </tr>\n",
       "    <tr>\n",
       "      <th>192079</th>\n",
       "      <td>2016-03-31 12:42:12</td>\n",
       "      <td>13200</td>\n",
       "      <td>small</td>\n",
       "      <td>2013</td>\n",
       "      <td>manual</td>\n",
       "      <td>871</td>\n",
       "      <td>other</td>\n",
       "      <td>20000</td>\n",
       "      <td>1</td>\n",
       "      <td>petrol</td>\n",
       "      <td>opel</td>\n",
       "      <td>no</td>\n",
       "      <td>2016-03-31</td>\n",
       "      <td>0</td>\n",
       "      <td>26817</td>\n",
       "      <td>2016-04-06 04:46:46</td>\n",
       "    </tr>\n",
       "    <tr>\n",
       "      <th>266387</th>\n",
       "      <td>2016-04-03 17:37:05</td>\n",
       "      <td>12800</td>\n",
       "      <td>suv</td>\n",
       "      <td>2008</td>\n",
       "      <td>manual</td>\n",
       "      <td>1701</td>\n",
       "      <td>tiguan</td>\n",
       "      <td>150000</td>\n",
       "      <td>12</td>\n",
       "      <td>gasoline</td>\n",
       "      <td>volkswagen</td>\n",
       "      <td>no</td>\n",
       "      <td>2016-04-03</td>\n",
       "      <td>0</td>\n",
       "      <td>51645</td>\n",
       "      <td>2016-04-05 17:26:26</td>\n",
       "    </tr>\n",
       "    <tr>\n",
       "      <th>327247</th>\n",
       "      <td>2016-03-30 19:58:09</td>\n",
       "      <td>12000</td>\n",
       "      <td>wagon</td>\n",
       "      <td>2008</td>\n",
       "      <td>manual</td>\n",
       "      <td>1700</td>\n",
       "      <td>c_klasse</td>\n",
       "      <td>150000</td>\n",
       "      <td>8</td>\n",
       "      <td>gasoline</td>\n",
       "      <td>mercedes_benz</td>\n",
       "      <td>no</td>\n",
       "      <td>2016-03-30</td>\n",
       "      <td>0</td>\n",
       "      <td>81241</td>\n",
       "      <td>2016-04-07 11:45:58</td>\n",
       "    </tr>\n",
       "    <tr>\n",
       "      <th>104463</th>\n",
       "      <td>2016-03-28 23:45:56</td>\n",
       "      <td>11399</td>\n",
       "      <td>unknown</td>\n",
       "      <td>1995</td>\n",
       "      <td>manual</td>\n",
       "      <td>1995</td>\n",
       "      <td>unknown</td>\n",
       "      <td>150000</td>\n",
       "      <td>12</td>\n",
       "      <td>gasoline</td>\n",
       "      <td>bmw</td>\n",
       "      <td>unknown</td>\n",
       "      <td>2016-03-28</td>\n",
       "      <td>0</td>\n",
       "      <td>90459</td>\n",
       "      <td>2016-04-07 09:45:19</td>\n",
       "    </tr>\n",
       "    <tr>\n",
       "      <th>221057</th>\n",
       "      <td>2016-03-20 17:40:16</td>\n",
       "      <td>11000</td>\n",
       "      <td>wagon</td>\n",
       "      <td>2010</td>\n",
       "      <td>manual</td>\n",
       "      <td>1401</td>\n",
       "      <td>unknown</td>\n",
       "      <td>70000</td>\n",
       "      <td>11</td>\n",
       "      <td>petrol</td>\n",
       "      <td>opel</td>\n",
       "      <td>unknown</td>\n",
       "      <td>2016-03-20</td>\n",
       "      <td>0</td>\n",
       "      <td>10315</td>\n",
       "      <td>2016-04-01 02:47:29</td>\n",
       "    </tr>\n",
       "    <tr>\n",
       "      <th>122890</th>\n",
       "      <td>2016-03-05 18:54:13</td>\n",
       "      <td>11000</td>\n",
       "      <td>coupe</td>\n",
       "      <td>2002</td>\n",
       "      <td>manual</td>\n",
       "      <td>800</td>\n",
       "      <td>unknown</td>\n",
       "      <td>150000</td>\n",
       "      <td>11</td>\n",
       "      <td>unknown</td>\n",
       "      <td>opel</td>\n",
       "      <td>unknown</td>\n",
       "      <td>2016-03-05</td>\n",
       "      <td>0</td>\n",
       "      <td>26721</td>\n",
       "      <td>2016-04-07 03:46:25</td>\n",
       "    </tr>\n",
       "    <tr>\n",
       "      <th>178306</th>\n",
       "      <td>2016-03-20 22:36:20</td>\n",
       "      <td>10500</td>\n",
       "      <td>suv</td>\n",
       "      <td>2007</td>\n",
       "      <td>auto</td>\n",
       "      <td>1521</td>\n",
       "      <td>rav</td>\n",
       "      <td>125000</td>\n",
       "      <td>6</td>\n",
       "      <td>petrol</td>\n",
       "      <td>toyota</td>\n",
       "      <td>no</td>\n",
       "      <td>2016-03-20</td>\n",
       "      <td>0</td>\n",
       "      <td>58455</td>\n",
       "      <td>2016-03-20 22:36:20</td>\n",
       "    </tr>\n",
       "    <tr>\n",
       "      <th>222981</th>\n",
       "      <td>2016-03-11 16:53:35</td>\n",
       "      <td>10000</td>\n",
       "      <td>bus</td>\n",
       "      <td>2010</td>\n",
       "      <td>manual</td>\n",
       "      <td>1021</td>\n",
       "      <td>transporter</td>\n",
       "      <td>125000</td>\n",
       "      <td>12</td>\n",
       "      <td>gasoline</td>\n",
       "      <td>volkswagen</td>\n",
       "      <td>no</td>\n",
       "      <td>2016-03-11</td>\n",
       "      <td>0</td>\n",
       "      <td>13156</td>\n",
       "      <td>2016-03-16 04:15:18</td>\n",
       "    </tr>\n",
       "    <tr>\n",
       "      <th>341299</th>\n",
       "      <td>2016-03-07 16:42:25</td>\n",
       "      <td>10000</td>\n",
       "      <td>wagon</td>\n",
       "      <td>2005</td>\n",
       "      <td>auto</td>\n",
       "      <td>1631</td>\n",
       "      <td>a4</td>\n",
       "      <td>150000</td>\n",
       "      <td>9</td>\n",
       "      <td>gasoline</td>\n",
       "      <td>audi</td>\n",
       "      <td>unknown</td>\n",
       "      <td>2016-03-07</td>\n",
       "      <td>0</td>\n",
       "      <td>18311</td>\n",
       "      <td>2016-03-29 09:15:42</td>\n",
       "    </tr>\n",
       "    <tr>\n",
       "      <th>164518</th>\n",
       "      <td>2016-03-12 18:39:00</td>\n",
       "      <td>9988</td>\n",
       "      <td>convertible</td>\n",
       "      <td>2006</td>\n",
       "      <td>manual</td>\n",
       "      <td>1598</td>\n",
       "      <td>cooper</td>\n",
       "      <td>50000</td>\n",
       "      <td>6</td>\n",
       "      <td>petrol</td>\n",
       "      <td>mini</td>\n",
       "      <td>no</td>\n",
       "      <td>2016-03-12</td>\n",
       "      <td>0</td>\n",
       "      <td>10409</td>\n",
       "      <td>2016-04-07 11:16:42</td>\n",
       "    </tr>\n",
       "    <tr>\n",
       "      <th>310883</th>\n",
       "      <td>2016-03-24 11:51:57</td>\n",
       "      <td>9900</td>\n",
       "      <td>bus</td>\n",
       "      <td>2011</td>\n",
       "      <td>manual</td>\n",
       "      <td>1400</td>\n",
       "      <td>touran</td>\n",
       "      <td>150000</td>\n",
       "      <td>1</td>\n",
       "      <td>unknown</td>\n",
       "      <td>volkswagen</td>\n",
       "      <td>no</td>\n",
       "      <td>2016-03-24</td>\n",
       "      <td>0</td>\n",
       "      <td>67067</td>\n",
       "      <td>2016-04-01 06:18:26</td>\n",
       "    </tr>\n",
       "    <tr>\n",
       "      <th>32784</th>\n",
       "      <td>2016-03-22 14:58:27</td>\n",
       "      <td>9500</td>\n",
       "      <td>bus</td>\n",
       "      <td>1986</td>\n",
       "      <td>auto</td>\n",
       "      <td>1659</td>\n",
       "      <td>other</td>\n",
       "      <td>40000</td>\n",
       "      <td>12</td>\n",
       "      <td>petrol</td>\n",
       "      <td>chevrolet</td>\n",
       "      <td>no</td>\n",
       "      <td>2016-03-22</td>\n",
       "      <td>0</td>\n",
       "      <td>56564</td>\n",
       "      <td>2016-04-07 03:46:46</td>\n",
       "    </tr>\n",
       "    <tr>\n",
       "      <th>161428</th>\n",
       "      <td>2016-03-14 13:58:16</td>\n",
       "      <td>9500</td>\n",
       "      <td>sedan</td>\n",
       "      <td>2004</td>\n",
       "      <td>auto</td>\n",
       "      <td>1771</td>\n",
       "      <td>e_klasse</td>\n",
       "      <td>70000</td>\n",
       "      <td>9</td>\n",
       "      <td>gasoline</td>\n",
       "      <td>mercedes_benz</td>\n",
       "      <td>unknown</td>\n",
       "      <td>2016-03-14</td>\n",
       "      <td>0</td>\n",
       "      <td>50859</td>\n",
       "      <td>2016-03-31 00:45:52</td>\n",
       "    </tr>\n",
       "  </tbody>\n",
       "</table>\n",
       "</div>"
      ],
      "text/plain": [
       "              date_crawled  price vehicle_type  registration_year gearbox  \\\n",
       "84226  2016-03-06 15:48:33  18550        sedan               2013  manual   \n",
       "46941  2016-04-06 15:25:37  15000        coupe               2013    auto   \n",
       "192079 2016-03-31 12:42:12  13200        small               2013  manual   \n",
       "266387 2016-04-03 17:37:05  12800          suv               2008  manual   \n",
       "327247 2016-03-30 19:58:09  12000        wagon               2008  manual   \n",
       "104463 2016-03-28 23:45:56  11399      unknown               1995  manual   \n",
       "221057 2016-03-20 17:40:16  11000        wagon               2010  manual   \n",
       "122890 2016-03-05 18:54:13  11000        coupe               2002  manual   \n",
       "178306 2016-03-20 22:36:20  10500          suv               2007    auto   \n",
       "222981 2016-03-11 16:53:35  10000          bus               2010  manual   \n",
       "341299 2016-03-07 16:42:25  10000        wagon               2005    auto   \n",
       "164518 2016-03-12 18:39:00   9988  convertible               2006  manual   \n",
       "310883 2016-03-24 11:51:57   9900          bus               2011  manual   \n",
       "32784  2016-03-22 14:58:27   9500          bus               1986    auto   \n",
       "161428 2016-03-14 13:58:16   9500        sedan               2004    auto   \n",
       "\n",
       "        power        model  kilometer  registration_month fuel_type  \\\n",
       "84226    1288     c_klasse      90000                  11  gasoline   \n",
       "46941     751      unknown      10000                   1    petrol   \n",
       "192079    871        other      20000                   1    petrol   \n",
       "266387   1701       tiguan     150000                  12  gasoline   \n",
       "327247   1700     c_klasse     150000                   8  gasoline   \n",
       "104463   1995      unknown     150000                  12  gasoline   \n",
       "221057   1401      unknown      70000                  11    petrol   \n",
       "122890    800      unknown     150000                  11   unknown   \n",
       "178306   1521          rav     125000                   6    petrol   \n",
       "222981   1021  transporter     125000                  12  gasoline   \n",
       "341299   1631           a4     150000                   9  gasoline   \n",
       "164518   1598       cooper      50000                   6    petrol   \n",
       "310883   1400       touran     150000                   1   unknown   \n",
       "32784    1659        other      40000                  12    petrol   \n",
       "161428   1771     e_klasse      70000                   9  gasoline   \n",
       "\n",
       "                 brand repaired date_created  number_of_pictures  postal_code  \\\n",
       "84226    mercedes_benz       no   2016-03-06                   0        56729   \n",
       "46941   sonstige_autos       no   2016-04-06                   0        60386   \n",
       "192079            opel       no   2016-03-31                   0        26817   \n",
       "266387      volkswagen       no   2016-04-03                   0        51645   \n",
       "327247   mercedes_benz       no   2016-03-30                   0        81241   \n",
       "104463             bmw  unknown   2016-03-28                   0        90459   \n",
       "221057            opel  unknown   2016-03-20                   0        10315   \n",
       "122890            opel  unknown   2016-03-05                   0        26721   \n",
       "178306          toyota       no   2016-03-20                   0        58455   \n",
       "222981      volkswagen       no   2016-03-11                   0        13156   \n",
       "341299            audi  unknown   2016-03-07                   0        18311   \n",
       "164518            mini       no   2016-03-12                   0        10409   \n",
       "310883      volkswagen       no   2016-03-24                   0        67067   \n",
       "32784        chevrolet       no   2016-03-22                   0        56564   \n",
       "161428   mercedes_benz  unknown   2016-03-14                   0        50859   \n",
       "\n",
       "                 last_seen  \n",
       "84226  2016-04-06 20:45:45  \n",
       "46941  2016-04-06 15:25:37  \n",
       "192079 2016-04-06 04:46:46  \n",
       "266387 2016-04-05 17:26:26  \n",
       "327247 2016-04-07 11:45:58  \n",
       "104463 2016-04-07 09:45:19  \n",
       "221057 2016-04-01 02:47:29  \n",
       "122890 2016-04-07 03:46:25  \n",
       "178306 2016-03-20 22:36:20  \n",
       "222981 2016-03-16 04:15:18  \n",
       "341299 2016-03-29 09:15:42  \n",
       "164518 2016-04-07 11:16:42  \n",
       "310883 2016-04-01 06:18:26  \n",
       "32784  2016-04-07 03:46:46  \n",
       "161428 2016-03-31 00:45:52  "
      ]
     },
     "execution_count": 21,
     "metadata": {},
     "output_type": "execute_result"
    }
   ],
   "source": [
    "data_main.query('power > 700').sort_values(by = 'price', ascending = False).head(15)"
   ]
  },
  {
   "cell_type": "markdown",
   "metadata": {},
   "source": [
    "Даже самые дорогие модели имеют нереальные характеристики, модели этих марок никак не могут иметь такую мощность, даже после тюнинга, удалим все эти аномальные автомобили с мощностью более 700 л.с., автомобили стоимостью еще ниже тем более не могут иметь таких характеристик"
   ]
  },
  {
   "cell_type": "markdown",
   "metadata": {},
   "source": [
    "Лучше проверить кол-во объектов до удаления и после:"
   ]
  },
  {
   "cell_type": "code",
   "execution_count": 22,
   "metadata": {},
   "outputs": [
    {
     "data": {
      "text/plain": [
       "341319"
      ]
     },
     "execution_count": 22,
     "metadata": {},
     "output_type": "execute_result"
    }
   ],
   "source": [
    "data_main.shape[0]"
   ]
  },
  {
   "cell_type": "code",
   "execution_count": 23,
   "metadata": {},
   "outputs": [],
   "source": [
    "data_main = data_main.query('power <= 700')"
   ]
  },
  {
   "cell_type": "markdown",
   "metadata": {},
   "source": [
    "Кол-во объектов после удаления:"
   ]
  },
  {
   "cell_type": "code",
   "execution_count": 24,
   "metadata": {},
   "outputs": [
    {
     "data": {
      "text/plain": [
       "341115"
      ]
     },
     "execution_count": 24,
     "metadata": {},
     "output_type": "execute_result"
    }
   ],
   "source": [
    "data_main.shape[0]"
   ]
  },
  {
   "cell_type": "markdown",
   "metadata": {},
   "source": [
    "Теперь проверим автомобили мощностью выше 500 л.с."
   ]
  },
  {
   "cell_type": "code",
   "execution_count": 25,
   "metadata": {},
   "outputs": [
    {
     "data": {
      "text/html": [
       "<div>\n",
       "<style scoped>\n",
       "    .dataframe tbody tr th:only-of-type {\n",
       "        vertical-align: middle;\n",
       "    }\n",
       "\n",
       "    .dataframe tbody tr th {\n",
       "        vertical-align: top;\n",
       "    }\n",
       "\n",
       "    .dataframe thead th {\n",
       "        text-align: right;\n",
       "    }\n",
       "</style>\n",
       "<table border=\"1\" class=\"dataframe\">\n",
       "  <thead>\n",
       "    <tr style=\"text-align: right;\">\n",
       "      <th></th>\n",
       "      <th>date_crawled</th>\n",
       "      <th>price</th>\n",
       "      <th>vehicle_type</th>\n",
       "      <th>registration_year</th>\n",
       "      <th>gearbox</th>\n",
       "      <th>power</th>\n",
       "      <th>model</th>\n",
       "      <th>kilometer</th>\n",
       "      <th>registration_month</th>\n",
       "      <th>fuel_type</th>\n",
       "      <th>brand</th>\n",
       "      <th>repaired</th>\n",
       "      <th>date_created</th>\n",
       "      <th>number_of_pictures</th>\n",
       "      <th>postal_code</th>\n",
       "      <th>last_seen</th>\n",
       "    </tr>\n",
       "  </thead>\n",
       "  <tbody>\n",
       "    <tr>\n",
       "      <th>6296</th>\n",
       "      <td>2016-03-31 23:50:47</td>\n",
       "      <td>599</td>\n",
       "      <td>small</td>\n",
       "      <td>2002</td>\n",
       "      <td>manual</td>\n",
       "      <td>603</td>\n",
       "      <td>matiz</td>\n",
       "      <td>5000</td>\n",
       "      <td>11</td>\n",
       "      <td>petrol</td>\n",
       "      <td>chevrolet</td>\n",
       "      <td>yes</td>\n",
       "      <td>2016-03-31</td>\n",
       "      <td>0</td>\n",
       "      <td>44379</td>\n",
       "      <td>2016-04-01 03:41:52</td>\n",
       "    </tr>\n",
       "    <tr>\n",
       "      <th>6637</th>\n",
       "      <td>2016-03-31 19:48:22</td>\n",
       "      <td>600</td>\n",
       "      <td>small</td>\n",
       "      <td>1996</td>\n",
       "      <td>manual</td>\n",
       "      <td>603</td>\n",
       "      <td>corsa</td>\n",
       "      <td>150000</td>\n",
       "      <td>8</td>\n",
       "      <td>petrol</td>\n",
       "      <td>opel</td>\n",
       "      <td>yes</td>\n",
       "      <td>2016-03-31</td>\n",
       "      <td>0</td>\n",
       "      <td>70327</td>\n",
       "      <td>2016-04-06 14:17:51</td>\n",
       "    </tr>\n",
       "    <tr>\n",
       "      <th>8057</th>\n",
       "      <td>2016-03-15 13:49:25</td>\n",
       "      <td>500</td>\n",
       "      <td>small</td>\n",
       "      <td>2002</td>\n",
       "      <td>manual</td>\n",
       "      <td>620</td>\n",
       "      <td>ypsilon</td>\n",
       "      <td>150000</td>\n",
       "      <td>12</td>\n",
       "      <td>petrol</td>\n",
       "      <td>lancia</td>\n",
       "      <td>unknown</td>\n",
       "      <td>2016-03-15</td>\n",
       "      <td>0</td>\n",
       "      <td>55566</td>\n",
       "      <td>2016-04-06 03:15:27</td>\n",
       "    </tr>\n",
       "    <tr>\n",
       "      <th>13373</th>\n",
       "      <td>2016-03-31 12:38:14</td>\n",
       "      <td>18500</td>\n",
       "      <td>small</td>\n",
       "      <td>2002</td>\n",
       "      <td>auto</td>\n",
       "      <td>600</td>\n",
       "      <td>s_type</td>\n",
       "      <td>150000</td>\n",
       "      <td>12</td>\n",
       "      <td>unknown</td>\n",
       "      <td>jaguar</td>\n",
       "      <td>no</td>\n",
       "      <td>2016-03-31</td>\n",
       "      <td>0</td>\n",
       "      <td>13595</td>\n",
       "      <td>2016-04-06 04:46:34</td>\n",
       "    </tr>\n",
       "    <tr>\n",
       "      <th>14555</th>\n",
       "      <td>2016-03-12 09:55:06</td>\n",
       "      <td>599</td>\n",
       "      <td>unknown</td>\n",
       "      <td>2018</td>\n",
       "      <td>manual</td>\n",
       "      <td>599</td>\n",
       "      <td>twingo</td>\n",
       "      <td>150000</td>\n",
       "      <td>0</td>\n",
       "      <td>unknown</td>\n",
       "      <td>renault</td>\n",
       "      <td>unknown</td>\n",
       "      <td>2016-03-12</td>\n",
       "      <td>0</td>\n",
       "      <td>47138</td>\n",
       "      <td>2016-04-06 01:45:44</td>\n",
       "    </tr>\n",
       "    <tr>\n",
       "      <th>...</th>\n",
       "      <td>...</td>\n",
       "      <td>...</td>\n",
       "      <td>...</td>\n",
       "      <td>...</td>\n",
       "      <td>...</td>\n",
       "      <td>...</td>\n",
       "      <td>...</td>\n",
       "      <td>...</td>\n",
       "      <td>...</td>\n",
       "      <td>...</td>\n",
       "      <td>...</td>\n",
       "      <td>...</td>\n",
       "      <td>...</td>\n",
       "      <td>...</td>\n",
       "      <td>...</td>\n",
       "      <td>...</td>\n",
       "    </tr>\n",
       "    <tr>\n",
       "      <th>328668</th>\n",
       "      <td>2016-03-31 23:50:09</td>\n",
       "      <td>599</td>\n",
       "      <td>small</td>\n",
       "      <td>2002</td>\n",
       "      <td>manual</td>\n",
       "      <td>603</td>\n",
       "      <td>matiz</td>\n",
       "      <td>5000</td>\n",
       "      <td>11</td>\n",
       "      <td>petrol</td>\n",
       "      <td>chevrolet</td>\n",
       "      <td>yes</td>\n",
       "      <td>2016-03-31</td>\n",
       "      <td>0</td>\n",
       "      <td>44379</td>\n",
       "      <td>2016-04-07 01:44:38</td>\n",
       "    </tr>\n",
       "    <tr>\n",
       "      <th>331252</th>\n",
       "      <td>2016-03-07 03:38:34</td>\n",
       "      <td>4600</td>\n",
       "      <td>small</td>\n",
       "      <td>2008</td>\n",
       "      <td>manual</td>\n",
       "      <td>601</td>\n",
       "      <td>polo</td>\n",
       "      <td>80000</td>\n",
       "      <td>1</td>\n",
       "      <td>petrol</td>\n",
       "      <td>volkswagen</td>\n",
       "      <td>no</td>\n",
       "      <td>2016-03-06</td>\n",
       "      <td>0</td>\n",
       "      <td>71282</td>\n",
       "      <td>2016-04-05 04:17:44</td>\n",
       "    </tr>\n",
       "    <tr>\n",
       "      <th>344689</th>\n",
       "      <td>2016-03-19 18:54:09</td>\n",
       "      <td>14900</td>\n",
       "      <td>suv</td>\n",
       "      <td>2006</td>\n",
       "      <td>auto</td>\n",
       "      <td>521</td>\n",
       "      <td>cayenne</td>\n",
       "      <td>150000</td>\n",
       "      <td>6</td>\n",
       "      <td>petrol</td>\n",
       "      <td>porsche</td>\n",
       "      <td>no</td>\n",
       "      <td>2016-03-19</td>\n",
       "      <td>0</td>\n",
       "      <td>67487</td>\n",
       "      <td>2016-04-07 06:16:42</td>\n",
       "    </tr>\n",
       "    <tr>\n",
       "      <th>346165</th>\n",
       "      <td>2016-03-25 17:53:40</td>\n",
       "      <td>20000</td>\n",
       "      <td>unknown</td>\n",
       "      <td>2016</td>\n",
       "      <td>auto</td>\n",
       "      <td>507</td>\n",
       "      <td>m_reihe</td>\n",
       "      <td>150000</td>\n",
       "      <td>6</td>\n",
       "      <td>unknown</td>\n",
       "      <td>bmw</td>\n",
       "      <td>unknown</td>\n",
       "      <td>2016-03-25</td>\n",
       "      <td>0</td>\n",
       "      <td>94032</td>\n",
       "      <td>2016-04-02 22:52:36</td>\n",
       "    </tr>\n",
       "    <tr>\n",
       "      <th>353633</th>\n",
       "      <td>2016-03-23 23:55:21</td>\n",
       "      <td>2400</td>\n",
       "      <td>sedan</td>\n",
       "      <td>2007</td>\n",
       "      <td>manual</td>\n",
       "      <td>650</td>\n",
       "      <td>c2</td>\n",
       "      <td>150000</td>\n",
       "      <td>8</td>\n",
       "      <td>petrol</td>\n",
       "      <td>citroen</td>\n",
       "      <td>unknown</td>\n",
       "      <td>2016-03-23</td>\n",
       "      <td>0</td>\n",
       "      <td>45277</td>\n",
       "      <td>2016-03-27 01:15:17</td>\n",
       "    </tr>\n",
       "  </tbody>\n",
       "</table>\n",
       "<p>96 rows × 16 columns</p>\n",
       "</div>"
      ],
      "text/plain": [
       "              date_crawled  price vehicle_type  registration_year gearbox  \\\n",
       "6296   2016-03-31 23:50:47    599        small               2002  manual   \n",
       "6637   2016-03-31 19:48:22    600        small               1996  manual   \n",
       "8057   2016-03-15 13:49:25    500        small               2002  manual   \n",
       "13373  2016-03-31 12:38:14  18500        small               2002    auto   \n",
       "14555  2016-03-12 09:55:06    599      unknown               2018  manual   \n",
       "...                    ...    ...          ...                ...     ...   \n",
       "328668 2016-03-31 23:50:09    599        small               2002  manual   \n",
       "331252 2016-03-07 03:38:34   4600        small               2008  manual   \n",
       "344689 2016-03-19 18:54:09  14900          suv               2006    auto   \n",
       "346165 2016-03-25 17:53:40  20000      unknown               2016    auto   \n",
       "353633 2016-03-23 23:55:21   2400        sedan               2007  manual   \n",
       "\n",
       "        power    model  kilometer  registration_month fuel_type       brand  \\\n",
       "6296      603    matiz       5000                  11    petrol   chevrolet   \n",
       "6637      603    corsa     150000                   8    petrol        opel   \n",
       "8057      620  ypsilon     150000                  12    petrol      lancia   \n",
       "13373     600   s_type     150000                  12   unknown      jaguar   \n",
       "14555     599   twingo     150000                   0   unknown     renault   \n",
       "...       ...      ...        ...                 ...       ...         ...   \n",
       "328668    603    matiz       5000                  11    petrol   chevrolet   \n",
       "331252    601     polo      80000                   1    petrol  volkswagen   \n",
       "344689    521  cayenne     150000                   6    petrol     porsche   \n",
       "346165    507  m_reihe     150000                   6   unknown         bmw   \n",
       "353633    650       c2     150000                   8    petrol     citroen   \n",
       "\n",
       "       repaired date_created  number_of_pictures  postal_code  \\\n",
       "6296        yes   2016-03-31                   0        44379   \n",
       "6637        yes   2016-03-31                   0        70327   \n",
       "8057    unknown   2016-03-15                   0        55566   \n",
       "13373        no   2016-03-31                   0        13595   \n",
       "14555   unknown   2016-03-12                   0        47138   \n",
       "...         ...          ...                 ...          ...   \n",
       "328668      yes   2016-03-31                   0        44379   \n",
       "331252       no   2016-03-06                   0        71282   \n",
       "344689       no   2016-03-19                   0        67487   \n",
       "346165  unknown   2016-03-25                   0        94032   \n",
       "353633  unknown   2016-03-23                   0        45277   \n",
       "\n",
       "                 last_seen  \n",
       "6296   2016-04-01 03:41:52  \n",
       "6637   2016-04-06 14:17:51  \n",
       "8057   2016-04-06 03:15:27  \n",
       "13373  2016-04-06 04:46:34  \n",
       "14555  2016-04-06 01:45:44  \n",
       "...                    ...  \n",
       "328668 2016-04-07 01:44:38  \n",
       "331252 2016-04-05 04:17:44  \n",
       "344689 2016-04-07 06:16:42  \n",
       "346165 2016-04-02 22:52:36  \n",
       "353633 2016-03-27 01:15:17  \n",
       "\n",
       "[96 rows x 16 columns]"
      ]
     },
     "execution_count": 25,
     "metadata": {},
     "output_type": "execute_result"
    }
   ],
   "source": [
    "data_main.query('power > 500')"
   ]
  },
  {
   "cell_type": "markdown",
   "metadata": {},
   "source": [
    "Практически все нереальные характеристики у автомобилей, выделяются только несколько автомобилей с похожими характеристиками и высокой ценой, проверим автомобили ценой ниже 7000 евро"
   ]
  },
  {
   "cell_type": "code",
   "execution_count": 26,
   "metadata": {},
   "outputs": [
    {
     "data": {
      "text/html": [
       "<div>\n",
       "<style scoped>\n",
       "    .dataframe tbody tr th:only-of-type {\n",
       "        vertical-align: middle;\n",
       "    }\n",
       "\n",
       "    .dataframe tbody tr th {\n",
       "        vertical-align: top;\n",
       "    }\n",
       "\n",
       "    .dataframe thead th {\n",
       "        text-align: right;\n",
       "    }\n",
       "</style>\n",
       "<table border=\"1\" class=\"dataframe\">\n",
       "  <thead>\n",
       "    <tr style=\"text-align: right;\">\n",
       "      <th></th>\n",
       "      <th>date_crawled</th>\n",
       "      <th>price</th>\n",
       "      <th>vehicle_type</th>\n",
       "      <th>registration_year</th>\n",
       "      <th>gearbox</th>\n",
       "      <th>power</th>\n",
       "      <th>model</th>\n",
       "      <th>kilometer</th>\n",
       "      <th>registration_month</th>\n",
       "      <th>fuel_type</th>\n",
       "      <th>brand</th>\n",
       "      <th>repaired</th>\n",
       "      <th>date_created</th>\n",
       "      <th>number_of_pictures</th>\n",
       "      <th>postal_code</th>\n",
       "      <th>last_seen</th>\n",
       "    </tr>\n",
       "  </thead>\n",
       "  <tbody>\n",
       "    <tr>\n",
       "      <th>6296</th>\n",
       "      <td>2016-03-31 23:50:47</td>\n",
       "      <td>599</td>\n",
       "      <td>small</td>\n",
       "      <td>2002</td>\n",
       "      <td>manual</td>\n",
       "      <td>603</td>\n",
       "      <td>matiz</td>\n",
       "      <td>5000</td>\n",
       "      <td>11</td>\n",
       "      <td>petrol</td>\n",
       "      <td>chevrolet</td>\n",
       "      <td>yes</td>\n",
       "      <td>2016-03-31</td>\n",
       "      <td>0</td>\n",
       "      <td>44379</td>\n",
       "      <td>2016-04-01 03:41:52</td>\n",
       "    </tr>\n",
       "    <tr>\n",
       "      <th>6637</th>\n",
       "      <td>2016-03-31 19:48:22</td>\n",
       "      <td>600</td>\n",
       "      <td>small</td>\n",
       "      <td>1996</td>\n",
       "      <td>manual</td>\n",
       "      <td>603</td>\n",
       "      <td>corsa</td>\n",
       "      <td>150000</td>\n",
       "      <td>8</td>\n",
       "      <td>petrol</td>\n",
       "      <td>opel</td>\n",
       "      <td>yes</td>\n",
       "      <td>2016-03-31</td>\n",
       "      <td>0</td>\n",
       "      <td>70327</td>\n",
       "      <td>2016-04-06 14:17:51</td>\n",
       "    </tr>\n",
       "    <tr>\n",
       "      <th>8057</th>\n",
       "      <td>2016-03-15 13:49:25</td>\n",
       "      <td>500</td>\n",
       "      <td>small</td>\n",
       "      <td>2002</td>\n",
       "      <td>manual</td>\n",
       "      <td>620</td>\n",
       "      <td>ypsilon</td>\n",
       "      <td>150000</td>\n",
       "      <td>12</td>\n",
       "      <td>petrol</td>\n",
       "      <td>lancia</td>\n",
       "      <td>unknown</td>\n",
       "      <td>2016-03-15</td>\n",
       "      <td>0</td>\n",
       "      <td>55566</td>\n",
       "      <td>2016-04-06 03:15:27</td>\n",
       "    </tr>\n",
       "    <tr>\n",
       "      <th>14555</th>\n",
       "      <td>2016-03-12 09:55:06</td>\n",
       "      <td>599</td>\n",
       "      <td>unknown</td>\n",
       "      <td>2018</td>\n",
       "      <td>manual</td>\n",
       "      <td>599</td>\n",
       "      <td>twingo</td>\n",
       "      <td>150000</td>\n",
       "      <td>0</td>\n",
       "      <td>unknown</td>\n",
       "      <td>renault</td>\n",
       "      <td>unknown</td>\n",
       "      <td>2016-03-12</td>\n",
       "      <td>0</td>\n",
       "      <td>47138</td>\n",
       "      <td>2016-04-06 01:45:44</td>\n",
       "    </tr>\n",
       "    <tr>\n",
       "      <th>16385</th>\n",
       "      <td>2016-03-17 23:55:31</td>\n",
       "      <td>100</td>\n",
       "      <td>small</td>\n",
       "      <td>1996</td>\n",
       "      <td>manual</td>\n",
       "      <td>553</td>\n",
       "      <td>unknown</td>\n",
       "      <td>150000</td>\n",
       "      <td>7</td>\n",
       "      <td>unknown</td>\n",
       "      <td>renault</td>\n",
       "      <td>yes</td>\n",
       "      <td>2016-03-17</td>\n",
       "      <td>0</td>\n",
       "      <td>85586</td>\n",
       "      <td>2016-04-03 20:18:26</td>\n",
       "    </tr>\n",
       "    <tr>\n",
       "      <th>21161</th>\n",
       "      <td>2016-03-22 11:47:50</td>\n",
       "      <td>250</td>\n",
       "      <td>small</td>\n",
       "      <td>1995</td>\n",
       "      <td>manual</td>\n",
       "      <td>515</td>\n",
       "      <td>polo</td>\n",
       "      <td>150000</td>\n",
       "      <td>0</td>\n",
       "      <td>unknown</td>\n",
       "      <td>volkswagen</td>\n",
       "      <td>unknown</td>\n",
       "      <td>2016-03-22</td>\n",
       "      <td>0</td>\n",
       "      <td>89547</td>\n",
       "      <td>2016-03-22 11:47:50</td>\n",
       "    </tr>\n",
       "    <tr>\n",
       "      <th>23173</th>\n",
       "      <td>2016-03-19 22:51:21</td>\n",
       "      <td>400</td>\n",
       "      <td>unknown</td>\n",
       "      <td>2015</td>\n",
       "      <td>auto</td>\n",
       "      <td>610</td>\n",
       "      <td>other</td>\n",
       "      <td>5000</td>\n",
       "      <td>1</td>\n",
       "      <td>unknown</td>\n",
       "      <td>audi</td>\n",
       "      <td>unknown</td>\n",
       "      <td>2016-03-19</td>\n",
       "      <td>0</td>\n",
       "      <td>70178</td>\n",
       "      <td>2016-03-20 02:42:18</td>\n",
       "    </tr>\n",
       "    <tr>\n",
       "      <th>25190</th>\n",
       "      <td>2016-04-04 20:58:13</td>\n",
       "      <td>4300</td>\n",
       "      <td>unknown</td>\n",
       "      <td>2016</td>\n",
       "      <td>manual</td>\n",
       "      <td>696</td>\n",
       "      <td>fabia</td>\n",
       "      <td>150000</td>\n",
       "      <td>2</td>\n",
       "      <td>petrol</td>\n",
       "      <td>skoda</td>\n",
       "      <td>no</td>\n",
       "      <td>2016-04-04</td>\n",
       "      <td>0</td>\n",
       "      <td>4838</td>\n",
       "      <td>2016-04-06 23:44:26</td>\n",
       "    </tr>\n",
       "    <tr>\n",
       "      <th>33590</th>\n",
       "      <td>2016-03-10 11:53:22</td>\n",
       "      <td>300</td>\n",
       "      <td>coupe</td>\n",
       "      <td>2002</td>\n",
       "      <td>manual</td>\n",
       "      <td>551</td>\n",
       "      <td>unknown</td>\n",
       "      <td>5000</td>\n",
       "      <td>1</td>\n",
       "      <td>petrol</td>\n",
       "      <td>sonstige_autos</td>\n",
       "      <td>unknown</td>\n",
       "      <td>2016-03-10</td>\n",
       "      <td>0</td>\n",
       "      <td>65191</td>\n",
       "      <td>2016-03-23 10:15:40</td>\n",
       "    </tr>\n",
       "    <tr>\n",
       "      <th>36006</th>\n",
       "      <td>2016-03-19 13:38:35</td>\n",
       "      <td>250</td>\n",
       "      <td>unknown</td>\n",
       "      <td>2016</td>\n",
       "      <td>manual</td>\n",
       "      <td>606</td>\n",
       "      <td>golf</td>\n",
       "      <td>150000</td>\n",
       "      <td>1</td>\n",
       "      <td>unknown</td>\n",
       "      <td>volkswagen</td>\n",
       "      <td>unknown</td>\n",
       "      <td>2016-03-19</td>\n",
       "      <td>0</td>\n",
       "      <td>6766</td>\n",
       "      <td>2016-03-30 05:44:40</td>\n",
       "    </tr>\n",
       "    <tr>\n",
       "      <th>42521</th>\n",
       "      <td>2016-03-09 21:38:58</td>\n",
       "      <td>450</td>\n",
       "      <td>small</td>\n",
       "      <td>1999</td>\n",
       "      <td>manual</td>\n",
       "      <td>601</td>\n",
       "      <td>arosa</td>\n",
       "      <td>150000</td>\n",
       "      <td>0</td>\n",
       "      <td>unknown</td>\n",
       "      <td>seat</td>\n",
       "      <td>no</td>\n",
       "      <td>2016-03-09</td>\n",
       "      <td>0</td>\n",
       "      <td>39218</td>\n",
       "      <td>2016-03-12 08:47:06</td>\n",
       "    </tr>\n",
       "    <tr>\n",
       "      <th>44485</th>\n",
       "      <td>2016-03-24 15:45:20</td>\n",
       "      <td>499</td>\n",
       "      <td>small</td>\n",
       "      <td>1994</td>\n",
       "      <td>manual</td>\n",
       "      <td>541</td>\n",
       "      <td>twingo</td>\n",
       "      <td>5000</td>\n",
       "      <td>4</td>\n",
       "      <td>unknown</td>\n",
       "      <td>renault</td>\n",
       "      <td>no</td>\n",
       "      <td>2016-03-24</td>\n",
       "      <td>0</td>\n",
       "      <td>27721</td>\n",
       "      <td>2016-03-26 00:18:03</td>\n",
       "    </tr>\n",
       "    <tr>\n",
       "      <th>50191</th>\n",
       "      <td>2016-03-11 15:39:20</td>\n",
       "      <td>650</td>\n",
       "      <td>small</td>\n",
       "      <td>2003</td>\n",
       "      <td>auto</td>\n",
       "      <td>602</td>\n",
       "      <td>unknown</td>\n",
       "      <td>90000</td>\n",
       "      <td>10</td>\n",
       "      <td>unknown</td>\n",
       "      <td>lancia</td>\n",
       "      <td>yes</td>\n",
       "      <td>2016-03-11</td>\n",
       "      <td>0</td>\n",
       "      <td>67705</td>\n",
       "      <td>2016-03-16 01:45:31</td>\n",
       "    </tr>\n",
       "    <tr>\n",
       "      <th>83099</th>\n",
       "      <td>2016-03-24 08:51:18</td>\n",
       "      <td>1700</td>\n",
       "      <td>small</td>\n",
       "      <td>2006</td>\n",
       "      <td>manual</td>\n",
       "      <td>671</td>\n",
       "      <td>matiz</td>\n",
       "      <td>100000</td>\n",
       "      <td>3</td>\n",
       "      <td>petrol</td>\n",
       "      <td>chevrolet</td>\n",
       "      <td>unknown</td>\n",
       "      <td>2016-03-24</td>\n",
       "      <td>0</td>\n",
       "      <td>29525</td>\n",
       "      <td>2016-04-06 21:46:50</td>\n",
       "    </tr>\n",
       "    <tr>\n",
       "      <th>107164</th>\n",
       "      <td>2016-03-23 11:57:02</td>\n",
       "      <td>250</td>\n",
       "      <td>small</td>\n",
       "      <td>2001</td>\n",
       "      <td>manual</td>\n",
       "      <td>580</td>\n",
       "      <td>twingo</td>\n",
       "      <td>150000</td>\n",
       "      <td>10</td>\n",
       "      <td>petrol</td>\n",
       "      <td>renault</td>\n",
       "      <td>unknown</td>\n",
       "      <td>2016-03-23</td>\n",
       "      <td>0</td>\n",
       "      <td>32760</td>\n",
       "      <td>2016-03-23 12:40:11</td>\n",
       "    </tr>\n",
       "    <tr>\n",
       "      <th>114478</th>\n",
       "      <td>2016-03-08 23:54:10</td>\n",
       "      <td>4538</td>\n",
       "      <td>coupe</td>\n",
       "      <td>2015</td>\n",
       "      <td>auto</td>\n",
       "      <td>585</td>\n",
       "      <td>s_klasse</td>\n",
       "      <td>5000</td>\n",
       "      <td>0</td>\n",
       "      <td>petrol</td>\n",
       "      <td>mercedes_benz</td>\n",
       "      <td>unknown</td>\n",
       "      <td>2016-03-08</td>\n",
       "      <td>0</td>\n",
       "      <td>10369</td>\n",
       "      <td>2016-03-09 07:41:25</td>\n",
       "    </tr>\n",
       "    <tr>\n",
       "      <th>134134</th>\n",
       "      <td>2016-03-21 15:55:45</td>\n",
       "      <td>700</td>\n",
       "      <td>sedan</td>\n",
       "      <td>2001</td>\n",
       "      <td>manual</td>\n",
       "      <td>700</td>\n",
       "      <td>twingo</td>\n",
       "      <td>150000</td>\n",
       "      <td>3</td>\n",
       "      <td>petrol</td>\n",
       "      <td>renault</td>\n",
       "      <td>unknown</td>\n",
       "      <td>2016-03-21</td>\n",
       "      <td>0</td>\n",
       "      <td>45277</td>\n",
       "      <td>2016-03-21 15:55:45</td>\n",
       "    </tr>\n",
       "    <tr>\n",
       "      <th>140476</th>\n",
       "      <td>2016-03-27 11:55:43</td>\n",
       "      <td>590</td>\n",
       "      <td>unknown</td>\n",
       "      <td>2016</td>\n",
       "      <td>manual</td>\n",
       "      <td>606</td>\n",
       "      <td>polo</td>\n",
       "      <td>150000</td>\n",
       "      <td>6</td>\n",
       "      <td>unknown</td>\n",
       "      <td>volkswagen</td>\n",
       "      <td>unknown</td>\n",
       "      <td>2016-03-27</td>\n",
       "      <td>0</td>\n",
       "      <td>26389</td>\n",
       "      <td>2016-03-29 00:17:55</td>\n",
       "    </tr>\n",
       "    <tr>\n",
       "      <th>145896</th>\n",
       "      <td>2016-03-08 15:45:27</td>\n",
       "      <td>2700</td>\n",
       "      <td>unknown</td>\n",
       "      <td>2004</td>\n",
       "      <td>auto</td>\n",
       "      <td>612</td>\n",
       "      <td>fortwo</td>\n",
       "      <td>125000</td>\n",
       "      <td>0</td>\n",
       "      <td>petrol</td>\n",
       "      <td>smart</td>\n",
       "      <td>unknown</td>\n",
       "      <td>2016-03-08</td>\n",
       "      <td>0</td>\n",
       "      <td>40235</td>\n",
       "      <td>2016-03-12 12:46:12</td>\n",
       "    </tr>\n",
       "    <tr>\n",
       "      <th>152546</th>\n",
       "      <td>2016-03-17 09:43:24</td>\n",
       "      <td>500</td>\n",
       "      <td>small</td>\n",
       "      <td>2005</td>\n",
       "      <td>manual</td>\n",
       "      <td>584</td>\n",
       "      <td>matiz</td>\n",
       "      <td>125000</td>\n",
       "      <td>0</td>\n",
       "      <td>petrol</td>\n",
       "      <td>chevrolet</td>\n",
       "      <td>unknown</td>\n",
       "      <td>2016-03-17</td>\n",
       "      <td>0</td>\n",
       "      <td>24976</td>\n",
       "      <td>2016-03-20 09:47:26</td>\n",
       "    </tr>\n",
       "  </tbody>\n",
       "</table>\n",
       "</div>"
      ],
      "text/plain": [
       "              date_crawled  price vehicle_type  registration_year gearbox  \\\n",
       "6296   2016-03-31 23:50:47    599        small               2002  manual   \n",
       "6637   2016-03-31 19:48:22    600        small               1996  manual   \n",
       "8057   2016-03-15 13:49:25    500        small               2002  manual   \n",
       "14555  2016-03-12 09:55:06    599      unknown               2018  manual   \n",
       "16385  2016-03-17 23:55:31    100        small               1996  manual   \n",
       "21161  2016-03-22 11:47:50    250        small               1995  manual   \n",
       "23173  2016-03-19 22:51:21    400      unknown               2015    auto   \n",
       "25190  2016-04-04 20:58:13   4300      unknown               2016  manual   \n",
       "33590  2016-03-10 11:53:22    300        coupe               2002  manual   \n",
       "36006  2016-03-19 13:38:35    250      unknown               2016  manual   \n",
       "42521  2016-03-09 21:38:58    450        small               1999  manual   \n",
       "44485  2016-03-24 15:45:20    499        small               1994  manual   \n",
       "50191  2016-03-11 15:39:20    650        small               2003    auto   \n",
       "83099  2016-03-24 08:51:18   1700        small               2006  manual   \n",
       "107164 2016-03-23 11:57:02    250        small               2001  manual   \n",
       "114478 2016-03-08 23:54:10   4538        coupe               2015    auto   \n",
       "134134 2016-03-21 15:55:45    700        sedan               2001  manual   \n",
       "140476 2016-03-27 11:55:43    590      unknown               2016  manual   \n",
       "145896 2016-03-08 15:45:27   2700      unknown               2004    auto   \n",
       "152546 2016-03-17 09:43:24    500        small               2005  manual   \n",
       "\n",
       "        power     model  kilometer  registration_month fuel_type  \\\n",
       "6296      603     matiz       5000                  11    petrol   \n",
       "6637      603     corsa     150000                   8    petrol   \n",
       "8057      620   ypsilon     150000                  12    petrol   \n",
       "14555     599    twingo     150000                   0   unknown   \n",
       "16385     553   unknown     150000                   7   unknown   \n",
       "21161     515      polo     150000                   0   unknown   \n",
       "23173     610     other       5000                   1   unknown   \n",
       "25190     696     fabia     150000                   2    petrol   \n",
       "33590     551   unknown       5000                   1    petrol   \n",
       "36006     606      golf     150000                   1   unknown   \n",
       "42521     601     arosa     150000                   0   unknown   \n",
       "44485     541    twingo       5000                   4   unknown   \n",
       "50191     602   unknown      90000                  10   unknown   \n",
       "83099     671     matiz     100000                   3    petrol   \n",
       "107164    580    twingo     150000                  10    petrol   \n",
       "114478    585  s_klasse       5000                   0    petrol   \n",
       "134134    700    twingo     150000                   3    petrol   \n",
       "140476    606      polo     150000                   6   unknown   \n",
       "145896    612    fortwo     125000                   0    petrol   \n",
       "152546    584     matiz     125000                   0    petrol   \n",
       "\n",
       "                 brand repaired date_created  number_of_pictures  postal_code  \\\n",
       "6296         chevrolet      yes   2016-03-31                   0        44379   \n",
       "6637              opel      yes   2016-03-31                   0        70327   \n",
       "8057            lancia  unknown   2016-03-15                   0        55566   \n",
       "14555          renault  unknown   2016-03-12                   0        47138   \n",
       "16385          renault      yes   2016-03-17                   0        85586   \n",
       "21161       volkswagen  unknown   2016-03-22                   0        89547   \n",
       "23173             audi  unknown   2016-03-19                   0        70178   \n",
       "25190            skoda       no   2016-04-04                   0         4838   \n",
       "33590   sonstige_autos  unknown   2016-03-10                   0        65191   \n",
       "36006       volkswagen  unknown   2016-03-19                   0         6766   \n",
       "42521             seat       no   2016-03-09                   0        39218   \n",
       "44485          renault       no   2016-03-24                   0        27721   \n",
       "50191           lancia      yes   2016-03-11                   0        67705   \n",
       "83099        chevrolet  unknown   2016-03-24                   0        29525   \n",
       "107164         renault  unknown   2016-03-23                   0        32760   \n",
       "114478   mercedes_benz  unknown   2016-03-08                   0        10369   \n",
       "134134         renault  unknown   2016-03-21                   0        45277   \n",
       "140476      volkswagen  unknown   2016-03-27                   0        26389   \n",
       "145896           smart  unknown   2016-03-08                   0        40235   \n",
       "152546       chevrolet  unknown   2016-03-17                   0        24976   \n",
       "\n",
       "                 last_seen  \n",
       "6296   2016-04-01 03:41:52  \n",
       "6637   2016-04-06 14:17:51  \n",
       "8057   2016-04-06 03:15:27  \n",
       "14555  2016-04-06 01:45:44  \n",
       "16385  2016-04-03 20:18:26  \n",
       "21161  2016-03-22 11:47:50  \n",
       "23173  2016-03-20 02:42:18  \n",
       "25190  2016-04-06 23:44:26  \n",
       "33590  2016-03-23 10:15:40  \n",
       "36006  2016-03-30 05:44:40  \n",
       "42521  2016-03-12 08:47:06  \n",
       "44485  2016-03-26 00:18:03  \n",
       "50191  2016-03-16 01:45:31  \n",
       "83099  2016-04-06 21:46:50  \n",
       "107164 2016-03-23 12:40:11  \n",
       "114478 2016-03-09 07:41:25  \n",
       "134134 2016-03-21 15:55:45  \n",
       "140476 2016-03-29 00:17:55  \n",
       "145896 2016-03-12 12:46:12  \n",
       "152546 2016-03-20 09:47:26  "
      ]
     },
     "execution_count": 26,
     "metadata": {},
     "output_type": "execute_result"
    }
   ],
   "source": [
    "data_main.query('power > 500 and price < 7000').head(20)"
   ]
  },
  {
   "cell_type": "markdown",
   "metadata": {},
   "source": [
    "Абсолютно нереальные характеристики для этих моделей автомобилей, удалим аномальные объект с мощностью более 500 л.с. и ценой менее 7000 евро"
   ]
  },
  {
   "cell_type": "code",
   "execution_count": 27,
   "metadata": {},
   "outputs": [],
   "source": [
    "data_main = data_main.query('(power <= 500) or (power > 500 and price > 7000)')"
   ]
  },
  {
   "cell_type": "markdown",
   "metadata": {},
   "source": [
    "Проверим кол-во оставшихся объектов"
   ]
  },
  {
   "cell_type": "code",
   "execution_count": 28,
   "metadata": {},
   "outputs": [
    {
     "data": {
      "text/plain": [
       "(341078, 16)"
      ]
     },
     "execution_count": 28,
     "metadata": {},
     "output_type": "execute_result"
    }
   ],
   "source": [
    "data_main.shape"
   ]
  },
  {
   "cell_type": "markdown",
   "metadata": {},
   "source": [
    "Посмотрим объекты с мощностью 0"
   ]
  },
  {
   "cell_type": "code",
   "execution_count": 29,
   "metadata": {},
   "outputs": [
    {
     "data": {
      "text/plain": [
       "35256"
      ]
     },
     "execution_count": 29,
     "metadata": {},
     "output_type": "execute_result"
    }
   ],
   "source": [
    "data_main.query('power == 0').shape[0]"
   ]
  },
  {
   "cell_type": "markdown",
   "metadata": {},
   "source": [
    "Более 35 тыс. строк, для которых видимо не удалось указать мощность автомобиля и поэтому столбец заполнен значением-заглушкой 0. Так как столбец с мощностью скорее всего является по важности не последним при принятии решений моделью, то лучше заменить эти значения на медианнные, так как это почти 10% от общего количества данных и удалять такой большой объем данных для обучения нельзя. Значения мощности заменим на медианные значения с учетом марки автомобиля."
   ]
  },
  {
   "cell_type": "code",
   "execution_count": 30,
   "metadata": {},
   "outputs": [],
   "source": [
    "for b in data_main['brand'].unique():\n",
    "    data_main.loc[(data_main['brand'] == b) & (data_main['power'] == 0), 'power'] = \\\n",
    "    round(data_main.loc[(data_main['brand'] == b), 'power'].median())"
   ]
  },
  {
   "cell_type": "markdown",
   "metadata": {},
   "source": [
    "Теперь проверим сколько автомобилей с мощностью менее 20 л.с., но год регистрации более 2000"
   ]
  },
  {
   "cell_type": "code",
   "execution_count": 31,
   "metadata": {},
   "outputs": [
    {
     "data": {
      "text/html": [
       "<div>\n",
       "<style scoped>\n",
       "    .dataframe tbody tr th:only-of-type {\n",
       "        vertical-align: middle;\n",
       "    }\n",
       "\n",
       "    .dataframe tbody tr th {\n",
       "        vertical-align: top;\n",
       "    }\n",
       "\n",
       "    .dataframe thead th {\n",
       "        text-align: right;\n",
       "    }\n",
       "</style>\n",
       "<table border=\"1\" class=\"dataframe\">\n",
       "  <thead>\n",
       "    <tr style=\"text-align: right;\">\n",
       "      <th></th>\n",
       "      <th>date_crawled</th>\n",
       "      <th>price</th>\n",
       "      <th>vehicle_type</th>\n",
       "      <th>registration_year</th>\n",
       "      <th>gearbox</th>\n",
       "      <th>power</th>\n",
       "      <th>model</th>\n",
       "      <th>kilometer</th>\n",
       "      <th>registration_month</th>\n",
       "      <th>fuel_type</th>\n",
       "      <th>brand</th>\n",
       "      <th>repaired</th>\n",
       "      <th>date_created</th>\n",
       "      <th>number_of_pictures</th>\n",
       "      <th>postal_code</th>\n",
       "      <th>last_seen</th>\n",
       "    </tr>\n",
       "  </thead>\n",
       "  <tbody>\n",
       "    <tr>\n",
       "      <th>96730</th>\n",
       "      <td>2016-03-27 15:54:07</td>\n",
       "      <td>1100</td>\n",
       "      <td>unknown</td>\n",
       "      <td>2018</td>\n",
       "      <td>manual</td>\n",
       "      <td>13</td>\n",
       "      <td>ka</td>\n",
       "      <td>150000</td>\n",
       "      <td>0</td>\n",
       "      <td>petrol</td>\n",
       "      <td>ford</td>\n",
       "      <td>unknown</td>\n",
       "      <td>2016-03-27</td>\n",
       "      <td>0</td>\n",
       "      <td>24109</td>\n",
       "      <td>2016-04-05 11:49:03</td>\n",
       "    </tr>\n",
       "    <tr>\n",
       "      <th>321042</th>\n",
       "      <td>2016-04-04 00:46:45</td>\n",
       "      <td>2999</td>\n",
       "      <td>small</td>\n",
       "      <td>2005</td>\n",
       "      <td>auto</td>\n",
       "      <td>5</td>\n",
       "      <td>unknown</td>\n",
       "      <td>50000</td>\n",
       "      <td>3</td>\n",
       "      <td>gasoline</td>\n",
       "      <td>sonstige_autos</td>\n",
       "      <td>no</td>\n",
       "      <td>2016-04-03</td>\n",
       "      <td>0</td>\n",
       "      <td>4860</td>\n",
       "      <td>2016-04-06 06:16:46</td>\n",
       "    </tr>\n",
       "    <tr>\n",
       "      <th>354360</th>\n",
       "      <td>2016-04-02 20:37:03</td>\n",
       "      <td>3999</td>\n",
       "      <td>wagon</td>\n",
       "      <td>2005</td>\n",
       "      <td>manual</td>\n",
       "      <td>3</td>\n",
       "      <td>3er</td>\n",
       "      <td>150000</td>\n",
       "      <td>5</td>\n",
       "      <td>gasoline</td>\n",
       "      <td>bmw</td>\n",
       "      <td>no</td>\n",
       "      <td>2016-04-02</td>\n",
       "      <td>0</td>\n",
       "      <td>81825</td>\n",
       "      <td>2016-04-06 20:47:12</td>\n",
       "    </tr>\n",
       "    <tr>\n",
       "      <th>33995</th>\n",
       "      <td>2016-04-02 20:54:41</td>\n",
       "      <td>4999</td>\n",
       "      <td>small</td>\n",
       "      <td>2012</td>\n",
       "      <td>auto</td>\n",
       "      <td>5</td>\n",
       "      <td>other</td>\n",
       "      <td>5000</td>\n",
       "      <td>10</td>\n",
       "      <td>electric</td>\n",
       "      <td>renault</td>\n",
       "      <td>no</td>\n",
       "      <td>2016-04-02</td>\n",
       "      <td>0</td>\n",
       "      <td>38315</td>\n",
       "      <td>2016-04-06 22:16:21</td>\n",
       "    </tr>\n",
       "    <tr>\n",
       "      <th>154878</th>\n",
       "      <td>2016-03-06 10:36:27</td>\n",
       "      <td>500</td>\n",
       "      <td>unknown</td>\n",
       "      <td>2016</td>\n",
       "      <td>unknown</td>\n",
       "      <td>5</td>\n",
       "      <td>lupo</td>\n",
       "      <td>150000</td>\n",
       "      <td>0</td>\n",
       "      <td>petrol</td>\n",
       "      <td>volkswagen</td>\n",
       "      <td>no</td>\n",
       "      <td>2016-03-06</td>\n",
       "      <td>0</td>\n",
       "      <td>39108</td>\n",
       "      <td>2016-03-15 13:47:05</td>\n",
       "    </tr>\n",
       "    <tr>\n",
       "      <th>339754</th>\n",
       "      <td>2016-04-03 23:36:18</td>\n",
       "      <td>2000</td>\n",
       "      <td>other</td>\n",
       "      <td>2008</td>\n",
       "      <td>auto</td>\n",
       "      <td>9</td>\n",
       "      <td>unknown</td>\n",
       "      <td>5000</td>\n",
       "      <td>12</td>\n",
       "      <td>petrol</td>\n",
       "      <td>sonstige_autos</td>\n",
       "      <td>no</td>\n",
       "      <td>2016-04-03</td>\n",
       "      <td>0</td>\n",
       "      <td>86633</td>\n",
       "      <td>2016-04-06 08:16:49</td>\n",
       "    </tr>\n",
       "    <tr>\n",
       "      <th>186450</th>\n",
       "      <td>2016-03-24 00:56:43</td>\n",
       "      <td>1990</td>\n",
       "      <td>small</td>\n",
       "      <td>2004</td>\n",
       "      <td>manual</td>\n",
       "      <td>5</td>\n",
       "      <td>fiesta</td>\n",
       "      <td>150000</td>\n",
       "      <td>10</td>\n",
       "      <td>petrol</td>\n",
       "      <td>ford</td>\n",
       "      <td>no</td>\n",
       "      <td>2016-03-24</td>\n",
       "      <td>0</td>\n",
       "      <td>34125</td>\n",
       "      <td>2016-04-06 18:15:53</td>\n",
       "    </tr>\n",
       "    <tr>\n",
       "      <th>304165</th>\n",
       "      <td>2016-03-22 12:54:01</td>\n",
       "      <td>8500</td>\n",
       "      <td>wagon</td>\n",
       "      <td>2004</td>\n",
       "      <td>auto</td>\n",
       "      <td>12</td>\n",
       "      <td>leon</td>\n",
       "      <td>90000</td>\n",
       "      <td>6</td>\n",
       "      <td>gasoline</td>\n",
       "      <td>seat</td>\n",
       "      <td>yes</td>\n",
       "      <td>2016-03-22</td>\n",
       "      <td>0</td>\n",
       "      <td>26871</td>\n",
       "      <td>2016-03-22 12:54:01</td>\n",
       "    </tr>\n",
       "    <tr>\n",
       "      <th>431</th>\n",
       "      <td>2016-03-20 20:45:27</td>\n",
       "      <td>3950</td>\n",
       "      <td>small</td>\n",
       "      <td>2004</td>\n",
       "      <td>auto</td>\n",
       "      <td>5</td>\n",
       "      <td>unknown</td>\n",
       "      <td>70000</td>\n",
       "      <td>5</td>\n",
       "      <td>gasoline</td>\n",
       "      <td>sonstige_autos</td>\n",
       "      <td>no</td>\n",
       "      <td>2016-03-20</td>\n",
       "      <td>0</td>\n",
       "      <td>90562</td>\n",
       "      <td>2016-04-03 04:17:08</td>\n",
       "    </tr>\n",
       "    <tr>\n",
       "      <th>30097</th>\n",
       "      <td>2016-03-24 22:52:33</td>\n",
       "      <td>6850</td>\n",
       "      <td>small</td>\n",
       "      <td>2012</td>\n",
       "      <td>auto</td>\n",
       "      <td>5</td>\n",
       "      <td>unknown</td>\n",
       "      <td>30000</td>\n",
       "      <td>4</td>\n",
       "      <td>gasoline</td>\n",
       "      <td>sonstige_autos</td>\n",
       "      <td>no</td>\n",
       "      <td>2016-03-24</td>\n",
       "      <td>0</td>\n",
       "      <td>24784</td>\n",
       "      <td>2016-04-06 02:17:41</td>\n",
       "    </tr>\n",
       "    <tr>\n",
       "      <th>78337</th>\n",
       "      <td>2016-03-27 12:48:26</td>\n",
       "      <td>3890</td>\n",
       "      <td>other</td>\n",
       "      <td>2006</td>\n",
       "      <td>manual</td>\n",
       "      <td>12</td>\n",
       "      <td>unknown</td>\n",
       "      <td>40000</td>\n",
       "      <td>9</td>\n",
       "      <td>gasoline</td>\n",
       "      <td>sonstige_autos</td>\n",
       "      <td>unknown</td>\n",
       "      <td>2016-03-27</td>\n",
       "      <td>0</td>\n",
       "      <td>48612</td>\n",
       "      <td>2016-03-27 12:48:26</td>\n",
       "    </tr>\n",
       "    <tr>\n",
       "      <th>40412</th>\n",
       "      <td>2016-03-06 15:47:05</td>\n",
       "      <td>3500</td>\n",
       "      <td>other</td>\n",
       "      <td>2010</td>\n",
       "      <td>auto</td>\n",
       "      <td>15</td>\n",
       "      <td>unknown</td>\n",
       "      <td>5000</td>\n",
       "      <td>3</td>\n",
       "      <td>petrol</td>\n",
       "      <td>sonstige_autos</td>\n",
       "      <td>unknown</td>\n",
       "      <td>2016-03-06</td>\n",
       "      <td>0</td>\n",
       "      <td>15370</td>\n",
       "      <td>2016-04-05 12:39:52</td>\n",
       "    </tr>\n",
       "    <tr>\n",
       "      <th>202343</th>\n",
       "      <td>2016-03-05 19:55:33</td>\n",
       "      <td>5800</td>\n",
       "      <td>small</td>\n",
       "      <td>2012</td>\n",
       "      <td>auto</td>\n",
       "      <td>11</td>\n",
       "      <td>other</td>\n",
       "      <td>20000</td>\n",
       "      <td>4</td>\n",
       "      <td>electric</td>\n",
       "      <td>renault</td>\n",
       "      <td>no</td>\n",
       "      <td>2016-03-05</td>\n",
       "      <td>0</td>\n",
       "      <td>69239</td>\n",
       "      <td>2016-04-05 20:17:12</td>\n",
       "    </tr>\n",
       "    <tr>\n",
       "      <th>225005</th>\n",
       "      <td>2016-04-03 18:51:14</td>\n",
       "      <td>5900</td>\n",
       "      <td>other</td>\n",
       "      <td>2010</td>\n",
       "      <td>auto</td>\n",
       "      <td>4</td>\n",
       "      <td>unknown</td>\n",
       "      <td>10000</td>\n",
       "      <td>9</td>\n",
       "      <td>gasoline</td>\n",
       "      <td>sonstige_autos</td>\n",
       "      <td>unknown</td>\n",
       "      <td>2016-04-03</td>\n",
       "      <td>0</td>\n",
       "      <td>12353</td>\n",
       "      <td>2016-04-05 19:19:03</td>\n",
       "    </tr>\n",
       "    <tr>\n",
       "      <th>275464</th>\n",
       "      <td>2016-03-24 01:58:04</td>\n",
       "      <td>280</td>\n",
       "      <td>other</td>\n",
       "      <td>2012</td>\n",
       "      <td>auto</td>\n",
       "      <td>4</td>\n",
       "      <td>a3</td>\n",
       "      <td>150000</td>\n",
       "      <td>6</td>\n",
       "      <td>unknown</td>\n",
       "      <td>audi</td>\n",
       "      <td>yes</td>\n",
       "      <td>2016-03-24</td>\n",
       "      <td>0</td>\n",
       "      <td>17192</td>\n",
       "      <td>2016-03-25 16:20:06</td>\n",
       "    </tr>\n",
       "  </tbody>\n",
       "</table>\n",
       "</div>"
      ],
      "text/plain": [
       "              date_crawled  price vehicle_type  registration_year  gearbox  \\\n",
       "96730  2016-03-27 15:54:07   1100      unknown               2018   manual   \n",
       "321042 2016-04-04 00:46:45   2999        small               2005     auto   \n",
       "354360 2016-04-02 20:37:03   3999        wagon               2005   manual   \n",
       "33995  2016-04-02 20:54:41   4999        small               2012     auto   \n",
       "154878 2016-03-06 10:36:27    500      unknown               2016  unknown   \n",
       "339754 2016-04-03 23:36:18   2000        other               2008     auto   \n",
       "186450 2016-03-24 00:56:43   1990        small               2004   manual   \n",
       "304165 2016-03-22 12:54:01   8500        wagon               2004     auto   \n",
       "431    2016-03-20 20:45:27   3950        small               2004     auto   \n",
       "30097  2016-03-24 22:52:33   6850        small               2012     auto   \n",
       "78337  2016-03-27 12:48:26   3890        other               2006   manual   \n",
       "40412  2016-03-06 15:47:05   3500        other               2010     auto   \n",
       "202343 2016-03-05 19:55:33   5800        small               2012     auto   \n",
       "225005 2016-04-03 18:51:14   5900        other               2010     auto   \n",
       "275464 2016-03-24 01:58:04    280        other               2012     auto   \n",
       "\n",
       "        power    model  kilometer  registration_month fuel_type  \\\n",
       "96730      13       ka     150000                   0    petrol   \n",
       "321042      5  unknown      50000                   3  gasoline   \n",
       "354360      3      3er     150000                   5  gasoline   \n",
       "33995       5    other       5000                  10  electric   \n",
       "154878      5     lupo     150000                   0    petrol   \n",
       "339754      9  unknown       5000                  12    petrol   \n",
       "186450      5   fiesta     150000                  10    petrol   \n",
       "304165     12     leon      90000                   6  gasoline   \n",
       "431         5  unknown      70000                   5  gasoline   \n",
       "30097       5  unknown      30000                   4  gasoline   \n",
       "78337      12  unknown      40000                   9  gasoline   \n",
       "40412      15  unknown       5000                   3    petrol   \n",
       "202343     11    other      20000                   4  electric   \n",
       "225005      4  unknown      10000                   9  gasoline   \n",
       "275464      4       a3     150000                   6   unknown   \n",
       "\n",
       "                 brand repaired date_created  number_of_pictures  postal_code  \\\n",
       "96730             ford  unknown   2016-03-27                   0        24109   \n",
       "321042  sonstige_autos       no   2016-04-03                   0         4860   \n",
       "354360             bmw       no   2016-04-02                   0        81825   \n",
       "33995          renault       no   2016-04-02                   0        38315   \n",
       "154878      volkswagen       no   2016-03-06                   0        39108   \n",
       "339754  sonstige_autos       no   2016-04-03                   0        86633   \n",
       "186450            ford       no   2016-03-24                   0        34125   \n",
       "304165            seat      yes   2016-03-22                   0        26871   \n",
       "431     sonstige_autos       no   2016-03-20                   0        90562   \n",
       "30097   sonstige_autos       no   2016-03-24                   0        24784   \n",
       "78337   sonstige_autos  unknown   2016-03-27                   0        48612   \n",
       "40412   sonstige_autos  unknown   2016-03-06                   0        15370   \n",
       "202343         renault       no   2016-03-05                   0        69239   \n",
       "225005  sonstige_autos  unknown   2016-04-03                   0        12353   \n",
       "275464            audi      yes   2016-03-24                   0        17192   \n",
       "\n",
       "                 last_seen  \n",
       "96730  2016-04-05 11:49:03  \n",
       "321042 2016-04-06 06:16:46  \n",
       "354360 2016-04-06 20:47:12  \n",
       "33995  2016-04-06 22:16:21  \n",
       "154878 2016-03-15 13:47:05  \n",
       "339754 2016-04-06 08:16:49  \n",
       "186450 2016-04-06 18:15:53  \n",
       "304165 2016-03-22 12:54:01  \n",
       "431    2016-04-03 04:17:08  \n",
       "30097  2016-04-06 02:17:41  \n",
       "78337  2016-03-27 12:48:26  \n",
       "40412  2016-04-05 12:39:52  \n",
       "202343 2016-04-05 20:17:12  \n",
       "225005 2016-04-05 19:19:03  \n",
       "275464 2016-03-25 16:20:06  "
      ]
     },
     "execution_count": 31,
     "metadata": {},
     "output_type": "execute_result"
    }
   ],
   "source": [
    "data_main[(data_main['power'] < 20) & (data_main['registration_year'] > 2000)].sample(15)"
   ]
  },
  {
   "cell_type": "markdown",
   "metadata": {},
   "source": [
    "Явные аномалии, тоже заменим на медианные значения с учетом марки автомобиля и года регистрации"
   ]
  },
  {
   "cell_type": "code",
   "execution_count": 32,
   "metadata": {},
   "outputs": [],
   "source": [
    "for b in data_main['brand'].unique():\n",
    "    data_main.loc[(data_main['brand'] == b) & (data_main['power'] < 20) & (data_main['registration_year'] > 2000), 'power'] = \\\n",
    "    round(data_main.loc[(data_main['brand'] == b) & (data_main['registration_year'] > 2000), 'power'].median())"
   ]
  },
  {
   "cell_type": "markdown",
   "metadata": {},
   "source": [
    "Теперь проверим кол-во объектов с месяцем регистрации 0"
   ]
  },
  {
   "cell_type": "code",
   "execution_count": 33,
   "metadata": {},
   "outputs": [
    {
     "data": {
      "text/plain": [
       "31796"
      ]
     },
     "execution_count": 33,
     "metadata": {},
     "output_type": "execute_result"
    }
   ],
   "source": [
    "data_main.query('registration_month == 0').shape[0]"
   ]
  },
  {
   "cell_type": "markdown",
   "metadata": {},
   "source": [
    "Посмотрим какие вообще есть значения в столбце с месяцем регистрации"
   ]
  },
  {
   "cell_type": "code",
   "execution_count": 34,
   "metadata": {},
   "outputs": [
    {
     "data": {
      "text/plain": [
       "3     33683\n",
       "0     31796\n",
       "6     30686\n",
       "4     28582\n",
       "5     28407\n",
       "7     26530\n",
       "10    25534\n",
       "11    23687\n",
       "12    23658\n",
       "9     23285\n",
       "1     22469\n",
       "8     22050\n",
       "2     20711\n",
       "Name: registration_month, dtype: int64"
      ]
     },
     "execution_count": 34,
     "metadata": {},
     "output_type": "execute_result"
    }
   ],
   "source": [
    "data_main['registration_month'].value_counts()"
   ]
  },
  {
   "cell_type": "markdown",
   "metadata": {},
   "source": [
    "Логично, что в этом столбце отсчет месяцев начинается не с 0, так как есть 12 по счету месяц. Значит, не было информации о месяце регистрации, поэтому для таких объектов значения заполнились заглушками - 0. Месяц по важности будет не самый основной скорее всего для моделей, поэтому оставим как есть значения в этом столбце, так как логично подходящие медианные значения в этом случае не подобрать"
   ]
  },
  {
   "cell_type": "markdown",
   "metadata": {},
   "source": [
    "С основными аномалиями в количественных столбцах разобрались, категориальные столбцы будем более детально изучать при проверке данных на дубликаты. Осталось сбросить индексы в датафрейме."
   ]
  },
  {
   "cell_type": "code",
   "execution_count": 35,
   "metadata": {},
   "outputs": [],
   "source": [
    "data_main = data_main.reset_index(drop=True)"
   ]
  },
  {
   "cell_type": "markdown",
   "metadata": {},
   "source": [
    "**Во время обработки аномалий были выполены следующие основные действия:**\n",
    "- были удалены объекты со значением в столбце `price` менее 50 евро\n",
    "- были удалены объекты со значением в столбце `registration_year` автомобиля больше 2025 и меньше 1960\n",
    "- были удалены объекты со значением в столбце `power` более 700 л.с., среди объектов от 500 л.с. до 700 л.с. были удалены объекты со стоимостью менее 7000 евро\n",
    "- в столбце `power` значения 0 были заменены на медианные значения мощности автомобилей для каждой марки\n",
    "- у автомобилей с мощностью менее 20 л.с. и годом регистрации больше 2000 значение мощности было заменено на медианное значение мощности для автомобиля с  учетом марки и года выпуска больше, чем 2000"
   ]
  },
  {
   "cell_type": "markdown",
   "metadata": {},
   "source": [
    "### Изменение типов данных столбцов"
   ]
  },
  {
   "cell_type": "markdown",
   "metadata": {},
   "source": [
    "Проверим типы данных всех столбцов датафрейма:"
   ]
  },
  {
   "cell_type": "code",
   "execution_count": 36,
   "metadata": {},
   "outputs": [
    {
     "name": "stdout",
     "output_type": "stream",
     "text": [
      "<class 'pandas.core.frame.DataFrame'>\n",
      "RangeIndex: 341078 entries, 0 to 341077\n",
      "Data columns (total 16 columns):\n",
      " #   Column              Non-Null Count   Dtype         \n",
      "---  ------              --------------   -----         \n",
      " 0   date_crawled        341078 non-null  datetime64[ns]\n",
      " 1   price               341078 non-null  int64         \n",
      " 2   vehicle_type        341078 non-null  object        \n",
      " 3   registration_year   341078 non-null  int64         \n",
      " 4   gearbox             341078 non-null  object        \n",
      " 5   power               341078 non-null  int64         \n",
      " 6   model               341078 non-null  object        \n",
      " 7   kilometer           341078 non-null  int64         \n",
      " 8   registration_month  341078 non-null  int64         \n",
      " 9   fuel_type           341078 non-null  object        \n",
      " 10  brand               341078 non-null  object        \n",
      " 11  repaired            341078 non-null  object        \n",
      " 12  date_created        341078 non-null  datetime64[ns]\n",
      " 13  number_of_pictures  341078 non-null  int64         \n",
      " 14  postal_code         341078 non-null  int64         \n",
      " 15  last_seen           341078 non-null  datetime64[ns]\n",
      "dtypes: datetime64[ns](3), int64(7), object(6)\n",
      "memory usage: 41.6+ MB\n"
     ]
    }
   ],
   "source": [
    "data_main.info()"
   ]
  },
  {
   "cell_type": "markdown",
   "metadata": {},
   "source": [
    "**Типы данных столбцов соответствуют значениям в них**"
   ]
  },
  {
   "cell_type": "markdown",
   "metadata": {},
   "source": [
    "### Обработка дубликатов"
   ]
  },
  {
   "cell_type": "markdown",
   "metadata": {},
   "source": [
    "Проверим датафрейм на наличие явных дубликатов"
   ]
  },
  {
   "cell_type": "code",
   "execution_count": 37,
   "metadata": {},
   "outputs": [
    {
     "name": "stdout",
     "output_type": "stream",
     "text": [
      "Кол-во явных дубликатов : 4\n"
     ]
    }
   ],
   "source": [
    "print(f\"Кол-во явных дубликатов : {data_main.duplicated().sum()}\")"
   ]
  },
  {
   "cell_type": "markdown",
   "metadata": {},
   "source": [
    "Удалим явные дубликаты"
   ]
  },
  {
   "cell_type": "code",
   "execution_count": 38,
   "metadata": {},
   "outputs": [
    {
     "name": "stdout",
     "output_type": "stream",
     "text": [
      "Количество строк до удаления 341078\n",
      "Количество строк после удаления 341074\n"
     ]
    }
   ],
   "source": [
    "print(f'Количество строк до удаления {data_main.shape[0]}')\n",
    "data_main = data_main.drop_duplicates().reset_index(drop = True)\n",
    "print(f'Количество строк после удаления {data_main.shape[0]}')"
   ]
  },
  {
   "cell_type": "markdown",
   "metadata": {},
   "source": [
    "Теперь проверим столбцы на наличие неявных дубликатов во всех категориальных столбцах"
   ]
  },
  {
   "cell_type": "code",
   "execution_count": 39,
   "metadata": {},
   "outputs": [
    {
     "name": "stdout",
     "output_type": "stream",
     "text": [
      "Значение столбца vehicle_type: ['unknown' 'coupe' 'suv' 'small' 'sedan' 'convertible' 'bus' 'wagon'\n",
      " 'other']\n",
      "Значение столбца gearbox: ['manual' 'auto' 'unknown']\n",
      "Значение столбца model: ['golf' 'unknown' 'grand' 'fabia' '3er' '2_reihe' 'c_max' '3_reihe'\n",
      " 'passat' 'navara' 'polo' 'twingo' 'a_klasse' 'scirocco' '5er' 'meriva'\n",
      " 'arosa' 'other' 'c4' 'civic' 'transporter' 'punto' 'e_klasse' 'clio'\n",
      " 'kadett' 'kangoo' 'one' 'fortwo' '1er' 'b_klasse' 'signum' 'astra' 'a8'\n",
      " 'jetta' 'fiesta' 'c_klasse' 'micra' 'vito' 'sprinter' '156' 'escort'\n",
      " 'forester' 'xc_reihe' 'scenic' 'a4' 'ka' 'a1' 'insignia' 'combo' 'focus'\n",
      " 'tt' 'corsa' 'a6' 'jazz' 'omega' 'slk' '7er' '80' '147' '100' 'z_reihe'\n",
      " 'sportage' 'sorento' 'v40' 'ibiza' 'mustang' 'eos' 'touran' 'getz' 'a3'\n",
      " 'almera' 'megane' 'lupo' 'r19' 'zafira' 'caddy' 'mondeo' 'cordoba' 'colt'\n",
      " 'impreza' 'vectra' 'berlingo' 'tiguan' 'i_reihe' 'espace' 'sharan'\n",
      " '6_reihe' 'panda' 'up' 'seicento' 'ceed' '5_reihe' 'yeti' 'octavia' 'mii'\n",
      " 'rx_reihe' '6er' 'modus' 'fox' 'matiz' 'beetle' 'c1' 'rio' 'touareg'\n",
      " 'logan' 'spider' 'cuore' 's_max' 'a2' 'galaxy' 'c3' 'viano' 's_klasse'\n",
      " '1_reihe' 'avensis' 'roomster' 'sl' 'kaefer' 'santa' 'cooper' 'leon'\n",
      " '4_reihe' 'a5' '500' 'laguna' 'ptcruiser' 'clk' 'primera' 'x_reihe'\n",
      " 'exeo' '159' 'transit' 'juke' 'qashqai' 'carisma' 'accord' 'corolla'\n",
      " 'lanos' 'phaeton' 'verso' 'swift' 'rav' 'picanto' 'boxster' 'kalos'\n",
      " 'superb' 'stilo' 'alhambra' 'roadster' 'ypsilon' 'cayenne' 'galant'\n",
      " 'justy' '90' 'sirion' 'crossfire' 'agila' 'duster' 'cr_reihe' 'v50'\n",
      " 'mx_reihe' 'c_reihe' 'v_klasse' 'm_klasse' 'yaris' 'c5' 'aygo' 'cc'\n",
      " 'carnival' 'fusion' '911' 'bora' 'forfour' 'cl' 'tigra' '300c' 'spark'\n",
      " 'v70' 'kuga' 'x_type' 'ducato' 's_type' 'x_trail' 'toledo' 'altea'\n",
      " 'voyager' 'calibra' 'bravo' 'antara' 'tucson' 'citigo' 'jimny' 'wrangler'\n",
      " 'lybra' 'q7' 'lancer' 'captiva' 'c2' 'discovery' 'freelander' 'sandero'\n",
      " 'note' '900' 'cherokee' 'clubman' 'samara' 'defender' '601' 'cx_reihe'\n",
      " 'legacy' 'pajero' 'auris' 'niva' 's60' 'm_reihe' 'nubira' 'vivaro'\n",
      " 'g_klasse' 'lodgy' '850' 'range_rover' 'q3' 'serie_2' 'glk' 'charade'\n",
      " 'croma' 'outlander' 'doblo' 'musa' 'move' '9000' 'v60' '145' 'aveo' '200'\n",
      " 'b_max' 'range_rover_sport' 'terios' 'rangerover' 'q5'\n",
      " 'range_rover_evoque' 'materia' 'delta' 'gl' 'kalina' 'amarok'\n",
      " 'elefantino' 'i3' 'kappa' 'serie_3' 'serie_1']\n",
      "Значение столбца fuel_type: ['petrol' 'gasoline' 'unknown' 'lpg' 'other' 'hybrid' 'cng' 'electric']\n",
      "Значение столбца brand: ['volkswagen' 'audi' 'jeep' 'skoda' 'bmw' 'peugeot' 'ford' 'mazda'\n",
      " 'nissan' 'renault' 'mercedes_benz' 'opel' 'seat' 'citroen' 'honda' 'fiat'\n",
      " 'mini' 'smart' 'hyundai' 'alfa_romeo' 'subaru' 'volvo' 'mitsubishi' 'kia'\n",
      " 'suzuki' 'lancia' 'sonstige_autos' 'toyota' 'chevrolet' 'dacia'\n",
      " 'daihatsu' 'trabant' 'chrysler' 'jaguar' 'daewoo' 'rover' 'porsche'\n",
      " 'saab' 'land_rover' 'lada']\n",
      "Значение столбца repaired: ['unknown' 'yes' 'no']\n"
     ]
    }
   ],
   "source": [
    "for c in data_main.select_dtypes(include='object').columns.tolist():\n",
    "    print(f'Значение столбца {c}: {data_main[c].unique()}')"
   ]
  },
  {
   "cell_type": "markdown",
   "metadata": {},
   "source": [
    "Тип газового топлива lpg отличается от cng, поэтому это нельзя считать неявным дубликатом. Марка `rover` также являлась самостоятельной компанией до ее банкротства в 2005 году, и не имеет отношение к марке `land_rover`."
   ]
  },
  {
   "cell_type": "markdown",
   "metadata": {},
   "source": [
    "Petrol и gasoline - это два термина-синонима одного и того же топлива, которые называются в разных странах по-разному. Поэтому оставим один тип топлива - gasoline и проверим замену."
   ]
  },
  {
   "cell_type": "code",
   "execution_count": 40,
   "metadata": {
    "scrolled": true
   },
   "outputs": [
    {
     "data": {
      "text/plain": [
       "array(['gasoline', 'unknown', 'lpg', 'other', 'hybrid', 'cng', 'electric'],\n",
       "      dtype=object)"
      ]
     },
     "execution_count": 40,
     "metadata": {},
     "output_type": "execute_result"
    }
   ],
   "source": [
    "data_main['fuel_type'] = data_main['fuel_type'].replace('petrol','gasoline')\n",
    "data_main['fuel_type'].unique()"
   ]
  },
  {
   "cell_type": "markdown",
   "metadata": {},
   "source": [
    "Дополнительно проверим, будут ли неявные дубликаты, если убрать из датасета столбец с датой скачивания анкеты и тем самым проверить, что одну и ту же анкету могли скачать несколько раз"
   ]
  },
  {
   "cell_type": "code",
   "execution_count": 41,
   "metadata": {},
   "outputs": [
    {
     "data": {
      "text/plain": [
       "84"
      ]
     },
     "execution_count": 41,
     "metadata": {},
     "output_type": "execute_result"
    }
   ],
   "source": [
    "data_main.drop(['date_crawled'], axis=1).duplicated().sum()"
   ]
  },
  {
   "cell_type": "markdown",
   "metadata": {},
   "source": [
    "Удалим обнаруженные неявные дубликаты из датафрейма и обновим индексы"
   ]
  },
  {
   "cell_type": "code",
   "execution_count": 42,
   "metadata": {},
   "outputs": [],
   "source": [
    "data_main = data_main[data_main.drop(['date_crawled'], axis=1).duplicated() == False].reset_index(drop = True)"
   ]
  },
  {
   "cell_type": "markdown",
   "metadata": {},
   "source": [
    "Проверим кол-во оставшихся строк"
   ]
  },
  {
   "cell_type": "code",
   "execution_count": 43,
   "metadata": {},
   "outputs": [
    {
     "data": {
      "text/plain": [
       "340990"
      ]
     },
     "execution_count": 43,
     "metadata": {},
     "output_type": "execute_result"
    }
   ],
   "source": [
    "data_main.shape[0]"
   ]
  },
  {
   "cell_type": "markdown",
   "metadata": {},
   "source": [
    "**При обработке дубликатов были выполнены следующие действия:**\n",
    "- удалены явные дубликаты из датафрейма\n",
    "- удалены неявные дубликаты из датафрейма с анкетами автомобилей, которые были загружены несколько раз\n",
    "- заменены дублирующиеся значения одного и того же типа топлива"
   ]
  },
  {
   "cell_type": "markdown",
   "metadata": {},
   "source": [
    "### Удаление неинформативных признаков"
   ]
  },
  {
   "cell_type": "markdown",
   "metadata": {},
   "source": [
    "Проверим значения, которые содержит столбец `number_of_pictures`"
   ]
  },
  {
   "cell_type": "code",
   "execution_count": 44,
   "metadata": {},
   "outputs": [
    {
     "data": {
      "text/plain": [
       "0    340990\n",
       "Name: number_of_pictures, dtype: int64"
      ]
     },
     "execution_count": 44,
     "metadata": {},
     "output_type": "execute_result"
    }
   ],
   "source": [
    "data_main['number_of_pictures'].value_counts()"
   ]
  },
  {
   "cell_type": "markdown",
   "metadata": {},
   "source": [
    "Этот столбец содержит только нулевые значения, поэтому его можно удалить ввиду неинформативости "
   ]
  },
  {
   "cell_type": "code",
   "execution_count": 45,
   "metadata": {},
   "outputs": [],
   "source": [
    "data_main = data_main.drop(['number_of_pictures'], axis=1)"
   ]
  },
  {
   "cell_type": "markdown",
   "metadata": {},
   "source": [
    "Также неинформативными являются временные столбцы, относящиеся к пользователю и не относящиеся к автомобилям: `date_crawled`, `date_created` , `last_seen`. Удалим их из нашего датафрейма"
   ]
  },
  {
   "cell_type": "code",
   "execution_count": 46,
   "metadata": {},
   "outputs": [],
   "source": [
    "data_main = data_main.drop(['date_crawled','date_created','last_seen'], axis = 1)"
   ]
  },
  {
   "cell_type": "markdown",
   "metadata": {},
   "source": [
    "Проверим, сколько появилось явных дубликатов после удаления временных столбцов и удалим их"
   ]
  },
  {
   "cell_type": "code",
   "execution_count": 47,
   "metadata": {},
   "outputs": [
    {
     "name": "stdout",
     "output_type": "stream",
     "text": [
      "Кол-во явных дубликатов : 20467\n"
     ]
    }
   ],
   "source": [
    "print(f\"Кол-во явных дубликатов : {data_main.duplicated().sum()}\")"
   ]
  },
  {
   "cell_type": "markdown",
   "metadata": {},
   "source": [
    "Удалим эти образовавшиеся дубликаты"
   ]
  },
  {
   "cell_type": "code",
   "execution_count": 48,
   "metadata": {},
   "outputs": [
    {
     "name": "stdout",
     "output_type": "stream",
     "text": [
      "Количество строк до удаления 340990\n",
      "Количество строк после удаления 320523\n"
     ]
    }
   ],
   "source": [
    "print(f'Количество строк до удаления {data_main.shape[0]}')\n",
    "data_main = data_main.drop_duplicates().reset_index(drop = True)\n",
    "print(f'Количество строк после удаления {data_main.shape[0]}')"
   ]
  },
  {
   "cell_type": "markdown",
   "metadata": {},
   "source": [
    "Также под возможное удаление рассматривался и столбец с почтовым индексом, но этот индекс может судить о стране изготовления или эксплуатации машины, а от этого цена на автомобиль косвенно может тоже зависеть, более детально посмотрим на корреляционном анализе."
   ]
  },
  {
   "cell_type": "markdown",
   "metadata": {},
   "source": [
    "Проверим несколько строк получившегося датафрейма после предобработки данных и его размерность"
   ]
  },
  {
   "cell_type": "code",
   "execution_count": 49,
   "metadata": {},
   "outputs": [
    {
     "data": {
      "text/html": [
       "<div>\n",
       "<style scoped>\n",
       "    .dataframe tbody tr th:only-of-type {\n",
       "        vertical-align: middle;\n",
       "    }\n",
       "\n",
       "    .dataframe tbody tr th {\n",
       "        vertical-align: top;\n",
       "    }\n",
       "\n",
       "    .dataframe thead th {\n",
       "        text-align: right;\n",
       "    }\n",
       "</style>\n",
       "<table border=\"1\" class=\"dataframe\">\n",
       "  <thead>\n",
       "    <tr style=\"text-align: right;\">\n",
       "      <th></th>\n",
       "      <th>price</th>\n",
       "      <th>vehicle_type</th>\n",
       "      <th>registration_year</th>\n",
       "      <th>gearbox</th>\n",
       "      <th>power</th>\n",
       "      <th>model</th>\n",
       "      <th>kilometer</th>\n",
       "      <th>registration_month</th>\n",
       "      <th>fuel_type</th>\n",
       "      <th>brand</th>\n",
       "      <th>repaired</th>\n",
       "      <th>postal_code</th>\n",
       "    </tr>\n",
       "  </thead>\n",
       "  <tbody>\n",
       "    <tr>\n",
       "      <th>0</th>\n",
       "      <td>480</td>\n",
       "      <td>unknown</td>\n",
       "      <td>1993</td>\n",
       "      <td>manual</td>\n",
       "      <td>90</td>\n",
       "      <td>golf</td>\n",
       "      <td>150000</td>\n",
       "      <td>0</td>\n",
       "      <td>gasoline</td>\n",
       "      <td>volkswagen</td>\n",
       "      <td>unknown</td>\n",
       "      <td>70435</td>\n",
       "    </tr>\n",
       "    <tr>\n",
       "      <th>1</th>\n",
       "      <td>18300</td>\n",
       "      <td>coupe</td>\n",
       "      <td>2011</td>\n",
       "      <td>manual</td>\n",
       "      <td>190</td>\n",
       "      <td>unknown</td>\n",
       "      <td>125000</td>\n",
       "      <td>5</td>\n",
       "      <td>gasoline</td>\n",
       "      <td>audi</td>\n",
       "      <td>yes</td>\n",
       "      <td>66954</td>\n",
       "    </tr>\n",
       "    <tr>\n",
       "      <th>2</th>\n",
       "      <td>9800</td>\n",
       "      <td>suv</td>\n",
       "      <td>2004</td>\n",
       "      <td>auto</td>\n",
       "      <td>163</td>\n",
       "      <td>grand</td>\n",
       "      <td>125000</td>\n",
       "      <td>8</td>\n",
       "      <td>gasoline</td>\n",
       "      <td>jeep</td>\n",
       "      <td>unknown</td>\n",
       "      <td>90480</td>\n",
       "    </tr>\n",
       "    <tr>\n",
       "      <th>3</th>\n",
       "      <td>1500</td>\n",
       "      <td>small</td>\n",
       "      <td>2001</td>\n",
       "      <td>manual</td>\n",
       "      <td>75</td>\n",
       "      <td>golf</td>\n",
       "      <td>150000</td>\n",
       "      <td>6</td>\n",
       "      <td>gasoline</td>\n",
       "      <td>volkswagen</td>\n",
       "      <td>no</td>\n",
       "      <td>91074</td>\n",
       "    </tr>\n",
       "    <tr>\n",
       "      <th>4</th>\n",
       "      <td>3600</td>\n",
       "      <td>small</td>\n",
       "      <td>2008</td>\n",
       "      <td>manual</td>\n",
       "      <td>69</td>\n",
       "      <td>fabia</td>\n",
       "      <td>90000</td>\n",
       "      <td>7</td>\n",
       "      <td>gasoline</td>\n",
       "      <td>skoda</td>\n",
       "      <td>no</td>\n",
       "      <td>60437</td>\n",
       "    </tr>\n",
       "    <tr>\n",
       "      <th>5</th>\n",
       "      <td>650</td>\n",
       "      <td>sedan</td>\n",
       "      <td>1995</td>\n",
       "      <td>manual</td>\n",
       "      <td>102</td>\n",
       "      <td>3er</td>\n",
       "      <td>150000</td>\n",
       "      <td>10</td>\n",
       "      <td>gasoline</td>\n",
       "      <td>bmw</td>\n",
       "      <td>yes</td>\n",
       "      <td>33775</td>\n",
       "    </tr>\n",
       "    <tr>\n",
       "      <th>6</th>\n",
       "      <td>2200</td>\n",
       "      <td>convertible</td>\n",
       "      <td>2004</td>\n",
       "      <td>manual</td>\n",
       "      <td>109</td>\n",
       "      <td>2_reihe</td>\n",
       "      <td>150000</td>\n",
       "      <td>8</td>\n",
       "      <td>gasoline</td>\n",
       "      <td>peugeot</td>\n",
       "      <td>no</td>\n",
       "      <td>67112</td>\n",
       "    </tr>\n",
       "    <tr>\n",
       "      <th>7</th>\n",
       "      <td>14500</td>\n",
       "      <td>bus</td>\n",
       "      <td>2014</td>\n",
       "      <td>manual</td>\n",
       "      <td>125</td>\n",
       "      <td>c_max</td>\n",
       "      <td>30000</td>\n",
       "      <td>8</td>\n",
       "      <td>gasoline</td>\n",
       "      <td>ford</td>\n",
       "      <td>unknown</td>\n",
       "      <td>94505</td>\n",
       "    </tr>\n",
       "    <tr>\n",
       "      <th>8</th>\n",
       "      <td>999</td>\n",
       "      <td>small</td>\n",
       "      <td>1998</td>\n",
       "      <td>manual</td>\n",
       "      <td>101</td>\n",
       "      <td>golf</td>\n",
       "      <td>150000</td>\n",
       "      <td>0</td>\n",
       "      <td>unknown</td>\n",
       "      <td>volkswagen</td>\n",
       "      <td>unknown</td>\n",
       "      <td>27472</td>\n",
       "    </tr>\n",
       "    <tr>\n",
       "      <th>9</th>\n",
       "      <td>2000</td>\n",
       "      <td>sedan</td>\n",
       "      <td>2004</td>\n",
       "      <td>manual</td>\n",
       "      <td>105</td>\n",
       "      <td>3_reihe</td>\n",
       "      <td>150000</td>\n",
       "      <td>12</td>\n",
       "      <td>gasoline</td>\n",
       "      <td>mazda</td>\n",
       "      <td>no</td>\n",
       "      <td>96224</td>\n",
       "    </tr>\n",
       "  </tbody>\n",
       "</table>\n",
       "</div>"
      ],
      "text/plain": [
       "   price vehicle_type  registration_year gearbox  power    model  kilometer  \\\n",
       "0    480      unknown               1993  manual     90     golf     150000   \n",
       "1  18300        coupe               2011  manual    190  unknown     125000   \n",
       "2   9800          suv               2004    auto    163    grand     125000   \n",
       "3   1500        small               2001  manual     75     golf     150000   \n",
       "4   3600        small               2008  manual     69    fabia      90000   \n",
       "5    650        sedan               1995  manual    102      3er     150000   \n",
       "6   2200  convertible               2004  manual    109  2_reihe     150000   \n",
       "7  14500          bus               2014  manual    125    c_max      30000   \n",
       "8    999        small               1998  manual    101     golf     150000   \n",
       "9   2000        sedan               2004  manual    105  3_reihe     150000   \n",
       "\n",
       "   registration_month fuel_type       brand repaired  postal_code  \n",
       "0                   0  gasoline  volkswagen  unknown        70435  \n",
       "1                   5  gasoline        audi      yes        66954  \n",
       "2                   8  gasoline        jeep  unknown        90480  \n",
       "3                   6  gasoline  volkswagen       no        91074  \n",
       "4                   7  gasoline       skoda       no        60437  \n",
       "5                  10  gasoline         bmw      yes        33775  \n",
       "6                   8  gasoline     peugeot       no        67112  \n",
       "7                   8  gasoline        ford  unknown        94505  \n",
       "8                   0   unknown  volkswagen  unknown        27472  \n",
       "9                  12  gasoline       mazda       no        96224  "
      ]
     },
     "metadata": {},
     "output_type": "display_data"
    },
    {
     "data": {
      "text/plain": [
       "(320523, 12)"
      ]
     },
     "execution_count": 49,
     "metadata": {},
     "output_type": "execute_result"
    }
   ],
   "source": [
    "display(data_main.head(10))\n",
    "data_main.shape"
   ]
  },
  {
   "cell_type": "markdown",
   "metadata": {},
   "source": [
    "**На этапе предобработки данных были выполнены следующие действия и получены следующие результаты:**\n",
    "- в наименованиях столбцов добавлены нижние подчеркивания. Столбцы приведены к змеиному регистру, лишних пробелов не обнаружено.\n",
    "- пропущенные значения в категориальных столбцах заменены на значения-заглушки.\n",
    "- во время обработки аномалий были выполнены следующие основные действия:\n",
    "  - были удалены объекты со значением в столбце `price` менее 50 евро\n",
    "  - были удалены объекты со значением в столбце `registration_year` автомобиля больше 2025 и меньше 1960\n",
    "  - были удалены объекты со значением в столбце `power` более 700 л.с., среди объектов от 500 л.с. до 700 л.с. были удалены объекты со стоимостью менее 7000 евро\n",
    "  - в столбце `power` значения 0 были заменены на медианные значения мощности автомобилей для каждой марки\n",
    "  - у автомобилей с мощностью менее 20 л.с. и годом регистрации больше 2000 значение мощности было заменено на медианное значение мощности для автомобиля с  учетом марки и года выпуска больше, чем 2000\n",
    "- удалены явные дубликаты из датафрейма\n",
    "- удалены неявные дубликаты из датафрейма с анкетами автомобилей, которые были загружены несколько раз\n",
    "- заменены дублирующиеся значения одного и того же типа топлива\n",
    "- удалены неинформативные столбцы `date_crawled`, `date_created` , `last_seen` и `number_of_pictures` и образовавшиеся явные дубликаты после их удаления"
   ]
  },
  {
   "cell_type": "markdown",
   "metadata": {},
   "source": [
    "## Исследовательский анализ"
   ]
  },
  {
   "cell_type": "markdown",
   "metadata": {},
   "source": [
    "Выведем все описательные статистики снова для количественных признаков:"
   ]
  },
  {
   "cell_type": "code",
   "execution_count": 50,
   "metadata": {},
   "outputs": [
    {
     "data": {
      "text/html": [
       "<div>\n",
       "<style scoped>\n",
       "    .dataframe tbody tr th:only-of-type {\n",
       "        vertical-align: middle;\n",
       "    }\n",
       "\n",
       "    .dataframe tbody tr th {\n",
       "        vertical-align: top;\n",
       "    }\n",
       "\n",
       "    .dataframe thead th {\n",
       "        text-align: right;\n",
       "    }\n",
       "</style>\n",
       "<table border=\"1\" class=\"dataframe\">\n",
       "  <thead>\n",
       "    <tr style=\"text-align: right;\">\n",
       "      <th></th>\n",
       "      <th>count</th>\n",
       "      <th>mean</th>\n",
       "      <th>std</th>\n",
       "      <th>min</th>\n",
       "      <th>25%</th>\n",
       "      <th>50%</th>\n",
       "      <th>75%</th>\n",
       "      <th>max</th>\n",
       "    </tr>\n",
       "  </thead>\n",
       "  <tbody>\n",
       "    <tr>\n",
       "      <th>price</th>\n",
       "      <td>320523.0</td>\n",
       "      <td>4535.34</td>\n",
       "      <td>4502.07</td>\n",
       "      <td>50.0</td>\n",
       "      <td>1200.0</td>\n",
       "      <td>2850.0</td>\n",
       "      <td>6500.0</td>\n",
       "      <td>20000.0</td>\n",
       "    </tr>\n",
       "    <tr>\n",
       "      <th>registration_year</th>\n",
       "      <td>320523.0</td>\n",
       "      <td>2003.22</td>\n",
       "      <td>7.12</td>\n",
       "      <td>1961.0</td>\n",
       "      <td>1999.0</td>\n",
       "      <td>2003.0</td>\n",
       "      <td>2008.0</td>\n",
       "      <td>2019.0</td>\n",
       "    </tr>\n",
       "    <tr>\n",
       "      <th>power</th>\n",
       "      <td>320523.0</td>\n",
       "      <td>118.13</td>\n",
       "      <td>51.74</td>\n",
       "      <td>1.0</td>\n",
       "      <td>80.0</td>\n",
       "      <td>108.0</td>\n",
       "      <td>143.0</td>\n",
       "      <td>678.0</td>\n",
       "    </tr>\n",
       "    <tr>\n",
       "      <th>kilometer</th>\n",
       "      <td>320523.0</td>\n",
       "      <td>128691.48</td>\n",
       "      <td>37133.18</td>\n",
       "      <td>5000.0</td>\n",
       "      <td>125000.0</td>\n",
       "      <td>150000.0</td>\n",
       "      <td>150000.0</td>\n",
       "      <td>150000.0</td>\n",
       "    </tr>\n",
       "    <tr>\n",
       "      <th>registration_month</th>\n",
       "      <td>320523.0</td>\n",
       "      <td>5.77</td>\n",
       "      <td>3.69</td>\n",
       "      <td>0.0</td>\n",
       "      <td>3.0</td>\n",
       "      <td>6.0</td>\n",
       "      <td>9.0</td>\n",
       "      <td>12.0</td>\n",
       "    </tr>\n",
       "    <tr>\n",
       "      <th>postal_code</th>\n",
       "      <td>320523.0</td>\n",
       "      <td>50880.37</td>\n",
       "      <td>25757.35</td>\n",
       "      <td>1067.0</td>\n",
       "      <td>30539.0</td>\n",
       "      <td>49624.0</td>\n",
       "      <td>71570.0</td>\n",
       "      <td>99998.0</td>\n",
       "    </tr>\n",
       "  </tbody>\n",
       "</table>\n",
       "</div>"
      ],
      "text/plain": [
       "                       count       mean       std     min       25%       50%  \\\n",
       "price               320523.0    4535.34   4502.07    50.0    1200.0    2850.0   \n",
       "registration_year   320523.0    2003.22      7.12  1961.0    1999.0    2003.0   \n",
       "power               320523.0     118.13     51.74     1.0      80.0     108.0   \n",
       "kilometer           320523.0  128691.48  37133.18  5000.0  125000.0  150000.0   \n",
       "registration_month  320523.0       5.77      3.69     0.0       3.0       6.0   \n",
       "postal_code         320523.0   50880.37  25757.35  1067.0   30539.0   49624.0   \n",
       "\n",
       "                         75%       max  \n",
       "price                 6500.0   20000.0  \n",
       "registration_year     2008.0    2019.0  \n",
       "power                  143.0     678.0  \n",
       "kilometer           150000.0  150000.0  \n",
       "registration_month       9.0      12.0  \n",
       "postal_code          71570.0   99998.0  "
      ]
     },
     "metadata": {},
     "output_type": "display_data"
    }
   ],
   "source": [
    "display(round(data_main.describe(),2).T)"
   ]
  },
  {
   "cell_type": "markdown",
   "metadata": {},
   "source": [
    "- среднее значение года регистрации автомобиля - 2003\n",
    "- средняя мощность автомобилей среди всех данных - 109 л.с.\n",
    "- медианное значение пробега - 150 000 км\n",
    "- медианная цена автомобиля - 2900 евро"
   ]
  },
  {
   "cell_type": "markdown",
   "metadata": {},
   "source": [
    "Построим поочередно графики для всех признаков. Сначала построим графики распределения количественных признаков с разными графиками для дискретных и непрерывных величин."
   ]
  },
  {
   "cell_type": "code",
   "execution_count": 51,
   "metadata": {},
   "outputs": [
    {
     "data": {
      "image/png": "[encoded data removed]",
      "text/plain": [
       "<Figure size 560x320 with 1 Axes>"
      ]
     },
     "metadata": {
      "needs_background": "light"
     },
     "output_type": "display_data"
    },
    {
     "data": {
      "image/png": "[encoded data removed]",
      "text/plain": [
       "<Figure size 560x320 with 1 Axes>"
      ]
     },
     "metadata": {
      "needs_background": "light"
     },
     "output_type": "display_data"
    },
    {
     "data": {
      "image/png": "[encoded data removed]",
      "text/plain": [
       "<Figure size 560x320 with 1 Axes>"
      ]
     },
     "metadata": {
      "needs_background": "light"
     },
     "output_type": "display_data"
    },
    {
     "data": {
      "image/png": "[encoded data removed]",
      "text/plain": [
       "<Figure size 560x320 with 1 Axes>"
      ]
     },
     "metadata": {
      "needs_background": "light"
     },
     "output_type": "display_data"
    },
    {
     "data": {
      "image/png": "[encoded data removed]",
      "text/plain": [
       "<Figure size 560x320 with 1 Axes>"
      ]
     },
     "metadata": {
      "needs_background": "light"
     },
     "output_type": "display_data"
    },
    {
     "data": {
      "image/png": "[encoded data removed]",
      "text/plain": [
       "<Figure size 560x320 with 1 Axes>"
      ]
     },
     "metadata": {
      "needs_background": "light"
     },
     "output_type": "display_data"
    }
   ],
   "source": [
    "#выделим только количественные признаки, создав из них список\n",
    "for c in data_main.select_dtypes(exclude='object').columns.tolist():\n",
    "    plt.figure(figsize = (7,4), dpi = 80)\n",
    "    plt.grid()\n",
    "    plt.ylabel('Частота встречаемости признака')\n",
    "    plt.xlabel(f'Распределение признака {c}')\n",
    "    plt.title(f'Распределение признака {c}')\n",
    "    if (data_main[c].dtype == 'int64') and (len(data_main[c].unique()) < 30):\n",
    "        sns.countplot(data = data_main, x=c)\n",
    "        plt.ylabel('Частота встречаемости признака')\n",
    "        plt.xlabel(f'Распределение признака {c}')\n",
    "        plt.xticks(rotation=45) \n",
    "        plt.show()\n",
    "    else:\n",
    "        sns.histplot(data = data_main, x = c, color = 'peru', bins = 50)         \n",
    "        plt.show() "
   ]
  },
  {
   "cell_type": "markdown",
   "metadata": {},
   "source": [
    "Теперь посмотрим на распределение категориальных признаков датафрейма:"
   ]
  },
  {
   "cell_type": "code",
   "execution_count": 52,
   "metadata": {},
   "outputs": [
    {
     "data": {
      "image/png": "[encoded data removed]",
      "text/plain": [
       "<Figure size 432x432 with 1 Axes>"
      ]
     },
     "metadata": {},
     "output_type": "display_data"
    },
    {
     "data": {
      "image/png": "[encoded data removed]",
      "text/plain": [
       "<Figure size 432x432 with 1 Axes>"
      ]
     },
     "metadata": {},
     "output_type": "display_data"
    },
    {
     "data": {
      "image/png": "[encoded data removed]",
      "text/plain": [
       "<Figure size 432x432 with 1 Axes>"
      ]
     },
     "metadata": {},
     "output_type": "display_data"
    },
    {
     "data": {
      "image/png": "[encoded data removed]",
      "text/plain": [
       "<Figure size 432x432 with 1 Axes>"
      ]
     },
     "metadata": {},
     "output_type": "display_data"
    },
    {
     "data": {
      "image/png": "[encoded data removed]",
      "text/plain": [
       "<Figure size 432x432 with 1 Axes>"
      ]
     },
     "metadata": {},
     "output_type": "display_data"
    },
    {
     "data": {
      "image/png": "[encoded data removed]",
      "text/plain": [
       "<Figure size 432x432 with 1 Axes>"
      ]
     },
     "metadata": {},
     "output_type": "display_data"
    }
   ],
   "source": [
    "#добавим сразу свой набор цветов для графиков\n",
    "colors = (\"orange\", \"beige\",\"cyan\", \"brown\",\"grey\", \"green\")\n",
    "#выделим только категориальные признаки, создав из них список\n",
    "for c in data_main.select_dtypes(include='object').columns.tolist(): \n",
    "    #добавляем столбец для хранения в нем либо топ-5 названий на каждой итерации цикла, которые будут сменять друг друга,\n",
    "#перезаписывая значение столбца, либо для замены названия всех остальных значений на `другие`     \n",
    "    data_main['group_pie'] = data_main[c].where(data_main[c].\\\n",
    "#создаем список для топ-4 значений по количеству, с ним и будет проверяться значение столбца\n",
    "#из цикла и при совпадении значение неизменным запишется в новый столбец 'group_pie', а при несовпадении \n",
    "#значение поменяется на 'others'\n",
    "    isin(data_main.pivot_table(index = c,values = 'price', aggfunc=('count')).sort_values(by = 'price', ascending = False).index[:4]),'others')\n",
    "#создаем сводную таблицу, группируя по новому столбцу 'group_pie' и строим график\n",
    "    data_main.pivot_table(index = data_main['group_pie'], values = 'price', aggfunc={'count'}).sort_values(by= 'count', ascending = False).\\\n",
    "                plot(kind = 'pie', y = 'count',figsize = (6,6), legend = False, shadow=True,\\\n",
    "#добавим lambda функцию для отображения и процентов и кол-ва точного каждой группы, в f строке в первые фигурные ковычки просто\n",
    "#выводится x - это отображения в процентах каждой группы в параметре autopct по умолчанию, а во вторых фигруных скобках добавим\n",
    "#небольшое вычисление через проценты, количества в каждой группе, используя общее кол-во строк в таблице, этот метод точен только\n",
    "#до 3 знака после замятов отображении элементов\n",
    "                autopct= lambda x: '{:.1f}%\\n({:.0f})'.format(x,(x* data_main.shape[0]/100)), colors = colors, fontsize = 10)\n",
    "    plt.xlabel('')\n",
    "    plt.ylabel('')\n",
    "    plt.title(f'Распределение покупателей по признаку {c}')\n",
    "    plt.show()\n",
    "#удаляем наш технический столбец после отработки его функции\n",
    "data_main = data_main.drop('group_pie', axis = 1)"
   ]
  },
  {
   "cell_type": "markdown",
   "metadata": {},
   "source": [
    "**Полученные графики для количественных признаков показывают следующее:**\n",
    "- самая распространенная цена автомобиля находится в диапазоне от 1000 до 1500 евро, с увеличением цены кол-во машин логично уменьшается.\n",
    "- чаще всего машины встречаются с годом регистрации 2005 и 1997 года. Все подавляющее большинство машин имеет диапазон годов регистрации с 1990 по 2019 год\n",
    "- чаще всего встречаются автомобили с мощностью в районе 100 л.с. Больше всего автомобили имеются мощности в диапазоне от 50 до 200 л.с. \n",
    "- подавляющее большинство автомобилей имеет пробег в районе 150 000 км\n",
    "- Распределение по месяцам регистрации автомобилей равномерное\n",
    "\n",
    "**Полученные графики для категориальных признаков позволяют сделать следующие выводы:**\n",
    "- тройка лидеров по типу кузова:\n",
    "  - `sedan` - 26.1% (88931 автомобиль)\n",
    "  - `small` - 22.8% (77658 автомобилей)\n",
    "  - `wagon` - 18.6% (63435 автомобилей)\n",
    "- по типу коробки передач лидирует механическая коробка `manual` - 76.2% от общего количества, 259996 автомобиля\n",
    "- больше всего моделей автомобилей golf – 8.2% от общего количества – 28097 автомобиля\n",
    "- по типу топлива лидирует бензин – 89.9% от общего числа автомобилей – 306405.\n",
    "  - Тройка лидеров по марке автомобилей:\n",
    "  - Volkswagen -21.7% (73934 автомобиля)\n",
    "  - Opel – 11.2% (38210 автомобиля)\n",
    "  - BMW – 10.4% (35522 автомобиля)"
   ]
  },
  {
   "cell_type": "markdown",
   "metadata": {},
   "source": [
    "## Корреляционный анализ"
   ]
  },
  {
   "cell_type": "markdown",
   "metadata": {},
   "source": [
    "Построим матрицу корреляции для возможного выявления мультиколлинеарности между входными признаками. Так как присутствуют в данных нелинейные зависимости и категориальные признаки, то воспользуемся матрицей корреляции `phik`. Так как присутствуют непрерывные признаки, то их наименования передадим в переменную `interval_cols`. Хоть целочисленное значение цены и мощности автомобиля сами по себе являются дискретными величинами, но учитывая кол-во объектов и гистрограмму распределения как для непрерывной величины, лучше рассматривать эти величины в конкретном случае в качестве непрерывных величин."
   ]
  },
  {
   "cell_type": "code",
   "execution_count": 53,
   "metadata": {},
   "outputs": [
    {
     "data": {
      "image/png": "[encoded data removed]",
      "text/plain": [
       "<Figure size 720x576 with 2 Axes>"
      ]
     },
     "metadata": {
      "needs_background": "light"
     },
     "output_type": "display_data"
    }
   ],
   "source": [
    "interval_cols = [\n",
    "    'price',\n",
    "    'postal_code',\n",
    "    'power',\n",
    "    'registration_year'\n",
    "]\n",
    "\n",
    "plt.figure(figsize = (10,8))\n",
    "sns.heatmap(data_main.phik_matrix(interval_cols=interval_cols), annot=True, cmap='Greens')\n",
    "plt.title(r'Матрица коэффициентов корреляции $\\phi_K$ между всеми признаками датафрейма')\n",
    "plt.show()"
   ]
  },
  {
   "cell_type": "markdown",
   "metadata": {},
   "source": [
    "Наблюдается мультиколлинеарность между входными признаками `model` и `brand`, так как модель автомобиля однозначно определяет его, то можно марку автомобиля удалить из входных признаков и оставить только столбец с моделью, тем более корреляция между целевым признаком `price` и `model` намного выше, чем между `price` и `brand`. Столбец `postal_code` имеет ненулевую корреляцию с целевым признаком, поэтому его можно оставить."
   ]
  },
  {
   "cell_type": "code",
   "execution_count": 54,
   "metadata": {},
   "outputs": [],
   "source": [
    "data_main = data_main.drop(['brand'], axis=1).reset_index(drop = True)"
   ]
  },
  {
   "cell_type": "markdown",
   "metadata": {},
   "source": [
    "Проверим размерность"
   ]
  },
  {
   "cell_type": "code",
   "execution_count": 55,
   "metadata": {},
   "outputs": [
    {
     "data": {
      "text/plain": [
       "(320523, 11)"
      ]
     },
     "execution_count": 55,
     "metadata": {},
     "output_type": "execute_result"
    }
   ],
   "source": [
    "data_main.shape"
   ]
  },
  {
   "cell_type": "markdown",
   "metadata": {},
   "source": [
    "**На этапе корреляционного анализа были получены следующие результаты:**\n",
    "- между входными признаками `brand` и `model` присутствует мультиколлинеарность, поэтому было принято решение удалить признак `brand`.\n",
    "- также во входных признаках наблюдается сильная корреляция между `model` и `vehicle_type`\n",
    "- корреляция с целевым признаком больше всего у признаков `registrarion_year`, `model` и  `power`."
   ]
  },
  {
   "cell_type": "markdown",
   "metadata": {},
   "source": [
    "## Обучение моделей"
   ]
  },
  {
   "cell_type": "markdown",
   "metadata": {},
   "source": [
    "В нашем исследовании будем использовать несколько моделей: KNeighborsRegressor(), DecisionTreeRegressor() и две модели бустинга - CatBoostRegressor() и LGBMRegressor(). Так как модели бустинга обучаются долго, особенно долго обучается LGBMRegressor(), то у нее возьмем один набор гиперпараметров, а у модели  CatBoostRegressor() тоже добавим небольшой диапазон значений только в одном гиперпараметре. Так как в моделях бустинга будет мало гиперпараметров, то будем использовать GridSearchCV(), а для двух других моделей используем RandomizedSearchCV(). Для удобства будем использовать пайплайны. Итоговые результаты по качеству и времени работы моделей получим из таблицы `cv_results_`. Время работы посмотрим при помощи метода `.time()`, посчитав сколько времени занимает именно выполнение автоматизированного подбора гиперпараметров из всего кода в ячейке."
   ]
  },
  {
   "cell_type": "markdown",
   "metadata": {},
   "source": [
    "Сначала подготовим выборки для обучения"
   ]
  },
  {
   "cell_type": "code",
   "execution_count": 56,
   "metadata": {},
   "outputs": [],
   "source": [
    "X_train, X_test, y_train, y_test = train_test_split(\n",
    "    data_main.drop(['price'], axis=1),\n",
    "    data_main['price'],\n",
    "    test_size = TEST_SIZE, \n",
    "    random_state = RANDOM_STATE\n",
    ")"
   ]
  },
  {
   "cell_type": "markdown",
   "metadata": {},
   "source": [
    "Следующим шагом создадим отдельные списки для столбцов, которые будут масштабироваться и кодироваться разными способами. Хоть категориальные признаки не ранжируются и можно было бы применить OHE-кодирование, но так как в столбце `model` огромное количество категорий, то при использовании OHE-кодирования расчеты уходят в бесконечность. Так как мы используем нелинейные модели, то в этом случае можно использовать OrdinalEncoder(), просто в него не будем передавать проранжированные списки с категориями. "
   ]
  },
  {
   "cell_type": "code",
   "execution_count": 57,
   "metadata": {},
   "outputs": [],
   "source": [
    "ord_columns = [\n",
    "    'vehicle_type',\n",
    "    'gearbox',\n",
    "    'model',\n",
    "    'fuel_type',\n",
    "    'repaired'\n",
    "]\n",
    "\n",
    "num_columns = ['registration_year',\n",
    "               'power',\n",
    "               'kilometer',\n",
    "              'registration_month',\n",
    "               'postal_code'\n",
    "              ] "
   ]
  },
  {
   "cell_type": "markdown",
   "metadata": {},
   "source": [
    "Создадим общий пайплайн для предобработки данных, включающий замену неизвестных категориий при кодировании в OrdinalEncoder() на самое частое значение в данном категориальном столбце при помощи SimpleImputer(), так как при разбиении на тренировочную и тестовую выборку из-за огромного количества категорий в столбце `model` в тестовой выборке могут образоваться неизвестные категории"
   ]
  },
  {
   "cell_type": "code",
   "execution_count": 58,
   "metadata": {},
   "outputs": [
    {
     "name": "stdout",
     "output_type": "stream",
     "text": [
      "ColumnTransformer(remainder='passthrough',\n",
      "                  transformers=[('ord',\n",
      "                                 Pipeline(steps=[('simpleImputer_before_ord',\n",
      "                                                  SimpleImputer(strategy='most_frequent')),\n",
      "                                                 ('ord',\n",
      "                                                  OrdinalEncoder(handle_unknown='use_encoded_value',\n",
      "                                                                 unknown_value=nan)),\n",
      "                                                 ('simpleImputer_after_ord',\n",
      "                                                  SimpleImputer(strategy='most_frequent'))]),\n",
      "                                 ['vehicle_type', 'gearbox', 'model',\n",
      "                                  'fuel_type', 'repaired']),\n",
      "                                ('num', StandardScaler(),\n",
      "                                 ['registration_year', 'power', 'kilometer',\n",
      "                                  'registration_month', 'postal_code'])])\n"
     ]
    }
   ],
   "source": [
    "# cоздаём пайплайн для подготовки признаков из списка ord_columns: заполнение пропусков и Ordinal-кодирование\n",
    "# + SimpleImputer\n",
    "ord_pipe = Pipeline(\n",
    "    [\n",
    "        (\n",
    "            'simpleImputer_before_ord', \n",
    "            SimpleImputer(missing_values=np.nan, strategy='most_frequent')\n",
    "        ),\n",
    "        (\n",
    "            'ord', OrdinalEncoder(\n",
    "                handle_unknown='use_encoded_value',\n",
    "                unknown_value=np.nan\n",
    "            )\n",
    "        ),\n",
    "        (\n",
    "            'simpleImputer_after_ord', \n",
    "            SimpleImputer(missing_values=np.nan, strategy='most_frequent')\n",
    "        )\n",
    "    ]\n",
    ")\n",
    "\n",
    "\n",
    "# создаём общий пайплайн для подготовки данных\n",
    "data_preprocessor = ColumnTransformer(\n",
    "    [\n",
    "        ('ord', ord_pipe, ord_columns),\n",
    "        ('num', StandardScaler(), num_columns)\n",
    "    ], \n",
    "    remainder='passthrough'\n",
    ")\n",
    "print(data_preprocessor)"
   ]
  },
  {
   "cell_type": "markdown",
   "metadata": {},
   "source": [
    "### Написание функции для расчета RMSE"
   ]
  },
  {
   "cell_type": "markdown",
   "metadata": {},
   "source": [
    "Так как встроенной метрики RMSE нет, то напишем свою простую функцию для подсчета этой метрики. Для того, чтобы можно было использовать метрику при кросс-валидации при автоматизированном поиске гиперпараметров, то воспользуемся `make_scorer`. Также укажем параметр `greater_is_better=False`, так как в нашем случае мы пытаемся минимизировать ошибку. Если захотим вывести итоговую таблицу работы всех моделей `cv_results_`, то просто умножим столбец со значением метрики на `-1`, чтобы увидеть реальное значение метрики"
   ]
  },
  {
   "cell_type": "code",
   "execution_count": 59,
   "metadata": {},
   "outputs": [],
   "source": [
    "def rmse_score(y_real,y_preds):\n",
    "    return np.sqrt(mean_squared_error(y_real,y_preds))\n",
    "\n",
    "rmse_score_sv = make_scorer(\n",
    "    rmse_score,\n",
    "    greater_is_better=False\n",
    ")"
   ]
  },
  {
   "cell_type": "markdown",
   "metadata": {},
   "source": [
    "### Обучение моделей DecisionTreeRegressor() и KNeighborsRegressor()"
   ]
  },
  {
   "cell_type": "markdown",
   "metadata": {},
   "source": [
    "Соберем наш итоговый первый пайплайн с моделями DecisionTreeRegressor() и KNeighborsRegressor(), для подбора гиперпараметров будем использовать RandomizedSearchCV() и зададим небольшое количество итераций - 30, так как при сильном увеличении количества итераций время расчета становится слишком большим, а качество метрики у моделей все равно уступает моделям бустинга."
   ]
  },
  {
   "cell_type": "code",
   "execution_count": 60,
   "metadata": {},
   "outputs": [
    {
     "name": "stdout",
     "output_type": "stream",
     "text": [
      "Характеристики при RandomizedSearchCV\n",
      "Время подбора гиперпараметров для моделей: 147.98893094062805\n",
      "Лучшая модель и её параметры:\n",
      "\n",
      " Pipeline(steps=[('preprocessor',\n",
      "                 ColumnTransformer(remainder='passthrough',\n",
      "                                   transformers=[('ord',\n",
      "                                                  Pipeline(steps=[('simpleImputer_before_ord',\n",
      "                                                                   SimpleImputer(strategy='most_frequent')),\n",
      "                                                                  ('ord',\n",
      "                                                                   OrdinalEncoder(handle_unknown='use_encoded_value',\n",
      "                                                                                  unknown_value=nan)),\n",
      "                                                                  ('simpleImputer_after_ord',\n",
      "                                                                   SimpleImputer(strategy='most_frequent'))]),\n",
      "                                                  ['vehicle_type', 'gearbox',\n",
      "                                                   'model', 'fuel_type',\n",
      "                                                   'repaired']),\n",
      "                                                 ('num', StandardScaler(),\n",
      "                                                  ['registration_year', 'power',\n",
      "                                                   'kilometer',\n",
      "                                                   'registration_month',\n",
      "                                                   'postal_code'])])),\n",
      "                ('models',\n",
      "                 DecisionTreeRegressor(max_depth=14, max_features=8,\n",
      "                                       min_samples_leaf=4, min_samples_split=4,\n",
      "                                       random_state=42))])\n",
      "Метрика RMSE для лучшей модели, полученная при кросс-валидации: 2022.342030666689\n"
     ]
    }
   ],
   "source": [
    "pipe_one = Pipeline([\n",
    "    ('preprocessor', data_preprocessor),\n",
    "    ('models', DecisionTreeRegressor())\n",
    "])\n",
    "\n",
    "param_rend = [\n",
    "    # словарь для модели DecisionTreeRegressor()\n",
    "    {\n",
    "        'models': [DecisionTreeRegressor(random_state=RANDOM_STATE)],\n",
    "        'models__max_depth': range(2,16),\n",
    "        'models__min_samples_split' : range(2,8),\n",
    "        'models__min_samples_leaf': range(1,6),\n",
    "        'models__max_features': range(2,9),\n",
    "        'preprocessor__num': [StandardScaler()]\n",
    "    },\n",
    "    # словарь для модели KNeighborsRegressor()\n",
    "    {\n",
    "        'models': [KNeighborsRegressor()],\n",
    "        'models__n_neighbors': range(2,9),\n",
    "        'preprocessor__num': [StandardScaler()]\n",
    "    }\n",
    "]\n",
    "\n",
    "# запускаем таймер для проверки длительности поиска при GridSearchCV\n",
    "start = time.time()\n",
    "\n",
    "randomized_search = RandomizedSearchCV(\n",
    "    pipe_one, \n",
    "    param_distributions=param_rend, \n",
    "    cv=5, \n",
    "    scoring= rmse_score_sv,\n",
    "    random_state=RANDOM_STATE,\n",
    "    n_jobs=-1,\n",
    "    n_iter=30\n",
    ")\n",
    "randomized_search.fit(X_train, y_train) \n",
    "\n",
    "randomized_search_time = time.time() - start\n",
    "print('Характеристики при RandomizedSearchCV')\n",
    "print(f'Время подбора гиперпараметров для моделей: {randomized_search_time}')\n",
    "\n",
    "\n",
    "print('Лучшая модель и её параметры:\\n\\n', randomized_search.best_estimator_)\n",
    "print ('Метрика RMSE для лучшей модели, полученная при кросс-валидации:', abs(randomized_search.best_score_))"
   ]
  },
  {
   "cell_type": "markdown",
   "metadata": {},
   "source": [
    "Лучшей моделью из этих двух оказалась модель DecisionTreeRegressor(max_depth=14, max_features=8,  min_samples_leaf=4, min_samples_split=4), метрика RMSE при кросс-валидации 2022.34. Выведем таблицу с лучшими 5 моделями и основными показателями, которые важны для заказчика"
   ]
  },
  {
   "cell_type": "code",
   "execution_count": 61,
   "metadata": {},
   "outputs": [
    {
     "data": {
      "text/html": [
       "<div>\n",
       "<style scoped>\n",
       "    .dataframe tbody tr th:only-of-type {\n",
       "        vertical-align: middle;\n",
       "    }\n",
       "\n",
       "    .dataframe tbody tr th {\n",
       "        vertical-align: top;\n",
       "    }\n",
       "\n",
       "    .dataframe thead th {\n",
       "        text-align: right;\n",
       "    }\n",
       "</style>\n",
       "<table border=\"1\" class=\"dataframe\">\n",
       "  <thead>\n",
       "    <tr style=\"text-align: right;\">\n",
       "      <th></th>\n",
       "      <th>rank_test_score</th>\n",
       "      <th>param_models</th>\n",
       "      <th>mean_test_score</th>\n",
       "      <th>mean_fit_time</th>\n",
       "      <th>mean_score_time</th>\n",
       "      <th>params</th>\n",
       "    </tr>\n",
       "  </thead>\n",
       "  <tbody>\n",
       "    <tr>\n",
       "      <th>5</th>\n",
       "      <td>1</td>\n",
       "      <td>DecisionTreeRegressor(random_state=42)</td>\n",
       "      <td>2022.342031</td>\n",
       "      <td>1.030483</td>\n",
       "      <td>0.072583</td>\n",
       "      <td>{'preprocessor__num': StandardScaler(), 'models__min_samples_split': 4, 'models__min_samples_leaf': 4, 'models__max_features': 8, 'models__max_depth': 14, 'models': DecisionTreeRegressor(random_state=42)}</td>\n",
       "    </tr>\n",
       "    <tr>\n",
       "      <th>15</th>\n",
       "      <td>2</td>\n",
       "      <td>DecisionTreeRegressor(random_state=42)</td>\n",
       "      <td>2023.251749</td>\n",
       "      <td>1.006636</td>\n",
       "      <td>0.074089</td>\n",
       "      <td>{'preprocessor__num': StandardScaler(), 'models__min_samples_split': 7, 'models__min_samples_leaf': 5, 'models__max_features': 8, 'models__max_depth': 13, 'models': DecisionTreeRegressor(random_state=42)}</td>\n",
       "    </tr>\n",
       "    <tr>\n",
       "      <th>27</th>\n",
       "      <td>3</td>\n",
       "      <td>DecisionTreeRegressor(random_state=42)</td>\n",
       "      <td>2033.475373</td>\n",
       "      <td>1.043040</td>\n",
       "      <td>0.072503</td>\n",
       "      <td>{'preprocessor__num': StandardScaler(), 'models__min_samples_split': 4, 'models__min_samples_leaf': 4, 'models__max_features': 8, 'models__max_depth': 15, 'models': DecisionTreeRegressor(random_state=42)}</td>\n",
       "    </tr>\n",
       "    <tr>\n",
       "      <th>21</th>\n",
       "      <td>4</td>\n",
       "      <td>DecisionTreeRegressor(random_state=42)</td>\n",
       "      <td>2038.473554</td>\n",
       "      <td>0.847395</td>\n",
       "      <td>0.070761</td>\n",
       "      <td>{'preprocessor__num': StandardScaler(), 'models__min_samples_split': 2, 'models__min_samples_leaf': 4, 'models__max_features': 7, 'models__max_depth': 12, 'models': DecisionTreeRegressor(random_state=42)}</td>\n",
       "    </tr>\n",
       "    <tr>\n",
       "      <th>29</th>\n",
       "      <td>5</td>\n",
       "      <td>DecisionTreeRegressor(random_state=42)</td>\n",
       "      <td>2049.331649</td>\n",
       "      <td>0.863850</td>\n",
       "      <td>0.069530</td>\n",
       "      <td>{'preprocessor__num': StandardScaler(), 'models__min_samples_split': 6, 'models__min_samples_leaf': 2, 'models__max_features': 7, 'models__max_depth': 12, 'models': DecisionTreeRegressor(random_state=42)}</td>\n",
       "    </tr>\n",
       "    <tr>\n",
       "      <th>22</th>\n",
       "      <td>6</td>\n",
       "      <td>DecisionTreeRegressor(random_state=42)</td>\n",
       "      <td>2054.087141</td>\n",
       "      <td>0.735632</td>\n",
       "      <td>0.069254</td>\n",
       "      <td>{'preprocessor__num': StandardScaler(), 'models__min_samples_split': 6, 'models__min_samples_leaf': 5, 'models__max_features': 5, 'models__max_depth': 12, 'models': DecisionTreeRegressor(random_state=42)}</td>\n",
       "    </tr>\n",
       "    <tr>\n",
       "      <th>17</th>\n",
       "      <td>7</td>\n",
       "      <td>DecisionTreeRegressor(random_state=42)</td>\n",
       "      <td>2065.606760</td>\n",
       "      <td>0.787138</td>\n",
       "      <td>0.069236</td>\n",
       "      <td>{'preprocessor__num': StandardScaler(), 'models__min_samples_split': 6, 'models__min_samples_leaf': 4, 'models__max_features': 6, 'models__max_depth': 11, 'models': DecisionTreeRegressor(random_state=42)}</td>\n",
       "    </tr>\n",
       "    <tr>\n",
       "      <th>4</th>\n",
       "      <td>8</td>\n",
       "      <td>DecisionTreeRegressor(random_state=42)</td>\n",
       "      <td>2068.556325</td>\n",
       "      <td>0.826712</td>\n",
       "      <td>0.072225</td>\n",
       "      <td>{'preprocessor__num': StandardScaler(), 'models__min_samples_split': 4, 'models__min_samples_leaf': 3, 'models__max_features': 5, 'models__max_depth': 15, 'models': DecisionTreeRegressor(random_state=42)}</td>\n",
       "    </tr>\n",
       "    <tr>\n",
       "      <th>6</th>\n",
       "      <td>9</td>\n",
       "      <td>DecisionTreeRegressor(random_state=42)</td>\n",
       "      <td>2088.326368</td>\n",
       "      <td>0.796144</td>\n",
       "      <td>0.068546</td>\n",
       "      <td>{'preprocessor__num': StandardScaler(), 'models__min_samples_split': 2, 'models__min_samples_leaf': 1, 'models__max_features': 7, 'models__max_depth': 10, 'models': DecisionTreeRegressor(random_state=42)}</td>\n",
       "    </tr>\n",
       "    <tr>\n",
       "      <th>7</th>\n",
       "      <td>10</td>\n",
       "      <td>KNeighborsRegressor()</td>\n",
       "      <td>2091.620403</td>\n",
       "      <td>0.792543</td>\n",
       "      <td>5.691201</td>\n",
       "      <td>{'preprocessor__num': StandardScaler(), 'models__n_neighbors': 7, 'models': KNeighborsRegressor()}</td>\n",
       "    </tr>\n",
       "  </tbody>\n",
       "</table>\n",
       "</div>"
      ],
      "text/plain": [
       "    rank_test_score                            param_models  mean_test_score  \\\n",
       "5                 1  DecisionTreeRegressor(random_state=42)      2022.342031   \n",
       "15                2  DecisionTreeRegressor(random_state=42)      2023.251749   \n",
       "27                3  DecisionTreeRegressor(random_state=42)      2033.475373   \n",
       "21                4  DecisionTreeRegressor(random_state=42)      2038.473554   \n",
       "29                5  DecisionTreeRegressor(random_state=42)      2049.331649   \n",
       "22                6  DecisionTreeRegressor(random_state=42)      2054.087141   \n",
       "17                7  DecisionTreeRegressor(random_state=42)      2065.606760   \n",
       "4                 8  DecisionTreeRegressor(random_state=42)      2068.556325   \n",
       "6                 9  DecisionTreeRegressor(random_state=42)      2088.326368   \n",
       "7                10                   KNeighborsRegressor()      2091.620403   \n",
       "\n",
       "    mean_fit_time  mean_score_time  \\\n",
       "5        1.030483         0.072583   \n",
       "15       1.006636         0.074089   \n",
       "27       1.043040         0.072503   \n",
       "21       0.847395         0.070761   \n",
       "29       0.863850         0.069530   \n",
       "22       0.735632         0.069254   \n",
       "17       0.787138         0.069236   \n",
       "4        0.826712         0.072225   \n",
       "6        0.796144         0.068546   \n",
       "7        0.792543         5.691201   \n",
       "\n",
       "                                                                                                                                                                                                          params  \n",
       "5   {'preprocessor__num': StandardScaler(), 'models__min_samples_split': 4, 'models__min_samples_leaf': 4, 'models__max_features': 8, 'models__max_depth': 14, 'models': DecisionTreeRegressor(random_state=42)}  \n",
       "15  {'preprocessor__num': StandardScaler(), 'models__min_samples_split': 7, 'models__min_samples_leaf': 5, 'models__max_features': 8, 'models__max_depth': 13, 'models': DecisionTreeRegressor(random_state=42)}  \n",
       "27  {'preprocessor__num': StandardScaler(), 'models__min_samples_split': 4, 'models__min_samples_leaf': 4, 'models__max_features': 8, 'models__max_depth': 15, 'models': DecisionTreeRegressor(random_state=42)}  \n",
       "21  {'preprocessor__num': StandardScaler(), 'models__min_samples_split': 2, 'models__min_samples_leaf': 4, 'models__max_features': 7, 'models__max_depth': 12, 'models': DecisionTreeRegressor(random_state=42)}  \n",
       "29  {'preprocessor__num': StandardScaler(), 'models__min_samples_split': 6, 'models__min_samples_leaf': 2, 'models__max_features': 7, 'models__max_depth': 12, 'models': DecisionTreeRegressor(random_state=42)}  \n",
       "22  {'preprocessor__num': StandardScaler(), 'models__min_samples_split': 6, 'models__min_samples_leaf': 5, 'models__max_features': 5, 'models__max_depth': 12, 'models': DecisionTreeRegressor(random_state=42)}  \n",
       "17  {'preprocessor__num': StandardScaler(), 'models__min_samples_split': 6, 'models__min_samples_leaf': 4, 'models__max_features': 6, 'models__max_depth': 11, 'models': DecisionTreeRegressor(random_state=42)}  \n",
       "4   {'preprocessor__num': StandardScaler(), 'models__min_samples_split': 4, 'models__min_samples_leaf': 3, 'models__max_features': 5, 'models__max_depth': 15, 'models': DecisionTreeRegressor(random_state=42)}  \n",
       "6   {'preprocessor__num': StandardScaler(), 'models__min_samples_split': 2, 'models__min_samples_leaf': 1, 'models__max_features': 7, 'models__max_depth': 10, 'models': DecisionTreeRegressor(random_state=42)}  \n",
       "7                                                                                                             {'preprocessor__num': StandardScaler(), 'models__n_neighbors': 7, 'models': KNeighborsRegressor()}  "
      ]
     },
     "metadata": {},
     "output_type": "display_data"
    }
   ],
   "source": [
    "#устанавливаем настройки, чтобы таблица с результатами отображалась полностью\n",
    "pd.set_option('display.max_columns', None)\n",
    "pd.set_option('display.max_colwidth', None)\n",
    "\n",
    "#получаем таблицу с работой всех моделей\n",
    "result_models_rate = pd.DataFrame(randomized_search.cv_results_)\n",
    "\n",
    "#для корректного отображения среднего значения метрики RMSE умножаем столбец на -1 \n",
    "result_models_rate[\n",
    "    'mean_test_score'\n",
    "] = result_models_rate['mean_test_score'] * -1\n",
    "\n",
    "result_models_rate = result_models_rate.sort_values(by = 'rank_test_score')\n",
    "\n",
    "#отображаем нужные столбцы и выводим для наглядности первые 5 лучших моделей\n",
    "display(result_models_rate[\n",
    "    ['rank_test_score', 'param_models','mean_test_score','mean_fit_time', 'mean_score_time','params']\n",
    "                        ].head(10))"
   ]
  },
  {
   "cell_type": "markdown",
   "metadata": {},
   "source": [
    "Как видно из результата, из лучших десяти моделей девять оказались модели DecisionTreeRegressor(). Также видно, что время для прогнозирования и оценивания `mean_score_time` у KNeighborsRegressor() кратно больше, чем у деревянной модели. Если бы мы рассматривали только две эти модели, то лучшей бы мы выбрали модель **DecisionTreeRegressor** и для нее уже бы подобрали еще лучшие гиперпараметры, указав большие диапазоны и большее количество итераций."
   ]
  },
  {
   "cell_type": "markdown",
   "metadata": {},
   "source": [
    "### Обучение моделей CatBoostRegressor() и LGBMRegressor()"
   ]
  },
  {
   "cell_type": "markdown",
   "metadata": {},
   "source": [
    "Теперь соберем итоговый второй пайплайн с моделями бустинга CatBoostRegressor() и LGBMRegressor(). Так как они обучаются намного дольше, особенно LGBMRegressor(), то зададим всего несколько гиперпараметров у CatBoostRegressor(), а у модели LGBMRegressor() всего 1 набор гиперпараметров."
   ]
  },
  {
   "cell_type": "code",
   "execution_count": 62,
   "metadata": {},
   "outputs": [
    {
     "name": "stdout",
     "output_type": "stream",
     "text": [
      "\n",
      "\n",
      "Характеристики при GridSearchCV\n",
      "Время подбора гиперпараметров для моделей: 778.311970949173\n",
      "Лучшая модель и её параметры на тренировочном датасете:\n",
      "\n",
      " Pipeline(steps=[('preprocessor',\n",
      "                 ColumnTransformer(remainder='passthrough',\n",
      "                                   transformers=[('ord',\n",
      "                                                  Pipeline(steps=[('simpleImputer_before_ord',\n",
      "                                                                   SimpleImputer(strategy='most_frequent')),\n",
      "                                                                  ('ord',\n",
      "                                                                   OrdinalEncoder(handle_unknown='use_encoded_value',\n",
      "                                                                                  unknown_value=nan)),\n",
      "                                                                  ('simpleImputer_after_ord',\n",
      "                                                                   SimpleImputer(strategy='most_frequent'))]),\n",
      "                                                  ['vehicle_type', 'gearbox',\n",
      "                                                   'model', 'fuel_type',\n",
      "                                                   'repaired']),\n",
      "                                                 ('num', StandardScaler(),\n",
      "                                                  ['registration_year', 'power',\n",
      "                                                   'kilometer',\n",
      "                                                   'registration_month',\n",
      "                                                   'postal_code'])])),\n",
      "                ('models',\n",
      "                 LGBMRegressor(max_depth=6, metric='rmse', n_estimators=1000,\n",
      "                               verbose=-1))])\n",
      "Метрика RMSE для лучшей модели, полученная при кросс-валидации:\n",
      " 1671.0495575033522\n"
     ]
    }
   ],
   "source": [
    "pipe_two = Pipeline([\n",
    "    ('preprocessor', data_preprocessor),\n",
    "    ('models', CatBoostRegressor())\n",
    "])\n",
    "\n",
    "param_grid = [\n",
    "    # словарь для модели CatBoostRegressor()\n",
    "    {\n",
    "        'models': [CatBoostRegressor(verbose = 0, \n",
    "                                     loss_function = 'RMSE')],\n",
    "        'models__depth': range(5,7),\n",
    "        'models__iterations' : [1000],\n",
    "        'models__learning_rate': [0.03, 0.1],\n",
    "        'preprocessor__num': [StandardScaler()]\n",
    "            },\n",
    "    #словарь для модели LGBMRegressor()\n",
    "        {\n",
    "        'models': [LGBMRegressor(verbose = -1, \n",
    "                                 n_estimators = 1000, \n",
    "                                 num_leaves = 31, \n",
    "                                 learning_rate=0.1, \n",
    "                                 metric='rmse', \n",
    "                                 max_depth = 6)],\n",
    "        'preprocessor__num': [StandardScaler()]\n",
    "    }\n",
    "]\n",
    "\n",
    "start = time.time()\n",
    "\n",
    "grid = GridSearchCV(\n",
    "    pipe_two, \n",
    "    param_grid=param_grid, \n",
    "    cv=5, \n",
    "    scoring= rmse_score_sv,\n",
    "    n_jobs=-1\n",
    ")\n",
    "grid.fit(X_train, y_train) \n",
    "\n",
    "grid_search_time = time.time() - start\n",
    "print('\\n\\nХарактеристики при GridSearchCV')\n",
    "print(f'Время подбора гиперпараметров для моделей: {grid_search_time}')\n",
    "\n",
    "print('Лучшая модель и её параметры на тренировочном датасете:\\n\\n', grid.best_estimator_)\n",
    "print('Метрика RMSE для лучшей модели, полученная при кросс-валидации:\\n', abs(grid.best_score_))"
   ]
  },
  {
   "cell_type": "markdown",
   "metadata": {},
   "source": [
    "Лучшую метрику RMSE = 1671.05 показала модель LGBMRegressor() со стандартным набором гиперпараметров. Сравним лучшие модели по таблице результатов"
   ]
  },
  {
   "cell_type": "code",
   "execution_count": 63,
   "metadata": {},
   "outputs": [
    {
     "data": {
      "text/html": [
       "<div>\n",
       "<style scoped>\n",
       "    .dataframe tbody tr th:only-of-type {\n",
       "        vertical-align: middle;\n",
       "    }\n",
       "\n",
       "    .dataframe tbody tr th {\n",
       "        vertical-align: top;\n",
       "    }\n",
       "\n",
       "    .dataframe thead th {\n",
       "        text-align: right;\n",
       "    }\n",
       "</style>\n",
       "<table border=\"1\" class=\"dataframe\">\n",
       "  <thead>\n",
       "    <tr style=\"text-align: right;\">\n",
       "      <th></th>\n",
       "      <th>rank_test_score</th>\n",
       "      <th>param_models</th>\n",
       "      <th>mean_test_score</th>\n",
       "      <th>mean_fit_time</th>\n",
       "      <th>mean_score_time</th>\n",
       "      <th>params</th>\n",
       "    </tr>\n",
       "  </thead>\n",
       "  <tbody>\n",
       "    <tr>\n",
       "      <th>4</th>\n",
       "      <td>1</td>\n",
       "      <td>LGBMRegressor(max_depth=6, metric='rmse', n_estimators=1000, verbose=-1)</td>\n",
       "      <td>1671.049558</td>\n",
       "      <td>32.875951</td>\n",
       "      <td>5.714944</td>\n",
       "      <td>{'models': LGBMRegressor(max_depth=6, metric='rmse', n_estimators=1000, verbose=-1), 'preprocessor__num': StandardScaler()}</td>\n",
       "    </tr>\n",
       "    <tr>\n",
       "      <th>3</th>\n",
       "      <td>2</td>\n",
       "      <td>&lt;catboost.core.CatBoostRegressor object at 0x7f1881d1f790&gt;</td>\n",
       "      <td>1716.725310</td>\n",
       "      <td>28.241966</td>\n",
       "      <td>0.228842</td>\n",
       "      <td>{'models': &lt;catboost.core.CatBoostRegressor object at 0x7f1881d1f790&gt;, 'models__depth': 6, 'models__iterations': 1000, 'models__learning_rate': 0.1, 'preprocessor__num': StandardScaler()}</td>\n",
       "    </tr>\n",
       "    <tr>\n",
       "      <th>1</th>\n",
       "      <td>3</td>\n",
       "      <td>&lt;catboost.core.CatBoostRegressor object at 0x7f1881d1f790&gt;</td>\n",
       "      <td>1743.922331</td>\n",
       "      <td>25.989351</td>\n",
       "      <td>0.226560</td>\n",
       "      <td>{'models': &lt;catboost.core.CatBoostRegressor object at 0x7f1881d1f790&gt;, 'models__depth': 5, 'models__iterations': 1000, 'models__learning_rate': 0.1, 'preprocessor__num': StandardScaler()}</td>\n",
       "    </tr>\n",
       "    <tr>\n",
       "      <th>2</th>\n",
       "      <td>4</td>\n",
       "      <td>&lt;catboost.core.CatBoostRegressor object at 0x7f1881d1f790&gt;</td>\n",
       "      <td>1820.120536</td>\n",
       "      <td>28.526390</td>\n",
       "      <td>0.224244</td>\n",
       "      <td>{'models': &lt;catboost.core.CatBoostRegressor object at 0x7f1881d1f790&gt;, 'models__depth': 6, 'models__iterations': 1000, 'models__learning_rate': 0.03, 'preprocessor__num': StandardScaler()}</td>\n",
       "    </tr>\n",
       "    <tr>\n",
       "      <th>0</th>\n",
       "      <td>5</td>\n",
       "      <td>&lt;catboost.core.CatBoostRegressor object at 0x7f1881d1f790&gt;</td>\n",
       "      <td>1854.725857</td>\n",
       "      <td>25.848757</td>\n",
       "      <td>0.228535</td>\n",
       "      <td>{'models': &lt;catboost.core.CatBoostRegressor object at 0x7f1881d1f790&gt;, 'models__depth': 5, 'models__iterations': 1000, 'models__learning_rate': 0.03, 'preprocessor__num': StandardScaler()}</td>\n",
       "    </tr>\n",
       "  </tbody>\n",
       "</table>\n",
       "</div>"
      ],
      "text/plain": [
       "   rank_test_score  \\\n",
       "4                1   \n",
       "3                2   \n",
       "1                3   \n",
       "2                4   \n",
       "0                5   \n",
       "\n",
       "                                                               param_models  \\\n",
       "4  LGBMRegressor(max_depth=6, metric='rmse', n_estimators=1000, verbose=-1)   \n",
       "3                <catboost.core.CatBoostRegressor object at 0x7f1881d1f790>   \n",
       "1                <catboost.core.CatBoostRegressor object at 0x7f1881d1f790>   \n",
       "2                <catboost.core.CatBoostRegressor object at 0x7f1881d1f790>   \n",
       "0                <catboost.core.CatBoostRegressor object at 0x7f1881d1f790>   \n",
       "\n",
       "   mean_test_score  mean_fit_time  mean_score_time  \\\n",
       "4      1671.049558      32.875951         5.714944   \n",
       "3      1716.725310      28.241966         0.228842   \n",
       "1      1743.922331      25.989351         0.226560   \n",
       "2      1820.120536      28.526390         0.224244   \n",
       "0      1854.725857      25.848757         0.228535   \n",
       "\n",
       "                                                                                                                                                                                         params  \n",
       "4                                                                   {'models': LGBMRegressor(max_depth=6, metric='rmse', n_estimators=1000, verbose=-1), 'preprocessor__num': StandardScaler()}  \n",
       "3   {'models': <catboost.core.CatBoostRegressor object at 0x7f1881d1f790>, 'models__depth': 6, 'models__iterations': 1000, 'models__learning_rate': 0.1, 'preprocessor__num': StandardScaler()}  \n",
       "1   {'models': <catboost.core.CatBoostRegressor object at 0x7f1881d1f790>, 'models__depth': 5, 'models__iterations': 1000, 'models__learning_rate': 0.1, 'preprocessor__num': StandardScaler()}  \n",
       "2  {'models': <catboost.core.CatBoostRegressor object at 0x7f1881d1f790>, 'models__depth': 6, 'models__iterations': 1000, 'models__learning_rate': 0.03, 'preprocessor__num': StandardScaler()}  \n",
       "0  {'models': <catboost.core.CatBoostRegressor object at 0x7f1881d1f790>, 'models__depth': 5, 'models__iterations': 1000, 'models__learning_rate': 0.03, 'preprocessor__num': StandardScaler()}  "
      ]
     },
     "metadata": {},
     "output_type": "display_data"
    }
   ],
   "source": [
    "#получаем таблицу с работой всех моделей\n",
    "result_models_rate_2 = pd.DataFrame(grid.cv_results_)\n",
    "\n",
    "#для корректного отображения среднего значения метрики RMSE умножаем столбец на -1 \n",
    "result_models_rate_2[\n",
    "    'mean_test_score'\n",
    "] = result_models_rate_2['mean_test_score'] * -1\n",
    "\n",
    "result_models_rate_2 = result_models_rate_2.sort_values(by = 'rank_test_score')\n",
    "\n",
    "#отображаем нужные столбцы и выводим для наглядности первые 5 лучших моделей\n",
    "display(result_models_rate_2[\n",
    "    ['rank_test_score', 'param_models','mean_test_score','mean_fit_time', 'mean_score_time','params']\n",
    "                        ].head(5))"
   ]
  },
  {
   "cell_type": "markdown",
   "metadata": {},
   "source": [
    "Как видно из полученных результатов, модель **LGBMRegressor()** показала немного лучшую метрику, чем лучшая модель CatBoostRegressor(), но время предсказания и время обучения оказалось намного дольше, чем у CatBoostRegressor(). "
   ]
  },
  {
   "cell_type": "markdown",
   "metadata": {},
   "source": [
    "**На этапе составления полного пайплайна были подобраны несколько моделей с лучшими гиперпараметрами, проанализируем результаты**"
   ]
  },
  {
   "cell_type": "markdown",
   "metadata": {},
   "source": [
    "### Анализ результатов моделей"
   ]
  },
  {
   "cell_type": "markdown",
   "metadata": {},
   "source": [
    "Составим итоговую таблицу с результатами из лучших моделей каждого типа и выберем лучшую, из первого пайплайна возьмем только лучшую деревянную модель"
   ]
  },
  {
   "cell_type": "code",
   "execution_count": 64,
   "metadata": {},
   "outputs": [
    {
     "data": {
      "text/html": [
       "<div>\n",
       "<style scoped>\n",
       "    .dataframe tbody tr th:only-of-type {\n",
       "        vertical-align: middle;\n",
       "    }\n",
       "\n",
       "    .dataframe tbody tr th {\n",
       "        vertical-align: top;\n",
       "    }\n",
       "\n",
       "    .dataframe thead th {\n",
       "        text-align: right;\n",
       "    }\n",
       "</style>\n",
       "<table border=\"1\" class=\"dataframe\">\n",
       "  <thead>\n",
       "    <tr style=\"text-align: right;\">\n",
       "      <th></th>\n",
       "      <th>param_models</th>\n",
       "      <th>mean_test_score</th>\n",
       "      <th>mean_fit_time</th>\n",
       "      <th>mean_score_time</th>\n",
       "      <th>params</th>\n",
       "    </tr>\n",
       "  </thead>\n",
       "  <tbody>\n",
       "    <tr>\n",
       "      <th>5</th>\n",
       "      <td>DecisionTreeRegressor(random_state=42)</td>\n",
       "      <td>2022.342031</td>\n",
       "      <td>1.030483</td>\n",
       "      <td>0.072583</td>\n",
       "      <td>{'preprocessor__num': StandardScaler(), 'models__min_samples_split': 4, 'models__min_samples_leaf': 4, 'models__max_features': 8, 'models__max_depth': 14, 'models': DecisionTreeRegressor(random_state=42)}</td>\n",
       "    </tr>\n",
       "    <tr>\n",
       "      <th>4</th>\n",
       "      <td>LGBMRegressor(max_depth=6, metric='rmse', n_estimators=1000, verbose=-1)</td>\n",
       "      <td>1671.049558</td>\n",
       "      <td>32.875951</td>\n",
       "      <td>5.714944</td>\n",
       "      <td>{'models': LGBMRegressor(max_depth=6, metric='rmse', n_estimators=1000, verbose=-1), 'preprocessor__num': StandardScaler()}</td>\n",
       "    </tr>\n",
       "    <tr>\n",
       "      <th>3</th>\n",
       "      <td>&lt;catboost.core.CatBoostRegressor object at 0x7f1881d1f790&gt;</td>\n",
       "      <td>1716.725310</td>\n",
       "      <td>28.241966</td>\n",
       "      <td>0.228842</td>\n",
       "      <td>{'models': &lt;catboost.core.CatBoostRegressor object at 0x7f1881d1f790&gt;, 'models__depth': 6, 'models__iterations': 1000, 'models__learning_rate': 0.1, 'preprocessor__num': StandardScaler()}</td>\n",
       "    </tr>\n",
       "  </tbody>\n",
       "</table>\n",
       "</div>"
      ],
      "text/plain": [
       "                                                               param_models  \\\n",
       "5                                    DecisionTreeRegressor(random_state=42)   \n",
       "4  LGBMRegressor(max_depth=6, metric='rmse', n_estimators=1000, verbose=-1)   \n",
       "3                <catboost.core.CatBoostRegressor object at 0x7f1881d1f790>   \n",
       "\n",
       "   mean_test_score  mean_fit_time  mean_score_time  \\\n",
       "5      2022.342031       1.030483         0.072583   \n",
       "4      1671.049558      32.875951         5.714944   \n",
       "3      1716.725310      28.241966         0.228842   \n",
       "\n",
       "                                                                                                                                                                                                         params  \n",
       "5  {'preprocessor__num': StandardScaler(), 'models__min_samples_split': 4, 'models__min_samples_leaf': 4, 'models__max_features': 8, 'models__max_depth': 14, 'models': DecisionTreeRegressor(random_state=42)}  \n",
       "4                                                                                   {'models': LGBMRegressor(max_depth=6, metric='rmse', n_estimators=1000, verbose=-1), 'preprocessor__num': StandardScaler()}  \n",
       "3                   {'models': <catboost.core.CatBoostRegressor object at 0x7f1881d1f790>, 'models__depth': 6, 'models__iterations': 1000, 'models__learning_rate': 0.1, 'preprocessor__num': StandardScaler()}  "
      ]
     },
     "execution_count": 64,
     "metadata": {},
     "output_type": "execute_result"
    }
   ],
   "source": [
    "pd.concat([\n",
    "        result_models_rate[['param_models','mean_test_score','mean_fit_time', 'mean_score_time','params']].head(1),\n",
    "        result_models_rate_2[['param_models','mean_test_score','mean_fit_time', 'mean_score_time','params']].head(2)\n",
    "        ], axis = 0)"
   ]
  },
  {
   "cell_type": "markdown",
   "metadata": {},
   "source": [
    "**Полученные результаты лучшей модели каждого вида показывают следующее:**\n",
    " - метрика RMSE намного лучше оказалась у моделей бустинга LGBMRegressor() и CatBoostRegressor(), чем у моделей KNeighborsRegressor() и DecisionTreeRegressor()\n",
    " - хоть модель LGBMRegressor() и показала метрику чуть лучше, чем модель CatBoostRegressor(), но время обучения у нее оказалось дольше, а прогнозное время  модели оказалось почти в 30 раз дольше.\n",
    " - время обучения `mean_fit_time` у моделей бустинга в десятки раз превысило остальные модели.\n",
    " - учитывая все эти результаты, **лучшей моделью является CatBoostRegressor() со стандартным набором параметров iterations = 1000, learning_rate = 0.1, depth = 6**, так как ее метрика RMSE совсем немного хуже, чем у LGBMRegressor(), но вот время предсказания и оценивания работы кратно меньше (еще при некоторых повторениях время обучения LGBMRegressor() оказывалось в два раза дольше, чем у CatBoostRegressor()). И если сравнить с деревянной моделью, то по времени обучения, конечно, модель градиентного бустинга проигрывает, но обучение мы делаем один раз, а предсказаний много, а длительность предсказания у них отличается буквально на десятую долю, зато метрика RMSE намного лучше у модели CatBoostRegressor()."
   ]
  },
  {
   "cell_type": "markdown",
   "metadata": {},
   "source": [
    "### Проверка на тестовых данных"
   ]
  },
  {
   "cell_type": "markdown",
   "metadata": {},
   "source": [
    "Осталось проверить, что метрика не сильно ухудшается на тестовых данных. Сделаем прогноз с помощью лучшей модели и посмотрим на метрику. Так как лучшей моделью была выбрана модель CatBoostRegressor(), а в GridSearch() сохраняется только лучшая обученная модель, то заново обучим модель CatBoostRegressor() и сделаем предсказания на тестовой выборке. Так как этой модели можно передавать данные без предобработки, то передадим данные в сыром виде в качестве эксперимента. Также при обучении передадим список категорильных столбцов `cat_features=ord_columns`"
   ]
  },
  {
   "cell_type": "code",
   "execution_count": 65,
   "metadata": {},
   "outputs": [
    {
     "name": "stdout",
     "output_type": "stream",
     "text": [
      "0:\tlearn: 4217.2423410\ttotal: 322ms\tremaining: 5m 22s\n",
      "500:\tlearn: 1706.7238720\ttotal: 1m 46s\tremaining: 1m 45s\n",
      "999:\tlearn: 1643.2352870\ttotal: 3m 36s\tremaining: 0us\n",
      "Время обучения модели: 220.10486841201782\n",
      "CPU times: user 3min 37s, sys: 729 ms, total: 3min 38s\n",
      "Wall time: 3min 40s\n"
     ]
    }
   ],
   "source": [
    "%%time \n",
    "\n",
    "# Инициализация модели\n",
    "best_model = CatBoostRegressor(\n",
    "    iterations=1000,\n",
    "    learning_rate=0.1,\n",
    "    depth=6,\n",
    "    loss_function='RMSE',\n",
    "    verbose=500\n",
    ")\n",
    "#время начала обучения модели\n",
    "start_fit = time.time()\n",
    "\n",
    "#обучение модели, также передаем список категориальных столбцов\n",
    "best_model.fit(X_train, y_train, cat_features=ord_columns)\n",
    "\n",
    "#полное время обучения модели\n",
    "best_model_fit_time = time.time() - start_fit\n",
    "\n",
    "print(f'Время обучения модели: {best_model_fit_time}')"
   ]
  },
  {
   "cell_type": "markdown",
   "metadata": {},
   "source": [
    "Время обучения в 218 секунд на сырых данных совсем не радует, тем более что при работе GridSearchCV() на предобработанных данных время обучения составляло около 30 секунд, проверим время обучения, если передать предобработанные данные"
   ]
  },
  {
   "cell_type": "code",
   "execution_count": 66,
   "metadata": {},
   "outputs": [],
   "source": [
    "#подгатавливаем данные для обучения\n",
    "X_train_transform = pd.DataFrame(\n",
    "    grid.best_estimator_.named_steps['preprocessor'].transform(X_train),\n",
    "    columns = grid.best_estimator_.named_steps['preprocessor'].get_feature_names_out()    \n",
    ") \n",
    "\n",
    "X_test_transform = pd.DataFrame(\n",
    "    grid.best_estimator_.named_steps['preprocessor'].transform(X_test),\n",
    "    columns = grid.best_estimator_.named_steps['preprocessor'].get_feature_names_out() \n",
    ")"
   ]
  },
  {
   "cell_type": "markdown",
   "metadata": {},
   "source": [
    "Заново обучим модель и сделаем прогноз на тестовых данных"
   ]
  },
  {
   "cell_type": "code",
   "execution_count": 67,
   "metadata": {},
   "outputs": [
    {
     "name": "stdout",
     "output_type": "stream",
     "text": [
      "\n",
      "RMSE лучшей модели на тестовой выборке: 1702.98\n",
      "\n",
      "Время обучения модели: 33.666609048843384\n",
      "Прогнозное время модели: 0.08505463600158691\n",
      "CPU times: user 32.6 s, sys: 160 ms, total: 32.8 s\n",
      "Wall time: 33.8 s\n"
     ]
    }
   ],
   "source": [
    "%%time \n",
    "\n",
    "# Инициализация модели\n",
    "best_model = CatBoostRegressor(\n",
    "    iterations=1000,\n",
    "    learning_rate=0.1,\n",
    "    depth=6,\n",
    "    loss_function='RMSE',\n",
    "    verbose=0\n",
    ")\n",
    "#время начала обучения модели\n",
    "start_fit = time.time()\n",
    "\n",
    "#обучение модели\n",
    "best_model.fit(X_train_transform, y_train)\n",
    "\n",
    "#полное время обучения модели\n",
    "best_model_fit_time = time.time() - start_fit\n",
    "\n",
    "#время начала предсказания модели\n",
    "start_pred = time.time()\n",
    "\n",
    "# Оценка модели\n",
    "preds = best_model.predict(X_test_transform)\n",
    "\n",
    "#так как не используем кросс-валидацию, то используем непосредственно функцию rmse_score для расчета метрики\n",
    "best_model_rmse_test = rmse_score(y_test, preds)\n",
    "print(f'\\nRMSE лучшей модели на тестовой выборке: {best_model_rmse_test:.2f}')\n",
    "\n",
    "#полное время предсказания модели\n",
    "best_model_preds_time = time.time() - start_pred\n",
    "\n",
    "print(f'\\nВремя обучения модели: {best_model_fit_time}')\n",
    "print(f'Прогнозное время модели: {best_model_preds_time}')"
   ]
  },
  {
   "cell_type": "markdown",
   "metadata": {},
   "source": [
    "**Результаты лучшей модели CatBoostRegressor() на тестовой выборке получились следующие:**\n",
    " - метрика RMSE  1702.98,\n",
    " - прогнозное время составило 0.08 секунды\n",
    " - при этом время при повторном обучении модели на тренировочной выборке с предобработанными данными составило 35 секунд, а на \"сырых\" данных 218 секунд\n",
    "\n",
    "Осталось проверить модель на адекватность"
   ]
  },
  {
   "cell_type": "markdown",
   "metadata": {},
   "source": [
    "### Проверка модели на адекватность"
   ]
  },
  {
   "cell_type": "markdown",
   "metadata": {},
   "source": [
    "Осталось сравнить результаты, предсказанные с помощью нашей лучшей модели, с результатами модели `DummyRegressor()`. Эта модель использует несколько типов стратегий, мы остановимся на стандартном, когда всем прогнозным значениям присваивается среднее значение целевого признака."
   ]
  },
  {
   "cell_type": "markdown",
   "metadata": {},
   "source": [
    "Объявим константную модель, в качестве стратегии укажем `mean`. Обучим ее на тренировочном датасете, получим прогноз тестовой выборки и сравним метрику RMSE у нее и у наших моделей. Для модели DummyRegressor() не будем подготавливать тренировочные данные, так как она использует значения целевого признака для предсказания"
   ]
  },
  {
   "cell_type": "code",
   "execution_count": 68,
   "metadata": {},
   "outputs": [
    {
     "name": "stdout",
     "output_type": "stream",
     "text": [
      "Метрика RMSE Dummy модели на тестовой выборке: 4499.121915837344\n"
     ]
    }
   ],
   "source": [
    "#объявляем модель и указываем тип стратегии\n",
    "dummy_model_regression = DummyRegressor(strategy = 'mean').fit(X_train, y_train)\n",
    "\n",
    "#получаем прогнозные значения DummyRegressor()\n",
    "dummy_regression_predict = dummy_model_regression.predict(X_test)\n",
    "#считаем метрику RMSE и выводим ее, так как не используем кросс-валидацию, то используем непосредственно функцию rmse_score\n",
    "print(f'Метрика RMSE Dummy модели на тестовой выборке: {rmse_score(y_test, dummy_regression_predict)}')"
   ]
  },
  {
   "cell_type": "markdown",
   "metadata": {},
   "source": [
    "**Наша лучшая модель справилась с проверкой на адекватность и показала метрику RMSE намного ниже, чем у константной модели DummyRegressor()**"
   ]
  },
  {
   "cell_type": "markdown",
   "metadata": {},
   "source": [
    "**При составлении пайплайнов для подбора гиперпараметров сразу нескольким моделям были проделаны следующие шаги и получены следующие результаты**\n",
    "- создано несколько пайплайнов, включающие:\n",
    "  - подготовку данных:\n",
    "   - кодирование категориальных признаков при помощи OrdinalEncoder()\n",
    "   - масштабирование количественных признаков при помощи StandardScaler()\n",
    "   - перебор гиперпараметров для разных моделей в 2 пайплайнах:\n",
    "     - в первом пайплайне для моделей DecisionTreeRegressor() и KNeighborsRegressor() со словарями их гиперпараметров при помощи инструмента автоматизированного подбора RandomizedSearchCV().\n",
    "     - во втором пайплайне для моделей CatBoostRegressor() и LGBMRegressor() со словарями их гиперпараметров при помощи инструмента автоматизированного подбора GridSearchCV()\n",
    "- для оценивания качества работы моделей была созданна функция для расчета метрики RMSE, которая при помощи `make_scorer` была применена при автоматизированном поиске гиперпараметров\n",
    "- при автоматизированном поиске гиперпараметров были получены следующие результаты:\n",
    "  - метрика RMSE намного лучше оказалась у моделей бустинга LGBMRegressor() и CatBoostRegressor(), чем у моделей KNeighborsRegressor() и DecisionTreeRegressor()\n",
    " - хоть модель LGBMRegressor() и показала метрику лучше, чем модель CatBoostRegressor(), но время обучения у нее оказалось дольше почти в два раза, а прогнозное время  модели оказалось почти в 30 раз дольше.\n",
    "  - время обучения `mean_fit_time` у моделей бустинга в десятки раз превысило остальные модели.\n",
    "\n",
    "**Лучшей моделью оказалась CatBoostRegressor() со стандартным набором гиперпараметров: iterations = 1000, learning_rate = 0.1, depth = 6**, так как ее метрика RMSE немного хуже, чем у LGBMRegressor, но вот время предсказания и оценивания работы кратно меньше. И если сравнить с деревянной моделью, то по времени обучения, конечно, модель градиентного бустинга проигрывает, но обучение мы делаем один раз, а предсказаний много, а длительность предсказания у них отличается буквально на десятую долю, зато метрика RMSE намного лучше у модели CatBoostRegressor().\n",
    "\n",
    "  - лучшая модель была подобрана за 719 секунд при использовании GridSearchCV().\n",
    "  - метрика RMSE при кросс-валидации составила 1716\n",
    "\n",
    "**Результаты лучшей модели CatBoostRegressor() на тестовой выборке получились следующие:**\n",
    " - метрика RMSE 1702.98,\n",
    " - прогнозное время составило 0.08 секунды\n",
    " - при этом время при повторном обучении модели на тренировочной выборке с предобработанными данными составило 35 секунд, на сырых данных 218 секунд\n",
    " \n",
    "- также модель прошла проверку на адекватность, метрика RMSE оказалась намного ниже, чем у модели DummyRegressor()"
   ]
  },
  {
   "cell_type": "markdown",
   "metadata": {},
   "source": [
    "## Итоговые выводы"
   ]
  },
  {
   "cell_type": "markdown",
   "metadata": {},
   "source": [
    "**В результате исследования были получены следующие результаты:**\n",
    "\n",
    "**На этапе предобработки данных были выполнены следующие действия и получены следующие результаты:**\n",
    "- в наименованиях столбцов добавлены нижние подчеркивания. Столбцы приведены к змеиному регистру, лишних пробелов не обнаружено.\n",
    "- пропущенные значения в категориальных столбцах заменены на значения-заглушки.\n",
    "- во время обработки аномалий были выполены следующие основные действия:**\n",
    "  - были удалены объекты со значением в столбце `price` менее 50 евро\n",
    "  - были удалены объекты со значением в столбце `registration_year` автомобиля больше 2025 и меньше 1960\n",
    "  - были удалены объекты со значением в столбце `power` более 700 л.с., среди объектов от 500 л.с. до 700 л.с. были удалены объекты со стоимостью менее 7000 евро\n",
    "  - в столбце `power` значения 0 были заменены на медианные значения мощности автомобилей для каждой марки\n",
    "  - у автомобилей с мощностью менее 20 л.с. и годом регистрации больше 2000 значение мощности было заменено на медианное значение мощности для автомобиля с  учетом марки и года выпуска больше, чем 2000\n",
    "- удалены явные дубликаты из датафрейма\n",
    "- удалены неявные дубликаты из датафрейма с анкетами автомобилей, которые были загружены несколько раз\n",
    "- заменены дублирующиеся значения одного и того же типа топлива\n",
    "- удалены неинформативные столбцы `date_crawled`, `date_created` , `last_seen` и `number_of_pictures` и образовавшиеся явные дубликаты после их удаления\n",
    "\n",
    "**На этапе исследовательского анализа были получены следующие результаты:**\n",
    "\n",
    "Полученные графики для количественных признаков показали следующее:\n",
    "- самая распространенная цена автомобиля находится в диапазоне от 1000 до 1500 евро, с увеличением цены кол-во машин логично уменьшается.\n",
    "- чаще всего машины встречаются с годом регистрации 2005 и 1997 года. Все подавляющее большинство машин имеет диапазон годов регистрации с 1990 по 2019 год\n",
    "- чаще всего встречаются автомобили с мощностью в районе 100 л.с. Больше всего автомобили имеются мощности в диапазоне от 50 до 200 л.с. \n",
    "- подавляющее большинство автомобилей имеет пробег в районе 150 000 км\n",
    "- Распределение по месяцам регистрации автомобилей равномерное\n",
    "\n",
    "Полученные графики для категориальных признаков показали следующее:\n",
    "- тройка лидеров по типу кузова:\n",
    "  - `sedan` - 26.1% (88931 автомобиль)\n",
    "  - `small` - 22.8% (77658 автомобилей)\n",
    "  - `wagon` - 18.6% (63435 автомобилей)\n",
    "- по типу коробки передач лидирует механическая коробка `manual` - 76.2% от общего количества, 259996 автомобиля\n",
    "- больше всего моделей автомобилей golf – 8.2% от общего количества – 28097 автомобиля\n",
    "- по типу топлива лидирует бензин – 89.9% от общего числа автомобилей – 306405.\n",
    "  - Тройка лидеров по марке автомобилей:\n",
    "  - Volkswagen -21.7% (73934 автомобиля)\n",
    "  - Opel – 11.2% (38210 автомобиля)\n",
    "  - BMW – 10.4% (35522 автомобиля)\n",
    " \n",
    "**На этапе корреляционного анализа были получены следующие результаты:**\n",
    "- между входными признаками `brand` и `model` присутствует мультиколлинеарность, поэтому было принято решение удалить признак `brand`.\n",
    "- также во входных признаках наблюдается сильная корреляция между `model` и `vehicle_type`\n",
    "- корреляция с целевым признаком больше всего у признаков `registrarion_year`, `model` и  `power`.\n",
    "\n",
    "**При составлении пайплайнов для подбора гиперпараметров сразу нескольким моделям были проделаны следующие шаги и получены следующие результаты**\n",
    "- создано несколько пайплайнов, включающиие:\n",
    "  - подготовку данных:\n",
    "   - кодирование категориальных признаков при помощи OrdinalEncoder()\n",
    "   - масштабирование количественных признаков при помощи StandardScaler()\n",
    "   - перебор гиперпараметров для разных моделей в 2 пайплайнах:\n",
    "     - в первом пайплайне для моделей DecisionTreeRegressor() и KNeighborsRegressor() со словарями их гиперпараметров при помощи инструмента автоматизированного подбора RandomizedSearchCV().\n",
    "     - во втором пайплайне для моделей CatBoostRegressor() и LGBMRegressor() со словарями их гиперпараметров при помощи инструмента автоматизированного подбора GridSearchCV()\n",
    "- для оценивания качества работы моделей была созданна функция для расчета метрики RMSE, которая при помощи make_scorer была применена при автоматизированном поиске гиперпараметров\n",
    "- при автоматизированном поиске гиперпараметров были получены следующие результаты:\n",
    "  - метрика RMSE намного лучше оказалась у моделей бустинга LGBMRegressor() и CatBoostRegressor(), чем у моделей KNeighborsRegressor() и DecisionTreeRegressor()\n",
    " - хоть модель LGBMRegressor() и показала метрику лучше, чем модель CatBoostRegressor(), но время обучения у нее оказалось дольше почти в два раза, а прогнозное время  модели оказалось почти в 30 раз дольше.\n",
    "  - время обучения `mean_fit_time` у моделей бустинга в десятки раз превысило остальные модели.\n",
    "\n",
    "**Лучшей моделью оказалась CatBoostRegressor() со стандартным набором гиперпараметров: iterations = 1000, learning_rate = 0.1, depth = 6**, так как ее метрика RMSE немного хуже, чем у LGBMRegressor, но вот время предсказания и оценивания работы кратно меньше. И если сравнить с деревянной моделью, то по времени обучения, конечно, модель градиентного бустинга проигрывает, но обучение мы делаем один раз, а предсказаний много, а длительность предсказания у них отличается буквально на десятую долю, зато метрика RMSE намного лучше у модели CatBoostRegressor().\n",
    "\n",
    "  - лучшая модель была подобрана за 719 секунд при использовании GridSearchCV().\n",
    "  - метрика RMSE при кросс-валидации составила 1716\n",
    "\n",
    "**Результаты лучшей модели CatBoostRegressor() на тестовой выборке получились следующие:**\n",
    " - метрика RMSE 1702.98,\n",
    " - прогнозное время составило 0.08 секунды\n",
    " - при этом время при повторном обучении модели на тренировочной выборке с предобработанными данными составило 35 секунд, на сырых данных 235 секунд\n",
    " \n",
    "- также модель прошла проверку на адекватность, метрика RMSE оказалась намного ниже, чем у модели DummyRegressor()"
   ]
  },
  {
   "cell_type": "code",
   "execution_count": null,
   "metadata": {},
   "outputs": [],
   "source": []
  }
 ],
 "metadata": {
  "ExecuteTimeLog": [
   {
    "duration": 52,
    "start_time": "2025-03-07T18:21:20.067Z"
   },
   {
    "duration": 954,
    "start_time": "2025-03-07T18:24:30.470Z"
   },
   {
    "duration": 9,
    "start_time": "2025-03-07T18:24:34.609Z"
   },
   {
    "duration": 779,
    "start_time": "2025-03-07T18:26:23.398Z"
   },
   {
    "duration": 4,
    "start_time": "2025-03-07T18:30:59.383Z"
   },
   {
    "duration": 9,
    "start_time": "2025-03-07T18:31:06.422Z"
   },
   {
    "duration": 3,
    "start_time": "2025-03-07T18:31:19.479Z"
   },
   {
    "duration": 4,
    "start_time": "2025-03-07T18:31:21.494Z"
   },
   {
    "duration": 3875,
    "start_time": "2025-03-08T07:13:08.064Z"
   },
   {
    "duration": 1936,
    "start_time": "2025-03-08T07:13:29.211Z"
   },
   {
    "duration": 8,
    "start_time": "2025-03-08T07:13:37.317Z"
   },
   {
    "duration": 3,
    "start_time": "2025-03-08T07:14:03.974Z"
   },
   {
    "duration": 1189,
    "start_time": "2025-03-08T07:19:07.792Z"
   },
   {
    "duration": 1144,
    "start_time": "2025-03-08T07:31:41.012Z"
   },
   {
    "duration": 1163,
    "start_time": "2025-03-08T07:34:07.487Z"
   },
   {
    "duration": 96,
    "start_time": "2025-03-08T07:34:42.936Z"
   },
   {
    "duration": 1201,
    "start_time": "2025-03-08T07:34:52.693Z"
   },
   {
    "duration": 3,
    "start_time": "2025-03-08T08:07:19.770Z"
   },
   {
    "duration": 3,
    "start_time": "2025-03-08T08:30:05.098Z"
   },
   {
    "duration": 5,
    "start_time": "2025-03-08T08:30:34.024Z"
   },
   {
    "duration": 15,
    "start_time": "2025-03-08T08:31:01.149Z"
   },
   {
    "duration": 115,
    "start_time": "2025-03-08T08:31:05.130Z"
   },
   {
    "duration": 2804,
    "start_time": "2025-03-08T08:36:38.921Z"
   },
   {
    "duration": 1668,
    "start_time": "2025-03-08T08:36:41.727Z"
   },
   {
    "duration": 3,
    "start_time": "2025-03-08T08:36:43.396Z"
   },
   {
    "duration": 1391,
    "start_time": "2025-03-08T08:36:43.400Z"
   },
   {
    "duration": 4,
    "start_time": "2025-03-08T08:36:44.794Z"
   },
   {
    "duration": 21,
    "start_time": "2025-03-08T08:36:44.799Z"
   },
   {
    "duration": 138,
    "start_time": "2025-03-08T08:36:44.823Z"
   },
   {
    "duration": 2,
    "start_time": "2025-03-08T08:36:44.963Z"
   },
   {
    "duration": 92,
    "start_time": "2025-03-08T08:36:58.013Z"
   },
   {
    "duration": 5,
    "start_time": "2025-03-08T08:38:23.391Z"
   },
   {
    "duration": 4,
    "start_time": "2025-03-08T08:40:32.207Z"
   },
   {
    "duration": 3,
    "start_time": "2025-03-08T08:41:35.532Z"
   },
   {
    "duration": 4,
    "start_time": "2025-03-08T09:15:20.605Z"
   },
   {
    "duration": 123,
    "start_time": "2025-03-08T09:15:22.235Z"
   },
   {
    "duration": 5,
    "start_time": "2025-03-08T09:16:33.737Z"
   },
   {
    "duration": 149,
    "start_time": "2025-03-08T09:23:24.838Z"
   },
   {
    "duration": 5,
    "start_time": "2025-03-08T09:23:58.070Z"
   },
   {
    "duration": 114,
    "start_time": "2025-03-08T09:28:54.807Z"
   },
   {
    "duration": 107,
    "start_time": "2025-03-08T11:06:05.929Z"
   },
   {
    "duration": 101,
    "start_time": "2025-03-08T11:06:39.101Z"
   },
   {
    "duration": 18,
    "start_time": "2025-03-08T11:07:45.722Z"
   },
   {
    "duration": 87,
    "start_time": "2025-03-08T11:16:39.476Z"
   },
   {
    "duration": 34,
    "start_time": "2025-03-08T13:39:59.837Z"
   },
   {
    "duration": 29,
    "start_time": "2025-03-08T13:40:22.433Z"
   },
   {
    "duration": 47,
    "start_time": "2025-03-08T13:40:58.078Z"
   },
   {
    "duration": 14,
    "start_time": "2025-03-08T13:41:05.447Z"
   },
   {
    "duration": 31,
    "start_time": "2025-03-08T13:44:41.199Z"
   },
   {
    "duration": 9,
    "start_time": "2025-03-08T13:47:46.360Z"
   },
   {
    "duration": 9,
    "start_time": "2025-03-08T13:47:53.462Z"
   },
   {
    "duration": 10,
    "start_time": "2025-03-08T13:48:04.983Z"
   },
   {
    "duration": 28,
    "start_time": "2025-03-08T13:48:45.252Z"
   },
   {
    "duration": 9,
    "start_time": "2025-03-08T13:48:59.477Z"
   },
   {
    "duration": 31,
    "start_time": "2025-03-08T13:49:37.093Z"
   },
   {
    "duration": 20,
    "start_time": "2025-03-08T13:49:55.362Z"
   },
   {
    "duration": 34,
    "start_time": "2025-03-08T13:49:59.573Z"
   },
   {
    "duration": 33,
    "start_time": "2025-03-08T13:50:33.045Z"
   },
   {
    "duration": 31,
    "start_time": "2025-03-08T13:51:01.011Z"
   },
   {
    "duration": 3333,
    "start_time": "2025-03-09T07:14:53.823Z"
   },
   {
    "duration": 1588,
    "start_time": "2025-03-09T07:14:57.158Z"
   },
   {
    "duration": 3,
    "start_time": "2025-03-09T07:14:58.747Z"
   },
   {
    "duration": 141,
    "start_time": "2025-03-09T07:14:58.752Z"
   },
   {
    "duration": 0,
    "start_time": "2025-03-09T07:14:58.896Z"
   },
   {
    "duration": 0,
    "start_time": "2025-03-09T07:14:58.897Z"
   },
   {
    "duration": 0,
    "start_time": "2025-03-09T07:14:58.907Z"
   },
   {
    "duration": 0,
    "start_time": "2025-03-09T07:14:58.909Z"
   },
   {
    "duration": 0,
    "start_time": "2025-03-09T07:14:58.910Z"
   },
   {
    "duration": 0,
    "start_time": "2025-03-09T07:14:58.911Z"
   },
   {
    "duration": 0,
    "start_time": "2025-03-09T07:14:58.913Z"
   },
   {
    "duration": 0,
    "start_time": "2025-03-09T07:14:58.914Z"
   },
   {
    "duration": 0,
    "start_time": "2025-03-09T07:14:58.916Z"
   },
   {
    "duration": 0,
    "start_time": "2025-03-09T07:14:58.917Z"
   },
   {
    "duration": 0,
    "start_time": "2025-03-09T07:14:58.919Z"
   },
   {
    "duration": 2282,
    "start_time": "2025-03-09T07:15:49.378Z"
   },
   {
    "duration": 1411,
    "start_time": "2025-03-09T07:15:51.663Z"
   },
   {
    "duration": 2,
    "start_time": "2025-03-09T07:15:53.076Z"
   },
   {
    "duration": 1097,
    "start_time": "2025-03-09T07:15:53.079Z"
   },
   {
    "duration": 4,
    "start_time": "2025-03-09T07:15:54.178Z"
   },
   {
    "duration": 154,
    "start_time": "2025-03-09T07:15:54.183Z"
   },
   {
    "duration": 116,
    "start_time": "2025-03-09T07:15:54.339Z"
   },
   {
    "duration": 103,
    "start_time": "2025-03-09T07:15:54.456Z"
   },
   {
    "duration": 96,
    "start_time": "2025-03-09T07:15:54.560Z"
   },
   {
    "duration": 14,
    "start_time": "2025-03-09T07:15:54.658Z"
   },
   {
    "duration": 44,
    "start_time": "2025-03-09T07:15:54.673Z"
   },
   {
    "duration": 25,
    "start_time": "2025-03-09T07:15:54.718Z"
   },
   {
    "duration": 8,
    "start_time": "2025-03-09T07:15:54.745Z"
   },
   {
    "duration": 53,
    "start_time": "2025-03-09T07:15:54.755Z"
   },
   {
    "duration": 28,
    "start_time": "2025-03-09T07:15:54.809Z"
   },
   {
    "duration": 13,
    "start_time": "2025-03-09T07:16:48.447Z"
   },
   {
    "duration": 13,
    "start_time": "2025-03-09T07:17:12.220Z"
   },
   {
    "duration": 12,
    "start_time": "2025-03-09T07:17:24.841Z"
   },
   {
    "duration": 13,
    "start_time": "2025-03-09T07:17:43.588Z"
   },
   {
    "duration": 14,
    "start_time": "2025-03-09T07:17:51.454Z"
   },
   {
    "duration": 12,
    "start_time": "2025-03-09T07:18:10.482Z"
   },
   {
    "duration": 12,
    "start_time": "2025-03-09T07:18:25.293Z"
   },
   {
    "duration": 12,
    "start_time": "2025-03-09T07:18:31.292Z"
   },
   {
    "duration": 13,
    "start_time": "2025-03-09T07:19:04.511Z"
   },
   {
    "duration": 12,
    "start_time": "2025-03-09T07:20:33.919Z"
   },
   {
    "duration": 92,
    "start_time": "2025-03-09T07:21:14.440Z"
   },
   {
    "duration": 12,
    "start_time": "2025-03-09T07:21:24.519Z"
   },
   {
    "duration": 39,
    "start_time": "2025-03-09T08:13:48.831Z"
   },
   {
    "duration": 92,
    "start_time": "2025-03-09T08:13:57.758Z"
   },
   {
    "duration": 24,
    "start_time": "2025-03-09T08:16:46.019Z"
   },
   {
    "duration": 12,
    "start_time": "2025-03-09T08:16:51.778Z"
   },
   {
    "duration": 37,
    "start_time": "2025-03-09T08:16:55.458Z"
   },
   {
    "duration": 22,
    "start_time": "2025-03-09T08:17:01.465Z"
   },
   {
    "duration": 23,
    "start_time": "2025-03-09T08:17:08.519Z"
   },
   {
    "duration": 24,
    "start_time": "2025-03-09T08:17:31.928Z"
   },
   {
    "duration": 10,
    "start_time": "2025-03-09T08:17:44.503Z"
   },
   {
    "duration": 1075,
    "start_time": "2025-03-09T08:18:11.673Z"
   },
   {
    "duration": 24,
    "start_time": "2025-03-09T08:21:09.140Z"
   },
   {
    "duration": 9,
    "start_time": "2025-03-09T08:21:14.100Z"
   },
   {
    "duration": 8,
    "start_time": "2025-03-09T08:21:19.042Z"
   },
   {
    "duration": 9,
    "start_time": "2025-03-09T08:24:11.537Z"
   },
   {
    "duration": 4,
    "start_time": "2025-03-09T08:24:14.156Z"
   },
   {
    "duration": 44,
    "start_time": "2025-03-09T08:24:27.417Z"
   },
   {
    "duration": 3,
    "start_time": "2025-03-09T08:24:29.842Z"
   },
   {
    "duration": 41,
    "start_time": "2025-03-09T08:24:50.586Z"
   },
   {
    "duration": 4,
    "start_time": "2025-03-09T08:24:54.196Z"
   },
   {
    "duration": 28,
    "start_time": "2025-03-09T08:25:13.385Z"
   },
   {
    "duration": 4,
    "start_time": "2025-03-09T08:25:15.121Z"
   },
   {
    "duration": 4,
    "start_time": "2025-03-09T08:25:45.336Z"
   },
   {
    "duration": 31,
    "start_time": "2025-03-09T08:26:55.658Z"
   },
   {
    "duration": 24,
    "start_time": "2025-03-09T08:28:44.987Z"
   },
   {
    "duration": 23,
    "start_time": "2025-03-09T08:32:24.867Z"
   },
   {
    "duration": 27,
    "start_time": "2025-03-09T08:35:36.988Z"
   },
   {
    "duration": 23,
    "start_time": "2025-03-09T08:35:56.627Z"
   },
   {
    "duration": 1067,
    "start_time": "2025-03-09T08:40:06.695Z"
   },
   {
    "duration": 2339,
    "start_time": "2025-03-09T08:42:16.441Z"
   },
   {
    "duration": 1542,
    "start_time": "2025-03-09T08:42:18.782Z"
   },
   {
    "duration": 2,
    "start_time": "2025-03-09T08:42:20.326Z"
   },
   {
    "duration": 1138,
    "start_time": "2025-03-09T08:42:20.329Z"
   },
   {
    "duration": 4,
    "start_time": "2025-03-09T08:42:21.470Z"
   },
   {
    "duration": 108,
    "start_time": "2025-03-09T08:42:21.476Z"
   },
   {
    "duration": 139,
    "start_time": "2025-03-09T08:42:21.586Z"
   },
   {
    "duration": 110,
    "start_time": "2025-03-09T08:42:21.727Z"
   },
   {
    "duration": 103,
    "start_time": "2025-03-09T08:42:21.839Z"
   },
   {
    "duration": 14,
    "start_time": "2025-03-09T08:42:21.944Z"
   },
   {
    "duration": 44,
    "start_time": "2025-03-09T08:42:21.960Z"
   },
   {
    "duration": 43,
    "start_time": "2025-03-09T08:42:22.005Z"
   },
   {
    "duration": 9,
    "start_time": "2025-03-09T08:42:22.050Z"
   },
   {
    "duration": 60,
    "start_time": "2025-03-09T08:42:22.061Z"
   },
   {
    "duration": 26,
    "start_time": "2025-03-09T08:42:22.123Z"
   },
   {
    "duration": 35,
    "start_time": "2025-03-09T08:42:22.151Z"
   },
   {
    "duration": 4,
    "start_time": "2025-03-09T08:42:22.188Z"
   },
   {
    "duration": 57,
    "start_time": "2025-03-09T08:42:22.193Z"
   },
   {
    "duration": 25,
    "start_time": "2025-03-09T08:43:11.503Z"
   },
   {
    "duration": 24,
    "start_time": "2025-03-09T08:43:36.911Z"
   },
   {
    "duration": 24,
    "start_time": "2025-03-09T08:45:17.335Z"
   },
   {
    "duration": 19,
    "start_time": "2025-03-09T08:46:04.611Z"
   },
   {
    "duration": 23,
    "start_time": "2025-03-09T08:47:42.068Z"
   },
   {
    "duration": 24,
    "start_time": "2025-03-09T08:49:02.899Z"
   },
   {
    "duration": 21,
    "start_time": "2025-03-09T08:49:12.182Z"
   },
   {
    "duration": 26,
    "start_time": "2025-03-09T08:49:32.683Z"
   },
   {
    "duration": 26,
    "start_time": "2025-03-09T08:50:39.134Z"
   },
   {
    "duration": 35,
    "start_time": "2025-03-09T08:53:39.543Z"
   },
   {
    "duration": 9,
    "start_time": "2025-03-09T08:55:13.616Z"
   },
   {
    "duration": 38,
    "start_time": "2025-03-09T09:08:29.671Z"
   },
   {
    "duration": 4,
    "start_time": "2025-03-09T09:08:39.363Z"
   },
   {
    "duration": 79,
    "start_time": "2025-03-09T09:09:08.253Z"
   },
   {
    "duration": 26,
    "start_time": "2025-03-09T09:09:19.468Z"
   },
   {
    "duration": 27,
    "start_time": "2025-03-09T09:09:27.914Z"
   },
   {
    "duration": 25,
    "start_time": "2025-03-09T09:09:48.967Z"
   },
   {
    "duration": 24,
    "start_time": "2025-03-09T09:09:59.745Z"
   },
   {
    "duration": 24,
    "start_time": "2025-03-09T09:10:59.293Z"
   },
   {
    "duration": 19,
    "start_time": "2025-03-09T09:11:21.442Z"
   },
   {
    "duration": 7,
    "start_time": "2025-03-09T09:12:38.866Z"
   },
   {
    "duration": 73,
    "start_time": "2025-03-09T09:12:55.714Z"
   },
   {
    "duration": 7,
    "start_time": "2025-03-09T09:13:06.163Z"
   },
   {
    "duration": 18,
    "start_time": "2025-03-09T09:13:10.356Z"
   },
   {
    "duration": 19,
    "start_time": "2025-03-09T09:14:31.797Z"
   },
   {
    "duration": 9,
    "start_time": "2025-03-09T09:14:37.008Z"
   },
   {
    "duration": 7,
    "start_time": "2025-03-09T09:14:50.732Z"
   },
   {
    "duration": 23,
    "start_time": "2025-03-09T09:14:53.704Z"
   },
   {
    "duration": 9,
    "start_time": "2025-03-09T09:15:35.569Z"
   },
   {
    "duration": 14,
    "start_time": "2025-03-09T09:15:49.585Z"
   },
   {
    "duration": 11,
    "start_time": "2025-03-09T09:16:00.966Z"
   },
   {
    "duration": 119,
    "start_time": "2025-03-09T09:16:11.792Z"
   },
   {
    "duration": 14,
    "start_time": "2025-03-09T09:16:17.329Z"
   },
   {
    "duration": 9,
    "start_time": "2025-03-09T09:17:09.158Z"
   },
   {
    "duration": 8,
    "start_time": "2025-03-09T09:17:22.513Z"
   },
   {
    "duration": 8,
    "start_time": "2025-03-09T09:17:29.441Z"
   },
   {
    "duration": 7,
    "start_time": "2025-03-09T09:17:32.578Z"
   },
   {
    "duration": 3,
    "start_time": "2025-03-09T09:25:09.485Z"
   },
   {
    "duration": 27,
    "start_time": "2025-03-09T09:26:34.012Z"
   },
   {
    "duration": 4,
    "start_time": "2025-03-09T09:27:10.103Z"
   },
   {
    "duration": 29,
    "start_time": "2025-03-09T09:28:53.492Z"
   },
   {
    "duration": 1526,
    "start_time": "2025-03-09T09:38:49.272Z"
   },
   {
    "duration": 3,
    "start_time": "2025-03-09T09:38:57.224Z"
   },
   {
    "duration": 5,
    "start_time": "2025-03-09T09:39:45.658Z"
   },
   {
    "duration": 9,
    "start_time": "2025-03-09T09:39:52.098Z"
   },
   {
    "duration": 5,
    "start_time": "2025-03-09T09:39:58.328Z"
   },
   {
    "duration": 5,
    "start_time": "2025-03-09T09:40:14.996Z"
   },
   {
    "duration": 7,
    "start_time": "2025-03-09T09:40:38.082Z"
   },
   {
    "duration": 12,
    "start_time": "2025-03-09T09:41:07.417Z"
   },
   {
    "duration": 68,
    "start_time": "2025-03-09T09:42:41.781Z"
   },
   {
    "duration": 54,
    "start_time": "2025-03-09T09:43:27.671Z"
   },
   {
    "duration": 45,
    "start_time": "2025-03-09T09:44:16.117Z"
   },
   {
    "duration": 55,
    "start_time": "2025-03-09T09:44:29.304Z"
   },
   {
    "duration": 49,
    "start_time": "2025-03-09T09:45:15.502Z"
   },
   {
    "duration": 49,
    "start_time": "2025-03-09T09:45:20.152Z"
   },
   {
    "duration": 3,
    "start_time": "2025-03-09T09:45:56.869Z"
   },
   {
    "duration": 82,
    "start_time": "2025-03-09T09:46:40.951Z"
   },
   {
    "duration": 14,
    "start_time": "2025-03-09T09:46:50.963Z"
   },
   {
    "duration": 106,
    "start_time": "2025-03-09T09:47:43.579Z"
   },
   {
    "duration": 1751,
    "start_time": "2025-03-09T09:48:27.304Z"
   },
   {
    "duration": 108,
    "start_time": "2025-03-09T09:48:34.079Z"
   },
   {
    "duration": 2548,
    "start_time": "2025-03-09T09:48:43.904Z"
   },
   {
    "duration": 1520,
    "start_time": "2025-03-09T09:48:46.454Z"
   },
   {
    "duration": 2,
    "start_time": "2025-03-09T09:48:47.976Z"
   },
   {
    "duration": 1193,
    "start_time": "2025-03-09T09:48:47.980Z"
   },
   {
    "duration": 4,
    "start_time": "2025-03-09T09:48:49.175Z"
   },
   {
    "duration": 136,
    "start_time": "2025-03-09T09:48:49.180Z"
   },
   {
    "duration": 139,
    "start_time": "2025-03-09T09:48:49.324Z"
   },
   {
    "duration": 105,
    "start_time": "2025-03-09T09:48:49.464Z"
   },
   {
    "duration": 116,
    "start_time": "2025-03-09T09:48:49.571Z"
   },
   {
    "duration": 32,
    "start_time": "2025-03-09T09:48:49.688Z"
   },
   {
    "duration": 16,
    "start_time": "2025-03-09T09:48:49.727Z"
   },
   {
    "duration": 45,
    "start_time": "2025-03-09T09:48:49.745Z"
   },
   {
    "duration": 40,
    "start_time": "2025-03-09T09:48:49.792Z"
   },
   {
    "duration": 41,
    "start_time": "2025-03-09T09:48:49.835Z"
   },
   {
    "duration": 25,
    "start_time": "2025-03-09T09:48:49.877Z"
   },
   {
    "duration": 11,
    "start_time": "2025-03-09T09:48:49.903Z"
   },
   {
    "duration": 30,
    "start_time": "2025-03-09T09:48:49.917Z"
   },
   {
    "duration": 8,
    "start_time": "2025-03-09T09:48:49.949Z"
   },
   {
    "duration": 19,
    "start_time": "2025-03-09T09:48:49.958Z"
   },
   {
    "duration": 33,
    "start_time": "2025-03-09T09:48:49.979Z"
   },
   {
    "duration": 18,
    "start_time": "2025-03-09T09:48:50.013Z"
   },
   {
    "duration": 46,
    "start_time": "2025-03-09T09:48:50.032Z"
   },
   {
    "duration": 4,
    "start_time": "2025-03-09T09:48:50.079Z"
   },
   {
    "duration": 53,
    "start_time": "2025-03-09T09:48:50.084Z"
   },
   {
    "duration": 1807,
    "start_time": "2025-03-09T09:48:50.138Z"
   },
   {
    "duration": 13,
    "start_time": "2025-03-09T09:48:51.947Z"
   },
   {
    "duration": 114,
    "start_time": "2025-03-09T09:48:51.962Z"
   },
   {
    "duration": 0,
    "start_time": "2025-03-09T09:48:52.077Z"
   },
   {
    "duration": 0,
    "start_time": "2025-03-09T09:48:52.079Z"
   },
   {
    "duration": 109,
    "start_time": "2025-03-09T09:48:56.395Z"
   },
   {
    "duration": 24,
    "start_time": "2025-03-09T09:49:15.883Z"
   },
   {
    "duration": 24,
    "start_time": "2025-03-09T09:49:30.852Z"
   },
   {
    "duration": 22,
    "start_time": "2025-03-09T09:49:44.378Z"
   },
   {
    "duration": 38,
    "start_time": "2025-03-09T09:49:50.992Z"
   },
   {
    "duration": 1611,
    "start_time": "2025-03-09T09:51:48.039Z"
   },
   {
    "duration": 23,
    "start_time": "2025-03-09T09:51:52.297Z"
   },
   {
    "duration": 113,
    "start_time": "2025-03-09T09:51:57.251Z"
   },
   {
    "duration": 2372,
    "start_time": "2025-03-09T09:52:02.949Z"
   },
   {
    "duration": 1491,
    "start_time": "2025-03-09T09:52:05.323Z"
   },
   {
    "duration": 4,
    "start_time": "2025-03-09T09:52:06.816Z"
   },
   {
    "duration": 1315,
    "start_time": "2025-03-09T09:52:06.821Z"
   },
   {
    "duration": 4,
    "start_time": "2025-03-09T09:52:08.139Z"
   },
   {
    "duration": 113,
    "start_time": "2025-03-09T09:52:08.144Z"
   },
   {
    "duration": 160,
    "start_time": "2025-03-09T09:52:08.259Z"
   },
   {
    "duration": 100,
    "start_time": "2025-03-09T09:52:08.420Z"
   },
   {
    "duration": 104,
    "start_time": "2025-03-09T09:52:08.521Z"
   },
   {
    "duration": 14,
    "start_time": "2025-03-09T09:52:08.627Z"
   },
   {
    "duration": 12,
    "start_time": "2025-03-09T09:52:08.643Z"
   },
   {
    "duration": 65,
    "start_time": "2025-03-09T09:52:08.656Z"
   },
   {
    "duration": 13,
    "start_time": "2025-03-09T09:52:08.722Z"
   },
   {
    "duration": 57,
    "start_time": "2025-03-09T09:52:08.737Z"
   },
   {
    "duration": 30,
    "start_time": "2025-03-09T09:52:08.795Z"
   },
   {
    "duration": 41,
    "start_time": "2025-03-09T09:52:08.826Z"
   },
   {
    "duration": 96,
    "start_time": "2025-03-09T09:52:08.868Z"
   },
   {
    "duration": 8,
    "start_time": "2025-03-09T09:52:08.965Z"
   },
   {
    "duration": 45,
    "start_time": "2025-03-09T09:52:08.975Z"
   },
   {
    "duration": 16,
    "start_time": "2025-03-09T09:52:09.022Z"
   },
   {
    "duration": 4,
    "start_time": "2025-03-09T09:52:09.040Z"
   },
   {
    "duration": 68,
    "start_time": "2025-03-09T09:52:09.046Z"
   },
   {
    "duration": 6,
    "start_time": "2025-03-09T09:52:09.115Z"
   },
   {
    "duration": 54,
    "start_time": "2025-03-09T09:52:09.123Z"
   },
   {
    "duration": 1705,
    "start_time": "2025-03-09T09:52:09.179Z"
   },
   {
    "duration": 32,
    "start_time": "2025-03-09T09:52:10.885Z"
   },
   {
    "duration": 122,
    "start_time": "2025-03-09T09:52:10.920Z"
   },
   {
    "duration": 78,
    "start_time": "2025-03-09T09:52:11.043Z"
   },
   {
    "duration": 8,
    "start_time": "2025-03-09T09:53:19.179Z"
   },
   {
    "duration": 17,
    "start_time": "2025-03-09T10:02:47.802Z"
   },
   {
    "duration": 305,
    "start_time": "2025-03-09T10:08:14.065Z"
   },
   {
    "duration": 1991,
    "start_time": "2025-03-09T10:09:24.728Z"
   },
   {
    "duration": 304,
    "start_time": "2025-03-09T10:09:52.758Z"
   },
   {
    "duration": 89,
    "start_time": "2025-03-09T10:10:05.795Z"
   },
   {
    "duration": 7,
    "start_time": "2025-03-09T10:10:50.698Z"
   },
   {
    "duration": 2334,
    "start_time": "2025-03-09T10:14:50.217Z"
   },
   {
    "duration": 1464,
    "start_time": "2025-03-09T10:14:52.553Z"
   },
   {
    "duration": 3,
    "start_time": "2025-03-09T10:14:54.018Z"
   },
   {
    "duration": 1139,
    "start_time": "2025-03-09T10:14:54.023Z"
   },
   {
    "duration": 5,
    "start_time": "2025-03-09T10:14:55.164Z"
   },
   {
    "duration": 118,
    "start_time": "2025-03-09T10:14:55.170Z"
   },
   {
    "duration": 140,
    "start_time": "2025-03-09T10:14:55.289Z"
   },
   {
    "duration": 119,
    "start_time": "2025-03-09T10:14:55.431Z"
   },
   {
    "duration": 98,
    "start_time": "2025-03-09T10:14:55.552Z"
   },
   {
    "duration": 14,
    "start_time": "2025-03-09T10:14:55.651Z"
   },
   {
    "duration": 12,
    "start_time": "2025-03-09T10:14:55.667Z"
   },
   {
    "duration": 63,
    "start_time": "2025-03-09T10:14:55.680Z"
   },
   {
    "duration": 10,
    "start_time": "2025-03-09T10:14:55.744Z"
   },
   {
    "duration": 67,
    "start_time": "2025-03-09T10:14:55.756Z"
   },
   {
    "duration": 25,
    "start_time": "2025-03-09T10:14:55.824Z"
   },
   {
    "duration": 8,
    "start_time": "2025-03-09T10:14:55.850Z"
   },
   {
    "duration": 101,
    "start_time": "2025-03-09T10:14:55.860Z"
   },
   {
    "duration": 8,
    "start_time": "2025-03-09T10:14:55.962Z"
   },
   {
    "duration": 18,
    "start_time": "2025-03-09T10:14:55.972Z"
   },
   {
    "duration": 7,
    "start_time": "2025-03-09T10:14:55.992Z"
   },
   {
    "duration": 5,
    "start_time": "2025-03-09T10:14:56.000Z"
   },
   {
    "duration": 46,
    "start_time": "2025-03-09T10:14:56.006Z"
   },
   {
    "duration": 5,
    "start_time": "2025-03-09T10:14:56.054Z"
   },
   {
    "duration": 58,
    "start_time": "2025-03-09T10:14:56.061Z"
   },
   {
    "duration": 1608,
    "start_time": "2025-03-09T10:14:56.121Z"
   },
   {
    "duration": 13,
    "start_time": "2025-03-09T10:14:57.730Z"
   },
   {
    "duration": 6,
    "start_time": "2025-03-09T10:14:57.745Z"
   },
   {
    "duration": 328,
    "start_time": "2025-03-09T10:14:57.753Z"
   },
   {
    "duration": 7,
    "start_time": "2025-03-09T10:14:58.083Z"
   },
   {
    "duration": 76,
    "start_time": "2025-03-09T10:14:58.091Z"
   },
   {
    "duration": 18,
    "start_time": "2025-03-09T11:28:48.532Z"
   },
   {
    "duration": 18,
    "start_time": "2025-03-09T11:29:02.051Z"
   },
   {
    "duration": 5,
    "start_time": "2025-03-09T11:29:23.791Z"
   },
   {
    "duration": 4,
    "start_time": "2025-03-09T11:29:32.181Z"
   },
   {
    "duration": 5,
    "start_time": "2025-03-09T11:29:37.365Z"
   },
   {
    "duration": 41,
    "start_time": "2025-03-09T11:30:01.888Z"
   },
   {
    "duration": 35,
    "start_time": "2025-03-09T11:33:04.445Z"
   },
   {
    "duration": 16,
    "start_time": "2025-03-09T11:33:25.513Z"
   },
   {
    "duration": 72,
    "start_time": "2025-03-09T11:35:51.471Z"
   },
   {
    "duration": 44,
    "start_time": "2025-03-09T11:35:55.576Z"
   },
   {
    "duration": 65,
    "start_time": "2025-03-09T11:36:09.579Z"
   },
   {
    "duration": 48,
    "start_time": "2025-03-09T11:36:38.392Z"
   },
   {
    "duration": 39,
    "start_time": "2025-03-09T11:42:00.345Z"
   },
   {
    "duration": 4,
    "start_time": "2025-03-09T11:42:07.466Z"
   },
   {
    "duration": 91,
    "start_time": "2025-03-09T11:50:55.106Z"
   },
   {
    "duration": 250,
    "start_time": "2025-03-09T12:03:16.423Z"
   },
   {
    "duration": 303,
    "start_time": "2025-03-09T12:06:16.354Z"
   },
   {
    "duration": 128,
    "start_time": "2025-03-09T12:09:48.463Z"
   },
   {
    "duration": 207,
    "start_time": "2025-03-09T12:41:08.320Z"
   },
   {
    "duration": 202,
    "start_time": "2025-03-09T12:56:28.812Z"
   },
   {
    "duration": 97,
    "start_time": "2025-03-09T12:56:57.872Z"
   },
   {
    "duration": 215,
    "start_time": "2025-03-09T12:57:01.195Z"
   },
   {
    "duration": 233,
    "start_time": "2025-03-09T12:57:39.109Z"
   },
   {
    "duration": 299,
    "start_time": "2025-03-09T12:59:14.362Z"
   },
   {
    "duration": 4,
    "start_time": "2025-03-09T12:59:24.753Z"
   },
   {
    "duration": 4,
    "start_time": "2025-03-09T12:59:29.053Z"
   },
   {
    "duration": 4,
    "start_time": "2025-03-09T13:00:11.911Z"
   },
   {
    "duration": 6,
    "start_time": "2025-03-09T13:07:23.093Z"
   },
   {
    "duration": 23,
    "start_time": "2025-03-09T13:08:45.787Z"
   },
   {
    "duration": 12,
    "start_time": "2025-03-09T13:09:28.751Z"
   },
   {
    "duration": 2341,
    "start_time": "2025-03-09T13:10:05.691Z"
   },
   {
    "duration": 1476,
    "start_time": "2025-03-09T13:10:08.034Z"
   },
   {
    "duration": 2,
    "start_time": "2025-03-09T13:10:09.511Z"
   },
   {
    "duration": 1168,
    "start_time": "2025-03-09T13:10:09.515Z"
   },
   {
    "duration": 4,
    "start_time": "2025-03-09T13:10:10.685Z"
   },
   {
    "duration": 136,
    "start_time": "2025-03-09T13:10:10.691Z"
   },
   {
    "duration": 147,
    "start_time": "2025-03-09T13:10:10.829Z"
   },
   {
    "duration": 97,
    "start_time": "2025-03-09T13:10:10.977Z"
   },
   {
    "duration": 101,
    "start_time": "2025-03-09T13:10:11.075Z"
   },
   {
    "duration": 56,
    "start_time": "2025-03-09T13:10:11.177Z"
   },
   {
    "duration": 13,
    "start_time": "2025-03-09T13:10:11.234Z"
   },
   {
    "duration": 11,
    "start_time": "2025-03-09T13:10:11.249Z"
   },
   {
    "duration": 61,
    "start_time": "2025-03-09T13:10:11.261Z"
   },
   {
    "duration": 9,
    "start_time": "2025-03-09T13:10:11.325Z"
   },
   {
    "duration": 42,
    "start_time": "2025-03-09T13:10:11.335Z"
   },
   {
    "duration": 34,
    "start_time": "2025-03-09T13:10:11.379Z"
   },
   {
    "duration": 8,
    "start_time": "2025-03-09T13:10:11.415Z"
   },
   {
    "duration": 29,
    "start_time": "2025-03-09T13:10:11.424Z"
   },
   {
    "duration": 8,
    "start_time": "2025-03-09T13:10:11.454Z"
   },
   {
    "duration": 73,
    "start_time": "2025-03-09T13:10:11.464Z"
   },
   {
    "duration": 8,
    "start_time": "2025-03-09T13:10:11.538Z"
   },
   {
    "duration": 6,
    "start_time": "2025-03-09T13:10:11.547Z"
   },
   {
    "duration": 53,
    "start_time": "2025-03-09T13:10:11.554Z"
   },
   {
    "duration": 3,
    "start_time": "2025-03-09T13:10:11.609Z"
   },
   {
    "duration": 18,
    "start_time": "2025-03-09T13:10:11.613Z"
   },
   {
    "duration": 1567,
    "start_time": "2025-03-09T13:10:11.632Z"
   },
   {
    "duration": 14,
    "start_time": "2025-03-09T13:10:13.200Z"
   },
   {
    "duration": 16,
    "start_time": "2025-03-09T13:10:13.216Z"
   },
   {
    "duration": 19,
    "start_time": "2025-03-09T13:10:13.234Z"
   },
   {
    "duration": 108,
    "start_time": "2025-03-09T13:10:13.254Z"
   },
   {
    "duration": 270,
    "start_time": "2025-03-09T13:10:13.364Z"
   },
   {
    "duration": 334,
    "start_time": "2025-03-09T13:10:13.636Z"
   },
   {
    "duration": 123,
    "start_time": "2025-03-09T13:10:13.971Z"
   },
   {
    "duration": 220,
    "start_time": "2025-03-09T13:10:14.096Z"
   },
   {
    "duration": 252,
    "start_time": "2025-03-09T13:10:14.317Z"
   },
   {
    "duration": 4,
    "start_time": "2025-03-09T13:10:14.571Z"
   },
   {
    "duration": 12,
    "start_time": "2025-03-09T13:10:14.576Z"
   },
   {
    "duration": 36,
    "start_time": "2025-03-09T13:10:14.590Z"
   },
   {
    "duration": 14,
    "start_time": "2025-03-09T13:11:04.439Z"
   },
   {
    "duration": 4,
    "start_time": "2025-03-09T13:11:48.785Z"
   },
   {
    "duration": 10,
    "start_time": "2025-03-09T13:11:57.992Z"
   },
   {
    "duration": 14,
    "start_time": "2025-03-09T13:12:05.310Z"
   },
   {
    "duration": 78,
    "start_time": "2025-03-09T14:17:56.425Z"
   },
   {
    "duration": 119,
    "start_time": "2025-03-09T14:23:11.077Z"
   },
   {
    "duration": 18,
    "start_time": "2025-03-09T14:23:16.380Z"
   },
   {
    "duration": 23,
    "start_time": "2025-03-09T14:23:46.045Z"
   },
   {
    "duration": 21,
    "start_time": "2025-03-09T14:24:20.180Z"
   },
   {
    "duration": 23,
    "start_time": "2025-03-09T14:25:20.453Z"
   },
   {
    "duration": 23,
    "start_time": "2025-03-09T14:26:06.869Z"
   },
   {
    "duration": 24,
    "start_time": "2025-03-09T14:26:18.608Z"
   },
   {
    "duration": 22,
    "start_time": "2025-03-09T14:26:24.571Z"
   },
   {
    "duration": 23,
    "start_time": "2025-03-09T14:26:37.668Z"
   },
   {
    "duration": 24,
    "start_time": "2025-03-09T14:34:54.205Z"
   },
   {
    "duration": 22,
    "start_time": "2025-03-09T14:35:00.661Z"
   },
   {
    "duration": 23,
    "start_time": "2025-03-09T14:35:04.663Z"
   },
   {
    "duration": 23,
    "start_time": "2025-03-09T14:35:11.895Z"
   },
   {
    "duration": 23,
    "start_time": "2025-03-09T14:35:15.648Z"
   },
   {
    "duration": 21,
    "start_time": "2025-03-09T14:35:19.807Z"
   },
   {
    "duration": 23,
    "start_time": "2025-03-09T14:37:03.838Z"
   },
   {
    "duration": 19,
    "start_time": "2025-03-09T14:37:16.341Z"
   },
   {
    "duration": 1622,
    "start_time": "2025-03-09T14:40:50.946Z"
   },
   {
    "duration": 2357,
    "start_time": "2025-03-09T14:41:27.470Z"
   },
   {
    "duration": 1523,
    "start_time": "2025-03-09T14:41:29.830Z"
   },
   {
    "duration": 3,
    "start_time": "2025-03-09T14:41:31.354Z"
   },
   {
    "duration": 1167,
    "start_time": "2025-03-09T14:41:31.358Z"
   },
   {
    "duration": 4,
    "start_time": "2025-03-09T14:41:32.527Z"
   },
   {
    "duration": 132,
    "start_time": "2025-03-09T14:41:32.533Z"
   },
   {
    "duration": 140,
    "start_time": "2025-03-09T14:41:32.667Z"
   },
   {
    "duration": 99,
    "start_time": "2025-03-09T14:41:32.808Z"
   },
   {
    "duration": 101,
    "start_time": "2025-03-09T14:41:32.909Z"
   },
   {
    "duration": 61,
    "start_time": "2025-03-09T14:41:33.012Z"
   },
   {
    "duration": 32,
    "start_time": "2025-03-09T14:41:33.075Z"
   },
   {
    "duration": 19,
    "start_time": "2025-03-09T14:41:33.109Z"
   },
   {
    "duration": 39,
    "start_time": "2025-03-09T14:41:33.130Z"
   },
   {
    "duration": 10,
    "start_time": "2025-03-09T14:41:33.170Z"
   },
   {
    "duration": 60,
    "start_time": "2025-03-09T14:41:33.181Z"
   },
   {
    "duration": 19,
    "start_time": "2025-03-09T14:41:33.243Z"
   },
   {
    "duration": 9,
    "start_time": "2025-03-09T14:41:33.264Z"
   },
   {
    "duration": 60,
    "start_time": "2025-03-09T14:41:33.274Z"
   },
   {
    "duration": 8,
    "start_time": "2025-03-09T14:41:33.335Z"
   },
   {
    "duration": 24,
    "start_time": "2025-03-09T14:41:33.344Z"
   },
   {
    "duration": 7,
    "start_time": "2025-03-09T14:41:33.369Z"
   },
   {
    "duration": 4,
    "start_time": "2025-03-09T14:41:33.378Z"
   },
   {
    "duration": 30,
    "start_time": "2025-03-09T14:41:33.408Z"
   },
   {
    "duration": 4,
    "start_time": "2025-03-09T14:41:33.440Z"
   },
   {
    "duration": 20,
    "start_time": "2025-03-09T14:41:33.445Z"
   },
   {
    "duration": 1602,
    "start_time": "2025-03-09T14:41:33.467Z"
   },
   {
    "duration": 20,
    "start_time": "2025-03-09T14:41:35.070Z"
   },
   {
    "duration": 1628,
    "start_time": "2025-03-09T14:41:35.093Z"
   },
   {
    "duration": 13,
    "start_time": "2025-03-09T14:41:36.723Z"
   },
   {
    "duration": 7,
    "start_time": "2025-03-09T14:41:36.738Z"
   },
   {
    "duration": 23,
    "start_time": "2025-03-09T14:41:36.746Z"
   },
   {
    "duration": 113,
    "start_time": "2025-03-09T14:41:36.771Z"
   },
   {
    "duration": 227,
    "start_time": "2025-03-09T14:41:36.886Z"
   },
   {
    "duration": 280,
    "start_time": "2025-03-09T14:41:37.115Z"
   },
   {
    "duration": 136,
    "start_time": "2025-03-09T14:41:37.396Z"
   },
   {
    "duration": 212,
    "start_time": "2025-03-09T14:41:37.533Z"
   },
   {
    "duration": 237,
    "start_time": "2025-03-09T14:41:37.747Z"
   },
   {
    "duration": 4,
    "start_time": "2025-03-09T14:41:37.986Z"
   },
   {
    "duration": 18,
    "start_time": "2025-03-09T14:41:37.992Z"
   },
   {
    "duration": 19,
    "start_time": "2025-03-09T14:41:38.012Z"
   },
   {
    "duration": 16,
    "start_time": "2025-03-09T14:41:38.032Z"
   },
   {
    "duration": 98,
    "start_time": "2025-03-09T14:41:38.049Z"
   },
   {
    "duration": 126,
    "start_time": "2025-03-09T14:41:38.149Z"
   },
   {
    "duration": 0,
    "start_time": "2025-03-09T14:41:38.276Z"
   },
   {
    "duration": 81,
    "start_time": "2025-03-09T14:49:16.516Z"
   },
   {
    "duration": 2494,
    "start_time": "2025-03-09T14:49:51.077Z"
   },
   {
    "duration": 2417,
    "start_time": "2025-03-09T14:55:29.254Z"
   },
   {
    "duration": 2307,
    "start_time": "2025-03-09T14:55:37.009Z"
   },
   {
    "duration": 2286,
    "start_time": "2025-03-09T14:56:29.702Z"
   },
   {
    "duration": 2316,
    "start_time": "2025-03-09T14:56:43.402Z"
   },
   {
    "duration": 2351,
    "start_time": "2025-03-09T14:57:13.530Z"
   },
   {
    "duration": 2456,
    "start_time": "2025-03-09T14:57:19.098Z"
   },
   {
    "duration": 2335,
    "start_time": "2025-03-09T14:57:36.422Z"
   },
   {
    "duration": 2231,
    "start_time": "2025-03-09T14:57:41.148Z"
   },
   {
    "duration": 2354,
    "start_time": "2025-03-09T14:57:52.090Z"
   },
   {
    "duration": 6,
    "start_time": "2025-03-09T15:08:10.430Z"
   },
   {
    "duration": 22,
    "start_time": "2025-03-09T15:08:21.048Z"
   },
   {
    "duration": 2353,
    "start_time": "2025-03-09T15:09:03.298Z"
   },
   {
    "duration": 79,
    "start_time": "2025-03-09T15:10:41.011Z"
   },
   {
    "duration": 21,
    "start_time": "2025-03-09T15:10:49.109Z"
   },
   {
    "duration": 129,
    "start_time": "2025-03-09T15:17:38.329Z"
   },
   {
    "duration": 26,
    "start_time": "2025-03-09T15:17:59.680Z"
   },
   {
    "duration": 5757,
    "start_time": "2025-03-09T15:18:31.594Z"
   },
   {
    "duration": 5879,
    "start_time": "2025-03-09T15:18:50.277Z"
   },
   {
    "duration": 4052,
    "start_time": "2025-03-09T17:11:47.069Z"
   },
   {
    "duration": 1900,
    "start_time": "2025-03-09T17:11:51.123Z"
   },
   {
    "duration": 3,
    "start_time": "2025-03-09T17:11:53.025Z"
   },
   {
    "duration": 1375,
    "start_time": "2025-03-09T17:11:53.030Z"
   },
   {
    "duration": 10,
    "start_time": "2025-03-09T17:11:54.408Z"
   },
   {
    "duration": 119,
    "start_time": "2025-03-09T17:11:54.421Z"
   },
   {
    "duration": 146,
    "start_time": "2025-03-09T17:11:54.542Z"
   },
   {
    "duration": 129,
    "start_time": "2025-03-09T17:11:54.690Z"
   },
   {
    "duration": 113,
    "start_time": "2025-03-09T17:11:54.821Z"
   },
   {
    "duration": 57,
    "start_time": "2025-03-09T17:11:54.936Z"
   },
   {
    "duration": 32,
    "start_time": "2025-03-09T17:11:54.994Z"
   },
   {
    "duration": 14,
    "start_time": "2025-03-09T17:11:55.028Z"
   },
   {
    "duration": 77,
    "start_time": "2025-03-09T17:11:55.043Z"
   },
   {
    "duration": 10,
    "start_time": "2025-03-09T17:11:55.122Z"
   },
   {
    "duration": 41,
    "start_time": "2025-03-09T17:11:55.133Z"
   },
   {
    "duration": 44,
    "start_time": "2025-03-09T17:11:55.176Z"
   },
   {
    "duration": 10,
    "start_time": "2025-03-09T17:11:55.228Z"
   },
   {
    "duration": 39,
    "start_time": "2025-03-09T17:11:55.240Z"
   },
   {
    "duration": 35,
    "start_time": "2025-03-09T17:11:55.281Z"
   },
   {
    "duration": 23,
    "start_time": "2025-03-09T17:11:55.318Z"
   },
   {
    "duration": 10,
    "start_time": "2025-03-09T17:11:55.344Z"
   },
   {
    "duration": 5,
    "start_time": "2025-03-09T17:11:55.356Z"
   },
   {
    "duration": 75,
    "start_time": "2025-03-09T17:11:55.363Z"
   },
   {
    "duration": 4,
    "start_time": "2025-03-09T17:11:55.439Z"
   },
   {
    "duration": 19,
    "start_time": "2025-03-09T17:11:55.445Z"
   },
   {
    "duration": 1907,
    "start_time": "2025-03-09T17:11:55.466Z"
   },
   {
    "duration": 41,
    "start_time": "2025-03-09T17:11:57.375Z"
   },
   {
    "duration": 1920,
    "start_time": "2025-03-09T17:11:57.422Z"
   },
   {
    "duration": 15,
    "start_time": "2025-03-09T17:11:59.344Z"
   },
   {
    "duration": 7,
    "start_time": "2025-03-09T17:11:59.361Z"
   },
   {
    "duration": 40,
    "start_time": "2025-03-09T17:11:59.370Z"
   },
   {
    "duration": 123,
    "start_time": "2025-03-09T17:11:59.412Z"
   },
   {
    "duration": 303,
    "start_time": "2025-03-09T17:11:59.536Z"
   },
   {
    "duration": 358,
    "start_time": "2025-03-09T17:11:59.841Z"
   },
   {
    "duration": 163,
    "start_time": "2025-03-09T17:12:00.203Z"
   },
   {
    "duration": 269,
    "start_time": "2025-03-09T17:12:00.367Z"
   },
   {
    "duration": 291,
    "start_time": "2025-03-09T17:12:00.638Z"
   },
   {
    "duration": 4,
    "start_time": "2025-03-09T17:12:00.931Z"
   },
   {
    "duration": 21,
    "start_time": "2025-03-09T17:12:00.936Z"
   },
   {
    "duration": 58,
    "start_time": "2025-03-09T17:12:00.959Z"
   },
   {
    "duration": 60,
    "start_time": "2025-03-09T17:12:01.021Z"
   },
   {
    "duration": 136,
    "start_time": "2025-03-09T17:12:01.083Z"
   },
   {
    "duration": 2932,
    "start_time": "2025-03-09T17:12:01.221Z"
   },
   {
    "duration": 173,
    "start_time": "2025-03-09T17:12:04.155Z"
   },
   {
    "duration": 0,
    "start_time": "2025-03-09T17:12:04.330Z"
   },
   {
    "duration": 0,
    "start_time": "2025-03-09T17:12:04.331Z"
   },
   {
    "duration": 6979,
    "start_time": "2025-03-09T17:27:31.364Z"
   },
   {
    "duration": 1538,
    "start_time": "2025-03-09T17:28:09.192Z"
   },
   {
    "duration": 1656,
    "start_time": "2025-03-09T17:28:39.554Z"
   },
   {
    "duration": 1546,
    "start_time": "2025-03-09T17:28:53.695Z"
   },
   {
    "duration": 1581,
    "start_time": "2025-03-09T17:30:17.448Z"
   },
   {
    "duration": 1646,
    "start_time": "2025-03-09T17:30:22.916Z"
   },
   {
    "duration": 1567,
    "start_time": "2025-03-09T17:30:46.583Z"
   },
   {
    "duration": 1655,
    "start_time": "2025-03-09T17:31:20.117Z"
   },
   {
    "duration": 1607,
    "start_time": "2025-03-09T17:31:33.483Z"
   },
   {
    "duration": 107,
    "start_time": "2025-03-09T17:32:27.978Z"
   },
   {
    "duration": 1540,
    "start_time": "2025-03-09T17:32:32.585Z"
   },
   {
    "duration": 1628,
    "start_time": "2025-03-09T17:32:43.633Z"
   },
   {
    "duration": 1590,
    "start_time": "2025-03-09T17:32:57.843Z"
   },
   {
    "duration": 1520,
    "start_time": "2025-03-09T17:33:06.030Z"
   },
   {
    "duration": 1618,
    "start_time": "2025-03-09T17:33:22.240Z"
   },
   {
    "duration": 1519,
    "start_time": "2025-03-09T17:33:32.232Z"
   },
   {
    "duration": 1823,
    "start_time": "2025-03-09T17:41:32.640Z"
   },
   {
    "duration": 1481,
    "start_time": "2025-03-09T17:41:54.070Z"
   },
   {
    "duration": 188,
    "start_time": "2025-03-09T17:42:18.808Z"
   },
   {
    "duration": 2405,
    "start_time": "2025-03-09T17:42:42.968Z"
   },
   {
    "duration": 1597,
    "start_time": "2025-03-09T17:43:21.840Z"
   },
   {
    "duration": 1520,
    "start_time": "2025-03-09T17:44:14.898Z"
   },
   {
    "duration": 1467,
    "start_time": "2025-03-09T17:44:27.570Z"
   },
   {
    "duration": 1619,
    "start_time": "2025-03-09T17:47:57.583Z"
   },
   {
    "duration": 26,
    "start_time": "2025-03-09T17:48:40.477Z"
   },
   {
    "duration": 27,
    "start_time": "2025-03-09T17:49:10.815Z"
   },
   {
    "duration": 30,
    "start_time": "2025-03-09T17:49:14.198Z"
   },
   {
    "duration": 1429,
    "start_time": "2025-03-09T17:49:36.313Z"
   },
   {
    "duration": 27,
    "start_time": "2025-03-09T17:49:43.807Z"
   },
   {
    "duration": 30,
    "start_time": "2025-03-09T17:50:56.990Z"
   },
   {
    "duration": 17,
    "start_time": "2025-03-09T17:51:26.826Z"
   },
   {
    "duration": 23,
    "start_time": "2025-03-09T17:52:08.941Z"
   },
   {
    "duration": 21,
    "start_time": "2025-03-09T17:53:12.094Z"
   },
   {
    "duration": 12,
    "start_time": "2025-03-09T17:53:40.196Z"
   },
   {
    "duration": 2801,
    "start_time": "2025-03-09T17:54:26.682Z"
   },
   {
    "duration": 1741,
    "start_time": "2025-03-09T17:54:29.486Z"
   },
   {
    "duration": 4,
    "start_time": "2025-03-09T17:54:31.228Z"
   },
   {
    "duration": 1328,
    "start_time": "2025-03-09T17:54:31.234Z"
   },
   {
    "duration": 4,
    "start_time": "2025-03-09T17:54:32.564Z"
   },
   {
    "duration": 123,
    "start_time": "2025-03-09T17:54:32.570Z"
   },
   {
    "duration": 148,
    "start_time": "2025-03-09T17:54:32.695Z"
   },
   {
    "duration": 106,
    "start_time": "2025-03-09T17:54:32.845Z"
   },
   {
    "duration": 106,
    "start_time": "2025-03-09T17:54:32.952Z"
   },
   {
    "duration": 67,
    "start_time": "2025-03-09T17:54:33.061Z"
   },
   {
    "duration": 15,
    "start_time": "2025-03-09T17:54:33.130Z"
   },
   {
    "duration": 19,
    "start_time": "2025-03-09T17:54:33.147Z"
   },
   {
    "duration": 70,
    "start_time": "2025-03-09T17:54:33.168Z"
   },
   {
    "duration": 10,
    "start_time": "2025-03-09T17:54:33.240Z"
   },
   {
    "duration": 60,
    "start_time": "2025-03-09T17:54:33.252Z"
   },
   {
    "duration": 19,
    "start_time": "2025-03-09T17:54:33.314Z"
   },
   {
    "duration": 22,
    "start_time": "2025-03-09T17:54:33.335Z"
   },
   {
    "duration": 51,
    "start_time": "2025-03-09T17:54:33.359Z"
   },
   {
    "duration": 11,
    "start_time": "2025-03-09T17:54:33.414Z"
   },
   {
    "duration": 38,
    "start_time": "2025-03-09T17:54:33.427Z"
   },
   {
    "duration": 10,
    "start_time": "2025-03-09T17:54:33.467Z"
   },
   {
    "duration": 19,
    "start_time": "2025-03-09T17:54:33.478Z"
   },
   {
    "duration": 49,
    "start_time": "2025-03-09T17:54:33.499Z"
   },
   {
    "duration": 4,
    "start_time": "2025-03-09T17:54:33.550Z"
   },
   {
    "duration": 36,
    "start_time": "2025-03-09T17:54:33.555Z"
   },
   {
    "duration": 1850,
    "start_time": "2025-03-09T17:54:33.593Z"
   },
   {
    "duration": 18,
    "start_time": "2025-03-09T17:54:35.445Z"
   },
   {
    "duration": 1889,
    "start_time": "2025-03-09T17:54:35.466Z"
   },
   {
    "duration": 14,
    "start_time": "2025-03-09T17:54:37.357Z"
   },
   {
    "duration": 6,
    "start_time": "2025-03-09T17:54:37.372Z"
   },
   {
    "duration": 48,
    "start_time": "2025-03-09T17:54:37.379Z"
   },
   {
    "duration": 114,
    "start_time": "2025-03-09T17:54:37.428Z"
   },
   {
    "duration": 338,
    "start_time": "2025-03-09T17:54:37.543Z"
   },
   {
    "duration": 344,
    "start_time": "2025-03-09T17:54:37.882Z"
   },
   {
    "duration": 149,
    "start_time": "2025-03-09T17:54:38.227Z"
   },
   {
    "duration": 262,
    "start_time": "2025-03-09T17:54:38.378Z"
   },
   {
    "duration": 309,
    "start_time": "2025-03-09T17:54:38.642Z"
   },
   {
    "duration": 3,
    "start_time": "2025-03-09T17:54:38.953Z"
   },
   {
    "duration": 9,
    "start_time": "2025-03-09T17:54:38.958Z"
   },
   {
    "duration": 47,
    "start_time": "2025-03-09T17:54:38.969Z"
   },
   {
    "duration": 17,
    "start_time": "2025-03-09T17:54:39.020Z"
   },
   {
    "duration": 101,
    "start_time": "2025-03-09T17:54:39.038Z"
   },
   {
    "duration": 2921,
    "start_time": "2025-03-09T17:54:39.141Z"
   },
   {
    "duration": 1554,
    "start_time": "2025-03-09T17:54:42.064Z"
   },
   {
    "duration": 19,
    "start_time": "2025-03-09T17:54:43.622Z"
   },
   {
    "duration": 28,
    "start_time": "2025-03-09T17:54:43.643Z"
   },
   {
    "duration": 19,
    "start_time": "2025-03-09T17:57:21.328Z"
   },
   {
    "duration": 2875,
    "start_time": "2025-03-09T18:00:57.308Z"
   },
   {
    "duration": 2044,
    "start_time": "2025-03-09T18:01:00.186Z"
   },
   {
    "duration": 3,
    "start_time": "2025-03-09T18:01:02.232Z"
   },
   {
    "duration": 1398,
    "start_time": "2025-03-09T18:01:02.236Z"
   },
   {
    "duration": 4,
    "start_time": "2025-03-09T18:01:03.637Z"
   },
   {
    "duration": 142,
    "start_time": "2025-03-09T18:01:03.643Z"
   },
   {
    "duration": 165,
    "start_time": "2025-03-09T18:01:03.787Z"
   },
   {
    "duration": 118,
    "start_time": "2025-03-09T18:01:03.954Z"
   },
   {
    "duration": 108,
    "start_time": "2025-03-09T18:01:04.073Z"
   },
   {
    "duration": 77,
    "start_time": "2025-03-09T18:01:04.183Z"
   },
   {
    "duration": 15,
    "start_time": "2025-03-09T18:01:04.262Z"
   },
   {
    "duration": 50,
    "start_time": "2025-03-09T18:01:04.279Z"
   },
   {
    "duration": 44,
    "start_time": "2025-03-09T18:01:04.331Z"
   },
   {
    "duration": 10,
    "start_time": "2025-03-09T18:01:04.378Z"
   },
   {
    "duration": 61,
    "start_time": "2025-03-09T18:01:04.390Z"
   },
   {
    "duration": 22,
    "start_time": "2025-03-09T18:01:04.453Z"
   },
   {
    "duration": 19,
    "start_time": "2025-03-09T18:01:04.477Z"
   },
   {
    "duration": 53,
    "start_time": "2025-03-09T18:01:04.497Z"
   },
   {
    "duration": 11,
    "start_time": "2025-03-09T18:01:04.552Z"
   },
   {
    "duration": 42,
    "start_time": "2025-03-09T18:01:04.565Z"
   },
   {
    "duration": 15,
    "start_time": "2025-03-09T18:01:04.610Z"
   },
   {
    "duration": 49,
    "start_time": "2025-03-09T18:01:04.627Z"
   },
   {
    "duration": 4,
    "start_time": "2025-03-09T18:01:04.678Z"
   },
   {
    "duration": 46,
    "start_time": "2025-03-09T18:01:04.683Z"
   },
   {
    "duration": 1919,
    "start_time": "2025-03-09T18:01:04.731Z"
   },
   {
    "duration": 20,
    "start_time": "2025-03-09T18:01:06.652Z"
   },
   {
    "duration": 2026,
    "start_time": "2025-03-09T18:01:06.673Z"
   },
   {
    "duration": 23,
    "start_time": "2025-03-09T18:01:08.700Z"
   },
   {
    "duration": 8,
    "start_time": "2025-03-09T18:01:08.726Z"
   },
   {
    "duration": 29,
    "start_time": "2025-03-09T18:01:08.735Z"
   },
   {
    "duration": 149,
    "start_time": "2025-03-09T18:01:08.766Z"
   },
   {
    "duration": 318,
    "start_time": "2025-03-09T18:01:08.922Z"
   },
   {
    "duration": 411,
    "start_time": "2025-03-09T18:01:09.242Z"
   },
   {
    "duration": 185,
    "start_time": "2025-03-09T18:01:09.654Z"
   },
   {
    "duration": 281,
    "start_time": "2025-03-09T18:01:09.843Z"
   },
   {
    "duration": 313,
    "start_time": "2025-03-09T18:01:10.126Z"
   },
   {
    "duration": 5,
    "start_time": "2025-03-09T18:01:10.441Z"
   },
   {
    "duration": 13,
    "start_time": "2025-03-09T18:01:10.448Z"
   },
   {
    "duration": 48,
    "start_time": "2025-03-09T18:01:10.463Z"
   },
   {
    "duration": 23,
    "start_time": "2025-03-09T18:01:10.520Z"
   },
   {
    "duration": 95,
    "start_time": "2025-03-09T18:01:10.548Z"
   },
   {
    "duration": 3028,
    "start_time": "2025-03-09T18:01:10.644Z"
   },
   {
    "duration": 1681,
    "start_time": "2025-03-09T18:01:13.674Z"
   },
   {
    "duration": 11,
    "start_time": "2025-03-09T18:01:15.357Z"
   },
   {
    "duration": 62,
    "start_time": "2025-03-09T18:01:15.369Z"
   },
   {
    "duration": 47,
    "start_time": "2025-03-09T18:03:36.026Z"
   },
   {
    "duration": 44,
    "start_time": "2025-03-09T18:03:46.057Z"
   },
   {
    "duration": 12,
    "start_time": "2025-03-09T18:04:11.926Z"
   },
   {
    "duration": 9,
    "start_time": "2025-03-09T18:04:35.426Z"
   },
   {
    "duration": 2767,
    "start_time": "2025-03-09T18:04:44.426Z"
   },
   {
    "duration": 1699,
    "start_time": "2025-03-09T18:04:47.196Z"
   },
   {
    "duration": 7,
    "start_time": "2025-03-09T18:04:48.896Z"
   },
   {
    "duration": 1322,
    "start_time": "2025-03-09T18:04:48.906Z"
   },
   {
    "duration": 5,
    "start_time": "2025-03-09T18:04:50.230Z"
   },
   {
    "duration": 128,
    "start_time": "2025-03-09T18:04:50.236Z"
   },
   {
    "duration": 166,
    "start_time": "2025-03-09T18:04:50.365Z"
   },
   {
    "duration": 116,
    "start_time": "2025-03-09T18:04:50.532Z"
   },
   {
    "duration": 125,
    "start_time": "2025-03-09T18:04:50.649Z"
   },
   {
    "duration": 76,
    "start_time": "2025-03-09T18:04:50.775Z"
   },
   {
    "duration": 16,
    "start_time": "2025-03-09T18:04:50.852Z"
   },
   {
    "duration": 39,
    "start_time": "2025-03-09T18:04:50.869Z"
   },
   {
    "duration": 46,
    "start_time": "2025-03-09T18:04:50.911Z"
   },
   {
    "duration": 10,
    "start_time": "2025-03-09T18:04:50.960Z"
   },
   {
    "duration": 79,
    "start_time": "2025-03-09T18:04:50.971Z"
   },
   {
    "duration": 19,
    "start_time": "2025-03-09T18:04:51.052Z"
   },
   {
    "duration": 11,
    "start_time": "2025-03-09T18:04:51.073Z"
   },
   {
    "duration": 51,
    "start_time": "2025-03-09T18:04:51.085Z"
   },
   {
    "duration": 10,
    "start_time": "2025-03-09T18:04:51.138Z"
   },
   {
    "duration": 42,
    "start_time": "2025-03-09T18:04:51.150Z"
   },
   {
    "duration": 15,
    "start_time": "2025-03-09T18:04:51.194Z"
   },
   {
    "duration": 33,
    "start_time": "2025-03-09T18:04:51.211Z"
   },
   {
    "duration": 5,
    "start_time": "2025-03-09T18:04:51.246Z"
   },
   {
    "duration": 22,
    "start_time": "2025-03-09T18:04:51.253Z"
   },
   {
    "duration": 1922,
    "start_time": "2025-03-09T18:04:51.277Z"
   },
   {
    "duration": 27,
    "start_time": "2025-03-09T18:04:53.201Z"
   },
   {
    "duration": 1969,
    "start_time": "2025-03-09T18:04:53.230Z"
   },
   {
    "duration": 24,
    "start_time": "2025-03-09T18:04:55.203Z"
   },
   {
    "duration": 7,
    "start_time": "2025-03-09T18:04:55.229Z"
   },
   {
    "duration": 29,
    "start_time": "2025-03-09T18:04:55.237Z"
   },
   {
    "duration": 129,
    "start_time": "2025-03-09T18:04:55.269Z"
   },
   {
    "duration": 329,
    "start_time": "2025-03-09T18:04:55.405Z"
   },
   {
    "duration": 400,
    "start_time": "2025-03-09T18:04:55.735Z"
   },
   {
    "duration": 150,
    "start_time": "2025-03-09T18:04:56.137Z"
   },
   {
    "duration": 257,
    "start_time": "2025-03-09T18:04:56.289Z"
   },
   {
    "duration": 291,
    "start_time": "2025-03-09T18:04:56.548Z"
   },
   {
    "duration": 4,
    "start_time": "2025-03-09T18:04:56.841Z"
   },
   {
    "duration": 17,
    "start_time": "2025-03-09T18:04:56.846Z"
   },
   {
    "duration": 36,
    "start_time": "2025-03-09T18:04:56.864Z"
   },
   {
    "duration": 25,
    "start_time": "2025-03-09T18:04:56.902Z"
   },
   {
    "duration": 116,
    "start_time": "2025-03-09T18:04:56.930Z"
   },
   {
    "duration": 3006,
    "start_time": "2025-03-09T18:04:57.047Z"
   },
   {
    "duration": 1604,
    "start_time": "2025-03-09T18:05:00.056Z"
   },
   {
    "duration": 11,
    "start_time": "2025-03-09T18:05:01.662Z"
   },
   {
    "duration": 64,
    "start_time": "2025-03-09T18:05:01.674Z"
   },
   {
    "duration": 36,
    "start_time": "2025-03-09T18:05:56.013Z"
   },
   {
    "duration": 34,
    "start_time": "2025-03-09T18:07:13.303Z"
   },
   {
    "duration": 22,
    "start_time": "2025-03-09T18:07:18.456Z"
   },
   {
    "duration": 21,
    "start_time": "2025-03-09T18:09:21.724Z"
   },
   {
    "duration": 21,
    "start_time": "2025-03-09T18:13:42.234Z"
   },
   {
    "duration": 2646,
    "start_time": "2025-03-09T18:14:39.324Z"
   },
   {
    "duration": 1637,
    "start_time": "2025-03-09T18:14:41.972Z"
   },
   {
    "duration": 11,
    "start_time": "2025-03-09T18:14:43.612Z"
   },
   {
    "duration": 1301,
    "start_time": "2025-03-09T18:14:43.626Z"
   },
   {
    "duration": 5,
    "start_time": "2025-03-09T18:14:44.929Z"
   },
   {
    "duration": 121,
    "start_time": "2025-03-09T18:14:44.936Z"
   },
   {
    "duration": 143,
    "start_time": "2025-03-09T18:14:45.058Z"
   },
   {
    "duration": 117,
    "start_time": "2025-03-09T18:14:45.207Z"
   },
   {
    "duration": 117,
    "start_time": "2025-03-09T18:14:45.326Z"
   },
   {
    "duration": 73,
    "start_time": "2025-03-09T18:14:45.445Z"
   },
   {
    "duration": 15,
    "start_time": "2025-03-09T18:14:45.519Z"
   },
   {
    "duration": 14,
    "start_time": "2025-03-09T18:14:45.536Z"
   },
   {
    "duration": 75,
    "start_time": "2025-03-09T18:14:45.552Z"
   },
   {
    "duration": 9,
    "start_time": "2025-03-09T18:14:45.629Z"
   },
   {
    "duration": 35,
    "start_time": "2025-03-09T18:14:45.640Z"
   },
   {
    "duration": 58,
    "start_time": "2025-03-09T18:14:45.677Z"
   },
   {
    "duration": 18,
    "start_time": "2025-03-09T18:14:45.738Z"
   },
   {
    "duration": 8,
    "start_time": "2025-03-09T18:14:45.758Z"
   },
   {
    "duration": 67,
    "start_time": "2025-03-09T18:14:45.768Z"
   },
   {
    "duration": 9,
    "start_time": "2025-03-09T18:14:45.837Z"
   },
   {
    "duration": 37,
    "start_time": "2025-03-09T18:14:45.847Z"
   },
   {
    "duration": 30,
    "start_time": "2025-03-09T18:14:45.886Z"
   },
   {
    "duration": 53,
    "start_time": "2025-03-09T18:14:45.919Z"
   },
   {
    "duration": 3,
    "start_time": "2025-03-09T18:14:45.974Z"
   },
   {
    "duration": 59,
    "start_time": "2025-03-09T18:14:45.978Z"
   },
   {
    "duration": 1833,
    "start_time": "2025-03-09T18:14:46.039Z"
   },
   {
    "duration": 31,
    "start_time": "2025-03-09T18:14:47.873Z"
   },
   {
    "duration": 1897,
    "start_time": "2025-03-09T18:14:47.911Z"
   },
   {
    "duration": 19,
    "start_time": "2025-03-09T18:14:49.817Z"
   },
   {
    "duration": 8,
    "start_time": "2025-03-09T18:14:49.838Z"
   },
   {
    "duration": 20,
    "start_time": "2025-03-09T18:14:49.849Z"
   },
   {
    "duration": 124,
    "start_time": "2025-03-09T18:14:49.871Z"
   },
   {
    "duration": 287,
    "start_time": "2025-03-09T18:14:50.004Z"
   },
   {
    "duration": 342,
    "start_time": "2025-03-09T18:14:50.293Z"
   },
   {
    "duration": 139,
    "start_time": "2025-03-09T18:14:50.637Z"
   },
   {
    "duration": 260,
    "start_time": "2025-03-09T18:14:50.777Z"
   },
   {
    "duration": 296,
    "start_time": "2025-03-09T18:14:51.039Z"
   },
   {
    "duration": 4,
    "start_time": "2025-03-09T18:14:51.337Z"
   },
   {
    "duration": 58,
    "start_time": "2025-03-09T18:14:51.343Z"
   },
   {
    "duration": 45,
    "start_time": "2025-03-09T18:14:51.402Z"
   },
   {
    "duration": 16,
    "start_time": "2025-03-09T18:14:51.449Z"
   },
   {
    "duration": 104,
    "start_time": "2025-03-09T18:14:51.466Z"
   },
   {
    "duration": 2833,
    "start_time": "2025-03-09T18:14:51.572Z"
   },
   {
    "duration": 1504,
    "start_time": "2025-03-09T18:14:54.415Z"
   },
   {
    "duration": 11,
    "start_time": "2025-03-09T18:14:55.921Z"
   },
   {
    "duration": 26,
    "start_time": "2025-03-09T18:14:55.933Z"
   },
   {
    "duration": 2724,
    "start_time": "2025-03-09T18:18:06.632Z"
   },
   {
    "duration": 1619,
    "start_time": "2025-03-09T18:18:09.358Z"
   },
   {
    "duration": 3,
    "start_time": "2025-03-09T18:18:10.978Z"
   },
   {
    "duration": 1283,
    "start_time": "2025-03-09T18:18:10.982Z"
   },
   {
    "duration": 4,
    "start_time": "2025-03-09T18:18:12.267Z"
   },
   {
    "duration": 120,
    "start_time": "2025-03-09T18:18:12.273Z"
   },
   {
    "duration": 147,
    "start_time": "2025-03-09T18:18:12.395Z"
   },
   {
    "duration": 119,
    "start_time": "2025-03-09T18:18:12.543Z"
   },
   {
    "duration": 112,
    "start_time": "2025-03-09T18:18:12.663Z"
   },
   {
    "duration": 71,
    "start_time": "2025-03-09T18:18:12.778Z"
   },
   {
    "duration": 14,
    "start_time": "2025-03-09T18:18:12.851Z"
   },
   {
    "duration": 14,
    "start_time": "2025-03-09T18:18:12.867Z"
   },
   {
    "duration": 68,
    "start_time": "2025-03-09T18:18:12.882Z"
   },
   {
    "duration": 16,
    "start_time": "2025-03-09T18:18:12.952Z"
   },
   {
    "duration": 39,
    "start_time": "2025-03-09T18:18:12.971Z"
   },
   {
    "duration": 46,
    "start_time": "2025-03-09T18:18:13.012Z"
   },
   {
    "duration": 19,
    "start_time": "2025-03-09T18:18:13.060Z"
   },
   {
    "duration": 32,
    "start_time": "2025-03-09T18:18:13.080Z"
   },
   {
    "duration": 32,
    "start_time": "2025-03-09T18:18:13.115Z"
   },
   {
    "duration": 9,
    "start_time": "2025-03-09T18:18:13.149Z"
   },
   {
    "duration": 50,
    "start_time": "2025-03-09T18:18:13.160Z"
   },
   {
    "duration": 6,
    "start_time": "2025-03-09T18:18:13.213Z"
   },
   {
    "duration": 36,
    "start_time": "2025-03-09T18:18:13.220Z"
   },
   {
    "duration": 4,
    "start_time": "2025-03-09T18:18:13.258Z"
   },
   {
    "duration": 17,
    "start_time": "2025-03-09T18:18:13.264Z"
   },
   {
    "duration": 1823,
    "start_time": "2025-03-09T18:18:13.283Z"
   },
   {
    "duration": 27,
    "start_time": "2025-03-09T18:18:15.108Z"
   },
   {
    "duration": 1882,
    "start_time": "2025-03-09T18:18:15.138Z"
   },
   {
    "duration": 15,
    "start_time": "2025-03-09T18:18:17.023Z"
   },
   {
    "duration": 7,
    "start_time": "2025-03-09T18:18:17.040Z"
   },
   {
    "duration": 18,
    "start_time": "2025-03-09T18:18:17.048Z"
   },
   {
    "duration": 142,
    "start_time": "2025-03-09T18:18:17.067Z"
   },
   {
    "duration": 271,
    "start_time": "2025-03-09T18:18:17.212Z"
   },
   {
    "duration": 420,
    "start_time": "2025-03-09T18:18:17.485Z"
   },
   {
    "duration": 140,
    "start_time": "2025-03-09T18:18:17.913Z"
   },
   {
    "duration": 245,
    "start_time": "2025-03-09T18:18:18.054Z"
   },
   {
    "duration": 284,
    "start_time": "2025-03-09T18:18:18.305Z"
   },
   {
    "duration": 4,
    "start_time": "2025-03-09T18:18:18.590Z"
   },
   {
    "duration": 18,
    "start_time": "2025-03-09T18:18:18.596Z"
   },
   {
    "duration": 25,
    "start_time": "2025-03-09T18:18:18.617Z"
   },
   {
    "duration": 17,
    "start_time": "2025-03-09T18:18:18.644Z"
   },
   {
    "duration": 123,
    "start_time": "2025-03-09T18:18:18.662Z"
   },
   {
    "duration": 2881,
    "start_time": "2025-03-09T18:18:18.787Z"
   },
   {
    "duration": 1575,
    "start_time": "2025-03-09T18:18:21.670Z"
   },
   {
    "duration": 33,
    "start_time": "2025-03-09T18:19:13.188Z"
   },
   {
    "duration": 13,
    "start_time": "2025-03-09T18:21:40.583Z"
   },
   {
    "duration": 2653,
    "start_time": "2025-03-09T18:22:06.197Z"
   },
   {
    "duration": 1515,
    "start_time": "2025-03-09T18:22:08.853Z"
   },
   {
    "duration": 3,
    "start_time": "2025-03-09T18:22:10.369Z"
   },
   {
    "duration": 1278,
    "start_time": "2025-03-09T18:22:10.373Z"
   },
   {
    "duration": 5,
    "start_time": "2025-03-09T18:22:11.653Z"
   },
   {
    "duration": 123,
    "start_time": "2025-03-09T18:22:11.660Z"
   },
   {
    "duration": 148,
    "start_time": "2025-03-09T18:22:11.785Z"
   },
   {
    "duration": 107,
    "start_time": "2025-03-09T18:22:11.935Z"
   },
   {
    "duration": 110,
    "start_time": "2025-03-09T18:22:12.044Z"
   },
   {
    "duration": 69,
    "start_time": "2025-03-09T18:22:12.156Z"
   },
   {
    "duration": 15,
    "start_time": "2025-03-09T18:22:12.226Z"
   },
   {
    "duration": 12,
    "start_time": "2025-03-09T18:22:12.242Z"
   },
   {
    "duration": 73,
    "start_time": "2025-03-09T18:22:12.256Z"
   },
   {
    "duration": 12,
    "start_time": "2025-03-09T18:22:12.334Z"
   },
   {
    "duration": 22,
    "start_time": "2025-03-09T18:22:12.347Z"
   },
   {
    "duration": 66,
    "start_time": "2025-03-09T18:22:12.370Z"
   },
   {
    "duration": 20,
    "start_time": "2025-03-09T18:22:12.438Z"
   },
   {
    "duration": 10,
    "start_time": "2025-03-09T18:22:12.459Z"
   },
   {
    "duration": 74,
    "start_time": "2025-03-09T18:22:12.471Z"
   },
   {
    "duration": 10,
    "start_time": "2025-03-09T18:22:12.546Z"
   },
   {
    "duration": 25,
    "start_time": "2025-03-09T18:22:12.558Z"
   },
   {
    "duration": 4,
    "start_time": "2025-03-09T18:22:12.585Z"
   },
   {
    "duration": 37,
    "start_time": "2025-03-09T18:22:12.604Z"
   },
   {
    "duration": 4,
    "start_time": "2025-03-09T18:22:12.642Z"
   },
   {
    "duration": 58,
    "start_time": "2025-03-09T18:22:12.648Z"
   },
   {
    "duration": 21,
    "start_time": "2025-03-09T18:22:12.709Z"
   },
   {
    "duration": 1797,
    "start_time": "2025-03-09T18:22:12.732Z"
   },
   {
    "duration": 19,
    "start_time": "2025-03-09T18:22:14.530Z"
   },
   {
    "duration": 1826,
    "start_time": "2025-03-09T18:22:14.550Z"
   },
   {
    "duration": 32,
    "start_time": "2025-03-09T18:22:16.378Z"
   },
   {
    "duration": 13,
    "start_time": "2025-03-09T18:22:16.413Z"
   },
   {
    "duration": 31,
    "start_time": "2025-03-09T18:22:16.428Z"
   },
   {
    "duration": 129,
    "start_time": "2025-03-09T18:22:16.461Z"
   },
   {
    "duration": 262,
    "start_time": "2025-03-09T18:22:16.592Z"
   },
   {
    "duration": 321,
    "start_time": "2025-03-09T18:22:16.856Z"
   },
   {
    "duration": 145,
    "start_time": "2025-03-09T18:22:17.179Z"
   },
   {
    "duration": 239,
    "start_time": "2025-03-09T18:22:17.326Z"
   },
   {
    "duration": 297,
    "start_time": "2025-03-09T18:22:17.567Z"
   },
   {
    "duration": 4,
    "start_time": "2025-03-09T18:22:17.866Z"
   },
   {
    "duration": 12,
    "start_time": "2025-03-09T18:22:17.872Z"
   },
   {
    "duration": 31,
    "start_time": "2025-03-09T18:22:17.905Z"
   },
   {
    "duration": 17,
    "start_time": "2025-03-09T18:22:17.937Z"
   },
   {
    "duration": 99,
    "start_time": "2025-03-09T18:22:17.956Z"
   },
   {
    "duration": 2789,
    "start_time": "2025-03-09T18:22:18.057Z"
   },
   {
    "duration": 1515,
    "start_time": "2025-03-09T18:22:20.847Z"
   },
   {
    "duration": 24,
    "start_time": "2025-03-09T18:22:22.364Z"
   },
   {
    "duration": 29,
    "start_time": "2025-03-09T18:34:32.168Z"
   },
   {
    "duration": 23,
    "start_time": "2025-03-09T18:35:07.247Z"
   },
   {
    "duration": 58,
    "start_time": "2025-03-09T18:35:39.799Z"
   },
   {
    "duration": 4,
    "start_time": "2025-03-09T18:38:00.044Z"
   },
   {
    "duration": 16,
    "start_time": "2025-03-09T18:38:41.675Z"
   },
   {
    "duration": 4,
    "start_time": "2025-03-09T18:38:45.472Z"
   },
   {
    "duration": 3096,
    "start_time": "2025-03-09T18:39:00.536Z"
   },
   {
    "duration": 1837,
    "start_time": "2025-03-09T18:39:03.641Z"
   },
   {
    "duration": 3,
    "start_time": "2025-03-09T18:39:05.480Z"
   },
   {
    "duration": 1550,
    "start_time": "2025-03-09T18:39:05.485Z"
   },
   {
    "duration": 6,
    "start_time": "2025-03-09T18:39:07.044Z"
   },
   {
    "duration": 126,
    "start_time": "2025-03-09T18:39:07.052Z"
   },
   {
    "duration": 185,
    "start_time": "2025-03-09T18:39:07.179Z"
   },
   {
    "duration": 129,
    "start_time": "2025-03-09T18:39:07.366Z"
   },
   {
    "duration": 146,
    "start_time": "2025-03-09T18:39:07.497Z"
   },
   {
    "duration": 85,
    "start_time": "2025-03-09T18:39:07.648Z"
   },
   {
    "duration": 21,
    "start_time": "2025-03-09T18:39:07.736Z"
   },
   {
    "duration": 12,
    "start_time": "2025-03-09T18:39:07.759Z"
   },
   {
    "duration": 80,
    "start_time": "2025-03-09T18:39:07.772Z"
   },
   {
    "duration": 10,
    "start_time": "2025-03-09T18:39:07.854Z"
   },
   {
    "duration": 22,
    "start_time": "2025-03-09T18:39:07.865Z"
   },
   {
    "duration": 86,
    "start_time": "2025-03-09T18:39:07.889Z"
   },
   {
    "duration": 31,
    "start_time": "2025-03-09T18:39:07.978Z"
   },
   {
    "duration": 24,
    "start_time": "2025-03-09T18:39:08.011Z"
   },
   {
    "duration": 37,
    "start_time": "2025-03-09T18:39:08.041Z"
   },
   {
    "duration": 10,
    "start_time": "2025-03-09T18:39:08.079Z"
   },
   {
    "duration": 69,
    "start_time": "2025-03-09T18:39:08.090Z"
   },
   {
    "duration": 4,
    "start_time": "2025-03-09T18:39:08.161Z"
   },
   {
    "duration": 105,
    "start_time": "2025-03-09T18:39:08.167Z"
   },
   {
    "duration": 4,
    "start_time": "2025-03-09T18:39:08.274Z"
   },
   {
    "duration": 69,
    "start_time": "2025-03-09T18:39:08.280Z"
   },
   {
    "duration": 31,
    "start_time": "2025-03-09T18:39:08.352Z"
   },
   {
    "duration": 41,
    "start_time": "2025-03-09T18:39:08.385Z"
   },
   {
    "duration": 5,
    "start_time": "2025-03-09T18:39:08.432Z"
   },
   {
    "duration": 33,
    "start_time": "2025-03-09T18:39:08.440Z"
   },
   {
    "duration": 2320,
    "start_time": "2025-03-09T18:39:08.474Z"
   },
   {
    "duration": 41,
    "start_time": "2025-03-09T18:39:10.796Z"
   },
   {
    "duration": 2526,
    "start_time": "2025-03-09T18:39:10.839Z"
   },
   {
    "duration": 15,
    "start_time": "2025-03-09T18:39:13.366Z"
   },
   {
    "duration": 42,
    "start_time": "2025-03-09T18:39:13.383Z"
   },
   {
    "duration": 59,
    "start_time": "2025-03-09T18:39:13.428Z"
   },
   {
    "duration": 158,
    "start_time": "2025-03-09T18:39:13.489Z"
   },
   {
    "duration": 382,
    "start_time": "2025-03-09T18:39:13.649Z"
   },
   {
    "duration": 418,
    "start_time": "2025-03-09T18:39:14.035Z"
   },
   {
    "duration": 183,
    "start_time": "2025-03-09T18:39:14.456Z"
   },
   {
    "duration": 306,
    "start_time": "2025-03-09T18:39:14.641Z"
   },
   {
    "duration": 345,
    "start_time": "2025-03-09T18:39:14.949Z"
   },
   {
    "duration": 20,
    "start_time": "2025-03-09T18:39:15.296Z"
   },
   {
    "duration": 35,
    "start_time": "2025-03-09T18:39:15.326Z"
   },
   {
    "duration": 88,
    "start_time": "2025-03-09T18:39:15.363Z"
   },
   {
    "duration": 16,
    "start_time": "2025-03-09T18:39:15.453Z"
   },
   {
    "duration": 112,
    "start_time": "2025-03-09T18:39:15.471Z"
   },
   {
    "duration": 3336,
    "start_time": "2025-03-09T18:39:15.585Z"
   },
   {
    "duration": 1819,
    "start_time": "2025-03-09T18:39:18.923Z"
   },
   {
    "duration": 32,
    "start_time": "2025-03-09T18:39:20.749Z"
   },
   {
    "duration": 5,
    "start_time": "2025-03-09T18:40:06.253Z"
   },
   {
    "duration": 16,
    "start_time": "2025-03-09T18:40:08.719Z"
   },
   {
    "duration": 2994,
    "start_time": "2025-03-09T18:40:34.646Z"
   },
   {
    "duration": 1808,
    "start_time": "2025-03-09T18:40:37.643Z"
   },
   {
    "duration": 3,
    "start_time": "2025-03-09T18:40:39.454Z"
   },
   {
    "duration": 1629,
    "start_time": "2025-03-09T18:40:39.459Z"
   },
   {
    "duration": 4,
    "start_time": "2025-03-09T18:40:41.090Z"
   },
   {
    "duration": 139,
    "start_time": "2025-03-09T18:40:41.115Z"
   },
   {
    "duration": 173,
    "start_time": "2025-03-09T18:40:41.257Z"
   },
   {
    "duration": 147,
    "start_time": "2025-03-09T18:40:41.432Z"
   },
   {
    "duration": 137,
    "start_time": "2025-03-09T18:40:41.581Z"
   },
   {
    "duration": 75,
    "start_time": "2025-03-09T18:40:41.728Z"
   },
   {
    "duration": 25,
    "start_time": "2025-03-09T18:40:41.805Z"
   },
   {
    "duration": 19,
    "start_time": "2025-03-09T18:40:41.833Z"
   },
   {
    "duration": 73,
    "start_time": "2025-03-09T18:40:41.854Z"
   },
   {
    "duration": 17,
    "start_time": "2025-03-09T18:40:41.943Z"
   },
   {
    "duration": 23,
    "start_time": "2025-03-09T18:40:41.961Z"
   },
   {
    "duration": 68,
    "start_time": "2025-03-09T18:40:41.985Z"
   },
   {
    "duration": 19,
    "start_time": "2025-03-09T18:40:42.054Z"
   },
   {
    "duration": 12,
    "start_time": "2025-03-09T18:40:42.075Z"
   },
   {
    "duration": 83,
    "start_time": "2025-03-09T18:40:42.088Z"
   },
   {
    "duration": 8,
    "start_time": "2025-03-09T18:40:42.173Z"
   },
   {
    "duration": 64,
    "start_time": "2025-03-09T18:40:42.182Z"
   },
   {
    "duration": 19,
    "start_time": "2025-03-09T18:40:42.248Z"
   },
   {
    "duration": 33,
    "start_time": "2025-03-09T18:40:42.269Z"
   },
   {
    "duration": 6,
    "start_time": "2025-03-09T18:40:42.306Z"
   },
   {
    "duration": 51,
    "start_time": "2025-03-09T18:40:42.327Z"
   },
   {
    "duration": 22,
    "start_time": "2025-03-09T18:40:42.381Z"
   },
   {
    "duration": 57,
    "start_time": "2025-03-09T18:40:42.408Z"
   },
   {
    "duration": 4,
    "start_time": "2025-03-09T18:40:42.467Z"
   },
   {
    "duration": 26,
    "start_time": "2025-03-09T18:40:42.472Z"
   },
   {
    "duration": 2274,
    "start_time": "2025-03-09T18:40:42.500Z"
   },
   {
    "duration": 19,
    "start_time": "2025-03-09T18:40:44.776Z"
   },
   {
    "duration": 2318,
    "start_time": "2025-03-09T18:40:44.815Z"
   },
   {
    "duration": 19,
    "start_time": "2025-03-09T18:40:47.141Z"
   },
   {
    "duration": 10,
    "start_time": "2025-03-09T18:40:47.162Z"
   },
   {
    "duration": 31,
    "start_time": "2025-03-09T18:40:47.173Z"
   },
   {
    "duration": 154,
    "start_time": "2025-03-09T18:40:47.205Z"
   },
   {
    "duration": 358,
    "start_time": "2025-03-09T18:40:47.361Z"
   },
   {
    "duration": 443,
    "start_time": "2025-03-09T18:40:47.720Z"
   },
   {
    "duration": 190,
    "start_time": "2025-03-09T18:40:48.164Z"
   },
   {
    "duration": 309,
    "start_time": "2025-03-09T18:40:48.357Z"
   },
   {
    "duration": 352,
    "start_time": "2025-03-09T18:40:48.671Z"
   },
   {
    "duration": 12,
    "start_time": "2025-03-09T18:40:49.030Z"
   },
   {
    "duration": 14,
    "start_time": "2025-03-09T18:40:49.044Z"
   },
   {
    "duration": 24,
    "start_time": "2025-03-09T18:40:49.059Z"
   },
   {
    "duration": 16,
    "start_time": "2025-03-09T18:40:49.084Z"
   },
   {
    "duration": 112,
    "start_time": "2025-03-09T18:40:49.101Z"
   },
   {
    "duration": 3333,
    "start_time": "2025-03-09T18:40:49.229Z"
   },
   {
    "duration": 1830,
    "start_time": "2025-03-09T18:40:52.564Z"
   },
   {
    "duration": 59,
    "start_time": "2025-03-09T18:40:54.396Z"
   },
   {
    "duration": 31,
    "start_time": "2025-03-09T18:42:57.044Z"
   },
   {
    "duration": 4,
    "start_time": "2025-03-09T19:16:40.945Z"
   },
   {
    "duration": 14,
    "start_time": "2025-03-09T19:19:12.725Z"
   },
   {
    "duration": 127,
    "start_time": "2025-03-09T19:19:15.761Z"
   },
   {
    "duration": 1117,
    "start_time": "2025-03-09T19:26:09.772Z"
   },
   {
    "duration": 657,
    "start_time": "2025-03-09T19:36:24.803Z"
   },
   {
    "duration": 143,
    "start_time": "2025-03-09T19:42:37.874Z"
   },
   {
    "duration": 14,
    "start_time": "2025-03-09T19:42:42.441Z"
   },
   {
    "duration": 18982,
    "start_time": "2025-03-09T19:43:22.118Z"
   },
   {
    "duration": 20,
    "start_time": "2025-03-09T19:58:31.569Z"
   },
   {
    "duration": 683,
    "start_time": "2025-03-09T20:01:56.098Z"
   },
   {
    "duration": 618,
    "start_time": "2025-03-09T20:02:00.418Z"
   },
   {
    "duration": 3537,
    "start_time": "2025-03-10T16:47:05.264Z"
   },
   {
    "duration": 1710,
    "start_time": "2025-03-10T16:47:08.803Z"
   },
   {
    "duration": 2,
    "start_time": "2025-03-10T16:47:10.515Z"
   },
   {
    "duration": 1858,
    "start_time": "2025-03-10T16:47:10.519Z"
   },
   {
    "duration": 4,
    "start_time": "2025-03-10T16:47:12.379Z"
   },
   {
    "duration": 211,
    "start_time": "2025-03-10T16:47:12.384Z"
   },
   {
    "duration": 283,
    "start_time": "2025-03-10T16:47:12.596Z"
   },
   {
    "duration": 125,
    "start_time": "2025-03-10T16:47:12.880Z"
   },
   {
    "duration": 119,
    "start_time": "2025-03-10T16:47:13.007Z"
   },
   {
    "duration": 131,
    "start_time": "2025-03-10T16:47:13.127Z"
   },
   {
    "duration": 15,
    "start_time": "2025-03-10T16:47:13.259Z"
   },
   {
    "duration": 12,
    "start_time": "2025-03-10T16:47:13.276Z"
   },
   {
    "duration": 89,
    "start_time": "2025-03-10T16:47:13.289Z"
   },
   {
    "duration": 10,
    "start_time": "2025-03-10T16:47:13.381Z"
   },
   {
    "duration": 118,
    "start_time": "2025-03-10T16:47:13.392Z"
   },
   {
    "duration": 77,
    "start_time": "2025-03-10T16:47:13.512Z"
   },
   {
    "duration": 19,
    "start_time": "2025-03-10T16:47:13.591Z"
   },
   {
    "duration": 50,
    "start_time": "2025-03-10T16:47:13.611Z"
   },
   {
    "duration": 127,
    "start_time": "2025-03-10T16:47:13.662Z"
   },
   {
    "duration": 189,
    "start_time": "2025-03-10T16:47:13.790Z"
   },
   {
    "duration": 20,
    "start_time": "2025-03-10T16:47:13.980Z"
   },
   {
    "duration": 4,
    "start_time": "2025-03-10T16:47:14.001Z"
   },
   {
    "duration": 47,
    "start_time": "2025-03-10T16:47:14.006Z"
   },
   {
    "duration": 4,
    "start_time": "2025-03-10T16:47:14.056Z"
   },
   {
    "duration": 31,
    "start_time": "2025-03-10T16:47:14.063Z"
   },
   {
    "duration": 21,
    "start_time": "2025-03-10T16:47:14.095Z"
   },
   {
    "duration": 36,
    "start_time": "2025-03-10T16:47:14.118Z"
   },
   {
    "duration": 4,
    "start_time": "2025-03-10T16:47:14.156Z"
   },
   {
    "duration": 97,
    "start_time": "2025-03-10T16:47:14.161Z"
   },
   {
    "duration": 2834,
    "start_time": "2025-03-10T16:47:14.260Z"
   },
   {
    "duration": 76,
    "start_time": "2025-03-10T16:47:17.095Z"
   },
   {
    "duration": 2612,
    "start_time": "2025-03-10T16:47:17.172Z"
   },
   {
    "duration": 15,
    "start_time": "2025-03-10T16:47:19.785Z"
   },
   {
    "duration": 194,
    "start_time": "2025-03-10T16:47:19.802Z"
   },
   {
    "duration": 19,
    "start_time": "2025-03-10T16:47:19.997Z"
   },
   {
    "duration": 114,
    "start_time": "2025-03-10T16:47:20.018Z"
   },
   {
    "duration": 262,
    "start_time": "2025-03-10T16:47:20.134Z"
   },
   {
    "duration": 374,
    "start_time": "2025-03-10T16:47:20.398Z"
   },
   {
    "duration": 130,
    "start_time": "2025-03-10T16:47:20.773Z"
   },
   {
    "duration": 355,
    "start_time": "2025-03-10T16:47:20.905Z"
   },
   {
    "duration": 448,
    "start_time": "2025-03-10T16:47:21.263Z"
   },
   {
    "duration": 4,
    "start_time": "2025-03-10T16:47:21.712Z"
   },
   {
    "duration": 163,
    "start_time": "2025-03-10T16:47:21.718Z"
   },
   {
    "duration": 129,
    "start_time": "2025-03-10T16:47:21.883Z"
   },
   {
    "duration": 18,
    "start_time": "2025-03-10T16:47:22.014Z"
   },
   {
    "duration": 106,
    "start_time": "2025-03-10T16:47:22.033Z"
   },
   {
    "duration": 2436,
    "start_time": "2025-03-10T16:47:22.141Z"
   },
   {
    "duration": 1347,
    "start_time": "2025-03-10T16:47:24.579Z"
   },
   {
    "duration": 16094,
    "start_time": "2025-03-10T16:47:25.928Z"
   },
   {
    "duration": 91,
    "start_time": "2025-03-10T16:47:42.023Z"
   },
   {
    "duration": 545,
    "start_time": "2025-03-10T16:47:42.115Z"
   },
   {
    "duration": 124,
    "start_time": "2025-03-10T16:47:42.662Z"
   },
   {
    "duration": 0,
    "start_time": "2025-03-10T16:47:42.787Z"
   },
   {
    "duration": 0,
    "start_time": "2025-03-10T16:47:42.788Z"
   },
   {
    "duration": 0,
    "start_time": "2025-03-10T16:47:42.789Z"
   },
   {
    "duration": 36,
    "start_time": "2025-03-10T16:55:22.421Z"
   },
   {
    "duration": 19,
    "start_time": "2025-03-10T16:57:32.246Z"
   },
   {
    "duration": 167,
    "start_time": "2025-03-10T16:58:54.779Z"
   },
   {
    "duration": 184,
    "start_time": "2025-03-10T16:59:21.323Z"
   },
   {
    "duration": 13,
    "start_time": "2025-03-10T16:59:35.399Z"
   },
   {
    "duration": 1319,
    "start_time": "2025-03-10T17:00:42.943Z"
   },
   {
    "duration": 6683,
    "start_time": "2025-03-10T17:01:25.390Z"
   },
   {
    "duration": 13631,
    "start_time": "2025-03-10T17:02:24.410Z"
   },
   {
    "duration": 6591,
    "start_time": "2025-03-10T17:05:30.369Z"
   },
   {
    "duration": 6714,
    "start_time": "2025-03-10T17:07:44.564Z"
   },
   {
    "duration": 28,
    "start_time": "2025-03-10T17:08:26.434Z"
   },
   {
    "duration": 4,
    "start_time": "2025-03-10T17:08:38.283Z"
   },
   {
    "duration": 49,
    "start_time": "2025-03-10T17:11:07.112Z"
   },
   {
    "duration": 72,
    "start_time": "2025-03-10T17:11:36.910Z"
   },
   {
    "duration": 3,
    "start_time": "2025-03-10T17:15:47.884Z"
   },
   {
    "duration": 14,
    "start_time": "2025-03-10T17:15:49.805Z"
   },
   {
    "duration": 16,
    "start_time": "2025-03-10T17:15:53.779Z"
   },
   {
    "duration": 6,
    "start_time": "2025-03-10T17:16:41.396Z"
   },
   {
    "duration": 9443,
    "start_time": "2025-03-10T17:17:11.161Z"
   },
   {
    "duration": 16,
    "start_time": "2025-03-10T17:18:13.957Z"
   },
   {
    "duration": 4,
    "start_time": "2025-03-10T17:18:32.428Z"
   },
   {
    "duration": 81,
    "start_time": "2025-03-10T17:18:34.557Z"
   },
   {
    "duration": 3,
    "start_time": "2025-03-10T17:18:35.208Z"
   },
   {
    "duration": 12,
    "start_time": "2025-03-10T17:18:36.850Z"
   },
   {
    "duration": 29811,
    "start_time": "2025-03-10T17:18:39.369Z"
   },
   {
    "duration": 18,
    "start_time": "2025-03-10T17:19:43.758Z"
   },
   {
    "duration": 3,
    "start_time": "2025-03-10T17:21:15.221Z"
   },
   {
    "duration": 11,
    "start_time": "2025-03-10T17:21:17.943Z"
   },
   {
    "duration": 31001,
    "start_time": "2025-03-10T17:21:20.686Z"
   },
   {
    "duration": 8921,
    "start_time": "2025-03-10T17:22:09.269Z"
   },
   {
    "duration": 4761,
    "start_time": "2025-03-10T17:22:24.432Z"
   },
   {
    "duration": 6,
    "start_time": "2025-03-10T17:22:30.693Z"
   },
   {
    "duration": 75,
    "start_time": "2025-03-10T17:22:39.404Z"
   },
   {
    "duration": 3,
    "start_time": "2025-03-10T17:22:40.087Z"
   },
   {
    "duration": 11,
    "start_time": "2025-03-10T17:22:40.743Z"
   },
   {
    "duration": 30729,
    "start_time": "2025-03-10T17:22:41.980Z"
   },
   {
    "duration": 59,
    "start_time": "2025-03-10T17:25:57.539Z"
   },
   {
    "duration": 50,
    "start_time": "2025-03-10T17:26:13.363Z"
   },
   {
    "duration": 72,
    "start_time": "2025-03-10T17:27:08.606Z"
   },
   {
    "duration": 54,
    "start_time": "2025-03-10T17:27:20.425Z"
   },
   {
    "duration": 31646,
    "start_time": "2025-03-10T17:27:47.841Z"
   },
   {
    "duration": 31929,
    "start_time": "2025-03-10T17:28:42.733Z"
   },
   {
    "duration": 90593,
    "start_time": "2025-03-10T17:29:47.985Z"
   },
   {
    "duration": 434397,
    "start_time": "2025-03-10T17:31:29.759Z"
   },
   {
    "duration": 215274,
    "start_time": "2025-03-10T17:38:54.916Z"
   },
   {
    "duration": 30229,
    "start_time": "2025-03-10T17:44:29.701Z"
   },
   {
    "duration": 49,
    "start_time": "2025-03-10T17:47:13.124Z"
   },
   {
    "duration": 35444,
    "start_time": "2025-03-10T17:48:11.318Z"
   },
   {
    "duration": 163085,
    "start_time": "2025-03-10T17:48:59.096Z"
   },
   {
    "duration": 18,
    "start_time": "2025-03-10T17:52:47.052Z"
   },
   {
    "duration": 20,
    "start_time": "2025-03-10T17:53:09.883Z"
   },
   {
    "duration": 16,
    "start_time": "2025-03-10T17:53:23.538Z"
   },
   {
    "duration": 24,
    "start_time": "2025-03-10T17:53:44.455Z"
   },
   {
    "duration": 19,
    "start_time": "2025-03-10T17:54:00.409Z"
   },
   {
    "duration": 43,
    "start_time": "2025-03-10T17:55:48.910Z"
   },
   {
    "duration": 148535,
    "start_time": "2025-03-10T17:56:29.252Z"
   },
   {
    "duration": 4441,
    "start_time": "2025-03-10T18:05:43.191Z"
   },
   {
    "duration": 1418,
    "start_time": "2025-03-10T18:05:47.634Z"
   },
   {
    "duration": 3,
    "start_time": "2025-03-10T18:05:49.053Z"
   },
   {
    "duration": 1131,
    "start_time": "2025-03-10T18:05:49.058Z"
   },
   {
    "duration": 4,
    "start_time": "2025-03-10T18:05:50.191Z"
   },
   {
    "duration": 126,
    "start_time": "2025-03-10T18:05:50.196Z"
   },
   {
    "duration": 134,
    "start_time": "2025-03-10T18:05:50.323Z"
   },
   {
    "duration": 89,
    "start_time": "2025-03-10T18:05:50.458Z"
   },
   {
    "duration": 86,
    "start_time": "2025-03-10T18:05:50.556Z"
   },
   {
    "duration": 62,
    "start_time": "2025-03-10T18:05:50.644Z"
   },
   {
    "duration": 15,
    "start_time": "2025-03-10T18:05:50.708Z"
   },
   {
    "duration": 23,
    "start_time": "2025-03-10T18:05:50.724Z"
   },
   {
    "duration": 40,
    "start_time": "2025-03-10T18:05:50.757Z"
   },
   {
    "duration": 9,
    "start_time": "2025-03-10T18:05:50.799Z"
   },
   {
    "duration": 30,
    "start_time": "2025-03-10T18:05:50.809Z"
   },
   {
    "duration": 95,
    "start_time": "2025-03-10T18:05:50.840Z"
   },
   {
    "duration": 17,
    "start_time": "2025-03-10T18:05:50.937Z"
   },
   {
    "duration": 9,
    "start_time": "2025-03-10T18:05:50.956Z"
   },
   {
    "duration": 31,
    "start_time": "2025-03-10T18:05:50.966Z"
   },
   {
    "duration": 8,
    "start_time": "2025-03-10T18:05:50.998Z"
   },
   {
    "duration": 32,
    "start_time": "2025-03-10T18:05:51.007Z"
   },
   {
    "duration": 10,
    "start_time": "2025-03-10T18:05:51.041Z"
   },
   {
    "duration": 51,
    "start_time": "2025-03-10T18:05:51.052Z"
   },
   {
    "duration": 3,
    "start_time": "2025-03-10T18:05:51.104Z"
   },
   {
    "duration": 50,
    "start_time": "2025-03-10T18:05:51.109Z"
   },
   {
    "duration": 20,
    "start_time": "2025-03-10T18:05:51.160Z"
   },
   {
    "duration": 35,
    "start_time": "2025-03-10T18:05:51.181Z"
   },
   {
    "duration": 4,
    "start_time": "2025-03-10T18:05:51.219Z"
   },
   {
    "duration": 33,
    "start_time": "2025-03-10T18:05:51.224Z"
   },
   {
    "duration": 1503,
    "start_time": "2025-03-10T18:05:51.259Z"
   },
   {
    "duration": 18,
    "start_time": "2025-03-10T18:05:52.763Z"
   },
   {
    "duration": 1563,
    "start_time": "2025-03-10T18:05:52.783Z"
   },
   {
    "duration": 18,
    "start_time": "2025-03-10T18:05:54.348Z"
   },
   {
    "duration": 40,
    "start_time": "2025-03-10T18:05:54.367Z"
   },
   {
    "duration": 18,
    "start_time": "2025-03-10T18:05:54.408Z"
   },
   {
    "duration": 89,
    "start_time": "2025-03-10T18:05:54.427Z"
   },
   {
    "duration": 227,
    "start_time": "2025-03-10T18:05:54.517Z"
   },
   {
    "duration": 288,
    "start_time": "2025-03-10T18:05:54.746Z"
   },
   {
    "duration": 125,
    "start_time": "2025-03-10T18:05:55.036Z"
   },
   {
    "duration": 35,
    "start_time": "2025-03-10T18:05:55.162Z"
   },
   {
    "duration": 216,
    "start_time": "2025-03-10T18:05:55.198Z"
   },
   {
    "duration": 240,
    "start_time": "2025-03-10T18:05:55.416Z"
   },
   {
    "duration": 4,
    "start_time": "2025-03-10T18:05:55.658Z"
   },
   {
    "duration": 110,
    "start_time": "2025-03-10T18:05:55.663Z"
   },
   {
    "duration": 81,
    "start_time": "2025-03-10T18:05:55.774Z"
   },
   {
    "duration": 30,
    "start_time": "2025-03-10T18:05:55.856Z"
   },
   {
    "duration": 200,
    "start_time": "2025-03-10T18:05:55.887Z"
   },
   {
    "duration": 220,
    "start_time": "2025-03-10T18:05:56.088Z"
   },
   {
    "duration": 13,
    "start_time": "2025-03-10T18:05:56.309Z"
   },
   {
    "duration": 126,
    "start_time": "2025-03-10T18:05:56.323Z"
   },
   {
    "duration": 1339,
    "start_time": "2025-03-10T18:05:56.451Z"
   },
   {
    "duration": 1286,
    "start_time": "2025-03-10T18:05:57.792Z"
   },
   {
    "duration": 6806,
    "start_time": "2025-03-10T18:05:59.080Z"
   },
   {
    "duration": 51,
    "start_time": "2025-03-10T18:06:05.887Z"
   },
   {
    "duration": 77,
    "start_time": "2025-03-10T18:06:05.940Z"
   },
   {
    "duration": 99,
    "start_time": "2025-03-10T18:06:06.018Z"
   },
   {
    "duration": 2,
    "start_time": "2025-03-10T18:06:06.119Z"
   },
   {
    "duration": 81,
    "start_time": "2025-03-10T18:06:06.123Z"
   },
   {
    "duration": 28820,
    "start_time": "2025-03-10T18:06:06.206Z"
   },
   {
    "duration": 117,
    "start_time": "2025-03-10T18:06:35.027Z"
   },
   {
    "duration": 0,
    "start_time": "2025-03-10T18:06:35.145Z"
   },
   {
    "duration": 0,
    "start_time": "2025-03-10T18:06:35.146Z"
   },
   {
    "duration": 0,
    "start_time": "2025-03-10T18:06:35.148Z"
   },
   {
    "duration": 0,
    "start_time": "2025-03-10T18:06:35.156Z"
   },
   {
    "duration": 1,
    "start_time": "2025-03-10T18:06:35.157Z"
   },
   {
    "duration": 0,
    "start_time": "2025-03-10T18:06:35.159Z"
   },
   {
    "duration": 4572,
    "start_time": "2025-03-10T18:10:28.704Z"
   },
   {
    "duration": 1384,
    "start_time": "2025-03-10T18:10:33.278Z"
   },
   {
    "duration": 2,
    "start_time": "2025-03-10T18:10:34.664Z"
   },
   {
    "duration": 1200,
    "start_time": "2025-03-10T18:10:34.668Z"
   },
   {
    "duration": 5,
    "start_time": "2025-03-10T18:10:35.869Z"
   },
   {
    "duration": 135,
    "start_time": "2025-03-10T18:10:35.875Z"
   },
   {
    "duration": 141,
    "start_time": "2025-03-10T18:10:36.011Z"
   },
   {
    "duration": 101,
    "start_time": "2025-03-10T18:10:36.156Z"
   },
   {
    "duration": 112,
    "start_time": "2025-03-10T18:10:36.259Z"
   },
   {
    "duration": 94,
    "start_time": "2025-03-10T18:10:36.374Z"
   },
   {
    "duration": 15,
    "start_time": "2025-03-10T18:10:36.469Z"
   },
   {
    "duration": 65,
    "start_time": "2025-03-10T18:10:36.486Z"
   },
   {
    "duration": 79,
    "start_time": "2025-03-10T18:10:36.552Z"
   },
   {
    "duration": 9,
    "start_time": "2025-03-10T18:10:36.632Z"
   },
   {
    "duration": 81,
    "start_time": "2025-03-10T18:10:36.642Z"
   },
   {
    "duration": 69,
    "start_time": "2025-03-10T18:10:36.724Z"
   },
   {
    "duration": 18,
    "start_time": "2025-03-10T18:10:36.795Z"
   },
   {
    "duration": 22,
    "start_time": "2025-03-10T18:10:36.814Z"
   },
   {
    "duration": 89,
    "start_time": "2025-03-10T18:10:36.837Z"
   },
   {
    "duration": 80,
    "start_time": "2025-03-10T18:10:36.928Z"
   },
   {
    "duration": 20,
    "start_time": "2025-03-10T18:10:37.009Z"
   },
   {
    "duration": 4,
    "start_time": "2025-03-10T18:10:37.030Z"
   },
   {
    "duration": 49,
    "start_time": "2025-03-10T18:10:37.035Z"
   },
   {
    "duration": 4,
    "start_time": "2025-03-10T18:10:37.085Z"
   },
   {
    "duration": 42,
    "start_time": "2025-03-10T18:10:37.090Z"
   },
   {
    "duration": 22,
    "start_time": "2025-03-10T18:10:37.134Z"
   },
   {
    "duration": 40,
    "start_time": "2025-03-10T18:10:37.158Z"
   },
   {
    "duration": 4,
    "start_time": "2025-03-10T18:10:37.201Z"
   },
   {
    "duration": 31,
    "start_time": "2025-03-10T18:10:37.207Z"
   },
   {
    "duration": 1586,
    "start_time": "2025-03-10T18:10:37.240Z"
   },
   {
    "duration": 20,
    "start_time": "2025-03-10T18:10:38.828Z"
   },
   {
    "duration": 1708,
    "start_time": "2025-03-10T18:10:38.857Z"
   },
   {
    "duration": 15,
    "start_time": "2025-03-10T18:10:40.566Z"
   },
   {
    "duration": 16,
    "start_time": "2025-03-10T18:10:40.583Z"
   },
   {
    "duration": 58,
    "start_time": "2025-03-10T18:10:40.600Z"
   },
   {
    "duration": 99,
    "start_time": "2025-03-10T18:10:40.660Z"
   },
   {
    "duration": 250,
    "start_time": "2025-03-10T18:10:40.760Z"
   },
   {
    "duration": 296,
    "start_time": "2025-03-10T18:10:41.012Z"
   },
   {
    "duration": 128,
    "start_time": "2025-03-10T18:10:41.309Z"
   },
   {
    "duration": 42,
    "start_time": "2025-03-10T18:10:41.439Z"
   },
   {
    "duration": 225,
    "start_time": "2025-03-10T18:10:41.483Z"
   },
   {
    "duration": 255,
    "start_time": "2025-03-10T18:10:41.709Z"
   },
   {
    "duration": 4,
    "start_time": "2025-03-10T18:10:41.966Z"
   },
   {
    "duration": 50,
    "start_time": "2025-03-10T18:10:41.971Z"
   },
   {
    "duration": 23,
    "start_time": "2025-03-10T18:10:42.023Z"
   },
   {
    "duration": 30,
    "start_time": "2025-03-10T18:10:42.048Z"
   },
   {
    "duration": 177,
    "start_time": "2025-03-10T18:10:42.080Z"
   },
   {
    "duration": 217,
    "start_time": "2025-03-10T18:10:42.258Z"
   },
   {
    "duration": 14,
    "start_time": "2025-03-10T18:10:42.477Z"
   },
   {
    "duration": 98,
    "start_time": "2025-03-10T18:10:42.493Z"
   },
   {
    "duration": 1420,
    "start_time": "2025-03-10T18:10:42.593Z"
   },
   {
    "duration": 1293,
    "start_time": "2025-03-10T18:10:44.015Z"
   },
   {
    "duration": 6859,
    "start_time": "2025-03-10T18:10:45.310Z"
   },
   {
    "duration": 53,
    "start_time": "2025-03-10T18:10:52.170Z"
   },
   {
    "duration": 37,
    "start_time": "2025-03-10T18:10:52.225Z"
   },
   {
    "duration": 72,
    "start_time": "2025-03-10T18:10:52.263Z"
   },
   {
    "duration": 3,
    "start_time": "2025-03-10T18:10:52.337Z"
   },
   {
    "duration": 68,
    "start_time": "2025-03-10T18:10:52.357Z"
   },
   {
    "duration": 29939,
    "start_time": "2025-03-10T18:10:52.427Z"
   },
   {
    "duration": 4619,
    "start_time": "2025-03-10T18:14:03.825Z"
   },
   {
    "duration": 1410,
    "start_time": "2025-03-10T18:14:08.446Z"
   },
   {
    "duration": 2,
    "start_time": "2025-03-10T18:14:09.858Z"
   },
   {
    "duration": 1156,
    "start_time": "2025-03-10T18:14:09.862Z"
   },
   {
    "duration": 4,
    "start_time": "2025-03-10T18:14:11.021Z"
   },
   {
    "duration": 107,
    "start_time": "2025-03-10T18:14:11.026Z"
   },
   {
    "duration": 135,
    "start_time": "2025-03-10T18:14:11.134Z"
   },
   {
    "duration": 98,
    "start_time": "2025-03-10T18:14:11.271Z"
   },
   {
    "duration": 98,
    "start_time": "2025-03-10T18:14:11.371Z"
   },
   {
    "duration": 55,
    "start_time": "2025-03-10T18:14:11.470Z"
   },
   {
    "duration": 30,
    "start_time": "2025-03-10T18:14:11.527Z"
   },
   {
    "duration": 12,
    "start_time": "2025-03-10T18:14:11.558Z"
   },
   {
    "duration": 39,
    "start_time": "2025-03-10T18:14:11.571Z"
   },
   {
    "duration": 9,
    "start_time": "2025-03-10T18:14:11.613Z"
   },
   {
    "duration": 44,
    "start_time": "2025-03-10T18:14:11.623Z"
   },
   {
    "duration": 42,
    "start_time": "2025-03-10T18:14:11.668Z"
   },
   {
    "duration": 17,
    "start_time": "2025-03-10T18:14:11.712Z"
   },
   {
    "duration": 7,
    "start_time": "2025-03-10T18:14:11.730Z"
   },
   {
    "duration": 88,
    "start_time": "2025-03-10T18:14:11.757Z"
   },
   {
    "duration": 7,
    "start_time": "2025-03-10T18:14:11.847Z"
   },
   {
    "duration": 27,
    "start_time": "2025-03-10T18:14:11.856Z"
   },
   {
    "duration": 4,
    "start_time": "2025-03-10T18:14:11.884Z"
   },
   {
    "duration": 41,
    "start_time": "2025-03-10T18:14:11.889Z"
   },
   {
    "duration": 3,
    "start_time": "2025-03-10T18:14:11.932Z"
   },
   {
    "duration": 35,
    "start_time": "2025-03-10T18:14:11.937Z"
   },
   {
    "duration": 33,
    "start_time": "2025-03-10T18:14:11.974Z"
   },
   {
    "duration": 57,
    "start_time": "2025-03-10T18:14:12.008Z"
   },
   {
    "duration": 4,
    "start_time": "2025-03-10T18:14:12.067Z"
   },
   {
    "duration": 16,
    "start_time": "2025-03-10T18:14:12.072Z"
   },
   {
    "duration": 1554,
    "start_time": "2025-03-10T18:14:12.089Z"
   },
   {
    "duration": 22,
    "start_time": "2025-03-10T18:14:13.644Z"
   },
   {
    "duration": 1706,
    "start_time": "2025-03-10T18:14:13.667Z"
   },
   {
    "duration": 14,
    "start_time": "2025-03-10T18:14:15.375Z"
   },
   {
    "duration": 32,
    "start_time": "2025-03-10T18:14:15.390Z"
   },
   {
    "duration": 18,
    "start_time": "2025-03-10T18:14:15.423Z"
   },
   {
    "duration": 98,
    "start_time": "2025-03-10T18:14:15.443Z"
   },
   {
    "duration": 232,
    "start_time": "2025-03-10T18:14:15.542Z"
   },
   {
    "duration": 312,
    "start_time": "2025-03-10T18:14:15.776Z"
   },
   {
    "duration": 125,
    "start_time": "2025-03-10T18:14:16.090Z"
   },
   {
    "duration": 42,
    "start_time": "2025-03-10T18:14:16.217Z"
   },
   {
    "duration": 216,
    "start_time": "2025-03-10T18:14:16.263Z"
   },
   {
    "duration": 254,
    "start_time": "2025-03-10T18:14:16.481Z"
   },
   {
    "duration": 4,
    "start_time": "2025-03-10T18:14:16.736Z"
   },
   {
    "duration": 17,
    "start_time": "2025-03-10T18:14:16.742Z"
   },
   {
    "duration": 23,
    "start_time": "2025-03-10T18:14:16.760Z"
   },
   {
    "duration": 31,
    "start_time": "2025-03-10T18:14:16.785Z"
   },
   {
    "duration": 196,
    "start_time": "2025-03-10T18:14:16.818Z"
   },
   {
    "duration": 219,
    "start_time": "2025-03-10T18:14:17.016Z"
   },
   {
    "duration": 21,
    "start_time": "2025-03-10T18:14:17.237Z"
   },
   {
    "duration": 70,
    "start_time": "2025-03-10T18:14:17.260Z"
   },
   {
    "duration": 1436,
    "start_time": "2025-03-10T18:14:17.332Z"
   },
   {
    "duration": 1449,
    "start_time": "2025-03-10T18:14:18.769Z"
   },
   {
    "duration": 6883,
    "start_time": "2025-03-10T18:14:20.220Z"
   },
   {
    "duration": 63,
    "start_time": "2025-03-10T18:14:27.105Z"
   },
   {
    "duration": 16,
    "start_time": "2025-03-10T18:14:27.170Z"
   },
   {
    "duration": 82,
    "start_time": "2025-03-10T18:14:27.187Z"
   },
   {
    "duration": 3,
    "start_time": "2025-03-10T18:14:27.271Z"
   },
   {
    "duration": 21,
    "start_time": "2025-03-10T18:14:27.275Z"
   },
   {
    "duration": 29193,
    "start_time": "2025-03-10T18:14:27.299Z"
   },
   {
    "duration": 123,
    "start_time": "2025-03-10T18:14:56.494Z"
   },
   {
    "duration": 0,
    "start_time": "2025-03-10T18:14:56.618Z"
   },
   {
    "duration": 0,
    "start_time": "2025-03-10T18:14:56.619Z"
   },
   {
    "duration": 0,
    "start_time": "2025-03-10T18:14:56.620Z"
   },
   {
    "duration": 0,
    "start_time": "2025-03-10T18:14:56.621Z"
   },
   {
    "duration": 0,
    "start_time": "2025-03-10T18:14:56.623Z"
   },
   {
    "duration": 0,
    "start_time": "2025-03-10T18:14:56.624Z"
   },
   {
    "duration": 0,
    "start_time": "2025-03-10T18:14:56.625Z"
   },
   {
    "duration": 0,
    "start_time": "2025-03-10T18:14:56.626Z"
   },
   {
    "duration": 3,
    "start_time": "2025-03-10T18:15:08.122Z"
   },
   {
    "duration": 26,
    "start_time": "2025-03-10T18:15:11.579Z"
   },
   {
    "duration": 21,
    "start_time": "2025-03-10T18:15:20.955Z"
   },
   {
    "duration": 3,
    "start_time": "2025-03-10T18:25:17.010Z"
   },
   {
    "duration": 639,
    "start_time": "2025-03-10T18:25:18.146Z"
   },
   {
    "duration": 2,
    "start_time": "2025-03-10T18:27:26.503Z"
   },
   {
    "duration": 408,
    "start_time": "2025-03-10T18:27:47.254Z"
   },
   {
    "duration": 408,
    "start_time": "2025-03-10T18:28:06.503Z"
   },
   {
    "duration": 390,
    "start_time": "2025-03-10T18:30:02.978Z"
   },
   {
    "duration": 70,
    "start_time": "2025-03-10T18:30:17.701Z"
   },
   {
    "duration": 600,
    "start_time": "2025-03-10T18:30:36.312Z"
   },
   {
    "duration": 4,
    "start_time": "2025-03-10T18:33:05.574Z"
   },
   {
    "duration": 883,
    "start_time": "2025-03-10T18:33:36.737Z"
   },
   {
    "duration": 3,
    "start_time": "2025-03-10T18:33:48.357Z"
   },
   {
    "duration": 816,
    "start_time": "2025-03-10T18:33:53.058Z"
   },
   {
    "duration": 4448,
    "start_time": "2025-03-10T18:36:35.911Z"
   },
   {
    "duration": 638,
    "start_time": "2025-03-10T18:37:43.819Z"
   },
   {
    "duration": 3,
    "start_time": "2025-03-10T18:38:13.271Z"
   },
   {
    "duration": 427,
    "start_time": "2025-03-10T18:38:15.937Z"
   },
   {
    "duration": 448,
    "start_time": "2025-03-10T18:38:29.330Z"
   },
   {
    "duration": 5,
    "start_time": "2025-03-10T18:39:25.836Z"
   },
   {
    "duration": 3,
    "start_time": "2025-03-10T18:39:34.691Z"
   },
   {
    "duration": 10,
    "start_time": "2025-03-10T18:39:40.793Z"
   },
   {
    "duration": 4,
    "start_time": "2025-03-10T18:39:44.760Z"
   },
   {
    "duration": 4,
    "start_time": "2025-03-10T18:39:53.842Z"
   },
   {
    "duration": 4,
    "start_time": "2025-03-10T18:40:05.425Z"
   },
   {
    "duration": 3,
    "start_time": "2025-03-10T18:40:22.797Z"
   },
   {
    "duration": 16,
    "start_time": "2025-03-10T18:40:51.130Z"
   },
   {
    "duration": 73,
    "start_time": "2025-03-10T18:41:10.622Z"
   },
   {
    "duration": 4,
    "start_time": "2025-03-10T18:41:15.354Z"
   },
   {
    "duration": 3,
    "start_time": "2025-03-10T18:41:15.713Z"
   },
   {
    "duration": 4,
    "start_time": "2025-03-10T18:41:17.539Z"
   },
   {
    "duration": 4,
    "start_time": "2025-03-10T18:41:18.577Z"
   },
   {
    "duration": 2,
    "start_time": "2025-03-10T18:41:35.177Z"
   },
   {
    "duration": 918,
    "start_time": "2025-03-10T18:42:42.114Z"
   },
   {
    "duration": 4,
    "start_time": "2025-03-10T18:42:46.007Z"
   },
   {
    "duration": 5,
    "start_time": "2025-03-10T18:42:46.937Z"
   },
   {
    "duration": 3,
    "start_time": "2025-03-10T18:42:47.481Z"
   },
   {
    "duration": 3,
    "start_time": "2025-03-10T18:42:47.983Z"
   },
   {
    "duration": 546,
    "start_time": "2025-03-10T18:43:04.881Z"
   },
   {
    "duration": 3,
    "start_time": "2025-03-10T18:45:05.364Z"
   },
   {
    "duration": 11,
    "start_time": "2025-03-10T18:45:13.816Z"
   },
   {
    "duration": 4,
    "start_time": "2025-03-10T18:45:18.785Z"
   },
   {
    "duration": 619,
    "start_time": "2025-03-10T18:45:48.342Z"
   },
   {
    "duration": 3,
    "start_time": "2025-03-10T18:45:52.341Z"
   },
   {
    "duration": 4,
    "start_time": "2025-03-10T18:45:52.954Z"
   },
   {
    "duration": 3,
    "start_time": "2025-03-10T18:45:54.220Z"
   },
   {
    "duration": 4,
    "start_time": "2025-03-10T18:45:57.522Z"
   },
   {
    "duration": 3,
    "start_time": "2025-03-10T18:46:00.786Z"
   },
   {
    "duration": 3,
    "start_time": "2025-03-10T18:46:01.587Z"
   },
   {
    "duration": 443,
    "start_time": "2025-03-10T18:47:14.868Z"
   },
   {
    "duration": 3,
    "start_time": "2025-03-10T18:47:17.318Z"
   },
   {
    "duration": 3,
    "start_time": "2025-03-10T18:47:17.757Z"
   },
   {
    "duration": 403,
    "start_time": "2025-03-10T18:47:24.119Z"
   },
   {
    "duration": 4,
    "start_time": "2025-03-10T18:47:28.155Z"
   },
   {
    "duration": 3,
    "start_time": "2025-03-10T18:47:30.030Z"
   },
   {
    "duration": 69,
    "start_time": "2025-03-10T18:48:05.402Z"
   },
   {
    "duration": 918,
    "start_time": "2025-03-10T18:48:07.718Z"
   },
   {
    "duration": 4,
    "start_time": "2025-03-10T18:48:09.920Z"
   },
   {
    "duration": 4,
    "start_time": "2025-03-10T18:48:10.787Z"
   },
   {
    "duration": 4,
    "start_time": "2025-03-10T18:48:11.865Z"
   },
   {
    "duration": 4,
    "start_time": "2025-03-10T18:48:12.120Z"
   },
   {
    "duration": 11,
    "start_time": "2025-03-10T18:48:15.878Z"
   },
   {
    "duration": 5,
    "start_time": "2025-03-10T18:48:25.061Z"
   },
   {
    "duration": 16,
    "start_time": "2025-03-10T18:51:15.465Z"
   },
   {
    "duration": 648,
    "start_time": "2025-03-10T18:52:32.575Z"
   },
   {
    "duration": 11,
    "start_time": "2025-03-10T18:52:35.191Z"
   },
   {
    "duration": 30,
    "start_time": "2025-03-10T18:52:38.277Z"
   },
   {
    "duration": 4,
    "start_time": "2025-03-10T18:53:03.478Z"
   },
   {
    "duration": 410,
    "start_time": "2025-03-10T18:56:15.951Z"
   },
   {
    "duration": 77,
    "start_time": "2025-03-10T18:56:20.594Z"
   },
   {
    "duration": 905,
    "start_time": "2025-03-10T18:56:21.112Z"
   },
   {
    "duration": 3,
    "start_time": "2025-03-10T18:56:27.380Z"
   },
   {
    "duration": 3,
    "start_time": "2025-03-10T18:56:30.324Z"
   },
   {
    "duration": 38200,
    "start_time": "2025-03-10T18:56:31.561Z"
   },
   {
    "duration": 3,
    "start_time": "2025-03-10T18:57:41.622Z"
   },
   {
    "duration": 58228,
    "start_time": "2025-03-10T18:57:43.143Z"
   },
   {
    "duration": 13,
    "start_time": "2025-03-10T19:00:15.801Z"
   },
   {
    "duration": 7331,
    "start_time": "2025-03-10T19:00:20.571Z"
   },
   {
    "duration": 172681,
    "start_time": "2025-03-10T19:02:55.965Z"
   },
   {
    "duration": 34338,
    "start_time": "2025-03-10T19:07:37.740Z"
   },
   {
    "duration": 201737,
    "start_time": "2025-03-10T19:13:19.251Z"
   },
   {
    "duration": 13,
    "start_time": "2025-03-10T19:35:15.297Z"
   },
   {
    "duration": 13,
    "start_time": "2025-03-10T19:35:43.149Z"
   },
   {
    "duration": 449,
    "start_time": "2025-03-10T19:38:28.999Z"
   },
   {
    "duration": 19865,
    "start_time": "2025-03-10T19:38:42.528Z"
   },
   {
    "duration": 18,
    "start_time": "2025-03-10T19:45:32.814Z"
   },
   {
    "duration": 18,
    "start_time": "2025-03-10T19:46:57.932Z"
   },
   {
    "duration": 4,
    "start_time": "2025-03-10T19:47:30.770Z"
   },
   {
    "duration": 17,
    "start_time": "2025-03-10T19:48:09.202Z"
   },
   {
    "duration": 17,
    "start_time": "2025-03-10T19:50:29.572Z"
   },
   {
    "duration": 16,
    "start_time": "2025-03-10T19:50:38.819Z"
   },
   {
    "duration": 77,
    "start_time": "2025-03-10T19:51:44.417Z"
   },
   {
    "duration": 72,
    "start_time": "2025-03-10T19:53:12.828Z"
   },
   {
    "duration": 70,
    "start_time": "2025-03-10T19:55:06.941Z"
   },
   {
    "duration": 6,
    "start_time": "2025-03-10T19:56:11.753Z"
   },
   {
    "duration": 25,
    "start_time": "2025-03-10T19:56:25.799Z"
   },
   {
    "duration": 42,
    "start_time": "2025-03-10T19:58:23.283Z"
   },
   {
    "duration": 44,
    "start_time": "2025-03-10T19:59:00.707Z"
   },
   {
    "duration": 251677,
    "start_time": "2025-03-10T20:01:22.706Z"
   },
   {
    "duration": 10,
    "start_time": "2025-03-10T20:06:31.018Z"
   },
   {
    "duration": 9,
    "start_time": "2025-03-10T20:06:40.502Z"
   },
   {
    "duration": 15,
    "start_time": "2025-03-10T20:08:09.104Z"
   },
   {
    "duration": 18,
    "start_time": "2025-03-10T20:08:18.378Z"
   },
   {
    "duration": 20,
    "start_time": "2025-03-10T20:08:50.272Z"
   },
   {
    "duration": 16198,
    "start_time": "2025-03-10T20:09:14.464Z"
   },
   {
    "duration": 77,
    "start_time": "2025-03-10T20:09:50.728Z"
   },
   {
    "duration": 83,
    "start_time": "2025-03-10T20:10:32.206Z"
   },
   {
    "duration": 17,
    "start_time": "2025-03-10T20:10:41.159Z"
   },
   {
    "duration": 536577,
    "start_time": "2025-03-10T20:11:02.693Z"
   },
   {
    "duration": 17,
    "start_time": "2025-03-10T20:21:03.027Z"
   },
   {
    "duration": 4585,
    "start_time": "2025-03-10T20:43:24.232Z"
   },
   {
    "duration": 1334,
    "start_time": "2025-03-10T20:43:28.819Z"
   },
   {
    "duration": 3,
    "start_time": "2025-03-10T20:43:30.157Z"
   },
   {
    "duration": 1156,
    "start_time": "2025-03-10T20:43:30.162Z"
   },
   {
    "duration": 4,
    "start_time": "2025-03-10T20:43:31.320Z"
   },
   {
    "duration": 109,
    "start_time": "2025-03-10T20:43:31.325Z"
   },
   {
    "duration": 131,
    "start_time": "2025-03-10T20:43:31.436Z"
   },
   {
    "duration": 91,
    "start_time": "2025-03-10T20:43:31.568Z"
   },
   {
    "duration": 99,
    "start_time": "2025-03-10T20:43:31.661Z"
   },
   {
    "duration": 56,
    "start_time": "2025-03-10T20:43:31.761Z"
   },
   {
    "duration": 16,
    "start_time": "2025-03-10T20:43:31.819Z"
   },
   {
    "duration": 29,
    "start_time": "2025-03-10T20:43:31.836Z"
   },
   {
    "duration": 65,
    "start_time": "2025-03-10T20:43:31.866Z"
   },
   {
    "duration": 10,
    "start_time": "2025-03-10T20:43:31.934Z"
   },
   {
    "duration": 58,
    "start_time": "2025-03-10T20:43:31.945Z"
   },
   {
    "duration": 42,
    "start_time": "2025-03-10T20:43:32.005Z"
   },
   {
    "duration": 46,
    "start_time": "2025-03-10T20:43:32.049Z"
   },
   {
    "duration": 8,
    "start_time": "2025-03-10T20:43:32.097Z"
   },
   {
    "duration": 31,
    "start_time": "2025-03-10T20:43:32.106Z"
   },
   {
    "duration": 8,
    "start_time": "2025-03-10T20:43:32.139Z"
   },
   {
    "duration": 43,
    "start_time": "2025-03-10T20:43:32.148Z"
   },
   {
    "duration": 4,
    "start_time": "2025-03-10T20:43:32.193Z"
   },
   {
    "duration": 62,
    "start_time": "2025-03-10T20:43:32.198Z"
   },
   {
    "duration": 5,
    "start_time": "2025-03-10T20:43:32.261Z"
   },
   {
    "duration": 34,
    "start_time": "2025-03-10T20:43:32.268Z"
   },
   {
    "duration": 22,
    "start_time": "2025-03-10T20:43:32.303Z"
   },
   {
    "duration": 100,
    "start_time": "2025-03-10T20:43:32.327Z"
   },
   {
    "duration": 91,
    "start_time": "2025-03-10T20:43:32.429Z"
   },
   {
    "duration": 63,
    "start_time": "2025-03-10T20:43:32.521Z"
   },
   {
    "duration": 1510,
    "start_time": "2025-03-10T20:43:32.586Z"
   },
   {
    "duration": 19,
    "start_time": "2025-03-10T20:43:34.098Z"
   },
   {
    "duration": 2369,
    "start_time": "2025-03-10T20:43:34.119Z"
   },
   {
    "duration": 14,
    "start_time": "2025-03-10T20:43:36.490Z"
   },
   {
    "duration": 44,
    "start_time": "2025-03-10T20:43:36.506Z"
   },
   {
    "duration": 75,
    "start_time": "2025-03-10T20:43:36.551Z"
   },
   {
    "duration": 91,
    "start_time": "2025-03-10T20:43:36.628Z"
   },
   {
    "duration": 244,
    "start_time": "2025-03-10T20:43:36.721Z"
   },
   {
    "duration": 305,
    "start_time": "2025-03-10T20:43:36.968Z"
   },
   {
    "duration": 124,
    "start_time": "2025-03-10T20:43:37.275Z"
   },
   {
    "duration": 34,
    "start_time": "2025-03-10T20:43:37.401Z"
   },
   {
    "duration": 229,
    "start_time": "2025-03-10T20:43:37.439Z"
   },
   {
    "duration": 257,
    "start_time": "2025-03-10T20:43:37.670Z"
   },
   {
    "duration": 4,
    "start_time": "2025-03-10T20:43:37.928Z"
   },
   {
    "duration": 13,
    "start_time": "2025-03-10T20:43:37.933Z"
   },
   {
    "duration": 30,
    "start_time": "2025-03-10T20:43:37.947Z"
   },
   {
    "duration": 31,
    "start_time": "2025-03-10T20:43:37.978Z"
   },
   {
    "duration": 188,
    "start_time": "2025-03-10T20:43:38.010Z"
   },
   {
    "duration": 240,
    "start_time": "2025-03-10T20:43:38.200Z"
   },
   {
    "duration": 21,
    "start_time": "2025-03-10T20:43:38.442Z"
   },
   {
    "duration": 125,
    "start_time": "2025-03-10T20:43:38.465Z"
   },
   {
    "duration": 1395,
    "start_time": "2025-03-10T20:43:38.591Z"
   },
   {
    "duration": 1303,
    "start_time": "2025-03-10T20:43:39.988Z"
   },
   {
    "duration": 6693,
    "start_time": "2025-03-10T20:43:41.293Z"
   },
   {
    "duration": 52,
    "start_time": "2025-03-10T20:43:47.988Z"
   },
   {
    "duration": 28,
    "start_time": "2025-03-10T20:43:48.042Z"
   },
   {
    "duration": 74,
    "start_time": "2025-03-10T20:43:48.071Z"
   },
   {
    "duration": 3,
    "start_time": "2025-03-10T20:43:48.157Z"
   },
   {
    "duration": 24,
    "start_time": "2025-03-10T20:43:48.161Z"
   },
   {
    "duration": 3,
    "start_time": "2025-03-10T20:43:48.187Z"
   },
   {
    "duration": 143,
    "start_time": "2025-03-10T20:43:48.191Z"
   },
   {
    "duration": 0,
    "start_time": "2025-03-10T20:43:48.335Z"
   },
   {
    "duration": 0,
    "start_time": "2025-03-10T20:43:48.337Z"
   },
   {
    "duration": 0,
    "start_time": "2025-03-10T20:43:48.338Z"
   },
   {
    "duration": 0,
    "start_time": "2025-03-10T20:43:48.340Z"
   },
   {
    "duration": 0,
    "start_time": "2025-03-10T20:43:48.341Z"
   },
   {
    "duration": 0,
    "start_time": "2025-03-10T20:43:48.343Z"
   },
   {
    "duration": 0,
    "start_time": "2025-03-10T20:43:48.357Z"
   },
   {
    "duration": 0,
    "start_time": "2025-03-10T20:43:48.359Z"
   },
   {
    "duration": 0,
    "start_time": "2025-03-10T20:43:48.360Z"
   },
   {
    "duration": 0,
    "start_time": "2025-03-10T20:43:48.362Z"
   },
   {
    "duration": 0,
    "start_time": "2025-03-10T20:43:48.363Z"
   },
   {
    "duration": 0,
    "start_time": "2025-03-10T20:43:48.364Z"
   },
   {
    "duration": 0,
    "start_time": "2025-03-10T20:43:48.366Z"
   },
   {
    "duration": 0,
    "start_time": "2025-03-10T20:43:48.367Z"
   },
   {
    "duration": 0,
    "start_time": "2025-03-10T20:43:48.368Z"
   },
   {
    "duration": 0,
    "start_time": "2025-03-10T20:43:48.370Z"
   },
   {
    "duration": 0,
    "start_time": "2025-03-10T20:43:48.371Z"
   },
   {
    "duration": 0,
    "start_time": "2025-03-10T20:43:48.373Z"
   },
   {
    "duration": 720023,
    "start_time": "2025-03-10T20:44:08.752Z"
   },
   {
    "duration": 16,
    "start_time": "2025-03-10T20:56:36.163Z"
   },
   {
    "duration": 4,
    "start_time": "2025-03-10T20:56:59.210Z"
   },
   {
    "duration": 20,
    "start_time": "2025-03-10T20:56:59.570Z"
   },
   {
    "duration": 3,
    "start_time": "2025-03-10T20:58:27.769Z"
   },
   {
    "duration": 23,
    "start_time": "2025-03-10T20:58:32.854Z"
   },
   {
    "duration": 4,
    "start_time": "2025-03-10T20:58:37.347Z"
   },
   {
    "duration": 20,
    "start_time": "2025-03-10T20:58:37.733Z"
   },
   {
    "duration": 10281,
    "start_time": "2025-03-11T16:49:47.911Z"
   },
   {
    "duration": 1644,
    "start_time": "2025-03-11T16:49:58.195Z"
   },
   {
    "duration": 2,
    "start_time": "2025-03-11T16:49:59.841Z"
   },
   {
    "duration": 1504,
    "start_time": "2025-03-11T16:49:59.845Z"
   },
   {
    "duration": 5,
    "start_time": "2025-03-11T16:50:01.351Z"
   },
   {
    "duration": 109,
    "start_time": "2025-03-11T16:50:01.358Z"
   },
   {
    "duration": 147,
    "start_time": "2025-03-11T16:50:01.469Z"
   },
   {
    "duration": 114,
    "start_time": "2025-03-11T16:50:01.618Z"
   },
   {
    "duration": 114,
    "start_time": "2025-03-11T16:50:01.734Z"
   },
   {
    "duration": 76,
    "start_time": "2025-03-11T16:50:01.850Z"
   },
   {
    "duration": 21,
    "start_time": "2025-03-11T16:50:01.929Z"
   },
   {
    "duration": 13,
    "start_time": "2025-03-11T16:50:01.952Z"
   },
   {
    "duration": 67,
    "start_time": "2025-03-11T16:50:01.967Z"
   },
   {
    "duration": 11,
    "start_time": "2025-03-11T16:50:02.038Z"
   },
   {
    "duration": 23,
    "start_time": "2025-03-11T16:50:02.051Z"
   },
   {
    "duration": 69,
    "start_time": "2025-03-11T16:50:02.076Z"
   },
   {
    "duration": 19,
    "start_time": "2025-03-11T16:50:02.146Z"
   },
   {
    "duration": 55,
    "start_time": "2025-03-11T16:50:02.167Z"
   },
   {
    "duration": 38,
    "start_time": "2025-03-11T16:50:02.224Z"
   },
   {
    "duration": 9,
    "start_time": "2025-03-11T16:50:02.263Z"
   },
   {
    "duration": 49,
    "start_time": "2025-03-11T16:50:02.274Z"
   },
   {
    "duration": 4,
    "start_time": "2025-03-11T16:50:02.325Z"
   },
   {
    "duration": 48,
    "start_time": "2025-03-11T16:50:02.330Z"
   },
   {
    "duration": 4,
    "start_time": "2025-03-11T16:50:02.379Z"
   },
   {
    "duration": 136,
    "start_time": "2025-03-11T16:50:02.384Z"
   },
   {
    "duration": 30,
    "start_time": "2025-03-11T16:50:02.522Z"
   },
   {
    "duration": 37,
    "start_time": "2025-03-11T16:50:02.554Z"
   },
   {
    "duration": 5,
    "start_time": "2025-03-11T16:50:02.593Z"
   },
   {
    "duration": 37,
    "start_time": "2025-03-11T16:50:02.599Z"
   },
   {
    "duration": 1702,
    "start_time": "2025-03-11T16:50:02.638Z"
   },
   {
    "duration": 17,
    "start_time": "2025-03-11T16:50:04.342Z"
   },
   {
    "duration": 1847,
    "start_time": "2025-03-11T16:50:04.361Z"
   },
   {
    "duration": 18,
    "start_time": "2025-03-11T16:50:06.209Z"
   },
   {
    "duration": 65,
    "start_time": "2025-03-11T16:50:06.230Z"
   },
   {
    "duration": 22,
    "start_time": "2025-03-11T16:50:06.297Z"
   },
   {
    "duration": 112,
    "start_time": "2025-03-11T16:50:06.320Z"
   },
   {
    "duration": 287,
    "start_time": "2025-03-11T16:50:06.434Z"
   },
   {
    "duration": 310,
    "start_time": "2025-03-11T16:50:06.723Z"
   },
   {
    "duration": 143,
    "start_time": "2025-03-11T16:50:07.035Z"
   },
   {
    "duration": 51,
    "start_time": "2025-03-11T16:50:07.179Z"
   },
   {
    "duration": 244,
    "start_time": "2025-03-11T16:50:07.236Z"
   },
   {
    "duration": 267,
    "start_time": "2025-03-11T16:50:07.482Z"
   },
   {
    "duration": 4,
    "start_time": "2025-03-11T16:50:07.751Z"
   },
   {
    "duration": 12,
    "start_time": "2025-03-11T16:50:07.756Z"
   },
   {
    "duration": 23,
    "start_time": "2025-03-11T16:50:07.770Z"
   },
   {
    "duration": 48,
    "start_time": "2025-03-11T16:50:07.795Z"
   },
   {
    "duration": 200,
    "start_time": "2025-03-11T16:50:07.845Z"
   },
   {
    "duration": 235,
    "start_time": "2025-03-11T16:50:08.047Z"
   },
   {
    "duration": 13,
    "start_time": "2025-03-11T16:50:08.284Z"
   },
   {
    "duration": 78,
    "start_time": "2025-03-11T16:50:08.314Z"
   },
   {
    "duration": 1531,
    "start_time": "2025-03-11T16:50:08.395Z"
   },
   {
    "duration": 1400,
    "start_time": "2025-03-11T16:50:09.928Z"
   },
   {
    "duration": 7597,
    "start_time": "2025-03-11T16:50:11.330Z"
   },
   {
    "duration": 55,
    "start_time": "2025-03-11T16:50:18.928Z"
   },
   {
    "duration": 37,
    "start_time": "2025-03-11T16:50:18.984Z"
   },
   {
    "duration": 73,
    "start_time": "2025-03-11T16:50:19.023Z"
   },
   {
    "duration": 16,
    "start_time": "2025-03-11T16:50:19.098Z"
   },
   {
    "duration": 64,
    "start_time": "2025-03-11T16:50:19.116Z"
   },
   {
    "duration": 3,
    "start_time": "2025-03-11T16:50:19.182Z"
   },
   {
    "duration": 148971,
    "start_time": "2025-03-11T16:50:19.187Z"
   },
   {
    "duration": 26,
    "start_time": "2025-03-11T16:52:48.160Z"
   },
   {
    "duration": 26,
    "start_time": "2025-03-11T16:52:48.188Z"
   },
   {
    "duration": 0,
    "start_time": "2025-03-11T16:52:48.215Z"
   },
   {
    "duration": 0,
    "start_time": "2025-03-11T16:52:48.217Z"
   },
   {
    "duration": 0,
    "start_time": "2025-03-11T16:52:48.218Z"
   },
   {
    "duration": 0,
    "start_time": "2025-03-11T16:52:48.219Z"
   },
   {
    "duration": 821214,
    "start_time": "2025-03-11T16:53:46.230Z"
   },
   {
    "duration": 19,
    "start_time": "2025-03-11T17:09:55.547Z"
   },
   {
    "duration": 17,
    "start_time": "2025-03-11T17:10:39.030Z"
   },
   {
    "duration": 16,
    "start_time": "2025-03-11T17:10:46.862Z"
   },
   {
    "duration": 236186,
    "start_time": "2025-03-11T17:11:10.003Z"
   },
   {
    "duration": 6,
    "start_time": "2025-03-11T17:18:03.591Z"
   },
   {
    "duration": 390,
    "start_time": "2025-03-11T17:21:54.062Z"
   },
   {
    "duration": 229,
    "start_time": "2025-03-11T17:23:25.406Z"
   },
   {
    "duration": 18,
    "start_time": "2025-03-11T17:24:03.998Z"
   },
   {
    "duration": 17,
    "start_time": "2025-03-11T17:24:20.998Z"
   },
   {
    "duration": 17,
    "start_time": "2025-03-11T17:24:32.979Z"
   },
   {
    "duration": 399,
    "start_time": "2025-03-11T17:26:31.016Z"
   },
   {
    "duration": 96,
    "start_time": "2025-03-11T17:26:33.208Z"
   },
   {
    "duration": 87,
    "start_time": "2025-03-11T17:26:49.870Z"
   },
   {
    "duration": 6,
    "start_time": "2025-03-11T17:26:58.387Z"
   },
   {
    "duration": 34363,
    "start_time": "2025-03-11T17:27:14.636Z"
   },
   {
    "duration": 34772,
    "start_time": "2025-03-11T17:28:12.891Z"
   },
   {
    "duration": 132,
    "start_time": "2025-03-11T17:35:55.059Z"
   },
   {
    "duration": 19,
    "start_time": "2025-03-11T17:36:08.999Z"
   },
   {
    "duration": 41,
    "start_time": "2025-03-11T17:36:34.562Z"
   },
   {
    "duration": 33726,
    "start_time": "2025-03-11T17:36:49.553Z"
   },
   {
    "duration": 18,
    "start_time": "2025-03-11T17:40:29.482Z"
   },
   {
    "duration": 4,
    "start_time": "2025-03-11T17:40:47.521Z"
   },
   {
    "duration": 4,
    "start_time": "2025-03-11T17:40:53.256Z"
   },
   {
    "duration": 5,
    "start_time": "2025-03-11T17:40:58.430Z"
   },
   {
    "duration": 4,
    "start_time": "2025-03-11T17:41:01.806Z"
   },
   {
    "duration": 2126,
    "start_time": "2025-03-11T17:41:36.680Z"
   },
   {
    "duration": 2424,
    "start_time": "2025-03-11T17:42:25.026Z"
   },
   {
    "duration": 33394,
    "start_time": "2025-03-11T17:42:44.333Z"
   },
   {
    "duration": 34738,
    "start_time": "2025-03-11T17:44:42.238Z"
   },
   {
    "duration": 35072,
    "start_time": "2025-03-11T17:45:35.533Z"
   },
   {
    "duration": 17,
    "start_time": "2025-03-11T17:47:35.559Z"
   },
   {
    "duration": 4,
    "start_time": "2025-03-11T17:47:45.335Z"
   },
   {
    "duration": 4,
    "start_time": "2025-03-11T17:47:56.914Z"
   },
   {
    "duration": 4,
    "start_time": "2025-03-11T17:48:07.146Z"
   },
   {
    "duration": 8310,
    "start_time": "2025-03-11T18:03:46.856Z"
   },
   {
    "duration": 1561,
    "start_time": "2025-03-11T18:03:55.169Z"
   },
   {
    "duration": 3,
    "start_time": "2025-03-11T18:03:56.731Z"
   },
   {
    "duration": 1310,
    "start_time": "2025-03-11T18:03:56.736Z"
   },
   {
    "duration": 4,
    "start_time": "2025-03-11T18:03:58.049Z"
   },
   {
    "duration": 124,
    "start_time": "2025-03-11T18:03:58.055Z"
   },
   {
    "duration": 166,
    "start_time": "2025-03-11T18:03:58.181Z"
   },
   {
    "duration": 116,
    "start_time": "2025-03-11T18:03:58.349Z"
   },
   {
    "duration": 121,
    "start_time": "2025-03-11T18:03:58.467Z"
   },
   {
    "duration": 80,
    "start_time": "2025-03-11T18:03:58.590Z"
   },
   {
    "duration": 16,
    "start_time": "2025-03-11T18:03:58.672Z"
   },
   {
    "duration": 28,
    "start_time": "2025-03-11T18:03:58.690Z"
   },
   {
    "duration": 46,
    "start_time": "2025-03-11T18:03:58.720Z"
   },
   {
    "duration": 11,
    "start_time": "2025-03-11T18:03:58.770Z"
   },
   {
    "duration": 55,
    "start_time": "2025-03-11T18:03:58.783Z"
   },
   {
    "duration": 46,
    "start_time": "2025-03-11T18:03:58.840Z"
   },
   {
    "duration": 38,
    "start_time": "2025-03-11T18:03:58.888Z"
   },
   {
    "duration": 10,
    "start_time": "2025-03-11T18:03:58.928Z"
   },
   {
    "duration": 33,
    "start_time": "2025-03-11T18:03:58.939Z"
   },
   {
    "duration": 9,
    "start_time": "2025-03-11T18:03:58.973Z"
   },
   {
    "duration": 26,
    "start_time": "2025-03-11T18:03:59.014Z"
   },
   {
    "duration": 4,
    "start_time": "2025-03-11T18:03:59.042Z"
   },
   {
    "duration": 66,
    "start_time": "2025-03-11T18:03:59.048Z"
   },
   {
    "duration": 6,
    "start_time": "2025-03-11T18:03:59.116Z"
   },
   {
    "duration": 27,
    "start_time": "2025-03-11T18:03:59.125Z"
   },
   {
    "duration": 23,
    "start_time": "2025-03-11T18:03:59.154Z"
   },
   {
    "duration": 72,
    "start_time": "2025-03-11T18:03:59.179Z"
   },
   {
    "duration": 4,
    "start_time": "2025-03-11T18:03:59.253Z"
   },
   {
    "duration": 16,
    "start_time": "2025-03-11T18:03:59.258Z"
   },
   {
    "duration": 1907,
    "start_time": "2025-03-11T18:03:59.275Z"
   },
   {
    "duration": 35,
    "start_time": "2025-03-11T18:04:01.184Z"
   },
   {
    "duration": 2010,
    "start_time": "2025-03-11T18:04:01.222Z"
   },
   {
    "duration": 18,
    "start_time": "2025-03-11T18:04:03.235Z"
   },
   {
    "duration": 8,
    "start_time": "2025-03-11T18:04:03.254Z"
   },
   {
    "duration": 19,
    "start_time": "2025-03-11T18:04:03.263Z"
   },
   {
    "duration": 149,
    "start_time": "2025-03-11T18:04:03.284Z"
   },
   {
    "duration": 253,
    "start_time": "2025-03-11T18:04:03.435Z"
   },
   {
    "duration": 324,
    "start_time": "2025-03-11T18:04:03.690Z"
   },
   {
    "duration": 148,
    "start_time": "2025-03-11T18:04:04.016Z"
   },
   {
    "duration": 36,
    "start_time": "2025-03-11T18:04:04.166Z"
   },
   {
    "duration": 237,
    "start_time": "2025-03-11T18:04:04.214Z"
   },
   {
    "duration": 288,
    "start_time": "2025-03-11T18:04:04.452Z"
   },
   {
    "duration": 4,
    "start_time": "2025-03-11T18:04:04.741Z"
   },
   {
    "duration": 8,
    "start_time": "2025-03-11T18:04:04.747Z"
   },
   {
    "duration": 23,
    "start_time": "2025-03-11T18:04:04.757Z"
   },
   {
    "duration": 58,
    "start_time": "2025-03-11T18:04:04.782Z"
   },
   {
    "duration": 224,
    "start_time": "2025-03-11T18:04:04.842Z"
   },
   {
    "duration": 240,
    "start_time": "2025-03-11T18:04:05.068Z"
   },
   {
    "duration": 23,
    "start_time": "2025-03-11T18:04:05.314Z"
   },
   {
    "duration": 98,
    "start_time": "2025-03-11T18:04:05.339Z"
   },
   {
    "duration": 1662,
    "start_time": "2025-03-11T18:04:05.438Z"
   },
   {
    "duration": 1567,
    "start_time": "2025-03-11T18:04:07.102Z"
   },
   {
    "duration": 8069,
    "start_time": "2025-03-11T18:04:08.671Z"
   },
   {
    "duration": 71,
    "start_time": "2025-03-11T18:04:16.743Z"
   },
   {
    "duration": 20,
    "start_time": "2025-03-11T18:04:16.816Z"
   },
   {
    "duration": 101,
    "start_time": "2025-03-11T18:04:16.838Z"
   },
   {
    "duration": 4,
    "start_time": "2025-03-11T18:04:16.941Z"
   },
   {
    "duration": 15,
    "start_time": "2025-03-11T18:04:16.947Z"
   },
   {
    "duration": 5,
    "start_time": "2025-03-11T18:04:16.964Z"
   },
   {
    "duration": 159934,
    "start_time": "2025-03-11T18:04:16.971Z"
   },
   {
    "duration": 27,
    "start_time": "2025-03-11T18:06:56.912Z"
   },
   {
    "duration": 888902,
    "start_time": "2025-03-11T18:06:56.940Z"
   },
   {
    "duration": 17,
    "start_time": "2025-03-11T18:21:45.844Z"
   },
   {
    "duration": 66,
    "start_time": "2025-03-11T18:21:45.863Z"
   },
   {
    "duration": 218853,
    "start_time": "2025-03-11T18:21:45.931Z"
   },
   {
    "duration": 393,
    "start_time": "2025-03-11T18:25:24.786Z"
   },
   {
    "duration": 33357,
    "start_time": "2025-03-11T18:25:25.181Z"
   },
   {
    "duration": 6,
    "start_time": "2025-03-11T18:25:58.539Z"
   },
   {
    "duration": 4,
    "start_time": "2025-03-11T18:33:42.849Z"
   },
   {
    "duration": 4964,
    "start_time": "2025-03-11T19:03:27.448Z"
   },
   {
    "duration": 1488,
    "start_time": "2025-03-11T19:03:32.414Z"
   },
   {
    "duration": 3,
    "start_time": "2025-03-11T19:03:33.903Z"
   },
   {
    "duration": 1228,
    "start_time": "2025-03-11T19:03:33.907Z"
   },
   {
    "duration": 4,
    "start_time": "2025-03-11T19:03:35.137Z"
   },
   {
    "duration": 117,
    "start_time": "2025-03-11T19:03:35.143Z"
   },
   {
    "duration": 157,
    "start_time": "2025-03-11T19:03:35.262Z"
   },
   {
    "duration": 112,
    "start_time": "2025-03-11T19:03:35.420Z"
   },
   {
    "duration": 107,
    "start_time": "2025-03-11T19:03:35.533Z"
   },
   {
    "duration": 75,
    "start_time": "2025-03-11T19:03:35.643Z"
   },
   {
    "duration": 15,
    "start_time": "2025-03-11T19:03:35.720Z"
   },
   {
    "duration": 103,
    "start_time": "2025-03-11T19:03:35.737Z"
   },
   {
    "duration": 42,
    "start_time": "2025-03-11T19:03:35.842Z"
   },
   {
    "duration": 10,
    "start_time": "2025-03-11T19:03:35.885Z"
   },
   {
    "duration": 25,
    "start_time": "2025-03-11T19:03:35.897Z"
   },
   {
    "duration": 44,
    "start_time": "2025-03-11T19:03:35.923Z"
   },
   {
    "duration": 18,
    "start_time": "2025-03-11T19:03:35.969Z"
   },
   {
    "duration": 57,
    "start_time": "2025-03-11T19:03:35.989Z"
   },
   {
    "duration": 34,
    "start_time": "2025-03-11T19:03:36.048Z"
   },
   {
    "duration": 8,
    "start_time": "2025-03-11T19:03:36.084Z"
   },
   {
    "duration": 20,
    "start_time": "2025-03-11T19:03:36.094Z"
   },
   {
    "duration": 7,
    "start_time": "2025-03-11T19:03:36.116Z"
   },
   {
    "duration": 43,
    "start_time": "2025-03-11T19:03:36.125Z"
   },
   {
    "duration": 4,
    "start_time": "2025-03-11T19:03:36.170Z"
   },
   {
    "duration": 46,
    "start_time": "2025-03-11T19:03:36.175Z"
   },
   {
    "duration": 22,
    "start_time": "2025-03-11T19:03:36.223Z"
   },
   {
    "duration": 36,
    "start_time": "2025-03-11T19:03:36.247Z"
   },
   {
    "duration": 4,
    "start_time": "2025-03-11T19:03:36.287Z"
   },
   {
    "duration": 35,
    "start_time": "2025-03-11T19:03:36.293Z"
   },
   {
    "duration": 1670,
    "start_time": "2025-03-11T19:03:36.330Z"
   },
   {
    "duration": 23,
    "start_time": "2025-03-11T19:03:38.002Z"
   },
   {
    "duration": 1703,
    "start_time": "2025-03-11T19:03:38.027Z"
   },
   {
    "duration": 14,
    "start_time": "2025-03-11T19:03:39.732Z"
   },
   {
    "duration": 100,
    "start_time": "2025-03-11T19:03:39.748Z"
   },
   {
    "duration": 28,
    "start_time": "2025-03-11T19:03:39.850Z"
   },
   {
    "duration": 98,
    "start_time": "2025-03-11T19:03:39.880Z"
   },
   {
    "duration": 268,
    "start_time": "2025-03-11T19:03:39.980Z"
   },
   {
    "duration": 322,
    "start_time": "2025-03-11T19:03:40.250Z"
   },
   {
    "duration": 140,
    "start_time": "2025-03-11T19:03:40.573Z"
   },
   {
    "duration": 37,
    "start_time": "2025-03-11T19:03:40.715Z"
   },
   {
    "duration": 238,
    "start_time": "2025-03-11T19:03:40.754Z"
   },
   {
    "duration": 265,
    "start_time": "2025-03-11T19:03:40.994Z"
   },
   {
    "duration": 4,
    "start_time": "2025-03-11T19:03:41.261Z"
   },
   {
    "duration": 11,
    "start_time": "2025-03-11T19:03:41.266Z"
   },
   {
    "duration": 44,
    "start_time": "2025-03-11T19:03:41.278Z"
   },
   {
    "duration": 33,
    "start_time": "2025-03-11T19:03:41.324Z"
   },
   {
    "duration": 195,
    "start_time": "2025-03-11T19:03:41.359Z"
   },
   {
    "duration": 228,
    "start_time": "2025-03-11T19:03:41.555Z"
   },
   {
    "duration": 14,
    "start_time": "2025-03-11T19:03:41.785Z"
   },
   {
    "duration": 112,
    "start_time": "2025-03-11T19:03:41.801Z"
   },
   {
    "duration": 1683,
    "start_time": "2025-03-11T19:03:41.915Z"
   },
   {
    "duration": 1404,
    "start_time": "2025-03-11T19:03:43.599Z"
   },
   {
    "duration": 7440,
    "start_time": "2025-03-11T19:03:45.005Z"
   },
   {
    "duration": 67,
    "start_time": "2025-03-11T19:03:52.447Z"
   },
   {
    "duration": 5,
    "start_time": "2025-03-11T19:03:52.515Z"
   },
   {
    "duration": 78,
    "start_time": "2025-03-11T19:03:52.521Z"
   },
   {
    "duration": 3,
    "start_time": "2025-03-11T19:03:52.613Z"
   },
   {
    "duration": 55,
    "start_time": "2025-03-11T19:03:52.618Z"
   },
   {
    "duration": 4,
    "start_time": "2025-03-11T19:03:52.675Z"
   },
   {
    "duration": 153396,
    "start_time": "2025-03-11T19:03:52.680Z"
   },
   {
    "duration": 37,
    "start_time": "2025-03-11T19:06:26.078Z"
   },
   {
    "duration": 757828,
    "start_time": "2025-03-11T19:06:26.116Z"
   },
   {
    "duration": 68,
    "start_time": "2025-03-11T19:19:03.946Z"
   },
   {
    "duration": 17,
    "start_time": "2025-03-11T19:19:04.016Z"
   },
   {
    "duration": 17,
    "start_time": "2025-03-11T19:19:04.035Z"
   },
   {
    "duration": 0,
    "start_time": "2025-03-11T19:19:04.054Z"
   },
   {
    "duration": 0,
    "start_time": "2025-03-11T19:19:04.056Z"
   },
   {
    "duration": 0,
    "start_time": "2025-03-11T19:19:04.057Z"
   },
   {
    "duration": 6,
    "start_time": "2025-03-11T19:29:10.039Z"
   },
   {
    "duration": 4961,
    "start_time": "2025-03-11T19:29:36.019Z"
   },
   {
    "duration": 1493,
    "start_time": "2025-03-11T19:29:40.982Z"
   },
   {
    "duration": 37,
    "start_time": "2025-03-11T19:29:42.477Z"
   },
   {
    "duration": 1184,
    "start_time": "2025-03-11T19:29:42.516Z"
   },
   {
    "duration": 4,
    "start_time": "2025-03-11T19:29:43.702Z"
   },
   {
    "duration": 109,
    "start_time": "2025-03-11T19:29:43.708Z"
   },
   {
    "duration": 143,
    "start_time": "2025-03-11T19:29:43.818Z"
   },
   {
    "duration": 102,
    "start_time": "2025-03-11T19:29:43.963Z"
   },
   {
    "duration": 98,
    "start_time": "2025-03-11T19:29:44.066Z"
   },
   {
    "duration": 66,
    "start_time": "2025-03-11T19:29:44.167Z"
   },
   {
    "duration": 14,
    "start_time": "2025-03-11T19:29:44.235Z"
   },
   {
    "duration": 11,
    "start_time": "2025-03-11T19:29:44.250Z"
   },
   {
    "duration": 61,
    "start_time": "2025-03-11T19:29:44.263Z"
   },
   {
    "duration": 9,
    "start_time": "2025-03-11T19:29:44.326Z"
   },
   {
    "duration": 20,
    "start_time": "2025-03-11T19:29:44.337Z"
   },
   {
    "duration": 62,
    "start_time": "2025-03-11T19:29:44.358Z"
   },
   {
    "duration": 20,
    "start_time": "2025-03-11T19:29:44.422Z"
   },
   {
    "duration": 11,
    "start_time": "2025-03-11T19:29:44.444Z"
   },
   {
    "duration": 30,
    "start_time": "2025-03-11T19:29:44.457Z"
   },
   {
    "duration": 9,
    "start_time": "2025-03-11T19:29:44.513Z"
   },
   {
    "duration": 19,
    "start_time": "2025-03-11T19:29:44.523Z"
   },
   {
    "duration": 3,
    "start_time": "2025-03-11T19:29:44.544Z"
   },
   {
    "duration": 65,
    "start_time": "2025-03-11T19:29:44.549Z"
   },
   {
    "duration": 4,
    "start_time": "2025-03-11T19:29:44.615Z"
   },
   {
    "duration": 24,
    "start_time": "2025-03-11T19:29:44.620Z"
   },
   {
    "duration": 20,
    "start_time": "2025-03-11T19:29:44.646Z"
   },
   {
    "duration": 55,
    "start_time": "2025-03-11T19:29:44.668Z"
   },
   {
    "duration": 4,
    "start_time": "2025-03-11T19:29:44.727Z"
   },
   {
    "duration": 76,
    "start_time": "2025-03-11T19:29:44.732Z"
   },
   {
    "duration": 1615,
    "start_time": "2025-03-11T19:29:44.810Z"
   },
   {
    "duration": 20,
    "start_time": "2025-03-11T19:29:46.427Z"
   },
   {
    "duration": 1686,
    "start_time": "2025-03-11T19:29:46.449Z"
   },
   {
    "duration": 15,
    "start_time": "2025-03-11T19:29:48.137Z"
   },
   {
    "duration": 7,
    "start_time": "2025-03-11T19:29:48.154Z"
   },
   {
    "duration": 18,
    "start_time": "2025-03-11T19:29:48.163Z"
   },
   {
    "duration": 124,
    "start_time": "2025-03-11T19:29:48.182Z"
   },
   {
    "duration": 227,
    "start_time": "2025-03-11T19:29:48.313Z"
   },
   {
    "duration": 296,
    "start_time": "2025-03-11T19:29:48.542Z"
   },
   {
    "duration": 131,
    "start_time": "2025-03-11T19:29:48.840Z"
   },
   {
    "duration": 44,
    "start_time": "2025-03-11T19:29:48.973Z"
   },
   {
    "duration": 218,
    "start_time": "2025-03-11T19:29:49.018Z"
   },
   {
    "duration": 251,
    "start_time": "2025-03-11T19:29:49.237Z"
   },
   {
    "duration": 5,
    "start_time": "2025-03-11T19:29:49.489Z"
   },
   {
    "duration": 20,
    "start_time": "2025-03-11T19:29:49.495Z"
   },
   {
    "duration": 23,
    "start_time": "2025-03-11T19:29:49.516Z"
   },
   {
    "duration": 30,
    "start_time": "2025-03-11T19:29:49.541Z"
   },
   {
    "duration": 192,
    "start_time": "2025-03-11T19:29:49.573Z"
   },
   {
    "duration": 226,
    "start_time": "2025-03-11T19:29:49.767Z"
   },
   {
    "duration": 22,
    "start_time": "2025-03-11T19:29:49.995Z"
   },
   {
    "duration": 128,
    "start_time": "2025-03-11T19:29:50.018Z"
   },
   {
    "duration": 1443,
    "start_time": "2025-03-11T19:29:50.147Z"
   },
   {
    "duration": 1355,
    "start_time": "2025-03-11T19:29:51.592Z"
   },
   {
    "duration": 7275,
    "start_time": "2025-03-11T19:29:52.949Z"
   },
   {
    "duration": 56,
    "start_time": "2025-03-11T19:30:00.226Z"
   },
   {
    "duration": 3,
    "start_time": "2025-03-11T19:30:00.284Z"
   },
   {
    "duration": 96,
    "start_time": "2025-03-11T19:30:00.289Z"
   },
   {
    "duration": 3,
    "start_time": "2025-03-11T19:30:00.387Z"
   },
   {
    "duration": 57,
    "start_time": "2025-03-11T19:30:00.391Z"
   },
   {
    "duration": 4,
    "start_time": "2025-03-11T19:30:00.450Z"
   },
   {
    "duration": 148014,
    "start_time": "2025-03-11T19:30:00.456Z"
   },
   {
    "duration": 24,
    "start_time": "2025-03-11T19:32:28.472Z"
   },
   {
    "duration": 778424,
    "start_time": "2025-03-11T19:32:28.498Z"
   },
   {
    "duration": 17,
    "start_time": "2025-03-11T19:45:26.924Z"
   },
   {
    "duration": 15,
    "start_time": "2025-03-11T19:45:26.942Z"
   },
   {
    "duration": 220109,
    "start_time": "2025-03-11T19:45:26.959Z"
   },
   {
    "duration": 409,
    "start_time": "2025-03-11T19:49:07.070Z"
   },
   {
    "duration": 33759,
    "start_time": "2025-03-11T19:49:07.480Z"
   },
   {
    "duration": 7,
    "start_time": "2025-03-11T19:49:41.241Z"
   }
  ],
  "kernelspec": {
   "display_name": "Python 3 (ipykernel)",
   "language": "python",
   "name": "python3"
  },
  "language_info": {
   "codemirror_mode": {
    "name": "ipython",
    "version": 3
   },
   "file_extension": ".py",
   "mimetype": "text/x-python",
   "name": "python",
   "nbconvert_exporter": "python",
   "pygments_lexer": "ipython3",
   "version": "3.12.4"
  },
  "toc": {
   "base_numbering": 1,
   "nav_menu": {
    "height": "189px",
    "width": "201px"
   },
   "number_sections": true,
   "sideBar": true,
   "skip_h1_title": true,
   "title_cell": "Table of Contents",
   "title_sidebar": "Contents",
   "toc_cell": false,
   "toc_position": {
    "height": "calc(100% - 180px)",
    "left": "10px",
    "top": "150px",
    "width": "249px"
   },
   "toc_section_display": true,
   "toc_window_display": true
  }
 },
 "nbformat": 4,
 "nbformat_minor": 4
}
