{
 "cells": [
  {
   "cell_type": "markdown",
   "id": "f49695c4",
   "metadata": {},
   "source": [
    "## Загрузка и изучение данных"
   ]
  },
  {
   "cell_type": "code",
   "execution_count": 1,
   "id": "43978331",
   "metadata": {},
   "outputs": [],
   "source": [
    "# импортируем библиотеки\n",
    "import pandas as pd\n",
    "import numpy as np\n",
    "from scipy import stats as st\n",
    "from matplotlib import pyplot as plt\n",
    "from scipy.stats import binom, norm\n",
    "from math import sqrt"
   ]
  },
  {
   "cell_type": "markdown",
   "id": "634f734d",
   "metadata": {},
   "source": [
    "Загружаем файлы датасетов, создаем датафреймы, выводим первые 15 строк и основную информацию о них для ознакомления"
   ]
  },
  {
   "cell_type": "code",
   "execution_count": 2,
   "id": "e51e547e",
   "metadata": {},
   "outputs": [
    {
     "data": {
      "text/html": [
       "<div>\n",
       "<style scoped>\n",
       "    .dataframe tbody tr th:only-of-type {\n",
       "        vertical-align: middle;\n",
       "    }\n",
       "\n",
       "    .dataframe tbody tr th {\n",
       "        vertical-align: top;\n",
       "    }\n",
       "\n",
       "    .dataframe thead th {\n",
       "        text-align: right;\n",
       "    }\n",
       "</style>\n",
       "<table border=\"1\" class=\"dataframe\">\n",
       "  <thead>\n",
       "    <tr style=\"text-align: right;\">\n",
       "      <th></th>\n",
       "      <th>user_id</th>\n",
       "      <th>name</th>\n",
       "      <th>age</th>\n",
       "      <th>city</th>\n",
       "      <th>subscription_type</th>\n",
       "    </tr>\n",
       "  </thead>\n",
       "  <tbody>\n",
       "    <tr>\n",
       "      <th>0</th>\n",
       "      <td>1</td>\n",
       "      <td>Кира</td>\n",
       "      <td>22</td>\n",
       "      <td>Тюмень</td>\n",
       "      <td>ultra</td>\n",
       "    </tr>\n",
       "    <tr>\n",
       "      <th>1</th>\n",
       "      <td>2</td>\n",
       "      <td>Станислав</td>\n",
       "      <td>31</td>\n",
       "      <td>Омск</td>\n",
       "      <td>ultra</td>\n",
       "    </tr>\n",
       "    <tr>\n",
       "      <th>2</th>\n",
       "      <td>3</td>\n",
       "      <td>Алексей</td>\n",
       "      <td>20</td>\n",
       "      <td>Москва</td>\n",
       "      <td>ultra</td>\n",
       "    </tr>\n",
       "    <tr>\n",
       "      <th>3</th>\n",
       "      <td>4</td>\n",
       "      <td>Константин</td>\n",
       "      <td>26</td>\n",
       "      <td>Ростов-на-Дону</td>\n",
       "      <td>ultra</td>\n",
       "    </tr>\n",
       "    <tr>\n",
       "      <th>4</th>\n",
       "      <td>5</td>\n",
       "      <td>Адель</td>\n",
       "      <td>28</td>\n",
       "      <td>Омск</td>\n",
       "      <td>ultra</td>\n",
       "    </tr>\n",
       "    <tr>\n",
       "      <th>5</th>\n",
       "      <td>6</td>\n",
       "      <td>Регина</td>\n",
       "      <td>25</td>\n",
       "      <td>Краснодар</td>\n",
       "      <td>ultra</td>\n",
       "    </tr>\n",
       "    <tr>\n",
       "      <th>6</th>\n",
       "      <td>7</td>\n",
       "      <td>Игорь</td>\n",
       "      <td>23</td>\n",
       "      <td>Омск</td>\n",
       "      <td>ultra</td>\n",
       "    </tr>\n",
       "    <tr>\n",
       "      <th>7</th>\n",
       "      <td>8</td>\n",
       "      <td>Юрий</td>\n",
       "      <td>23</td>\n",
       "      <td>Краснодар</td>\n",
       "      <td>ultra</td>\n",
       "    </tr>\n",
       "    <tr>\n",
       "      <th>8</th>\n",
       "      <td>9</td>\n",
       "      <td>Ян</td>\n",
       "      <td>21</td>\n",
       "      <td>Пятигорск</td>\n",
       "      <td>ultra</td>\n",
       "    </tr>\n",
       "    <tr>\n",
       "      <th>9</th>\n",
       "      <td>10</td>\n",
       "      <td>Валерий</td>\n",
       "      <td>18</td>\n",
       "      <td>Екатеринбург</td>\n",
       "      <td>ultra</td>\n",
       "    </tr>\n",
       "    <tr>\n",
       "      <th>10</th>\n",
       "      <td>11</td>\n",
       "      <td>Агата</td>\n",
       "      <td>31</td>\n",
       "      <td>Краснодар</td>\n",
       "      <td>ultra</td>\n",
       "    </tr>\n",
       "    <tr>\n",
       "      <th>11</th>\n",
       "      <td>12</td>\n",
       "      <td>Марк</td>\n",
       "      <td>27</td>\n",
       "      <td>Тюмень</td>\n",
       "      <td>ultra</td>\n",
       "    </tr>\n",
       "    <tr>\n",
       "      <th>12</th>\n",
       "      <td>13</td>\n",
       "      <td>Ева</td>\n",
       "      <td>24</td>\n",
       "      <td>Краснодар</td>\n",
       "      <td>ultra</td>\n",
       "    </tr>\n",
       "    <tr>\n",
       "      <th>13</th>\n",
       "      <td>14</td>\n",
       "      <td>Антонина</td>\n",
       "      <td>18</td>\n",
       "      <td>Пятигорск</td>\n",
       "      <td>ultra</td>\n",
       "    </tr>\n",
       "    <tr>\n",
       "      <th>14</th>\n",
       "      <td>15</td>\n",
       "      <td>Валерия</td>\n",
       "      <td>24</td>\n",
       "      <td>Тюмень</td>\n",
       "      <td>ultra</td>\n",
       "    </tr>\n",
       "  </tbody>\n",
       "</table>\n",
       "</div>"
      ],
      "text/plain": [
       "    user_id        name  age            city subscription_type\n",
       "0         1        Кира   22          Тюмень             ultra\n",
       "1         2   Станислав   31            Омск             ultra\n",
       "2         3     Алексей   20          Москва             ultra\n",
       "3         4  Константин   26  Ростов-на-Дону             ultra\n",
       "4         5       Адель   28            Омск             ultra\n",
       "5         6      Регина   25       Краснодар             ultra\n",
       "6         7       Игорь   23            Омск             ultra\n",
       "7         8        Юрий   23       Краснодар             ultra\n",
       "8         9          Ян   21       Пятигорск             ultra\n",
       "9        10     Валерий   18    Екатеринбург             ultra\n",
       "10       11       Агата   31       Краснодар             ultra\n",
       "11       12        Марк   27          Тюмень             ultra\n",
       "12       13         Ева   24       Краснодар             ultra\n",
       "13       14    Антонина   18       Пятигорск             ultra\n",
       "14       15     Валерия   24          Тюмень             ultra"
      ]
     },
     "metadata": {},
     "output_type": "display_data"
    },
    {
     "name": "stdout",
     "output_type": "stream",
     "text": [
      "<class 'pandas.core.frame.DataFrame'>\n",
      "RangeIndex: 1565 entries, 0 to 1564\n",
      "Data columns (total 5 columns):\n",
      " #   Column             Non-Null Count  Dtype \n",
      "---  ------             --------------  ----- \n",
      " 0   user_id            1565 non-null   int64 \n",
      " 1   name               1565 non-null   object\n",
      " 2   age                1565 non-null   int64 \n",
      " 3   city               1565 non-null   object\n",
      " 4   subscription_type  1565 non-null   object\n",
      "dtypes: int64(2), object(3)\n",
      "memory usage: 61.3+ KB\n"
     ]
    },
    {
     "data": {
      "text/html": [
       "<div>\n",
       "<style scoped>\n",
       "    .dataframe tbody tr th:only-of-type {\n",
       "        vertical-align: middle;\n",
       "    }\n",
       "\n",
       "    .dataframe tbody tr th {\n",
       "        vertical-align: top;\n",
       "    }\n",
       "\n",
       "    .dataframe thead th {\n",
       "        text-align: right;\n",
       "    }\n",
       "</style>\n",
       "<table border=\"1\" class=\"dataframe\">\n",
       "  <thead>\n",
       "    <tr style=\"text-align: right;\">\n",
       "      <th></th>\n",
       "      <th>user_id</th>\n",
       "      <th>distance</th>\n",
       "      <th>duration</th>\n",
       "      <th>date</th>\n",
       "    </tr>\n",
       "  </thead>\n",
       "  <tbody>\n",
       "    <tr>\n",
       "      <th>0</th>\n",
       "      <td>1</td>\n",
       "      <td>4409.919140</td>\n",
       "      <td>25.599769</td>\n",
       "      <td>2021-01-01</td>\n",
       "    </tr>\n",
       "    <tr>\n",
       "      <th>1</th>\n",
       "      <td>1</td>\n",
       "      <td>2617.592153</td>\n",
       "      <td>15.816871</td>\n",
       "      <td>2021-01-18</td>\n",
       "    </tr>\n",
       "    <tr>\n",
       "      <th>2</th>\n",
       "      <td>1</td>\n",
       "      <td>754.159807</td>\n",
       "      <td>6.232113</td>\n",
       "      <td>2021-04-20</td>\n",
       "    </tr>\n",
       "    <tr>\n",
       "      <th>3</th>\n",
       "      <td>1</td>\n",
       "      <td>2694.783254</td>\n",
       "      <td>18.511000</td>\n",
       "      <td>2021-08-11</td>\n",
       "    </tr>\n",
       "    <tr>\n",
       "      <th>4</th>\n",
       "      <td>1</td>\n",
       "      <td>4028.687306</td>\n",
       "      <td>26.265803</td>\n",
       "      <td>2021-08-28</td>\n",
       "    </tr>\n",
       "    <tr>\n",
       "      <th>5</th>\n",
       "      <td>1</td>\n",
       "      <td>2770.890808</td>\n",
       "      <td>16.650138</td>\n",
       "      <td>2021-10-09</td>\n",
       "    </tr>\n",
       "    <tr>\n",
       "      <th>6</th>\n",
       "      <td>1</td>\n",
       "      <td>3039.020292</td>\n",
       "      <td>14.927879</td>\n",
       "      <td>2021-10-19</td>\n",
       "    </tr>\n",
       "    <tr>\n",
       "      <th>7</th>\n",
       "      <td>1</td>\n",
       "      <td>2842.118050</td>\n",
       "      <td>23.117468</td>\n",
       "      <td>2021-11-06</td>\n",
       "    </tr>\n",
       "    <tr>\n",
       "      <th>8</th>\n",
       "      <td>1</td>\n",
       "      <td>3412.690668</td>\n",
       "      <td>15.238072</td>\n",
       "      <td>2021-11-14</td>\n",
       "    </tr>\n",
       "    <tr>\n",
       "      <th>9</th>\n",
       "      <td>1</td>\n",
       "      <td>748.690645</td>\n",
       "      <td>15.041884</td>\n",
       "      <td>2021-11-22</td>\n",
       "    </tr>\n",
       "    <tr>\n",
       "      <th>10</th>\n",
       "      <td>1</td>\n",
       "      <td>4031.020195</td>\n",
       "      <td>17.674448</td>\n",
       "      <td>2021-12-14</td>\n",
       "    </tr>\n",
       "    <tr>\n",
       "      <th>11</th>\n",
       "      <td>1</td>\n",
       "      <td>2720.609748</td>\n",
       "      <td>9.529463</td>\n",
       "      <td>2021-12-22</td>\n",
       "    </tr>\n",
       "    <tr>\n",
       "      <th>12</th>\n",
       "      <td>2</td>\n",
       "      <td>3105.086678</td>\n",
       "      <td>24.307514</td>\n",
       "      <td>2021-03-15</td>\n",
       "    </tr>\n",
       "    <tr>\n",
       "      <th>13</th>\n",
       "      <td>2</td>\n",
       "      <td>3053.519401</td>\n",
       "      <td>11.543256</td>\n",
       "      <td>2021-03-18</td>\n",
       "    </tr>\n",
       "    <tr>\n",
       "      <th>14</th>\n",
       "      <td>2</td>\n",
       "      <td>4029.116927</td>\n",
       "      <td>25.109188</td>\n",
       "      <td>2021-03-23</td>\n",
       "    </tr>\n",
       "  </tbody>\n",
       "</table>\n",
       "</div>"
      ],
      "text/plain": [
       "    user_id     distance   duration        date\n",
       "0         1  4409.919140  25.599769  2021-01-01\n",
       "1         1  2617.592153  15.816871  2021-01-18\n",
       "2         1   754.159807   6.232113  2021-04-20\n",
       "3         1  2694.783254  18.511000  2021-08-11\n",
       "4         1  4028.687306  26.265803  2021-08-28\n",
       "5         1  2770.890808  16.650138  2021-10-09\n",
       "6         1  3039.020292  14.927879  2021-10-19\n",
       "7         1  2842.118050  23.117468  2021-11-06\n",
       "8         1  3412.690668  15.238072  2021-11-14\n",
       "9         1   748.690645  15.041884  2021-11-22\n",
       "10        1  4031.020195  17.674448  2021-12-14\n",
       "11        1  2720.609748   9.529463  2021-12-22\n",
       "12        2  3105.086678  24.307514  2021-03-15\n",
       "13        2  3053.519401  11.543256  2021-03-18\n",
       "14        2  4029.116927  25.109188  2021-03-23"
      ]
     },
     "metadata": {},
     "output_type": "display_data"
    },
    {
     "name": "stdout",
     "output_type": "stream",
     "text": [
      "<class 'pandas.core.frame.DataFrame'>\n",
      "RangeIndex: 18068 entries, 0 to 18067\n",
      "Data columns (total 4 columns):\n",
      " #   Column    Non-Null Count  Dtype  \n",
      "---  ------    --------------  -----  \n",
      " 0   user_id   18068 non-null  int64  \n",
      " 1   distance  18068 non-null  float64\n",
      " 2   duration  18068 non-null  float64\n",
      " 3   date      18068 non-null  object \n",
      "dtypes: float64(2), int64(1), object(1)\n",
      "memory usage: 564.8+ KB\n"
     ]
    },
    {
     "data": {
      "text/html": [
       "<div>\n",
       "<style scoped>\n",
       "    .dataframe tbody tr th:only-of-type {\n",
       "        vertical-align: middle;\n",
       "    }\n",
       "\n",
       "    .dataframe tbody tr th {\n",
       "        vertical-align: top;\n",
       "    }\n",
       "\n",
       "    .dataframe thead th {\n",
       "        text-align: right;\n",
       "    }\n",
       "</style>\n",
       "<table border=\"1\" class=\"dataframe\">\n",
       "  <thead>\n",
       "    <tr style=\"text-align: right;\">\n",
       "      <th></th>\n",
       "      <th>subscription_type</th>\n",
       "      <th>minute_price</th>\n",
       "      <th>start_ride_price</th>\n",
       "      <th>subscription_fee</th>\n",
       "    </tr>\n",
       "  </thead>\n",
       "  <tbody>\n",
       "    <tr>\n",
       "      <th>0</th>\n",
       "      <td>free</td>\n",
       "      <td>8</td>\n",
       "      <td>50</td>\n",
       "      <td>0</td>\n",
       "    </tr>\n",
       "    <tr>\n",
       "      <th>1</th>\n",
       "      <td>ultra</td>\n",
       "      <td>6</td>\n",
       "      <td>0</td>\n",
       "      <td>199</td>\n",
       "    </tr>\n",
       "  </tbody>\n",
       "</table>\n",
       "</div>"
      ],
      "text/plain": [
       "  subscription_type  minute_price  start_ride_price  subscription_fee\n",
       "0              free             8                50                 0\n",
       "1             ultra             6                 0               199"
      ]
     },
     "metadata": {},
     "output_type": "display_data"
    },
    {
     "name": "stdout",
     "output_type": "stream",
     "text": [
      "<class 'pandas.core.frame.DataFrame'>\n",
      "RangeIndex: 2 entries, 0 to 1\n",
      "Data columns (total 4 columns):\n",
      " #   Column             Non-Null Count  Dtype \n",
      "---  ------             --------------  ----- \n",
      " 0   subscription_type  2 non-null      object\n",
      " 1   minute_price       2 non-null      int64 \n",
      " 2   start_ride_price   2 non-null      int64 \n",
      " 3   subscription_fee   2 non-null      int64 \n",
      "dtypes: int64(3), object(1)\n",
      "memory usage: 192.0+ bytes\n"
     ]
    }
   ],
   "source": [
    "#открываем файлы датасетов и создаем датафреймы\n",
    "try:\n",
    "    data_users = pd.read_csv('/datasets/users_go.csv')\n",
    "    data_rides = pd.read_csv('/datasets/rides_go.csv')\n",
    "    data_subscriptions = pd.read_csv('/datasets/subscriptions_go.csv')\n",
    "except:\n",
    "    data_users = pd.read_csv('https://.../datasets/users_go.csv') #часть ссылки скрыта ввиду NDA\n",
    "    data_rides = pd.read_csv('https://.../datasets/rides_go.csv') #часть ссылки скрыта ввиду NDA\n",
    "    data_subscriptions = pd.read_csv('https://.../datasets/subscriptions_go.csv') #часть ссылки скрыта ввиду NDA\n",
    "\n",
    "#выводим первые 15 строк и основную информацию для каждого датафрейма\n",
    "for d in [data_users,data_rides,data_subscriptions]:\n",
    "    display(d.head(15))\n",
    "    d.info()"
   ]
  },
  {
   "cell_type": "markdown",
   "id": "aee22f1a",
   "metadata": {},
   "source": [
    "**Созданы 3 датафрейма из исходных датасетов с данными для последующей предобработки:**\n",
    "\n",
    "- data_users с информацией о пользователях 1565 строк\n",
    "- data_rides с информацией о поездках, 18068 строк\n",
    "- data_subscriptions с информацией о подписках, 2 строки\n",
    "\n",
    "**Исходные данные:**\n",
    "\n",
    "- не имеют строк с явными пропущенными значениями, все строки заполнены значениями\n",
    "- общее кол-во строк со значениями во всех столбцах одинаково.\n",
    "- типы данных столбцов соответсвуют типам находящихся в них значений, для дальнейшей работы необходимо изменить тип данных только в столбце date датафрейма data_rides на временной\n",
    "- названия столбцов приведены к \"змеиному\" регистру"
   ]
  },
  {
   "cell_type": "markdown",
   "id": "5627c17e",
   "metadata": {},
   "source": [
    "## Предобработка данных"
   ]
  },
  {
   "cell_type": "markdown",
   "id": "453e3a4a",
   "metadata": {},
   "source": [
    "### Удаление пропусков"
   ]
  },
  {
   "cell_type": "code",
   "execution_count": 9,
   "id": "7d572d58",
   "metadata": {},
   "outputs": [
    {
     "data": {
      "text/plain": [
       "user_id              0\n",
       "name                 0\n",
       "age                  0\n",
       "city                 0\n",
       "subscription_type    0\n",
       "dtype: int64"
      ]
     },
     "execution_count": 9,
     "metadata": {},
     "output_type": "execute_result"
    }
   ],
   "source": [
    "#проверка пропусков в датафрейме users\n",
    "data_users.isna().sum()"
   ]
  },
  {
   "cell_type": "code",
   "execution_count": 10,
   "id": "a9ff8d63",
   "metadata": {},
   "outputs": [
    {
     "data": {
      "text/plain": [
       "user_id     0\n",
       "distance    0\n",
       "duration    0\n",
       "date        0\n",
       "dtype: int64"
      ]
     },
     "execution_count": 10,
     "metadata": {},
     "output_type": "execute_result"
    }
   ],
   "source": [
    "#проверка пропусков в датафрейме rides\n",
    "data_rides.isna().sum()"
   ]
  },
  {
   "cell_type": "code",
   "execution_count": 11,
   "id": "03da39c8",
   "metadata": {},
   "outputs": [
    {
     "data": {
      "text/plain": [
       "subscription_type    0\n",
       "minute_price         0\n",
       "start_ride_price     0\n",
       "subscription_fee     0\n",
       "dtype: int64"
      ]
     },
     "execution_count": 11,
     "metadata": {},
     "output_type": "execute_result"
    }
   ],
   "source": [
    "#проверка пропусков в датафрейме subscriptions\n",
    "data_subscriptions.isna().sum()"
   ]
  },
  {
   "cell_type": "markdown",
   "id": "9d95d292",
   "metadata": {},
   "source": [
    "**Пропуски в датафреймах отсутствуют**"
   ]
  },
  {
   "cell_type": "markdown",
   "id": "48c97b21",
   "metadata": {},
   "source": [
    "### Обработка аномальных значений"
   ]
  },
  {
   "cell_type": "code",
   "execution_count": 12,
   "id": "a9add3ce",
   "metadata": {},
   "outputs": [
    {
     "data": {
      "text/plain": [
       "25    149\n",
       "26    133\n",
       "23    133\n",
       "24    132\n",
       "27    124\n",
       "22    120\n",
       "28    116\n",
       "21     94\n",
       "20     72\n",
       "29     72\n",
       "30     70\n",
       "19     49\n",
       "31     48\n",
       "18     46\n",
       "32     41\n",
       "33     40\n",
       "17     26\n",
       "16     19\n",
       "34     19\n",
       "35     15\n",
       "15     13\n",
       "14      9\n",
       "13      8\n",
       "36      6\n",
       "12      4\n",
       "38      3\n",
       "37      2\n",
       "39      1\n",
       "43      1\n",
       "Name: age, dtype: int64"
      ]
     },
     "execution_count": 12,
     "metadata": {},
     "output_type": "execute_result"
    }
   ],
   "source": [
    "#смотрим кол-во поездок по возрастам\n",
    "data_users['age'].value_counts().sort_values(ascending = False)"
   ]
  },
  {
   "cell_type": "code",
   "execution_count": 13,
   "id": "2921d165",
   "metadata": {},
   "outputs": [
    {
     "data": {
      "text/plain": [
       "Int64Index([43, 39, 38, 37, 36, 35, 34, 33, 32, 31, 30, 29, 28, 27, 26, 25, 24,\n",
       "            23, 22, 21, 20, 19, 18, 17, 16, 15, 14, 13, 12],\n",
       "           dtype='int64')"
      ]
     },
     "execution_count": 13,
     "metadata": {},
     "output_type": "execute_result"
    }
   ],
   "source": [
    "#проверяем сами возраста клиентов\n",
    "data_users['age'].value_counts().index.sort_values(ascending = False)"
   ]
  },
  {
   "cell_type": "code",
   "execution_count": 14,
   "id": "602448cb",
   "metadata": {},
   "outputs": [
    {
     "data": {
      "text/plain": [
       "array(['Агата', 'Аделина', 'Адель', 'Айдар', 'Александр', 'Александра',\n",
       "       'Алексей', 'Алина', 'Алиса', 'Алия', 'Алла', 'Альберт', 'Альбина',\n",
       "       'Алёна', 'Амалия', 'Амина', 'Амир', 'Анастасия', 'Анатолий',\n",
       "       'Ангелина', 'Андрей', 'Анжелика', 'Анна', 'Антон', 'Антонина',\n",
       "       'Ариана', 'Арина', 'Арсен', 'Арсений', 'Артемий', 'Артур', 'Артём',\n",
       "       'Богдан', 'Борис', 'Вадим', 'Валентина', 'Валерий', 'Валерия',\n",
       "       'Варвара', 'Василий', 'Василина', 'Василиса', 'Вера', 'Вероника',\n",
       "       'Виктор', 'Виктория', 'Виолетта', 'Виталий', 'Виталина', 'Влад',\n",
       "       'Влада', 'Владимир', 'Владислав', 'Владислава', 'Всеволод',\n",
       "       'Вячеслав', 'Галина', 'Георгий', 'Герман', 'Глеб', 'Гордей',\n",
       "       'Григорий', 'Давид', 'Дамир', 'Даниил', 'Данил', 'Данила',\n",
       "       'Даниэль', 'Дарина', 'Дарья', 'Демид', 'Денис', 'Диана', 'Дмитрий',\n",
       "       'Ева', 'Евгений', 'Евгения', 'Егор', 'Екатерина', 'Елена',\n",
       "       'Елизавета', 'Елисей', 'Есения', 'Жанна', 'Зарина', 'Захар',\n",
       "       'Злата', 'Иван', 'Игнат', 'Игорь', 'Ильдар', 'Илья', 'Инна',\n",
       "       'Ирина', 'Камилла', 'Карина', 'Каролина', 'Кира', 'Кирилл',\n",
       "       'Константин', 'Кристина', 'Ксения', 'Лариса', 'Лев', 'Леонид',\n",
       "       'Лиана', 'Лидия', 'Лилия', 'Любовь', 'Людмила', 'Мадина', 'Майя',\n",
       "       'Макар', 'Максим', 'Марат', 'Маргарита', 'Марина', 'Мария', 'Марк',\n",
       "       'Марсель', 'Матвей', 'Мелания', 'Милана', 'Милена', 'Мирон',\n",
       "       'Мирослав', 'Мирослава', 'Михаил', 'Назар', 'Наталия', 'Наталья',\n",
       "       'Наташа', 'Нелли', 'Ника', 'Никита', 'Николай', 'Нина', 'Одиссей',\n",
       "       'Оксана', 'Олег', 'Олеся', 'Ольга', 'Павел', 'Петр', 'Платон',\n",
       "       'Полина', 'Радмир', 'Рамиль', 'Регина', 'Роберт', 'Родион',\n",
       "       'Роман', 'Ростислав', 'Руслан', 'Рустам', 'Савелий', 'Самир',\n",
       "       'Самира', 'Светлана', 'Святогор', 'Святослав', 'Семен', 'Сергей',\n",
       "       'Снежана', 'София', 'Софья', 'Станислав', 'Степан', 'Стефания',\n",
       "       'Таисия', 'Тамара', 'Тамерлан', 'Татьяна', 'Тимофей', 'Тимур',\n",
       "       'Тихон', 'Ульяна', 'Федор', 'Эвелина', 'Эдуард', 'Элина',\n",
       "       'Эльвира', 'Эльмира', 'Эмилия', 'Эмиль', 'Юлиана', 'Юлия', 'Юрий',\n",
       "       'Ян', 'Яна', 'Яромир', 'Ярослав', 'Ярослава', 'Ясмина'],\n",
       "      dtype=object)"
      ]
     },
     "execution_count": 14,
     "metadata": {},
     "output_type": "execute_result"
    }
   ],
   "source": [
    "#проверим имена на аномальные значения\n",
    "data_users['name'].sort_values().unique()"
   ]
  },
  {
   "cell_type": "code",
   "execution_count": 15,
   "id": "09af7cfd",
   "metadata": {},
   "outputs": [
    {
     "data": {
      "text/plain": [
       "array(['free', 'ultra'], dtype=object)"
      ]
     },
     "execution_count": 15,
     "metadata": {},
     "output_type": "execute_result"
    }
   ],
   "source": [
    "#проверим значения в таблице с описанием подписки на аномальные значения\n",
    "data_users['subscription_type'].sort_values().unique()"
   ]
  },
  {
   "cell_type": "code",
   "execution_count": 17,
   "id": "4347ddb1",
   "metadata": {},
   "outputs": [
    {
     "data": {
      "image/png": "[encoded data removed]",
      "text/plain": [
       "<Figure size 576x180 with 1 Axes>"
      ]
     },
     "metadata": {
      "needs_background": "light"
     },
     "output_type": "display_data"
    },
    {
     "data": {
      "image/png": "[encoded data removed]",
      "text/plain": [
       "<Figure size 576x180 with 1 Axes>"
      ]
     },
     "metadata": {
      "needs_background": "light"
     },
     "output_type": "display_data"
    }
   ],
   "source": [
    "#построим первичные гистограммы для столбцов дистанция и длительность для выявления аномалий\n",
    "data_rides['distance'].plot(kind = 'hist', figsize = (8,2.5), ylabel = 'кол-во', title = 'Дальность поездок', bins = 300)\n",
    "plt.xlabel('Расстояние, м')\n",
    "plt.ylabel('Кол-во поездок')\n",
    "plt.show()\n",
    "data_rides['duration'].plot(kind = 'hist', figsize = (8,2.5), title = 'Длительность поездок', bins = 300)\n",
    "plt.xlabel('Длительность, мин')\n",
    "plt.ylabel('Кол-во поездок')\n",
    "plt.show()"
   ]
  },
  {
   "cell_type": "markdown",
   "id": "9ca2b5cd",
   "metadata": {},
   "source": [
    "*Виден аномальный пик длительности в районе 1 минуты, нужно проверить это связано с нахождением технической неисправности в самокате или с некорректностью данных. Проверим какие расстояния преодолевали пользователи при такой малой длительности*"
   ]
  },
  {
   "cell_type": "code",
   "execution_count": 18,
   "id": "7236205b",
   "metadata": {},
   "outputs": [
    {
     "data": {
      "text/plain": [
       "distance    7211.007745\n",
       "duration      40.823963\n",
       "dtype: float64"
      ]
     },
     "execution_count": 18,
     "metadata": {},
     "output_type": "execute_result"
    }
   ],
   "source": [
    "#проверяем максимальные значения в столбцах distance, duration\n",
    "data_rides[['distance','duration']].max()"
   ]
  },
  {
   "cell_type": "code",
   "execution_count": 19,
   "id": "934619c4",
   "metadata": {},
   "outputs": [
    {
     "data": {
      "text/plain": [
       "distance    0.855683\n",
       "duration    0.500000\n",
       "dtype: float64"
      ]
     },
     "execution_count": 19,
     "metadata": {},
     "output_type": "execute_result"
    }
   ],
   "source": [
    "#проверяем минимальные значения в столбцах distance, duration\n",
    "data_rides[['distance','duration']].min()"
   ]
  },
  {
   "cell_type": "code",
   "execution_count": 20,
   "id": "384d5333",
   "metadata": {},
   "outputs": [
    {
     "data": {
      "text/html": [
       "<div>\n",
       "<style scoped>\n",
       "    .dataframe tbody tr th:only-of-type {\n",
       "        vertical-align: middle;\n",
       "    }\n",
       "\n",
       "    .dataframe tbody tr th {\n",
       "        vertical-align: top;\n",
       "    }\n",
       "\n",
       "    .dataframe thead th {\n",
       "        text-align: right;\n",
       "    }\n",
       "</style>\n",
       "<table border=\"1\" class=\"dataframe\">\n",
       "  <thead>\n",
       "    <tr style=\"text-align: right;\">\n",
       "      <th></th>\n",
       "      <th>user_id</th>\n",
       "      <th>distance</th>\n",
       "      <th>duration</th>\n",
       "      <th>date</th>\n",
       "    </tr>\n",
       "  </thead>\n",
       "  <tbody>\n",
       "    <tr>\n",
       "      <th>6531</th>\n",
       "      <td>701</td>\n",
       "      <td>4196.445201</td>\n",
       "      <td>0.5</td>\n",
       "      <td>2021-08-31</td>\n",
       "    </tr>\n",
       "    <tr>\n",
       "      <th>6570</th>\n",
       "      <td>704</td>\n",
       "      <td>4830.824371</td>\n",
       "      <td>0.5</td>\n",
       "      <td>2021-10-14</td>\n",
       "    </tr>\n",
       "    <tr>\n",
       "      <th>6680</th>\n",
       "      <td>712</td>\n",
       "      <td>4684.004397</td>\n",
       "      <td>0.5</td>\n",
       "      <td>2021-03-04</td>\n",
       "    </tr>\n",
       "    <tr>\n",
       "      <th>6695</th>\n",
       "      <td>713</td>\n",
       "      <td>5215.642710</td>\n",
       "      <td>0.5</td>\n",
       "      <td>2021-02-25</td>\n",
       "    </tr>\n",
       "    <tr>\n",
       "      <th>6768</th>\n",
       "      <td>718</td>\n",
       "      <td>5197.436649</td>\n",
       "      <td>0.5</td>\n",
       "      <td>2021-02-11</td>\n",
       "    </tr>\n",
       "    <tr>\n",
       "      <th>...</th>\n",
       "      <td>...</td>\n",
       "      <td>...</td>\n",
       "      <td>...</td>\n",
       "      <td>...</td>\n",
       "    </tr>\n",
       "    <tr>\n",
       "      <th>17004</th>\n",
       "      <td>1460</td>\n",
       "      <td>5531.335845</td>\n",
       "      <td>0.5</td>\n",
       "      <td>2021-01-19</td>\n",
       "    </tr>\n",
       "    <tr>\n",
       "      <th>17242</th>\n",
       "      <td>1477</td>\n",
       "      <td>6724.932981</td>\n",
       "      <td>0.5</td>\n",
       "      <td>2021-01-12</td>\n",
       "    </tr>\n",
       "    <tr>\n",
       "      <th>17314</th>\n",
       "      <td>1483</td>\n",
       "      <td>4445.481070</td>\n",
       "      <td>0.5</td>\n",
       "      <td>2021-03-06</td>\n",
       "    </tr>\n",
       "    <tr>\n",
       "      <th>17505</th>\n",
       "      <td>1496</td>\n",
       "      <td>5722.551787</td>\n",
       "      <td>0.5</td>\n",
       "      <td>2021-02-14</td>\n",
       "    </tr>\n",
       "    <tr>\n",
       "      <th>17909</th>\n",
       "      <td>1524</td>\n",
       "      <td>4103.998874</td>\n",
       "      <td>0.5</td>\n",
       "      <td>2021-06-18</td>\n",
       "    </tr>\n",
       "  </tbody>\n",
       "</table>\n",
       "<p>95 rows × 4 columns</p>\n",
       "</div>"
      ],
      "text/plain": [
       "       user_id     distance  duration        date\n",
       "6531       701  4196.445201       0.5  2021-08-31\n",
       "6570       704  4830.824371       0.5  2021-10-14\n",
       "6680       712  4684.004397       0.5  2021-03-04\n",
       "6695       713  5215.642710       0.5  2021-02-25\n",
       "6768       718  5197.436649       0.5  2021-02-11\n",
       "...        ...          ...       ...         ...\n",
       "17004     1460  5531.335845       0.5  2021-01-19\n",
       "17242     1477  6724.932981       0.5  2021-01-12\n",
       "17314     1483  4445.481070       0.5  2021-03-06\n",
       "17505     1496  5722.551787       0.5  2021-02-14\n",
       "17909     1524  4103.998874       0.5  2021-06-18\n",
       "\n",
       "[95 rows x 4 columns]"
      ]
     },
     "execution_count": 20,
     "metadata": {},
     "output_type": "execute_result"
    }
   ],
   "source": [
    "#проверяем значения столбца distance при аномально маленьких значениях длительности поездки меньше/равным 1 минуты\n",
    "data_rides.query('duration <= 1')"
   ]
  },
  {
   "cell_type": "code",
   "execution_count": 21,
   "id": "cb6790b5",
   "metadata": {},
   "outputs": [
    {
     "data": {
      "text/html": [
       "<div>\n",
       "<style scoped>\n",
       "    .dataframe tbody tr th:only-of-type {\n",
       "        vertical-align: middle;\n",
       "    }\n",
       "\n",
       "    .dataframe tbody tr th {\n",
       "        vertical-align: top;\n",
       "    }\n",
       "\n",
       "    .dataframe thead th {\n",
       "        text-align: right;\n",
       "    }\n",
       "</style>\n",
       "<table border=\"1\" class=\"dataframe\">\n",
       "  <thead>\n",
       "    <tr style=\"text-align: right;\">\n",
       "      <th></th>\n",
       "      <th>max</th>\n",
       "      <th>mean</th>\n",
       "      <th>min</th>\n",
       "    </tr>\n",
       "    <tr>\n",
       "      <th>duration</th>\n",
       "      <th></th>\n",
       "      <th></th>\n",
       "      <th></th>\n",
       "    </tr>\n",
       "  </thead>\n",
       "  <tbody>\n",
       "    <tr>\n",
       "      <th>0.5</th>\n",
       "      <td>7211.007745</td>\n",
       "      <td>5113.176549</td>\n",
       "      <td>4030.308008</td>\n",
       "    </tr>\n",
       "  </tbody>\n",
       "</table>\n",
       "</div>"
      ],
      "text/plain": [
       "                  max         mean          min\n",
       "duration                                       \n",
       "0.5       7211.007745  5113.176549  4030.308008"
      ]
     },
     "execution_count": 21,
     "metadata": {},
     "output_type": "execute_result"
    }
   ],
   "source": [
    "# первая таблица слишком громоздкая, не все расстояния понятны, поэтому делаем группировку по столбцу duration и\n",
    "#подсчитываем mean, max и min для столбца distance, \n",
    "#чтобы понять - это будут малые расстояния и время поездки из-за поломки самоката, либо это ошибки занесения данных\n",
    "data_rides.query('duration <= 1').pivot_table(index = 'duration', values = 'distance', aggfunc = {'min','max','mean'})"
   ]
  },
  {
   "cell_type": "code",
   "execution_count": 22,
   "id": "95072f41",
   "metadata": {},
   "outputs": [
    {
     "data": {
      "text/plain": [
       "distance    799.672809\n",
       "dtype: float64"
      ]
     },
     "execution_count": 22,
     "metadata": {},
     "output_type": "execute_result"
    }
   ],
   "source": [
    "#проверим можно ли заменить 0.5 минуты  просто на 5 минут, узнаем медианное значение преодоленного расстояния \n",
    "# при длительности поездки в интервале от 4.9 до 5.1 минуты\n",
    "data_rides.query('4.9 <= duration <= 5.1').pivot_table(index = 'duration', values = 'distance', aggfunc = ('median')).median()"
   ]
  },
  {
   "cell_type": "markdown",
   "id": "049decee",
   "metadata": {},
   "source": [
    "Медианное значение в 800 метров для поездок в промежутке от 4.9-5.1 минуты точно не дотягивает до средних 5 км в полученных 95 строках аномальных значений длительности. Возможно, такие длительности связаны с проведением акции с бесплатными минутами, это нужно уточнить, при построении графиков для длительности поездок этот отрезок с выбросами необходимо отсечь, а при просчете выручки учесть, эти 95 строк составляют примерно  0.5% от общего количества данных."
   ]
  },
  {
   "cell_type": "markdown",
   "id": "59d2515e",
   "metadata": {},
   "source": [
    "**В датафрейме data_rides обнаружены аномальные значения в столбце duration, возможно это связано с проведением акции с бесплатными минутами, при построении графиков этот выброс учитывать не стоит**"
   ]
  },
  {
   "cell_type": "markdown",
   "id": "6fcefc80",
   "metadata": {},
   "source": [
    "### Изменение типов данных"
   ]
  },
  {
   "cell_type": "code",
   "execution_count": 27,
   "id": "32e55d93",
   "metadata": {},
   "outputs": [
    {
     "name": "stdout",
     "output_type": "stream",
     "text": [
      "<class 'pandas.core.frame.DataFrame'>\n",
      "RangeIndex: 18068 entries, 0 to 18067\n",
      "Data columns (total 4 columns):\n",
      " #   Column    Non-Null Count  Dtype         \n",
      "---  ------    --------------  -----         \n",
      " 0   user_id   18068 non-null  int64         \n",
      " 1   distance  18068 non-null  float64       \n",
      " 2   duration  18068 non-null  float64       \n",
      " 3   date      18068 non-null  datetime64[ns]\n",
      "dtypes: datetime64[ns](1), float64(2), int64(1)\n",
      "memory usage: 564.8 KB\n"
     ]
    }
   ],
   "source": [
    "#приведение столбца data к типу временному типу данных\n",
    "data_rides['date'] = pd.to_datetime(data_rides['date'], format = '%Y-%m-%d')\n",
    "data_rides.info()"
   ]
  },
  {
   "cell_type": "code",
   "execution_count": 28,
   "id": "2ae49dba",
   "metadata": {},
   "outputs": [
    {
     "data": {
      "text/plain": [
       "<AxesSubplot:>"
      ]
     },
     "execution_count": 28,
     "metadata": {},
     "output_type": "execute_result"
    },
    {
     "data": {
      "image/png": "[encoded data removed]",
      "text/plain": [
       "<Figure size 720x144 with 1 Axes>"
      ]
     },
     "metadata": {
      "needs_background": "light"
     },
     "output_type": "display_data"
    }
   ],
   "source": [
    "#построим гистограмму для столбца date\n",
    "data_rides['date'].hist(figsize = (10,2), bins = 100)"
   ]
  },
  {
   "cell_type": "markdown",
   "id": "2f244143",
   "metadata": {},
   "source": [
    "*Представлены данные за 2021 год*"
   ]
  },
  {
   "cell_type": "markdown",
   "id": "c5f81a57",
   "metadata": {},
   "source": [
    "**Тип в столбце 'date' датафрейма data_rides изменен на временной**"
   ]
  },
  {
   "cell_type": "markdown",
   "id": "836ebd29",
   "metadata": {},
   "source": [
    "### Удаление дубликатов"
   ]
  },
  {
   "cell_type": "code",
   "execution_count": 29,
   "id": "ad1aa666",
   "metadata": {},
   "outputs": [
    {
     "data": {
      "text/plain": [
       "array(['Екатеринбург', 'Краснодар', 'Москва', 'Омск', 'Пятигорск',\n",
       "       'Ростов-на-Дону', 'Сочи', 'Тюмень'], dtype=object)"
      ]
     },
     "execution_count": 29,
     "metadata": {},
     "output_type": "execute_result"
    }
   ],
   "source": [
    "#проверяем столбец с названием города на наличие неявных дубликатов\n",
    "data_users['city'].sort_values().unique()"
   ]
  },
  {
   "cell_type": "code",
   "execution_count": 30,
   "id": "14a22127",
   "metadata": {},
   "outputs": [
    {
     "name": "stdout",
     "output_type": "stream",
     "text": [
      "31\n",
      "0\n",
      "0\n"
     ]
    }
   ],
   "source": [
    "#проверяем таблицы на наличие явных дубликатов\n",
    "for d in [data_users,data_rides,data_subscriptions]:\n",
    "    print(d.duplicated().sum())"
   ]
  },
  {
   "cell_type": "code",
   "execution_count": 31,
   "id": "a82a0ed4",
   "metadata": {},
   "outputs": [],
   "source": [
    "#удаляем явные дубликаты в таблице data_users\n",
    "data_users = data_users.drop_duplicates().reset_index(drop = True)"
   ]
  },
  {
   "cell_type": "code",
   "execution_count": 32,
   "id": "96a8c52a",
   "metadata": {},
   "outputs": [
    {
     "data": {
      "text/plain": [
       "1534"
      ]
     },
     "execution_count": 32,
     "metadata": {},
     "output_type": "execute_result"
    }
   ],
   "source": [
    "#проверяем, что нужное кол-во строк удалено\n",
    "len(data_users)"
   ]
  },
  {
   "cell_type": "markdown",
   "id": "8979f2b6",
   "metadata": {},
   "source": [
    "**Удалены явные дубликаты в таблице data_users и обновлены индексы таблицы**"
   ]
  },
  {
   "cell_type": "markdown",
   "id": "3a9370ab",
   "metadata": {},
   "source": [
    "### Добавление новых столбцов"
   ]
  },
  {
   "cell_type": "code",
   "execution_count": 33,
   "id": "747abf5d",
   "metadata": {},
   "outputs": [],
   "source": [
    "#добавляем столбец с месяцем поездки в таблицу rides\n",
    "data_rides['month_of_rides'] = data_rides['date'].dt.month"
   ]
  },
  {
   "cell_type": "code",
   "execution_count": 34,
   "id": "1d301a8d",
   "metadata": {
    "scrolled": true
   },
   "outputs": [
    {
     "data": {
      "text/html": [
       "<div>\n",
       "<style scoped>\n",
       "    .dataframe tbody tr th:only-of-type {\n",
       "        vertical-align: middle;\n",
       "    }\n",
       "\n",
       "    .dataframe tbody tr th {\n",
       "        vertical-align: top;\n",
       "    }\n",
       "\n",
       "    .dataframe thead th {\n",
       "        text-align: right;\n",
       "    }\n",
       "</style>\n",
       "<table border=\"1\" class=\"dataframe\">\n",
       "  <thead>\n",
       "    <tr style=\"text-align: right;\">\n",
       "      <th></th>\n",
       "      <th>user_id</th>\n",
       "      <th>distance</th>\n",
       "      <th>duration</th>\n",
       "      <th>date</th>\n",
       "      <th>month_of_rides</th>\n",
       "    </tr>\n",
       "  </thead>\n",
       "  <tbody>\n",
       "    <tr>\n",
       "      <th>0</th>\n",
       "      <td>1</td>\n",
       "      <td>4409.919140</td>\n",
       "      <td>25.599769</td>\n",
       "      <td>2021-01-01</td>\n",
       "      <td>1</td>\n",
       "    </tr>\n",
       "    <tr>\n",
       "      <th>1</th>\n",
       "      <td>1</td>\n",
       "      <td>2617.592153</td>\n",
       "      <td>15.816871</td>\n",
       "      <td>2021-01-18</td>\n",
       "      <td>1</td>\n",
       "    </tr>\n",
       "    <tr>\n",
       "      <th>2</th>\n",
       "      <td>1</td>\n",
       "      <td>754.159807</td>\n",
       "      <td>6.232113</td>\n",
       "      <td>2021-04-20</td>\n",
       "      <td>4</td>\n",
       "    </tr>\n",
       "    <tr>\n",
       "      <th>3</th>\n",
       "      <td>1</td>\n",
       "      <td>2694.783254</td>\n",
       "      <td>18.511000</td>\n",
       "      <td>2021-08-11</td>\n",
       "      <td>8</td>\n",
       "    </tr>\n",
       "    <tr>\n",
       "      <th>4</th>\n",
       "      <td>1</td>\n",
       "      <td>4028.687306</td>\n",
       "      <td>26.265803</td>\n",
       "      <td>2021-08-28</td>\n",
       "      <td>8</td>\n",
       "    </tr>\n",
       "    <tr>\n",
       "      <th>5</th>\n",
       "      <td>1</td>\n",
       "      <td>2770.890808</td>\n",
       "      <td>16.650138</td>\n",
       "      <td>2021-10-09</td>\n",
       "      <td>10</td>\n",
       "    </tr>\n",
       "    <tr>\n",
       "      <th>6</th>\n",
       "      <td>1</td>\n",
       "      <td>3039.020292</td>\n",
       "      <td>14.927879</td>\n",
       "      <td>2021-10-19</td>\n",
       "      <td>10</td>\n",
       "    </tr>\n",
       "    <tr>\n",
       "      <th>7</th>\n",
       "      <td>1</td>\n",
       "      <td>2842.118050</td>\n",
       "      <td>23.117468</td>\n",
       "      <td>2021-11-06</td>\n",
       "      <td>11</td>\n",
       "    </tr>\n",
       "    <tr>\n",
       "      <th>8</th>\n",
       "      <td>1</td>\n",
       "      <td>3412.690668</td>\n",
       "      <td>15.238072</td>\n",
       "      <td>2021-11-14</td>\n",
       "      <td>11</td>\n",
       "    </tr>\n",
       "    <tr>\n",
       "      <th>9</th>\n",
       "      <td>1</td>\n",
       "      <td>748.690645</td>\n",
       "      <td>15.041884</td>\n",
       "      <td>2021-11-22</td>\n",
       "      <td>11</td>\n",
       "    </tr>\n",
       "  </tbody>\n",
       "</table>\n",
       "</div>"
      ],
      "text/plain": [
       "   user_id     distance   duration       date  month_of_rides\n",
       "0        1  4409.919140  25.599769 2021-01-01               1\n",
       "1        1  2617.592153  15.816871 2021-01-18               1\n",
       "2        1   754.159807   6.232113 2021-04-20               4\n",
       "3        1  2694.783254  18.511000 2021-08-11               8\n",
       "4        1  4028.687306  26.265803 2021-08-28               8\n",
       "5        1  2770.890808  16.650138 2021-10-09              10\n",
       "6        1  3039.020292  14.927879 2021-10-19              10\n",
       "7        1  2842.118050  23.117468 2021-11-06              11\n",
       "8        1  3412.690668  15.238072 2021-11-14              11\n",
       "9        1   748.690645  15.041884 2021-11-22              11"
      ]
     },
     "execution_count": 34,
     "metadata": {},
     "output_type": "execute_result"
    }
   ],
   "source": [
    "#проверяем добавление столбца\n",
    "data_rides.head(10)"
   ]
  },
  {
   "cell_type": "markdown",
   "id": "79ba91f0",
   "metadata": {},
   "source": [
    "**В датафрейм data_rides добавлен столбец month_of_rides с обозначением месяца поездки**"
   ]
  },
  {
   "cell_type": "markdown",
   "id": "2dc1962c",
   "metadata": {},
   "source": [
    "**На этапе предобработки данных были выполнены следующие действия:**\n",
    "\n",
    "- проверено, что в исходных данных нет явных пропусков\n",
    "- изменен тип данных в столбце date датафрейма data_rides на временной \n",
    "- в датафрейме data_rides добавлен столбец month_of_rides с обозначением месяца поездки\n",
    "- удалены явные дубликаты из датафрейма с информацией о пользователях (data_users)\n",
    "- добавлен новый столбец month_of_rides в датафрейм data_rides"
   ]
  },
  {
   "cell_type": "markdown",
   "id": "83182276",
   "metadata": {},
   "source": [
    "## Исследовательский анализ данных"
   ]
  },
  {
   "cell_type": "markdown",
   "id": "34fd7fbb",
   "metadata": {},
   "source": [
    "### Частота встречаемости городов"
   ]
  },
  {
   "cell_type": "markdown",
   "id": "5f83865b",
   "metadata": {},
   "source": [
    "Строим столбчатую гистограмму распределения пользователей по городам"
   ]
  },
  {
   "cell_type": "code",
   "execution_count": 36,
   "id": "405c6827",
   "metadata": {},
   "outputs": [
    {
     "data": {
      "image/png": "[encoded data removed]",
      "text/plain": [
       "<Figure size 576x216 with 1 Axes>"
      ]
     },
     "metadata": {
      "needs_background": "light"
     },
     "output_type": "display_data"
    }
   ],
   "source": [
    "#делаем сводную таблицу, в качестве index выбирая столбец с городами и \n",
    "#подсчитывая кол-во строк пользователей о городам, применяем сразу сортировку\n",
    "data_users.pivot_table(index = 'city', values = 'user_id', aggfunc = {'count'}).sort_values(by = 'count').reset_index(drop = False)\\\n",
    "    .plot(kind = 'barh', x = 'city', y = 'count', grid = True, figsize = (8,3), legend = False)\n",
    "#добавляем заголок\n",
    "plt.title ('Распределение пользователей по городам')\n",
    "#добавляем подписи осей\n",
    "plt.xlabel('Кол-во пользователей')\n",
    "plt.ylabel('Города', rotation = 0)\n",
    "plt.show()"
   ]
  },
  {
   "cell_type": "code",
   "execution_count": 38,
   "id": "d192c0cd",
   "metadata": {},
   "outputs": [
    {
     "data": {
      "text/plain": [
       "Пятигорск         219\n",
       "Екатеринбург      204\n",
       "Ростов-на-Дону    198\n",
       "Краснодар         193\n",
       "Сочи              189\n",
       "Омск              183\n",
       "Тюмень            180\n",
       "Москва            168\n",
       "Name: city, dtype: int64"
      ]
     },
     "execution_count": 38,
     "metadata": {},
     "output_type": "execute_result"
    }
   ],
   "source": [
    "#тоже самое, только в количественном виде\n",
    "data_users['city'].value_counts()"
   ]
  },
  {
   "cell_type": "markdown",
   "id": "d32be35c",
   "metadata": {},
   "source": [
    "*Меньше всего пользователей в Москве - 168, больше всех в Пятигорске - 219, сильных перекосов в кол-ве пользователей по городам нет*"
   ]
  },
  {
   "cell_type": "markdown",
   "id": "037ff4e1",
   "metadata": {},
   "source": [
    "### Соотношение пользователей с подпиской и без подписки"
   ]
  },
  {
   "cell_type": "code",
   "execution_count": 40,
   "id": "54f9d709",
   "metadata": {},
   "outputs": [
    {
     "data": {
      "image/png": "[encoded data removed]",
      "text/plain": [
       "<Figure size 432x360 with 1 Axes>"
      ]
     },
     "metadata": {},
     "output_type": "display_data"
    }
   ],
   "source": [
    "#строим круговую гистограмму распределения пользователей с подпиской и без\n",
    "data_users.groupby('subscription_type')['subscription_type'].count().plot(kind = 'pie', grid = True,\\\n",
    "    title = 'Доля пользователей разных категорий от всех пользователей , %', figsize = (6,5), legend = True, autopct = '%.1f%%')\n",
    "plt.ylabel('')\n",
    "plt.xlabel('free - без подписки, ultra - с подпиской', rotation = 0)\n",
    "plt.legend(loc = 1)\n",
    "plt.show()"
   ]
  },
  {
   "cell_type": "code",
   "execution_count": 41,
   "id": "9c3f9a91",
   "metadata": {},
   "outputs": [
    {
     "data": {
      "text/plain": [
       "subscription_type\n",
       "free     835\n",
       "ultra    699\n",
       "Name: subscription_type, dtype: int64"
      ]
     },
     "execution_count": 41,
     "metadata": {},
     "output_type": "execute_result"
    }
   ],
   "source": [
    "#тоже самое, только в количественном виде\n",
    "data_users.groupby('subscription_type')['subscription_type'].count()"
   ]
  },
  {
   "cell_type": "markdown",
   "id": "3d97c121",
   "metadata": {},
   "source": [
    "*Пользователей без подписки больше - 835, с подпиской - 699*"
   ]
  },
  {
   "cell_type": "markdown",
   "id": "a288e1e6",
   "metadata": {},
   "source": [
    "### Возраст пользователей"
   ]
  },
  {
   "cell_type": "code",
   "execution_count": 42,
   "id": "3a3be866",
   "metadata": {},
   "outputs": [
    {
     "data": {
      "image/png": "[encoded data removed]",
      "text/plain": [
       "<Figure size 864x288 with 1 Axes>"
      ]
     },
     "metadata": {
      "needs_background": "light"
     },
     "output_type": "display_data"
    }
   ],
   "source": [
    "#строим гистограмму распределения возраста клиентов\n",
    "data_users.groupby('age')['age'].count().plot(kind = 'bar', title = 'Возраст клиентов', xlabel = 'Возраст пользователя',\\\n",
    "                                              ylabel = 'Кол-во пользователей', grid = True, figsize = (12,4))\n",
    "plt.xticks(rotation = 0)\n",
    "plt.show()"
   ]
  },
  {
   "cell_type": "markdown",
   "id": "bc28d5b1",
   "metadata": {},
   "source": [
    "*График похож на нормальное распределение. Больше всего клиентов от 22 до 28 лет с пиком в 25 лет. Меньше всех пользователей до 18 лет и взрослых после 34*"
   ]
  },
  {
   "cell_type": "markdown",
   "id": "bcd20295",
   "metadata": {},
   "source": [
    "### Продолжительность поездки"
   ]
  },
  {
   "cell_type": "code",
   "execution_count": 43,
   "id": "5ecd48df",
   "metadata": {},
   "outputs": [
    {
     "data": {
      "image/png": "[encoded data removed]",
      "text/plain": [
       "<Figure size 720x288 with 1 Axes>"
      ]
     },
     "metadata": {
      "needs_background": "light"
     },
     "output_type": "display_data"
    }
   ],
   "source": [
    "#строим гистограмму длительности поездки\n",
    "data_rides['duration'].hist(figsize = (10,4), bins = 300)\n",
    "plt.xlabel('Длительность, мин')\n",
    "plt.ylabel('Кол-во поездок')\n",
    "plt.title('Распределение длительности поездок')\n",
    "plt.show()"
   ]
  },
  {
   "cell_type": "code",
   "execution_count": 44,
   "id": "2533dcf4",
   "metadata": {},
   "outputs": [
    {
     "data": {
      "image/png": "[encoded data removed]",
      "text/plain": [
       "<Figure size 720x288 with 1 Axes>"
      ]
     },
     "metadata": {
      "needs_background": "light"
     },
     "output_type": "display_data"
    }
   ],
   "source": [
    "#уберем выбросы\n",
    "data_rides.query('3 < duration < 35')['duration'].hist(figsize = (10,4), bins = 300)\n",
    "plt.xlabel('Длительность, мин')\n",
    "plt.ylabel('Кол-во поездок')\n",
    "plt.title('Распределение длительности поездок')\n",
    "plt.show()"
   ]
  },
  {
   "cell_type": "markdown",
   "id": "a2e77700",
   "metadata": {},
   "source": [
    "*График нормального распределения с наибольшей частотой длительности поездок от 13 до 21 минуты*"
   ]
  },
  {
   "cell_type": "markdown",
   "id": "d9dfbc9b",
   "metadata": {},
   "source": [
    "### Расстояние, которое пользователь преодолел за одну поездку"
   ]
  },
  {
   "cell_type": "code",
   "execution_count": 45,
   "id": "695f5068",
   "metadata": {},
   "outputs": [
    {
     "data": {
      "image/png": "[encoded data removed]",
      "text/plain": [
       "<Figure size 720x288 with 1 Axes>"
      ]
     },
     "metadata": {
      "needs_background": "light"
     },
     "output_type": "display_data"
    }
   ],
   "source": [
    "#строим гистограмму расстояния поездки\n",
    "data_rides['distance'].hist(figsize = (10,4), bins = 300)\n",
    "plt.xlabel('Расстояние, м')\n",
    "plt.ylabel('Кол-во поездок')\n",
    "plt.title('Распределение дальности поездок')\n",
    "plt.show()"
   ]
  },
  {
   "cell_type": "code",
   "execution_count": 46,
   "id": "1ba108c6",
   "metadata": {},
   "outputs": [
    {
     "data": {
      "image/png": "[encoded data removed]",
      "text/plain": [
       "<Figure size 720x288 with 1 Axes>"
      ]
     },
     "metadata": {
      "needs_background": "light"
     },
     "output_type": "display_data"
    }
   ],
   "source": [
    "#строим гистограмму расстояния поездки без слишком дальних поездок\n",
    "data_rides.query('distance < 5500')['distance'].hist(figsize = (10,4), bins = 300)\n",
    "plt.xlabel('Расстояние, м')\n",
    "plt.ylabel('Кол-во поездок')\n",
    "plt.title('Распределение дальности поездок')\n",
    "plt.show()"
   ]
  },
  {
   "cell_type": "markdown",
   "id": "8f707dea",
   "metadata": {},
   "source": [
    "*По гистограммам видно, что чаще всего преодолевается расстояние в интервале между 2.8 км и 3.5 км и виден явный провал в области 1.5 км. Также видно, что на небольшой дистанции до 1.5 км пользователи чаще преодолевают расстояние в диапазоне 0,6-0,7км*"
   ]
  },
  {
   "cell_type": "code",
   "execution_count": 47,
   "id": "c7fbca27",
   "metadata": {},
   "outputs": [
    {
     "data": {
      "text/plain": [
       "<AxesSubplot:xlabel='distance', ylabel='duration'>"
      ]
     },
     "execution_count": 47,
     "metadata": {},
     "output_type": "execute_result"
    },
    {
     "data": {
      "image/png": "[encoded data removed]",
      "text/plain": [
       "<Figure size 576x288 with 1 Axes>"
      ]
     },
     "metadata": {
      "needs_background": "light"
     },
     "output_type": "display_data"
    }
   ],
   "source": [
    "#посмотрим насколько зависимы между собой длительность и дальность поездки\n",
    "data_rides.query('distance < 5500')[['duration','distance']]\\\n",
    ".plot(kind = 'scatter',x = 'distance', y = 'duration', figsize = (8,4), alpha = 0.025 )"
   ]
  },
  {
   "cell_type": "code",
   "execution_count": 48,
   "id": "47311185",
   "metadata": {},
   "outputs": [
    {
     "data": {
      "text/plain": [
       "0.5367776552505346"
      ]
     },
     "execution_count": 48,
     "metadata": {},
     "output_type": "execute_result"
    }
   ],
   "source": [
    "data_rides['distance'].corr(data_rides['duration'])"
   ]
  },
  {
   "cell_type": "markdown",
   "id": "e1609673",
   "metadata": {},
   "source": [
    "*Между длительностью поездки и расстоянием зависимость присутствует, но не ярко выраженная. Помимо этого на на диаграмме присутствует много шума. Больше всего поездок происходило на расстояние примерно 3 км с длительности в интервале 15-19 мин*"
   ]
  },
  {
   "cell_type": "markdown",
   "id": "fdc3257e",
   "metadata": {},
   "source": [
    "**При проведении исследовательского анализа были получены следующие результаты:**\n",
    "- меньше всего пользователей в Москве - 168, больше всех в Пятигорске - 219, сильных перекосов в кол-ве пользователей по городам нет\n",
    "- пользователей без подписки больше - 835, с подпиской – 699\n",
    "-  больше всего клиентов от 22 до 28 лет с пиком в 25 лет. Меньше всех пользователей до 18 лет и взрослых после 34\n",
    "- наибольшее кол-во поездок происходит в интервале от 13 до 21 минуты у всех пользователей. \n",
    "- чаще всего преодолевается расстояние в интервале между 2.8 км и 3.5 км и меньше всего -  в области 1.5 км\n",
    "- на небольшой дистанции до 1.5 км пользователи часто преодолевают расстояние в диапазоне 0,6-0,7км\n",
    "- чаще всего поездки происходили на расстояние примерно 3 км при длительности поездки в промежутке 15-19 минут"
   ]
  },
  {
   "cell_type": "markdown",
   "id": "a01b5020",
   "metadata": {},
   "source": [
    "## Объединение данных"
   ]
  },
  {
   "cell_type": "markdown",
   "id": "b518d5cc",
   "metadata": {},
   "source": [
    "### Создание общего датафрейма из всех таблиц"
   ]
  },
  {
   "cell_type": "code",
   "execution_count": 49,
   "id": "32bc24c6",
   "metadata": {},
   "outputs": [],
   "source": [
    "#создаем одну общую таблицу из трех, указываем параметр left, чтобы даже при отсутствии поездок у пользователя\n",
    "#его данные остались в объединенной таблице.\n",
    "data_all = data_users.merge(data_rides, on = 'user_id', how = 'left')\n",
    "data_all = data_all.merge(data_subscriptions, on = 'subscription_type')"
   ]
  },
  {
   "cell_type": "markdown",
   "id": "039525f8",
   "metadata": {},
   "source": [
    "Получаем количество строк нового созданного датафрейма"
   ]
  },
  {
   "cell_type": "code",
   "execution_count": 51,
   "id": "f641d746",
   "metadata": {},
   "outputs": [
    {
     "data": {
      "text/plain": [
       "18068"
      ]
     },
     "execution_count": 51,
     "metadata": {},
     "output_type": "execute_result"
    }
   ],
   "source": [
    "data_all.shape[0]"
   ]
  },
  {
   "cell_type": "code",
   "execution_count": 52,
   "id": "7960967b",
   "metadata": {},
   "outputs": [
    {
     "data": {
      "text/plain": [
       "user_id              0\n",
       "name                 0\n",
       "age                  0\n",
       "city                 0\n",
       "subscription_type    0\n",
       "distance             0\n",
       "duration             0\n",
       "date                 0\n",
       "month_of_rides       0\n",
       "minute_price         0\n",
       "start_ride_price     0\n",
       "subscription_fee     0\n",
       "dtype: int64"
      ]
     },
     "execution_count": 52,
     "metadata": {},
     "output_type": "execute_result"
    }
   ],
   "source": [
    "#все равно проверяем пропуски в новом датафрейме\n",
    "data_all.isna().sum().sort_values(ascending = False)"
   ]
  },
  {
   "cell_type": "code",
   "execution_count": 53,
   "id": "cef103dd",
   "metadata": {},
   "outputs": [
    {
     "data": {
      "text/html": [
       "<div>\n",
       "<style scoped>\n",
       "    .dataframe tbody tr th:only-of-type {\n",
       "        vertical-align: middle;\n",
       "    }\n",
       "\n",
       "    .dataframe tbody tr th {\n",
       "        vertical-align: top;\n",
       "    }\n",
       "\n",
       "    .dataframe thead th {\n",
       "        text-align: right;\n",
       "    }\n",
       "</style>\n",
       "<table border=\"1\" class=\"dataframe\">\n",
       "  <thead>\n",
       "    <tr style=\"text-align: right;\">\n",
       "      <th></th>\n",
       "      <th>user_id</th>\n",
       "      <th>name</th>\n",
       "      <th>age</th>\n",
       "      <th>city</th>\n",
       "      <th>subscription_type</th>\n",
       "      <th>distance</th>\n",
       "      <th>duration</th>\n",
       "      <th>date</th>\n",
       "      <th>month_of_rides</th>\n",
       "      <th>minute_price</th>\n",
       "      <th>start_ride_price</th>\n",
       "      <th>subscription_fee</th>\n",
       "    </tr>\n",
       "  </thead>\n",
       "  <tbody>\n",
       "    <tr>\n",
       "      <th>0</th>\n",
       "      <td>1</td>\n",
       "      <td>Кира</td>\n",
       "      <td>22</td>\n",
       "      <td>Тюмень</td>\n",
       "      <td>ultra</td>\n",
       "      <td>4409.919140</td>\n",
       "      <td>25.599769</td>\n",
       "      <td>2021-01-01</td>\n",
       "      <td>1</td>\n",
       "      <td>6</td>\n",
       "      <td>0</td>\n",
       "      <td>199</td>\n",
       "    </tr>\n",
       "    <tr>\n",
       "      <th>1</th>\n",
       "      <td>1</td>\n",
       "      <td>Кира</td>\n",
       "      <td>22</td>\n",
       "      <td>Тюмень</td>\n",
       "      <td>ultra</td>\n",
       "      <td>2617.592153</td>\n",
       "      <td>15.816871</td>\n",
       "      <td>2021-01-18</td>\n",
       "      <td>1</td>\n",
       "      <td>6</td>\n",
       "      <td>0</td>\n",
       "      <td>199</td>\n",
       "    </tr>\n",
       "    <tr>\n",
       "      <th>2</th>\n",
       "      <td>1</td>\n",
       "      <td>Кира</td>\n",
       "      <td>22</td>\n",
       "      <td>Тюмень</td>\n",
       "      <td>ultra</td>\n",
       "      <td>754.159807</td>\n",
       "      <td>6.232113</td>\n",
       "      <td>2021-04-20</td>\n",
       "      <td>4</td>\n",
       "      <td>6</td>\n",
       "      <td>0</td>\n",
       "      <td>199</td>\n",
       "    </tr>\n",
       "    <tr>\n",
       "      <th>3</th>\n",
       "      <td>1</td>\n",
       "      <td>Кира</td>\n",
       "      <td>22</td>\n",
       "      <td>Тюмень</td>\n",
       "      <td>ultra</td>\n",
       "      <td>2694.783254</td>\n",
       "      <td>18.511000</td>\n",
       "      <td>2021-08-11</td>\n",
       "      <td>8</td>\n",
       "      <td>6</td>\n",
       "      <td>0</td>\n",
       "      <td>199</td>\n",
       "    </tr>\n",
       "    <tr>\n",
       "      <th>4</th>\n",
       "      <td>1</td>\n",
       "      <td>Кира</td>\n",
       "      <td>22</td>\n",
       "      <td>Тюмень</td>\n",
       "      <td>ultra</td>\n",
       "      <td>4028.687306</td>\n",
       "      <td>26.265803</td>\n",
       "      <td>2021-08-28</td>\n",
       "      <td>8</td>\n",
       "      <td>6</td>\n",
       "      <td>0</td>\n",
       "      <td>199</td>\n",
       "    </tr>\n",
       "    <tr>\n",
       "      <th>5</th>\n",
       "      <td>1</td>\n",
       "      <td>Кира</td>\n",
       "      <td>22</td>\n",
       "      <td>Тюмень</td>\n",
       "      <td>ultra</td>\n",
       "      <td>2770.890808</td>\n",
       "      <td>16.650138</td>\n",
       "      <td>2021-10-09</td>\n",
       "      <td>10</td>\n",
       "      <td>6</td>\n",
       "      <td>0</td>\n",
       "      <td>199</td>\n",
       "    </tr>\n",
       "    <tr>\n",
       "      <th>6</th>\n",
       "      <td>1</td>\n",
       "      <td>Кира</td>\n",
       "      <td>22</td>\n",
       "      <td>Тюмень</td>\n",
       "      <td>ultra</td>\n",
       "      <td>3039.020292</td>\n",
       "      <td>14.927879</td>\n",
       "      <td>2021-10-19</td>\n",
       "      <td>10</td>\n",
       "      <td>6</td>\n",
       "      <td>0</td>\n",
       "      <td>199</td>\n",
       "    </tr>\n",
       "    <tr>\n",
       "      <th>7</th>\n",
       "      <td>1</td>\n",
       "      <td>Кира</td>\n",
       "      <td>22</td>\n",
       "      <td>Тюмень</td>\n",
       "      <td>ultra</td>\n",
       "      <td>2842.118050</td>\n",
       "      <td>23.117468</td>\n",
       "      <td>2021-11-06</td>\n",
       "      <td>11</td>\n",
       "      <td>6</td>\n",
       "      <td>0</td>\n",
       "      <td>199</td>\n",
       "    </tr>\n",
       "    <tr>\n",
       "      <th>8</th>\n",
       "      <td>1</td>\n",
       "      <td>Кира</td>\n",
       "      <td>22</td>\n",
       "      <td>Тюмень</td>\n",
       "      <td>ultra</td>\n",
       "      <td>3412.690668</td>\n",
       "      <td>15.238072</td>\n",
       "      <td>2021-11-14</td>\n",
       "      <td>11</td>\n",
       "      <td>6</td>\n",
       "      <td>0</td>\n",
       "      <td>199</td>\n",
       "    </tr>\n",
       "    <tr>\n",
       "      <th>9</th>\n",
       "      <td>1</td>\n",
       "      <td>Кира</td>\n",
       "      <td>22</td>\n",
       "      <td>Тюмень</td>\n",
       "      <td>ultra</td>\n",
       "      <td>748.690645</td>\n",
       "      <td>15.041884</td>\n",
       "      <td>2021-11-22</td>\n",
       "      <td>11</td>\n",
       "      <td>6</td>\n",
       "      <td>0</td>\n",
       "      <td>199</td>\n",
       "    </tr>\n",
       "  </tbody>\n",
       "</table>\n",
       "</div>"
      ],
      "text/plain": [
       "   user_id  name  age    city subscription_type     distance   duration  \\\n",
       "0        1  Кира   22  Тюмень             ultra  4409.919140  25.599769   \n",
       "1        1  Кира   22  Тюмень             ultra  2617.592153  15.816871   \n",
       "2        1  Кира   22  Тюмень             ultra   754.159807   6.232113   \n",
       "3        1  Кира   22  Тюмень             ultra  2694.783254  18.511000   \n",
       "4        1  Кира   22  Тюмень             ultra  4028.687306  26.265803   \n",
       "5        1  Кира   22  Тюмень             ultra  2770.890808  16.650138   \n",
       "6        1  Кира   22  Тюмень             ultra  3039.020292  14.927879   \n",
       "7        1  Кира   22  Тюмень             ultra  2842.118050  23.117468   \n",
       "8        1  Кира   22  Тюмень             ultra  3412.690668  15.238072   \n",
       "9        1  Кира   22  Тюмень             ultra   748.690645  15.041884   \n",
       "\n",
       "        date  month_of_rides  minute_price  start_ride_price  subscription_fee  \n",
       "0 2021-01-01               1             6                 0               199  \n",
       "1 2021-01-18               1             6                 0               199  \n",
       "2 2021-04-20               4             6                 0               199  \n",
       "3 2021-08-11               8             6                 0               199  \n",
       "4 2021-08-28               8             6                 0               199  \n",
       "5 2021-10-09              10             6                 0               199  \n",
       "6 2021-10-19              10             6                 0               199  \n",
       "7 2021-11-06              11             6                 0               199  \n",
       "8 2021-11-14              11             6                 0               199  \n",
       "9 2021-11-22              11             6                 0               199  "
      ]
     },
     "execution_count": 53,
     "metadata": {},
     "output_type": "execute_result"
    }
   ],
   "source": [
    "#смотрим на конечную таблицу\n",
    "data_all.head(10)"
   ]
  },
  {
   "cell_type": "markdown",
   "id": "c0d44069",
   "metadata": {},
   "source": [
    "*Общий датафрейм создан*"
   ]
  },
  {
   "cell_type": "markdown",
   "id": "c830c12f",
   "metadata": {},
   "source": [
    "### Создание датафреймов  для каждого вида подписки"
   ]
  },
  {
   "cell_type": "markdown",
   "id": "7379b18b",
   "metadata": {},
   "source": [
    "#### Датафрейм с данными о пользователях без подписки"
   ]
  },
  {
   "cell_type": "code",
   "execution_count": 54,
   "id": "618a82e5",
   "metadata": {},
   "outputs": [
    {
     "data": {
      "text/html": [
       "<div>\n",
       "<style scoped>\n",
       "    .dataframe tbody tr th:only-of-type {\n",
       "        vertical-align: middle;\n",
       "    }\n",
       "\n",
       "    .dataframe tbody tr th {\n",
       "        vertical-align: top;\n",
       "    }\n",
       "\n",
       "    .dataframe thead th {\n",
       "        text-align: right;\n",
       "    }\n",
       "</style>\n",
       "<table border=\"1\" class=\"dataframe\">\n",
       "  <thead>\n",
       "    <tr style=\"text-align: right;\">\n",
       "      <th></th>\n",
       "      <th>user_id</th>\n",
       "      <th>name</th>\n",
       "      <th>age</th>\n",
       "      <th>city</th>\n",
       "      <th>subscription_type</th>\n",
       "      <th>distance</th>\n",
       "      <th>duration</th>\n",
       "      <th>date</th>\n",
       "      <th>month_of_rides</th>\n",
       "      <th>minute_price</th>\n",
       "      <th>start_ride_price</th>\n",
       "      <th>subscription_fee</th>\n",
       "    </tr>\n",
       "  </thead>\n",
       "  <tbody>\n",
       "    <tr>\n",
       "      <th>6500</th>\n",
       "      <td>700</td>\n",
       "      <td>Айдар</td>\n",
       "      <td>22</td>\n",
       "      <td>Омск</td>\n",
       "      <td>free</td>\n",
       "      <td>2515.690719</td>\n",
       "      <td>14.944286</td>\n",
       "      <td>2021-01-02</td>\n",
       "      <td>1</td>\n",
       "      <td>8</td>\n",
       "      <td>50</td>\n",
       "      <td>0</td>\n",
       "    </tr>\n",
       "    <tr>\n",
       "      <th>6501</th>\n",
       "      <td>700</td>\n",
       "      <td>Айдар</td>\n",
       "      <td>22</td>\n",
       "      <td>Омск</td>\n",
       "      <td>free</td>\n",
       "      <td>846.932642</td>\n",
       "      <td>16.234663</td>\n",
       "      <td>2021-02-01</td>\n",
       "      <td>2</td>\n",
       "      <td>8</td>\n",
       "      <td>50</td>\n",
       "      <td>0</td>\n",
       "    </tr>\n",
       "    <tr>\n",
       "      <th>6502</th>\n",
       "      <td>700</td>\n",
       "      <td>Айдар</td>\n",
       "      <td>22</td>\n",
       "      <td>Омск</td>\n",
       "      <td>free</td>\n",
       "      <td>4004.434142</td>\n",
       "      <td>20.016628</td>\n",
       "      <td>2021-02-04</td>\n",
       "      <td>2</td>\n",
       "      <td>8</td>\n",
       "      <td>50</td>\n",
       "      <td>0</td>\n",
       "    </tr>\n",
       "    <tr>\n",
       "      <th>6503</th>\n",
       "      <td>700</td>\n",
       "      <td>Айдар</td>\n",
       "      <td>22</td>\n",
       "      <td>Омск</td>\n",
       "      <td>free</td>\n",
       "      <td>1205.911290</td>\n",
       "      <td>9.782872</td>\n",
       "      <td>2021-02-10</td>\n",
       "      <td>2</td>\n",
       "      <td>8</td>\n",
       "      <td>50</td>\n",
       "      <td>0</td>\n",
       "    </tr>\n",
       "    <tr>\n",
       "      <th>6504</th>\n",
       "      <td>700</td>\n",
       "      <td>Айдар</td>\n",
       "      <td>22</td>\n",
       "      <td>Омск</td>\n",
       "      <td>free</td>\n",
       "      <td>3047.379435</td>\n",
       "      <td>17.427673</td>\n",
       "      <td>2021-02-14</td>\n",
       "      <td>2</td>\n",
       "      <td>8</td>\n",
       "      <td>50</td>\n",
       "      <td>0</td>\n",
       "    </tr>\n",
       "    <tr>\n",
       "      <th>6505</th>\n",
       "      <td>700</td>\n",
       "      <td>Айдар</td>\n",
       "      <td>22</td>\n",
       "      <td>Омск</td>\n",
       "      <td>free</td>\n",
       "      <td>4342.002254</td>\n",
       "      <td>22.368009</td>\n",
       "      <td>2021-02-23</td>\n",
       "      <td>2</td>\n",
       "      <td>8</td>\n",
       "      <td>50</td>\n",
       "      <td>0</td>\n",
       "    </tr>\n",
       "    <tr>\n",
       "      <th>6506</th>\n",
       "      <td>700</td>\n",
       "      <td>Айдар</td>\n",
       "      <td>22</td>\n",
       "      <td>Омск</td>\n",
       "      <td>free</td>\n",
       "      <td>3798.334905</td>\n",
       "      <td>18.243756</td>\n",
       "      <td>2021-03-03</td>\n",
       "      <td>3</td>\n",
       "      <td>8</td>\n",
       "      <td>50</td>\n",
       "      <td>0</td>\n",
       "    </tr>\n",
       "    <tr>\n",
       "      <th>6507</th>\n",
       "      <td>700</td>\n",
       "      <td>Айдар</td>\n",
       "      <td>22</td>\n",
       "      <td>Омск</td>\n",
       "      <td>free</td>\n",
       "      <td>2984.551206</td>\n",
       "      <td>15.424899</td>\n",
       "      <td>2021-04-09</td>\n",
       "      <td>4</td>\n",
       "      <td>8</td>\n",
       "      <td>50</td>\n",
       "      <td>0</td>\n",
       "    </tr>\n",
       "    <tr>\n",
       "      <th>6508</th>\n",
       "      <td>700</td>\n",
       "      <td>Айдар</td>\n",
       "      <td>22</td>\n",
       "      <td>Омск</td>\n",
       "      <td>free</td>\n",
       "      <td>3360.107141</td>\n",
       "      <td>16.765497</td>\n",
       "      <td>2021-06-12</td>\n",
       "      <td>6</td>\n",
       "      <td>8</td>\n",
       "      <td>50</td>\n",
       "      <td>0</td>\n",
       "    </tr>\n",
       "    <tr>\n",
       "      <th>6509</th>\n",
       "      <td>700</td>\n",
       "      <td>Айдар</td>\n",
       "      <td>22</td>\n",
       "      <td>Омск</td>\n",
       "      <td>free</td>\n",
       "      <td>2567.543847</td>\n",
       "      <td>11.312160</td>\n",
       "      <td>2021-06-23</td>\n",
       "      <td>6</td>\n",
       "      <td>8</td>\n",
       "      <td>50</td>\n",
       "      <td>0</td>\n",
       "    </tr>\n",
       "    <tr>\n",
       "      <th>6510</th>\n",
       "      <td>700</td>\n",
       "      <td>Айдар</td>\n",
       "      <td>22</td>\n",
       "      <td>Омск</td>\n",
       "      <td>free</td>\n",
       "      <td>4110.232038</td>\n",
       "      <td>15.807640</td>\n",
       "      <td>2021-07-08</td>\n",
       "      <td>7</td>\n",
       "      <td>8</td>\n",
       "      <td>50</td>\n",
       "      <td>0</td>\n",
       "    </tr>\n",
       "    <tr>\n",
       "      <th>6511</th>\n",
       "      <td>700</td>\n",
       "      <td>Айдар</td>\n",
       "      <td>22</td>\n",
       "      <td>Омск</td>\n",
       "      <td>free</td>\n",
       "      <td>288.974241</td>\n",
       "      <td>4.788112</td>\n",
       "      <td>2021-07-18</td>\n",
       "      <td>7</td>\n",
       "      <td>8</td>\n",
       "      <td>50</td>\n",
       "      <td>0</td>\n",
       "    </tr>\n",
       "    <tr>\n",
       "      <th>6512</th>\n",
       "      <td>700</td>\n",
       "      <td>Айдар</td>\n",
       "      <td>22</td>\n",
       "      <td>Омск</td>\n",
       "      <td>free</td>\n",
       "      <td>4071.654669</td>\n",
       "      <td>16.370546</td>\n",
       "      <td>2021-08-17</td>\n",
       "      <td>8</td>\n",
       "      <td>8</td>\n",
       "      <td>50</td>\n",
       "      <td>0</td>\n",
       "    </tr>\n",
       "    <tr>\n",
       "      <th>6513</th>\n",
       "      <td>700</td>\n",
       "      <td>Айдар</td>\n",
       "      <td>22</td>\n",
       "      <td>Омск</td>\n",
       "      <td>free</td>\n",
       "      <td>1920.188901</td>\n",
       "      <td>9.608453</td>\n",
       "      <td>2021-10-08</td>\n",
       "      <td>10</td>\n",
       "      <td>8</td>\n",
       "      <td>50</td>\n",
       "      <td>0</td>\n",
       "    </tr>\n",
       "    <tr>\n",
       "      <th>6514</th>\n",
       "      <td>700</td>\n",
       "      <td>Айдар</td>\n",
       "      <td>22</td>\n",
       "      <td>Омск</td>\n",
       "      <td>free</td>\n",
       "      <td>4402.389717</td>\n",
       "      <td>33.013035</td>\n",
       "      <td>2021-10-15</td>\n",
       "      <td>10</td>\n",
       "      <td>8</td>\n",
       "      <td>50</td>\n",
       "      <td>0</td>\n",
       "    </tr>\n",
       "  </tbody>\n",
       "</table>\n",
       "</div>"
      ],
      "text/plain": [
       "      user_id   name  age  city subscription_type     distance   duration  \\\n",
       "6500      700  Айдар   22  Омск              free  2515.690719  14.944286   \n",
       "6501      700  Айдар   22  Омск              free   846.932642  16.234663   \n",
       "6502      700  Айдар   22  Омск              free  4004.434142  20.016628   \n",
       "6503      700  Айдар   22  Омск              free  1205.911290   9.782872   \n",
       "6504      700  Айдар   22  Омск              free  3047.379435  17.427673   \n",
       "6505      700  Айдар   22  Омск              free  4342.002254  22.368009   \n",
       "6506      700  Айдар   22  Омск              free  3798.334905  18.243756   \n",
       "6507      700  Айдар   22  Омск              free  2984.551206  15.424899   \n",
       "6508      700  Айдар   22  Омск              free  3360.107141  16.765497   \n",
       "6509      700  Айдар   22  Омск              free  2567.543847  11.312160   \n",
       "6510      700  Айдар   22  Омск              free  4110.232038  15.807640   \n",
       "6511      700  Айдар   22  Омск              free   288.974241   4.788112   \n",
       "6512      700  Айдар   22  Омск              free  4071.654669  16.370546   \n",
       "6513      700  Айдар   22  Омск              free  1920.188901   9.608453   \n",
       "6514      700  Айдар   22  Омск              free  4402.389717  33.013035   \n",
       "\n",
       "           date  month_of_rides  minute_price  start_ride_price  \\\n",
       "6500 2021-01-02               1             8                50   \n",
       "6501 2021-02-01               2             8                50   \n",
       "6502 2021-02-04               2             8                50   \n",
       "6503 2021-02-10               2             8                50   \n",
       "6504 2021-02-14               2             8                50   \n",
       "6505 2021-02-23               2             8                50   \n",
       "6506 2021-03-03               3             8                50   \n",
       "6507 2021-04-09               4             8                50   \n",
       "6508 2021-06-12               6             8                50   \n",
       "6509 2021-06-23               6             8                50   \n",
       "6510 2021-07-08               7             8                50   \n",
       "6511 2021-07-18               7             8                50   \n",
       "6512 2021-08-17               8             8                50   \n",
       "6513 2021-10-08              10             8                50   \n",
       "6514 2021-10-15              10             8                50   \n",
       "\n",
       "      subscription_fee  \n",
       "6500                 0  \n",
       "6501                 0  \n",
       "6502                 0  \n",
       "6503                 0  \n",
       "6504                 0  \n",
       "6505                 0  \n",
       "6506                 0  \n",
       "6507                 0  \n",
       "6508                 0  \n",
       "6509                 0  \n",
       "6510                 0  \n",
       "6511                 0  \n",
       "6512                 0  \n",
       "6513                 0  \n",
       "6514                 0  "
      ]
     },
     "execution_count": 54,
     "metadata": {},
     "output_type": "execute_result"
    }
   ],
   "source": [
    "#создаем новый датафрейм из общего, в фильтре указываем значения столбца subscription_type == 'free' \n",
    "data_users_free = data_all.query('subscription_type == \"free\"')\n",
    "data_users_free.head(15)"
   ]
  },
  {
   "cell_type": "code",
   "execution_count": 55,
   "id": "76077c6f",
   "metadata": {},
   "outputs": [
    {
     "data": {
      "text/plain": [
       "11568"
      ]
     },
     "execution_count": 55,
     "metadata": {},
     "output_type": "execute_result"
    }
   ],
   "source": [
    "#проверяем длину нового датафрейма\n",
    "len(data_users_free)"
   ]
  },
  {
   "cell_type": "markdown",
   "id": "b56183a5",
   "metadata": {},
   "source": [
    "#### Датафрейм с данными о пользователях с подпиской"
   ]
  },
  {
   "cell_type": "code",
   "execution_count": 56,
   "id": "ba74c357",
   "metadata": {},
   "outputs": [
    {
     "data": {
      "text/html": [
       "<div>\n",
       "<style scoped>\n",
       "    .dataframe tbody tr th:only-of-type {\n",
       "        vertical-align: middle;\n",
       "    }\n",
       "\n",
       "    .dataframe tbody tr th {\n",
       "        vertical-align: top;\n",
       "    }\n",
       "\n",
       "    .dataframe thead th {\n",
       "        text-align: right;\n",
       "    }\n",
       "</style>\n",
       "<table border=\"1\" class=\"dataframe\">\n",
       "  <thead>\n",
       "    <tr style=\"text-align: right;\">\n",
       "      <th></th>\n",
       "      <th>user_id</th>\n",
       "      <th>name</th>\n",
       "      <th>age</th>\n",
       "      <th>city</th>\n",
       "      <th>subscription_type</th>\n",
       "      <th>distance</th>\n",
       "      <th>duration</th>\n",
       "      <th>date</th>\n",
       "      <th>month_of_rides</th>\n",
       "      <th>minute_price</th>\n",
       "      <th>start_ride_price</th>\n",
       "      <th>subscription_fee</th>\n",
       "    </tr>\n",
       "  </thead>\n",
       "  <tbody>\n",
       "    <tr>\n",
       "      <th>0</th>\n",
       "      <td>1</td>\n",
       "      <td>Кира</td>\n",
       "      <td>22</td>\n",
       "      <td>Тюмень</td>\n",
       "      <td>ultra</td>\n",
       "      <td>4409.919140</td>\n",
       "      <td>25.599769</td>\n",
       "      <td>2021-01-01</td>\n",
       "      <td>1</td>\n",
       "      <td>6</td>\n",
       "      <td>0</td>\n",
       "      <td>199</td>\n",
       "    </tr>\n",
       "    <tr>\n",
       "      <th>1</th>\n",
       "      <td>1</td>\n",
       "      <td>Кира</td>\n",
       "      <td>22</td>\n",
       "      <td>Тюмень</td>\n",
       "      <td>ultra</td>\n",
       "      <td>2617.592153</td>\n",
       "      <td>15.816871</td>\n",
       "      <td>2021-01-18</td>\n",
       "      <td>1</td>\n",
       "      <td>6</td>\n",
       "      <td>0</td>\n",
       "      <td>199</td>\n",
       "    </tr>\n",
       "    <tr>\n",
       "      <th>2</th>\n",
       "      <td>1</td>\n",
       "      <td>Кира</td>\n",
       "      <td>22</td>\n",
       "      <td>Тюмень</td>\n",
       "      <td>ultra</td>\n",
       "      <td>754.159807</td>\n",
       "      <td>6.232113</td>\n",
       "      <td>2021-04-20</td>\n",
       "      <td>4</td>\n",
       "      <td>6</td>\n",
       "      <td>0</td>\n",
       "      <td>199</td>\n",
       "    </tr>\n",
       "    <tr>\n",
       "      <th>3</th>\n",
       "      <td>1</td>\n",
       "      <td>Кира</td>\n",
       "      <td>22</td>\n",
       "      <td>Тюмень</td>\n",
       "      <td>ultra</td>\n",
       "      <td>2694.783254</td>\n",
       "      <td>18.511000</td>\n",
       "      <td>2021-08-11</td>\n",
       "      <td>8</td>\n",
       "      <td>6</td>\n",
       "      <td>0</td>\n",
       "      <td>199</td>\n",
       "    </tr>\n",
       "    <tr>\n",
       "      <th>4</th>\n",
       "      <td>1</td>\n",
       "      <td>Кира</td>\n",
       "      <td>22</td>\n",
       "      <td>Тюмень</td>\n",
       "      <td>ultra</td>\n",
       "      <td>4028.687306</td>\n",
       "      <td>26.265803</td>\n",
       "      <td>2021-08-28</td>\n",
       "      <td>8</td>\n",
       "      <td>6</td>\n",
       "      <td>0</td>\n",
       "      <td>199</td>\n",
       "    </tr>\n",
       "    <tr>\n",
       "      <th>5</th>\n",
       "      <td>1</td>\n",
       "      <td>Кира</td>\n",
       "      <td>22</td>\n",
       "      <td>Тюмень</td>\n",
       "      <td>ultra</td>\n",
       "      <td>2770.890808</td>\n",
       "      <td>16.650138</td>\n",
       "      <td>2021-10-09</td>\n",
       "      <td>10</td>\n",
       "      <td>6</td>\n",
       "      <td>0</td>\n",
       "      <td>199</td>\n",
       "    </tr>\n",
       "    <tr>\n",
       "      <th>6</th>\n",
       "      <td>1</td>\n",
       "      <td>Кира</td>\n",
       "      <td>22</td>\n",
       "      <td>Тюмень</td>\n",
       "      <td>ultra</td>\n",
       "      <td>3039.020292</td>\n",
       "      <td>14.927879</td>\n",
       "      <td>2021-10-19</td>\n",
       "      <td>10</td>\n",
       "      <td>6</td>\n",
       "      <td>0</td>\n",
       "      <td>199</td>\n",
       "    </tr>\n",
       "    <tr>\n",
       "      <th>7</th>\n",
       "      <td>1</td>\n",
       "      <td>Кира</td>\n",
       "      <td>22</td>\n",
       "      <td>Тюмень</td>\n",
       "      <td>ultra</td>\n",
       "      <td>2842.118050</td>\n",
       "      <td>23.117468</td>\n",
       "      <td>2021-11-06</td>\n",
       "      <td>11</td>\n",
       "      <td>6</td>\n",
       "      <td>0</td>\n",
       "      <td>199</td>\n",
       "    </tr>\n",
       "    <tr>\n",
       "      <th>8</th>\n",
       "      <td>1</td>\n",
       "      <td>Кира</td>\n",
       "      <td>22</td>\n",
       "      <td>Тюмень</td>\n",
       "      <td>ultra</td>\n",
       "      <td>3412.690668</td>\n",
       "      <td>15.238072</td>\n",
       "      <td>2021-11-14</td>\n",
       "      <td>11</td>\n",
       "      <td>6</td>\n",
       "      <td>0</td>\n",
       "      <td>199</td>\n",
       "    </tr>\n",
       "    <tr>\n",
       "      <th>9</th>\n",
       "      <td>1</td>\n",
       "      <td>Кира</td>\n",
       "      <td>22</td>\n",
       "      <td>Тюмень</td>\n",
       "      <td>ultra</td>\n",
       "      <td>748.690645</td>\n",
       "      <td>15.041884</td>\n",
       "      <td>2021-11-22</td>\n",
       "      <td>11</td>\n",
       "      <td>6</td>\n",
       "      <td>0</td>\n",
       "      <td>199</td>\n",
       "    </tr>\n",
       "    <tr>\n",
       "      <th>10</th>\n",
       "      <td>1</td>\n",
       "      <td>Кира</td>\n",
       "      <td>22</td>\n",
       "      <td>Тюмень</td>\n",
       "      <td>ultra</td>\n",
       "      <td>4031.020195</td>\n",
       "      <td>17.674448</td>\n",
       "      <td>2021-12-14</td>\n",
       "      <td>12</td>\n",
       "      <td>6</td>\n",
       "      <td>0</td>\n",
       "      <td>199</td>\n",
       "    </tr>\n",
       "    <tr>\n",
       "      <th>11</th>\n",
       "      <td>1</td>\n",
       "      <td>Кира</td>\n",
       "      <td>22</td>\n",
       "      <td>Тюмень</td>\n",
       "      <td>ultra</td>\n",
       "      <td>2720.609748</td>\n",
       "      <td>9.529463</td>\n",
       "      <td>2021-12-22</td>\n",
       "      <td>12</td>\n",
       "      <td>6</td>\n",
       "      <td>0</td>\n",
       "      <td>199</td>\n",
       "    </tr>\n",
       "    <tr>\n",
       "      <th>12</th>\n",
       "      <td>2</td>\n",
       "      <td>Станислав</td>\n",
       "      <td>31</td>\n",
       "      <td>Омск</td>\n",
       "      <td>ultra</td>\n",
       "      <td>3105.086678</td>\n",
       "      <td>24.307514</td>\n",
       "      <td>2021-03-15</td>\n",
       "      <td>3</td>\n",
       "      <td>6</td>\n",
       "      <td>0</td>\n",
       "      <td>199</td>\n",
       "    </tr>\n",
       "    <tr>\n",
       "      <th>13</th>\n",
       "      <td>2</td>\n",
       "      <td>Станислав</td>\n",
       "      <td>31</td>\n",
       "      <td>Омск</td>\n",
       "      <td>ultra</td>\n",
       "      <td>3053.519401</td>\n",
       "      <td>11.543256</td>\n",
       "      <td>2021-03-18</td>\n",
       "      <td>3</td>\n",
       "      <td>6</td>\n",
       "      <td>0</td>\n",
       "      <td>199</td>\n",
       "    </tr>\n",
       "    <tr>\n",
       "      <th>14</th>\n",
       "      <td>2</td>\n",
       "      <td>Станислав</td>\n",
       "      <td>31</td>\n",
       "      <td>Омск</td>\n",
       "      <td>ultra</td>\n",
       "      <td>4029.116927</td>\n",
       "      <td>25.109188</td>\n",
       "      <td>2021-03-23</td>\n",
       "      <td>3</td>\n",
       "      <td>6</td>\n",
       "      <td>0</td>\n",
       "      <td>199</td>\n",
       "    </tr>\n",
       "  </tbody>\n",
       "</table>\n",
       "</div>"
      ],
      "text/plain": [
       "    user_id       name  age    city subscription_type     distance   duration  \\\n",
       "0         1       Кира   22  Тюмень             ultra  4409.919140  25.599769   \n",
       "1         1       Кира   22  Тюмень             ultra  2617.592153  15.816871   \n",
       "2         1       Кира   22  Тюмень             ultra   754.159807   6.232113   \n",
       "3         1       Кира   22  Тюмень             ultra  2694.783254  18.511000   \n",
       "4         1       Кира   22  Тюмень             ultra  4028.687306  26.265803   \n",
       "5         1       Кира   22  Тюмень             ultra  2770.890808  16.650138   \n",
       "6         1       Кира   22  Тюмень             ultra  3039.020292  14.927879   \n",
       "7         1       Кира   22  Тюмень             ultra  2842.118050  23.117468   \n",
       "8         1       Кира   22  Тюмень             ultra  3412.690668  15.238072   \n",
       "9         1       Кира   22  Тюмень             ultra   748.690645  15.041884   \n",
       "10        1       Кира   22  Тюмень             ultra  4031.020195  17.674448   \n",
       "11        1       Кира   22  Тюмень             ultra  2720.609748   9.529463   \n",
       "12        2  Станислав   31    Омск             ultra  3105.086678  24.307514   \n",
       "13        2  Станислав   31    Омск             ultra  3053.519401  11.543256   \n",
       "14        2  Станислав   31    Омск             ultra  4029.116927  25.109188   \n",
       "\n",
       "         date  month_of_rides  minute_price  start_ride_price  \\\n",
       "0  2021-01-01               1             6                 0   \n",
       "1  2021-01-18               1             6                 0   \n",
       "2  2021-04-20               4             6                 0   \n",
       "3  2021-08-11               8             6                 0   \n",
       "4  2021-08-28               8             6                 0   \n",
       "5  2021-10-09              10             6                 0   \n",
       "6  2021-10-19              10             6                 0   \n",
       "7  2021-11-06              11             6                 0   \n",
       "8  2021-11-14              11             6                 0   \n",
       "9  2021-11-22              11             6                 0   \n",
       "10 2021-12-14              12             6                 0   \n",
       "11 2021-12-22              12             6                 0   \n",
       "12 2021-03-15               3             6                 0   \n",
       "13 2021-03-18               3             6                 0   \n",
       "14 2021-03-23               3             6                 0   \n",
       "\n",
       "    subscription_fee  \n",
       "0                199  \n",
       "1                199  \n",
       "2                199  \n",
       "3                199  \n",
       "4                199  \n",
       "5                199  \n",
       "6                199  \n",
       "7                199  \n",
       "8                199  \n",
       "9                199  \n",
       "10               199  \n",
       "11               199  \n",
       "12               199  \n",
       "13               199  \n",
       "14               199  "
      ]
     },
     "execution_count": 56,
     "metadata": {},
     "output_type": "execute_result"
    }
   ],
   "source": [
    "#создаем новый датафрейм из общего, в фильтре указываем значения столбца subscription_type == 'ultra' \n",
    "data_users_ultra = data_all.query('subscription_type == \"ultra\"')\n",
    "data_users_ultra.head(15)"
   ]
  },
  {
   "cell_type": "code",
   "execution_count": 57,
   "id": "48e0db6a",
   "metadata": {},
   "outputs": [
    {
     "data": {
      "text/plain": [
       "6500"
      ]
     },
     "execution_count": 57,
     "metadata": {},
     "output_type": "execute_result"
    }
   ],
   "source": [
    "#проверяем длину нового датафрейма\n",
    "len(data_users_ultra)"
   ]
  },
  {
   "cell_type": "code",
   "execution_count": 58,
   "id": "39943b77",
   "metadata": {},
   "outputs": [
    {
     "data": {
      "text/plain": [
       "True"
      ]
     },
     "execution_count": 58,
     "metadata": {},
     "output_type": "execute_result"
    }
   ],
   "source": [
    "#проверяем, что новые датафреймы в общей длине строк дают первоначальный общий датафрейм\n",
    "len(data_all) == ((len(data_users_free)) + (len(data_users_ultra)))"
   ]
  },
  {
   "cell_type": "markdown",
   "id": "7b4f594a",
   "metadata": {},
   "source": [
    "**Создано еще два датафрейма с информацией о разных категориях пользователей: с подпиской и без**"
   ]
  },
  {
   "cell_type": "markdown",
   "id": "0a3c7600",
   "metadata": {},
   "source": [
    "#### Визуализация длительности поездок и расстояния подьзователей с подпиской и без"
   ]
  },
  {
   "cell_type": "markdown",
   "id": "3fe3ca9a",
   "metadata": {},
   "source": [
    "##### Длительность поездок"
   ]
  },
  {
   "cell_type": "code",
   "execution_count": 79,
   "id": "e0100dd3",
   "metadata": {},
   "outputs": [
    {
     "data": {
      "image/png": "[encoded data removed]",
      "text/plain": [
       "<Figure size 864x360 with 1 Axes>"
      ]
     },
     "metadata": {
      "needs_background": "light"
     },
     "output_type": "display_data"
    }
   ],
   "source": [
    "#строим график для пользователей без подписки и накладываем его на график пользователей с подпиской\n",
    "ax_duration = data_users_free.query('duration > 0.5').plot(kind = 'hist', histtype = 'step', y = 'duration', \\\n",
    "                     range = (0,35), linewidth = 1.3, bins = 300, alpha = 0.6,\\\n",
    "                     label = 'Длительность поездки без подписки',grid = True, figsize = (12,5))\n",
    "data_users_ultra.query('duration > 0.5').plot(kind = 'hist', histtype = 'step', y = 'duration', \\\n",
    "                     range = (0,35), linewidth = 1.3, bins = 300, alpha = 0.6, ax = ax_duration,\\\n",
    "                     label = 'Длительность поездки с подпиской',\\\n",
    "                    grid = True, title = 'Длительность поездки', figsize = (12,5))\n",
    "plt.xlabel('Длительность, мин')\n",
    "plt.ylabel('Частота поездок')\n",
    "plt.show()"
   ]
  },
  {
   "cell_type": "markdown",
   "id": "1da83589",
   "metadata": {},
   "source": [
    "*Графики распределения частоты длительности поездок схожи и приближаются к нормальному распределению, при сокращении выборки пользователей без подписки в 2 раза до кол-ва пользователей с подпиской, графики возможно должны больше приблизиться друг к другу.*\n",
    "\n",
    "**Самый частый интервал длительности поездки двух разных категорий схож: 13 мин - 21 мин.**"
   ]
  },
  {
   "cell_type": "markdown",
   "id": "c04c80e0",
   "metadata": {},
   "source": [
    "##### Дальность поездки"
   ]
  },
  {
   "cell_type": "code",
   "execution_count": 80,
   "id": "65177c76",
   "metadata": {},
   "outputs": [
    {
     "data": {
      "image/png": "[encoded data removed]",
      "text/plain": [
       "<Figure size 864x360 with 1 Axes>"
      ]
     },
     "metadata": {
      "needs_background": "light"
     },
     "output_type": "display_data"
    }
   ],
   "source": [
    "#строим график для пользователей без подписки и накладываем его на график пользователей с подпиской\n",
    "ax_distance = data_users_free.plot(kind = 'hist', histtype = 'step', y = 'distance', \\\n",
    "                     range = (0,5500), linewidth = 1.3, bins = 300, alpha = 0.6,\\\n",
    "                     label = 'Дальность поездки без подписки',grid = True, figsize = (12,5))\n",
    "data_users_ultra.plot(kind = 'hist', histtype = 'step', y = 'distance', \\\n",
    "                     range = (0,5500), linewidth = 1.3, bins = 300, alpha = 0.6, ax = ax_distance,\\\n",
    "                     label = 'Дальность поездки с подпиской',\\\n",
    "                      grid = True, title = 'Дальность поездки', figsize = (12,5))\n",
    "plt.xlabel('Расстояние, м')\n",
    "plt.ylabel('Кол-во поездок')\n",
    "plt.show()"
   ]
  },
  {
   "cell_type": "markdown",
   "id": "687716ac",
   "metadata": {},
   "source": [
    "Кол-во значений в категории без подписки почти в 2 раза больше, чем в категории пользователей с подпиской. \n",
    "\n",
    "**По графику видно, что самые часто встречающиеся расстояния в категориях:**\n",
    "- пользователи с подпиской: 2.8 км - 3.4 км\n",
    "- пользователи без подписки: 2.3 км- 3.9 км\n",
    "\n",
    "*Без подписки пользователи чаще берут самокаты на короткие расстояния до 0.8 км.*"
   ]
  },
  {
   "cell_type": "markdown",
   "id": "86de3ee6",
   "metadata": {},
   "source": [
    "\n",
    "\n",
    "**При создании новых таблиц и визуалиции были получены следующие результаты:**\n",
    "\n",
    "\n",
    "**Создано 3 новых датафрейма:**\n",
    "- с общей информацией обо всех пользователях, собранной из всех 3 первичных датафреймов\n",
    "- со всей информацией о пользователях, имеющих подписку\n",
    "- со всей информацией о пользователях, не имеющих подписку\n",
    "\n",
    "Полученные графики показали, что:\n",
    "\n",
    "**Самый частый интервал длительности поездкок в двух разных категориях схож: 13 мин - 21 мин.**\n",
    "\n",
    "**Самые часто встречающиеся расстояния в категориях:**\n",
    "- пользователи с подпиской: 2.8 км - 3.4 км\n",
    "- пользователи без подписки: 2.3 км- 3.9 км\n",
    "\n",
    "**Также было обнаружено, что без подписки пользователи чаще берут самокаты на короткие расстояния до 0.8 км.**\n"
   ]
  },
  {
   "cell_type": "markdown",
   "id": "7bf37178",
   "metadata": {},
   "source": [
    "## Подсчёт выручки"
   ]
  },
  {
   "cell_type": "markdown",
   "id": "b775e1da",
   "metadata": {},
   "source": [
    "### Создание агрегированного датафрейма с данными о поездках"
   ]
  },
  {
   "cell_type": "code",
   "execution_count": 61,
   "id": "53bebfc2",
   "metadata": {},
   "outputs": [
    {
     "data": {
      "text/html": [
       "<div>\n",
       "<style scoped>\n",
       "    .dataframe tbody tr th:only-of-type {\n",
       "        vertical-align: middle;\n",
       "    }\n",
       "\n",
       "    .dataframe tbody tr th {\n",
       "        vertical-align: top;\n",
       "    }\n",
       "\n",
       "    .dataframe thead tr th {\n",
       "        text-align: left;\n",
       "    }\n",
       "</style>\n",
       "<table border=\"1\" class=\"dataframe\">\n",
       "  <thead>\n",
       "    <tr>\n",
       "      <th></th>\n",
       "      <th>user_id</th>\n",
       "      <th>month_of_rides</th>\n",
       "      <th colspan=\"2\" halign=\"left\">distance</th>\n",
       "      <th>duration</th>\n",
       "    </tr>\n",
       "    <tr>\n",
       "      <th></th>\n",
       "      <th></th>\n",
       "      <th></th>\n",
       "      <th>count</th>\n",
       "      <th>sum</th>\n",
       "      <th>sum</th>\n",
       "    </tr>\n",
       "  </thead>\n",
       "  <tbody>\n",
       "    <tr>\n",
       "      <th>0</th>\n",
       "      <td>1</td>\n",
       "      <td>1</td>\n",
       "      <td>2</td>\n",
       "      <td>7027.511294</td>\n",
       "      <td>41.416640</td>\n",
       "    </tr>\n",
       "    <tr>\n",
       "      <th>1</th>\n",
       "      <td>1</td>\n",
       "      <td>4</td>\n",
       "      <td>1</td>\n",
       "      <td>754.159807</td>\n",
       "      <td>6.232113</td>\n",
       "    </tr>\n",
       "    <tr>\n",
       "      <th>2</th>\n",
       "      <td>1</td>\n",
       "      <td>8</td>\n",
       "      <td>2</td>\n",
       "      <td>6723.470560</td>\n",
       "      <td>44.776802</td>\n",
       "    </tr>\n",
       "    <tr>\n",
       "      <th>3</th>\n",
       "      <td>1</td>\n",
       "      <td>10</td>\n",
       "      <td>2</td>\n",
       "      <td>5809.911100</td>\n",
       "      <td>31.578017</td>\n",
       "    </tr>\n",
       "    <tr>\n",
       "      <th>4</th>\n",
       "      <td>1</td>\n",
       "      <td>11</td>\n",
       "      <td>3</td>\n",
       "      <td>7003.499363</td>\n",
       "      <td>53.397424</td>\n",
       "    </tr>\n",
       "    <tr>\n",
       "      <th>...</th>\n",
       "      <td>...</td>\n",
       "      <td>...</td>\n",
       "      <td>...</td>\n",
       "      <td>...</td>\n",
       "      <td>...</td>\n",
       "    </tr>\n",
       "    <tr>\n",
       "      <th>11326</th>\n",
       "      <td>1534</td>\n",
       "      <td>6</td>\n",
       "      <td>2</td>\n",
       "      <td>3409.468534</td>\n",
       "      <td>24.812678</td>\n",
       "    </tr>\n",
       "    <tr>\n",
       "      <th>11327</th>\n",
       "      <td>1534</td>\n",
       "      <td>8</td>\n",
       "      <td>2</td>\n",
       "      <td>7622.453034</td>\n",
       "      <td>47.205960</td>\n",
       "    </tr>\n",
       "    <tr>\n",
       "      <th>11328</th>\n",
       "      <td>1534</td>\n",
       "      <td>9</td>\n",
       "      <td>1</td>\n",
       "      <td>4928.173852</td>\n",
       "      <td>22.560373</td>\n",
       "    </tr>\n",
       "    <tr>\n",
       "      <th>11329</th>\n",
       "      <td>1534</td>\n",
       "      <td>11</td>\n",
       "      <td>4</td>\n",
       "      <td>13350.015305</td>\n",
       "      <td>76.342174</td>\n",
       "    </tr>\n",
       "    <tr>\n",
       "      <th>11330</th>\n",
       "      <td>1534</td>\n",
       "      <td>12</td>\n",
       "      <td>1</td>\n",
       "      <td>2371.711192</td>\n",
       "      <td>15.893917</td>\n",
       "    </tr>\n",
       "  </tbody>\n",
       "</table>\n",
       "<p>11331 rows × 5 columns</p>\n",
       "</div>"
      ],
      "text/plain": [
       "      user_id month_of_rides distance                 duration\n",
       "                                count           sum        sum\n",
       "0           1              1        2   7027.511294  41.416640\n",
       "1           1              4        1    754.159807   6.232113\n",
       "2           1              8        2   6723.470560  44.776802\n",
       "3           1             10        2   5809.911100  31.578017\n",
       "4           1             11        3   7003.499363  53.397424\n",
       "...       ...            ...      ...           ...        ...\n",
       "11326    1534              6        2   3409.468534  24.812678\n",
       "11327    1534              8        2   7622.453034  47.205960\n",
       "11328    1534              9        1   4928.173852  22.560373\n",
       "11329    1534             11        4  13350.015305  76.342174\n",
       "11330    1534             12        1   2371.711192  15.893917\n",
       "\n",
       "[11331 rows x 5 columns]"
      ]
     },
     "execution_count": 61,
     "metadata": {},
     "output_type": "execute_result"
    }
   ],
   "source": [
    "#создаем агрегигованную таблицу для каждого пользователя с группировкой по месяцам со следующими посчитанными значениями:\n",
    "#общее кол-во поездок, общее преодоленное расстояние, общая длительность поездок по месяцам\n",
    "data_all_users_pivot = data_all.pivot_table(index = ['user_id','month_of_rides'],\\\n",
    "                values = ['distance','duration'], aggfunc={'distance' : ['sum','count'], 'duration' : 'sum'}).reset_index()\n",
    "data_all_users_pivot"
   ]
  },
  {
   "cell_type": "markdown",
   "id": "27e8dd06",
   "metadata": {},
   "source": [
    "### Добавление столбца с помесячной выручкой"
   ]
  },
  {
   "cell_type": "code",
   "execution_count": 62,
   "id": "e2658b96",
   "metadata": {},
   "outputs": [],
   "source": [
    "#добавляем в объединенный датафрейм data_all столбец со стоимостью одной поездки,\n",
    "#округляя длительность поездки до целого значения вверх\n",
    "data_all['cost_of_ride'] = data_all['start_ride_price'] + (np.ceil(data_all['duration'])*data_all['minute_price'])"
   ]
  },
  {
   "cell_type": "markdown",
   "id": "b727b1c0",
   "metadata": {},
   "source": [
    "Обновляем агрегированную таблицу, добавляя столбец со стоимостью поездок за месяц, типом подписки и стоимостью подписки"
   ]
  },
  {
   "cell_type": "code",
   "execution_count": 63,
   "id": "d14d621e",
   "metadata": {},
   "outputs": [
    {
     "data": {
      "text/html": [
       "<div>\n",
       "<style scoped>\n",
       "    .dataframe tbody tr th:only-of-type {\n",
       "        vertical-align: middle;\n",
       "    }\n",
       "\n",
       "    .dataframe tbody tr th {\n",
       "        vertical-align: top;\n",
       "    }\n",
       "\n",
       "    .dataframe thead tr th {\n",
       "        text-align: left;\n",
       "    }\n",
       "</style>\n",
       "<table border=\"1\" class=\"dataframe\">\n",
       "  <thead>\n",
       "    <tr>\n",
       "      <th></th>\n",
       "      <th>user_id</th>\n",
       "      <th>month_of_rides</th>\n",
       "      <th>cost_of_ride</th>\n",
       "      <th colspan=\"2\" halign=\"left\">distance</th>\n",
       "      <th>duration</th>\n",
       "      <th>subscription_fee</th>\n",
       "      <th>subscription_type</th>\n",
       "    </tr>\n",
       "    <tr>\n",
       "      <th></th>\n",
       "      <th></th>\n",
       "      <th></th>\n",
       "      <th>sum</th>\n",
       "      <th>count</th>\n",
       "      <th>sum</th>\n",
       "      <th>sum</th>\n",
       "      <th>first</th>\n",
       "      <th>first</th>\n",
       "    </tr>\n",
       "  </thead>\n",
       "  <tbody>\n",
       "    <tr>\n",
       "      <th>0</th>\n",
       "      <td>1</td>\n",
       "      <td>1</td>\n",
       "      <td>252.0</td>\n",
       "      <td>2</td>\n",
       "      <td>7027.511294</td>\n",
       "      <td>41.416640</td>\n",
       "      <td>199</td>\n",
       "      <td>ultra</td>\n",
       "    </tr>\n",
       "    <tr>\n",
       "      <th>1</th>\n",
       "      <td>1</td>\n",
       "      <td>4</td>\n",
       "      <td>42.0</td>\n",
       "      <td>1</td>\n",
       "      <td>754.159807</td>\n",
       "      <td>6.232113</td>\n",
       "      <td>199</td>\n",
       "      <td>ultra</td>\n",
       "    </tr>\n",
       "    <tr>\n",
       "      <th>2</th>\n",
       "      <td>1</td>\n",
       "      <td>8</td>\n",
       "      <td>276.0</td>\n",
       "      <td>2</td>\n",
       "      <td>6723.470560</td>\n",
       "      <td>44.776802</td>\n",
       "      <td>199</td>\n",
       "      <td>ultra</td>\n",
       "    </tr>\n",
       "    <tr>\n",
       "      <th>3</th>\n",
       "      <td>1</td>\n",
       "      <td>10</td>\n",
       "      <td>192.0</td>\n",
       "      <td>2</td>\n",
       "      <td>5809.911100</td>\n",
       "      <td>31.578017</td>\n",
       "      <td>199</td>\n",
       "      <td>ultra</td>\n",
       "    </tr>\n",
       "    <tr>\n",
       "      <th>4</th>\n",
       "      <td>1</td>\n",
       "      <td>11</td>\n",
       "      <td>336.0</td>\n",
       "      <td>3</td>\n",
       "      <td>7003.499363</td>\n",
       "      <td>53.397424</td>\n",
       "      <td>199</td>\n",
       "      <td>ultra</td>\n",
       "    </tr>\n",
       "    <tr>\n",
       "      <th>...</th>\n",
       "      <td>...</td>\n",
       "      <td>...</td>\n",
       "      <td>...</td>\n",
       "      <td>...</td>\n",
       "      <td>...</td>\n",
       "      <td>...</td>\n",
       "      <td>...</td>\n",
       "      <td>...</td>\n",
       "    </tr>\n",
       "    <tr>\n",
       "      <th>11326</th>\n",
       "      <td>1534</td>\n",
       "      <td>6</td>\n",
       "      <td>308.0</td>\n",
       "      <td>2</td>\n",
       "      <td>3409.468534</td>\n",
       "      <td>24.812678</td>\n",
       "      <td>0</td>\n",
       "      <td>free</td>\n",
       "    </tr>\n",
       "    <tr>\n",
       "      <th>11327</th>\n",
       "      <td>1534</td>\n",
       "      <td>8</td>\n",
       "      <td>484.0</td>\n",
       "      <td>2</td>\n",
       "      <td>7622.453034</td>\n",
       "      <td>47.205960</td>\n",
       "      <td>0</td>\n",
       "      <td>free</td>\n",
       "    </tr>\n",
       "    <tr>\n",
       "      <th>11328</th>\n",
       "      <td>1534</td>\n",
       "      <td>9</td>\n",
       "      <td>234.0</td>\n",
       "      <td>1</td>\n",
       "      <td>4928.173852</td>\n",
       "      <td>22.560373</td>\n",
       "      <td>0</td>\n",
       "      <td>free</td>\n",
       "    </tr>\n",
       "    <tr>\n",
       "      <th>11329</th>\n",
       "      <td>1534</td>\n",
       "      <td>11</td>\n",
       "      <td>824.0</td>\n",
       "      <td>4</td>\n",
       "      <td>13350.015305</td>\n",
       "      <td>76.342174</td>\n",
       "      <td>0</td>\n",
       "      <td>free</td>\n",
       "    </tr>\n",
       "    <tr>\n",
       "      <th>11330</th>\n",
       "      <td>1534</td>\n",
       "      <td>12</td>\n",
       "      <td>178.0</td>\n",
       "      <td>1</td>\n",
       "      <td>2371.711192</td>\n",
       "      <td>15.893917</td>\n",
       "      <td>0</td>\n",
       "      <td>free</td>\n",
       "    </tr>\n",
       "  </tbody>\n",
       "</table>\n",
       "<p>11331 rows × 8 columns</p>\n",
       "</div>"
      ],
      "text/plain": [
       "      user_id month_of_rides cost_of_ride distance                 duration  \\\n",
       "                                      sum    count           sum        sum   \n",
       "0           1              1        252.0        2   7027.511294  41.416640   \n",
       "1           1              4         42.0        1    754.159807   6.232113   \n",
       "2           1              8        276.0        2   6723.470560  44.776802   \n",
       "3           1             10        192.0        2   5809.911100  31.578017   \n",
       "4           1             11        336.0        3   7003.499363  53.397424   \n",
       "...       ...            ...          ...      ...           ...        ...   \n",
       "11326    1534              6        308.0        2   3409.468534  24.812678   \n",
       "11327    1534              8        484.0        2   7622.453034  47.205960   \n",
       "11328    1534              9        234.0        1   4928.173852  22.560373   \n",
       "11329    1534             11        824.0        4  13350.015305  76.342174   \n",
       "11330    1534             12        178.0        1   2371.711192  15.893917   \n",
       "\n",
       "      subscription_fee subscription_type  \n",
       "                 first             first  \n",
       "0                  199             ultra  \n",
       "1                  199             ultra  \n",
       "2                  199             ultra  \n",
       "3                  199             ultra  \n",
       "4                  199             ultra  \n",
       "...                ...               ...  \n",
       "11326                0              free  \n",
       "11327                0              free  \n",
       "11328                0              free  \n",
       "11329                0              free  \n",
       "11330                0              free  \n",
       "\n",
       "[11331 rows x 8 columns]"
      ]
     },
     "execution_count": 63,
     "metadata": {},
     "output_type": "execute_result"
    }
   ],
   "source": [
    "data_all_users_pivot = data_all.pivot_table(index = ['user_id','month_of_rides'],\\\n",
    "                values = ['distance','duration','cost_of_ride','subscription_fee', 'subscription_type'], \\\n",
    "                aggfunc={'distance' : ['sum','count'], 'duration' : 'sum', 'cost_of_ride' : 'sum',\\\n",
    "                         'subscription_type': 'first', 'subscription_fee': 'first'}).reset_index()\n",
    "data_all_users_pivot"
   ]
  },
  {
   "cell_type": "markdown",
   "id": "952a496b",
   "metadata": {},
   "source": [
    "Обновляем агрегированную таблицу, добавляя столбец с выручкой за месяц с одного клиента"
   ]
  },
  {
   "cell_type": "code",
   "execution_count": 64,
   "id": "83484df9",
   "metadata": {},
   "outputs": [
    {
     "data": {
      "text/html": [
       "<div>\n",
       "<style scoped>\n",
       "    .dataframe tbody tr th:only-of-type {\n",
       "        vertical-align: middle;\n",
       "    }\n",
       "\n",
       "    .dataframe tbody tr th {\n",
       "        vertical-align: top;\n",
       "    }\n",
       "\n",
       "    .dataframe thead tr th {\n",
       "        text-align: left;\n",
       "    }\n",
       "</style>\n",
       "<table border=\"1\" class=\"dataframe\">\n",
       "  <thead>\n",
       "    <tr>\n",
       "      <th></th>\n",
       "      <th>user_id</th>\n",
       "      <th>month_of_rides</th>\n",
       "      <th>cost_of_ride</th>\n",
       "      <th colspan=\"2\" halign=\"left\">distance</th>\n",
       "      <th>duration</th>\n",
       "      <th>subscription_fee</th>\n",
       "      <th>subscription_type</th>\n",
       "      <th>full_cost_of_month</th>\n",
       "    </tr>\n",
       "    <tr>\n",
       "      <th></th>\n",
       "      <th></th>\n",
       "      <th></th>\n",
       "      <th>sum</th>\n",
       "      <th>count</th>\n",
       "      <th>sum</th>\n",
       "      <th>sum</th>\n",
       "      <th>first</th>\n",
       "      <th>first</th>\n",
       "      <th></th>\n",
       "    </tr>\n",
       "  </thead>\n",
       "  <tbody>\n",
       "    <tr>\n",
       "      <th>0</th>\n",
       "      <td>1</td>\n",
       "      <td>1</td>\n",
       "      <td>252.0</td>\n",
       "      <td>2</td>\n",
       "      <td>7027.511294</td>\n",
       "      <td>41.416640</td>\n",
       "      <td>199</td>\n",
       "      <td>ultra</td>\n",
       "      <td>451.0</td>\n",
       "    </tr>\n",
       "    <tr>\n",
       "      <th>1</th>\n",
       "      <td>1</td>\n",
       "      <td>4</td>\n",
       "      <td>42.0</td>\n",
       "      <td>1</td>\n",
       "      <td>754.159807</td>\n",
       "      <td>6.232113</td>\n",
       "      <td>199</td>\n",
       "      <td>ultra</td>\n",
       "      <td>241.0</td>\n",
       "    </tr>\n",
       "    <tr>\n",
       "      <th>2</th>\n",
       "      <td>1</td>\n",
       "      <td>8</td>\n",
       "      <td>276.0</td>\n",
       "      <td>2</td>\n",
       "      <td>6723.470560</td>\n",
       "      <td>44.776802</td>\n",
       "      <td>199</td>\n",
       "      <td>ultra</td>\n",
       "      <td>475.0</td>\n",
       "    </tr>\n",
       "    <tr>\n",
       "      <th>3</th>\n",
       "      <td>1</td>\n",
       "      <td>10</td>\n",
       "      <td>192.0</td>\n",
       "      <td>2</td>\n",
       "      <td>5809.911100</td>\n",
       "      <td>31.578017</td>\n",
       "      <td>199</td>\n",
       "      <td>ultra</td>\n",
       "      <td>391.0</td>\n",
       "    </tr>\n",
       "    <tr>\n",
       "      <th>4</th>\n",
       "      <td>1</td>\n",
       "      <td>11</td>\n",
       "      <td>336.0</td>\n",
       "      <td>3</td>\n",
       "      <td>7003.499363</td>\n",
       "      <td>53.397424</td>\n",
       "      <td>199</td>\n",
       "      <td>ultra</td>\n",
       "      <td>535.0</td>\n",
       "    </tr>\n",
       "    <tr>\n",
       "      <th>...</th>\n",
       "      <td>...</td>\n",
       "      <td>...</td>\n",
       "      <td>...</td>\n",
       "      <td>...</td>\n",
       "      <td>...</td>\n",
       "      <td>...</td>\n",
       "      <td>...</td>\n",
       "      <td>...</td>\n",
       "      <td>...</td>\n",
       "    </tr>\n",
       "    <tr>\n",
       "      <th>11326</th>\n",
       "      <td>1534</td>\n",
       "      <td>6</td>\n",
       "      <td>308.0</td>\n",
       "      <td>2</td>\n",
       "      <td>3409.468534</td>\n",
       "      <td>24.812678</td>\n",
       "      <td>0</td>\n",
       "      <td>free</td>\n",
       "      <td>308.0</td>\n",
       "    </tr>\n",
       "    <tr>\n",
       "      <th>11327</th>\n",
       "      <td>1534</td>\n",
       "      <td>8</td>\n",
       "      <td>484.0</td>\n",
       "      <td>2</td>\n",
       "      <td>7622.453034</td>\n",
       "      <td>47.205960</td>\n",
       "      <td>0</td>\n",
       "      <td>free</td>\n",
       "      <td>484.0</td>\n",
       "    </tr>\n",
       "    <tr>\n",
       "      <th>11328</th>\n",
       "      <td>1534</td>\n",
       "      <td>9</td>\n",
       "      <td>234.0</td>\n",
       "      <td>1</td>\n",
       "      <td>4928.173852</td>\n",
       "      <td>22.560373</td>\n",
       "      <td>0</td>\n",
       "      <td>free</td>\n",
       "      <td>234.0</td>\n",
       "    </tr>\n",
       "    <tr>\n",
       "      <th>11329</th>\n",
       "      <td>1534</td>\n",
       "      <td>11</td>\n",
       "      <td>824.0</td>\n",
       "      <td>4</td>\n",
       "      <td>13350.015305</td>\n",
       "      <td>76.342174</td>\n",
       "      <td>0</td>\n",
       "      <td>free</td>\n",
       "      <td>824.0</td>\n",
       "    </tr>\n",
       "    <tr>\n",
       "      <th>11330</th>\n",
       "      <td>1534</td>\n",
       "      <td>12</td>\n",
       "      <td>178.0</td>\n",
       "      <td>1</td>\n",
       "      <td>2371.711192</td>\n",
       "      <td>15.893917</td>\n",
       "      <td>0</td>\n",
       "      <td>free</td>\n",
       "      <td>178.0</td>\n",
       "    </tr>\n",
       "  </tbody>\n",
       "</table>\n",
       "<p>11331 rows × 9 columns</p>\n",
       "</div>"
      ],
      "text/plain": [
       "      user_id month_of_rides cost_of_ride distance                 duration  \\\n",
       "                                      sum    count           sum        sum   \n",
       "0           1              1        252.0        2   7027.511294  41.416640   \n",
       "1           1              4         42.0        1    754.159807   6.232113   \n",
       "2           1              8        276.0        2   6723.470560  44.776802   \n",
       "3           1             10        192.0        2   5809.911100  31.578017   \n",
       "4           1             11        336.0        3   7003.499363  53.397424   \n",
       "...       ...            ...          ...      ...           ...        ...   \n",
       "11326    1534              6        308.0        2   3409.468534  24.812678   \n",
       "11327    1534              8        484.0        2   7622.453034  47.205960   \n",
       "11328    1534              9        234.0        1   4928.173852  22.560373   \n",
       "11329    1534             11        824.0        4  13350.015305  76.342174   \n",
       "11330    1534             12        178.0        1   2371.711192  15.893917   \n",
       "\n",
       "      subscription_fee subscription_type full_cost_of_month  \n",
       "                 first             first                     \n",
       "0                  199             ultra              451.0  \n",
       "1                  199             ultra              241.0  \n",
       "2                  199             ultra              475.0  \n",
       "3                  199             ultra              391.0  \n",
       "4                  199             ultra              535.0  \n",
       "...                ...               ...                ...  \n",
       "11326                0              free              308.0  \n",
       "11327                0              free              484.0  \n",
       "11328                0              free              234.0  \n",
       "11329                0              free              824.0  \n",
       "11330                0              free              178.0  \n",
       "\n",
       "[11331 rows x 9 columns]"
      ]
     },
     "execution_count": 64,
     "metadata": {},
     "output_type": "execute_result"
    }
   ],
   "source": [
    "data_all_users_pivot['full_cost_of_month'] = \\\n",
    "    data_all_users_pivot[('cost_of_ride','sum')] + data_all_users_pivot[('subscription_fee','first')]\n",
    "data_all_users_pivot"
   ]
  },
  {
   "cell_type": "code",
   "execution_count": 69,
   "id": "7131c616",
   "metadata": {},
   "outputs": [
    {
     "data": {
      "text/html": [
       "<div>\n",
       "<style scoped>\n",
       "    .dataframe tbody tr th:only-of-type {\n",
       "        vertical-align: middle;\n",
       "    }\n",
       "\n",
       "    .dataframe tbody tr th {\n",
       "        vertical-align: top;\n",
       "    }\n",
       "\n",
       "    .dataframe thead th {\n",
       "        text-align: right;\n",
       "    }\n",
       "</style>\n",
       "<table border=\"1\" class=\"dataframe\">\n",
       "  <thead>\n",
       "    <tr style=\"text-align: right;\">\n",
       "      <th></th>\n",
       "      <th>user_id</th>\n",
       "      <th>Номер месяца</th>\n",
       "      <th>Кол-во поездок</th>\n",
       "      <th>Общее расстояние, м</th>\n",
       "      <th>Общая длительность, мин</th>\n",
       "      <th>Стоимость поездок за месяц, руб</th>\n",
       "      <th>Выручка с клиента, руб</th>\n",
       "      <th>Стоимость подписки, руб</th>\n",
       "      <th>Тип подписки</th>\n",
       "    </tr>\n",
       "  </thead>\n",
       "  <tbody>\n",
       "    <tr>\n",
       "      <th>0</th>\n",
       "      <td>1</td>\n",
       "      <td>1</td>\n",
       "      <td>2</td>\n",
       "      <td>7027.511294</td>\n",
       "      <td>41.416640</td>\n",
       "      <td>252.0</td>\n",
       "      <td>451.0</td>\n",
       "      <td>199</td>\n",
       "      <td>ultra</td>\n",
       "    </tr>\n",
       "    <tr>\n",
       "      <th>1</th>\n",
       "      <td>1</td>\n",
       "      <td>4</td>\n",
       "      <td>1</td>\n",
       "      <td>754.159807</td>\n",
       "      <td>6.232113</td>\n",
       "      <td>42.0</td>\n",
       "      <td>241.0</td>\n",
       "      <td>199</td>\n",
       "      <td>ultra</td>\n",
       "    </tr>\n",
       "    <tr>\n",
       "      <th>2</th>\n",
       "      <td>1</td>\n",
       "      <td>8</td>\n",
       "      <td>2</td>\n",
       "      <td>6723.470560</td>\n",
       "      <td>44.776802</td>\n",
       "      <td>276.0</td>\n",
       "      <td>475.0</td>\n",
       "      <td>199</td>\n",
       "      <td>ultra</td>\n",
       "    </tr>\n",
       "    <tr>\n",
       "      <th>3</th>\n",
       "      <td>1</td>\n",
       "      <td>10</td>\n",
       "      <td>2</td>\n",
       "      <td>5809.911100</td>\n",
       "      <td>31.578017</td>\n",
       "      <td>192.0</td>\n",
       "      <td>391.0</td>\n",
       "      <td>199</td>\n",
       "      <td>ultra</td>\n",
       "    </tr>\n",
       "    <tr>\n",
       "      <th>4</th>\n",
       "      <td>1</td>\n",
       "      <td>11</td>\n",
       "      <td>3</td>\n",
       "      <td>7003.499363</td>\n",
       "      <td>53.397424</td>\n",
       "      <td>336.0</td>\n",
       "      <td>535.0</td>\n",
       "      <td>199</td>\n",
       "      <td>ultra</td>\n",
       "    </tr>\n",
       "    <tr>\n",
       "      <th>...</th>\n",
       "      <td>...</td>\n",
       "      <td>...</td>\n",
       "      <td>...</td>\n",
       "      <td>...</td>\n",
       "      <td>...</td>\n",
       "      <td>...</td>\n",
       "      <td>...</td>\n",
       "      <td>...</td>\n",
       "      <td>...</td>\n",
       "    </tr>\n",
       "    <tr>\n",
       "      <th>11326</th>\n",
       "      <td>1534</td>\n",
       "      <td>6</td>\n",
       "      <td>2</td>\n",
       "      <td>3409.468534</td>\n",
       "      <td>24.812678</td>\n",
       "      <td>308.0</td>\n",
       "      <td>308.0</td>\n",
       "      <td>0</td>\n",
       "      <td>free</td>\n",
       "    </tr>\n",
       "    <tr>\n",
       "      <th>11327</th>\n",
       "      <td>1534</td>\n",
       "      <td>8</td>\n",
       "      <td>2</td>\n",
       "      <td>7622.453034</td>\n",
       "      <td>47.205960</td>\n",
       "      <td>484.0</td>\n",
       "      <td>484.0</td>\n",
       "      <td>0</td>\n",
       "      <td>free</td>\n",
       "    </tr>\n",
       "    <tr>\n",
       "      <th>11328</th>\n",
       "      <td>1534</td>\n",
       "      <td>9</td>\n",
       "      <td>1</td>\n",
       "      <td>4928.173852</td>\n",
       "      <td>22.560373</td>\n",
       "      <td>234.0</td>\n",
       "      <td>234.0</td>\n",
       "      <td>0</td>\n",
       "      <td>free</td>\n",
       "    </tr>\n",
       "    <tr>\n",
       "      <th>11329</th>\n",
       "      <td>1534</td>\n",
       "      <td>11</td>\n",
       "      <td>4</td>\n",
       "      <td>13350.015305</td>\n",
       "      <td>76.342174</td>\n",
       "      <td>824.0</td>\n",
       "      <td>824.0</td>\n",
       "      <td>0</td>\n",
       "      <td>free</td>\n",
       "    </tr>\n",
       "    <tr>\n",
       "      <th>11330</th>\n",
       "      <td>1534</td>\n",
       "      <td>12</td>\n",
       "      <td>1</td>\n",
       "      <td>2371.711192</td>\n",
       "      <td>15.893917</td>\n",
       "      <td>178.0</td>\n",
       "      <td>178.0</td>\n",
       "      <td>0</td>\n",
       "      <td>free</td>\n",
       "    </tr>\n",
       "  </tbody>\n",
       "</table>\n",
       "<p>11331 rows × 9 columns</p>\n",
       "</div>"
      ],
      "text/plain": [
       "       user_id  Номер месяца  Кол-во поездок  Общее расстояние, м  \\\n",
       "0            1             1               2          7027.511294   \n",
       "1            1             4               1           754.159807   \n",
       "2            1             8               2          6723.470560   \n",
       "3            1            10               2          5809.911100   \n",
       "4            1            11               3          7003.499363   \n",
       "...        ...           ...             ...                  ...   \n",
       "11326     1534             6               2          3409.468534   \n",
       "11327     1534             8               2          7622.453034   \n",
       "11328     1534             9               1          4928.173852   \n",
       "11329     1534            11               4         13350.015305   \n",
       "11330     1534            12               1          2371.711192   \n",
       "\n",
       "       Общая длительность, мин  Стоимость поездок за месяц, руб  \\\n",
       "0                    41.416640                            252.0   \n",
       "1                     6.232113                             42.0   \n",
       "2                    44.776802                            276.0   \n",
       "3                    31.578017                            192.0   \n",
       "4                    53.397424                            336.0   \n",
       "...                        ...                              ...   \n",
       "11326                24.812678                            308.0   \n",
       "11327                47.205960                            484.0   \n",
       "11328                22.560373                            234.0   \n",
       "11329                76.342174                            824.0   \n",
       "11330                15.893917                            178.0   \n",
       "\n",
       "       Выручка с клиента, руб  Стоимость подписки, руб Тип подписки  \n",
       "0                       451.0                      199        ultra  \n",
       "1                       241.0                      199        ultra  \n",
       "2                       475.0                      199        ultra  \n",
       "3                       391.0                      199        ultra  \n",
       "4                       535.0                      199        ultra  \n",
       "...                       ...                      ...          ...  \n",
       "11326                   308.0                        0         free  \n",
       "11327                   484.0                        0         free  \n",
       "11328                   234.0                        0         free  \n",
       "11329                   824.0                        0         free  \n",
       "11330                   178.0                        0         free  \n",
       "\n",
       "[11331 rows x 9 columns]"
      ]
     },
     "execution_count": 69,
     "metadata": {},
     "output_type": "execute_result"
    }
   ],
   "source": [
    "#обновляем имена столбцов\n",
    "data_all_users_pivot.columns = ['user_id', 'Номер месяца', 'Стоимость поездок за месяц, руб', 'Кол-во поездок',\\\n",
    "        'Общее расстояние, м', 'Общая длительность, мин', 'Стоимость подписки, руб', 'Тип подписки', 'Выручка с клиента, руб']\n",
    "data_all_users_pivot[['user_id','Номер месяца','Кол-во поездок','Общее расстояние, м','Общая длительность, мин',\\\n",
    "                      'Стоимость поездок за месяц, руб', 'Выручка с клиента, руб','Стоимость подписки, руб', 'Тип подписки']]"
   ]
  },
  {
   "cell_type": "markdown",
   "id": "ebd85038",
   "metadata": {},
   "source": [
    "**Создана сводная таблица с основными показателями, сгруппированными по id пользователя и месяцам.**"
   ]
  },
  {
   "cell_type": "markdown",
   "id": "1bdc6c53",
   "metadata": {},
   "source": [
    "## Проверка гипотез"
   ]
  },
  {
   "cell_type": "markdown",
   "id": "89f8f40c",
   "metadata": {},
   "source": [
    "### Трата времени на поездки пользователей разных групп"
   ]
  },
  {
   "cell_type": "markdown",
   "id": "494354bd",
   "metadata": {},
   "source": [
    "*Существует предположение: \"Тратят ли пользователи с подпиской больше времени на поездки?\"*\n",
    "\n",
    "**Формируем нулевую и альтернативную гипотезы и проводим двухвыборочный T-тест для двух независимых выборок**\n",
    "- Ho- длительность поездок пользователей с подпиской равна длительности поездок польователей без подписки\n",
    "- H1 - длительность поездок пользователей с подпиской больше, чем без подписки"
   ]
  },
  {
   "cell_type": "code",
   "execution_count": 70,
   "id": "bbceb91b",
   "metadata": {},
   "outputs": [
    {
     "name": "stdout",
     "output_type": "stream",
     "text": [
      "Среднее значение для выборки пользователей с подпиской: 18.54198516280583\n",
      "Среднее значение для выборки пользователей без подписки: 17.39090929866399\n",
      "p-value: 1.2804098316645618e-34\n",
      "Отвергаем нулевую гипотезу\n"
     ]
    }
   ],
   "source": [
    "alpha = 0.05\n",
    "print(f'Среднее значение для выборки пользователей с подпиской: {data_users_ultra[\"duration\"].mean()}')\n",
    "print(f'Среднее значение для выборки пользователей без подписки: {data_users_free[\"duration\"].mean()}')\n",
    "results_time = st.ttest_ind(data_users_ultra['duration'], data_users_free['duration'],  alternative='greater')\n",
    "print(f'p-value: {results_time.pvalue}')\n",
    "\n",
    "if results_time.pvalue < alpha:\n",
    "    print('Отвергаем нулевую гипотезу')\n",
    "else:\n",
    "    print('Не получилось отвергнуть нулевую гипотезу') "
   ]
  },
  {
   "cell_type": "markdown",
   "id": "c7bdf036",
   "metadata": {},
   "source": [
    "**Нулевая гипотеза не подтвердилась. Вероятность того, что средняя длительность поездок пользователей с подпиской больше, значима.**"
   ]
  },
  {
   "cell_type": "markdown",
   "id": "af9ec9fa",
   "metadata": {},
   "source": [
    "### Оптимальное расстояние поездки"
   ]
  },
  {
   "cell_type": "markdown",
   "id": "6443f70e",
   "metadata": {},
   "source": [
    "*Существует предположение: \"Расстояние одной поездки в 3130 метров — оптимальное с точки зрения износа самоката.\"*\n",
    "\n",
    "**Формируем нулевую и альтернативную гипотезы и проводим одновыборочный T-тест**\n",
    "\n",
    "- Но - среднее расстояние одной поездки пользователей с подпиской - 3130 метров\n",
    "- H1 - среднее расстояние одной поездки пользователей с подпиской больше 3130 метров"
   ]
  },
  {
   "cell_type": "code",
   "execution_count": 71,
   "id": "bc329e83",
   "metadata": {},
   "outputs": [
    {
     "name": "stdout",
     "output_type": "stream",
     "text": [
      "Среднее значение расстояния для выборки пользователей с подпиской: 3115.4453880370247\n",
      "p-value: 0.9195368847849785\n",
      "Не получилось отвергнуть нулевую гипотезу\n"
     ]
    }
   ],
   "source": [
    "optimal_distance = 3130\n",
    "print(f'Среднее значение расстояния для выборки пользователей с подпиской: {data_users_ultra[\"distance\"].mean()}')\n",
    "results_optimal_distance = st.ttest_1samp(data_users_ultra['distance'], optimal_distance, alternative='greater')\n",
    "print(f'p-value: {results_optimal_distance.pvalue}')\n",
    "\n",
    "if results_optimal_distance.pvalue < alpha:\n",
    "    print('Отвергаем нулевую гипотезу')\n",
    "else:\n",
    "    print('Не получилось отвергнуть нулевую гипотезу')"
   ]
  },
  {
   "cell_type": "markdown",
   "id": "8f98e19b",
   "metadata": {},
   "source": [
    "**Нулевая гипотеза не может быть отвергнута, вероятность получить среднее в 3130 метров для пользователей с подпиской больше уровня статистической значимости. Значит, среднее расстояние, которое проезжают пользователи с подпиской за одну поездку, не превышает 3130 метров.**"
   ]
  },
  {
   "cell_type": "markdown",
   "id": "63867441",
   "metadata": {},
   "source": [
    "### Помесячная выручка от пользователей разных категорий"
   ]
  },
  {
   "cell_type": "markdown",
   "id": "677b065a",
   "metadata": {},
   "source": [
    "*Существует гипотеза: \"Будет ли помесячная выручка от пользователей с подпиской по месяцам выше, чем выручка от пользователей без подписки.\"*\n",
    "\n",
    "**Формируем нулевую и альтернативную гипотезы и проводим двухвыборочный T-тест для двух независимых выборок**\n",
    "\n",
    "- Ho - средние значения помесячных выручек от пользователей с подпиской и без подписки одинаковы\n",
    "- H1 - среднее значение помесячной выбурчки от пользователей с подпиской выше, чем от пользователей без подписки"
   ]
  },
  {
   "cell_type": "code",
   "execution_count": 72,
   "id": "71c34d12",
   "metadata": {},
   "outputs": [
    {
     "name": "stdout",
     "output_type": "stream",
     "text": [
      "Среднее значение помесячной выручки для группы пользователей с подпиской: 362.7921906022502\n",
      "Среднее значение помесячной выручки для группы пользователей без подписки: 328.6413651073845\n",
      "p-value: 1.8850394384715216e-31\n",
      "Отвергаем нулевую гипотезу\n"
     ]
    }
   ],
   "source": [
    "print('Среднее значение помесячной выручки для группы пользователей с подпиской:', \\\n",
    "    data_all_users_pivot.loc[data_all_users_pivot['user_id'].isin(data_users_ultra['user_id'].unique()), 'Выручка с клиента, руб'].mean())\n",
    "print('Среднее значение помесячной выручки для группы пользователей без подписки:', \\\n",
    "    data_all_users_pivot.loc[data_all_users_pivot['user_id'].isin(data_users_free['user_id'].unique()), 'Выручка с клиента, руб'].mean())\n",
    "\n",
    "results_cost_of_ride = st.ttest_ind(\\\n",
    "    data_all_users_pivot.loc[data_all_users_pivot['user_id'].isin(data_users_ultra['user_id'].unique()), 'Выручка с клиента, руб'],\\\n",
    "    data_all_users_pivot.loc[data_all_users_pivot['user_id'].isin(data_users_free['user_id'].unique()), 'Выручка с клиента, руб'],\\\n",
    "                                   alternative='greater')\n",
    "print(f'p-value: {results_cost_of_ride.pvalue}')\n",
    "\n",
    "if results_cost_of_ride.pvalue < alpha:\n",
    "    print('Отвергаем нулевую гипотезу')\n",
    "else:\n",
    "    print('Не получилось отвергнуть нулевую гипотезу') "
   ]
  },
  {
   "cell_type": "markdown",
   "id": "b6140b5f",
   "metadata": {},
   "source": [
    "*Нулевая гипотеза не подтвердилась. Помесячная выручка от группы пользователей с подпиской выше, чем от пользователей без подписки.*"
   ]
  },
  {
   "cell_type": "markdown",
   "id": "cc12bc54",
   "metadata": {},
   "source": [
    "**После проверки гипотез получились следующие результаты:**\n",
    "\n",
    "- пользователи с подпиской тратят больше времени на поездки\n",
    "- среднее расстояние одной поездки пользователей с подпиской приближено к  3130 метрам - оптимальному расстоянию с точки зрения износа самоката\n",
    "- помесячная выручка от группы пользователей с подпиской выше, чем от пользователей без подписки\n"
   ]
  },
  {
   "cell_type": "markdown",
   "id": "50d8d208",
   "metadata": {},
   "source": [
    "## Распределения"
   ]
  },
  {
   "cell_type": "markdown",
   "id": "d166620e",
   "metadata": {},
   "source": [
    "### Рассылка промокодов"
   ]
  },
  {
   "cell_type": "code",
   "execution_count": 81,
   "id": "68251753",
   "metadata": {},
   "outputs": [
    {
     "name": "stderr",
     "output_type": "stream",
     "text": [
      "/opt/conda/lib/python3.9/site-packages/scipy/stats/_discrete_distns.py:78: RuntimeWarning: divide by zero encountered in _binom_pdf\n",
      "  return _boost._binom_pdf(x, n, p)\n"
     ]
    },
    {
     "data": {
      "image/png": "[encoded data removed]",
      "text/plain": [
       "<Figure size 432x288 with 1 Axes>"
      ]
     },
     "metadata": {
      "needs_background": "light"
     },
     "output_type": "display_data"
    }
   ],
   "source": [
    "#зададим параметры биномиального распределения, параметр n будем в дальнейшем менять и подбирать необходимый\n",
    "n=1168 # общее кол-во направляемых промокодов\n",
    "p=0.1 #вероятность продления подписки после бесплатного месяца\n",
    "\n",
    "distr = [] #создаем пустой список для записывания вероятностей биномиального распределения\n",
    "\n",
    "# цикл для расчета вероятности для каждого значения в наборе\n",
    "for k in range(0, n + 1):\n",
    "    current_value = binom.pmf(k, n, p)\n",
    "    distr.append(current_value)\n",
    "#строим график биномиального распределения\n",
    "plt.bar(range(0, n + 1), distr)\n",
    "#уменьшаем диапазон значений по оси х для наглядности\n",
    "plt.xlim(50, 170)\n",
    "plt.show()"
   ]
  },
  {
   "cell_type": "markdown",
   "id": "402a9e38",
   "metadata": {},
   "source": [
    "*Теперь необходимо подобрать значение n для того, чтобы хвост от 100 влево составлял примерно 5% от общей площади*"
   ]
  },
  {
   "cell_type": "code",
   "execution_count": 74,
   "id": "860ff0c9",
   "metadata": {},
   "outputs": [
    {
     "name": "stdout",
     "output_type": "stream",
     "text": [
      "Вероятность невыполнения плана: 0.050650790692463\n"
     ]
    }
   ],
   "source": [
    "#через апроксимацию нормальным распределением попробуем подобрать параметр n,\n",
    "#считаем, что мат. ожидание и ст. отклонение биномиального распределения и нормального равны\n",
    "\n",
    "mu = n * p #считаем мат. ожидание\n",
    "sigma = sqrt(n * p * (1 - p)) #считаем ст. отклонение\n",
    "prob = 0.05 #необходимая вероятность невыполнения плана, левый хвост\n",
    "distr = st.norm(mu, sigma) # строим нормальное распределение\n",
    "result_0 = distr.cdf(100) #считаем вероятность получить значение <= 100 продлений подписки\n",
    "print(f'Вероятность невыполнения плана: {result_0}') #выводим полученную вероятность\n",
    "#спустя 10 попыток удалось подобрать n для нужной вероятности "
   ]
  },
  {
   "cell_type": "markdown",
   "id": "6c4c02b9",
   "metadata": {},
   "source": [
    "**1168 - минимальное количество промокодов, которое нужно разослать, чтобы вероятность не выполнить план (100 продлений бесплатного периода подписки после проведения акции) была примерно 5 %**"
   ]
  },
  {
   "cell_type": "markdown",
   "id": "a2bbf8af",
   "metadata": {},
   "source": [
    "### Рассылка Push-уведомлений"
   ]
  },
  {
   "cell_type": "markdown",
   "id": "09fdf0d8",
   "metadata": {},
   "source": [
    "Проверяем условие для хорошей апроксимации, чтобы мат. ожидание +-3 стандартных отклонения лежало в промежутке, на котором определено биномиальное распределение - [0,1000000]\n",
    "\n",
    "```\n",
    "mu = n * p = 1 000 000 * 0.4 = 400 000\n",
    "\n",
    "sigma = 3 * ((n * p * (1 - p))) ** 0.5  = 1469\n",
    "\n",
    "400 000 +- 1469 точно попадает в диапазон [0,1000000]\n",
    "```"
   ]
  },
  {
   "cell_type": "markdown",
   "id": "1d914d26",
   "metadata": {},
   "source": [
    "#### Находим вероятность "
   ]
  },
  {
   "cell_type": "code",
   "execution_count": 75,
   "id": "8a659aa6",
   "metadata": {},
   "outputs": [
    {
     "name": "stdout",
     "output_type": "stream",
     "text": [
      "Вероятность того, что не более 399,5 тыс. пользователей откроют письма ∼ 0.15371708296369768\n"
     ]
    }
   ],
   "source": [
    "n_1 = 1000000 # общее кол-во отправленных Push-уведомлений\n",
    "p_1 = 0.4 # вероятность открытия Push\n",
    "\n",
    "#считаем, что мат. ожидание и ст. отклонение нормального распределения равны \n",
    "#мат. ожиданию и ст. отклонению биномиального распределения\n",
    "\n",
    "#считаем мат. ожидание\n",
    "mu_1 = n_1*p_1 \n",
    "#считаем ст. отклонение\n",
    "sigma_1 = sqrt(n_1*p_1*(1 - p_1))\n",
    "\n",
    "#задаем нормальное распределение\n",
    "distr_1 = st.norm(mu_1,sigma_1)\n",
    "#посчитаем вероятность хвоста слева от 399500 пользователей\n",
    "result_1 = distr_1.cdf(399500)\n",
    "#выводим вероятность того, что не более 399500 пользователей откроют push\n",
    "print(f'Вероятность того, что не более 399,5 тыс. пользователей откроют письма ∼ {result_1}')"
   ]
  },
  {
   "cell_type": "markdown",
   "id": "fb88886d",
   "metadata": {},
   "source": [
    "#### Построение графика распределения "
   ]
  },
  {
   "cell_type": "code",
   "execution_count": 76,
   "id": "38f1de90",
   "metadata": {},
   "outputs": [
    {
     "data": {
      "image/png": "[encoded data removed]",
      "text/plain": [
       "<Figure size 432x288 with 1 Axes>"
      ]
     },
     "metadata": {
      "needs_background": "light"
     },
     "output_type": "display_data"
    }
   ],
   "source": [
    "# зададим функцию, которая выдаёт 1000 чисел,\n",
    "# равномерно распределённых от start до stop\n",
    "def linspace(start, stop, num):\n",
    "    step = (stop - start) / (num - 1)\n",
    "    result = []\n",
    "    for i in range(num):\n",
    "        result.append(start + step * i)\n",
    "    return result\n",
    "\n",
    "#зададим границы промежутка, где будем строить график: mu +- 4 sigma\n",
    "left_1=int(mu_1 - 4*sigma_1)\n",
    "right_1=int(mu_1 + 4*sigma_1)\n",
    "\n",
    "#рисуем график нормального распределения\n",
    "#получим список из 1000 чисел от left до right\n",
    "x_1 = linspace(left_1,right_1,1000)\n",
    "\n",
    "#используем синию линию ширины 2\n",
    "theplot = plt.subplot()\n",
    "theplot.plot(x_1, norm.pdf(x_1, mu_1, sigma_1), 'b-', lw=2)\n",
    "\n",
    "#отобразим график распределения\n",
    "plt.show()"
   ]
  },
  {
   "cell_type": "markdown",
   "id": "9049ed15",
   "metadata": {},
   "source": [
    "**Получили апроксимированный график биномиального распределения нормальным с мат. ожиданием 400000. Вероятность того, что не более 399,5 тыс. пользователей откроют письма составляет всего около 15,37%**"
   ]
  },
  {
   "cell_type": "markdown",
   "id": "5875b8d9",
   "metadata": {},
   "source": [
    "**При построении распределений были получены следующие результаты:**\n",
    "- не менее 1168 промокодов необходимо разослать, чтобы вероятность того, что 100 пользователей из них не продлят подписку составляла 5%.    \n",
    "- при отправке 1 млн. Push-уведомлений в приложение вероятность того, что не более 399,5 тыс. пользователей откроют письма составляет примерно 15,37% "
   ]
  },
  {
   "cell_type": "markdown",
   "id": "54d9a675",
   "metadata": {},
   "source": [
    "## Общие выводы"
   ]
  },
  {
   "cell_type": "markdown",
   "id": "0dfd1ee1",
   "metadata": {},
   "source": [
    "**На этапе предобработки данных были выполнены следующие действия:**\n",
    "\n",
    "- данные проверены на наличие пропусков\n",
    "- исправлены некорректные значения в столбце с длительностью поездок \n",
    "- изменен тип данных в столбце с датой поездки\n",
    "- удалены явные дубликаты из таблицы с информацией о пользователях\n",
    "- добавлен новый столбец для дальнейшего исследования\n",
    "\n",
    "**При проведении исследовательского анализа были получены следующие результаты:**\n",
    "- меньше всего пользователей в Москве - 168, больше всех в Пятигорске - 219, сильных перекосов в кол-ве пользователей по городам нет\n",
    "- пользователей без подписки больше - 835, с подпиской – 699\n",
    "-  больше всего клиентов от 22 до 28 лет с пиком в 25 лет. Меньше всех пользователей до 18 лет и взрослых после 34\n",
    "- наибольшее кол-во поездок происходит в интервале от 13 до 21 минуты у всех пользователей. \n",
    "- чаще всего преодолевается расстояние в интервале между 2.8 км и 3.5 км и меньше всего -  в области 1.5 км\n",
    "- на небольшой дистанции до 1.5 км пользователи часто преодолевают расстояние в диапазоне 0,6-0,7км\n",
    "- чаще всего поездки происходили на расстояние примерно 3 км при длительности поездки в промежутке 15-19 минут\n",
    "\n",
    "**Для визуализации и проверки гипотез была создана сводная таблица и 3 новых датафрейма:**\n",
    "- с общей информацией обо всех пользователях, собранной из всех 3 первичных датафреймов\n",
    "- со всей информацией о пользователях, имеющих подписку\n",
    "- со всей информацией о пользователях, не имеющих подписку\n",
    "\n",
    "Полученные графики показали, что:\n",
    "\n",
    "**Самый частый интервал длительности поездок в двух категориях схож: 13 мин - 21 мин.**\n",
    "\n",
    "**Самые часто встречающиеся расстояния поездок у пользователей:**\n",
    "- с подпиской: 2.8 км - 3.4 км\n",
    "- без подписки: 2.3 км- 3.9 км\n",
    "\n",
    "**Также было обнаружено, что без подписки пользователи чаще берут самокаты на короткие расстояния до 0.8 км.**\n",
    "\n",
    "**При проверке гипотез получились следующие результаты:**\n",
    "\n",
    "- пользователи с подпиской тратят больше времени на поездки\n",
    "- среднее расстояние одной поездки пользователей с подпиской не превышает 3130 метров - оптимальное расстояние с точки зрения износа самоката\n",
    "- помесячная выручка от группы пользователей с подпиской выше, чем от пользователей без подписки\n",
    "\n",
    "**При построении распределений были получены следующие результаты:**\n",
    "- не менее 1168 промокодов необходимо разослать, чтобы вероятность того, что 100 пользователей из них не продлят подписку, составляла примерно 5%.    \n",
    "- при отправке 1 млн. Push-уведомлений в приложение вероятность того, что не более 399,5 тыс. пользователей откроют письма составляет примерно 15,37%\n",
    "\n",
    "**Полученные результаты исследования и проверки гипотез привели к основному выводу: пользователи с подпиской являются более интересными и \"выгодными\" для компании. Привлечение большего кол-ва пользователей на платную подписку поможет развитию бизнеса.**\n",
    "\n",
    "Также предлагаю следующие рекомендации по заполнению значений:\n",
    "- при заполнении таблицы с общей информацией о пользователях добавить проверку на уникальность в столбце 'user_id'\n",
    "- проверить данные с информацией о поездках за другие временные периоды на наличие некорректных данных в столбце с длительностью поездки для понимания, сколько % составляют такие ошибки от общего числа значений (в данном исследовании менее 1%)"
   ]
  }
 ],
 "metadata": {
  "ExecuteTimeLog": [
   {
    "duration": 428,
    "start_time": "2024-11-07T17:24:37.837Z"
   },
   {
    "duration": 60,
    "start_time": "2024-11-07T17:24:39.249Z"
   },
   {
    "duration": 65,
    "start_time": "2024-11-07T17:24:50.387Z"
   },
   {
    "duration": 60,
    "start_time": "2024-11-07T17:25:44.032Z"
   },
   {
    "duration": 89,
    "start_time": "2024-11-07T17:27:22.194Z"
   },
   {
    "duration": 38,
    "start_time": "2024-11-07T17:58:07.374Z"
   },
   {
    "duration": 159,
    "start_time": "2024-11-07T17:58:38.554Z"
   },
   {
    "duration": 36,
    "start_time": "2024-11-07T18:46:56.826Z"
   },
   {
    "duration": 50,
    "start_time": "2024-11-07T18:47:23.724Z"
   },
   {
    "duration": 44,
    "start_time": "2024-11-07T18:47:27.843Z"
   },
   {
    "duration": 81,
    "start_time": "2024-11-07T18:50:50.752Z"
   },
   {
    "duration": 12,
    "start_time": "2024-11-07T18:53:01.320Z"
   },
   {
    "duration": 10,
    "start_time": "2024-11-07T18:53:26.150Z"
   },
   {
    "duration": 10,
    "start_time": "2024-11-07T18:53:32.402Z"
   },
   {
    "duration": 10,
    "start_time": "2024-11-07T18:56:44.939Z"
   },
   {
    "duration": 854,
    "start_time": "2024-11-07T19:09:01.404Z"
   },
   {
    "duration": 248,
    "start_time": "2024-11-07T19:09:46.184Z"
   },
   {
    "duration": 147,
    "start_time": "2024-11-07T19:09:53.512Z"
   },
   {
    "duration": 414,
    "start_time": "2024-11-08T17:29:32.883Z"
   },
   {
    "duration": 113,
    "start_time": "2024-11-08T17:29:33.299Z"
   },
   {
    "duration": 12,
    "start_time": "2024-11-08T17:29:33.415Z"
   },
   {
    "duration": 149,
    "start_time": "2024-11-08T17:29:33.428Z"
   },
   {
    "duration": 12,
    "start_time": "2024-11-08T17:29:33.579Z"
   },
   {
    "duration": 75,
    "start_time": "2024-11-08T17:29:33.593Z"
   },
   {
    "duration": 10,
    "start_time": "2024-11-08T17:29:33.670Z"
   },
   {
    "duration": 21,
    "start_time": "2024-11-08T17:29:33.682Z"
   },
   {
    "duration": 7,
    "start_time": "2024-11-08T17:29:46.879Z"
   },
   {
    "duration": 5,
    "start_time": "2024-11-08T17:29:51.937Z"
   },
   {
    "duration": 5,
    "start_time": "2024-11-08T17:30:12.592Z"
   },
   {
    "duration": 5,
    "start_time": "2024-11-08T17:30:19.903Z"
   },
   {
    "duration": 6,
    "start_time": "2024-11-08T17:30:56.658Z"
   },
   {
    "duration": 5,
    "start_time": "2024-11-08T17:31:03.771Z"
   },
   {
    "duration": 700,
    "start_time": "2024-11-08T17:31:46.744Z"
   },
   {
    "duration": 54,
    "start_time": "2024-11-08T17:32:02.445Z"
   },
   {
    "duration": 7,
    "start_time": "2024-11-08T17:32:10.956Z"
   },
   {
    "duration": 6,
    "start_time": "2024-11-08T17:32:15.923Z"
   },
   {
    "duration": 54,
    "start_time": "2024-11-08T17:32:22.183Z"
   },
   {
    "duration": 14,
    "start_time": "2024-11-08T17:32:53.696Z"
   },
   {
    "duration": 223,
    "start_time": "2024-11-08T17:32:59.550Z"
   },
   {
    "duration": 59,
    "start_time": "2024-11-08T17:33:13.284Z"
   },
   {
    "duration": 5,
    "start_time": "2024-11-08T17:33:30.834Z"
   },
   {
    "duration": 10,
    "start_time": "2024-11-08T17:33:36.367Z"
   },
   {
    "duration": 5,
    "start_time": "2024-11-08T17:34:21.761Z"
   },
   {
    "duration": 3,
    "start_time": "2024-11-08T17:34:24.857Z"
   },
   {
    "duration": 6,
    "start_time": "2024-11-08T17:35:17.007Z"
   },
   {
    "duration": 10,
    "start_time": "2024-11-08T17:35:25.261Z"
   },
   {
    "duration": 93,
    "start_time": "2024-11-08T17:54:32.553Z"
   },
   {
    "duration": 416,
    "start_time": "2024-11-08T17:54:59.971Z"
   },
   {
    "duration": 41,
    "start_time": "2024-11-08T17:55:00.389Z"
   },
   {
    "duration": 11,
    "start_time": "2024-11-08T17:55:00.432Z"
   },
   {
    "duration": 52,
    "start_time": "2024-11-08T17:55:00.445Z"
   },
   {
    "duration": 13,
    "start_time": "2024-11-08T17:55:00.498Z"
   },
   {
    "duration": 80,
    "start_time": "2024-11-08T17:55:00.513Z"
   },
   {
    "duration": 10,
    "start_time": "2024-11-08T17:55:00.596Z"
   },
   {
    "duration": 12,
    "start_time": "2024-11-08T17:55:00.607Z"
   },
   {
    "duration": 13,
    "start_time": "2024-11-08T17:55:00.621Z"
   },
   {
    "duration": 7,
    "start_time": "2024-11-08T17:55:00.637Z"
   },
   {
    "duration": 55,
    "start_time": "2024-11-08T17:55:00.645Z"
   },
   {
    "duration": 39,
    "start_time": "2024-11-08T17:55:00.702Z"
   },
   {
    "duration": 9,
    "start_time": "2024-11-08T17:55:00.743Z"
   },
   {
    "duration": 4,
    "start_time": "2024-11-08T17:55:00.754Z"
   },
   {
    "duration": 607,
    "start_time": "2024-11-08T17:55:00.760Z"
   },
   {
    "duration": 14,
    "start_time": "2024-11-08T17:55:01.368Z"
   },
   {
    "duration": 17,
    "start_time": "2024-11-08T17:55:01.384Z"
   },
   {
    "duration": 22,
    "start_time": "2024-11-08T17:55:01.402Z"
   },
   {
    "duration": 293,
    "start_time": "2024-11-08T17:55:01.426Z"
   },
   {
    "duration": 6,
    "start_time": "2024-11-08T17:55:01.721Z"
   },
   {
    "duration": 36,
    "start_time": "2024-11-08T17:55:01.728Z"
   },
   {
    "duration": 6,
    "start_time": "2024-11-08T17:55:01.766Z"
   },
   {
    "duration": 30,
    "start_time": "2024-11-08T17:55:01.774Z"
   },
   {
    "duration": 11,
    "start_time": "2024-11-08T17:55:01.805Z"
   },
   {
    "duration": 24,
    "start_time": "2024-11-08T17:55:01.818Z"
   },
   {
    "duration": 101,
    "start_time": "2024-11-08T17:55:01.843Z"
   },
   {
    "duration": 0,
    "start_time": "2024-11-08T17:55:01.945Z"
   },
   {
    "duration": 348,
    "start_time": "2024-11-08T17:55:26.453Z"
   },
   {
    "duration": 258,
    "start_time": "2024-11-08T17:55:31.359Z"
   },
   {
    "duration": 21,
    "start_time": "2024-11-08T17:55:58.383Z"
   },
   {
    "duration": 15,
    "start_time": "2024-11-08T17:56:49.207Z"
   },
   {
    "duration": 258,
    "start_time": "2024-11-08T17:57:04.995Z"
   },
   {
    "duration": 11,
    "start_time": "2024-11-08T18:04:24.985Z"
   },
   {
    "duration": 133,
    "start_time": "2024-11-08T18:04:38.417Z"
   },
   {
    "duration": 118,
    "start_time": "2024-11-08T18:07:19.709Z"
   },
   {
    "duration": 240,
    "start_time": "2024-11-08T18:07:36.206Z"
   },
   {
    "duration": 117,
    "start_time": "2024-11-08T18:09:09.881Z"
   },
   {
    "duration": 6,
    "start_time": "2024-11-08T18:09:49.365Z"
   },
   {
    "duration": 6,
    "start_time": "2024-11-08T18:11:24.549Z"
   },
   {
    "duration": 6,
    "start_time": "2024-11-08T18:11:37.559Z"
   },
   {
    "duration": 5,
    "start_time": "2024-11-08T18:14:37.821Z"
   },
   {
    "duration": 251,
    "start_time": "2024-11-08T18:14:54.010Z"
   },
   {
    "duration": 316,
    "start_time": "2024-11-08T18:15:20.867Z"
   },
   {
    "duration": 250,
    "start_time": "2024-11-08T18:15:25.837Z"
   },
   {
    "duration": 259,
    "start_time": "2024-11-08T18:15:38.247Z"
   },
   {
    "duration": 139,
    "start_time": "2024-11-08T18:21:23.191Z"
   },
   {
    "duration": 227,
    "start_time": "2024-11-08T18:22:08.509Z"
   },
   {
    "duration": 347,
    "start_time": "2024-11-08T18:22:34.743Z"
   },
   {
    "duration": 60739,
    "start_time": "2024-11-08T18:23:17.167Z"
   },
   {
    "duration": 374,
    "start_time": "2024-11-08T18:24:49.040Z"
   },
   {
    "duration": 472,
    "start_time": "2024-11-08T18:25:16.481Z"
   },
   {
    "duration": 26,
    "start_time": "2024-11-08T18:32:59.510Z"
   },
   {
    "duration": 7,
    "start_time": "2024-11-08T18:33:09.027Z"
   },
   {
    "duration": 8,
    "start_time": "2024-11-08T18:33:21.866Z"
   },
   {
    "duration": 497,
    "start_time": "2024-11-08T18:34:09.012Z"
   },
   {
    "duration": 485,
    "start_time": "2024-11-08T18:35:19.860Z"
   },
   {
    "duration": 490,
    "start_time": "2024-11-08T18:35:24.031Z"
   },
   {
    "duration": 476,
    "start_time": "2024-11-08T18:38:02.831Z"
   },
   {
    "duration": 349,
    "start_time": "2024-11-08T18:38:37.092Z"
   },
   {
    "duration": 502,
    "start_time": "2024-11-08T18:39:00.455Z"
   },
   {
    "duration": 353,
    "start_time": "2024-11-08T18:39:04.311Z"
   },
   {
    "duration": 478,
    "start_time": "2024-11-08T18:39:14.875Z"
   },
   {
    "duration": 1350,
    "start_time": "2024-11-08T18:39:20.949Z"
   },
   {
    "duration": 480,
    "start_time": "2024-11-08T18:39:32.929Z"
   },
   {
    "duration": 50,
    "start_time": "2024-11-08T18:41:07.427Z"
   },
   {
    "duration": 492,
    "start_time": "2024-11-08T18:43:09.025Z"
   },
   {
    "duration": 1600,
    "start_time": "2024-11-08T18:43:14.400Z"
   },
   {
    "duration": 8,
    "start_time": "2024-11-08T18:48:29.261Z"
   },
   {
    "duration": 10,
    "start_time": "2024-11-08T18:48:36.094Z"
   },
   {
    "duration": 27,
    "start_time": "2024-11-08T18:48:40.972Z"
   },
   {
    "duration": 462,
    "start_time": "2024-11-08T18:49:14.024Z"
   },
   {
    "duration": 466,
    "start_time": "2024-11-08T18:49:22.910Z"
   },
   {
    "duration": 486,
    "start_time": "2024-11-08T18:50:02.538Z"
   },
   {
    "duration": 473,
    "start_time": "2024-11-08T18:54:43.856Z"
   },
   {
    "duration": 465,
    "start_time": "2024-11-08T18:55:21.521Z"
   },
   {
    "duration": 455,
    "start_time": "2024-11-08T18:55:47.115Z"
   },
   {
    "duration": 152,
    "start_time": "2024-11-08T18:57:19.863Z"
   },
   {
    "duration": 123,
    "start_time": "2024-11-08T18:57:36.099Z"
   },
   {
    "duration": 8,
    "start_time": "2024-11-08T18:58:01.379Z"
   },
   {
    "duration": 14,
    "start_time": "2024-11-08T19:00:53.753Z"
   },
   {
    "duration": 938,
    "start_time": "2024-11-08T19:02:27.172Z"
   },
   {
    "duration": 15,
    "start_time": "2024-11-08T19:06:52.206Z"
   },
   {
    "duration": 15,
    "start_time": "2024-11-08T19:07:24.091Z"
   },
   {
    "duration": 16,
    "start_time": "2024-11-08T19:09:14.033Z"
   },
   {
    "duration": 923,
    "start_time": "2024-11-08T19:10:46.189Z"
   },
   {
    "duration": 904,
    "start_time": "2024-11-08T19:10:53.980Z"
   },
   {
    "duration": 8,
    "start_time": "2024-11-08T19:11:36.315Z"
   },
   {
    "duration": 8,
    "start_time": "2024-11-08T19:12:49.287Z"
   },
   {
    "duration": 15,
    "start_time": "2024-11-08T19:16:21.744Z"
   },
   {
    "duration": 10,
    "start_time": "2024-11-08T19:16:51.890Z"
   },
   {
    "duration": 125,
    "start_time": "2024-11-08T19:18:01.057Z"
   },
   {
    "duration": 196,
    "start_time": "2024-11-08T19:18:25.692Z"
   },
   {
    "duration": 178,
    "start_time": "2024-11-08T19:18:33.344Z"
   },
   {
    "duration": 184,
    "start_time": "2024-11-08T19:18:37.583Z"
   },
   {
    "duration": 10,
    "start_time": "2024-11-08T19:19:51.584Z"
   },
   {
    "duration": 81,
    "start_time": "2024-11-08T19:23:37.778Z"
   },
   {
    "duration": 7,
    "start_time": "2024-11-08T19:23:42.454Z"
   },
   {
    "duration": 24,
    "start_time": "2024-11-08T19:24:50.392Z"
   },
   {
    "duration": 15,
    "start_time": "2024-11-08T19:25:12.417Z"
   },
   {
    "duration": 17,
    "start_time": "2024-11-08T19:25:55.782Z"
   },
   {
    "duration": 17,
    "start_time": "2024-11-08T19:27:42.918Z"
   },
   {
    "duration": 18,
    "start_time": "2024-11-08T19:28:06.959Z"
   },
   {
    "duration": 22,
    "start_time": "2024-11-08T19:31:01.492Z"
   },
   {
    "duration": 29,
    "start_time": "2024-11-08T19:31:46.312Z"
   },
   {
    "duration": 21,
    "start_time": "2024-11-08T19:33:19.307Z"
   },
   {
    "duration": 20,
    "start_time": "2024-11-08T19:33:42.140Z"
   },
   {
    "duration": 16,
    "start_time": "2024-11-08T19:34:32.782Z"
   },
   {
    "duration": 149,
    "start_time": "2024-11-08T19:34:43.960Z"
   },
   {
    "duration": 138,
    "start_time": "2024-11-08T19:35:19.533Z"
   },
   {
    "duration": 410,
    "start_time": "2024-11-08T19:36:08.738Z"
   },
   {
    "duration": 15,
    "start_time": "2024-11-08T19:36:42.818Z"
   },
   {
    "duration": 16,
    "start_time": "2024-11-08T19:37:20.167Z"
   },
   {
    "duration": 13,
    "start_time": "2024-11-08T19:37:48.355Z"
   },
   {
    "duration": 12,
    "start_time": "2024-11-08T19:38:16.396Z"
   },
   {
    "duration": 12,
    "start_time": "2024-11-08T19:38:24.665Z"
   },
   {
    "duration": 12,
    "start_time": "2024-11-08T19:38:30.953Z"
   },
   {
    "duration": 17,
    "start_time": "2024-11-08T19:38:34.146Z"
   },
   {
    "duration": 14,
    "start_time": "2024-11-08T19:38:56.351Z"
   },
   {
    "duration": 13,
    "start_time": "2024-11-08T19:39:04.799Z"
   },
   {
    "duration": 54,
    "start_time": "2024-11-08T19:39:37.784Z"
   },
   {
    "duration": 54,
    "start_time": "2024-11-08T19:39:50.513Z"
   },
   {
    "duration": 61,
    "start_time": "2024-11-08T19:39:55.106Z"
   },
   {
    "duration": 15,
    "start_time": "2024-11-08T19:40:46.343Z"
   },
   {
    "duration": 13,
    "start_time": "2024-11-08T19:40:55.402Z"
   },
   {
    "duration": 13,
    "start_time": "2024-11-08T19:44:00.488Z"
   },
   {
    "duration": 13,
    "start_time": "2024-11-08T19:44:16.029Z"
   },
   {
    "duration": 11,
    "start_time": "2024-11-08T19:44:27.131Z"
   },
   {
    "duration": 14,
    "start_time": "2024-11-08T19:44:32.492Z"
   },
   {
    "duration": 3,
    "start_time": "2024-11-08T19:45:01.172Z"
   },
   {
    "duration": 4,
    "start_time": "2024-11-08T19:45:07.563Z"
   },
   {
    "duration": 12,
    "start_time": "2024-11-08T19:45:12.633Z"
   },
   {
    "duration": 376,
    "start_time": "2024-11-09T05:49:20.108Z"
   },
   {
    "duration": 93,
    "start_time": "2024-11-09T05:49:20.486Z"
   },
   {
    "duration": 8,
    "start_time": "2024-11-09T05:49:20.581Z"
   },
   {
    "duration": 160,
    "start_time": "2024-11-09T05:49:20.591Z"
   },
   {
    "duration": 10,
    "start_time": "2024-11-09T05:49:20.752Z"
   },
   {
    "duration": 70,
    "start_time": "2024-11-09T05:49:20.763Z"
   },
   {
    "duration": 8,
    "start_time": "2024-11-09T05:49:20.834Z"
   },
   {
    "duration": 7,
    "start_time": "2024-11-09T05:49:20.843Z"
   },
   {
    "duration": 7,
    "start_time": "2024-11-09T05:49:20.851Z"
   },
   {
    "duration": 7,
    "start_time": "2024-11-09T05:49:20.860Z"
   },
   {
    "duration": 5,
    "start_time": "2024-11-09T05:49:20.868Z"
   },
   {
    "duration": 15,
    "start_time": "2024-11-09T05:49:20.874Z"
   },
   {
    "duration": 13,
    "start_time": "2024-11-09T05:49:20.890Z"
   },
   {
    "duration": 21,
    "start_time": "2024-11-09T05:49:20.904Z"
   },
   {
    "duration": 1166,
    "start_time": "2024-11-09T05:49:20.927Z"
   },
   {
    "duration": 6,
    "start_time": "2024-11-09T05:49:22.094Z"
   },
   {
    "duration": 14,
    "start_time": "2024-11-09T05:49:22.101Z"
   },
   {
    "duration": 11,
    "start_time": "2024-11-09T05:49:22.117Z"
   },
   {
    "duration": 16,
    "start_time": "2024-11-09T05:49:22.129Z"
   },
   {
    "duration": 11,
    "start_time": "2024-11-09T05:49:22.146Z"
   },
   {
    "duration": 12,
    "start_time": "2024-11-09T05:49:22.158Z"
   },
   {
    "duration": 241,
    "start_time": "2024-11-09T05:49:22.171Z"
   },
   {
    "duration": 4,
    "start_time": "2024-11-09T05:49:22.414Z"
   },
   {
    "duration": 10,
    "start_time": "2024-11-09T05:49:22.419Z"
   },
   {
    "duration": 4,
    "start_time": "2024-11-09T05:49:22.430Z"
   },
   {
    "duration": 3,
    "start_time": "2024-11-09T05:49:22.436Z"
   },
   {
    "duration": 4,
    "start_time": "2024-11-09T05:49:22.440Z"
   },
   {
    "duration": 7,
    "start_time": "2024-11-09T05:49:22.446Z"
   },
   {
    "duration": 152,
    "start_time": "2024-11-09T05:49:22.454Z"
   },
   {
    "duration": 6,
    "start_time": "2024-11-09T05:49:22.612Z"
   },
   {
    "duration": 115,
    "start_time": "2024-11-09T05:49:22.619Z"
   },
   {
    "duration": 5,
    "start_time": "2024-11-09T05:49:22.735Z"
   },
   {
    "duration": 235,
    "start_time": "2024-11-09T05:49:22.742Z"
   },
   {
    "duration": 450,
    "start_time": "2024-11-09T05:49:22.978Z"
   },
   {
    "duration": 384,
    "start_time": "2024-11-09T05:49:23.430Z"
   },
   {
    "duration": 435,
    "start_time": "2024-11-09T05:49:23.816Z"
   },
   {
    "duration": 442,
    "start_time": "2024-11-09T05:49:24.253Z"
   },
   {
    "duration": 218,
    "start_time": "2024-11-09T05:49:24.696Z"
   },
   {
    "duration": 7,
    "start_time": "2024-11-09T05:49:24.915Z"
   },
   {
    "duration": 6,
    "start_time": "2024-11-09T06:01:14.474Z"
   },
   {
    "duration": 5,
    "start_time": "2024-11-09T06:01:21.716Z"
   },
   {
    "duration": 6,
    "start_time": "2024-11-09T06:01:26.565Z"
   },
   {
    "duration": 62,
    "start_time": "2024-11-09T06:07:47.054Z"
   },
   {
    "duration": 26880,
    "start_time": "2024-11-09T06:08:02.182Z"
   },
   {
    "duration": 840,
    "start_time": "2024-11-09T06:08:29.063Z"
   },
   {
    "duration": 38998,
    "start_time": "2024-11-09T06:10:34.308Z"
   },
   {
    "duration": 870,
    "start_time": "2024-11-09T06:11:13.307Z"
   },
   {
    "duration": 13,
    "start_time": "2024-11-09T06:11:38.222Z"
   },
   {
    "duration": 328,
    "start_time": "2024-11-09T06:13:40.252Z"
   },
   {
    "duration": 40,
    "start_time": "2024-11-09T06:13:40.581Z"
   },
   {
    "duration": 9,
    "start_time": "2024-11-09T06:13:40.622Z"
   },
   {
    "duration": 32,
    "start_time": "2024-11-09T06:13:40.632Z"
   },
   {
    "duration": 9,
    "start_time": "2024-11-09T06:13:40.666Z"
   },
   {
    "duration": 19,
    "start_time": "2024-11-09T06:13:40.676Z"
   },
   {
    "duration": 7,
    "start_time": "2024-11-09T06:13:40.696Z"
   },
   {
    "duration": 10,
    "start_time": "2024-11-09T06:13:40.705Z"
   },
   {
    "duration": 5,
    "start_time": "2024-11-09T06:13:40.716Z"
   },
   {
    "duration": 4,
    "start_time": "2024-11-09T06:13:40.722Z"
   },
   {
    "duration": 6,
    "start_time": "2024-11-09T06:13:40.728Z"
   },
   {
    "duration": 5,
    "start_time": "2024-11-09T06:13:40.735Z"
   },
   {
    "duration": 5,
    "start_time": "2024-11-09T06:13:40.741Z"
   },
   {
    "duration": 5,
    "start_time": "2024-11-09T06:13:40.748Z"
   },
   {
    "duration": 1033,
    "start_time": "2024-11-09T06:13:40.754Z"
   },
   {
    "duration": 6,
    "start_time": "2024-11-09T06:13:41.788Z"
   },
   {
    "duration": 11,
    "start_time": "2024-11-09T06:13:41.795Z"
   },
   {
    "duration": 12,
    "start_time": "2024-11-09T06:13:41.812Z"
   },
   {
    "duration": 16,
    "start_time": "2024-11-09T06:13:41.825Z"
   },
   {
    "duration": 11,
    "start_time": "2024-11-09T06:13:41.842Z"
   },
   {
    "duration": 22061,
    "start_time": "2024-11-09T06:13:41.854Z"
   },
   {
    "duration": 794,
    "start_time": "2024-11-09T06:14:03.916Z"
   },
   {
    "duration": 12,
    "start_time": "2024-11-09T06:14:04.711Z"
   },
   {
    "duration": 22,
    "start_time": "2024-11-09T06:14:04.724Z"
   },
   {
    "duration": 277,
    "start_time": "2024-11-09T06:14:04.747Z"
   },
   {
    "duration": 5,
    "start_time": "2024-11-09T06:14:05.026Z"
   },
   {
    "duration": 38,
    "start_time": "2024-11-09T06:14:05.032Z"
   },
   {
    "duration": 18,
    "start_time": "2024-11-09T06:14:05.071Z"
   },
   {
    "duration": 6,
    "start_time": "2024-11-09T06:14:05.090Z"
   },
   {
    "duration": 6,
    "start_time": "2024-11-09T06:14:05.097Z"
   },
   {
    "duration": 8,
    "start_time": "2024-11-09T06:14:05.104Z"
   },
   {
    "duration": 131,
    "start_time": "2024-11-09T06:14:05.113Z"
   },
   {
    "duration": 6,
    "start_time": "2024-11-09T06:14:05.245Z"
   },
   {
    "duration": 115,
    "start_time": "2024-11-09T06:14:05.252Z"
   },
   {
    "duration": 6,
    "start_time": "2024-11-09T06:14:05.368Z"
   },
   {
    "duration": 239,
    "start_time": "2024-11-09T06:14:05.375Z"
   },
   {
    "duration": 408,
    "start_time": "2024-11-09T06:14:05.615Z"
   },
   {
    "duration": 462,
    "start_time": "2024-11-09T06:14:06.024Z"
   },
   {
    "duration": 405,
    "start_time": "2024-11-09T06:14:06.487Z"
   },
   {
    "duration": 412,
    "start_time": "2024-11-09T06:14:06.894Z"
   },
   {
    "duration": 274,
    "start_time": "2024-11-09T06:14:07.312Z"
   },
   {
    "duration": 8,
    "start_time": "2024-11-09T06:14:07.588Z"
   },
   {
    "duration": 4,
    "start_time": "2024-11-09T06:16:45.042Z"
   },
   {
    "duration": 11,
    "start_time": "2024-11-09T06:16:53.943Z"
   },
   {
    "duration": 397,
    "start_time": "2024-11-09T06:17:03.218Z"
   },
   {
    "duration": 39,
    "start_time": "2024-11-09T06:17:03.617Z"
   },
   {
    "duration": 9,
    "start_time": "2024-11-09T06:17:03.657Z"
   },
   {
    "duration": 40,
    "start_time": "2024-11-09T06:17:03.668Z"
   },
   {
    "duration": 80,
    "start_time": "2024-11-09T06:17:03.710Z"
   },
   {
    "duration": 23,
    "start_time": "2024-11-09T06:17:03.791Z"
   },
   {
    "duration": 8,
    "start_time": "2024-11-09T06:17:03.815Z"
   },
   {
    "duration": 11,
    "start_time": "2024-11-09T06:17:03.824Z"
   },
   {
    "duration": 9,
    "start_time": "2024-11-09T06:17:03.836Z"
   },
   {
    "duration": 4,
    "start_time": "2024-11-09T06:17:03.847Z"
   },
   {
    "duration": 32,
    "start_time": "2024-11-09T06:17:03.852Z"
   },
   {
    "duration": 29,
    "start_time": "2024-11-09T06:17:03.885Z"
   },
   {
    "duration": 8,
    "start_time": "2024-11-09T06:17:03.916Z"
   },
   {
    "duration": 15,
    "start_time": "2024-11-09T06:17:03.927Z"
   },
   {
    "duration": 995,
    "start_time": "2024-11-09T06:17:03.943Z"
   },
   {
    "duration": 6,
    "start_time": "2024-11-09T06:17:04.939Z"
   },
   {
    "duration": 6,
    "start_time": "2024-11-09T06:17:04.946Z"
   },
   {
    "duration": 19,
    "start_time": "2024-11-09T06:17:04.953Z"
   },
   {
    "duration": 16,
    "start_time": "2024-11-09T06:17:04.973Z"
   },
   {
    "duration": 29,
    "start_time": "2024-11-09T06:17:04.990Z"
   },
   {
    "duration": 11,
    "start_time": "2024-11-09T06:17:05.020Z"
   },
   {
    "duration": 798,
    "start_time": "2024-11-09T06:17:05.033Z"
   },
   {
    "duration": 12,
    "start_time": "2024-11-09T06:17:05.833Z"
   },
   {
    "duration": 25,
    "start_time": "2024-11-09T06:17:05.847Z"
   },
   {
    "duration": 267,
    "start_time": "2024-11-09T06:17:05.873Z"
   },
   {
    "duration": 5,
    "start_time": "2024-11-09T06:17:06.142Z"
   },
   {
    "duration": 9,
    "start_time": "2024-11-09T06:17:06.149Z"
   },
   {
    "duration": 8,
    "start_time": "2024-11-09T06:17:06.159Z"
   },
   {
    "duration": 4,
    "start_time": "2024-11-09T06:17:06.168Z"
   },
   {
    "duration": 5,
    "start_time": "2024-11-09T06:17:06.173Z"
   },
   {
    "duration": 33,
    "start_time": "2024-11-09T06:17:06.179Z"
   },
   {
    "duration": 136,
    "start_time": "2024-11-09T06:17:06.214Z"
   },
   {
    "duration": 6,
    "start_time": "2024-11-09T06:17:06.352Z"
   },
   {
    "duration": 114,
    "start_time": "2024-11-09T06:17:06.360Z"
   },
   {
    "duration": 5,
    "start_time": "2024-11-09T06:17:06.476Z"
   },
   {
    "duration": 259,
    "start_time": "2024-11-09T06:17:06.483Z"
   },
   {
    "duration": 431,
    "start_time": "2024-11-09T06:17:06.744Z"
   },
   {
    "duration": 477,
    "start_time": "2024-11-09T06:17:07.177Z"
   },
   {
    "duration": 409,
    "start_time": "2024-11-09T06:17:07.655Z"
   },
   {
    "duration": 404,
    "start_time": "2024-11-09T06:17:08.066Z"
   },
   {
    "duration": 277,
    "start_time": "2024-11-09T06:17:08.473Z"
   },
   {
    "duration": 8,
    "start_time": "2024-11-09T06:17:08.752Z"
   },
   {
    "duration": 352,
    "start_time": "2024-11-09T06:20:51.340Z"
   },
   {
    "duration": 39,
    "start_time": "2024-11-09T06:20:51.694Z"
   },
   {
    "duration": 9,
    "start_time": "2024-11-09T06:20:51.735Z"
   },
   {
    "duration": 36,
    "start_time": "2024-11-09T06:20:51.746Z"
   },
   {
    "duration": 11,
    "start_time": "2024-11-09T06:20:51.783Z"
   },
   {
    "duration": 19,
    "start_time": "2024-11-09T06:20:51.795Z"
   },
   {
    "duration": 7,
    "start_time": "2024-11-09T06:20:51.815Z"
   },
   {
    "duration": 24,
    "start_time": "2024-11-09T06:20:51.824Z"
   },
   {
    "duration": 11,
    "start_time": "2024-11-09T06:20:51.850Z"
   },
   {
    "duration": 9,
    "start_time": "2024-11-09T06:20:51.864Z"
   },
   {
    "duration": 14,
    "start_time": "2024-11-09T06:20:51.874Z"
   },
   {
    "duration": 10,
    "start_time": "2024-11-09T06:20:51.890Z"
   },
   {
    "duration": 5,
    "start_time": "2024-11-09T06:20:51.901Z"
   },
   {
    "duration": 4,
    "start_time": "2024-11-09T06:20:51.907Z"
   },
   {
    "duration": 961,
    "start_time": "2024-11-09T06:20:51.913Z"
   },
   {
    "duration": 5,
    "start_time": "2024-11-09T06:20:52.876Z"
   },
   {
    "duration": 18,
    "start_time": "2024-11-09T06:20:52.883Z"
   },
   {
    "duration": 16,
    "start_time": "2024-11-09T06:20:52.902Z"
   },
   {
    "duration": 22,
    "start_time": "2024-11-09T06:20:52.920Z"
   },
   {
    "duration": 15,
    "start_time": "2024-11-09T06:20:52.943Z"
   },
   {
    "duration": 23130,
    "start_time": "2024-11-09T06:20:52.959Z"
   },
   {
    "duration": 734,
    "start_time": "2024-11-09T06:21:16.090Z"
   },
   {
    "duration": 13,
    "start_time": "2024-11-09T06:21:16.825Z"
   },
   {
    "duration": 12,
    "start_time": "2024-11-09T06:21:16.840Z"
   },
   {
    "duration": 303,
    "start_time": "2024-11-09T06:21:16.853Z"
   },
   {
    "duration": 6,
    "start_time": "2024-11-09T06:21:17.157Z"
   },
   {
    "duration": 9,
    "start_time": "2024-11-09T06:21:17.164Z"
   },
   {
    "duration": 5,
    "start_time": "2024-11-09T06:21:17.177Z"
   },
   {
    "duration": 26,
    "start_time": "2024-11-09T06:21:17.186Z"
   },
   {
    "duration": 3,
    "start_time": "2024-11-09T06:21:17.214Z"
   },
   {
    "duration": 11,
    "start_time": "2024-11-09T06:21:17.219Z"
   },
   {
    "duration": 130,
    "start_time": "2024-11-09T06:21:17.232Z"
   },
   {
    "duration": 5,
    "start_time": "2024-11-09T06:21:17.364Z"
   },
   {
    "duration": 106,
    "start_time": "2024-11-09T06:21:17.370Z"
   },
   {
    "duration": 5,
    "start_time": "2024-11-09T06:21:17.478Z"
   },
   {
    "duration": 228,
    "start_time": "2024-11-09T06:21:17.484Z"
   },
   {
    "duration": 392,
    "start_time": "2024-11-09T06:21:17.713Z"
   },
   {
    "duration": 452,
    "start_time": "2024-11-09T06:21:18.106Z"
   },
   {
    "duration": 401,
    "start_time": "2024-11-09T06:21:18.559Z"
   },
   {
    "duration": 377,
    "start_time": "2024-11-09T06:21:18.961Z"
   },
   {
    "duration": 283,
    "start_time": "2024-11-09T06:21:19.339Z"
   },
   {
    "duration": 8,
    "start_time": "2024-11-09T06:21:19.623Z"
   },
   {
    "duration": 7,
    "start_time": "2024-11-09T06:22:47.061Z"
   },
   {
    "duration": 341,
    "start_time": "2024-11-09T07:17:01.047Z"
   },
   {
    "duration": 39,
    "start_time": "2024-11-09T07:17:01.389Z"
   },
   {
    "duration": 9,
    "start_time": "2024-11-09T07:17:01.429Z"
   },
   {
    "duration": 47,
    "start_time": "2024-11-09T07:17:01.440Z"
   },
   {
    "duration": 8,
    "start_time": "2024-11-09T07:17:01.489Z"
   },
   {
    "duration": 24,
    "start_time": "2024-11-09T07:17:01.499Z"
   },
   {
    "duration": 8,
    "start_time": "2024-11-09T07:17:01.524Z"
   },
   {
    "duration": 25,
    "start_time": "2024-11-09T07:17:01.533Z"
   },
   {
    "duration": 24,
    "start_time": "2024-11-09T07:17:01.560Z"
   },
   {
    "duration": 16,
    "start_time": "2024-11-09T07:17:01.586Z"
   },
   {
    "duration": 19,
    "start_time": "2024-11-09T07:17:01.603Z"
   },
   {
    "duration": 27,
    "start_time": "2024-11-09T07:17:01.623Z"
   },
   {
    "duration": 11,
    "start_time": "2024-11-09T07:17:01.651Z"
   },
   {
    "duration": 16,
    "start_time": "2024-11-09T07:17:01.663Z"
   },
   {
    "duration": 1005,
    "start_time": "2024-11-09T07:17:01.680Z"
   },
   {
    "duration": 6,
    "start_time": "2024-11-09T07:17:02.686Z"
   },
   {
    "duration": 46,
    "start_time": "2024-11-09T07:17:02.693Z"
   },
   {
    "duration": 24,
    "start_time": "2024-11-09T07:17:02.740Z"
   },
   {
    "duration": 16,
    "start_time": "2024-11-09T07:17:02.766Z"
   },
   {
    "duration": 11,
    "start_time": "2024-11-09T07:17:02.783Z"
   },
   {
    "duration": 28232,
    "start_time": "2024-11-09T07:17:02.795Z"
   },
   {
    "duration": 781,
    "start_time": "2024-11-09T07:17:31.028Z"
   },
   {
    "duration": 5,
    "start_time": "2024-11-09T07:17:31.811Z"
   },
   {
    "duration": 17,
    "start_time": "2024-11-09T07:17:31.817Z"
   },
   {
    "duration": 259,
    "start_time": "2024-11-09T07:17:31.836Z"
   },
   {
    "duration": 4,
    "start_time": "2024-11-09T07:17:32.096Z"
   },
   {
    "duration": 17,
    "start_time": "2024-11-09T07:17:32.101Z"
   },
   {
    "duration": 17,
    "start_time": "2024-11-09T07:17:32.121Z"
   },
   {
    "duration": 19,
    "start_time": "2024-11-09T07:17:32.139Z"
   },
   {
    "duration": 5,
    "start_time": "2024-11-09T07:17:32.159Z"
   },
   {
    "duration": 14,
    "start_time": "2024-11-09T07:17:32.165Z"
   },
   {
    "duration": 131,
    "start_time": "2024-11-09T07:17:32.181Z"
   },
   {
    "duration": 6,
    "start_time": "2024-11-09T07:17:32.313Z"
   },
   {
    "duration": 105,
    "start_time": "2024-11-09T07:17:32.320Z"
   },
   {
    "duration": 5,
    "start_time": "2024-11-09T07:17:32.426Z"
   },
   {
    "duration": 230,
    "start_time": "2024-11-09T07:17:32.432Z"
   },
   {
    "duration": 405,
    "start_time": "2024-11-09T07:17:32.663Z"
   },
   {
    "duration": 481,
    "start_time": "2024-11-09T07:17:33.069Z"
   },
   {
    "duration": 389,
    "start_time": "2024-11-09T07:17:33.552Z"
   },
   {
    "duration": 411,
    "start_time": "2024-11-09T07:17:33.942Z"
   },
   {
    "duration": 280,
    "start_time": "2024-11-09T07:17:34.354Z"
   },
   {
    "duration": 8,
    "start_time": "2024-11-09T07:17:34.635Z"
   },
   {
    "duration": 28636,
    "start_time": "2024-11-09T07:18:05.723Z"
   },
   {
    "duration": 770,
    "start_time": "2024-11-09T07:18:36.822Z"
   },
   {
    "duration": 7,
    "start_time": "2024-11-09T07:18:40.705Z"
   },
   {
    "duration": 9,
    "start_time": "2024-11-09T07:19:21.585Z"
   },
   {
    "duration": 331,
    "start_time": "2024-11-09T07:26:08.252Z"
   },
   {
    "duration": 40,
    "start_time": "2024-11-09T07:26:08.585Z"
   },
   {
    "duration": 10,
    "start_time": "2024-11-09T07:26:08.626Z"
   },
   {
    "duration": 32,
    "start_time": "2024-11-09T07:26:08.637Z"
   },
   {
    "duration": 35,
    "start_time": "2024-11-09T07:26:08.671Z"
   },
   {
    "duration": 19,
    "start_time": "2024-11-09T07:26:08.708Z"
   },
   {
    "duration": 9,
    "start_time": "2024-11-09T07:26:08.728Z"
   },
   {
    "duration": 16,
    "start_time": "2024-11-09T07:26:08.738Z"
   },
   {
    "duration": 30,
    "start_time": "2024-11-09T07:26:08.756Z"
   },
   {
    "duration": 27,
    "start_time": "2024-11-09T07:26:08.789Z"
   },
   {
    "duration": 8,
    "start_time": "2024-11-09T07:26:08.818Z"
   },
   {
    "duration": 7,
    "start_time": "2024-11-09T07:26:08.828Z"
   },
   {
    "duration": 8,
    "start_time": "2024-11-09T07:26:08.837Z"
   },
   {
    "duration": 6,
    "start_time": "2024-11-09T07:26:08.846Z"
   },
   {
    "duration": 970,
    "start_time": "2024-11-09T07:26:08.853Z"
   },
   {
    "duration": 5,
    "start_time": "2024-11-09T07:26:09.824Z"
   },
   {
    "duration": 9,
    "start_time": "2024-11-09T07:26:09.831Z"
   },
   {
    "duration": 15,
    "start_time": "2024-11-09T07:26:09.841Z"
   },
   {
    "duration": 16,
    "start_time": "2024-11-09T07:26:09.857Z"
   },
   {
    "duration": 12,
    "start_time": "2024-11-09T07:26:09.874Z"
   },
   {
    "duration": 68683,
    "start_time": "2024-11-09T07:26:09.887Z"
   },
   {
    "duration": 0,
    "start_time": "2024-11-09T07:27:18.571Z"
   },
   {
    "duration": 0,
    "start_time": "2024-11-09T07:27:18.572Z"
   },
   {
    "duration": 0,
    "start_time": "2024-11-09T07:27:18.573Z"
   },
   {
    "duration": 0,
    "start_time": "2024-11-09T07:27:18.574Z"
   },
   {
    "duration": 0,
    "start_time": "2024-11-09T07:27:18.575Z"
   },
   {
    "duration": 0,
    "start_time": "2024-11-09T07:27:18.576Z"
   },
   {
    "duration": 0,
    "start_time": "2024-11-09T07:27:18.576Z"
   },
   {
    "duration": 0,
    "start_time": "2024-11-09T07:27:18.577Z"
   },
   {
    "duration": 0,
    "start_time": "2024-11-09T07:27:18.578Z"
   },
   {
    "duration": 0,
    "start_time": "2024-11-09T07:27:18.579Z"
   },
   {
    "duration": 0,
    "start_time": "2024-11-09T07:27:18.580Z"
   },
   {
    "duration": 0,
    "start_time": "2024-11-09T07:27:18.580Z"
   },
   {
    "duration": 0,
    "start_time": "2024-11-09T07:27:18.581Z"
   },
   {
    "duration": 0,
    "start_time": "2024-11-09T07:27:18.582Z"
   },
   {
    "duration": 0,
    "start_time": "2024-11-09T07:27:18.583Z"
   },
   {
    "duration": 0,
    "start_time": "2024-11-09T07:27:18.584Z"
   },
   {
    "duration": 0,
    "start_time": "2024-11-09T07:27:18.585Z"
   },
   {
    "duration": 0,
    "start_time": "2024-11-09T07:27:18.586Z"
   },
   {
    "duration": 0,
    "start_time": "2024-11-09T07:27:18.612Z"
   },
   {
    "duration": 0,
    "start_time": "2024-11-09T07:27:18.613Z"
   },
   {
    "duration": 0,
    "start_time": "2024-11-09T07:27:18.614Z"
   },
   {
    "duration": 12513,
    "start_time": "2024-11-09T07:28:08.863Z"
   },
   {
    "duration": 363,
    "start_time": "2024-11-09T07:28:48.137Z"
   },
   {
    "duration": 40,
    "start_time": "2024-11-09T07:28:48.502Z"
   },
   {
    "duration": 9,
    "start_time": "2024-11-09T07:28:48.544Z"
   },
   {
    "duration": 34,
    "start_time": "2024-11-09T07:28:48.554Z"
   },
   {
    "duration": 10,
    "start_time": "2024-11-09T07:28:48.589Z"
   },
   {
    "duration": 18,
    "start_time": "2024-11-09T07:28:48.600Z"
   },
   {
    "duration": 9,
    "start_time": "2024-11-09T07:28:48.619Z"
   },
   {
    "duration": 6,
    "start_time": "2024-11-09T07:28:48.630Z"
   },
   {
    "duration": 5,
    "start_time": "2024-11-09T07:28:48.637Z"
   },
   {
    "duration": 4,
    "start_time": "2024-11-09T07:28:48.644Z"
   },
   {
    "duration": 69,
    "start_time": "2024-11-09T07:28:48.650Z"
   },
   {
    "duration": 5,
    "start_time": "2024-11-09T07:28:48.721Z"
   },
   {
    "duration": 5,
    "start_time": "2024-11-09T07:28:48.727Z"
   },
   {
    "duration": 4,
    "start_time": "2024-11-09T07:28:48.735Z"
   },
   {
    "duration": 1059,
    "start_time": "2024-11-09T07:28:48.740Z"
   },
   {
    "duration": 22,
    "start_time": "2024-11-09T07:28:49.801Z"
   },
   {
    "duration": 6,
    "start_time": "2024-11-09T07:28:49.824Z"
   },
   {
    "duration": 13,
    "start_time": "2024-11-09T07:28:49.831Z"
   },
   {
    "duration": 16,
    "start_time": "2024-11-09T07:28:49.845Z"
   },
   {
    "duration": 18,
    "start_time": "2024-11-09T07:28:49.862Z"
   },
   {
    "duration": 36887,
    "start_time": "2024-11-09T07:28:49.881Z"
   },
   {
    "duration": 1,
    "start_time": "2024-11-09T07:29:26.769Z"
   },
   {
    "duration": 0,
    "start_time": "2024-11-09T07:29:26.770Z"
   },
   {
    "duration": 0,
    "start_time": "2024-11-09T07:29:26.771Z"
   },
   {
    "duration": 0,
    "start_time": "2024-11-09T07:29:26.772Z"
   },
   {
    "duration": 0,
    "start_time": "2024-11-09T07:29:26.773Z"
   },
   {
    "duration": 0,
    "start_time": "2024-11-09T07:29:26.773Z"
   },
   {
    "duration": 0,
    "start_time": "2024-11-09T07:29:26.774Z"
   },
   {
    "duration": 0,
    "start_time": "2024-11-09T07:29:26.775Z"
   },
   {
    "duration": 0,
    "start_time": "2024-11-09T07:29:26.776Z"
   },
   {
    "duration": 0,
    "start_time": "2024-11-09T07:29:26.777Z"
   },
   {
    "duration": 0,
    "start_time": "2024-11-09T07:29:26.777Z"
   },
   {
    "duration": 0,
    "start_time": "2024-11-09T07:29:26.778Z"
   },
   {
    "duration": 0,
    "start_time": "2024-11-09T07:29:26.779Z"
   },
   {
    "duration": 0,
    "start_time": "2024-11-09T07:29:26.780Z"
   },
   {
    "duration": 0,
    "start_time": "2024-11-09T07:29:26.781Z"
   },
   {
    "duration": 0,
    "start_time": "2024-11-09T07:29:26.782Z"
   },
   {
    "duration": 0,
    "start_time": "2024-11-09T07:29:26.783Z"
   },
   {
    "duration": 0,
    "start_time": "2024-11-09T07:29:26.784Z"
   },
   {
    "duration": 0,
    "start_time": "2024-11-09T07:29:26.784Z"
   },
   {
    "duration": 0,
    "start_time": "2024-11-09T07:29:26.785Z"
   },
   {
    "duration": 0,
    "start_time": "2024-11-09T07:29:26.811Z"
   },
   {
    "duration": 359,
    "start_time": "2024-11-09T07:29:29.544Z"
   },
   {
    "duration": 42,
    "start_time": "2024-11-09T07:29:29.904Z"
   },
   {
    "duration": 29,
    "start_time": "2024-11-09T07:29:29.948Z"
   },
   {
    "duration": 39,
    "start_time": "2024-11-09T07:29:29.978Z"
   },
   {
    "duration": 11,
    "start_time": "2024-11-09T07:29:30.018Z"
   },
   {
    "duration": 31,
    "start_time": "2024-11-09T07:29:30.031Z"
   },
   {
    "duration": 29,
    "start_time": "2024-11-09T07:29:30.064Z"
   },
   {
    "duration": 31,
    "start_time": "2024-11-09T07:29:30.094Z"
   },
   {
    "duration": 34,
    "start_time": "2024-11-09T07:29:30.126Z"
   },
   {
    "duration": 7,
    "start_time": "2024-11-09T07:29:30.162Z"
   },
   {
    "duration": 8,
    "start_time": "2024-11-09T07:29:30.170Z"
   },
   {
    "duration": 23,
    "start_time": "2024-11-09T07:29:30.179Z"
   },
   {
    "duration": 36,
    "start_time": "2024-11-09T07:29:30.203Z"
   },
   {
    "duration": 34,
    "start_time": "2024-11-09T07:29:30.240Z"
   },
   {
    "duration": 1055,
    "start_time": "2024-11-09T07:29:30.275Z"
   },
   {
    "duration": 6,
    "start_time": "2024-11-09T07:29:31.331Z"
   },
   {
    "duration": 6,
    "start_time": "2024-11-09T07:29:31.338Z"
   },
   {
    "duration": 12,
    "start_time": "2024-11-09T07:29:31.345Z"
   },
   {
    "duration": 26,
    "start_time": "2024-11-09T07:29:31.358Z"
   },
   {
    "duration": 10,
    "start_time": "2024-11-09T07:29:31.385Z"
   },
   {
    "duration": 57862,
    "start_time": "2024-11-09T07:29:31.397Z"
   },
   {
    "duration": 781,
    "start_time": "2024-11-09T07:30:29.260Z"
   },
   {
    "duration": 8,
    "start_time": "2024-11-09T07:30:30.043Z"
   },
   {
    "duration": 69,
    "start_time": "2024-11-09T07:30:30.052Z"
   },
   {
    "duration": 280,
    "start_time": "2024-11-09T07:30:30.124Z"
   },
   {
    "duration": 5,
    "start_time": "2024-11-09T07:30:30.405Z"
   },
   {
    "duration": 17,
    "start_time": "2024-11-09T07:30:30.411Z"
   },
   {
    "duration": 24,
    "start_time": "2024-11-09T07:30:30.431Z"
   },
   {
    "duration": 9,
    "start_time": "2024-11-09T07:30:30.456Z"
   },
   {
    "duration": 13,
    "start_time": "2024-11-09T07:30:30.466Z"
   },
   {
    "duration": 31,
    "start_time": "2024-11-09T07:30:30.481Z"
   },
   {
    "duration": 137,
    "start_time": "2024-11-09T07:30:30.513Z"
   },
   {
    "duration": 6,
    "start_time": "2024-11-09T07:30:30.651Z"
   },
   {
    "duration": 172,
    "start_time": "2024-11-09T07:30:30.658Z"
   },
   {
    "duration": 10,
    "start_time": "2024-11-09T07:30:30.832Z"
   },
   {
    "duration": 236,
    "start_time": "2024-11-09T07:30:30.843Z"
   },
   {
    "duration": 421,
    "start_time": "2024-11-09T07:30:31.080Z"
   },
   {
    "duration": 484,
    "start_time": "2024-11-09T07:30:31.502Z"
   },
   {
    "duration": 409,
    "start_time": "2024-11-09T07:30:31.988Z"
   },
   {
    "duration": 427,
    "start_time": "2024-11-09T07:30:32.398Z"
   },
   {
    "duration": 301,
    "start_time": "2024-11-09T07:30:32.827Z"
   },
   {
    "duration": 8,
    "start_time": "2024-11-09T07:30:33.129Z"
   },
   {
    "duration": 332,
    "start_time": "2024-11-09T07:31:18.559Z"
   },
   {
    "duration": 40,
    "start_time": "2024-11-09T07:31:18.892Z"
   },
   {
    "duration": 9,
    "start_time": "2024-11-09T07:31:18.933Z"
   },
   {
    "duration": 31,
    "start_time": "2024-11-09T07:31:18.943Z"
   },
   {
    "duration": 10,
    "start_time": "2024-11-09T07:31:18.975Z"
   },
   {
    "duration": 22,
    "start_time": "2024-11-09T07:31:18.986Z"
   },
   {
    "duration": 8,
    "start_time": "2024-11-09T07:31:19.010Z"
   },
   {
    "duration": 6,
    "start_time": "2024-11-09T07:31:19.019Z"
   },
   {
    "duration": 13,
    "start_time": "2024-11-09T07:31:19.026Z"
   },
   {
    "duration": 6,
    "start_time": "2024-11-09T07:31:19.041Z"
   },
   {
    "duration": 13,
    "start_time": "2024-11-09T07:31:19.048Z"
   },
   {
    "duration": 6,
    "start_time": "2024-11-09T07:31:19.062Z"
   },
   {
    "duration": 8,
    "start_time": "2024-11-09T07:31:19.069Z"
   },
   {
    "duration": 4,
    "start_time": "2024-11-09T07:31:19.078Z"
   },
   {
    "duration": 1021,
    "start_time": "2024-11-09T07:31:19.083Z"
   },
   {
    "duration": 9,
    "start_time": "2024-11-09T07:31:20.106Z"
   },
   {
    "duration": 5,
    "start_time": "2024-11-09T07:31:20.116Z"
   },
   {
    "duration": 12,
    "start_time": "2024-11-09T07:31:20.122Z"
   },
   {
    "duration": 16,
    "start_time": "2024-11-09T07:31:20.135Z"
   },
   {
    "duration": 11,
    "start_time": "2024-11-09T07:31:20.152Z"
   },
   {
    "duration": 56944,
    "start_time": "2024-11-09T07:31:20.164Z"
   },
   {
    "duration": 756,
    "start_time": "2024-11-09T07:32:17.112Z"
   },
   {
    "duration": 9,
    "start_time": "2024-11-09T07:32:17.869Z"
   },
   {
    "duration": 17,
    "start_time": "2024-11-09T07:32:17.879Z"
   },
   {
    "duration": 300,
    "start_time": "2024-11-09T07:32:17.897Z"
   },
   {
    "duration": 5,
    "start_time": "2024-11-09T07:32:18.198Z"
   },
   {
    "duration": 8,
    "start_time": "2024-11-09T07:32:18.211Z"
   },
   {
    "duration": 4,
    "start_time": "2024-11-09T07:32:18.222Z"
   },
   {
    "duration": 5,
    "start_time": "2024-11-09T07:32:18.227Z"
   },
   {
    "duration": 5,
    "start_time": "2024-11-09T07:32:18.233Z"
   },
   {
    "duration": 7,
    "start_time": "2024-11-09T07:32:18.239Z"
   },
   {
    "duration": 143,
    "start_time": "2024-11-09T07:32:18.247Z"
   },
   {
    "duration": 5,
    "start_time": "2024-11-09T07:32:18.392Z"
   },
   {
    "duration": 107,
    "start_time": "2024-11-09T07:32:18.398Z"
   },
   {
    "duration": 5,
    "start_time": "2024-11-09T07:32:18.511Z"
   },
   {
    "duration": 235,
    "start_time": "2024-11-09T07:32:18.517Z"
   },
   {
    "duration": 399,
    "start_time": "2024-11-09T07:32:18.753Z"
   },
   {
    "duration": 454,
    "start_time": "2024-11-09T07:32:19.153Z"
   },
   {
    "duration": 385,
    "start_time": "2024-11-09T07:32:19.611Z"
   },
   {
    "duration": 380,
    "start_time": "2024-11-09T07:32:19.998Z"
   },
   {
    "duration": 271,
    "start_time": "2024-11-09T07:32:20.379Z"
   },
   {
    "duration": 8,
    "start_time": "2024-11-09T07:32:20.651Z"
   },
   {
    "duration": 359,
    "start_time": "2024-11-09T07:40:27.034Z"
   },
   {
    "duration": 39,
    "start_time": "2024-11-09T07:40:27.395Z"
   },
   {
    "duration": 9,
    "start_time": "2024-11-09T07:40:27.436Z"
   },
   {
    "duration": 34,
    "start_time": "2024-11-09T07:40:27.447Z"
   },
   {
    "duration": 9,
    "start_time": "2024-11-09T07:40:27.482Z"
   },
   {
    "duration": 18,
    "start_time": "2024-11-09T07:40:27.493Z"
   },
   {
    "duration": 8,
    "start_time": "2024-11-09T07:40:27.512Z"
   },
   {
    "duration": 5,
    "start_time": "2024-11-09T07:40:27.522Z"
   },
   {
    "duration": 9,
    "start_time": "2024-11-09T07:40:27.529Z"
   },
   {
    "duration": 6,
    "start_time": "2024-11-09T07:40:27.541Z"
   },
   {
    "duration": 5,
    "start_time": "2024-11-09T07:40:27.548Z"
   },
   {
    "duration": 5,
    "start_time": "2024-11-09T07:40:27.554Z"
   },
   {
    "duration": 5,
    "start_time": "2024-11-09T07:40:27.560Z"
   },
   {
    "duration": 5,
    "start_time": "2024-11-09T07:40:27.566Z"
   },
   {
    "duration": 1015,
    "start_time": "2024-11-09T07:40:27.612Z"
   },
   {
    "duration": 5,
    "start_time": "2024-11-09T07:40:28.629Z"
   },
   {
    "duration": 7,
    "start_time": "2024-11-09T07:40:28.635Z"
   },
   {
    "duration": 15,
    "start_time": "2024-11-09T07:40:28.644Z"
   },
   {
    "duration": 16,
    "start_time": "2024-11-09T07:40:28.660Z"
   },
   {
    "duration": 34,
    "start_time": "2024-11-09T07:40:28.677Z"
   },
   {
    "duration": 56653,
    "start_time": "2024-11-09T07:40:28.713Z"
   },
   {
    "duration": 745,
    "start_time": "2024-11-09T07:41:25.367Z"
   },
   {
    "duration": 8,
    "start_time": "2024-11-09T07:41:26.113Z"
   },
   {
    "duration": 12,
    "start_time": "2024-11-09T07:41:26.122Z"
   },
   {
    "duration": 270,
    "start_time": "2024-11-09T07:41:26.135Z"
   },
   {
    "duration": 5,
    "start_time": "2024-11-09T07:41:26.411Z"
   },
   {
    "duration": 10,
    "start_time": "2024-11-09T07:41:26.417Z"
   },
   {
    "duration": 4,
    "start_time": "2024-11-09T07:41:26.429Z"
   },
   {
    "duration": 2,
    "start_time": "2024-11-09T07:41:26.435Z"
   },
   {
    "duration": 3,
    "start_time": "2024-11-09T07:41:26.439Z"
   },
   {
    "duration": 9,
    "start_time": "2024-11-09T07:41:26.443Z"
   },
   {
    "duration": 144,
    "start_time": "2024-11-09T07:41:26.453Z"
   },
   {
    "duration": 5,
    "start_time": "2024-11-09T07:41:26.599Z"
   },
   {
    "duration": 109,
    "start_time": "2024-11-09T07:41:26.612Z"
   },
   {
    "duration": 6,
    "start_time": "2024-11-09T07:41:26.723Z"
   },
   {
    "duration": 231,
    "start_time": "2024-11-09T07:41:26.730Z"
   },
   {
    "duration": 421,
    "start_time": "2024-11-09T07:41:26.963Z"
   },
   {
    "duration": 472,
    "start_time": "2024-11-09T07:41:27.386Z"
   },
   {
    "duration": 397,
    "start_time": "2024-11-09T07:41:27.859Z"
   },
   {
    "duration": 374,
    "start_time": "2024-11-09T07:41:28.258Z"
   },
   {
    "duration": 277,
    "start_time": "2024-11-09T07:41:28.633Z"
   },
   {
    "duration": 7,
    "start_time": "2024-11-09T07:41:28.911Z"
   },
   {
    "duration": 5,
    "start_time": "2024-11-09T07:53:48.785Z"
   },
   {
    "duration": 5,
    "start_time": "2024-11-09T07:54:00.486Z"
   },
   {
    "duration": 73,
    "start_time": "2024-11-09T07:54:25.286Z"
   },
   {
    "duration": 1080,
    "start_time": "2024-11-09T07:55:33.817Z"
   },
   {
    "duration": 6,
    "start_time": "2024-11-09T07:55:48.990Z"
   },
   {
    "duration": 8,
    "start_time": "2024-11-09T07:55:59.619Z"
   },
   {
    "duration": 5,
    "start_time": "2024-11-09T07:57:14.044Z"
   },
   {
    "duration": 371,
    "start_time": "2024-11-09T07:58:00.722Z"
   },
   {
    "duration": 47,
    "start_time": "2024-11-09T07:58:01.095Z"
   },
   {
    "duration": 11,
    "start_time": "2024-11-09T07:58:01.143Z"
   },
   {
    "duration": 34,
    "start_time": "2024-11-09T07:58:01.155Z"
   },
   {
    "duration": 9,
    "start_time": "2024-11-09T07:58:01.191Z"
   },
   {
    "duration": 17,
    "start_time": "2024-11-09T07:58:01.201Z"
   },
   {
    "duration": 8,
    "start_time": "2024-11-09T07:58:01.219Z"
   },
   {
    "duration": 19,
    "start_time": "2024-11-09T07:58:01.228Z"
   },
   {
    "duration": 7,
    "start_time": "2024-11-09T07:58:01.249Z"
   },
   {
    "duration": 21,
    "start_time": "2024-11-09T07:58:01.258Z"
   },
   {
    "duration": 7,
    "start_time": "2024-11-09T07:58:01.280Z"
   },
   {
    "duration": 6,
    "start_time": "2024-11-09T07:58:01.288Z"
   },
   {
    "duration": 6,
    "start_time": "2024-11-09T07:58:01.295Z"
   },
   {
    "duration": 4,
    "start_time": "2024-11-09T07:58:01.303Z"
   },
   {
    "duration": 1016,
    "start_time": "2024-11-09T07:58:01.309Z"
   },
   {
    "duration": 6,
    "start_time": "2024-11-09T07:58:02.327Z"
   },
   {
    "duration": 22,
    "start_time": "2024-11-09T07:58:02.334Z"
   },
   {
    "duration": 28,
    "start_time": "2024-11-09T07:58:02.357Z"
   },
   {
    "duration": 38,
    "start_time": "2024-11-09T07:58:02.386Z"
   },
   {
    "duration": 14,
    "start_time": "2024-11-09T07:58:02.425Z"
   },
   {
    "duration": 4,
    "start_time": "2024-11-09T07:58:02.440Z"
   },
   {
    "duration": 56262,
    "start_time": "2024-11-09T07:58:02.445Z"
   },
   {
    "duration": 13,
    "start_time": "2024-11-09T07:58:58.709Z"
   },
   {
    "duration": 10,
    "start_time": "2024-11-09T07:58:58.724Z"
   },
   {
    "duration": 780,
    "start_time": "2024-11-09T07:58:58.735Z"
   },
   {
    "duration": 12,
    "start_time": "2024-11-09T07:58:59.517Z"
   },
   {
    "duration": 264,
    "start_time": "2024-11-09T07:58:59.530Z"
   },
   {
    "duration": 5,
    "start_time": "2024-11-09T07:58:59.795Z"
   },
   {
    "duration": 17,
    "start_time": "2024-11-09T07:58:59.801Z"
   },
   {
    "duration": 4,
    "start_time": "2024-11-09T07:58:59.819Z"
   },
   {
    "duration": 4,
    "start_time": "2024-11-09T07:58:59.825Z"
   },
   {
    "duration": 8,
    "start_time": "2024-11-09T07:58:59.830Z"
   },
   {
    "duration": 8,
    "start_time": "2024-11-09T07:58:59.839Z"
   },
   {
    "duration": 150,
    "start_time": "2024-11-09T07:58:59.849Z"
   },
   {
    "duration": 13,
    "start_time": "2024-11-09T07:59:00.000Z"
   },
   {
    "duration": 136,
    "start_time": "2024-11-09T07:59:00.014Z"
   },
   {
    "duration": 6,
    "start_time": "2024-11-09T07:59:00.152Z"
   },
   {
    "duration": 245,
    "start_time": "2024-11-09T07:59:00.159Z"
   },
   {
    "duration": 400,
    "start_time": "2024-11-09T07:59:00.406Z"
   },
   {
    "duration": 467,
    "start_time": "2024-11-09T07:59:00.811Z"
   },
   {
    "duration": 412,
    "start_time": "2024-11-09T07:59:01.281Z"
   },
   {
    "duration": 383,
    "start_time": "2024-11-09T07:59:01.694Z"
   },
   {
    "duration": 284,
    "start_time": "2024-11-09T07:59:02.078Z"
   },
   {
    "duration": 8,
    "start_time": "2024-11-09T07:59:02.363Z"
   },
   {
    "duration": 3,
    "start_time": "2024-11-09T08:00:32.763Z"
   },
   {
    "duration": 378,
    "start_time": "2024-11-09T08:12:11.369Z"
   },
   {
    "duration": 39,
    "start_time": "2024-11-09T08:12:11.749Z"
   },
   {
    "duration": 8,
    "start_time": "2024-11-09T08:12:11.789Z"
   },
   {
    "duration": 32,
    "start_time": "2024-11-09T08:12:11.798Z"
   },
   {
    "duration": 10,
    "start_time": "2024-11-09T08:12:11.832Z"
   },
   {
    "duration": 18,
    "start_time": "2024-11-09T08:12:11.843Z"
   },
   {
    "duration": 7,
    "start_time": "2024-11-09T08:12:11.862Z"
   },
   {
    "duration": 7,
    "start_time": "2024-11-09T08:12:11.871Z"
   },
   {
    "duration": 6,
    "start_time": "2024-11-09T08:12:11.879Z"
   },
   {
    "duration": 4,
    "start_time": "2024-11-09T08:12:11.887Z"
   },
   {
    "duration": 24,
    "start_time": "2024-11-09T08:12:11.893Z"
   },
   {
    "duration": 5,
    "start_time": "2024-11-09T08:12:11.919Z"
   },
   {
    "duration": 5,
    "start_time": "2024-11-09T08:12:11.926Z"
   },
   {
    "duration": 5,
    "start_time": "2024-11-09T08:12:11.934Z"
   },
   {
    "duration": 980,
    "start_time": "2024-11-09T08:12:11.941Z"
   },
   {
    "duration": 7,
    "start_time": "2024-11-09T08:12:12.923Z"
   },
   {
    "duration": 19,
    "start_time": "2024-11-09T08:12:12.931Z"
   },
   {
    "duration": 15,
    "start_time": "2024-11-09T08:12:12.951Z"
   },
   {
    "duration": 16,
    "start_time": "2024-11-09T08:12:12.967Z"
   },
   {
    "duration": 11,
    "start_time": "2024-11-09T08:12:12.984Z"
   },
   {
    "duration": 19,
    "start_time": "2024-11-09T08:12:12.996Z"
   },
   {
    "duration": 87373,
    "start_time": "2024-11-09T08:12:13.016Z"
   },
   {
    "duration": 11,
    "start_time": "2024-11-09T08:13:40.390Z"
   },
   {
    "duration": 6,
    "start_time": "2024-11-09T08:13:40.412Z"
   },
   {
    "duration": 4,
    "start_time": "2024-11-09T08:13:40.419Z"
   },
   {
    "duration": 771,
    "start_time": "2024-11-09T08:13:40.425Z"
   },
   {
    "duration": 20,
    "start_time": "2024-11-09T08:13:41.197Z"
   },
   {
    "duration": 258,
    "start_time": "2024-11-09T08:13:41.218Z"
   },
   {
    "duration": 5,
    "start_time": "2024-11-09T08:13:41.477Z"
   },
   {
    "duration": 10,
    "start_time": "2024-11-09T08:13:41.483Z"
   },
   {
    "duration": 18,
    "start_time": "2024-11-09T08:13:41.494Z"
   },
   {
    "duration": 3,
    "start_time": "2024-11-09T08:13:41.513Z"
   },
   {
    "duration": 6,
    "start_time": "2024-11-09T08:13:41.517Z"
   },
   {
    "duration": 7,
    "start_time": "2024-11-09T08:13:41.525Z"
   },
   {
    "duration": 130,
    "start_time": "2024-11-09T08:13:41.533Z"
   },
   {
    "duration": 5,
    "start_time": "2024-11-09T08:13:41.665Z"
   },
   {
    "duration": 108,
    "start_time": "2024-11-09T08:13:41.672Z"
   },
   {
    "duration": 5,
    "start_time": "2024-11-09T08:13:41.781Z"
   },
   {
    "duration": 237,
    "start_time": "2024-11-09T08:13:41.786Z"
   },
   {
    "duration": 387,
    "start_time": "2024-11-09T08:13:42.025Z"
   },
   {
    "duration": 451,
    "start_time": "2024-11-09T08:13:42.415Z"
   },
   {
    "duration": 388,
    "start_time": "2024-11-09T08:13:42.868Z"
   },
   {
    "duration": 405,
    "start_time": "2024-11-09T08:13:43.257Z"
   },
   {
    "duration": 286,
    "start_time": "2024-11-09T08:13:43.664Z"
   },
   {
    "duration": 7,
    "start_time": "2024-11-09T08:13:43.951Z"
   },
   {
    "duration": 9,
    "start_time": "2024-11-09T08:16:55.589Z"
   },
   {
    "duration": 395,
    "start_time": "2024-11-09T08:19:12.190Z"
   },
   {
    "duration": 40,
    "start_time": "2024-11-09T08:19:12.586Z"
   },
   {
    "duration": 10,
    "start_time": "2024-11-09T08:19:12.627Z"
   },
   {
    "duration": 31,
    "start_time": "2024-11-09T08:19:12.638Z"
   },
   {
    "duration": 8,
    "start_time": "2024-11-09T08:19:12.671Z"
   },
   {
    "duration": 18,
    "start_time": "2024-11-09T08:19:12.680Z"
   },
   {
    "duration": 8,
    "start_time": "2024-11-09T08:19:12.699Z"
   },
   {
    "duration": 6,
    "start_time": "2024-11-09T08:19:12.709Z"
   },
   {
    "duration": 7,
    "start_time": "2024-11-09T08:19:12.716Z"
   },
   {
    "duration": 4,
    "start_time": "2024-11-09T08:19:12.724Z"
   },
   {
    "duration": 12,
    "start_time": "2024-11-09T08:19:12.729Z"
   },
   {
    "duration": 6,
    "start_time": "2024-11-09T08:19:12.742Z"
   },
   {
    "duration": 6,
    "start_time": "2024-11-09T08:19:12.749Z"
   },
   {
    "duration": 9,
    "start_time": "2024-11-09T08:19:12.757Z"
   },
   {
    "duration": 1034,
    "start_time": "2024-11-09T08:19:12.767Z"
   },
   {
    "duration": 9,
    "start_time": "2024-11-09T08:19:13.803Z"
   },
   {
    "duration": 5,
    "start_time": "2024-11-09T08:19:13.814Z"
   },
   {
    "duration": 14,
    "start_time": "2024-11-09T08:19:13.820Z"
   },
   {
    "duration": 15,
    "start_time": "2024-11-09T08:19:13.835Z"
   },
   {
    "duration": 12,
    "start_time": "2024-11-09T08:19:13.852Z"
   },
   {
    "duration": 3,
    "start_time": "2024-11-09T08:19:13.866Z"
   },
   {
    "duration": 88235,
    "start_time": "2024-11-09T08:19:13.871Z"
   },
   {
    "duration": 10,
    "start_time": "2024-11-09T08:20:42.107Z"
   },
   {
    "duration": 13,
    "start_time": "2024-11-09T08:20:42.119Z"
   },
   {
    "duration": 229,
    "start_time": "2024-11-09T08:20:42.133Z"
   },
   {
    "duration": 5,
    "start_time": "2024-11-09T08:20:42.364Z"
   },
   {
    "duration": 9,
    "start_time": "2024-11-09T08:20:42.370Z"
   },
   {
    "duration": 5,
    "start_time": "2024-11-09T08:20:42.380Z"
   },
   {
    "duration": 26,
    "start_time": "2024-11-09T08:20:42.386Z"
   },
   {
    "duration": 4,
    "start_time": "2024-11-09T08:20:42.414Z"
   },
   {
    "duration": 8,
    "start_time": "2024-11-09T08:20:42.420Z"
   },
   {
    "duration": 144,
    "start_time": "2024-11-09T08:20:42.429Z"
   },
   {
    "duration": 6,
    "start_time": "2024-11-09T08:20:42.574Z"
   },
   {
    "duration": 101,
    "start_time": "2024-11-09T08:20:42.582Z"
   },
   {
    "duration": 5,
    "start_time": "2024-11-09T08:20:42.685Z"
   },
   {
    "duration": 228,
    "start_time": "2024-11-09T08:20:42.692Z"
   },
   {
    "duration": 444,
    "start_time": "2024-11-09T08:20:42.922Z"
   },
   {
    "duration": 415,
    "start_time": "2024-11-09T08:20:43.367Z"
   },
   {
    "duration": 394,
    "start_time": "2024-11-09T08:20:43.783Z"
   },
   {
    "duration": 460,
    "start_time": "2024-11-09T08:20:44.178Z"
   },
   {
    "duration": 204,
    "start_time": "2024-11-09T08:20:44.642Z"
   },
   {
    "duration": 8,
    "start_time": "2024-11-09T08:20:44.847Z"
   },
   {
    "duration": 202,
    "start_time": "2024-11-09T08:20:57.716Z"
   },
   {
    "duration": 300,
    "start_time": "2024-11-09T08:21:02.890Z"
   },
   {
    "duration": 214,
    "start_time": "2024-11-09T08:21:07.278Z"
   },
   {
    "duration": 312,
    "start_time": "2024-11-09T08:21:16.789Z"
   },
   {
    "duration": 9,
    "start_time": "2024-11-09T08:21:33.947Z"
   },
   {
    "duration": 399,
    "start_time": "2024-11-09T08:22:50.833Z"
   },
   {
    "duration": 82,
    "start_time": "2024-11-09T08:24:35.162Z"
   },
   {
    "duration": 6,
    "start_time": "2024-11-09T08:24:47.089Z"
   },
   {
    "duration": 4,
    "start_time": "2024-11-09T08:24:51.802Z"
   },
   {
    "duration": 161,
    "start_time": "2024-11-09T08:25:07.955Z"
   },
   {
    "duration": 167,
    "start_time": "2024-11-09T08:25:44.860Z"
   },
   {
    "duration": 164,
    "start_time": "2024-11-09T08:26:21.173Z"
   },
   {
    "duration": 175,
    "start_time": "2024-11-09T08:26:30.261Z"
   },
   {
    "duration": 175,
    "start_time": "2024-11-09T08:26:35.707Z"
   },
   {
    "duration": 5,
    "start_time": "2024-11-09T08:26:44.318Z"
   },
   {
    "duration": 8,
    "start_time": "2024-11-09T09:12:34.200Z"
   },
   {
    "duration": 12,
    "start_time": "2024-11-09T09:12:35.650Z"
   },
   {
    "duration": 4,
    "start_time": "2024-11-09T09:12:56.509Z"
   },
   {
    "duration": 3,
    "start_time": "2024-11-09T09:12:58.188Z"
   },
   {
    "duration": 8,
    "start_time": "2024-11-09T09:13:31.653Z"
   },
   {
    "duration": 8,
    "start_time": "2024-11-09T09:13:46.606Z"
   },
   {
    "duration": 10,
    "start_time": "2024-11-09T09:20:42.229Z"
   },
   {
    "duration": 4,
    "start_time": "2024-11-09T09:20:45.661Z"
   },
   {
    "duration": 13,
    "start_time": "2024-11-09T09:22:21.529Z"
   },
   {
    "duration": 4,
    "start_time": "2024-11-09T09:22:22.568Z"
   },
   {
    "duration": 10,
    "start_time": "2024-11-09T09:22:23.531Z"
   },
   {
    "duration": 14,
    "start_time": "2024-11-09T09:22:36.009Z"
   },
   {
    "duration": 3,
    "start_time": "2024-11-09T09:27:52.115Z"
   },
   {
    "duration": 8,
    "start_time": "2024-11-09T09:31:17.254Z"
   },
   {
    "duration": 13,
    "start_time": "2024-11-09T09:31:31.254Z"
   },
   {
    "duration": 14,
    "start_time": "2024-11-09T09:32:18.259Z"
   },
   {
    "duration": 11,
    "start_time": "2024-11-09T09:32:30.445Z"
   },
   {
    "duration": 15,
    "start_time": "2024-11-09T09:32:52.177Z"
   },
   {
    "duration": 4,
    "start_time": "2024-11-09T09:34:07.352Z"
   },
   {
    "duration": 4,
    "start_time": "2024-11-09T09:35:11.321Z"
   },
   {
    "duration": 15,
    "start_time": "2024-11-09T09:35:51.840Z"
   },
   {
    "duration": 4,
    "start_time": "2024-11-09T09:36:03.307Z"
   },
   {
    "duration": 85,
    "start_time": "2024-11-09T09:36:54.227Z"
   },
   {
    "duration": 61,
    "start_time": "2024-11-09T09:37:22.386Z"
   },
   {
    "duration": 3,
    "start_time": "2024-11-09T09:37:42.223Z"
   },
   {
    "duration": 62,
    "start_time": "2024-11-09T09:38:30.064Z"
   },
   {
    "duration": 3,
    "start_time": "2024-11-09T09:38:33.498Z"
   },
   {
    "duration": 4,
    "start_time": "2024-11-09T09:38:41.505Z"
   },
   {
    "duration": 4,
    "start_time": "2024-11-09T09:39:19.064Z"
   },
   {
    "duration": 4,
    "start_time": "2024-11-09T09:39:19.673Z"
   },
   {
    "duration": 2,
    "start_time": "2024-11-09T09:44:11.429Z"
   },
   {
    "duration": 2,
    "start_time": "2024-11-09T09:45:07.296Z"
   },
   {
    "duration": 266,
    "start_time": "2024-11-09T10:04:05.034Z"
   },
   {
    "duration": 602,
    "start_time": "2024-11-09T10:04:11.774Z"
   },
   {
    "duration": 150,
    "start_time": "2024-11-09T10:04:40.858Z"
   },
   {
    "duration": 147,
    "start_time": "2024-11-09T10:05:15.681Z"
   },
   {
    "duration": 116,
    "start_time": "2024-11-09T10:05:54.336Z"
   },
   {
    "duration": 119,
    "start_time": "2024-11-09T10:05:57.857Z"
   },
   {
    "duration": 127,
    "start_time": "2024-11-09T10:06:01.273Z"
   },
   {
    "duration": 126,
    "start_time": "2024-11-09T10:06:05.137Z"
   },
   {
    "duration": 125,
    "start_time": "2024-11-09T10:06:11.192Z"
   },
   {
    "duration": 124,
    "start_time": "2024-11-09T10:06:17.243Z"
   },
   {
    "duration": 132,
    "start_time": "2024-11-09T10:06:23.306Z"
   },
   {
    "duration": 134,
    "start_time": "2024-11-09T10:06:40.800Z"
   },
   {
    "duration": 126,
    "start_time": "2024-11-09T10:07:25.427Z"
   },
   {
    "duration": 129,
    "start_time": "2024-11-09T10:08:03.507Z"
   },
   {
    "duration": 130,
    "start_time": "2024-11-09T10:08:10.520Z"
   },
   {
    "duration": 74,
    "start_time": "2024-11-09T10:09:39.390Z"
   },
   {
    "duration": 162,
    "start_time": "2024-11-09T10:09:52.304Z"
   },
   {
    "duration": 154,
    "start_time": "2024-11-09T10:10:06.069Z"
   },
   {
    "duration": 79,
    "start_time": "2024-11-09T10:11:08.684Z"
   },
   {
    "duration": 157,
    "start_time": "2024-11-09T10:11:14.760Z"
   },
   {
    "duration": 157,
    "start_time": "2024-11-09T10:13:23.932Z"
   },
   {
    "duration": 160,
    "start_time": "2024-11-09T10:13:45.654Z"
   },
   {
    "duration": 161,
    "start_time": "2024-11-09T10:15:12.291Z"
   },
   {
    "duration": 164,
    "start_time": "2024-11-09T10:15:22.524Z"
   },
   {
    "duration": 162,
    "start_time": "2024-11-09T10:15:33.269Z"
   },
   {
    "duration": 39,
    "start_time": "2024-11-09T11:23:16.812Z"
   },
   {
    "duration": 24,
    "start_time": "2024-11-09T11:24:09.667Z"
   },
   {
    "duration": 33,
    "start_time": "2024-11-09T11:25:16.802Z"
   },
   {
    "duration": 19,
    "start_time": "2024-11-09T11:25:27.879Z"
   },
   {
    "duration": 25,
    "start_time": "2024-11-09T11:25:34.619Z"
   },
   {
    "duration": 20,
    "start_time": "2024-11-09T11:27:45.839Z"
   },
   {
    "duration": 28,
    "start_time": "2024-11-09T11:29:42.502Z"
   },
   {
    "duration": 4,
    "start_time": "2024-11-09T11:31:58.753Z"
   },
   {
    "duration": 13,
    "start_time": "2024-11-09T11:32:04.949Z"
   },
   {
    "duration": 14,
    "start_time": "2024-11-09T11:35:05.162Z"
   },
   {
    "duration": 14,
    "start_time": "2024-11-09T11:35:14.218Z"
   },
   {
    "duration": 16,
    "start_time": "2024-11-09T11:36:11.206Z"
   },
   {
    "duration": 4,
    "start_time": "2024-11-09T11:39:48.943Z"
   },
   {
    "duration": 62,
    "start_time": "2024-11-09T11:40:53.790Z"
   },
   {
    "duration": 7,
    "start_time": "2024-11-09T11:41:14.172Z"
   },
   {
    "duration": 338,
    "start_time": "2024-11-09T11:46:04.454Z"
   },
   {
    "duration": 42,
    "start_time": "2024-11-09T11:46:04.794Z"
   },
   {
    "duration": 15,
    "start_time": "2024-11-09T11:46:04.837Z"
   },
   {
    "duration": 48,
    "start_time": "2024-11-09T11:46:04.854Z"
   },
   {
    "duration": 12,
    "start_time": "2024-11-09T11:46:04.904Z"
   },
   {
    "duration": 19,
    "start_time": "2024-11-09T11:46:04.917Z"
   },
   {
    "duration": 14,
    "start_time": "2024-11-09T11:46:04.937Z"
   },
   {
    "duration": 17,
    "start_time": "2024-11-09T11:46:04.952Z"
   },
   {
    "duration": 12,
    "start_time": "2024-11-09T11:46:04.970Z"
   },
   {
    "duration": 7,
    "start_time": "2024-11-09T11:46:04.985Z"
   },
   {
    "duration": 16,
    "start_time": "2024-11-09T11:46:04.993Z"
   },
   {
    "duration": 5,
    "start_time": "2024-11-09T11:46:05.011Z"
   },
   {
    "duration": 14,
    "start_time": "2024-11-09T11:46:05.018Z"
   },
   {
    "duration": 17,
    "start_time": "2024-11-09T11:46:05.034Z"
   },
   {
    "duration": 1072,
    "start_time": "2024-11-09T11:46:05.053Z"
   },
   {
    "duration": 5,
    "start_time": "2024-11-09T11:46:06.127Z"
   },
   {
    "duration": 29,
    "start_time": "2024-11-09T11:46:06.133Z"
   },
   {
    "duration": 22,
    "start_time": "2024-11-09T11:46:06.164Z"
   },
   {
    "duration": 18,
    "start_time": "2024-11-09T11:46:06.187Z"
   },
   {
    "duration": 11,
    "start_time": "2024-11-09T11:46:06.207Z"
   },
   {
    "duration": 4,
    "start_time": "2024-11-09T11:46:06.219Z"
   },
   {
    "duration": 88372,
    "start_time": "2024-11-09T11:46:06.225Z"
   },
   {
    "duration": 15,
    "start_time": "2024-11-09T11:47:34.598Z"
   },
   {
    "duration": 19,
    "start_time": "2024-11-09T11:47:34.614Z"
   },
   {
    "duration": 283,
    "start_time": "2024-11-09T11:47:34.634Z"
   },
   {
    "duration": 4,
    "start_time": "2024-11-09T11:47:34.919Z"
   },
   {
    "duration": 8,
    "start_time": "2024-11-09T11:47:34.925Z"
   },
   {
    "duration": 4,
    "start_time": "2024-11-09T11:47:34.936Z"
   },
   {
    "duration": 4,
    "start_time": "2024-11-09T11:47:34.941Z"
   },
   {
    "duration": 3,
    "start_time": "2024-11-09T11:47:34.946Z"
   },
   {
    "duration": 8,
    "start_time": "2024-11-09T11:47:34.950Z"
   },
   {
    "duration": 159,
    "start_time": "2024-11-09T11:47:34.959Z"
   },
   {
    "duration": 6,
    "start_time": "2024-11-09T11:47:35.120Z"
   },
   {
    "duration": 119,
    "start_time": "2024-11-09T11:47:35.127Z"
   },
   {
    "duration": 6,
    "start_time": "2024-11-09T11:47:35.247Z"
   },
   {
    "duration": 234,
    "start_time": "2024-11-09T11:47:35.254Z"
   },
   {
    "duration": 466,
    "start_time": "2024-11-09T11:47:35.490Z"
   },
   {
    "duration": 397,
    "start_time": "2024-11-09T11:47:35.958Z"
   },
   {
    "duration": 374,
    "start_time": "2024-11-09T11:47:36.356Z"
   },
   {
    "duration": 489,
    "start_time": "2024-11-09T11:47:36.732Z"
   },
   {
    "duration": 212,
    "start_time": "2024-11-09T11:47:37.222Z"
   },
   {
    "duration": 6,
    "start_time": "2024-11-09T11:47:37.436Z"
   },
   {
    "duration": 19,
    "start_time": "2024-11-09T11:47:37.443Z"
   },
   {
    "duration": 4,
    "start_time": "2024-11-09T11:47:37.463Z"
   },
   {
    "duration": 8,
    "start_time": "2024-11-09T11:47:37.469Z"
   },
   {
    "duration": 12,
    "start_time": "2024-11-09T11:47:37.479Z"
   },
   {
    "duration": 28,
    "start_time": "2024-11-09T11:47:37.492Z"
   },
   {
    "duration": 3,
    "start_time": "2024-11-09T11:47:37.521Z"
   },
   {
    "duration": 63,
    "start_time": "2024-11-09T11:47:37.525Z"
   },
   {
    "duration": 3,
    "start_time": "2024-11-09T11:47:37.589Z"
   },
   {
    "duration": 3,
    "start_time": "2024-11-09T11:47:37.594Z"
   },
   {
    "duration": 157,
    "start_time": "2024-11-09T11:47:37.599Z"
   },
   {
    "duration": 162,
    "start_time": "2024-11-09T11:47:37.757Z"
   },
   {
    "duration": 27,
    "start_time": "2024-11-09T11:47:37.920Z"
   },
   {
    "duration": 9,
    "start_time": "2024-11-09T11:47:37.949Z"
   },
   {
    "duration": 411,
    "start_time": "2024-11-09T17:23:49.192Z"
   },
   {
    "duration": 130,
    "start_time": "2024-11-09T17:23:49.604Z"
   },
   {
    "duration": 10,
    "start_time": "2024-11-09T17:23:49.736Z"
   },
   {
    "duration": 220,
    "start_time": "2024-11-09T17:23:49.748Z"
   },
   {
    "duration": 10,
    "start_time": "2024-11-09T17:23:49.969Z"
   },
   {
    "duration": 96,
    "start_time": "2024-11-09T17:23:49.981Z"
   },
   {
    "duration": 9,
    "start_time": "2024-11-09T17:23:50.079Z"
   },
   {
    "duration": 24,
    "start_time": "2024-11-09T17:23:50.089Z"
   },
   {
    "duration": 11,
    "start_time": "2024-11-09T17:23:50.114Z"
   },
   {
    "duration": 29,
    "start_time": "2024-11-09T17:23:50.127Z"
   },
   {
    "duration": 18,
    "start_time": "2024-11-09T17:23:50.158Z"
   },
   {
    "duration": 83,
    "start_time": "2024-11-09T17:23:50.179Z"
   },
   {
    "duration": 12,
    "start_time": "2024-11-09T17:23:50.264Z"
   },
   {
    "duration": 11,
    "start_time": "2024-11-09T17:23:50.277Z"
   },
   {
    "duration": 1377,
    "start_time": "2024-11-09T17:23:50.289Z"
   },
   {
    "duration": 7,
    "start_time": "2024-11-09T17:23:51.668Z"
   },
   {
    "duration": 85,
    "start_time": "2024-11-09T17:23:51.676Z"
   },
   {
    "duration": 23,
    "start_time": "2024-11-09T17:23:51.762Z"
   },
   {
    "duration": 19,
    "start_time": "2024-11-09T17:23:51.786Z"
   },
   {
    "duration": 34,
    "start_time": "2024-11-09T17:23:51.807Z"
   },
   {
    "duration": 10,
    "start_time": "2024-11-09T17:23:51.842Z"
   },
   {
    "duration": 109143,
    "start_time": "2024-11-09T17:23:51.854Z"
   },
   {
    "duration": 9,
    "start_time": "2024-11-09T17:25:40.998Z"
   },
   {
    "duration": 35,
    "start_time": "2024-11-09T17:25:41.009Z"
   },
   {
    "duration": 326,
    "start_time": "2024-11-09T17:25:41.045Z"
   },
   {
    "duration": 5,
    "start_time": "2024-11-09T17:25:41.372Z"
   },
   {
    "duration": 23,
    "start_time": "2024-11-09T17:25:41.379Z"
   },
   {
    "duration": 11,
    "start_time": "2024-11-09T17:25:41.405Z"
   },
   {
    "duration": 16,
    "start_time": "2024-11-09T17:25:41.417Z"
   },
   {
    "duration": 20,
    "start_time": "2024-11-09T17:25:41.434Z"
   },
   {
    "duration": 29,
    "start_time": "2024-11-09T17:25:41.455Z"
   },
   {
    "duration": 149,
    "start_time": "2024-11-09T17:25:41.486Z"
   },
   {
    "duration": 5,
    "start_time": "2024-11-09T17:25:41.637Z"
   },
   {
    "duration": 154,
    "start_time": "2024-11-09T17:25:41.644Z"
   },
   {
    "duration": 6,
    "start_time": "2024-11-09T17:25:41.799Z"
   },
   {
    "duration": 253,
    "start_time": "2024-11-09T17:25:41.806Z"
   },
   {
    "duration": 560,
    "start_time": "2024-11-09T17:25:42.061Z"
   },
   {
    "duration": 481,
    "start_time": "2024-11-09T17:25:42.622Z"
   },
   {
    "duration": 548,
    "start_time": "2024-11-09T17:25:43.104Z"
   },
   {
    "duration": 460,
    "start_time": "2024-11-09T17:25:43.653Z"
   },
   {
    "duration": 211,
    "start_time": "2024-11-09T17:25:44.115Z"
   },
   {
    "duration": 7,
    "start_time": "2024-11-09T17:25:44.328Z"
   },
   {
    "duration": 17,
    "start_time": "2024-11-09T17:25:44.337Z"
   },
   {
    "duration": 3,
    "start_time": "2024-11-09T17:25:44.356Z"
   },
   {
    "duration": 9,
    "start_time": "2024-11-09T17:25:44.360Z"
   },
   {
    "duration": 14,
    "start_time": "2024-11-09T17:25:44.370Z"
   },
   {
    "duration": 48,
    "start_time": "2024-11-09T17:25:44.386Z"
   },
   {
    "duration": 3,
    "start_time": "2024-11-09T17:25:44.436Z"
   },
   {
    "duration": 17,
    "start_time": "2024-11-09T17:25:44.440Z"
   },
   {
    "duration": 4,
    "start_time": "2024-11-09T17:25:44.459Z"
   },
   {
    "duration": 4,
    "start_time": "2024-11-09T17:25:44.464Z"
   },
   {
    "duration": 215,
    "start_time": "2024-11-09T17:25:44.470Z"
   },
   {
    "duration": 173,
    "start_time": "2024-11-09T17:25:44.687Z"
   },
   {
    "duration": 29,
    "start_time": "2024-11-09T17:25:44.862Z"
   },
   {
    "duration": 28,
    "start_time": "2024-11-09T17:25:44.893Z"
   },
   {
    "duration": 397,
    "start_time": "2024-11-09T17:28:55.243Z"
   },
   {
    "duration": 3,
    "start_time": "2024-11-09T17:28:55.704Z"
   },
   {
    "duration": 95,
    "start_time": "2024-11-09T17:28:55.709Z"
   },
   {
    "duration": 11,
    "start_time": "2024-11-09T17:28:55.806Z"
   },
   {
    "duration": 53,
    "start_time": "2024-11-09T17:28:55.818Z"
   },
   {
    "duration": 11,
    "start_time": "2024-11-09T17:28:55.873Z"
   },
   {
    "duration": 23,
    "start_time": "2024-11-09T17:28:55.885Z"
   },
   {
    "duration": 9,
    "start_time": "2024-11-09T17:28:55.910Z"
   },
   {
    "duration": 6,
    "start_time": "2024-11-09T17:28:55.921Z"
   },
   {
    "duration": 8,
    "start_time": "2024-11-09T17:28:55.929Z"
   },
   {
    "duration": 5,
    "start_time": "2024-11-09T17:28:55.938Z"
   },
   {
    "duration": 9,
    "start_time": "2024-11-09T17:28:55.945Z"
   },
   {
    "duration": 6,
    "start_time": "2024-11-09T17:28:55.955Z"
   },
   {
    "duration": 8,
    "start_time": "2024-11-09T17:28:55.962Z"
   },
   {
    "duration": 50,
    "start_time": "2024-11-09T17:28:55.972Z"
   },
   {
    "duration": 1329,
    "start_time": "2024-11-09T17:28:56.024Z"
   },
   {
    "duration": 9,
    "start_time": "2024-11-09T17:28:57.355Z"
   },
   {
    "duration": 9,
    "start_time": "2024-11-09T17:28:57.365Z"
   },
   {
    "duration": 48,
    "start_time": "2024-11-09T17:28:57.375Z"
   },
   {
    "duration": 21,
    "start_time": "2024-11-09T17:28:57.425Z"
   },
   {
    "duration": 13,
    "start_time": "2024-11-09T17:28:57.448Z"
   },
   {
    "duration": 5,
    "start_time": "2024-11-09T17:28:57.462Z"
   },
   {
    "duration": 438,
    "start_time": "2024-11-09T17:31:02.300Z"
   },
   {
    "duration": 46,
    "start_time": "2024-11-09T17:31:02.740Z"
   },
   {
    "duration": 12,
    "start_time": "2024-11-09T17:31:02.788Z"
   },
   {
    "duration": 95,
    "start_time": "2024-11-09T17:31:02.803Z"
   },
   {
    "duration": 22,
    "start_time": "2024-11-09T17:31:02.900Z"
   },
   {
    "duration": 26,
    "start_time": "2024-11-09T17:31:02.924Z"
   },
   {
    "duration": 19,
    "start_time": "2024-11-09T17:31:02.951Z"
   },
   {
    "duration": 10,
    "start_time": "2024-11-09T17:31:02.972Z"
   },
   {
    "duration": 10,
    "start_time": "2024-11-09T17:31:02.984Z"
   },
   {
    "duration": 7,
    "start_time": "2024-11-09T17:31:02.996Z"
   },
   {
    "duration": 20,
    "start_time": "2024-11-09T17:31:03.004Z"
   },
   {
    "duration": 20,
    "start_time": "2024-11-09T17:31:03.026Z"
   },
   {
    "duration": 10,
    "start_time": "2024-11-09T17:31:03.047Z"
   },
   {
    "duration": 5,
    "start_time": "2024-11-09T17:31:03.059Z"
   },
   {
    "duration": 1283,
    "start_time": "2024-11-09T17:31:03.065Z"
   },
   {
    "duration": 7,
    "start_time": "2024-11-09T17:31:04.349Z"
   },
   {
    "duration": 21,
    "start_time": "2024-11-09T17:31:04.358Z"
   },
   {
    "duration": 19,
    "start_time": "2024-11-09T17:31:04.380Z"
   },
   {
    "duration": 37,
    "start_time": "2024-11-09T17:31:04.401Z"
   },
   {
    "duration": 29,
    "start_time": "2024-11-09T17:31:04.440Z"
   },
   {
    "duration": 10,
    "start_time": "2024-11-09T17:31:04.470Z"
   },
   {
    "duration": 111964,
    "start_time": "2024-11-09T17:31:04.482Z"
   },
   {
    "duration": 9,
    "start_time": "2024-11-09T17:32:56.447Z"
   },
   {
    "duration": 35,
    "start_time": "2024-11-09T17:32:56.458Z"
   },
   {
    "duration": 439,
    "start_time": "2024-11-09T17:32:56.494Z"
   },
   {
    "duration": 8,
    "start_time": "2024-11-09T17:32:56.935Z"
   },
   {
    "duration": 12,
    "start_time": "2024-11-09T17:32:56.944Z"
   },
   {
    "duration": 4,
    "start_time": "2024-11-09T17:32:56.961Z"
   },
   {
    "duration": 4,
    "start_time": "2024-11-09T17:32:56.967Z"
   },
   {
    "duration": 7,
    "start_time": "2024-11-09T17:32:56.973Z"
   },
   {
    "duration": 15,
    "start_time": "2024-11-09T17:32:57.022Z"
   },
   {
    "duration": 184,
    "start_time": "2024-11-09T17:32:57.039Z"
   },
   {
    "duration": 7,
    "start_time": "2024-11-09T17:32:57.224Z"
   },
   {
    "duration": 170,
    "start_time": "2024-11-09T17:32:57.232Z"
   },
   {
    "duration": 7,
    "start_time": "2024-11-09T17:32:57.403Z"
   },
   {
    "duration": 274,
    "start_time": "2024-11-09T17:32:57.420Z"
   },
   {
    "duration": 607,
    "start_time": "2024-11-09T17:32:57.696Z"
   },
   {
    "duration": 507,
    "start_time": "2024-11-09T17:32:58.304Z"
   },
   {
    "duration": 507,
    "start_time": "2024-11-09T17:32:58.813Z"
   },
   {
    "duration": 609,
    "start_time": "2024-11-09T17:32:59.322Z"
   },
   {
    "duration": 225,
    "start_time": "2024-11-09T17:32:59.933Z"
   },
   {
    "duration": 7,
    "start_time": "2024-11-09T17:33:00.160Z"
   },
   {
    "duration": 34,
    "start_time": "2024-11-09T17:33:00.168Z"
   },
   {
    "duration": 5,
    "start_time": "2024-11-09T17:33:00.203Z"
   },
   {
    "duration": 76,
    "start_time": "2024-11-09T17:33:00.222Z"
   },
   {
    "duration": 16,
    "start_time": "2024-11-09T17:33:00.300Z"
   },
   {
    "duration": 41,
    "start_time": "2024-11-09T17:33:00.318Z"
   },
   {
    "duration": 9,
    "start_time": "2024-11-09T17:33:00.361Z"
   },
   {
    "duration": 28,
    "start_time": "2024-11-09T17:33:00.371Z"
   },
   {
    "duration": 4,
    "start_time": "2024-11-09T17:33:00.401Z"
   },
   {
    "duration": 4,
    "start_time": "2024-11-09T17:33:00.407Z"
   },
   {
    "duration": 220,
    "start_time": "2024-11-09T17:33:00.412Z"
   },
   {
    "duration": 199,
    "start_time": "2024-11-09T17:33:00.633Z"
   },
   {
    "duration": 32,
    "start_time": "2024-11-09T17:33:00.834Z"
   },
   {
    "duration": 78,
    "start_time": "2024-11-09T17:33:00.867Z"
   },
   {
    "duration": 30,
    "start_time": "2024-11-09T17:33:00.947Z"
   },
   {
    "duration": 16,
    "start_time": "2024-11-09T17:35:09.724Z"
   },
   {
    "duration": 73,
    "start_time": "2024-11-09T17:42:47.539Z"
   },
   {
    "duration": 10,
    "start_time": "2024-11-09T17:43:16.964Z"
   },
   {
    "duration": 3,
    "start_time": "2024-11-09T17:43:22.376Z"
   },
   {
    "duration": 5,
    "start_time": "2024-11-09T17:43:29.101Z"
   },
   {
    "duration": 15,
    "start_time": "2024-11-09T17:43:43.980Z"
   },
   {
    "duration": 53,
    "start_time": "2024-11-09T17:55:34.485Z"
   },
   {
    "duration": 8,
    "start_time": "2024-11-09T18:06:18.560Z"
   },
   {
    "duration": 7,
    "start_time": "2024-11-09T18:06:22.833Z"
   },
   {
    "duration": 6,
    "start_time": "2024-11-09T18:06:32.229Z"
   },
   {
    "duration": 14,
    "start_time": "2024-11-09T18:06:45.018Z"
   },
   {
    "duration": 6,
    "start_time": "2024-11-09T18:07:00.010Z"
   },
   {
    "duration": 9,
    "start_time": "2024-11-09T18:07:06.628Z"
   },
   {
    "duration": 7,
    "start_time": "2024-11-09T18:08:15.466Z"
   },
   {
    "duration": 43,
    "start_time": "2024-11-09T18:08:57.376Z"
   },
   {
    "duration": 42,
    "start_time": "2024-11-09T18:09:04.613Z"
   },
   {
    "duration": 43,
    "start_time": "2024-11-09T18:09:09.310Z"
   },
   {
    "duration": 43,
    "start_time": "2024-11-09T18:09:14.280Z"
   },
   {
    "duration": 45,
    "start_time": "2024-11-09T18:09:18.905Z"
   },
   {
    "duration": 43,
    "start_time": "2024-11-09T18:09:24.017Z"
   },
   {
    "duration": 49,
    "start_time": "2024-11-09T18:09:29.733Z"
   },
   {
    "duration": 51,
    "start_time": "2024-11-09T18:09:39.275Z"
   },
   {
    "duration": 45,
    "start_time": "2024-11-09T18:10:00.257Z"
   },
   {
    "duration": 6,
    "start_time": "2024-11-09T18:14:45.038Z"
   },
   {
    "duration": 4,
    "start_time": "2024-11-09T18:18:37.688Z"
   },
   {
    "duration": 4,
    "start_time": "2024-11-09T18:18:49.109Z"
   },
   {
    "duration": 4,
    "start_time": "2024-11-09T18:19:00.690Z"
   },
   {
    "duration": 924,
    "start_time": "2024-11-09T18:44:55.407Z"
   },
   {
    "duration": 27,
    "start_time": "2024-11-09T18:45:35.512Z"
   },
   {
    "duration": 6,
    "start_time": "2024-11-09T18:57:13.257Z"
   },
   {
    "duration": 33,
    "start_time": "2024-11-09T18:58:32.839Z"
   },
   {
    "duration": 15,
    "start_time": "2024-11-09T19:00:38.035Z"
   },
   {
    "duration": 22,
    "start_time": "2024-11-09T19:18:42.513Z"
   },
   {
    "duration": 14,
    "start_time": "2024-11-09T19:19:11.094Z"
   },
   {
    "duration": 368,
    "start_time": "2024-11-09T19:19:22.849Z"
   },
   {
    "duration": 48,
    "start_time": "2024-11-09T19:19:23.218Z"
   },
   {
    "duration": 14,
    "start_time": "2024-11-09T19:19:23.267Z"
   },
   {
    "duration": 42,
    "start_time": "2024-11-09T19:19:23.283Z"
   },
   {
    "duration": 12,
    "start_time": "2024-11-09T19:19:23.330Z"
   },
   {
    "duration": 38,
    "start_time": "2024-11-09T19:19:23.343Z"
   },
   {
    "duration": 17,
    "start_time": "2024-11-09T19:19:23.383Z"
   },
   {
    "duration": 15,
    "start_time": "2024-11-09T19:19:23.401Z"
   },
   {
    "duration": 24,
    "start_time": "2024-11-09T19:19:23.417Z"
   },
   {
    "duration": 26,
    "start_time": "2024-11-09T19:19:23.443Z"
   },
   {
    "duration": 17,
    "start_time": "2024-11-09T19:19:23.471Z"
   },
   {
    "duration": 14,
    "start_time": "2024-11-09T19:19:23.489Z"
   },
   {
    "duration": 42,
    "start_time": "2024-11-09T19:19:23.505Z"
   },
   {
    "duration": 14,
    "start_time": "2024-11-09T19:19:23.550Z"
   },
   {
    "duration": 1262,
    "start_time": "2024-11-09T19:19:23.565Z"
   },
   {
    "duration": 7,
    "start_time": "2024-11-09T19:19:24.831Z"
   },
   {
    "duration": 15,
    "start_time": "2024-11-09T19:19:24.840Z"
   },
   {
    "duration": 26,
    "start_time": "2024-11-09T19:19:24.857Z"
   },
   {
    "duration": 50,
    "start_time": "2024-11-09T19:19:24.885Z"
   },
   {
    "duration": 14,
    "start_time": "2024-11-09T19:19:24.936Z"
   },
   {
    "duration": 6,
    "start_time": "2024-11-09T19:19:24.951Z"
   },
   {
    "duration": 117027,
    "start_time": "2024-11-09T19:19:24.959Z"
   },
   {
    "duration": 9,
    "start_time": "2024-11-09T19:21:21.988Z"
   },
   {
    "duration": 33,
    "start_time": "2024-11-09T19:21:21.998Z"
   },
   {
    "duration": 421,
    "start_time": "2024-11-09T19:21:22.033Z"
   },
   {
    "duration": 12,
    "start_time": "2024-11-09T19:21:22.456Z"
   },
   {
    "duration": 11,
    "start_time": "2024-11-09T19:21:22.470Z"
   },
   {
    "duration": 14,
    "start_time": "2024-11-09T19:21:22.482Z"
   },
   {
    "duration": 7,
    "start_time": "2024-11-09T19:21:22.498Z"
   },
   {
    "duration": 38,
    "start_time": "2024-11-09T19:21:22.506Z"
   },
   {
    "duration": 48,
    "start_time": "2024-11-09T19:21:22.546Z"
   },
   {
    "duration": 215,
    "start_time": "2024-11-09T19:21:22.596Z"
   },
   {
    "duration": 33,
    "start_time": "2024-11-09T19:21:22.812Z"
   },
   {
    "duration": 166,
    "start_time": "2024-11-09T19:21:22.854Z"
   },
   {
    "duration": 7,
    "start_time": "2024-11-09T19:21:23.023Z"
   },
   {
    "duration": 329,
    "start_time": "2024-11-09T19:21:23.031Z"
   },
   {
    "duration": 648,
    "start_time": "2024-11-09T19:21:23.364Z"
   },
   {
    "duration": 568,
    "start_time": "2024-11-09T19:21:24.014Z"
   },
   {
    "duration": 525,
    "start_time": "2024-11-09T19:21:24.584Z"
   },
   {
    "duration": 643,
    "start_time": "2024-11-09T19:21:25.111Z"
   },
   {
    "duration": 214,
    "start_time": "2024-11-09T19:21:25.759Z"
   },
   {
    "duration": 7,
    "start_time": "2024-11-09T19:21:25.975Z"
   },
   {
    "duration": 43,
    "start_time": "2024-11-09T19:21:25.983Z"
   },
   {
    "duration": 4,
    "start_time": "2024-11-09T19:21:26.029Z"
   },
   {
    "duration": 28,
    "start_time": "2024-11-09T19:21:26.035Z"
   },
   {
    "duration": 14,
    "start_time": "2024-11-09T19:21:26.065Z"
   },
   {
    "duration": 87,
    "start_time": "2024-11-09T19:21:26.081Z"
   },
   {
    "duration": 4,
    "start_time": "2024-11-09T19:21:26.169Z"
   },
   {
    "duration": 16,
    "start_time": "2024-11-09T19:21:26.174Z"
   },
   {
    "duration": 3,
    "start_time": "2024-11-09T19:21:26.191Z"
   },
   {
    "duration": 4,
    "start_time": "2024-11-09T19:21:26.195Z"
   },
   {
    "duration": 208,
    "start_time": "2024-11-09T19:21:26.200Z"
   },
   {
    "duration": 215,
    "start_time": "2024-11-09T19:21:26.410Z"
   },
   {
    "duration": 41,
    "start_time": "2024-11-09T19:21:26.627Z"
   },
   {
    "duration": 4,
    "start_time": "2024-11-09T19:21:26.670Z"
   },
   {
    "duration": 23,
    "start_time": "2024-11-09T19:21:26.676Z"
   },
   {
    "duration": 11,
    "start_time": "2024-11-09T19:21:26.725Z"
   },
   {
    "duration": 34,
    "start_time": "2024-11-09T19:21:26.737Z"
   },
   {
    "duration": 14,
    "start_time": "2024-11-09T19:21:26.773Z"
   },
   {
    "duration": 422,
    "start_time": "2024-11-09T19:39:11.492Z"
   },
   {
    "duration": 148,
    "start_time": "2024-11-09T19:45:03.936Z"
   },
   {
    "duration": 7,
    "start_time": "2024-11-09T19:45:20.073Z"
   },
   {
    "duration": 58,
    "start_time": "2024-11-09T19:52:20.597Z"
   },
   {
    "duration": 38,
    "start_time": "2024-11-09T19:53:04.228Z"
   },
   {
    "duration": 10,
    "start_time": "2024-11-09T19:53:23.262Z"
   },
   {
    "duration": 6,
    "start_time": "2024-11-09T20:12:09.864Z"
   },
   {
    "duration": 12,
    "start_time": "2024-11-09T20:13:19.138Z"
   },
   {
    "duration": 17,
    "start_time": "2024-11-09T20:14:28.857Z"
   },
   {
    "duration": 7,
    "start_time": "2024-11-09T20:14:49.568Z"
   },
   {
    "duration": 5,
    "start_time": "2024-11-09T20:15:20.593Z"
   },
   {
    "duration": 6,
    "start_time": "2024-11-09T20:15:28.575Z"
   },
   {
    "duration": 770,
    "start_time": "2024-11-10T06:31:39.849Z"
   },
   {
    "duration": 81,
    "start_time": "2024-11-10T06:31:40.622Z"
   },
   {
    "duration": 10,
    "start_time": "2024-11-10T06:31:40.707Z"
   },
   {
    "duration": 157,
    "start_time": "2024-11-10T06:31:40.718Z"
   },
   {
    "duration": 9,
    "start_time": "2024-11-10T06:31:40.877Z"
   },
   {
    "duration": 108,
    "start_time": "2024-11-10T06:31:40.887Z"
   },
   {
    "duration": 8,
    "start_time": "2024-11-10T06:31:40.997Z"
   },
   {
    "duration": 9,
    "start_time": "2024-11-10T06:31:41.006Z"
   },
   {
    "duration": 6,
    "start_time": "2024-11-10T06:31:41.017Z"
   },
   {
    "duration": 4,
    "start_time": "2024-11-10T06:31:41.025Z"
   },
   {
    "duration": 6,
    "start_time": "2024-11-10T06:31:41.030Z"
   },
   {
    "duration": 6,
    "start_time": "2024-11-10T06:31:41.037Z"
   },
   {
    "duration": 5,
    "start_time": "2024-11-10T06:31:41.044Z"
   },
   {
    "duration": 14,
    "start_time": "2024-11-10T06:31:41.050Z"
   },
   {
    "duration": 1185,
    "start_time": "2024-11-10T06:31:41.065Z"
   },
   {
    "duration": 5,
    "start_time": "2024-11-10T06:31:42.252Z"
   },
   {
    "duration": 5,
    "start_time": "2024-11-10T06:31:42.259Z"
   },
   {
    "duration": 14,
    "start_time": "2024-11-10T06:31:42.265Z"
   },
   {
    "duration": 32,
    "start_time": "2024-11-10T06:31:42.281Z"
   },
   {
    "duration": 11,
    "start_time": "2024-11-10T06:31:42.314Z"
   },
   {
    "duration": 4,
    "start_time": "2024-11-10T06:31:42.327Z"
   },
   {
    "duration": 87639,
    "start_time": "2024-11-10T06:31:42.332Z"
   },
   {
    "duration": 7,
    "start_time": "2024-11-10T06:33:09.973Z"
   },
   {
    "duration": 14,
    "start_time": "2024-11-10T06:33:09.981Z"
   },
   {
    "duration": 332,
    "start_time": "2024-11-10T06:33:09.996Z"
   },
   {
    "duration": 5,
    "start_time": "2024-11-10T06:33:10.329Z"
   },
   {
    "duration": 9,
    "start_time": "2024-11-10T06:33:10.337Z"
   },
   {
    "duration": 5,
    "start_time": "2024-11-10T06:33:10.348Z"
   },
   {
    "duration": 3,
    "start_time": "2024-11-10T06:33:10.354Z"
   },
   {
    "duration": 4,
    "start_time": "2024-11-10T06:33:10.358Z"
   },
   {
    "duration": 8,
    "start_time": "2024-11-10T06:33:10.363Z"
   },
   {
    "duration": 157,
    "start_time": "2024-11-10T06:33:10.372Z"
   },
   {
    "duration": 6,
    "start_time": "2024-11-10T06:33:10.530Z"
   },
   {
    "duration": 117,
    "start_time": "2024-11-10T06:33:10.537Z"
   },
   {
    "duration": 5,
    "start_time": "2024-11-10T06:33:10.655Z"
   },
   {
    "duration": 228,
    "start_time": "2024-11-10T06:33:10.661Z"
   },
   {
    "duration": 410,
    "start_time": "2024-11-10T06:33:10.890Z"
   },
   {
    "duration": 492,
    "start_time": "2024-11-10T06:33:11.302Z"
   },
   {
    "duration": 489,
    "start_time": "2024-11-10T06:33:11.795Z"
   },
   {
    "duration": 395,
    "start_time": "2024-11-10T06:33:12.285Z"
   },
   {
    "duration": 262,
    "start_time": "2024-11-10T06:33:12.681Z"
   },
   {
    "duration": 4,
    "start_time": "2024-11-10T06:33:12.944Z"
   },
   {
    "duration": 14,
    "start_time": "2024-11-10T06:33:12.949Z"
   },
   {
    "duration": 3,
    "start_time": "2024-11-10T06:33:12.964Z"
   },
   {
    "duration": 10,
    "start_time": "2024-11-10T06:33:12.968Z"
   },
   {
    "duration": 34,
    "start_time": "2024-11-10T06:33:12.979Z"
   },
   {
    "duration": 45,
    "start_time": "2024-11-10T06:33:13.014Z"
   },
   {
    "duration": 3,
    "start_time": "2024-11-10T06:33:13.060Z"
   },
   {
    "duration": 21,
    "start_time": "2024-11-10T06:33:13.064Z"
   },
   {
    "duration": 3,
    "start_time": "2024-11-10T06:33:13.086Z"
   },
   {
    "duration": 4,
    "start_time": "2024-11-10T06:33:13.091Z"
   },
   {
    "duration": 187,
    "start_time": "2024-11-10T06:33:13.096Z"
   },
   {
    "duration": 169,
    "start_time": "2024-11-10T06:33:13.284Z"
   },
   {
    "duration": 28,
    "start_time": "2024-11-10T06:33:13.454Z"
   },
   {
    "duration": 4,
    "start_time": "2024-11-10T06:33:13.483Z"
   },
   {
    "duration": 43,
    "start_time": "2024-11-10T06:33:13.488Z"
   },
   {
    "duration": 5,
    "start_time": "2024-11-10T06:33:13.533Z"
   },
   {
    "duration": 22,
    "start_time": "2024-11-10T06:33:13.540Z"
   },
   {
    "duration": 16,
    "start_time": "2024-11-10T06:33:13.563Z"
   },
   {
    "duration": 7,
    "start_time": "2024-11-10T06:33:13.580Z"
   },
   {
    "duration": 27,
    "start_time": "2024-11-10T06:33:13.588Z"
   },
   {
    "duration": 6,
    "start_time": "2024-11-10T06:38:20.584Z"
   },
   {
    "duration": 6,
    "start_time": "2024-11-10T06:38:27.568Z"
   },
   {
    "duration": 5,
    "start_time": "2024-11-10T06:38:50.920Z"
   },
   {
    "duration": 6,
    "start_time": "2024-11-10T07:10:20.358Z"
   },
   {
    "duration": 5,
    "start_time": "2024-11-10T07:13:39.067Z"
   },
   {
    "duration": 13,
    "start_time": "2024-11-10T07:17:43.151Z"
   },
   {
    "duration": 6,
    "start_time": "2024-11-10T07:18:22.694Z"
   },
   {
    "duration": 7,
    "start_time": "2024-11-10T07:24:05.784Z"
   },
   {
    "duration": 61,
    "start_time": "2024-11-10T07:26:22.218Z"
   },
   {
    "duration": 76,
    "start_time": "2024-11-10T07:28:30.154Z"
   },
   {
    "duration": 93,
    "start_time": "2024-11-10T07:29:00.037Z"
   },
   {
    "duration": 7,
    "start_time": "2024-11-10T07:29:34.308Z"
   },
   {
    "duration": 58,
    "start_time": "2024-11-10T07:29:57.686Z"
   },
   {
    "duration": 6,
    "start_time": "2024-11-10T07:30:27.625Z"
   },
   {
    "duration": 8,
    "start_time": "2024-11-10T07:31:26.195Z"
   },
   {
    "duration": 11,
    "start_time": "2024-11-10T07:35:11.143Z"
   },
   {
    "duration": 9,
    "start_time": "2024-11-10T07:35:30.907Z"
   },
   {
    "duration": 3,
    "start_time": "2024-11-10T09:01:26.594Z"
   },
   {
    "duration": 69,
    "start_time": "2024-11-10T09:06:00.235Z"
   },
   {
    "duration": 986,
    "start_time": "2024-11-10T09:06:10.805Z"
   },
   {
    "duration": 1232,
    "start_time": "2024-11-10T09:06:18.957Z"
   },
   {
    "duration": 6,
    "start_time": "2024-11-10T09:06:31.138Z"
   },
   {
    "duration": 1226,
    "start_time": "2024-11-10T09:06:50.803Z"
   },
   {
    "duration": 163,
    "start_time": "2024-11-10T09:08:56.582Z"
   },
   {
    "duration": 193,
    "start_time": "2024-11-10T09:09:05.339Z"
   },
   {
    "duration": 1478,
    "start_time": "2024-11-10T09:09:11.142Z"
   },
   {
    "duration": 320,
    "start_time": "2024-11-10T09:21:59.218Z"
   },
   {
    "duration": 279,
    "start_time": "2024-11-10T09:22:12.623Z"
   },
   {
    "duration": 1259,
    "start_time": "2024-11-10T09:22:22.841Z"
   },
   {
    "duration": 1352,
    "start_time": "2024-11-10T09:24:30.062Z"
   },
   {
    "duration": 1349,
    "start_time": "2024-11-10T09:24:43.146Z"
   },
   {
    "duration": 2550,
    "start_time": "2024-11-10T09:25:01.827Z"
   },
   {
    "duration": 0,
    "start_time": "2024-11-10T09:25:44.815Z"
   },
   {
    "duration": 1137,
    "start_time": "2024-11-10T09:25:46.522Z"
   },
   {
    "duration": 1177,
    "start_time": "2024-11-10T09:26:02.516Z"
   },
   {
    "duration": 1181,
    "start_time": "2024-11-10T09:26:13.146Z"
   },
   {
    "duration": 1072,
    "start_time": "2024-11-10T09:26:25.510Z"
   },
   {
    "duration": 1315,
    "start_time": "2024-11-10T09:26:31.366Z"
   },
   {
    "duration": 1396,
    "start_time": "2024-11-10T09:26:36.569Z"
   },
   {
    "duration": 1357,
    "start_time": "2024-11-10T09:26:54.551Z"
   },
   {
    "duration": 1136,
    "start_time": "2024-11-10T09:27:10.199Z"
   },
   {
    "duration": 1559,
    "start_time": "2024-11-10T09:28:33.488Z"
   },
   {
    "duration": 1833,
    "start_time": "2024-11-10T09:28:43.405Z"
   },
   {
    "duration": 2448,
    "start_time": "2024-11-10T09:28:58.266Z"
   },
   {
    "duration": 2828,
    "start_time": "2024-11-10T09:29:10.499Z"
   },
   {
    "duration": 1934,
    "start_time": "2024-11-10T09:29:39.668Z"
   },
   {
    "duration": 1938,
    "start_time": "2024-11-10T09:29:53.465Z"
   },
   {
    "duration": 1830,
    "start_time": "2024-11-10T09:30:06.891Z"
   },
   {
    "duration": 1081,
    "start_time": "2024-11-10T09:30:10.955Z"
   },
   {
    "duration": 1412,
    "start_time": "2024-11-10T09:30:16.231Z"
   },
   {
    "duration": 2579,
    "start_time": "2024-11-10T09:30:24.746Z"
   },
   {
    "duration": 1863,
    "start_time": "2024-11-10T09:30:34.445Z"
   },
   {
    "duration": 1842,
    "start_time": "2024-11-10T09:56:41.311Z"
   },
   {
    "duration": 345,
    "start_time": "2024-11-10T09:56:59.200Z"
   },
   {
    "duration": 1142,
    "start_time": "2024-11-10T09:57:22.804Z"
   },
   {
    "duration": 1297,
    "start_time": "2024-11-10T09:57:38.755Z"
   },
   {
    "duration": 2519,
    "start_time": "2024-11-10T10:07:50.900Z"
   },
   {
    "duration": 1893,
    "start_time": "2024-11-10T10:08:02.852Z"
   },
   {
    "duration": 1696,
    "start_time": "2024-11-10T10:08:10.066Z"
   },
   {
    "duration": 1551,
    "start_time": "2024-11-10T10:08:59.966Z"
   },
   {
    "duration": 1204,
    "start_time": "2024-11-10T10:09:24.882Z"
   },
   {
    "duration": 9,
    "start_time": "2024-11-10T10:48:35.210Z"
   },
   {
    "duration": 2,
    "start_time": "2024-11-10T10:48:49.129Z"
   },
   {
    "duration": 46,
    "start_time": "2024-11-10T10:48:53.753Z"
   },
   {
    "duration": 1337,
    "start_time": "2024-11-10T10:49:12.649Z"
   },
   {
    "duration": 1338,
    "start_time": "2024-11-10T10:49:26.737Z"
   },
   {
    "duration": 3,
    "start_time": "2024-11-10T10:49:53.474Z"
   },
   {
    "duration": 1381,
    "start_time": "2024-11-10T10:49:57.399Z"
   },
   {
    "duration": 1145,
    "start_time": "2024-11-10T10:54:00.344Z"
   },
   {
    "duration": 1366,
    "start_time": "2024-11-10T10:54:08.194Z"
   },
   {
    "duration": 5,
    "start_time": "2024-11-10T11:29:06.305Z"
   },
   {
    "duration": 3,
    "start_time": "2024-11-10T11:29:16.321Z"
   },
   {
    "duration": 4,
    "start_time": "2024-11-10T11:29:23.851Z"
   },
   {
    "duration": 3,
    "start_time": "2024-11-10T11:29:33.112Z"
   },
   {
    "duration": 11,
    "start_time": "2024-11-10T11:31:27.141Z"
   },
   {
    "duration": 6,
    "start_time": "2024-11-10T11:37:10.765Z"
   },
   {
    "duration": 9,
    "start_time": "2024-11-10T11:39:29.555Z"
   },
   {
    "duration": 9,
    "start_time": "2024-11-10T11:39:56.312Z"
   },
   {
    "duration": 6,
    "start_time": "2024-11-10T11:40:39.686Z"
   },
   {
    "duration": 8,
    "start_time": "2024-11-10T11:40:41.197Z"
   },
   {
    "duration": 6,
    "start_time": "2024-11-10T11:41:49.111Z"
   },
   {
    "duration": 9,
    "start_time": "2024-11-10T11:41:54.905Z"
   },
   {
    "duration": 8,
    "start_time": "2024-11-10T11:43:15.082Z"
   },
   {
    "duration": 4,
    "start_time": "2024-11-10T11:47:13.260Z"
   },
   {
    "duration": 5,
    "start_time": "2024-11-10T11:47:22.587Z"
   },
   {
    "duration": 5,
    "start_time": "2024-11-10T11:47:54.323Z"
   },
   {
    "duration": 5,
    "start_time": "2024-11-10T11:48:24.323Z"
   },
   {
    "duration": 7,
    "start_time": "2024-11-10T11:48:29.113Z"
   },
   {
    "duration": 5,
    "start_time": "2024-11-10T11:48:42.770Z"
   },
   {
    "duration": 5,
    "start_time": "2024-11-10T11:49:01.425Z"
   },
   {
    "duration": 5,
    "start_time": "2024-11-10T11:49:34.312Z"
   },
   {
    "duration": 4,
    "start_time": "2024-11-10T11:54:27.085Z"
   },
   {
    "duration": 5,
    "start_time": "2024-11-10T11:55:00.877Z"
   },
   {
    "duration": 5,
    "start_time": "2024-11-10T11:55:02.925Z"
   },
   {
    "duration": 5,
    "start_time": "2024-11-10T11:55:55.624Z"
   },
   {
    "duration": 6,
    "start_time": "2024-11-10T11:58:21.253Z"
   },
   {
    "duration": 6,
    "start_time": "2024-11-10T11:58:49.777Z"
   },
   {
    "duration": 6,
    "start_time": "2024-11-10T12:06:03.765Z"
   },
   {
    "duration": 6,
    "start_time": "2024-11-10T12:06:57.275Z"
   },
   {
    "duration": 7,
    "start_time": "2024-11-10T12:07:46.547Z"
   },
   {
    "duration": 5,
    "start_time": "2024-11-10T12:08:53.567Z"
   },
   {
    "duration": 70,
    "start_time": "2024-11-10T12:09:31.657Z"
   },
   {
    "duration": 72,
    "start_time": "2024-11-10T12:09:39.555Z"
   },
   {
    "duration": 5,
    "start_time": "2024-11-10T12:10:03.437Z"
   },
   {
    "duration": 4,
    "start_time": "2024-11-10T12:10:18.806Z"
   },
   {
    "duration": 5,
    "start_time": "2024-11-10T12:20:53.630Z"
   },
   {
    "duration": 5,
    "start_time": "2024-11-10T12:21:12.207Z"
   },
   {
    "duration": 5,
    "start_time": "2024-11-10T12:23:25.495Z"
   },
   {
    "duration": 2,
    "start_time": "2024-11-10T12:23:40.240Z"
   },
   {
    "duration": 5,
    "start_time": "2024-11-10T12:24:06.790Z"
   },
   {
    "duration": 8,
    "start_time": "2024-11-10T12:34:37.091Z"
   },
   {
    "duration": 99,
    "start_time": "2024-11-10T12:35:20.594Z"
   },
   {
    "duration": 87,
    "start_time": "2024-11-10T12:35:22.532Z"
   },
   {
    "duration": 2,
    "start_time": "2024-11-10T12:36:27.793Z"
   },
   {
    "duration": 124,
    "start_time": "2024-11-10T12:36:33.736Z"
   },
   {
    "duration": 126,
    "start_time": "2024-11-10T12:38:16.304Z"
   },
   {
    "duration": 119,
    "start_time": "2024-11-10T12:38:26.770Z"
   },
   {
    "duration": 122,
    "start_time": "2024-11-10T12:38:49.278Z"
   },
   {
    "duration": 121,
    "start_time": "2024-11-10T12:39:54.817Z"
   },
   {
    "duration": 114,
    "start_time": "2024-11-10T12:40:03.562Z"
   },
   {
    "duration": 123,
    "start_time": "2024-11-10T12:40:16.239Z"
   },
   {
    "duration": 118,
    "start_time": "2024-11-10T12:40:41.441Z"
   },
   {
    "duration": 117,
    "start_time": "2024-11-10T12:41:43.970Z"
   },
   {
    "duration": 4,
    "start_time": "2024-11-10T12:46:12.274Z"
   },
   {
    "duration": 5,
    "start_time": "2024-11-10T12:55:16.477Z"
   },
   {
    "duration": 405,
    "start_time": "2024-11-10T12:55:19.935Z"
   },
   {
    "duration": 1237,
    "start_time": "2024-11-10T16:12:04.586Z"
   },
   {
    "duration": 149,
    "start_time": "2024-11-10T16:12:05.827Z"
   },
   {
    "duration": 13,
    "start_time": "2024-11-10T16:12:05.978Z"
   },
   {
    "duration": 167,
    "start_time": "2024-11-10T16:12:05.993Z"
   },
   {
    "duration": 11,
    "start_time": "2024-11-10T16:12:06.162Z"
   },
   {
    "duration": 73,
    "start_time": "2024-11-10T16:12:06.175Z"
   },
   {
    "duration": 11,
    "start_time": "2024-11-10T16:12:06.250Z"
   },
   {
    "duration": 7,
    "start_time": "2024-11-10T16:12:06.262Z"
   },
   {
    "duration": 9,
    "start_time": "2024-11-10T16:12:06.272Z"
   },
   {
    "duration": 7,
    "start_time": "2024-11-10T16:12:06.285Z"
   },
   {
    "duration": 7,
    "start_time": "2024-11-10T16:12:06.295Z"
   },
   {
    "duration": 7,
    "start_time": "2024-11-10T16:12:06.305Z"
   },
   {
    "duration": 8,
    "start_time": "2024-11-10T16:12:06.313Z"
   },
   {
    "duration": 47,
    "start_time": "2024-11-10T16:12:06.324Z"
   },
   {
    "duration": 1051,
    "start_time": "2024-11-10T16:12:06.373Z"
   },
   {
    "duration": 7,
    "start_time": "2024-11-10T16:12:07.426Z"
   },
   {
    "duration": 8,
    "start_time": "2024-11-10T16:12:07.434Z"
   },
   {
    "duration": 34,
    "start_time": "2024-11-10T16:12:07.443Z"
   },
   {
    "duration": 25,
    "start_time": "2024-11-10T16:12:07.479Z"
   },
   {
    "duration": 39,
    "start_time": "2024-11-10T16:12:07.507Z"
   },
   {
    "duration": 6,
    "start_time": "2024-11-10T16:12:07.548Z"
   },
   {
    "duration": 119692,
    "start_time": "2024-11-10T16:12:07.556Z"
   },
   {
    "duration": 16,
    "start_time": "2024-11-10T16:14:07.250Z"
   },
   {
    "duration": 30,
    "start_time": "2024-11-10T16:14:07.267Z"
   },
   {
    "duration": 436,
    "start_time": "2024-11-10T16:14:07.298Z"
   },
   {
    "duration": 7,
    "start_time": "2024-11-10T16:14:07.736Z"
   },
   {
    "duration": 37,
    "start_time": "2024-11-10T16:14:07.745Z"
   },
   {
    "duration": 7,
    "start_time": "2024-11-10T16:14:07.788Z"
   },
   {
    "duration": 10,
    "start_time": "2024-11-10T16:14:07.797Z"
   },
   {
    "duration": 10,
    "start_time": "2024-11-10T16:14:07.809Z"
   },
   {
    "duration": 15,
    "start_time": "2024-11-10T16:14:07.821Z"
   },
   {
    "duration": 182,
    "start_time": "2024-11-10T16:14:07.839Z"
   },
   {
    "duration": 6,
    "start_time": "2024-11-10T16:14:08.023Z"
   },
   {
    "duration": 177,
    "start_time": "2024-11-10T16:14:08.031Z"
   },
   {
    "duration": 6,
    "start_time": "2024-11-10T16:14:08.210Z"
   },
   {
    "duration": 290,
    "start_time": "2024-11-10T16:14:08.218Z"
   },
   {
    "duration": 524,
    "start_time": "2024-11-10T16:14:08.510Z"
   },
   {
    "duration": 643,
    "start_time": "2024-11-10T16:14:09.036Z"
   },
   {
    "duration": 584,
    "start_time": "2024-11-10T16:14:09.681Z"
   },
   {
    "duration": 547,
    "start_time": "2024-11-10T16:14:10.267Z"
   },
   {
    "duration": 233,
    "start_time": "2024-11-10T16:14:10.815Z"
   },
   {
    "duration": 6,
    "start_time": "2024-11-10T16:14:11.049Z"
   },
   {
    "duration": 16,
    "start_time": "2024-11-10T16:14:11.057Z"
   },
   {
    "duration": 3,
    "start_time": "2024-11-10T16:14:11.075Z"
   },
   {
    "duration": 20,
    "start_time": "2024-11-10T16:14:11.080Z"
   },
   {
    "duration": 13,
    "start_time": "2024-11-10T16:14:11.102Z"
   },
   {
    "duration": 149,
    "start_time": "2024-11-10T16:14:11.117Z"
   },
   {
    "duration": 4,
    "start_time": "2024-11-10T16:14:11.268Z"
   },
   {
    "duration": 30,
    "start_time": "2024-11-10T16:14:11.273Z"
   },
   {
    "duration": 4,
    "start_time": "2024-11-10T16:14:11.305Z"
   },
   {
    "duration": 6,
    "start_time": "2024-11-10T16:14:11.311Z"
   },
   {
    "duration": 235,
    "start_time": "2024-11-10T16:14:11.319Z"
   },
   {
    "duration": 219,
    "start_time": "2024-11-10T16:14:11.556Z"
   },
   {
    "duration": 51,
    "start_time": "2024-11-10T16:14:11.777Z"
   },
   {
    "duration": 5,
    "start_time": "2024-11-10T16:14:11.830Z"
   },
   {
    "duration": 49,
    "start_time": "2024-11-10T16:14:11.837Z"
   },
   {
    "duration": 7,
    "start_time": "2024-11-10T16:14:11.888Z"
   },
   {
    "duration": 27,
    "start_time": "2024-11-10T16:14:11.896Z"
   },
   {
    "duration": 15,
    "start_time": "2024-11-10T16:14:11.924Z"
   },
   {
    "duration": 34,
    "start_time": "2024-11-10T16:14:11.941Z"
   },
   {
    "duration": 8,
    "start_time": "2024-11-10T16:14:11.976Z"
   },
   {
    "duration": 15,
    "start_time": "2024-11-10T16:14:11.985Z"
   },
   {
    "duration": 1710,
    "start_time": "2024-11-10T16:14:12.002Z"
   },
   {
    "duration": 6,
    "start_time": "2024-11-10T16:14:13.714Z"
   },
   {
    "duration": 179,
    "start_time": "2024-11-10T16:14:13.722Z"
   },
   {
    "duration": 11,
    "start_time": "2024-11-10T16:17:04.675Z"
   },
   {
    "duration": 6,
    "start_time": "2024-11-10T16:17:40.896Z"
   },
   {
    "duration": 1771,
    "start_time": "2024-11-10T16:34:44.623Z"
   },
   {
    "duration": 1803,
    "start_time": "2024-11-10T16:37:28.878Z"
   },
   {
    "duration": 1753,
    "start_time": "2024-11-10T16:37:35.549Z"
   },
   {
    "duration": 4,
    "start_time": "2024-11-10T16:42:26.315Z"
   },
   {
    "duration": 1179,
    "start_time": "2024-11-10T16:53:42.623Z"
   },
   {
    "duration": 2036,
    "start_time": "2024-11-10T16:54:12.761Z"
   },
   {
    "duration": 2046,
    "start_time": "2024-11-10T16:54:18.882Z"
   },
   {
    "duration": 7,
    "start_time": "2024-11-10T17:00:15.391Z"
   },
   {
    "duration": 65,
    "start_time": "2024-11-10T17:00:32.837Z"
   },
   {
    "duration": 191,
    "start_time": "2024-11-10T17:00:37.674Z"
   },
   {
    "duration": 6,
    "start_time": "2024-11-10T17:00:48.630Z"
   },
   {
    "duration": 2252,
    "start_time": "2024-11-10T17:01:05.633Z"
   },
   {
    "duration": 6,
    "start_time": "2024-11-10T17:01:13.028Z"
   },
   {
    "duration": 2507,
    "start_time": "2024-11-10T17:01:20.174Z"
   },
   {
    "duration": 6,
    "start_time": "2024-11-10T17:01:25.301Z"
   },
   {
    "duration": 2325,
    "start_time": "2024-11-10T17:01:35.693Z"
   },
   {
    "duration": 8,
    "start_time": "2024-11-10T17:01:40.591Z"
   },
   {
    "duration": 2239,
    "start_time": "2024-11-10T17:02:21.588Z"
   },
   {
    "duration": 6,
    "start_time": "2024-11-10T17:02:23.829Z"
   },
   {
    "duration": 2284,
    "start_time": "2024-11-10T17:02:31.100Z"
   },
   {
    "duration": 7,
    "start_time": "2024-11-10T17:02:33.532Z"
   },
   {
    "duration": 2056,
    "start_time": "2024-11-10T17:02:38.148Z"
   },
   {
    "duration": 8,
    "start_time": "2024-11-10T17:02:41.879Z"
   },
   {
    "duration": 2023,
    "start_time": "2024-11-10T17:02:53.155Z"
   },
   {
    "duration": 2256,
    "start_time": "2024-11-10T17:03:00.439Z"
   },
   {
    "duration": 6,
    "start_time": "2024-11-10T17:03:04.051Z"
   },
   {
    "duration": 2159,
    "start_time": "2024-11-10T17:03:15.678Z"
   },
   {
    "duration": 6,
    "start_time": "2024-11-10T17:03:19.489Z"
   },
   {
    "duration": 2127,
    "start_time": "2024-11-10T17:03:25.826Z"
   },
   {
    "duration": 7,
    "start_time": "2024-11-10T17:03:29.786Z"
   },
   {
    "duration": 2079,
    "start_time": "2024-11-10T17:03:36.728Z"
   },
   {
    "duration": 6,
    "start_time": "2024-11-10T17:03:41.825Z"
   },
   {
    "duration": 2053,
    "start_time": "2024-11-10T17:03:50.888Z"
   },
   {
    "duration": 6,
    "start_time": "2024-11-10T17:03:54.878Z"
   },
   {
    "duration": 2222,
    "start_time": "2024-11-10T17:04:00.265Z"
   },
   {
    "duration": 8,
    "start_time": "2024-11-10T17:04:05.231Z"
   },
   {
    "duration": 2125,
    "start_time": "2024-11-10T17:04:10.051Z"
   },
   {
    "duration": 11,
    "start_time": "2024-11-10T17:04:13.881Z"
   },
   {
    "duration": 2327,
    "start_time": "2024-11-10T17:04:19.170Z"
   },
   {
    "duration": 8,
    "start_time": "2024-11-10T17:04:23.406Z"
   },
   {
    "duration": 2125,
    "start_time": "2024-11-10T17:04:28.516Z"
   },
   {
    "duration": 7,
    "start_time": "2024-11-10T17:04:32.753Z"
   },
   {
    "duration": 2062,
    "start_time": "2024-11-10T17:04:48.903Z"
   },
   {
    "duration": 6,
    "start_time": "2024-11-10T17:04:52.909Z"
   },
   {
    "duration": 1993,
    "start_time": "2024-11-10T17:05:03.276Z"
   },
   {
    "duration": 6,
    "start_time": "2024-11-10T17:05:06.943Z"
   },
   {
    "duration": 2053,
    "start_time": "2024-11-10T17:05:12.317Z"
   },
   {
    "duration": 6,
    "start_time": "2024-11-10T17:05:17.783Z"
   },
   {
    "duration": 2009,
    "start_time": "2024-11-10T17:05:24.536Z"
   },
   {
    "duration": 7,
    "start_time": "2024-11-10T17:05:28.502Z"
   },
   {
    "duration": 6,
    "start_time": "2024-11-10T17:13:25.156Z"
   },
   {
    "duration": 5,
    "start_time": "2024-11-10T17:23:39.533Z"
   },
   {
    "duration": 1977,
    "start_time": "2024-11-10T17:25:50.567Z"
   },
   {
    "duration": 5,
    "start_time": "2024-11-10T17:26:00.608Z"
   },
   {
    "duration": 12,
    "start_time": "2024-11-10T17:48:33.789Z"
   },
   {
    "duration": 11,
    "start_time": "2024-11-10T18:22:49.982Z"
   },
   {
    "duration": 11,
    "start_time": "2024-11-10T18:23:22.795Z"
   },
   {
    "duration": 11,
    "start_time": "2024-11-10T18:23:40.387Z"
   },
   {
    "duration": 81,
    "start_time": "2024-11-10T18:29:23.301Z"
   },
   {
    "duration": 477,
    "start_time": "2024-11-10T18:55:26.820Z"
   },
   {
    "duration": 221,
    "start_time": "2024-11-10T18:55:32.273Z"
   },
   {
    "duration": 214,
    "start_time": "2024-11-10T18:56:22.314Z"
   },
   {
    "duration": 196,
    "start_time": "2024-11-10T18:56:27.937Z"
   },
   {
    "duration": 71,
    "start_time": "2024-11-10T19:40:25.707Z"
   },
   {
    "duration": 1090,
    "start_time": "2024-11-10T20:11:54.030Z"
   },
   {
    "duration": 93,
    "start_time": "2024-11-10T20:11:55.121Z"
   },
   {
    "duration": 11,
    "start_time": "2024-11-10T20:11:55.215Z"
   },
   {
    "duration": 37,
    "start_time": "2024-11-10T20:11:55.228Z"
   },
   {
    "duration": 10,
    "start_time": "2024-11-10T20:11:55.268Z"
   },
   {
    "duration": 19,
    "start_time": "2024-11-10T20:11:55.279Z"
   },
   {
    "duration": 9,
    "start_time": "2024-11-10T20:11:55.300Z"
   },
   {
    "duration": 6,
    "start_time": "2024-11-10T20:11:55.311Z"
   },
   {
    "duration": 7,
    "start_time": "2024-11-10T20:11:55.319Z"
   },
   {
    "duration": 5,
    "start_time": "2024-11-10T20:11:55.328Z"
   },
   {
    "duration": 6,
    "start_time": "2024-11-10T20:11:55.364Z"
   },
   {
    "duration": 6,
    "start_time": "2024-11-10T20:11:55.372Z"
   },
   {
    "duration": 7,
    "start_time": "2024-11-10T20:11:55.380Z"
   },
   {
    "duration": 5,
    "start_time": "2024-11-10T20:11:55.391Z"
   },
   {
    "duration": 1086,
    "start_time": "2024-11-10T20:11:55.398Z"
   },
   {
    "duration": 7,
    "start_time": "2024-11-10T20:11:56.486Z"
   },
   {
    "duration": 54,
    "start_time": "2024-11-10T20:11:56.495Z"
   },
   {
    "duration": 15,
    "start_time": "2024-11-10T20:11:56.551Z"
   },
   {
    "duration": 20,
    "start_time": "2024-11-10T20:11:56.568Z"
   },
   {
    "duration": 12,
    "start_time": "2024-11-10T20:11:56.590Z"
   },
   {
    "duration": 4,
    "start_time": "2024-11-10T20:11:56.604Z"
   },
   {
    "duration": 119788,
    "start_time": "2024-11-10T20:11:56.609Z"
   },
   {
    "duration": 10,
    "start_time": "2024-11-10T20:13:56.398Z"
   },
   {
    "duration": 18,
    "start_time": "2024-11-10T20:13:56.410Z"
   },
   {
    "duration": 425,
    "start_time": "2024-11-10T20:13:56.430Z"
   },
   {
    "duration": 11,
    "start_time": "2024-11-10T20:13:56.857Z"
   },
   {
    "duration": 12,
    "start_time": "2024-11-10T20:13:56.870Z"
   },
   {
    "duration": 6,
    "start_time": "2024-11-10T20:13:56.883Z"
   },
   {
    "duration": 10,
    "start_time": "2024-11-10T20:13:56.891Z"
   },
   {
    "duration": 9,
    "start_time": "2024-11-10T20:13:56.902Z"
   },
   {
    "duration": 9,
    "start_time": "2024-11-10T20:13:56.913Z"
   },
   {
    "duration": 181,
    "start_time": "2024-11-10T20:13:56.923Z"
   },
   {
    "duration": 7,
    "start_time": "2024-11-10T20:13:57.105Z"
   },
   {
    "duration": 130,
    "start_time": "2024-11-10T20:13:57.113Z"
   },
   {
    "duration": 6,
    "start_time": "2024-11-10T20:13:57.245Z"
   },
   {
    "duration": 282,
    "start_time": "2024-11-10T20:13:57.265Z"
   },
   {
    "duration": 558,
    "start_time": "2024-11-10T20:13:57.548Z"
   },
   {
    "duration": 626,
    "start_time": "2024-11-10T20:13:58.108Z"
   },
   {
    "duration": 508,
    "start_time": "2024-11-10T20:13:58.736Z"
   },
   {
    "duration": 609,
    "start_time": "2024-11-10T20:13:59.245Z"
   },
   {
    "duration": 236,
    "start_time": "2024-11-10T20:13:59.864Z"
   },
   {
    "duration": 6,
    "start_time": "2024-11-10T20:14:00.102Z"
   },
   {
    "duration": 94,
    "start_time": "2024-11-10T20:14:00.109Z"
   },
   {
    "duration": 42,
    "start_time": "2024-11-10T20:14:00.205Z"
   },
   {
    "duration": 36,
    "start_time": "2024-11-10T20:14:00.249Z"
   },
   {
    "duration": 25,
    "start_time": "2024-11-10T20:14:00.287Z"
   },
   {
    "duration": 194,
    "start_time": "2024-11-10T20:14:00.314Z"
   },
   {
    "duration": 4,
    "start_time": "2024-11-10T20:14:00.510Z"
   },
   {
    "duration": 76,
    "start_time": "2024-11-10T20:14:00.515Z"
   },
   {
    "duration": 4,
    "start_time": "2024-11-10T20:14:00.593Z"
   },
   {
    "duration": 4,
    "start_time": "2024-11-10T20:14:00.599Z"
   },
   {
    "duration": 235,
    "start_time": "2024-11-10T20:14:00.605Z"
   },
   {
    "duration": 194,
    "start_time": "2024-11-10T20:14:00.841Z"
   },
   {
    "duration": 42,
    "start_time": "2024-11-10T20:14:01.037Z"
   },
   {
    "duration": 5,
    "start_time": "2024-11-10T20:14:01.081Z"
   },
   {
    "duration": 29,
    "start_time": "2024-11-10T20:14:01.087Z"
   },
   {
    "duration": 7,
    "start_time": "2024-11-10T20:14:01.117Z"
   },
   {
    "duration": 47,
    "start_time": "2024-11-10T20:14:01.126Z"
   },
   {
    "duration": 15,
    "start_time": "2024-11-10T20:14:01.175Z"
   },
   {
    "duration": 7,
    "start_time": "2024-11-10T20:14:01.192Z"
   },
   {
    "duration": 7,
    "start_time": "2024-11-10T20:14:01.201Z"
   },
   {
    "duration": 14,
    "start_time": "2024-11-10T20:14:01.210Z"
   },
   {
    "duration": 1956,
    "start_time": "2024-11-10T20:14:01.225Z"
   },
   {
    "duration": 7,
    "start_time": "2024-11-10T20:14:03.183Z"
   },
   {
    "duration": 8,
    "start_time": "2024-11-10T20:14:03.192Z"
   },
   {
    "duration": 166,
    "start_time": "2024-11-10T20:14:03.201Z"
   },
   {
    "duration": 2052,
    "start_time": "2024-11-10T20:19:06.200Z"
   },
   {
    "duration": 2062,
    "start_time": "2024-11-10T20:19:14.535Z"
   },
   {
    "duration": 2062,
    "start_time": "2024-11-10T20:19:18.603Z"
   },
   {
    "duration": 6,
    "start_time": "2024-11-10T20:19:27.270Z"
   },
   {
    "duration": 8,
    "start_time": "2024-11-10T20:19:38.301Z"
   },
   {
    "duration": 154,
    "start_time": "2024-11-10T20:19:43.249Z"
   },
   {
    "duration": 1007,
    "start_time": "2024-11-11T05:38:24.794Z"
   },
   {
    "duration": 129,
    "start_time": "2024-11-11T05:38:25.803Z"
   },
   {
    "duration": 11,
    "start_time": "2024-11-11T05:38:25.934Z"
   },
   {
    "duration": 136,
    "start_time": "2024-11-11T05:38:25.947Z"
   },
   {
    "duration": 15,
    "start_time": "2024-11-11T05:38:26.085Z"
   },
   {
    "duration": 74,
    "start_time": "2024-11-11T05:38:26.102Z"
   },
   {
    "duration": 9,
    "start_time": "2024-11-11T05:38:26.178Z"
   },
   {
    "duration": 6,
    "start_time": "2024-11-11T05:38:26.188Z"
   },
   {
    "duration": 6,
    "start_time": "2024-11-11T05:38:26.196Z"
   },
   {
    "duration": 5,
    "start_time": "2024-11-11T05:38:26.204Z"
   },
   {
    "duration": 6,
    "start_time": "2024-11-11T05:38:26.211Z"
   },
   {
    "duration": 5,
    "start_time": "2024-11-11T05:38:26.219Z"
   },
   {
    "duration": 6,
    "start_time": "2024-11-11T05:38:26.226Z"
   },
   {
    "duration": 47,
    "start_time": "2024-11-11T05:38:26.233Z"
   },
   {
    "duration": 940,
    "start_time": "2024-11-11T05:38:26.282Z"
   },
   {
    "duration": 7,
    "start_time": "2024-11-11T05:38:27.224Z"
   },
   {
    "duration": 8,
    "start_time": "2024-11-11T05:38:27.232Z"
   },
   {
    "duration": 21,
    "start_time": "2024-11-11T05:38:27.241Z"
   },
   {
    "duration": 30,
    "start_time": "2024-11-11T05:38:27.263Z"
   },
   {
    "duration": 14,
    "start_time": "2024-11-11T05:38:27.294Z"
   },
   {
    "duration": 5,
    "start_time": "2024-11-11T05:38:27.309Z"
   },
   {
    "duration": 106100,
    "start_time": "2024-11-11T05:38:27.316Z"
   },
   {
    "duration": 10,
    "start_time": "2024-11-11T05:40:13.417Z"
   },
   {
    "duration": 13,
    "start_time": "2024-11-11T05:40:13.428Z"
   },
   {
    "duration": 400,
    "start_time": "2024-11-11T05:40:13.443Z"
   },
   {
    "duration": 5,
    "start_time": "2024-11-11T05:40:13.844Z"
   },
   {
    "duration": 44,
    "start_time": "2024-11-11T05:40:13.850Z"
   },
   {
    "duration": 4,
    "start_time": "2024-11-11T05:40:13.897Z"
   },
   {
    "duration": 3,
    "start_time": "2024-11-11T05:40:13.903Z"
   },
   {
    "duration": 7,
    "start_time": "2024-11-11T05:40:13.907Z"
   },
   {
    "duration": 7,
    "start_time": "2024-11-11T05:40:13.916Z"
   },
   {
    "duration": 144,
    "start_time": "2024-11-11T05:40:13.925Z"
   },
   {
    "duration": 8,
    "start_time": "2024-11-11T05:40:14.071Z"
   },
   {
    "duration": 120,
    "start_time": "2024-11-11T05:40:14.080Z"
   },
   {
    "duration": 5,
    "start_time": "2024-11-11T05:40:14.202Z"
   },
   {
    "duration": 262,
    "start_time": "2024-11-11T05:40:14.208Z"
   },
   {
    "duration": 446,
    "start_time": "2024-11-11T05:40:14.475Z"
   },
   {
    "duration": 558,
    "start_time": "2024-11-11T05:40:14.923Z"
   },
   {
    "duration": 447,
    "start_time": "2024-11-11T05:40:15.482Z"
   },
   {
    "duration": 447,
    "start_time": "2024-11-11T05:40:15.931Z"
   },
   {
    "duration": 208,
    "start_time": "2024-11-11T05:40:16.380Z"
   },
   {
    "duration": 5,
    "start_time": "2024-11-11T05:40:16.590Z"
   },
   {
    "duration": 18,
    "start_time": "2024-11-11T05:40:16.596Z"
   },
   {
    "duration": 4,
    "start_time": "2024-11-11T05:40:16.616Z"
   },
   {
    "duration": 9,
    "start_time": "2024-11-11T05:40:16.622Z"
   },
   {
    "duration": 32,
    "start_time": "2024-11-11T05:40:16.632Z"
   },
   {
    "duration": 135,
    "start_time": "2024-11-11T05:40:16.665Z"
   },
   {
    "duration": 4,
    "start_time": "2024-11-11T05:40:16.802Z"
   },
   {
    "duration": 17,
    "start_time": "2024-11-11T05:40:16.807Z"
   },
   {
    "duration": 4,
    "start_time": "2024-11-11T05:40:16.825Z"
   },
   {
    "duration": 5,
    "start_time": "2024-11-11T05:40:16.830Z"
   },
   {
    "duration": 207,
    "start_time": "2024-11-11T05:40:16.836Z"
   },
   {
    "duration": 180,
    "start_time": "2024-11-11T05:40:17.045Z"
   },
   {
    "duration": 54,
    "start_time": "2024-11-11T05:40:17.226Z"
   },
   {
    "duration": 4,
    "start_time": "2024-11-11T05:40:17.282Z"
   },
   {
    "duration": 25,
    "start_time": "2024-11-11T05:40:17.287Z"
   },
   {
    "duration": 4,
    "start_time": "2024-11-11T05:40:17.314Z"
   },
   {
    "duration": 19,
    "start_time": "2024-11-11T05:40:17.320Z"
   },
   {
    "duration": 12,
    "start_time": "2024-11-11T05:40:17.340Z"
   },
   {
    "duration": 6,
    "start_time": "2024-11-11T05:40:17.353Z"
   },
   {
    "duration": 6,
    "start_time": "2024-11-11T05:40:17.375Z"
   },
   {
    "duration": 14,
    "start_time": "2024-11-11T05:40:17.382Z"
   },
   {
    "duration": 1828,
    "start_time": "2024-11-11T05:40:17.398Z"
   },
   {
    "duration": 5,
    "start_time": "2024-11-11T05:40:19.228Z"
   },
   {
    "duration": 15,
    "start_time": "2024-11-11T05:40:19.234Z"
   },
   {
    "duration": 138,
    "start_time": "2024-11-11T05:40:19.251Z"
   },
   {
    "duration": 14,
    "start_time": "2024-11-11T05:53:25.428Z"
   },
   {
    "duration": 974,
    "start_time": "2024-11-11T05:57:26.612Z"
   },
   {
    "duration": 83,
    "start_time": "2024-11-11T05:57:27.588Z"
   },
   {
    "duration": 11,
    "start_time": "2024-11-11T05:57:27.673Z"
   },
   {
    "duration": 36,
    "start_time": "2024-11-11T05:57:27.686Z"
   },
   {
    "duration": 11,
    "start_time": "2024-11-11T05:57:27.724Z"
   },
   {
    "duration": 19,
    "start_time": "2024-11-11T05:57:27.737Z"
   },
   {
    "duration": 18,
    "start_time": "2024-11-11T05:57:27.758Z"
   },
   {
    "duration": 9,
    "start_time": "2024-11-11T05:57:27.778Z"
   },
   {
    "duration": 5,
    "start_time": "2024-11-11T05:57:27.788Z"
   },
   {
    "duration": 4,
    "start_time": "2024-11-11T05:57:27.796Z"
   },
   {
    "duration": 10,
    "start_time": "2024-11-11T05:57:27.802Z"
   },
   {
    "duration": 4,
    "start_time": "2024-11-11T05:57:27.814Z"
   },
   {
    "duration": 5,
    "start_time": "2024-11-11T05:57:27.820Z"
   },
   {
    "duration": 5,
    "start_time": "2024-11-11T05:57:27.826Z"
   },
   {
    "duration": 965,
    "start_time": "2024-11-11T05:57:27.832Z"
   },
   {
    "duration": 6,
    "start_time": "2024-11-11T05:57:28.799Z"
   },
   {
    "duration": 6,
    "start_time": "2024-11-11T05:57:28.806Z"
   },
   {
    "duration": 17,
    "start_time": "2024-11-11T05:57:28.813Z"
   },
   {
    "duration": 16,
    "start_time": "2024-11-11T05:57:28.832Z"
   },
   {
    "duration": 38,
    "start_time": "2024-11-11T05:57:28.850Z"
   },
   {
    "duration": 4,
    "start_time": "2024-11-11T05:57:28.890Z"
   },
   {
    "duration": 105599,
    "start_time": "2024-11-11T05:57:28.895Z"
   },
   {
    "duration": 9,
    "start_time": "2024-11-11T05:59:14.496Z"
   },
   {
    "duration": 15,
    "start_time": "2024-11-11T05:59:14.506Z"
   },
   {
    "duration": 391,
    "start_time": "2024-11-11T05:59:14.522Z"
   },
   {
    "duration": 5,
    "start_time": "2024-11-11T05:59:14.915Z"
   },
   {
    "duration": 9,
    "start_time": "2024-11-11T05:59:14.922Z"
   },
   {
    "duration": 4,
    "start_time": "2024-11-11T05:59:14.934Z"
   },
   {
    "duration": 3,
    "start_time": "2024-11-11T05:59:14.940Z"
   },
   {
    "duration": 32,
    "start_time": "2024-11-11T05:59:14.944Z"
   },
   {
    "duration": 56,
    "start_time": "2024-11-11T05:59:14.977Z"
   },
   {
    "duration": 132,
    "start_time": "2024-11-11T05:59:15.034Z"
   },
   {
    "duration": 10,
    "start_time": "2024-11-11T05:59:15.168Z"
   },
   {
    "duration": 135,
    "start_time": "2024-11-11T05:59:15.179Z"
   },
   {
    "duration": 5,
    "start_time": "2024-11-11T05:59:15.315Z"
   },
   {
    "duration": 256,
    "start_time": "2024-11-11T05:59:15.322Z"
   },
   {
    "duration": 473,
    "start_time": "2024-11-11T05:59:15.580Z"
   },
   {
    "duration": 555,
    "start_time": "2024-11-11T05:59:16.054Z"
   },
   {
    "duration": 460,
    "start_time": "2024-11-11T05:59:16.610Z"
   },
   {
    "duration": 458,
    "start_time": "2024-11-11T05:59:17.075Z"
   },
   {
    "duration": 201,
    "start_time": "2024-11-11T05:59:17.535Z"
   },
   {
    "duration": 5,
    "start_time": "2024-11-11T05:59:17.738Z"
   },
   {
    "duration": 15,
    "start_time": "2024-11-11T05:59:17.745Z"
   },
   {
    "duration": 15,
    "start_time": "2024-11-11T05:59:17.761Z"
   },
   {
    "duration": 9,
    "start_time": "2024-11-11T05:59:17.777Z"
   },
   {
    "duration": 13,
    "start_time": "2024-11-11T05:59:17.787Z"
   },
   {
    "duration": 150,
    "start_time": "2024-11-11T05:59:17.801Z"
   },
   {
    "duration": 4,
    "start_time": "2024-11-11T05:59:17.952Z"
   },
   {
    "duration": 28,
    "start_time": "2024-11-11T05:59:17.957Z"
   },
   {
    "duration": 4,
    "start_time": "2024-11-11T05:59:17.987Z"
   },
   {
    "duration": 5,
    "start_time": "2024-11-11T05:59:17.992Z"
   },
   {
    "duration": 215,
    "start_time": "2024-11-11T05:59:17.998Z"
   },
   {
    "duration": 178,
    "start_time": "2024-11-11T05:59:18.216Z"
   },
   {
    "duration": 30,
    "start_time": "2024-11-11T05:59:18.396Z"
   },
   {
    "duration": 4,
    "start_time": "2024-11-11T05:59:18.427Z"
   },
   {
    "duration": 45,
    "start_time": "2024-11-11T05:59:18.432Z"
   },
   {
    "duration": 6,
    "start_time": "2024-11-11T05:59:18.479Z"
   },
   {
    "duration": 29,
    "start_time": "2024-11-11T05:59:18.486Z"
   },
   {
    "duration": 12,
    "start_time": "2024-11-11T05:59:18.516Z"
   },
   {
    "duration": 66,
    "start_time": "2024-11-11T05:59:18.529Z"
   },
   {
    "duration": 6,
    "start_time": "2024-11-11T05:59:18.596Z"
   },
   {
    "duration": 11,
    "start_time": "2024-11-11T05:59:18.603Z"
   },
   {
    "duration": 1666,
    "start_time": "2024-11-11T05:59:18.615Z"
   },
   {
    "duration": 5,
    "start_time": "2024-11-11T05:59:20.283Z"
   },
   {
    "duration": 10,
    "start_time": "2024-11-11T05:59:20.290Z"
   },
   {
    "duration": 144,
    "start_time": "2024-11-11T05:59:20.301Z"
   },
   {
    "duration": 44,
    "start_time": "2024-11-11T18:09:27.387Z"
   },
   {
    "duration": 1157,
    "start_time": "2024-11-11T18:09:35.227Z"
   },
   {
    "duration": 458,
    "start_time": "2024-11-11T18:09:38.393Z"
   },
   {
    "duration": 2,
    "start_time": "2024-11-11T18:09:48.673Z"
   },
   {
    "duration": 3,
    "start_time": "2024-11-11T18:09:49.648Z"
   },
   {
    "duration": 2,
    "start_time": "2024-11-11T18:09:50.670Z"
   },
   {
    "duration": 3,
    "start_time": "2024-11-11T18:09:51.634Z"
   },
   {
    "duration": 9,
    "start_time": "2024-11-11T18:09:52.588Z"
   },
   {
    "duration": 1,
    "start_time": "2024-11-11T18:09:57.324Z"
   },
   {
    "duration": 3,
    "start_time": "2024-11-11T18:10:52.465Z"
   },
   {
    "duration": 110,
    "start_time": "2024-11-11T18:11:54.301Z"
   },
   {
    "duration": 3,
    "start_time": "2024-11-11T18:14:02.343Z"
   },
   {
    "duration": 342,
    "start_time": "2024-11-11T18:14:43.011Z"
   },
   {
    "duration": 2,
    "start_time": "2024-11-11T18:18:49.130Z"
   },
   {
    "duration": 794,
    "start_time": "2024-11-11T18:19:05.005Z"
   },
   {
    "duration": 842,
    "start_time": "2024-11-11T18:19:45.049Z"
   },
   {
    "duration": 855,
    "start_time": "2024-11-11T18:19:58.735Z"
   },
   {
    "duration": 778,
    "start_time": "2024-11-11T18:20:18.203Z"
   },
   {
    "duration": 898,
    "start_time": "2024-11-11T18:20:43.841Z"
   },
   {
    "duration": 842,
    "start_time": "2024-11-11T18:23:58.401Z"
   },
   {
    "duration": 226,
    "start_time": "2024-11-11T18:24:15.888Z"
   },
   {
    "duration": 987,
    "start_time": "2024-11-11T18:24:22.242Z"
   },
   {
    "duration": 917,
    "start_time": "2024-11-11T18:24:30.839Z"
   },
   {
    "duration": 1002,
    "start_time": "2024-11-11T18:24:38.911Z"
   },
   {
    "duration": 531,
    "start_time": "2024-11-11T18:24:50.362Z"
   },
   {
    "duration": 859,
    "start_time": "2024-11-11T18:25:04.665Z"
   },
   {
    "duration": 1027,
    "start_time": "2024-11-11T18:27:58.745Z"
   },
   {
    "duration": 1048,
    "start_time": "2024-11-11T18:29:11.072Z"
   },
   {
    "duration": 914,
    "start_time": "2024-11-11T18:29:38.093Z"
   },
   {
    "duration": 1048,
    "start_time": "2024-11-11T18:29:53.379Z"
   },
   {
    "duration": 3,
    "start_time": "2024-11-11T18:30:29.528Z"
   },
   {
    "duration": 953,
    "start_time": "2024-11-11T18:32:01.530Z"
   },
   {
    "duration": 921,
    "start_time": "2024-11-11T18:32:07.905Z"
   },
   {
    "duration": 987,
    "start_time": "2024-11-11T18:38:33.681Z"
   },
   {
    "duration": 22,
    "start_time": "2024-11-11T18:54:04.372Z"
   },
   {
    "duration": 12,
    "start_time": "2024-11-11T18:54:10.323Z"
   },
   {
    "duration": 55,
    "start_time": "2024-11-11T18:59:33.769Z"
   },
   {
    "duration": 4296,
    "start_time": "2024-11-11T19:04:09.365Z"
   },
   {
    "duration": 13,
    "start_time": "2024-11-11T19:04:32.966Z"
   },
   {
    "duration": 14,
    "start_time": "2024-11-11T19:05:11.916Z"
   },
   {
    "duration": 4252,
    "start_time": "2024-11-11T19:05:34.274Z"
   },
   {
    "duration": 12,
    "start_time": "2024-11-11T19:05:50.692Z"
   },
   {
    "duration": 285,
    "start_time": "2024-11-11T19:05:52.364Z"
   },
   {
    "duration": 119,
    "start_time": "2024-11-11T19:06:11.268Z"
   },
   {
    "duration": 225,
    "start_time": "2024-11-11T19:06:27.693Z"
   },
   {
    "duration": 2,
    "start_time": "2024-11-11T19:11:56.445Z"
   },
   {
    "duration": 5,
    "start_time": "2024-11-11T19:12:31.302Z"
   },
   {
    "duration": 7,
    "start_time": "2024-11-11T19:12:42.206Z"
   },
   {
    "duration": 938,
    "start_time": "2024-11-11T19:14:43.815Z"
   },
   {
    "duration": 21,
    "start_time": "2024-11-11T19:14:54.450Z"
   },
   {
    "duration": 18,
    "start_time": "2024-11-11T19:14:57.186Z"
   },
   {
    "duration": 7,
    "start_time": "2024-11-11T19:15:40.587Z"
   },
   {
    "duration": 16,
    "start_time": "2024-11-11T19:15:50.039Z"
   },
   {
    "duration": 6,
    "start_time": "2024-11-11T19:16:06.999Z"
   },
   {
    "duration": 99,
    "start_time": "2024-11-11T19:22:15.645Z"
   },
   {
    "duration": 9,
    "start_time": "2024-11-11T19:22:25.869Z"
   },
   {
    "duration": 7,
    "start_time": "2024-11-11T19:23:26.924Z"
   },
   {
    "duration": 968,
    "start_time": "2024-11-11T19:23:32.469Z"
   },
   {
    "duration": 155,
    "start_time": "2024-11-11T19:23:33.439Z"
   },
   {
    "duration": 2,
    "start_time": "2024-11-11T19:23:33.595Z"
   },
   {
    "duration": 25,
    "start_time": "2024-11-11T19:23:33.599Z"
   },
   {
    "duration": 33,
    "start_time": "2024-11-11T19:23:33.625Z"
   },
   {
    "duration": 20,
    "start_time": "2024-11-11T19:23:33.659Z"
   },
   {
    "duration": 3,
    "start_time": "2024-11-11T19:23:33.680Z"
   },
   {
    "duration": 7,
    "start_time": "2024-11-11T19:23:33.685Z"
   },
   {
    "duration": 26,
    "start_time": "2024-11-11T19:23:33.693Z"
   },
   {
    "duration": 37,
    "start_time": "2024-11-11T19:23:33.721Z"
   },
   {
    "duration": 28,
    "start_time": "2024-11-11T19:23:33.759Z"
   },
   {
    "duration": 5,
    "start_time": "2024-11-11T19:23:33.788Z"
   },
   {
    "duration": 24,
    "start_time": "2024-11-11T19:23:33.794Z"
   },
   {
    "duration": 26,
    "start_time": "2024-11-11T19:23:33.819Z"
   },
   {
    "duration": 18,
    "start_time": "2024-11-11T19:23:33.846Z"
   },
   {
    "duration": 13,
    "start_time": "2024-11-11T19:23:33.865Z"
   },
   {
    "duration": 852,
    "start_time": "2024-11-11T19:23:33.879Z"
   },
   {
    "duration": 16,
    "start_time": "2024-11-11T19:23:34.732Z"
   },
   {
    "duration": 25,
    "start_time": "2024-11-11T19:23:34.750Z"
   },
   {
    "duration": 18,
    "start_time": "2024-11-11T19:23:34.777Z"
   },
   {
    "duration": 17,
    "start_time": "2024-11-11T19:23:34.796Z"
   },
   {
    "duration": 34,
    "start_time": "2024-11-11T19:23:34.814Z"
   },
   {
    "duration": 14,
    "start_time": "2024-11-11T19:23:34.849Z"
   },
   {
    "duration": 97,
    "start_time": "2024-11-11T19:23:34.864Z"
   },
   {
    "duration": 0,
    "start_time": "2024-11-11T19:23:34.963Z"
   },
   {
    "duration": 0,
    "start_time": "2024-11-11T19:23:34.964Z"
   },
   {
    "duration": 0,
    "start_time": "2024-11-11T19:23:34.965Z"
   },
   {
    "duration": 0,
    "start_time": "2024-11-11T19:23:34.966Z"
   },
   {
    "duration": 0,
    "start_time": "2024-11-11T19:23:34.967Z"
   },
   {
    "duration": 0,
    "start_time": "2024-11-11T19:23:34.968Z"
   },
   {
    "duration": 0,
    "start_time": "2024-11-11T19:23:34.969Z"
   },
   {
    "duration": 0,
    "start_time": "2024-11-11T19:23:34.970Z"
   },
   {
    "duration": 0,
    "start_time": "2024-11-11T19:23:34.971Z"
   },
   {
    "duration": 0,
    "start_time": "2024-11-11T19:23:34.971Z"
   },
   {
    "duration": 0,
    "start_time": "2024-11-11T19:23:34.972Z"
   },
   {
    "duration": 0,
    "start_time": "2024-11-11T19:23:34.973Z"
   },
   {
    "duration": 0,
    "start_time": "2024-11-11T19:23:34.974Z"
   },
   {
    "duration": 0,
    "start_time": "2024-11-11T19:23:34.975Z"
   },
   {
    "duration": 0,
    "start_time": "2024-11-11T19:23:34.977Z"
   },
   {
    "duration": 0,
    "start_time": "2024-11-11T19:23:34.978Z"
   },
   {
    "duration": 0,
    "start_time": "2024-11-11T19:23:34.979Z"
   },
   {
    "duration": 0,
    "start_time": "2024-11-11T19:23:34.980Z"
   },
   {
    "duration": 0,
    "start_time": "2024-11-11T19:23:34.981Z"
   },
   {
    "duration": 0,
    "start_time": "2024-11-11T19:23:34.982Z"
   },
   {
    "duration": 0,
    "start_time": "2024-11-11T19:23:34.983Z"
   },
   {
    "duration": 0,
    "start_time": "2024-11-11T19:23:34.984Z"
   },
   {
    "duration": 0,
    "start_time": "2024-11-11T19:23:34.985Z"
   },
   {
    "duration": 0,
    "start_time": "2024-11-11T19:23:34.986Z"
   },
   {
    "duration": 0,
    "start_time": "2024-11-11T19:23:34.987Z"
   },
   {
    "duration": 0,
    "start_time": "2024-11-11T19:23:34.988Z"
   },
   {
    "duration": 0,
    "start_time": "2024-11-11T19:23:34.989Z"
   },
   {
    "duration": 0,
    "start_time": "2024-11-11T19:23:34.990Z"
   },
   {
    "duration": 0,
    "start_time": "2024-11-11T19:23:34.991Z"
   },
   {
    "duration": 0,
    "start_time": "2024-11-11T19:23:34.992Z"
   },
   {
    "duration": 0,
    "start_time": "2024-11-11T19:23:34.992Z"
   },
   {
    "duration": 0,
    "start_time": "2024-11-11T19:23:34.993Z"
   },
   {
    "duration": 0,
    "start_time": "2024-11-11T19:23:35.047Z"
   },
   {
    "duration": 0,
    "start_time": "2024-11-11T19:23:35.048Z"
   },
   {
    "duration": 0,
    "start_time": "2024-11-11T19:23:35.049Z"
   },
   {
    "duration": 0,
    "start_time": "2024-11-11T19:23:35.050Z"
   },
   {
    "duration": 0,
    "start_time": "2024-11-11T19:23:35.051Z"
   },
   {
    "duration": 0,
    "start_time": "2024-11-11T19:23:35.052Z"
   },
   {
    "duration": 0,
    "start_time": "2024-11-11T19:23:35.053Z"
   },
   {
    "duration": 0,
    "start_time": "2024-11-11T19:23:35.053Z"
   },
   {
    "duration": 0,
    "start_time": "2024-11-11T19:23:35.055Z"
   },
   {
    "duration": 0,
    "start_time": "2024-11-11T19:23:35.055Z"
   },
   {
    "duration": 0,
    "start_time": "2024-11-11T19:23:35.056Z"
   },
   {
    "duration": 0,
    "start_time": "2024-11-11T19:23:35.057Z"
   },
   {
    "duration": 0,
    "start_time": "2024-11-11T19:23:35.058Z"
   },
   {
    "duration": 0,
    "start_time": "2024-11-11T19:23:35.059Z"
   },
   {
    "duration": 0,
    "start_time": "2024-11-11T19:23:35.060Z"
   },
   {
    "duration": 4,
    "start_time": "2024-11-11T19:24:33.329Z"
   },
   {
    "duration": 9,
    "start_time": "2024-11-11T19:24:52.816Z"
   },
   {
    "duration": 121,
    "start_time": "2024-11-11T19:25:01.161Z"
   },
   {
    "duration": 8,
    "start_time": "2024-11-11T19:25:04.814Z"
   },
   {
    "duration": 930,
    "start_time": "2024-11-11T19:25:57.996Z"
   },
   {
    "duration": 149,
    "start_time": "2024-11-11T19:25:58.928Z"
   },
   {
    "duration": 1,
    "start_time": "2024-11-11T19:25:59.079Z"
   },
   {
    "duration": 4,
    "start_time": "2024-11-11T19:25:59.082Z"
   },
   {
    "duration": 4,
    "start_time": "2024-11-11T19:25:59.087Z"
   },
   {
    "duration": 3,
    "start_time": "2024-11-11T19:25:59.093Z"
   },
   {
    "duration": 15,
    "start_time": "2024-11-11T19:25:59.097Z"
   },
   {
    "duration": 3,
    "start_time": "2024-11-11T19:25:59.113Z"
   },
   {
    "duration": 31,
    "start_time": "2024-11-11T19:25:59.117Z"
   },
   {
    "duration": 5,
    "start_time": "2024-11-11T19:25:59.151Z"
   },
   {
    "duration": 12,
    "start_time": "2024-11-11T19:25:59.158Z"
   },
   {
    "duration": 14,
    "start_time": "2024-11-11T19:25:59.171Z"
   },
   {
    "duration": 7,
    "start_time": "2024-11-11T19:25:59.186Z"
   },
   {
    "duration": 6,
    "start_time": "2024-11-11T19:25:59.194Z"
   },
   {
    "duration": 5,
    "start_time": "2024-11-11T19:25:59.201Z"
   },
   {
    "duration": 40,
    "start_time": "2024-11-11T19:25:59.208Z"
   },
   {
    "duration": 861,
    "start_time": "2024-11-11T19:25:59.250Z"
   },
   {
    "duration": 8,
    "start_time": "2024-11-11T19:26:00.112Z"
   },
   {
    "duration": 21,
    "start_time": "2024-11-11T19:26:00.121Z"
   },
   {
    "duration": 16,
    "start_time": "2024-11-11T19:26:00.148Z"
   },
   {
    "duration": 37,
    "start_time": "2024-11-11T19:26:00.166Z"
   },
   {
    "duration": 28,
    "start_time": "2024-11-11T19:26:00.205Z"
   },
   {
    "duration": 5,
    "start_time": "2024-11-11T19:26:00.234Z"
   },
   {
    "duration": 90,
    "start_time": "2024-11-11T19:26:00.241Z"
   },
   {
    "duration": 0,
    "start_time": "2024-11-11T19:26:00.334Z"
   },
   {
    "duration": 0,
    "start_time": "2024-11-11T19:26:00.335Z"
   },
   {
    "duration": 0,
    "start_time": "2024-11-11T19:26:00.337Z"
   },
   {
    "duration": 0,
    "start_time": "2024-11-11T19:26:00.338Z"
   },
   {
    "duration": 0,
    "start_time": "2024-11-11T19:26:00.347Z"
   },
   {
    "duration": 0,
    "start_time": "2024-11-11T19:26:00.349Z"
   },
   {
    "duration": 0,
    "start_time": "2024-11-11T19:26:00.350Z"
   },
   {
    "duration": 0,
    "start_time": "2024-11-11T19:26:00.351Z"
   },
   {
    "duration": 0,
    "start_time": "2024-11-11T19:26:00.352Z"
   },
   {
    "duration": 0,
    "start_time": "2024-11-11T19:26:00.354Z"
   },
   {
    "duration": 0,
    "start_time": "2024-11-11T19:26:00.355Z"
   },
   {
    "duration": 0,
    "start_time": "2024-11-11T19:26:00.356Z"
   },
   {
    "duration": 0,
    "start_time": "2024-11-11T19:26:00.357Z"
   },
   {
    "duration": 1,
    "start_time": "2024-11-11T19:26:00.358Z"
   },
   {
    "duration": 0,
    "start_time": "2024-11-11T19:26:00.360Z"
   },
   {
    "duration": 0,
    "start_time": "2024-11-11T19:26:00.361Z"
   },
   {
    "duration": 0,
    "start_time": "2024-11-11T19:26:00.362Z"
   },
   {
    "duration": 0,
    "start_time": "2024-11-11T19:26:00.364Z"
   },
   {
    "duration": 0,
    "start_time": "2024-11-11T19:26:00.365Z"
   },
   {
    "duration": 0,
    "start_time": "2024-11-11T19:26:00.366Z"
   },
   {
    "duration": 0,
    "start_time": "2024-11-11T19:26:00.368Z"
   },
   {
    "duration": 0,
    "start_time": "2024-11-11T19:26:00.369Z"
   },
   {
    "duration": 0,
    "start_time": "2024-11-11T19:26:00.370Z"
   },
   {
    "duration": 0,
    "start_time": "2024-11-11T19:26:00.371Z"
   },
   {
    "duration": 0,
    "start_time": "2024-11-11T19:26:00.372Z"
   },
   {
    "duration": 0,
    "start_time": "2024-11-11T19:26:00.373Z"
   },
   {
    "duration": 0,
    "start_time": "2024-11-11T19:26:00.375Z"
   },
   {
    "duration": 1,
    "start_time": "2024-11-11T19:26:00.375Z"
   },
   {
    "duration": 0,
    "start_time": "2024-11-11T19:26:00.377Z"
   },
   {
    "duration": 0,
    "start_time": "2024-11-11T19:26:00.378Z"
   },
   {
    "duration": 0,
    "start_time": "2024-11-11T19:26:00.379Z"
   },
   {
    "duration": 0,
    "start_time": "2024-11-11T19:26:00.380Z"
   },
   {
    "duration": 0,
    "start_time": "2024-11-11T19:26:00.382Z"
   },
   {
    "duration": 0,
    "start_time": "2024-11-11T19:26:00.383Z"
   },
   {
    "duration": 0,
    "start_time": "2024-11-11T19:26:00.384Z"
   },
   {
    "duration": 0,
    "start_time": "2024-11-11T19:26:00.385Z"
   },
   {
    "duration": 0,
    "start_time": "2024-11-11T19:26:00.386Z"
   },
   {
    "duration": 0,
    "start_time": "2024-11-11T19:26:00.447Z"
   },
   {
    "duration": 0,
    "start_time": "2024-11-11T19:26:00.449Z"
   },
   {
    "duration": 0,
    "start_time": "2024-11-11T19:26:00.450Z"
   },
   {
    "duration": 0,
    "start_time": "2024-11-11T19:26:00.450Z"
   },
   {
    "duration": 0,
    "start_time": "2024-11-11T19:26:00.451Z"
   },
   {
    "duration": 0,
    "start_time": "2024-11-11T19:26:00.452Z"
   },
   {
    "duration": 0,
    "start_time": "2024-11-11T19:26:00.453Z"
   },
   {
    "duration": 0,
    "start_time": "2024-11-11T19:26:00.454Z"
   },
   {
    "duration": 0,
    "start_time": "2024-11-11T19:26:00.455Z"
   },
   {
    "duration": 0,
    "start_time": "2024-11-11T19:26:00.456Z"
   },
   {
    "duration": 0,
    "start_time": "2024-11-11T19:26:00.457Z"
   },
   {
    "duration": 4,
    "start_time": "2024-11-11T19:26:22.401Z"
   },
   {
    "duration": 9,
    "start_time": "2024-11-11T19:26:26.339Z"
   },
   {
    "duration": 96947,
    "start_time": "2024-11-11T19:26:30.825Z"
   },
   {
    "duration": 9,
    "start_time": "2024-11-11T19:28:40.681Z"
   },
   {
    "duration": 962,
    "start_time": "2024-11-11T19:29:17.153Z"
   },
   {
    "duration": 149,
    "start_time": "2024-11-11T19:29:18.117Z"
   },
   {
    "duration": 2,
    "start_time": "2024-11-11T19:29:18.268Z"
   },
   {
    "duration": 4,
    "start_time": "2024-11-11T19:29:18.272Z"
   },
   {
    "duration": 7,
    "start_time": "2024-11-11T19:29:18.277Z"
   },
   {
    "duration": 3,
    "start_time": "2024-11-11T19:29:18.286Z"
   },
   {
    "duration": 5,
    "start_time": "2024-11-11T19:29:18.290Z"
   },
   {
    "duration": 3,
    "start_time": "2024-11-11T19:29:18.296Z"
   },
   {
    "duration": 47,
    "start_time": "2024-11-11T19:29:18.301Z"
   },
   {
    "duration": 9,
    "start_time": "2024-11-11T19:29:18.350Z"
   },
   {
    "duration": 4,
    "start_time": "2024-11-11T19:29:18.360Z"
   },
   {
    "duration": 10,
    "start_time": "2024-11-11T19:29:18.365Z"
   },
   {
    "duration": 15,
    "start_time": "2024-11-11T19:29:18.376Z"
   },
   {
    "duration": 6,
    "start_time": "2024-11-11T19:29:18.392Z"
   },
   {
    "duration": 4,
    "start_time": "2024-11-11T19:29:18.400Z"
   },
   {
    "duration": 5,
    "start_time": "2024-11-11T19:29:18.406Z"
   },
   {
    "duration": 818,
    "start_time": "2024-11-11T19:29:18.448Z"
   },
   {
    "duration": 6,
    "start_time": "2024-11-11T19:29:19.267Z"
   },
   {
    "duration": 5,
    "start_time": "2024-11-11T19:29:19.275Z"
   },
   {
    "duration": 12,
    "start_time": "2024-11-11T19:29:19.281Z"
   },
   {
    "duration": 15,
    "start_time": "2024-11-11T19:29:19.295Z"
   },
   {
    "duration": 12,
    "start_time": "2024-11-11T19:29:19.348Z"
   },
   {
    "duration": 2,
    "start_time": "2024-11-11T19:29:19.361Z"
   },
   {
    "duration": 107,
    "start_time": "2024-11-11T19:29:19.364Z"
   },
   {
    "duration": 0,
    "start_time": "2024-11-11T19:29:19.473Z"
   },
   {
    "duration": 0,
    "start_time": "2024-11-11T19:29:19.474Z"
   },
   {
    "duration": 0,
    "start_time": "2024-11-11T19:29:19.475Z"
   },
   {
    "duration": 0,
    "start_time": "2024-11-11T19:29:19.476Z"
   },
   {
    "duration": 0,
    "start_time": "2024-11-11T19:29:19.477Z"
   },
   {
    "duration": 0,
    "start_time": "2024-11-11T19:29:19.478Z"
   },
   {
    "duration": 0,
    "start_time": "2024-11-11T19:29:19.478Z"
   },
   {
    "duration": 0,
    "start_time": "2024-11-11T19:29:19.479Z"
   },
   {
    "duration": 0,
    "start_time": "2024-11-11T19:29:19.480Z"
   },
   {
    "duration": 0,
    "start_time": "2024-11-11T19:29:19.481Z"
   },
   {
    "duration": 0,
    "start_time": "2024-11-11T19:29:19.482Z"
   },
   {
    "duration": 0,
    "start_time": "2024-11-11T19:29:19.482Z"
   },
   {
    "duration": 0,
    "start_time": "2024-11-11T19:29:19.483Z"
   },
   {
    "duration": 0,
    "start_time": "2024-11-11T19:29:19.484Z"
   },
   {
    "duration": 0,
    "start_time": "2024-11-11T19:29:19.485Z"
   },
   {
    "duration": 0,
    "start_time": "2024-11-11T19:29:19.486Z"
   },
   {
    "duration": 0,
    "start_time": "2024-11-11T19:29:19.487Z"
   },
   {
    "duration": 0,
    "start_time": "2024-11-11T19:29:19.488Z"
   },
   {
    "duration": 0,
    "start_time": "2024-11-11T19:29:19.488Z"
   },
   {
    "duration": 0,
    "start_time": "2024-11-11T19:29:19.489Z"
   },
   {
    "duration": 0,
    "start_time": "2024-11-11T19:29:19.490Z"
   },
   {
    "duration": 0,
    "start_time": "2024-11-11T19:29:19.491Z"
   },
   {
    "duration": 0,
    "start_time": "2024-11-11T19:29:19.492Z"
   },
   {
    "duration": 0,
    "start_time": "2024-11-11T19:29:19.492Z"
   },
   {
    "duration": 0,
    "start_time": "2024-11-11T19:29:19.493Z"
   },
   {
    "duration": 0,
    "start_time": "2024-11-11T19:29:19.494Z"
   },
   {
    "duration": 0,
    "start_time": "2024-11-11T19:29:19.495Z"
   },
   {
    "duration": 0,
    "start_time": "2024-11-11T19:29:19.496Z"
   },
   {
    "duration": 0,
    "start_time": "2024-11-11T19:29:19.496Z"
   },
   {
    "duration": 0,
    "start_time": "2024-11-11T19:29:19.497Z"
   },
   {
    "duration": 0,
    "start_time": "2024-11-11T19:29:19.498Z"
   },
   {
    "duration": 0,
    "start_time": "2024-11-11T19:29:19.499Z"
   },
   {
    "duration": 0,
    "start_time": "2024-11-11T19:29:19.500Z"
   },
   {
    "duration": 0,
    "start_time": "2024-11-11T19:29:19.500Z"
   },
   {
    "duration": 0,
    "start_time": "2024-11-11T19:29:19.548Z"
   },
   {
    "duration": 0,
    "start_time": "2024-11-11T19:29:19.548Z"
   },
   {
    "duration": 0,
    "start_time": "2024-11-11T19:29:19.549Z"
   },
   {
    "duration": 0,
    "start_time": "2024-11-11T19:29:19.550Z"
   },
   {
    "duration": 0,
    "start_time": "2024-11-11T19:29:19.551Z"
   },
   {
    "duration": 0,
    "start_time": "2024-11-11T19:29:19.551Z"
   },
   {
    "duration": 0,
    "start_time": "2024-11-11T19:29:19.552Z"
   },
   {
    "duration": 0,
    "start_time": "2024-11-11T19:29:19.553Z"
   },
   {
    "duration": 0,
    "start_time": "2024-11-11T19:29:19.554Z"
   },
   {
    "duration": 0,
    "start_time": "2024-11-11T19:29:19.555Z"
   },
   {
    "duration": 1,
    "start_time": "2024-11-11T19:29:19.555Z"
   },
   {
    "duration": 0,
    "start_time": "2024-11-11T19:29:19.556Z"
   },
   {
    "duration": 0,
    "start_time": "2024-11-11T19:29:19.557Z"
   },
   {
    "duration": 0,
    "start_time": "2024-11-11T19:29:19.558Z"
   },
   {
    "duration": 0,
    "start_time": "2024-11-11T19:29:19.558Z"
   },
   {
    "duration": 4,
    "start_time": "2024-11-11T19:29:33.097Z"
   },
   {
    "duration": 118,
    "start_time": "2024-11-11T19:29:41.740Z"
   },
   {
    "duration": 8,
    "start_time": "2024-11-11T19:29:45.286Z"
   },
   {
    "duration": 50,
    "start_time": "2024-11-11T19:31:39.756Z"
   },
   {
    "duration": 2,
    "start_time": "2024-11-11T19:32:27.168Z"
   },
   {
    "duration": 978,
    "start_time": "2024-11-11T19:54:50.847Z"
   },
   {
    "duration": 153,
    "start_time": "2024-11-11T19:54:51.827Z"
   },
   {
    "duration": 2,
    "start_time": "2024-11-11T19:54:51.982Z"
   },
   {
    "duration": 17,
    "start_time": "2024-11-11T19:54:51.986Z"
   },
   {
    "duration": 32,
    "start_time": "2024-11-11T19:54:52.005Z"
   },
   {
    "duration": 29,
    "start_time": "2024-11-11T19:54:52.038Z"
   },
   {
    "duration": 9,
    "start_time": "2024-11-11T19:54:52.068Z"
   },
   {
    "duration": 11,
    "start_time": "2024-11-11T19:54:52.078Z"
   },
   {
    "duration": 43,
    "start_time": "2024-11-11T19:54:52.090Z"
   },
   {
    "duration": 12,
    "start_time": "2024-11-11T19:54:52.135Z"
   },
   {
    "duration": 4,
    "start_time": "2024-11-11T19:54:52.148Z"
   },
   {
    "duration": 8,
    "start_time": "2024-11-11T19:54:52.153Z"
   },
   {
    "duration": 5,
    "start_time": "2024-11-11T19:54:52.162Z"
   },
   {
    "duration": 5,
    "start_time": "2024-11-11T19:54:52.168Z"
   },
   {
    "duration": 6,
    "start_time": "2024-11-11T19:54:52.174Z"
   },
   {
    "duration": 17,
    "start_time": "2024-11-11T19:54:52.181Z"
   },
   {
    "duration": 833,
    "start_time": "2024-11-11T19:54:52.200Z"
   },
   {
    "duration": 14,
    "start_time": "2024-11-11T19:54:53.035Z"
   },
   {
    "duration": 58,
    "start_time": "2024-11-11T19:54:53.050Z"
   },
   {
    "duration": 13,
    "start_time": "2024-11-11T19:54:53.109Z"
   },
   {
    "duration": 17,
    "start_time": "2024-11-11T19:54:53.123Z"
   },
   {
    "duration": 35,
    "start_time": "2024-11-11T19:54:53.141Z"
   },
   {
    "duration": 14,
    "start_time": "2024-11-11T19:54:53.177Z"
   },
   {
    "duration": 11,
    "start_time": "2024-11-11T19:54:53.192Z"
   },
   {
    "duration": 22,
    "start_time": "2024-11-11T19:54:53.204Z"
   },
   {
    "duration": 13,
    "start_time": "2024-11-11T19:54:53.227Z"
   },
   {
    "duration": 19,
    "start_time": "2024-11-11T19:54:53.241Z"
   },
   {
    "duration": 348,
    "start_time": "2024-11-11T19:54:53.264Z"
   },
   {
    "duration": 4,
    "start_time": "2024-11-11T19:54:53.613Z"
   },
   {
    "duration": 29,
    "start_time": "2024-11-11T19:54:53.618Z"
   },
   {
    "duration": 10,
    "start_time": "2024-11-11T19:54:53.649Z"
   },
   {
    "duration": 15,
    "start_time": "2024-11-11T19:54:53.660Z"
   },
   {
    "duration": 10,
    "start_time": "2024-11-11T19:54:53.677Z"
   },
   {
    "duration": 22,
    "start_time": "2024-11-11T19:54:53.688Z"
   },
   {
    "duration": 145,
    "start_time": "2024-11-11T19:54:53.711Z"
   },
   {
    "duration": 5,
    "start_time": "2024-11-11T19:54:53.857Z"
   },
   {
    "duration": 132,
    "start_time": "2024-11-11T19:54:53.863Z"
   },
   {
    "duration": 7,
    "start_time": "2024-11-11T19:54:53.997Z"
   },
   {
    "duration": 235,
    "start_time": "2024-11-11T19:54:54.005Z"
   },
   {
    "duration": 420,
    "start_time": "2024-11-11T19:54:54.241Z"
   },
   {
    "duration": 485,
    "start_time": "2024-11-11T19:54:54.662Z"
   },
   {
    "duration": 412,
    "start_time": "2024-11-11T19:54:55.149Z"
   },
   {
    "duration": 414,
    "start_time": "2024-11-11T19:54:55.562Z"
   },
   {
    "duration": 174,
    "start_time": "2024-11-11T19:54:55.977Z"
   },
   {
    "duration": 4,
    "start_time": "2024-11-11T19:54:56.152Z"
   },
   {
    "duration": 34,
    "start_time": "2024-11-11T19:54:56.158Z"
   },
   {
    "duration": 3,
    "start_time": "2024-11-11T19:54:56.193Z"
   },
   {
    "duration": 13,
    "start_time": "2024-11-11T19:54:56.197Z"
   },
   {
    "duration": 12,
    "start_time": "2024-11-11T19:54:56.211Z"
   },
   {
    "duration": 121,
    "start_time": "2024-11-11T19:54:56.224Z"
   },
   {
    "duration": 3,
    "start_time": "2024-11-11T19:54:56.347Z"
   },
   {
    "duration": 24,
    "start_time": "2024-11-11T19:54:56.351Z"
   },
   {
    "duration": 3,
    "start_time": "2024-11-11T19:54:56.376Z"
   },
   {
    "duration": 10,
    "start_time": "2024-11-11T19:54:56.380Z"
   },
   {
    "duration": 180,
    "start_time": "2024-11-11T19:54:56.391Z"
   },
   {
    "duration": 162,
    "start_time": "2024-11-11T19:54:56.572Z"
   },
   {
    "duration": 36,
    "start_time": "2024-11-11T19:54:56.735Z"
   },
   {
    "duration": 4,
    "start_time": "2024-11-11T19:54:56.772Z"
   },
   {
    "duration": 26,
    "start_time": "2024-11-11T19:54:56.777Z"
   },
   {
    "duration": 5,
    "start_time": "2024-11-11T19:54:56.805Z"
   },
   {
    "duration": 42,
    "start_time": "2024-11-11T19:54:56.811Z"
   },
   {
    "duration": 12,
    "start_time": "2024-11-11T19:54:56.854Z"
   },
   {
    "duration": 7,
    "start_time": "2024-11-11T19:54:56.867Z"
   },
   {
    "duration": 5,
    "start_time": "2024-11-11T19:54:56.876Z"
   },
   {
    "duration": 14,
    "start_time": "2024-11-11T19:54:56.882Z"
   },
   {
    "duration": 1547,
    "start_time": "2024-11-11T19:54:56.897Z"
   },
   {
    "duration": 5,
    "start_time": "2024-11-11T19:54:58.447Z"
   },
   {
    "duration": 10,
    "start_time": "2024-11-11T19:54:58.453Z"
   },
   {
    "duration": 125,
    "start_time": "2024-11-11T19:54:58.464Z"
   },
   {
    "duration": 56,
    "start_time": "2024-11-11T20:01:43.156Z"
   },
   {
    "duration": 226,
    "start_time": "2024-11-11T20:01:48.987Z"
   },
   {
    "duration": 225,
    "start_time": "2024-11-11T20:02:29.856Z"
   },
   {
    "duration": 253,
    "start_time": "2024-11-11T20:05:43.811Z"
   },
   {
    "duration": 238,
    "start_time": "2024-11-11T20:06:30.064Z"
   },
   {
    "duration": 55,
    "start_time": "2024-11-11T20:07:03.719Z"
   },
   {
    "duration": 390,
    "start_time": "2024-11-11T20:08:43.060Z"
   },
   {
    "duration": 221,
    "start_time": "2024-11-11T20:08:53.408Z"
   },
   {
    "duration": 229,
    "start_time": "2024-11-11T20:08:58.988Z"
   },
   {
    "duration": 240,
    "start_time": "2024-11-11T20:09:06.251Z"
   },
   {
    "duration": 232,
    "start_time": "2024-11-11T20:09:27.146Z"
   },
   {
    "duration": 403,
    "start_time": "2024-11-11T20:13:17.064Z"
   },
   {
    "duration": 554,
    "start_time": "2024-11-11T20:13:34.993Z"
   },
   {
    "duration": 124,
    "start_time": "2024-11-11T20:14:43.632Z"
   },
   {
    "duration": 123,
    "start_time": "2024-11-11T20:15:08.480Z"
   },
   {
    "duration": 123,
    "start_time": "2024-11-11T20:15:57.270Z"
   },
   {
    "duration": 417,
    "start_time": "2024-11-11T20:17:33.334Z"
   },
   {
    "duration": 416,
    "start_time": "2024-11-11T20:17:55.040Z"
   },
   {
    "duration": 573,
    "start_time": "2024-11-11T20:18:13.506Z"
   },
   {
    "duration": 397,
    "start_time": "2024-11-11T20:18:29.363Z"
   },
   {
    "duration": 983,
    "start_time": "2024-11-11T20:21:17.229Z"
   },
   {
    "duration": 155,
    "start_time": "2024-11-11T20:21:18.213Z"
   },
   {
    "duration": 2,
    "start_time": "2024-11-11T20:21:18.369Z"
   },
   {
    "duration": 7,
    "start_time": "2024-11-11T20:21:18.373Z"
   },
   {
    "duration": 6,
    "start_time": "2024-11-11T20:21:18.381Z"
   },
   {
    "duration": 6,
    "start_time": "2024-11-11T20:21:18.389Z"
   },
   {
    "duration": 4,
    "start_time": "2024-11-11T20:21:18.396Z"
   },
   {
    "duration": 3,
    "start_time": "2024-11-11T20:21:18.401Z"
   },
   {
    "duration": 7,
    "start_time": "2024-11-11T20:21:18.405Z"
   },
   {
    "duration": 34,
    "start_time": "2024-11-11T20:21:18.414Z"
   },
   {
    "duration": 6,
    "start_time": "2024-11-11T20:21:18.449Z"
   },
   {
    "duration": 6,
    "start_time": "2024-11-11T20:21:18.456Z"
   },
   {
    "duration": 4,
    "start_time": "2024-11-11T20:21:18.464Z"
   },
   {
    "duration": 9,
    "start_time": "2024-11-11T20:21:18.469Z"
   },
   {
    "duration": 4,
    "start_time": "2024-11-11T20:21:18.479Z"
   },
   {
    "duration": 13,
    "start_time": "2024-11-11T20:21:18.484Z"
   },
   {
    "duration": 832,
    "start_time": "2024-11-11T20:21:18.498Z"
   },
   {
    "duration": 6,
    "start_time": "2024-11-11T20:21:19.331Z"
   },
   {
    "duration": 31,
    "start_time": "2024-11-11T20:21:19.338Z"
   },
   {
    "duration": 23,
    "start_time": "2024-11-11T20:21:19.370Z"
   },
   {
    "duration": 16,
    "start_time": "2024-11-11T20:21:19.395Z"
   },
   {
    "duration": 10,
    "start_time": "2024-11-11T20:21:19.412Z"
   },
   {
    "duration": 8,
    "start_time": "2024-11-11T20:21:19.424Z"
   },
   {
    "duration": 4,
    "start_time": "2024-11-11T20:21:19.433Z"
   },
   {
    "duration": 3,
    "start_time": "2024-11-11T20:21:19.439Z"
   },
   {
    "duration": 7,
    "start_time": "2024-11-11T20:21:19.443Z"
   },
   {
    "duration": 14,
    "start_time": "2024-11-11T20:21:19.451Z"
   },
   {
    "duration": 355,
    "start_time": "2024-11-11T20:21:19.468Z"
   },
   {
    "duration": 5,
    "start_time": "2024-11-11T20:21:19.824Z"
   },
   {
    "duration": 22,
    "start_time": "2024-11-11T20:21:19.830Z"
   },
   {
    "duration": 4,
    "start_time": "2024-11-11T20:21:19.853Z"
   },
   {
    "duration": 3,
    "start_time": "2024-11-11T20:21:19.858Z"
   },
   {
    "duration": 7,
    "start_time": "2024-11-11T20:21:19.862Z"
   },
   {
    "duration": 8,
    "start_time": "2024-11-11T20:21:19.870Z"
   },
   {
    "duration": 159,
    "start_time": "2024-11-11T20:21:19.879Z"
   },
   {
    "duration": 10,
    "start_time": "2024-11-11T20:21:20.039Z"
   },
   {
    "duration": 110,
    "start_time": "2024-11-11T20:21:20.050Z"
   },
   {
    "duration": 6,
    "start_time": "2024-11-11T20:21:20.161Z"
   },
   {
    "duration": 246,
    "start_time": "2024-11-11T20:21:20.168Z"
   },
   {
    "duration": 411,
    "start_time": "2024-11-11T20:21:20.416Z"
   },
   {
    "duration": 486,
    "start_time": "2024-11-11T20:21:20.829Z"
   },
   {
    "duration": 422,
    "start_time": "2024-11-11T20:21:21.316Z"
   },
   {
    "duration": 444,
    "start_time": "2024-11-11T20:21:21.747Z"
   },
   {
    "duration": 184,
    "start_time": "2024-11-11T20:21:22.192Z"
   },
   {
    "duration": 4,
    "start_time": "2024-11-11T20:21:22.377Z"
   },
   {
    "duration": 14,
    "start_time": "2024-11-11T20:21:22.383Z"
   },
   {
    "duration": 3,
    "start_time": "2024-11-11T20:21:22.398Z"
   },
   {
    "duration": 11,
    "start_time": "2024-11-11T20:21:22.403Z"
   },
   {
    "duration": 41,
    "start_time": "2024-11-11T20:21:22.415Z"
   },
   {
    "duration": 108,
    "start_time": "2024-11-11T20:21:22.457Z"
   },
   {
    "duration": 3,
    "start_time": "2024-11-11T20:21:22.567Z"
   },
   {
    "duration": 43,
    "start_time": "2024-11-11T20:21:22.571Z"
   },
   {
    "duration": 3,
    "start_time": "2024-11-11T20:21:22.615Z"
   },
   {
    "duration": 5,
    "start_time": "2024-11-11T20:21:22.619Z"
   },
   {
    "duration": 169,
    "start_time": "2024-11-11T20:21:22.625Z"
   },
   {
    "duration": 158,
    "start_time": "2024-11-11T20:21:22.795Z"
   },
   {
    "duration": 26,
    "start_time": "2024-11-11T20:21:22.955Z"
   },
   {
    "duration": 3,
    "start_time": "2024-11-11T20:21:22.983Z"
   },
   {
    "duration": 20,
    "start_time": "2024-11-11T20:21:22.988Z"
   },
   {
    "duration": 5,
    "start_time": "2024-11-11T20:21:23.009Z"
   },
   {
    "duration": 20,
    "start_time": "2024-11-11T20:21:23.047Z"
   },
   {
    "duration": 12,
    "start_time": "2024-11-11T20:21:23.068Z"
   },
   {
    "duration": 6,
    "start_time": "2024-11-11T20:21:23.081Z"
   },
   {
    "duration": 5,
    "start_time": "2024-11-11T20:21:23.088Z"
   },
   {
    "duration": 10,
    "start_time": "2024-11-11T20:21:23.095Z"
   },
   {
    "duration": 1560,
    "start_time": "2024-11-11T20:21:23.106Z"
   },
   {
    "duration": 5,
    "start_time": "2024-11-11T20:21:24.667Z"
   },
   {
    "duration": 23,
    "start_time": "2024-11-11T20:21:24.673Z"
   },
   {
    "duration": 133,
    "start_time": "2024-11-11T20:21:24.698Z"
   },
   {
    "duration": 1152,
    "start_time": "2024-11-12T17:06:19.102Z"
   },
   {
    "duration": 505,
    "start_time": "2024-11-12T17:06:20.256Z"
   },
   {
    "duration": 2,
    "start_time": "2024-11-12T17:06:20.762Z"
   },
   {
    "duration": 22,
    "start_time": "2024-11-12T17:06:20.766Z"
   },
   {
    "duration": 27,
    "start_time": "2024-11-12T17:06:20.789Z"
   },
   {
    "duration": 15,
    "start_time": "2024-11-12T17:06:20.818Z"
   },
   {
    "duration": 19,
    "start_time": "2024-11-12T17:06:20.834Z"
   },
   {
    "duration": 31,
    "start_time": "2024-11-12T17:06:20.855Z"
   },
   {
    "duration": 18,
    "start_time": "2024-11-12T17:06:20.888Z"
   },
   {
    "duration": 28,
    "start_time": "2024-11-12T17:06:20.909Z"
   },
   {
    "duration": 17,
    "start_time": "2024-11-12T17:06:20.938Z"
   },
   {
    "duration": 50,
    "start_time": "2024-11-12T17:06:20.957Z"
   },
   {
    "duration": 47,
    "start_time": "2024-11-12T17:06:21.009Z"
   },
   {
    "duration": 31,
    "start_time": "2024-11-12T17:06:21.057Z"
   },
   {
    "duration": 16,
    "start_time": "2024-11-12T17:06:21.089Z"
   },
   {
    "duration": 17,
    "start_time": "2024-11-12T17:06:21.106Z"
   },
   {
    "duration": 828,
    "start_time": "2024-11-12T17:06:21.124Z"
   },
   {
    "duration": 9,
    "start_time": "2024-11-12T17:06:21.953Z"
   },
   {
    "duration": 51,
    "start_time": "2024-11-12T17:06:21.965Z"
   },
   {
    "duration": 29,
    "start_time": "2024-11-12T17:06:22.018Z"
   },
   {
    "duration": 26,
    "start_time": "2024-11-12T17:06:22.050Z"
   },
   {
    "duration": 18,
    "start_time": "2024-11-12T17:06:22.077Z"
   },
   {
    "duration": 19,
    "start_time": "2024-11-12T17:06:22.096Z"
   },
   {
    "duration": 25,
    "start_time": "2024-11-12T17:06:22.117Z"
   },
   {
    "duration": 21,
    "start_time": "2024-11-12T17:06:22.143Z"
   },
   {
    "duration": 18,
    "start_time": "2024-11-12T17:06:22.165Z"
   },
   {
    "duration": 34,
    "start_time": "2024-11-12T17:06:22.184Z"
   },
   {
    "duration": 366,
    "start_time": "2024-11-12T17:06:22.221Z"
   },
   {
    "duration": 5,
    "start_time": "2024-11-12T17:06:22.588Z"
   },
   {
    "duration": 8,
    "start_time": "2024-11-12T17:06:22.594Z"
   },
   {
    "duration": 16,
    "start_time": "2024-11-12T17:06:22.604Z"
   },
   {
    "duration": 4,
    "start_time": "2024-11-12T17:06:22.621Z"
   },
   {
    "duration": 20,
    "start_time": "2024-11-12T17:06:22.627Z"
   },
   {
    "duration": 70,
    "start_time": "2024-11-12T17:06:22.649Z"
   },
   {
    "duration": 140,
    "start_time": "2024-11-12T17:06:22.721Z"
   },
   {
    "duration": 6,
    "start_time": "2024-11-12T17:06:22.863Z"
   },
   {
    "duration": 121,
    "start_time": "2024-11-12T17:06:22.871Z"
   },
   {
    "duration": 4,
    "start_time": "2024-11-12T17:06:22.994Z"
   },
   {
    "duration": 295,
    "start_time": "2024-11-12T17:06:22.999Z"
   },
   {
    "duration": 428,
    "start_time": "2024-11-12T17:06:23.296Z"
   },
   {
    "duration": 541,
    "start_time": "2024-11-12T17:06:23.725Z"
   },
   {
    "duration": 431,
    "start_time": "2024-11-12T17:06:24.268Z"
   },
   {
    "duration": 426,
    "start_time": "2024-11-12T17:06:24.701Z"
   },
   {
    "duration": 173,
    "start_time": "2024-11-12T17:06:25.129Z"
   },
   {
    "duration": 5,
    "start_time": "2024-11-12T17:06:25.303Z"
   },
   {
    "duration": 14,
    "start_time": "2024-11-12T17:06:25.309Z"
   },
   {
    "duration": 24,
    "start_time": "2024-11-12T17:06:25.324Z"
   },
   {
    "duration": 15,
    "start_time": "2024-11-12T17:06:25.350Z"
   },
   {
    "duration": 12,
    "start_time": "2024-11-12T17:06:25.366Z"
   },
   {
    "duration": 122,
    "start_time": "2024-11-12T17:06:25.380Z"
   },
   {
    "duration": 3,
    "start_time": "2024-11-12T17:06:25.503Z"
   },
   {
    "duration": 15,
    "start_time": "2024-11-12T17:06:25.508Z"
   },
   {
    "duration": 25,
    "start_time": "2024-11-12T17:06:25.524Z"
   },
   {
    "duration": 8,
    "start_time": "2024-11-12T17:06:25.550Z"
   },
   {
    "duration": 189,
    "start_time": "2024-11-12T17:06:25.559Z"
   },
   {
    "duration": 173,
    "start_time": "2024-11-12T17:06:25.750Z"
   },
   {
    "duration": 43,
    "start_time": "2024-11-12T17:06:25.924Z"
   },
   {
    "duration": 5,
    "start_time": "2024-11-12T17:06:25.968Z"
   },
   {
    "duration": 24,
    "start_time": "2024-11-12T17:06:25.974Z"
   },
   {
    "duration": 5,
    "start_time": "2024-11-12T17:06:26.000Z"
   },
   {
    "duration": 59,
    "start_time": "2024-11-12T17:06:26.006Z"
   },
   {
    "duration": 12,
    "start_time": "2024-11-12T17:06:26.067Z"
   },
   {
    "duration": 6,
    "start_time": "2024-11-12T17:06:26.080Z"
   },
   {
    "duration": 5,
    "start_time": "2024-11-12T17:06:26.088Z"
   },
   {
    "duration": 10,
    "start_time": "2024-11-12T17:06:26.094Z"
   },
   {
    "duration": 1578,
    "start_time": "2024-11-12T17:06:26.106Z"
   },
   {
    "duration": 5,
    "start_time": "2024-11-12T17:06:27.685Z"
   },
   {
    "duration": 10,
    "start_time": "2024-11-12T17:06:27.691Z"
   },
   {
    "duration": 136,
    "start_time": "2024-11-12T17:06:27.702Z"
   },
   {
    "duration": 3,
    "start_time": "2024-11-12T17:11:42.749Z"
   },
   {
    "duration": 143,
    "start_time": "2024-11-12T17:13:06.538Z"
   },
   {
    "duration": 2,
    "start_time": "2024-11-12T17:13:51.420Z"
   },
   {
    "duration": 5,
    "start_time": "2024-11-12T17:14:14.958Z"
   },
   {
    "duration": 2,
    "start_time": "2024-11-12T17:14:28.568Z"
   },
   {
    "duration": 116,
    "start_time": "2024-11-12T17:14:57.903Z"
   },
   {
    "duration": 124,
    "start_time": "2024-11-12T17:15:47.457Z"
   },
   {
    "duration": 91,
    "start_time": "2024-11-12T17:15:53.437Z"
   },
   {
    "duration": 91,
    "start_time": "2024-11-12T17:15:57.459Z"
   },
   {
    "duration": 94,
    "start_time": "2024-11-12T17:16:01.578Z"
   },
   {
    "duration": 90,
    "start_time": "2024-11-12T17:16:08.857Z"
   },
   {
    "duration": 93,
    "start_time": "2024-11-12T17:16:16.480Z"
   },
   {
    "duration": 55,
    "start_time": "2024-11-12T17:16:21.416Z"
   },
   {
    "duration": 118,
    "start_time": "2024-11-12T17:16:25.200Z"
   },
   {
    "duration": 49,
    "start_time": "2024-11-12T17:16:33.768Z"
   },
   {
    "duration": 234,
    "start_time": "2024-11-12T17:16:38.107Z"
   },
   {
    "duration": 92,
    "start_time": "2024-11-12T17:16:57.582Z"
   },
   {
    "duration": 95,
    "start_time": "2024-11-12T17:17:05.722Z"
   },
   {
    "duration": 121,
    "start_time": "2024-11-12T17:17:10.302Z"
   },
   {
    "duration": 104,
    "start_time": "2024-11-12T17:17:16.448Z"
   },
   {
    "duration": 94,
    "start_time": "2024-11-12T17:17:21.459Z"
   },
   {
    "duration": 95,
    "start_time": "2024-11-12T17:17:31.729Z"
   },
   {
    "duration": 92,
    "start_time": "2024-11-12T17:18:15.179Z"
   },
   {
    "duration": 224,
    "start_time": "2024-11-12T17:18:43.055Z"
   },
   {
    "duration": 94,
    "start_time": "2024-11-12T17:18:56.184Z"
   },
   {
    "duration": 124,
    "start_time": "2024-11-12T17:19:09.525Z"
   },
   {
    "duration": 217,
    "start_time": "2024-11-12T17:19:29.431Z"
   },
   {
    "duration": 246,
    "start_time": "2024-11-12T17:19:34.052Z"
   },
   {
    "duration": 413,
    "start_time": "2024-11-12T17:20:33.274Z"
   },
   {
    "duration": 540,
    "start_time": "2024-11-12T17:21:11.348Z"
   },
   {
    "duration": 406,
    "start_time": "2024-11-12T17:21:17.141Z"
   },
   {
    "duration": 561,
    "start_time": "2024-11-12T17:21:30.740Z"
   },
   {
    "duration": 408,
    "start_time": "2024-11-12T17:21:39.217Z"
   },
   {
    "duration": 407,
    "start_time": "2024-11-12T17:21:44.715Z"
   },
   {
    "duration": 545,
    "start_time": "2024-11-12T17:21:51.035Z"
   },
   {
    "duration": 396,
    "start_time": "2024-11-12T17:22:00.423Z"
   },
   {
    "duration": 410,
    "start_time": "2024-11-12T17:22:06.991Z"
   },
   {
    "duration": 2,
    "start_time": "2024-11-12T17:23:17.285Z"
   },
   {
    "duration": 4,
    "start_time": "2024-11-12T17:23:53.015Z"
   },
   {
    "duration": 186,
    "start_time": "2024-11-12T17:25:21.875Z"
   },
   {
    "duration": 298,
    "start_time": "2024-11-12T17:25:48.033Z"
   },
   {
    "duration": 148,
    "start_time": "2024-11-12T17:26:11.301Z"
   },
   {
    "duration": 175,
    "start_time": "2024-11-12T17:27:17.010Z"
   },
   {
    "duration": 153,
    "start_time": "2024-11-12T17:27:46.563Z"
   },
   {
    "duration": 162,
    "start_time": "2024-11-12T17:28:32.764Z"
   },
   {
    "duration": 171,
    "start_time": "2024-11-12T17:31:07.042Z"
   },
   {
    "duration": 148,
    "start_time": "2024-11-12T17:31:14.058Z"
   },
   {
    "duration": 2,
    "start_time": "2024-11-12T17:33:41.718Z"
   },
   {
    "duration": 2,
    "start_time": "2024-11-12T17:33:47.829Z"
   },
   {
    "duration": 43,
    "start_time": "2024-11-12T17:36:17.357Z"
   },
   {
    "duration": 9,
    "start_time": "2024-11-12T17:41:35.094Z"
   },
   {
    "duration": 5,
    "start_time": "2024-11-12T17:42:27.883Z"
   },
   {
    "duration": 44,
    "start_time": "2024-11-12T17:42:33.064Z"
   },
   {
    "duration": 91,
    "start_time": "2024-11-12T17:42:53.419Z"
   },
   {
    "duration": 925,
    "start_time": "2024-11-12T17:43:11.166Z"
   },
   {
    "duration": 935,
    "start_time": "2024-11-12T17:44:52.383Z"
   },
   {
    "duration": 21,
    "start_time": "2024-11-12T17:45:43.798Z"
   },
   {
    "duration": 14,
    "start_time": "2024-11-12T17:46:13.497Z"
   },
   {
    "duration": 19,
    "start_time": "2024-11-12T17:46:49.979Z"
   },
   {
    "duration": 20,
    "start_time": "2024-11-12T17:47:00.106Z"
   },
   {
    "duration": 18,
    "start_time": "2024-11-12T17:47:16.604Z"
   },
   {
    "duration": 43,
    "start_time": "2024-11-12T17:47:20.338Z"
   },
   {
    "duration": 22,
    "start_time": "2024-11-12T17:47:22.774Z"
   },
   {
    "duration": 19,
    "start_time": "2024-11-12T17:47:31.236Z"
   },
   {
    "duration": 42,
    "start_time": "2024-11-12T17:47:35.377Z"
   },
   {
    "duration": 21,
    "start_time": "2024-11-12T17:47:37.162Z"
   },
   {
    "duration": 4,
    "start_time": "2024-11-12T17:47:55.201Z"
   },
   {
    "duration": 13,
    "start_time": "2024-11-12T17:48:01.643Z"
   },
   {
    "duration": 8,
    "start_time": "2024-11-12T17:48:28.316Z"
   },
   {
    "duration": 20,
    "start_time": "2024-11-12T17:50:12.379Z"
   },
   {
    "duration": 19,
    "start_time": "2024-11-12T17:50:18.259Z"
   },
   {
    "duration": 21,
    "start_time": "2024-11-12T17:50:20.428Z"
   },
   {
    "duration": 2,
    "start_time": "2024-11-12T17:50:21.067Z"
   },
   {
    "duration": 20,
    "start_time": "2024-11-12T17:51:20.351Z"
   },
   {
    "duration": 21,
    "start_time": "2024-11-12T17:51:26.488Z"
   },
   {
    "duration": 15,
    "start_time": "2024-11-12T17:56:38.097Z"
   },
   {
    "duration": 16,
    "start_time": "2024-11-12T17:57:27.666Z"
   },
   {
    "duration": 41,
    "start_time": "2024-11-12T17:59:19.884Z"
   },
   {
    "duration": 20,
    "start_time": "2024-11-12T17:59:23.239Z"
   },
   {
    "duration": 15,
    "start_time": "2024-11-12T17:59:27.385Z"
   },
   {
    "duration": 10,
    "start_time": "2024-11-12T18:07:26.657Z"
   },
   {
    "duration": 5,
    "start_time": "2024-11-12T18:10:01.402Z"
   },
   {
    "duration": 8,
    "start_time": "2024-11-12T18:10:07.957Z"
   },
   {
    "duration": 5,
    "start_time": "2024-11-12T18:10:29.001Z"
   },
   {
    "duration": 10,
    "start_time": "2024-11-12T18:11:07.411Z"
   },
   {
    "duration": 12,
    "start_time": "2024-11-12T18:11:11.964Z"
   },
   {
    "duration": 25,
    "start_time": "2024-11-12T18:12:07.620Z"
   },
   {
    "duration": 26,
    "start_time": "2024-11-12T18:12:20.864Z"
   },
   {
    "duration": 26,
    "start_time": "2024-11-12T18:13:48.971Z"
   },
   {
    "duration": 12,
    "start_time": "2024-11-12T18:14:35.166Z"
   },
   {
    "duration": 46,
    "start_time": "2024-11-12T18:14:59.990Z"
   },
   {
    "duration": 43,
    "start_time": "2024-11-12T18:15:35.811Z"
   },
   {
    "duration": 20,
    "start_time": "2024-11-12T18:15:39.770Z"
   },
   {
    "duration": 25,
    "start_time": "2024-11-12T18:16:03.630Z"
   },
   {
    "duration": 26,
    "start_time": "2024-11-12T18:16:32.346Z"
   },
   {
    "duration": 15,
    "start_time": "2024-11-12T18:17:27.006Z"
   },
   {
    "duration": 16,
    "start_time": "2024-11-12T18:17:47.027Z"
   },
   {
    "duration": 3,
    "start_time": "2024-11-12T18:18:00.261Z"
   },
   {
    "duration": 10,
    "start_time": "2024-11-12T18:18:46.511Z"
   },
   {
    "duration": 9,
    "start_time": "2024-11-12T18:19:17.629Z"
   },
   {
    "duration": 6,
    "start_time": "2024-11-12T18:20:07.060Z"
   },
   {
    "duration": 17,
    "start_time": "2024-11-12T18:21:18.240Z"
   },
   {
    "duration": 30,
    "start_time": "2024-11-12T18:22:13.767Z"
   },
   {
    "duration": 13,
    "start_time": "2024-11-12T18:22:21.026Z"
   },
   {
    "duration": 23,
    "start_time": "2024-11-12T18:22:28.178Z"
   },
   {
    "duration": 22,
    "start_time": "2024-11-12T18:22:38.112Z"
   },
   {
    "duration": 36,
    "start_time": "2024-11-12T18:22:45.009Z"
   },
   {
    "duration": 61,
    "start_time": "2024-11-12T18:25:07.293Z"
   },
   {
    "duration": 22,
    "start_time": "2024-11-12T18:25:37.092Z"
   },
   {
    "duration": 12,
    "start_time": "2024-11-12T18:27:24.532Z"
   },
   {
    "duration": 8,
    "start_time": "2024-11-12T18:27:41.684Z"
   },
   {
    "duration": 113,
    "start_time": "2024-11-12T18:29:37.588Z"
   },
   {
    "duration": 104,
    "start_time": "2024-11-12T18:31:05.713Z"
   },
   {
    "duration": 104,
    "start_time": "2024-11-12T18:31:18.795Z"
   },
   {
    "duration": 51,
    "start_time": "2024-11-12T18:32:47.070Z"
   },
   {
    "duration": 54,
    "start_time": "2024-11-12T18:33:43.870Z"
   },
   {
    "duration": 52,
    "start_time": "2024-11-12T18:33:48.068Z"
   },
   {
    "duration": 20,
    "start_time": "2024-11-12T18:33:52.665Z"
   },
   {
    "duration": 7,
    "start_time": "2024-11-12T18:34:26.232Z"
   },
   {
    "duration": 8,
    "start_time": "2024-11-12T18:34:34.366Z"
   },
   {
    "duration": 6,
    "start_time": "2024-11-12T18:35:01.752Z"
   },
   {
    "duration": 64,
    "start_time": "2024-11-12T18:35:52.809Z"
   },
   {
    "duration": 8,
    "start_time": "2024-11-12T18:36:24.246Z"
   },
   {
    "duration": 8,
    "start_time": "2024-11-12T18:36:46.883Z"
   },
   {
    "duration": 9,
    "start_time": "2024-11-12T18:41:19.868Z"
   },
   {
    "duration": 70,
    "start_time": "2024-11-12T18:49:32.167Z"
   },
   {
    "duration": 8,
    "start_time": "2024-11-12T18:50:36.013Z"
   },
   {
    "duration": 7,
    "start_time": "2024-11-12T18:50:42.560Z"
   },
   {
    "duration": 51,
    "start_time": "2024-11-12T18:53:16.398Z"
   },
   {
    "duration": 79,
    "start_time": "2024-11-12T18:56:35.335Z"
   },
   {
    "duration": 6,
    "start_time": "2024-11-12T18:57:51.037Z"
   },
   {
    "duration": 5,
    "start_time": "2024-11-12T18:58:09.623Z"
   },
   {
    "duration": 5,
    "start_time": "2024-11-12T18:59:11.068Z"
   },
   {
    "duration": 5,
    "start_time": "2024-11-12T18:59:17.494Z"
   },
   {
    "duration": 63,
    "start_time": "2024-11-12T19:03:22.318Z"
   },
   {
    "duration": 11,
    "start_time": "2024-11-12T19:05:36.001Z"
   },
   {
    "duration": 14,
    "start_time": "2024-11-12T19:12:20.965Z"
   },
   {
    "duration": 10,
    "start_time": "2024-11-12T19:12:46.449Z"
   },
   {
    "duration": 1492,
    "start_time": "2024-11-12T19:13:16.015Z"
   },
   {
    "duration": 1529,
    "start_time": "2024-11-12T19:13:28.190Z"
   },
   {
    "duration": 66,
    "start_time": "2024-11-12T19:31:53.523Z"
   },
   {
    "duration": 947,
    "start_time": "2024-11-12T19:32:31.694Z"
   },
   {
    "duration": 153,
    "start_time": "2024-11-12T19:32:32.643Z"
   },
   {
    "duration": 2,
    "start_time": "2024-11-12T19:32:32.797Z"
   },
   {
    "duration": 29,
    "start_time": "2024-11-12T19:32:32.800Z"
   },
   {
    "duration": 16,
    "start_time": "2024-11-12T19:32:32.830Z"
   },
   {
    "duration": 23,
    "start_time": "2024-11-12T19:32:32.848Z"
   },
   {
    "duration": 22,
    "start_time": "2024-11-12T19:32:32.873Z"
   },
   {
    "duration": 17,
    "start_time": "2024-11-12T19:32:32.897Z"
   },
   {
    "duration": 12,
    "start_time": "2024-11-12T19:32:32.915Z"
   },
   {
    "duration": 36,
    "start_time": "2024-11-12T19:32:32.929Z"
   },
   {
    "duration": 14,
    "start_time": "2024-11-12T19:32:32.966Z"
   },
   {
    "duration": 9,
    "start_time": "2024-11-12T19:32:32.981Z"
   },
   {
    "duration": 9,
    "start_time": "2024-11-12T19:32:32.991Z"
   },
   {
    "duration": 25,
    "start_time": "2024-11-12T19:32:33.001Z"
   },
   {
    "duration": 80,
    "start_time": "2024-11-12T19:32:33.027Z"
   },
   {
    "duration": 5,
    "start_time": "2024-11-12T19:32:33.108Z"
   },
   {
    "duration": 838,
    "start_time": "2024-11-12T19:32:33.114Z"
   },
   {
    "duration": 6,
    "start_time": "2024-11-12T19:32:33.953Z"
   },
   {
    "duration": 33,
    "start_time": "2024-11-12T19:32:33.960Z"
   },
   {
    "duration": 37,
    "start_time": "2024-11-12T19:32:33.995Z"
   },
   {
    "duration": 30,
    "start_time": "2024-11-12T19:32:34.034Z"
   },
   {
    "duration": 23,
    "start_time": "2024-11-12T19:32:34.065Z"
   },
   {
    "duration": 17,
    "start_time": "2024-11-12T19:32:34.090Z"
   },
   {
    "duration": 9,
    "start_time": "2024-11-12T19:32:34.109Z"
   },
   {
    "duration": 25,
    "start_time": "2024-11-12T19:32:34.119Z"
   },
   {
    "duration": 10,
    "start_time": "2024-11-12T19:32:34.145Z"
   },
   {
    "duration": 41,
    "start_time": "2024-11-12T19:32:34.156Z"
   },
   {
    "duration": 372,
    "start_time": "2024-11-12T19:32:34.200Z"
   },
   {
    "duration": 5,
    "start_time": "2024-11-12T19:32:34.573Z"
   },
   {
    "duration": 15,
    "start_time": "2024-11-12T19:32:34.579Z"
   },
   {
    "duration": 23,
    "start_time": "2024-11-12T19:32:34.596Z"
   },
   {
    "duration": 27,
    "start_time": "2024-11-12T19:32:34.620Z"
   },
   {
    "duration": 44,
    "start_time": "2024-11-12T19:32:34.649Z"
   },
   {
    "duration": 26,
    "start_time": "2024-11-12T19:32:34.694Z"
   },
   {
    "duration": 24,
    "start_time": "2024-11-12T19:32:34.721Z"
   },
   {
    "duration": 144,
    "start_time": "2024-11-12T19:32:34.746Z"
   },
   {
    "duration": 2,
    "start_time": "2024-11-12T19:32:34.891Z"
   },
   {
    "duration": 25,
    "start_time": "2024-11-12T19:32:34.894Z"
   },
   {
    "duration": 29,
    "start_time": "2024-11-12T19:32:34.920Z"
   },
   {
    "duration": 114,
    "start_time": "2024-11-12T19:32:34.950Z"
   },
   {
    "duration": 5,
    "start_time": "2024-11-12T19:32:35.065Z"
   },
   {
    "duration": 257,
    "start_time": "2024-11-12T19:32:35.072Z"
   },
   {
    "duration": 421,
    "start_time": "2024-11-12T19:32:35.330Z"
   },
   {
    "duration": 489,
    "start_time": "2024-11-12T19:32:35.753Z"
   },
   {
    "duration": 419,
    "start_time": "2024-11-12T19:32:36.248Z"
   },
   {
    "duration": 433,
    "start_time": "2024-11-12T19:32:36.669Z"
   },
   {
    "duration": 193,
    "start_time": "2024-11-12T19:32:37.103Z"
   },
   {
    "duration": 4,
    "start_time": "2024-11-12T19:32:37.298Z"
   },
   {
    "duration": 22,
    "start_time": "2024-11-12T19:32:37.304Z"
   },
   {
    "duration": 10,
    "start_time": "2024-11-12T19:32:37.327Z"
   },
   {
    "duration": 12,
    "start_time": "2024-11-12T19:32:37.338Z"
   },
   {
    "duration": 18,
    "start_time": "2024-11-12T19:32:37.352Z"
   },
   {
    "duration": 12,
    "start_time": "2024-11-12T19:32:37.372Z"
   },
   {
    "duration": 110,
    "start_time": "2024-11-12T19:32:37.385Z"
   },
   {
    "duration": 3,
    "start_time": "2024-11-12T19:32:37.497Z"
   },
   {
    "duration": 39,
    "start_time": "2024-11-12T19:32:37.501Z"
   },
   {
    "duration": 5,
    "start_time": "2024-11-12T19:32:37.541Z"
   },
   {
    "duration": 4,
    "start_time": "2024-11-12T19:32:37.548Z"
   },
   {
    "duration": 170,
    "start_time": "2024-11-12T19:32:37.553Z"
   },
   {
    "duration": 160,
    "start_time": "2024-11-12T19:32:37.724Z"
   },
   {
    "duration": 27,
    "start_time": "2024-11-12T19:32:37.886Z"
   },
   {
    "duration": 3,
    "start_time": "2024-11-12T19:32:37.915Z"
   },
   {
    "duration": 64,
    "start_time": "2024-11-12T19:32:37.920Z"
   },
   {
    "duration": 20,
    "start_time": "2024-11-12T19:32:37.985Z"
   },
   {
    "duration": 2,
    "start_time": "2024-11-12T19:32:38.006Z"
   },
   {
    "duration": 13,
    "start_time": "2024-11-12T19:32:38.009Z"
   },
   {
    "duration": 25,
    "start_time": "2024-11-12T19:32:38.023Z"
   },
   {
    "duration": 19,
    "start_time": "2024-11-12T19:32:38.050Z"
   },
   {
    "duration": 38,
    "start_time": "2024-11-12T19:32:38.071Z"
   },
   {
    "duration": 18,
    "start_time": "2024-11-12T19:32:38.111Z"
   },
   {
    "duration": 10,
    "start_time": "2024-11-12T19:32:38.131Z"
   },
   {
    "duration": 22,
    "start_time": "2024-11-12T19:32:38.142Z"
   },
   {
    "duration": 1440,
    "start_time": "2024-11-12T19:32:38.165Z"
   },
   {
    "duration": 5,
    "start_time": "2024-11-12T19:32:39.606Z"
   },
   {
    "duration": 10,
    "start_time": "2024-11-12T19:32:39.612Z"
   },
   {
    "duration": 126,
    "start_time": "2024-11-12T19:32:39.623Z"
   },
   {
    "duration": 168,
    "start_time": "2024-11-12T19:41:52.619Z"
   },
   {
    "duration": 152,
    "start_time": "2024-11-12T19:42:03.279Z"
   },
   {
    "duration": 164,
    "start_time": "2024-11-12T19:42:13.603Z"
   },
   {
    "duration": 148,
    "start_time": "2024-11-12T19:42:17.019Z"
   },
   {
    "duration": 1533,
    "start_time": "2024-11-12T19:43:56.110Z"
   }
  ],
  "kernelspec": {
   "display_name": "Python 3 (ipykernel)",
   "language": "python",
   "name": "python3"
  },
  "language_info": {
   "codemirror_mode": {
    "name": "ipython",
    "version": 3
   },
   "file_extension": ".py",
   "mimetype": "text/x-python",
   "name": "python",
   "nbconvert_exporter": "python",
   "pygments_lexer": "ipython3",
   "version": "3.9.5"
  },
  "toc": {
   "base_numbering": 1,
   "nav_menu": {},
   "number_sections": true,
   "sideBar": true,
   "skip_h1_title": true,
   "title_cell": "Table of Contents",
   "title_sidebar": "Contents",
   "toc_cell": false,
   "toc_position": {},
   "toc_section_display": true,
   "toc_window_display": false
  }
 },
 "nbformat": 4,
 "nbformat_minor": 5
}
