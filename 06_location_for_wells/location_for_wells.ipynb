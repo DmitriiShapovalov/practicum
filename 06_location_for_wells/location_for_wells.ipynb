{
 "cells": [
  {
   "cell_type": "markdown",
   "metadata": {},
   "source": [
    "Импортируем все необходимые библиотеки"
   ]
  },
  {
   "cell_type": "code",
   "execution_count": 2,
   "metadata": {},
   "outputs": [],
   "source": [
    "#загружаем библиотеки для работы со структурированными данными и массивами\n",
    "import pandas as pd\n",
    "import numpy as np\n",
    "\n",
    "#загружаем библиотеку для корректной загрузки датасетов\n",
    "import os\n",
    "#загружаем библиотеку для проверки корректности url ссылки\n",
    "import requests\n",
    "\n",
    "#загружаем классы для визуализации\n",
    "from matplotlib import pyplot as plt\n",
    "import seaborn as sns\n",
    "\n",
    "#загружаем библиотеку для корреляционного анализа\n",
    "import phik\n",
    "\n",
    "# загружаем классы для подготовки данных\n",
    "from sklearn.model_selection import train_test_split\n",
    "from sklearn.preprocessing import StandardScaler, PolynomialFeatures\n",
    "\n",
    "# загружаем нужные модели\n",
    "from sklearn.linear_model import LinearRegression\n",
    "from sklearn.dummy import DummyRegressor\n",
    "\n",
    "# загружаем функции для работы с метриками\n",
    "from sklearn.metrics import mean_squared_error \n",
    "\n",
    "#загружаем класс для проведения одновыборочного t-test\n",
    "from scipy import stats as st"
   ]
  },
  {
   "cell_type": "markdown",
   "metadata": {},
   "source": [
    "Объявляем также константы"
   ]
  },
  {
   "cell_type": "code",
   "execution_count": 3,
   "metadata": {},
   "outputs": [],
   "source": [
    "RANDOM_STATE = 42\n",
    "TEST_SIZE = 0.25\n",
    "\n",
    "#кол-во скважин, исследуемых при разведке региона\n",
    "N_INVEST = 500\n",
    "\n",
    "#кол-во лучших скважин, выбираемых с помощью машинного обучения\n",
    "N_BEST = 200\n",
    "\n",
    "#общий бюджет на разработку\n",
    "BUDGET = 10000000000\n",
    "\n",
    "#доход с каждой единицы продукта (с 1 тыс. баррелей)\n",
    "REVENUE_PER_UNIT = 450000"
   ]
  },
  {
   "cell_type": "markdown",
   "metadata": {},
   "source": [
    "## Загрузка и изучение данных"
   ]
  },
  {
   "cell_type": "markdown",
   "metadata": {},
   "source": [
    "Загружаем файлы датасетов, создаем датафреймы, выводим первые 15 строк и основную информацию о них для ознакомления. Не задаем сразу параметр `index_col`, так как нет уверенности в том, что в данных нет дубликатов"
   ]
  },
  {
   "cell_type": "code",
   "execution_count": 4,
   "metadata": {},
   "outputs": [
    {
     "data": {
      "text/html": [
       "<div>\n",
       "<style scoped>\n",
       "    .dataframe tbody tr th:only-of-type {\n",
       "        vertical-align: middle;\n",
       "    }\n",
       "\n",
       "    .dataframe tbody tr th {\n",
       "        vertical-align: top;\n",
       "    }\n",
       "\n",
       "    .dataframe thead th {\n",
       "        text-align: right;\n",
       "    }\n",
       "</style>\n",
       "<table border=\"1\" class=\"dataframe\">\n",
       "  <thead>\n",
       "    <tr style=\"text-align: right;\">\n",
       "      <th></th>\n",
       "      <th>id</th>\n",
       "      <th>f0</th>\n",
       "      <th>f1</th>\n",
       "      <th>f2</th>\n",
       "      <th>product</th>\n",
       "    </tr>\n",
       "  </thead>\n",
       "  <tbody>\n",
       "    <tr>\n",
       "      <th>0</th>\n",
       "      <td>txEyH</td>\n",
       "      <td>0.705745</td>\n",
       "      <td>-0.497823</td>\n",
       "      <td>1.221170</td>\n",
       "      <td>105.280062</td>\n",
       "    </tr>\n",
       "    <tr>\n",
       "      <th>1</th>\n",
       "      <td>2acmU</td>\n",
       "      <td>1.334711</td>\n",
       "      <td>-0.340164</td>\n",
       "      <td>4.365080</td>\n",
       "      <td>73.037750</td>\n",
       "    </tr>\n",
       "    <tr>\n",
       "      <th>2</th>\n",
       "      <td>409Wp</td>\n",
       "      <td>1.022732</td>\n",
       "      <td>0.151990</td>\n",
       "      <td>1.419926</td>\n",
       "      <td>85.265647</td>\n",
       "    </tr>\n",
       "    <tr>\n",
       "      <th>3</th>\n",
       "      <td>iJLyR</td>\n",
       "      <td>-0.032172</td>\n",
       "      <td>0.139033</td>\n",
       "      <td>2.978566</td>\n",
       "      <td>168.620776</td>\n",
       "    </tr>\n",
       "    <tr>\n",
       "      <th>4</th>\n",
       "      <td>Xdl7t</td>\n",
       "      <td>1.988431</td>\n",
       "      <td>0.155413</td>\n",
       "      <td>4.751769</td>\n",
       "      <td>154.036647</td>\n",
       "    </tr>\n",
       "    <tr>\n",
       "      <th>5</th>\n",
       "      <td>wX4Hy</td>\n",
       "      <td>0.969570</td>\n",
       "      <td>0.489775</td>\n",
       "      <td>-0.735383</td>\n",
       "      <td>64.741541</td>\n",
       "    </tr>\n",
       "    <tr>\n",
       "      <th>6</th>\n",
       "      <td>tL6pL</td>\n",
       "      <td>0.645075</td>\n",
       "      <td>0.530656</td>\n",
       "      <td>1.780266</td>\n",
       "      <td>49.055285</td>\n",
       "    </tr>\n",
       "    <tr>\n",
       "      <th>7</th>\n",
       "      <td>BYPU6</td>\n",
       "      <td>-0.400648</td>\n",
       "      <td>0.808337</td>\n",
       "      <td>-5.624670</td>\n",
       "      <td>72.943292</td>\n",
       "    </tr>\n",
       "    <tr>\n",
       "      <th>8</th>\n",
       "      <td>j9Oui</td>\n",
       "      <td>0.643105</td>\n",
       "      <td>-0.551583</td>\n",
       "      <td>2.372141</td>\n",
       "      <td>113.356160</td>\n",
       "    </tr>\n",
       "    <tr>\n",
       "      <th>9</th>\n",
       "      <td>OLuZU</td>\n",
       "      <td>2.173381</td>\n",
       "      <td>0.563698</td>\n",
       "      <td>9.441852</td>\n",
       "      <td>127.910945</td>\n",
       "    </tr>\n",
       "    <tr>\n",
       "      <th>10</th>\n",
       "      <td>b8WQ6</td>\n",
       "      <td>0.371066</td>\n",
       "      <td>-0.036585</td>\n",
       "      <td>0.009208</td>\n",
       "      <td>70.326617</td>\n",
       "    </tr>\n",
       "    <tr>\n",
       "      <th>11</th>\n",
       "      <td>1YYm1</td>\n",
       "      <td>0.015920</td>\n",
       "      <td>1.062729</td>\n",
       "      <td>-0.722248</td>\n",
       "      <td>45.110381</td>\n",
       "    </tr>\n",
       "    <tr>\n",
       "      <th>12</th>\n",
       "      <td>zIYPq</td>\n",
       "      <td>-0.276476</td>\n",
       "      <td>0.924865</td>\n",
       "      <td>0.095584</td>\n",
       "      <td>89.158678</td>\n",
       "    </tr>\n",
       "    <tr>\n",
       "      <th>13</th>\n",
       "      <td>iqTqq</td>\n",
       "      <td>0.212696</td>\n",
       "      <td>-0.111147</td>\n",
       "      <td>5.770095</td>\n",
       "      <td>164.298520</td>\n",
       "    </tr>\n",
       "    <tr>\n",
       "      <th>14</th>\n",
       "      <td>Ct5yY</td>\n",
       "      <td>-0.018578</td>\n",
       "      <td>0.187516</td>\n",
       "      <td>2.944683</td>\n",
       "      <td>158.633720</td>\n",
       "    </tr>\n",
       "  </tbody>\n",
       "</table>\n",
       "</div>"
      ],
      "text/plain": [
       "       id        f0        f1        f2     product\n",
       "0   txEyH  0.705745 -0.497823  1.221170  105.280062\n",
       "1   2acmU  1.334711 -0.340164  4.365080   73.037750\n",
       "2   409Wp  1.022732  0.151990  1.419926   85.265647\n",
       "3   iJLyR -0.032172  0.139033  2.978566  168.620776\n",
       "4   Xdl7t  1.988431  0.155413  4.751769  154.036647\n",
       "5   wX4Hy  0.969570  0.489775 -0.735383   64.741541\n",
       "6   tL6pL  0.645075  0.530656  1.780266   49.055285\n",
       "7   BYPU6 -0.400648  0.808337 -5.624670   72.943292\n",
       "8   j9Oui  0.643105 -0.551583  2.372141  113.356160\n",
       "9   OLuZU  2.173381  0.563698  9.441852  127.910945\n",
       "10  b8WQ6  0.371066 -0.036585  0.009208   70.326617\n",
       "11  1YYm1  0.015920  1.062729 -0.722248   45.110381\n",
       "12  zIYPq -0.276476  0.924865  0.095584   89.158678\n",
       "13  iqTqq  0.212696 -0.111147  5.770095  164.298520\n",
       "14  Ct5yY -0.018578  0.187516  2.944683  158.633720"
      ]
     },
     "metadata": {},
     "output_type": "display_data"
    },
    {
     "name": "stdout",
     "output_type": "stream",
     "text": [
      "<class 'pandas.core.frame.DataFrame'>\n",
      "RangeIndex: 100000 entries, 0 to 99999\n",
      "Data columns (total 5 columns):\n",
      " #   Column   Non-Null Count   Dtype  \n",
      "---  ------   --------------   -----  \n",
      " 0   id       100000 non-null  object \n",
      " 1   f0       100000 non-null  float64\n",
      " 2   f1       100000 non-null  float64\n",
      " 3   f2       100000 non-null  float64\n",
      " 4   product  100000 non-null  float64\n",
      "dtypes: float64(4), object(1)\n",
      "memory usage: 3.8+ MB\n"
     ]
    },
    {
     "data": {
      "text/html": [
       "<div>\n",
       "<style scoped>\n",
       "    .dataframe tbody tr th:only-of-type {\n",
       "        vertical-align: middle;\n",
       "    }\n",
       "\n",
       "    .dataframe tbody tr th {\n",
       "        vertical-align: top;\n",
       "    }\n",
       "\n",
       "    .dataframe thead th {\n",
       "        text-align: right;\n",
       "    }\n",
       "</style>\n",
       "<table border=\"1\" class=\"dataframe\">\n",
       "  <thead>\n",
       "    <tr style=\"text-align: right;\">\n",
       "      <th></th>\n",
       "      <th>id</th>\n",
       "      <th>f0</th>\n",
       "      <th>f1</th>\n",
       "      <th>f2</th>\n",
       "      <th>product</th>\n",
       "    </tr>\n",
       "  </thead>\n",
       "  <tbody>\n",
       "    <tr>\n",
       "      <th>0</th>\n",
       "      <td>kBEdx</td>\n",
       "      <td>-15.001348</td>\n",
       "      <td>-8.276000</td>\n",
       "      <td>-0.005876</td>\n",
       "      <td>3.179103</td>\n",
       "    </tr>\n",
       "    <tr>\n",
       "      <th>1</th>\n",
       "      <td>62mP7</td>\n",
       "      <td>14.272088</td>\n",
       "      <td>-3.475083</td>\n",
       "      <td>0.999183</td>\n",
       "      <td>26.953261</td>\n",
       "    </tr>\n",
       "    <tr>\n",
       "      <th>2</th>\n",
       "      <td>vyE1P</td>\n",
       "      <td>6.263187</td>\n",
       "      <td>-5.948386</td>\n",
       "      <td>5.001160</td>\n",
       "      <td>134.766305</td>\n",
       "    </tr>\n",
       "    <tr>\n",
       "      <th>3</th>\n",
       "      <td>KcrkZ</td>\n",
       "      <td>-13.081196</td>\n",
       "      <td>-11.506057</td>\n",
       "      <td>4.999415</td>\n",
       "      <td>137.945408</td>\n",
       "    </tr>\n",
       "    <tr>\n",
       "      <th>4</th>\n",
       "      <td>AHL4O</td>\n",
       "      <td>12.702195</td>\n",
       "      <td>-8.147433</td>\n",
       "      <td>5.004363</td>\n",
       "      <td>134.766305</td>\n",
       "    </tr>\n",
       "    <tr>\n",
       "      <th>5</th>\n",
       "      <td>HHckp</td>\n",
       "      <td>-3.327590</td>\n",
       "      <td>-2.205276</td>\n",
       "      <td>3.003647</td>\n",
       "      <td>84.038886</td>\n",
       "    </tr>\n",
       "    <tr>\n",
       "      <th>6</th>\n",
       "      <td>h5Ujo</td>\n",
       "      <td>-11.142655</td>\n",
       "      <td>-10.133399</td>\n",
       "      <td>4.002382</td>\n",
       "      <td>110.992147</td>\n",
       "    </tr>\n",
       "    <tr>\n",
       "      <th>7</th>\n",
       "      <td>muH9x</td>\n",
       "      <td>4.234715</td>\n",
       "      <td>-0.001354</td>\n",
       "      <td>2.004588</td>\n",
       "      <td>53.906522</td>\n",
       "    </tr>\n",
       "    <tr>\n",
       "      <th>8</th>\n",
       "      <td>YiRkx</td>\n",
       "      <td>13.355129</td>\n",
       "      <td>-0.332068</td>\n",
       "      <td>4.998647</td>\n",
       "      <td>134.766305</td>\n",
       "    </tr>\n",
       "    <tr>\n",
       "      <th>9</th>\n",
       "      <td>jG6Gi</td>\n",
       "      <td>1.069227</td>\n",
       "      <td>-11.025667</td>\n",
       "      <td>4.997844</td>\n",
       "      <td>137.945408</td>\n",
       "    </tr>\n",
       "    <tr>\n",
       "      <th>10</th>\n",
       "      <td>7uHUe</td>\n",
       "      <td>11.777049</td>\n",
       "      <td>-5.334084</td>\n",
       "      <td>2.003033</td>\n",
       "      <td>53.906522</td>\n",
       "    </tr>\n",
       "    <tr>\n",
       "      <th>11</th>\n",
       "      <td>OXyvW</td>\n",
       "      <td>16.320755</td>\n",
       "      <td>-0.562946</td>\n",
       "      <td>-0.001783</td>\n",
       "      <td>0.000000</td>\n",
       "    </tr>\n",
       "    <tr>\n",
       "      <th>12</th>\n",
       "      <td>cB8re</td>\n",
       "      <td>7.736313</td>\n",
       "      <td>-6.093374</td>\n",
       "      <td>3.982531</td>\n",
       "      <td>107.813044</td>\n",
       "    </tr>\n",
       "    <tr>\n",
       "      <th>13</th>\n",
       "      <td>igmai</td>\n",
       "      <td>6.695604</td>\n",
       "      <td>-0.749449</td>\n",
       "      <td>-0.007630</td>\n",
       "      <td>0.000000</td>\n",
       "    </tr>\n",
       "    <tr>\n",
       "      <th>14</th>\n",
       "      <td>3OdkE</td>\n",
       "      <td>-10.985487</td>\n",
       "      <td>-5.605994</td>\n",
       "      <td>2.991130</td>\n",
       "      <td>84.038886</td>\n",
       "    </tr>\n",
       "  </tbody>\n",
       "</table>\n",
       "</div>"
      ],
      "text/plain": [
       "       id         f0         f1        f2     product\n",
       "0   kBEdx -15.001348  -8.276000 -0.005876    3.179103\n",
       "1   62mP7  14.272088  -3.475083  0.999183   26.953261\n",
       "2   vyE1P   6.263187  -5.948386  5.001160  134.766305\n",
       "3   KcrkZ -13.081196 -11.506057  4.999415  137.945408\n",
       "4   AHL4O  12.702195  -8.147433  5.004363  134.766305\n",
       "5   HHckp  -3.327590  -2.205276  3.003647   84.038886\n",
       "6   h5Ujo -11.142655 -10.133399  4.002382  110.992147\n",
       "7   muH9x   4.234715  -0.001354  2.004588   53.906522\n",
       "8   YiRkx  13.355129  -0.332068  4.998647  134.766305\n",
       "9   jG6Gi   1.069227 -11.025667  4.997844  137.945408\n",
       "10  7uHUe  11.777049  -5.334084  2.003033   53.906522\n",
       "11  OXyvW  16.320755  -0.562946 -0.001783    0.000000\n",
       "12  cB8re   7.736313  -6.093374  3.982531  107.813044\n",
       "13  igmai   6.695604  -0.749449 -0.007630    0.000000\n",
       "14  3OdkE -10.985487  -5.605994  2.991130   84.038886"
      ]
     },
     "metadata": {},
     "output_type": "display_data"
    },
    {
     "name": "stdout",
     "output_type": "stream",
     "text": [
      "<class 'pandas.core.frame.DataFrame'>\n",
      "RangeIndex: 100000 entries, 0 to 99999\n",
      "Data columns (total 5 columns):\n",
      " #   Column   Non-Null Count   Dtype  \n",
      "---  ------   --------------   -----  \n",
      " 0   id       100000 non-null  object \n",
      " 1   f0       100000 non-null  float64\n",
      " 2   f1       100000 non-null  float64\n",
      " 3   f2       100000 non-null  float64\n",
      " 4   product  100000 non-null  float64\n",
      "dtypes: float64(4), object(1)\n",
      "memory usage: 3.8+ MB\n"
     ]
    },
    {
     "data": {
      "text/html": [
       "<div>\n",
       "<style scoped>\n",
       "    .dataframe tbody tr th:only-of-type {\n",
       "        vertical-align: middle;\n",
       "    }\n",
       "\n",
       "    .dataframe tbody tr th {\n",
       "        vertical-align: top;\n",
       "    }\n",
       "\n",
       "    .dataframe thead th {\n",
       "        text-align: right;\n",
       "    }\n",
       "</style>\n",
       "<table border=\"1\" class=\"dataframe\">\n",
       "  <thead>\n",
       "    <tr style=\"text-align: right;\">\n",
       "      <th></th>\n",
       "      <th>id</th>\n",
       "      <th>f0</th>\n",
       "      <th>f1</th>\n",
       "      <th>f2</th>\n",
       "      <th>product</th>\n",
       "    </tr>\n",
       "  </thead>\n",
       "  <tbody>\n",
       "    <tr>\n",
       "      <th>0</th>\n",
       "      <td>fwXo0</td>\n",
       "      <td>-1.146987</td>\n",
       "      <td>0.963328</td>\n",
       "      <td>-0.828965</td>\n",
       "      <td>27.758673</td>\n",
       "    </tr>\n",
       "    <tr>\n",
       "      <th>1</th>\n",
       "      <td>WJtFt</td>\n",
       "      <td>0.262778</td>\n",
       "      <td>0.269839</td>\n",
       "      <td>-2.530187</td>\n",
       "      <td>56.069697</td>\n",
       "    </tr>\n",
       "    <tr>\n",
       "      <th>2</th>\n",
       "      <td>ovLUW</td>\n",
       "      <td>0.194587</td>\n",
       "      <td>0.289035</td>\n",
       "      <td>-5.586433</td>\n",
       "      <td>62.871910</td>\n",
       "    </tr>\n",
       "    <tr>\n",
       "      <th>3</th>\n",
       "      <td>q6cA6</td>\n",
       "      <td>2.236060</td>\n",
       "      <td>-0.553760</td>\n",
       "      <td>0.930038</td>\n",
       "      <td>114.572842</td>\n",
       "    </tr>\n",
       "    <tr>\n",
       "      <th>4</th>\n",
       "      <td>WPMUX</td>\n",
       "      <td>-0.515993</td>\n",
       "      <td>1.716266</td>\n",
       "      <td>5.899011</td>\n",
       "      <td>149.600746</td>\n",
       "    </tr>\n",
       "    <tr>\n",
       "      <th>5</th>\n",
       "      <td>LzZXx</td>\n",
       "      <td>-0.758092</td>\n",
       "      <td>0.710691</td>\n",
       "      <td>2.585887</td>\n",
       "      <td>90.222465</td>\n",
       "    </tr>\n",
       "    <tr>\n",
       "      <th>6</th>\n",
       "      <td>WBHRv</td>\n",
       "      <td>-0.574891</td>\n",
       "      <td>0.317727</td>\n",
       "      <td>1.773745</td>\n",
       "      <td>45.641478</td>\n",
       "    </tr>\n",
       "    <tr>\n",
       "      <th>7</th>\n",
       "      <td>XO8fn</td>\n",
       "      <td>-1.906649</td>\n",
       "      <td>-2.458350</td>\n",
       "      <td>-0.177097</td>\n",
       "      <td>72.480640</td>\n",
       "    </tr>\n",
       "    <tr>\n",
       "      <th>8</th>\n",
       "      <td>ybmQ5</td>\n",
       "      <td>1.776292</td>\n",
       "      <td>-0.279356</td>\n",
       "      <td>3.004156</td>\n",
       "      <td>106.616832</td>\n",
       "    </tr>\n",
       "    <tr>\n",
       "      <th>9</th>\n",
       "      <td>OilcN</td>\n",
       "      <td>-1.214452</td>\n",
       "      <td>-0.439314</td>\n",
       "      <td>5.922514</td>\n",
       "      <td>52.954532</td>\n",
       "    </tr>\n",
       "    <tr>\n",
       "      <th>10</th>\n",
       "      <td>myq2g</td>\n",
       "      <td>0.628659</td>\n",
       "      <td>-2.120049</td>\n",
       "      <td>5.362437</td>\n",
       "      <td>166.799132</td>\n",
       "    </tr>\n",
       "    <tr>\n",
       "      <th>11</th>\n",
       "      <td>V9R1y</td>\n",
       "      <td>-0.544565</td>\n",
       "      <td>0.039088</td>\n",
       "      <td>8.635293</td>\n",
       "      <td>150.859435</td>\n",
       "    </tr>\n",
       "    <tr>\n",
       "      <th>12</th>\n",
       "      <td>bKDo0</td>\n",
       "      <td>-0.960453</td>\n",
       "      <td>-0.127113</td>\n",
       "      <td>7.764734</td>\n",
       "      <td>96.910855</td>\n",
       "    </tr>\n",
       "    <tr>\n",
       "      <th>13</th>\n",
       "      <td>eXvhs</td>\n",
       "      <td>1.432891</td>\n",
       "      <td>-1.242074</td>\n",
       "      <td>3.557168</td>\n",
       "      <td>8.704162</td>\n",
       "    </tr>\n",
       "    <tr>\n",
       "      <th>14</th>\n",
       "      <td>wI4j3</td>\n",
       "      <td>-0.935464</td>\n",
       "      <td>2.420523</td>\n",
       "      <td>1.150536</td>\n",
       "      <td>116.829811</td>\n",
       "    </tr>\n",
       "  </tbody>\n",
       "</table>\n",
       "</div>"
      ],
      "text/plain": [
       "       id        f0        f1        f2     product\n",
       "0   fwXo0 -1.146987  0.963328 -0.828965   27.758673\n",
       "1   WJtFt  0.262778  0.269839 -2.530187   56.069697\n",
       "2   ovLUW  0.194587  0.289035 -5.586433   62.871910\n",
       "3   q6cA6  2.236060 -0.553760  0.930038  114.572842\n",
       "4   WPMUX -0.515993  1.716266  5.899011  149.600746\n",
       "5   LzZXx -0.758092  0.710691  2.585887   90.222465\n",
       "6   WBHRv -0.574891  0.317727  1.773745   45.641478\n",
       "7   XO8fn -1.906649 -2.458350 -0.177097   72.480640\n",
       "8   ybmQ5  1.776292 -0.279356  3.004156  106.616832\n",
       "9   OilcN -1.214452 -0.439314  5.922514   52.954532\n",
       "10  myq2g  0.628659 -2.120049  5.362437  166.799132\n",
       "11  V9R1y -0.544565  0.039088  8.635293  150.859435\n",
       "12  bKDo0 -0.960453 -0.127113  7.764734   96.910855\n",
       "13  eXvhs  1.432891 -1.242074  3.557168    8.704162\n",
       "14  wI4j3 -0.935464  2.420523  1.150536  116.829811"
      ]
     },
     "metadata": {},
     "output_type": "display_data"
    },
    {
     "name": "stdout",
     "output_type": "stream",
     "text": [
      "<class 'pandas.core.frame.DataFrame'>\n",
      "RangeIndex: 100000 entries, 0 to 99999\n",
      "Data columns (total 5 columns):\n",
      " #   Column   Non-Null Count   Dtype  \n",
      "---  ------   --------------   -----  \n",
      " 0   id       100000 non-null  object \n",
      " 1   f0       100000 non-null  float64\n",
      " 2   f1       100000 non-null  float64\n",
      " 3   f2       100000 non-null  float64\n",
      " 4   product  100000 non-null  float64\n",
      "dtypes: float64(4), object(1)\n",
      "memory usage: 3.8+ MB\n"
     ]
    }
   ],
   "source": [
    "#проверяем существование указанной дирректории и в случае возврата True загружаем датасеты в переменные, указав верные разделители\n",
    "pth1 = '/datasets/geo_data_0.csv'\n",
    "pth2 = 'https://.../datasets/geo_data_0.csv' #часть ссылки скрыта ввиду NDA\n",
    "pth3 = 'geo_data_0.csv'\n",
    "if os.path.exists(pth1):\n",
    "    data_geo_1 = pd.read_csv(pth1, sep=',', decimal = '.')\n",
    "    data_geo_2 = pd.read_csv('/datasets/geo_data_1.csv', sep=',', decimal = '.')\n",
    "    data_geo_3 = pd.read_csv('/datasets/geo_data_2.csv', sep=',', decimal = '.')\n",
    "#добавляем проверку корректности url ссылки при помощи requests.get(url) и проверки status_code == 200\n",
    "elif requests.get(pth2).status_code == 200:\n",
    "    data_geo_1 = pd.read_csv(pth2, sep=',', decimal = '.')\n",
    "    data_geo_2 = pd.read_csv('https://.../datasets/geo_data_1.csv', sep=',', decimal = '.') #часть ссылки скрыта ввиду NDA\n",
    "    data_geo_3 = pd.read_csv('https://.../datasets/geo_data_2.csv', sep=',', decimal = '.') #часть ссылки скрыта ввиду NDA\n",
    "elif os.path.exists(pth3):\n",
    "    data_geo_1 = pd.read_csv(pth3, sep=',', decimal = '.')\n",
    "    data_geo_2 = pd.read_csv('geo_data_1.csv', sep=',', decimal = '.')\n",
    "    data_geo_3 = pd.read_csv('geo_data_2.csv', sep=',', decimal = '.')\n",
    "else:\n",
    "    print('Something is wrong')\n",
    "\n",
    "\n",
    "#выводим первые 15 строк и основную информацию для каждого датафрейма    \n",
    "for d in [data_geo_1,data_geo_2,data_geo_3]:\n",
    "    display(d.head(15))\n",
    "    d.info()"
   ]
  },
  {
   "cell_type": "markdown",
   "metadata": {},
   "source": [
    "**Созданные датафреймы:**\n",
    "- имеют следующие размерности:\n",
    "    - data_geo_1 - 10000 строк;\n",
    "    - data_geo_2 - 10000 строк;\n",
    "    - data_geo_3 - 10000 строк;\n",
    "- не имеют явных пропусков\n",
    "- столбцы имеют корректные типы данных\n",
    "- названия столбцов частично приведены к змеиному \"регистру\"\n",
    "- при первичном ознакомлении неявные дубликаты не выделяются"
   ]
  },
  {
   "cell_type": "markdown",
   "metadata": {},
   "source": [
    "Для корректного обучения модели необходимо произвести предобработку данных"
   ]
  },
  {
   "cell_type": "markdown",
   "metadata": {},
   "source": [
    "##  Предобработка данных"
   ]
  },
  {
   "cell_type": "markdown",
   "metadata": {},
   "source": [
    "### Переименование столбцов"
   ]
  },
  {
   "cell_type": "markdown",
   "metadata": {},
   "source": [
    "Для приведения наименований столбцов к стандарту `PEP8` добавим нижнее подчеркивание между буквенным обозначением и числовым"
   ]
  },
  {
   "cell_type": "code",
   "execution_count": 5,
   "metadata": {},
   "outputs": [
    {
     "name": "stdout",
     "output_type": "stream",
     "text": [
      "Index(['id', 'f_0', 'f_1', 'f_2', 'product'], dtype='object')\n",
      "Index(['id', 'f_0', 'f_1', 'f_2', 'product'], dtype='object')\n",
      "Index(['id', 'f_0', 'f_1', 'f_2', 'product'], dtype='object')\n"
     ]
    }
   ],
   "source": [
    "for d in [data_geo_1,data_geo_2,data_geo_3]:\n",
    "    d.columns = d.columns.str.replace('f0','f_0').str.replace('f1','f_1').str.replace('f2','f_2')\n",
    "    print(d.columns)"
   ]
  },
  {
   "cell_type": "markdown",
   "metadata": {},
   "source": [
    "Проверим наличие пропусков в наименованиях столбцов"
   ]
  },
  {
   "cell_type": "code",
   "execution_count": 6,
   "metadata": {},
   "outputs": [
    {
     "name": "stdout",
     "output_type": "stream",
     "text": [
      "['id', 'f_0', 'f_1', 'f_2', 'product']\n",
      "['id', 'f_0', 'f_1', 'f_2', 'product']\n",
      "['id', 'f_0', 'f_1', 'f_2', 'product']\n"
     ]
    }
   ],
   "source": [
    "for d in [data_geo_1,data_geo_2,data_geo_3]:\n",
    "    print(d.columns.tolist())"
   ]
  },
  {
   "cell_type": "markdown",
   "metadata": {},
   "source": [
    "Лишних пробелов нет"
   ]
  },
  {
   "cell_type": "markdown",
   "metadata": {},
   "source": [
    "**Между буквенной и числовой частью в наименованиях столбцов добавлено нижнее подчеркивание. Столбцы приведены к змеиному регистру, лишних пробелов не обнаружено.**"
   ]
  },
  {
   "cell_type": "markdown",
   "metadata": {},
   "source": [
    "### Проверка пропусков"
   ]
  },
  {
   "cell_type": "markdown",
   "metadata": {},
   "source": [
    "Посчитаем все пропуски во всех датафреймах, подтвердив результаты первичного ознакомления"
   ]
  },
  {
   "cell_type": "code",
   "execution_count": 7,
   "metadata": {},
   "outputs": [
    {
     "name": "stdout",
     "output_type": "stream",
     "text": [
      "id         0\n",
      "f_0        0\n",
      "f_1        0\n",
      "f_2        0\n",
      "product    0\n",
      "dtype: int64\n",
      "id         0\n",
      "f_0        0\n",
      "f_1        0\n",
      "f_2        0\n",
      "product    0\n",
      "dtype: int64\n",
      "id         0\n",
      "f_0        0\n",
      "f_1        0\n",
      "f_2        0\n",
      "product    0\n",
      "dtype: int64\n"
     ]
    }
   ],
   "source": [
    "for d in [data_geo_1,data_geo_2,data_geo_3]:\n",
    "    print(d.isna().sum().sort_values(ascending = False))"
   ]
  },
  {
   "cell_type": "markdown",
   "metadata": {},
   "source": [
    "**Во всех датафреймах отсутствуют явные пропуски**"
   ]
  },
  {
   "cell_type": "markdown",
   "metadata": {},
   "source": [
    "### Аномальные значения"
   ]
  },
  {
   "cell_type": "markdown",
   "metadata": {},
   "source": [
    "Выведем описательные статистики для всех количественных столбцов."
   ]
  },
  {
   "cell_type": "code",
   "execution_count": 8,
   "metadata": {},
   "outputs": [
    {
     "data": {
      "text/html": [
       "<div>\n",
       "<style scoped>\n",
       "    .dataframe tbody tr th:only-of-type {\n",
       "        vertical-align: middle;\n",
       "    }\n",
       "\n",
       "    .dataframe tbody tr th {\n",
       "        vertical-align: top;\n",
       "    }\n",
       "\n",
       "    .dataframe thead th {\n",
       "        text-align: right;\n",
       "    }\n",
       "</style>\n",
       "<table border=\"1\" class=\"dataframe\">\n",
       "  <thead>\n",
       "    <tr style=\"text-align: right;\">\n",
       "      <th></th>\n",
       "      <th>count</th>\n",
       "      <th>mean</th>\n",
       "      <th>std</th>\n",
       "      <th>min</th>\n",
       "      <th>25%</th>\n",
       "      <th>50%</th>\n",
       "      <th>75%</th>\n",
       "      <th>max</th>\n",
       "    </tr>\n",
       "  </thead>\n",
       "  <tbody>\n",
       "    <tr>\n",
       "      <th>f_0</th>\n",
       "      <td>100000.0</td>\n",
       "      <td>0.50</td>\n",
       "      <td>0.87</td>\n",
       "      <td>-1.41</td>\n",
       "      <td>-0.07</td>\n",
       "      <td>0.50</td>\n",
       "      <td>1.07</td>\n",
       "      <td>2.36</td>\n",
       "    </tr>\n",
       "    <tr>\n",
       "      <th>f_1</th>\n",
       "      <td>100000.0</td>\n",
       "      <td>0.25</td>\n",
       "      <td>0.50</td>\n",
       "      <td>-0.85</td>\n",
       "      <td>-0.20</td>\n",
       "      <td>0.25</td>\n",
       "      <td>0.70</td>\n",
       "      <td>1.34</td>\n",
       "    </tr>\n",
       "    <tr>\n",
       "      <th>f_2</th>\n",
       "      <td>100000.0</td>\n",
       "      <td>2.50</td>\n",
       "      <td>3.25</td>\n",
       "      <td>-12.09</td>\n",
       "      <td>0.29</td>\n",
       "      <td>2.52</td>\n",
       "      <td>4.72</td>\n",
       "      <td>16.00</td>\n",
       "    </tr>\n",
       "    <tr>\n",
       "      <th>product</th>\n",
       "      <td>100000.0</td>\n",
       "      <td>92.50</td>\n",
       "      <td>44.29</td>\n",
       "      <td>0.00</td>\n",
       "      <td>56.50</td>\n",
       "      <td>91.85</td>\n",
       "      <td>128.56</td>\n",
       "      <td>185.36</td>\n",
       "    </tr>\n",
       "  </tbody>\n",
       "</table>\n",
       "</div>"
      ],
      "text/plain": [
       "            count   mean    std    min    25%    50%     75%     max\n",
       "f_0      100000.0   0.50   0.87  -1.41  -0.07   0.50    1.07    2.36\n",
       "f_1      100000.0   0.25   0.50  -0.85  -0.20   0.25    0.70    1.34\n",
       "f_2      100000.0   2.50   3.25 -12.09   0.29   2.52    4.72   16.00\n",
       "product  100000.0  92.50  44.29   0.00  56.50  91.85  128.56  185.36"
      ]
     },
     "metadata": {},
     "output_type": "display_data"
    },
    {
     "data": {
      "text/html": [
       "<div>\n",
       "<style scoped>\n",
       "    .dataframe tbody tr th:only-of-type {\n",
       "        vertical-align: middle;\n",
       "    }\n",
       "\n",
       "    .dataframe tbody tr th {\n",
       "        vertical-align: top;\n",
       "    }\n",
       "\n",
       "    .dataframe thead th {\n",
       "        text-align: right;\n",
       "    }\n",
       "</style>\n",
       "<table border=\"1\" class=\"dataframe\">\n",
       "  <thead>\n",
       "    <tr style=\"text-align: right;\">\n",
       "      <th></th>\n",
       "      <th>count</th>\n",
       "      <th>mean</th>\n",
       "      <th>std</th>\n",
       "      <th>min</th>\n",
       "      <th>25%</th>\n",
       "      <th>50%</th>\n",
       "      <th>75%</th>\n",
       "      <th>max</th>\n",
       "    </tr>\n",
       "  </thead>\n",
       "  <tbody>\n",
       "    <tr>\n",
       "      <th>f_0</th>\n",
       "      <td>100000.0</td>\n",
       "      <td>1.14</td>\n",
       "      <td>8.97</td>\n",
       "      <td>-31.61</td>\n",
       "      <td>-6.30</td>\n",
       "      <td>1.15</td>\n",
       "      <td>8.62</td>\n",
       "      <td>29.42</td>\n",
       "    </tr>\n",
       "    <tr>\n",
       "      <th>f_1</th>\n",
       "      <td>100000.0</td>\n",
       "      <td>-4.80</td>\n",
       "      <td>5.12</td>\n",
       "      <td>-26.36</td>\n",
       "      <td>-8.27</td>\n",
       "      <td>-4.81</td>\n",
       "      <td>-1.33</td>\n",
       "      <td>18.73</td>\n",
       "    </tr>\n",
       "    <tr>\n",
       "      <th>f_2</th>\n",
       "      <td>100000.0</td>\n",
       "      <td>2.49</td>\n",
       "      <td>1.70</td>\n",
       "      <td>-0.02</td>\n",
       "      <td>1.00</td>\n",
       "      <td>2.01</td>\n",
       "      <td>4.00</td>\n",
       "      <td>5.02</td>\n",
       "    </tr>\n",
       "    <tr>\n",
       "      <th>product</th>\n",
       "      <td>100000.0</td>\n",
       "      <td>68.83</td>\n",
       "      <td>45.94</td>\n",
       "      <td>0.00</td>\n",
       "      <td>26.95</td>\n",
       "      <td>57.09</td>\n",
       "      <td>107.81</td>\n",
       "      <td>137.95</td>\n",
       "    </tr>\n",
       "  </tbody>\n",
       "</table>\n",
       "</div>"
      ],
      "text/plain": [
       "            count   mean    std    min    25%    50%     75%     max\n",
       "f_0      100000.0   1.14   8.97 -31.61  -6.30   1.15    8.62   29.42\n",
       "f_1      100000.0  -4.80   5.12 -26.36  -8.27  -4.81   -1.33   18.73\n",
       "f_2      100000.0   2.49   1.70  -0.02   1.00   2.01    4.00    5.02\n",
       "product  100000.0  68.83  45.94   0.00  26.95  57.09  107.81  137.95"
      ]
     },
     "metadata": {},
     "output_type": "display_data"
    },
    {
     "data": {
      "text/html": [
       "<div>\n",
       "<style scoped>\n",
       "    .dataframe tbody tr th:only-of-type {\n",
       "        vertical-align: middle;\n",
       "    }\n",
       "\n",
       "    .dataframe tbody tr th {\n",
       "        vertical-align: top;\n",
       "    }\n",
       "\n",
       "    .dataframe thead th {\n",
       "        text-align: right;\n",
       "    }\n",
       "</style>\n",
       "<table border=\"1\" class=\"dataframe\">\n",
       "  <thead>\n",
       "    <tr style=\"text-align: right;\">\n",
       "      <th></th>\n",
       "      <th>count</th>\n",
       "      <th>mean</th>\n",
       "      <th>std</th>\n",
       "      <th>min</th>\n",
       "      <th>25%</th>\n",
       "      <th>50%</th>\n",
       "      <th>75%</th>\n",
       "      <th>max</th>\n",
       "    </tr>\n",
       "  </thead>\n",
       "  <tbody>\n",
       "    <tr>\n",
       "      <th>f_0</th>\n",
       "      <td>100000.0</td>\n",
       "      <td>0.0</td>\n",
       "      <td>1.73</td>\n",
       "      <td>-8.76</td>\n",
       "      <td>-1.16</td>\n",
       "      <td>0.01</td>\n",
       "      <td>1.16</td>\n",
       "      <td>7.24</td>\n",
       "    </tr>\n",
       "    <tr>\n",
       "      <th>f_1</th>\n",
       "      <td>100000.0</td>\n",
       "      <td>-0.0</td>\n",
       "      <td>1.73</td>\n",
       "      <td>-7.08</td>\n",
       "      <td>-1.17</td>\n",
       "      <td>-0.01</td>\n",
       "      <td>1.16</td>\n",
       "      <td>7.84</td>\n",
       "    </tr>\n",
       "    <tr>\n",
       "      <th>f_2</th>\n",
       "      <td>100000.0</td>\n",
       "      <td>2.5</td>\n",
       "      <td>3.47</td>\n",
       "      <td>-11.97</td>\n",
       "      <td>0.13</td>\n",
       "      <td>2.48</td>\n",
       "      <td>4.86</td>\n",
       "      <td>16.74</td>\n",
       "    </tr>\n",
       "    <tr>\n",
       "      <th>product</th>\n",
       "      <td>100000.0</td>\n",
       "      <td>95.0</td>\n",
       "      <td>44.75</td>\n",
       "      <td>0.00</td>\n",
       "      <td>59.45</td>\n",
       "      <td>94.93</td>\n",
       "      <td>130.60</td>\n",
       "      <td>190.03</td>\n",
       "    </tr>\n",
       "  </tbody>\n",
       "</table>\n",
       "</div>"
      ],
      "text/plain": [
       "            count  mean    std    min    25%    50%     75%     max\n",
       "f_0      100000.0   0.0   1.73  -8.76  -1.16   0.01    1.16    7.24\n",
       "f_1      100000.0  -0.0   1.73  -7.08  -1.17  -0.01    1.16    7.84\n",
       "f_2      100000.0   2.5   3.47 -11.97   0.13   2.48    4.86   16.74\n",
       "product  100000.0  95.0  44.75   0.00  59.45  94.93  130.60  190.03"
      ]
     },
     "metadata": {},
     "output_type": "display_data"
    }
   ],
   "source": [
    "for d in [data_geo_1,data_geo_2,data_geo_3]:\n",
    "    display(round(d.describe(),2).T)"
   ]
  },
  {
   "cell_type": "markdown",
   "metadata": {},
   "source": [
    "У признаков `f_0`, `f_1`, `f_2` сложно оценить, есть ли аномальные значения, так как мы не владеем сведениями, что означают эти признаки, поэтому удалять или изменять значения этих столбцов не будем. В столбцах с объемом запасов в скважинах аномальных экстремальных значений не наблюдается. Из особенностей - у всех трех регионов видно, что присутствуют скважины без запасов сырья."
   ]
  },
  {
   "cell_type": "markdown",
   "metadata": {},
   "source": [
    "Посмотрим сколько всего строк в каждом датасете со значением  меньше 0.1 в столбце `product`"
   ]
  },
  {
   "cell_type": "code",
   "execution_count": 9,
   "metadata": {},
   "outputs": [
    {
     "name": "stdout",
     "output_type": "stream",
     "text": [
      "Кол-во скважин с запасами сырья меньше 0.1 : 26\n",
      "Кол-во скважин с запасами сырья меньше 0.1 : 8235\n",
      "Кол-во скважин с запасами сырья меньше 0.1 : 28\n"
     ]
    }
   ],
   "source": [
    "for d in [data_geo_1,data_geo_2,data_geo_3]:\n",
    "    print(f\"Кол-во скважин с запасами сырья меньше 0.1 : {d[d['product'] < 0.1].shape[0]}\")"
   ]
  },
  {
   "cell_type": "markdown",
   "metadata": {},
   "source": [
    "Таких случаев много, когда есть скважины, в которых объем сырья меньше `0.1` и даже `0`, поэтому удалить такие данные или преобразовывать их не будем, это не аномальные значения, а значения, благодаря которым модель будет обучаться на более широком диапазоне значений"
   ]
  },
  {
   "cell_type": "markdown",
   "metadata": {},
   "source": [
    "**В рассматриваемых датасетах отсутствуют аномальные значения**"
   ]
  },
  {
   "cell_type": "markdown",
   "metadata": {},
   "source": [
    "### Изменение типов данных столбцов"
   ]
  },
  {
   "cell_type": "markdown",
   "metadata": {},
   "source": [
    "Проверим типы данных всех столбцов всех датафреймов:"
   ]
  },
  {
   "cell_type": "code",
   "execution_count": 10,
   "metadata": {},
   "outputs": [
    {
     "name": "stdout",
     "output_type": "stream",
     "text": [
      "<class 'pandas.core.frame.DataFrame'>\n",
      "RangeIndex: 100000 entries, 0 to 99999\n",
      "Data columns (total 5 columns):\n",
      " #   Column   Non-Null Count   Dtype  \n",
      "---  ------   --------------   -----  \n",
      " 0   id       100000 non-null  object \n",
      " 1   f_0      100000 non-null  float64\n",
      " 2   f_1      100000 non-null  float64\n",
      " 3   f_2      100000 non-null  float64\n",
      " 4   product  100000 non-null  float64\n",
      "dtypes: float64(4), object(1)\n",
      "memory usage: 3.8+ MB\n",
      "None\n",
      "<class 'pandas.core.frame.DataFrame'>\n",
      "RangeIndex: 100000 entries, 0 to 99999\n",
      "Data columns (total 5 columns):\n",
      " #   Column   Non-Null Count   Dtype  \n",
      "---  ------   --------------   -----  \n",
      " 0   id       100000 non-null  object \n",
      " 1   f_0      100000 non-null  float64\n",
      " 2   f_1      100000 non-null  float64\n",
      " 3   f_2      100000 non-null  float64\n",
      " 4   product  100000 non-null  float64\n",
      "dtypes: float64(4), object(1)\n",
      "memory usage: 3.8+ MB\n",
      "None\n",
      "<class 'pandas.core.frame.DataFrame'>\n",
      "RangeIndex: 100000 entries, 0 to 99999\n",
      "Data columns (total 5 columns):\n",
      " #   Column   Non-Null Count   Dtype  \n",
      "---  ------   --------------   -----  \n",
      " 0   id       100000 non-null  object \n",
      " 1   f_0      100000 non-null  float64\n",
      " 2   f_1      100000 non-null  float64\n",
      " 3   f_2      100000 non-null  float64\n",
      " 4   product  100000 non-null  float64\n",
      "dtypes: float64(4), object(1)\n",
      "memory usage: 3.8+ MB\n",
      "None\n"
     ]
    }
   ],
   "source": [
    "for d in [data_geo_1,data_geo_2,data_geo_3]:\n",
    "    print(d.info())"
   ]
  },
  {
   "cell_type": "markdown",
   "metadata": {},
   "source": [
    "**Типы данных столбцов соответствуют значениям в них**"
   ]
  },
  {
   "cell_type": "markdown",
   "metadata": {},
   "source": [
    "### Обработка дубликатов"
   ]
  },
  {
   "cell_type": "markdown",
   "metadata": {},
   "source": [
    "Проверим датафреймы на наличие явных дубликатов"
   ]
  },
  {
   "cell_type": "code",
   "execution_count": 11,
   "metadata": {},
   "outputs": [
    {
     "name": "stdout",
     "output_type": "stream",
     "text": [
      "Кол-во явных дубликатов : 0\n",
      "Кол-во явных дубликатов : 0\n",
      "Кол-во явных дубликатов : 0\n"
     ]
    }
   ],
   "source": [
    "for d in [data_geo_1,data_geo_2,data_geo_3]:\n",
    "    print(f\"Кол-во явных дубликатов : {d.duplicated().sum()}\")"
   ]
  },
  {
   "cell_type": "markdown",
   "metadata": {},
   "source": [
    "Теперь проверим датафреймы на наличие неявных дубликатов. Для начала проверим, что `id` в каждом датафрейме уникальны"
   ]
  },
  {
   "cell_type": "code",
   "execution_count": 12,
   "metadata": {},
   "outputs": [
    {
     "name": "stdout",
     "output_type": "stream",
     "text": [
      "Кол-во неявных дубликатов  в столбце id : 10\n",
      "Кол-во неявных дубликатов  в столбце id : 4\n",
      "Кол-во неявных дубликатов  в столбце id : 4\n"
     ]
    }
   ],
   "source": [
    "for d in [data_geo_1,data_geo_2,data_geo_3]:\n",
    "    print(f\"Кол-во неявных дубликатов  в столбце id : {d['id'].duplicated().sum()}\")"
   ]
  },
  {
   "cell_type": "markdown",
   "metadata": {},
   "source": [
    "Посмотрим на эти строки"
   ]
  },
  {
   "cell_type": "code",
   "execution_count": 13,
   "metadata": {},
   "outputs": [
    {
     "name": "stdout",
     "output_type": "stream",
     "text": [
      "Неявные дубликаты в столбце id\n"
     ]
    },
    {
     "data": {
      "text/html": [
       "<div>\n",
       "<style scoped>\n",
       "    .dataframe tbody tr th:only-of-type {\n",
       "        vertical-align: middle;\n",
       "    }\n",
       "\n",
       "    .dataframe tbody tr th {\n",
       "        vertical-align: top;\n",
       "    }\n",
       "\n",
       "    .dataframe thead th {\n",
       "        text-align: right;\n",
       "    }\n",
       "</style>\n",
       "<table border=\"1\" class=\"dataframe\">\n",
       "  <thead>\n",
       "    <tr style=\"text-align: right;\">\n",
       "      <th></th>\n",
       "      <th>id</th>\n",
       "      <th>f_0</th>\n",
       "      <th>f_1</th>\n",
       "      <th>f_2</th>\n",
       "      <th>product</th>\n",
       "    </tr>\n",
       "  </thead>\n",
       "  <tbody>\n",
       "    <tr>\n",
       "      <th>66136</th>\n",
       "      <td>74z30</td>\n",
       "      <td>1.084962</td>\n",
       "      <td>-0.312358</td>\n",
       "      <td>6.990771</td>\n",
       "      <td>127.643327</td>\n",
       "    </tr>\n",
       "    <tr>\n",
       "      <th>64022</th>\n",
       "      <td>74z30</td>\n",
       "      <td>0.741456</td>\n",
       "      <td>0.459229</td>\n",
       "      <td>5.153109</td>\n",
       "      <td>140.771492</td>\n",
       "    </tr>\n",
       "    <tr>\n",
       "      <th>51970</th>\n",
       "      <td>A5aEY</td>\n",
       "      <td>-0.180335</td>\n",
       "      <td>0.935548</td>\n",
       "      <td>-2.094773</td>\n",
       "      <td>33.020205</td>\n",
       "    </tr>\n",
       "    <tr>\n",
       "      <th>3389</th>\n",
       "      <td>A5aEY</td>\n",
       "      <td>-0.039949</td>\n",
       "      <td>0.156872</td>\n",
       "      <td>0.209861</td>\n",
       "      <td>89.249364</td>\n",
       "    </tr>\n",
       "    <tr>\n",
       "      <th>69163</th>\n",
       "      <td>AGS9W</td>\n",
       "      <td>-0.933795</td>\n",
       "      <td>0.116194</td>\n",
       "      <td>-3.655896</td>\n",
       "      <td>19.230453</td>\n",
       "    </tr>\n",
       "    <tr>\n",
       "      <th>42529</th>\n",
       "      <td>AGS9W</td>\n",
       "      <td>1.454747</td>\n",
       "      <td>-0.479651</td>\n",
       "      <td>0.683380</td>\n",
       "      <td>126.370504</td>\n",
       "    </tr>\n",
       "    <tr>\n",
       "      <th>931</th>\n",
       "      <td>HZww2</td>\n",
       "      <td>0.755284</td>\n",
       "      <td>0.368511</td>\n",
       "      <td>1.863211</td>\n",
       "      <td>30.681774</td>\n",
       "    </tr>\n",
       "    <tr>\n",
       "      <th>7530</th>\n",
       "      <td>HZww2</td>\n",
       "      <td>1.061194</td>\n",
       "      <td>-0.373969</td>\n",
       "      <td>10.430210</td>\n",
       "      <td>158.828695</td>\n",
       "    </tr>\n",
       "    <tr>\n",
       "      <th>63593</th>\n",
       "      <td>QcMuo</td>\n",
       "      <td>0.635635</td>\n",
       "      <td>-0.473422</td>\n",
       "      <td>0.862670</td>\n",
       "      <td>64.578675</td>\n",
       "    </tr>\n",
       "    <tr>\n",
       "      <th>1949</th>\n",
       "      <td>QcMuo</td>\n",
       "      <td>0.506563</td>\n",
       "      <td>-0.323775</td>\n",
       "      <td>-2.215583</td>\n",
       "      <td>75.496502</td>\n",
       "    </tr>\n",
       "    <tr>\n",
       "      <th>75715</th>\n",
       "      <td>Tdehs</td>\n",
       "      <td>0.112079</td>\n",
       "      <td>0.430296</td>\n",
       "      <td>3.218993</td>\n",
       "      <td>60.964018</td>\n",
       "    </tr>\n",
       "    <tr>\n",
       "      <th>21426</th>\n",
       "      <td>Tdehs</td>\n",
       "      <td>0.829407</td>\n",
       "      <td>0.298807</td>\n",
       "      <td>-0.049563</td>\n",
       "      <td>96.035308</td>\n",
       "    </tr>\n",
       "    <tr>\n",
       "      <th>92341</th>\n",
       "      <td>TtcGQ</td>\n",
       "      <td>0.110711</td>\n",
       "      <td>1.022689</td>\n",
       "      <td>0.911381</td>\n",
       "      <td>101.318008</td>\n",
       "    </tr>\n",
       "    <tr>\n",
       "      <th>60140</th>\n",
       "      <td>TtcGQ</td>\n",
       "      <td>0.569276</td>\n",
       "      <td>-0.104876</td>\n",
       "      <td>6.440215</td>\n",
       "      <td>85.350186</td>\n",
       "    </tr>\n",
       "    <tr>\n",
       "      <th>89582</th>\n",
       "      <td>bsk9y</td>\n",
       "      <td>0.398908</td>\n",
       "      <td>-0.400253</td>\n",
       "      <td>10.122376</td>\n",
       "      <td>163.433078</td>\n",
       "    </tr>\n",
       "    <tr>\n",
       "      <th>97785</th>\n",
       "      <td>bsk9y</td>\n",
       "      <td>0.378429</td>\n",
       "      <td>0.005837</td>\n",
       "      <td>0.160827</td>\n",
       "      <td>160.637302</td>\n",
       "    </tr>\n",
       "    <tr>\n",
       "      <th>41724</th>\n",
       "      <td>bxg6G</td>\n",
       "      <td>-0.823752</td>\n",
       "      <td>0.546319</td>\n",
       "      <td>3.630479</td>\n",
       "      <td>93.007798</td>\n",
       "    </tr>\n",
       "    <tr>\n",
       "      <th>1364</th>\n",
       "      <td>bxg6G</td>\n",
       "      <td>0.411645</td>\n",
       "      <td>0.856830</td>\n",
       "      <td>-3.653440</td>\n",
       "      <td>73.604260</td>\n",
       "    </tr>\n",
       "    <tr>\n",
       "      <th>16633</th>\n",
       "      <td>fiKDv</td>\n",
       "      <td>0.157341</td>\n",
       "      <td>1.028359</td>\n",
       "      <td>5.585586</td>\n",
       "      <td>95.817889</td>\n",
       "    </tr>\n",
       "    <tr>\n",
       "      <th>90815</th>\n",
       "      <td>fiKDv</td>\n",
       "      <td>0.049883</td>\n",
       "      <td>0.841313</td>\n",
       "      <td>6.394613</td>\n",
       "      <td>137.346586</td>\n",
       "    </tr>\n",
       "  </tbody>\n",
       "</table>\n",
       "</div>"
      ],
      "text/plain": [
       "          id       f_0       f_1        f_2     product\n",
       "66136  74z30  1.084962 -0.312358   6.990771  127.643327\n",
       "64022  74z30  0.741456  0.459229   5.153109  140.771492\n",
       "51970  A5aEY -0.180335  0.935548  -2.094773   33.020205\n",
       "3389   A5aEY -0.039949  0.156872   0.209861   89.249364\n",
       "69163  AGS9W -0.933795  0.116194  -3.655896   19.230453\n",
       "42529  AGS9W  1.454747 -0.479651   0.683380  126.370504\n",
       "931    HZww2  0.755284  0.368511   1.863211   30.681774\n",
       "7530   HZww2  1.061194 -0.373969  10.430210  158.828695\n",
       "63593  QcMuo  0.635635 -0.473422   0.862670   64.578675\n",
       "1949   QcMuo  0.506563 -0.323775  -2.215583   75.496502\n",
       "75715  Tdehs  0.112079  0.430296   3.218993   60.964018\n",
       "21426  Tdehs  0.829407  0.298807  -0.049563   96.035308\n",
       "92341  TtcGQ  0.110711  1.022689   0.911381  101.318008\n",
       "60140  TtcGQ  0.569276 -0.104876   6.440215   85.350186\n",
       "89582  bsk9y  0.398908 -0.400253  10.122376  163.433078\n",
       "97785  bsk9y  0.378429  0.005837   0.160827  160.637302\n",
       "41724  bxg6G -0.823752  0.546319   3.630479   93.007798\n",
       "1364   bxg6G  0.411645  0.856830  -3.653440   73.604260\n",
       "16633  fiKDv  0.157341  1.028359   5.585586   95.817889\n",
       "90815  fiKDv  0.049883  0.841313   6.394613  137.346586"
      ]
     },
     "metadata": {},
     "output_type": "display_data"
    },
    {
     "name": "stdout",
     "output_type": "stream",
     "text": [
      "Неявные дубликаты в столбце id\n"
     ]
    },
    {
     "data": {
      "text/html": [
       "<div>\n",
       "<style scoped>\n",
       "    .dataframe tbody tr th:only-of-type {\n",
       "        vertical-align: middle;\n",
       "    }\n",
       "\n",
       "    .dataframe tbody tr th {\n",
       "        vertical-align: top;\n",
       "    }\n",
       "\n",
       "    .dataframe thead th {\n",
       "        text-align: right;\n",
       "    }\n",
       "</style>\n",
       "<table border=\"1\" class=\"dataframe\">\n",
       "  <thead>\n",
       "    <tr style=\"text-align: right;\">\n",
       "      <th></th>\n",
       "      <th>id</th>\n",
       "      <th>f_0</th>\n",
       "      <th>f_1</th>\n",
       "      <th>f_2</th>\n",
       "      <th>product</th>\n",
       "    </tr>\n",
       "  </thead>\n",
       "  <tbody>\n",
       "    <tr>\n",
       "      <th>5849</th>\n",
       "      <td>5ltQ6</td>\n",
       "      <td>-3.435401</td>\n",
       "      <td>-12.296043</td>\n",
       "      <td>1.999796</td>\n",
       "      <td>57.085625</td>\n",
       "    </tr>\n",
       "    <tr>\n",
       "      <th>84461</th>\n",
       "      <td>5ltQ6</td>\n",
       "      <td>18.213839</td>\n",
       "      <td>2.191999</td>\n",
       "      <td>3.993869</td>\n",
       "      <td>107.813044</td>\n",
       "    </tr>\n",
       "    <tr>\n",
       "      <th>1305</th>\n",
       "      <td>LHZR0</td>\n",
       "      <td>11.170835</td>\n",
       "      <td>-1.945066</td>\n",
       "      <td>3.002872</td>\n",
       "      <td>80.859783</td>\n",
       "    </tr>\n",
       "    <tr>\n",
       "      <th>41906</th>\n",
       "      <td>LHZR0</td>\n",
       "      <td>-8.989672</td>\n",
       "      <td>-4.286607</td>\n",
       "      <td>2.009139</td>\n",
       "      <td>57.085625</td>\n",
       "    </tr>\n",
       "    <tr>\n",
       "      <th>2721</th>\n",
       "      <td>bfPNe</td>\n",
       "      <td>-9.494442</td>\n",
       "      <td>-5.463692</td>\n",
       "      <td>4.006042</td>\n",
       "      <td>110.992147</td>\n",
       "    </tr>\n",
       "    <tr>\n",
       "      <th>82178</th>\n",
       "      <td>bfPNe</td>\n",
       "      <td>-6.202799</td>\n",
       "      <td>-4.820045</td>\n",
       "      <td>2.995107</td>\n",
       "      <td>84.038886</td>\n",
       "    </tr>\n",
       "    <tr>\n",
       "      <th>47591</th>\n",
       "      <td>wt4Uk</td>\n",
       "      <td>-9.091098</td>\n",
       "      <td>-8.109279</td>\n",
       "      <td>-0.002314</td>\n",
       "      <td>3.179103</td>\n",
       "    </tr>\n",
       "    <tr>\n",
       "      <th>82873</th>\n",
       "      <td>wt4Uk</td>\n",
       "      <td>10.259972</td>\n",
       "      <td>-9.376355</td>\n",
       "      <td>4.994297</td>\n",
       "      <td>134.766305</td>\n",
       "    </tr>\n",
       "  </tbody>\n",
       "</table>\n",
       "</div>"
      ],
      "text/plain": [
       "          id        f_0        f_1       f_2     product\n",
       "5849   5ltQ6  -3.435401 -12.296043  1.999796   57.085625\n",
       "84461  5ltQ6  18.213839   2.191999  3.993869  107.813044\n",
       "1305   LHZR0  11.170835  -1.945066  3.002872   80.859783\n",
       "41906  LHZR0  -8.989672  -4.286607  2.009139   57.085625\n",
       "2721   bfPNe  -9.494442  -5.463692  4.006042  110.992147\n",
       "82178  bfPNe  -6.202799  -4.820045  2.995107   84.038886\n",
       "47591  wt4Uk  -9.091098  -8.109279 -0.002314    3.179103\n",
       "82873  wt4Uk  10.259972  -9.376355  4.994297  134.766305"
      ]
     },
     "metadata": {},
     "output_type": "display_data"
    },
    {
     "name": "stdout",
     "output_type": "stream",
     "text": [
      "Неявные дубликаты в столбце id\n"
     ]
    },
    {
     "data": {
      "text/html": [
       "<div>\n",
       "<style scoped>\n",
       "    .dataframe tbody tr th:only-of-type {\n",
       "        vertical-align: middle;\n",
       "    }\n",
       "\n",
       "    .dataframe tbody tr th {\n",
       "        vertical-align: top;\n",
       "    }\n",
       "\n",
       "    .dataframe thead th {\n",
       "        text-align: right;\n",
       "    }\n",
       "</style>\n",
       "<table border=\"1\" class=\"dataframe\">\n",
       "  <thead>\n",
       "    <tr style=\"text-align: right;\">\n",
       "      <th></th>\n",
       "      <th>id</th>\n",
       "      <th>f_0</th>\n",
       "      <th>f_1</th>\n",
       "      <th>f_2</th>\n",
       "      <th>product</th>\n",
       "    </tr>\n",
       "  </thead>\n",
       "  <tbody>\n",
       "    <tr>\n",
       "      <th>45404</th>\n",
       "      <td>KUPhW</td>\n",
       "      <td>0.231846</td>\n",
       "      <td>-1.698941</td>\n",
       "      <td>4.990775</td>\n",
       "      <td>11.716299</td>\n",
       "    </tr>\n",
       "    <tr>\n",
       "      <th>55967</th>\n",
       "      <td>KUPhW</td>\n",
       "      <td>1.211150</td>\n",
       "      <td>3.176408</td>\n",
       "      <td>5.543540</td>\n",
       "      <td>132.831802</td>\n",
       "    </tr>\n",
       "    <tr>\n",
       "      <th>11449</th>\n",
       "      <td>VF7Jo</td>\n",
       "      <td>2.122656</td>\n",
       "      <td>-0.858275</td>\n",
       "      <td>5.746001</td>\n",
       "      <td>181.716817</td>\n",
       "    </tr>\n",
       "    <tr>\n",
       "      <th>49564</th>\n",
       "      <td>VF7Jo</td>\n",
       "      <td>-0.883115</td>\n",
       "      <td>0.560537</td>\n",
       "      <td>0.723601</td>\n",
       "      <td>136.233420</td>\n",
       "    </tr>\n",
       "    <tr>\n",
       "      <th>44378</th>\n",
       "      <td>Vcm5J</td>\n",
       "      <td>-1.229484</td>\n",
       "      <td>-2.439204</td>\n",
       "      <td>1.222909</td>\n",
       "      <td>137.968290</td>\n",
       "    </tr>\n",
       "    <tr>\n",
       "      <th>95090</th>\n",
       "      <td>Vcm5J</td>\n",
       "      <td>2.587702</td>\n",
       "      <td>1.986875</td>\n",
       "      <td>2.482245</td>\n",
       "      <td>92.327572</td>\n",
       "    </tr>\n",
       "    <tr>\n",
       "      <th>28039</th>\n",
       "      <td>xCHr8</td>\n",
       "      <td>1.633027</td>\n",
       "      <td>0.368135</td>\n",
       "      <td>-2.378367</td>\n",
       "      <td>6.120525</td>\n",
       "    </tr>\n",
       "    <tr>\n",
       "      <th>43233</th>\n",
       "      <td>xCHr8</td>\n",
       "      <td>-0.847066</td>\n",
       "      <td>2.101796</td>\n",
       "      <td>5.597130</td>\n",
       "      <td>184.388641</td>\n",
       "    </tr>\n",
       "  </tbody>\n",
       "</table>\n",
       "</div>"
      ],
      "text/plain": [
       "          id       f_0       f_1       f_2     product\n",
       "45404  KUPhW  0.231846 -1.698941  4.990775   11.716299\n",
       "55967  KUPhW  1.211150  3.176408  5.543540  132.831802\n",
       "11449  VF7Jo  2.122656 -0.858275  5.746001  181.716817\n",
       "49564  VF7Jo -0.883115  0.560537  0.723601  136.233420\n",
       "44378  Vcm5J -1.229484 -2.439204  1.222909  137.968290\n",
       "95090  Vcm5J  2.587702  1.986875  2.482245   92.327572\n",
       "28039  xCHr8  1.633027  0.368135 -2.378367    6.120525\n",
       "43233  xCHr8 -0.847066  2.101796  5.597130  184.388641"
      ]
     },
     "metadata": {},
     "output_type": "display_data"
    }
   ],
   "source": [
    "for d in [data_geo_1,data_geo_2,data_geo_3]:\n",
    "    print(f'Неявные дубликаты в столбце id')\n",
    "    index = d['id'].value_counts().loc[lambda x : x > 1].index.to_list()\n",
    "    display(d[d['id'].isin(index)].sort_values(by='id'))"
   ]
  },
  {
   "cell_type": "markdown",
   "metadata": {},
   "source": [
    "Сложно сказать, какие строки из дубликатов лучше оставить, так как нам неизвестны какие характеристики указаны в столбцах `f_0`, `f_1`, `f_2`, поэтому используем стратегию `keep=first`."
   ]
  },
  {
   "cell_type": "code",
   "execution_count": 14,
   "metadata": {},
   "outputs": [
    {
     "name": "stdout",
     "output_type": "stream",
     "text": [
      "Кол-во строк до удаления: 100000\n",
      "Кол-во строк до удаления: 100000\n",
      "Кол-во строк до удаления: 100000\n",
      "Кол-во строк после удаления: 99990\n",
      "Кол-во строк после удаления: 99996\n",
      "Кол-во строк после удаления: 99996\n"
     ]
    }
   ],
   "source": [
    "#смотрим кол-во строк до удаления\n",
    "for d in [data_geo_1,data_geo_2,data_geo_3]:\n",
    "    print(f\"Кол-во строк до удаления: {d.shape[0]}\")\n",
    "\n",
    "data_geo_1 = data_geo_1.drop_duplicates(subset=['id'], keep = 'first').reset_index(drop = True)\n",
    "data_geo_2 = data_geo_2.drop_duplicates(subset=['id'], keep = 'first').reset_index(drop = True)\n",
    "data_geo_3 = data_geo_3.drop_duplicates(subset=['id'], keep = 'first').reset_index(drop = True)\n",
    "\n",
    "#смотрим кол-во строк после удаления\n",
    "for d in [data_geo_1,data_geo_2,data_geo_3]:\n",
    "    print(f\"Кол-во строк после удаления: {d.shape[0]}\")"
   ]
  },
  {
   "cell_type": "markdown",
   "metadata": {},
   "source": [
    "Дополнительно проверим, появятся ли неявные дубликаты, когда мы разделим датасеты на входные и целевой признаки: после удаления столбца `id`, но до удаления целевого признака `product` "
   ]
  },
  {
   "cell_type": "code",
   "execution_count": 15,
   "metadata": {},
   "outputs": [
    {
     "name": "stdout",
     "output_type": "stream",
     "text": [
      "0\n",
      "0\n",
      "0\n"
     ]
    }
   ],
   "source": [
    "for d in [data_geo_1,data_geo_2,data_geo_3]:\n",
    "    print(d[['f_0','f_1','f_2','product']].duplicated().sum())"
   ]
  },
  {
   "cell_type": "markdown",
   "metadata": {},
   "source": [
    "Дополнительных неявных дубликатов при разделении датасетов на выборки обнаружено не будет."
   ]
  },
  {
   "cell_type": "markdown",
   "metadata": {},
   "source": [
    "**При проверке датасетов явных дубликатов обнаружено не было, но были обнаружены неявные дубликаты в столбце с `id`, значения в котором должны быть уникальными. Неявные дубликаты удалены. Также дополнительно проверили, что неявные дубликаты не появятся, когда мы разделим датасеты на входные и целевой признаки: после удаления столбца `id`, но до удаления целевого признака `product` перед обучением модели.**"
   ]
  },
  {
   "cell_type": "markdown",
   "metadata": {},
   "source": [
    "**На этапе предобработки данных были выполнены следующие действия и получены следующие результаты:**\n",
    "- между буквенной и числовой частью в наименованиях столбцов добавлено нижнее подчеркивание. Столбцы приведены к змеиному регистру, лишних пробелов не обнаружено.\n",
    "- датафреймы проверены на наличие явных пропусков\n",
    "- в рассматриваемых датасетах отсутствуют аномальные значения\n",
    "- типы данных столбцов соответствуют значениям в них\n",
    "- при проверке датасетов явных дубликатов обнаружено не было, но были обнаружены неявные дубликаты в столбце с `id`, значения в котором должны быть уникальными. Неявные дубликаты удалены. Также дополнительно проверили, что неявные дубликаты не появятся, когда мы разделим датасеты на входные и целевой признаки: после удаления столбца `id`, но до удаления целевого признака `product` перед обучением модели."
   ]
  },
  {
   "cell_type": "markdown",
   "metadata": {},
   "source": [
    "## Исследовательский анализ"
   ]
  },
  {
   "cell_type": "markdown",
   "metadata": {},
   "source": [
    "Хоть признаков очень мало и мы не знаем их природу, для наглядности посмотрим статистики и построим графики. Выведем описательные статистики для наших датафреймов "
   ]
  },
  {
   "cell_type": "code",
   "execution_count": 16,
   "metadata": {},
   "outputs": [
    {
     "name": "stdout",
     "output_type": "stream",
     "text": [
      "Описательные статистики для data_geo_1\n"
     ]
    },
    {
     "data": {
      "text/html": [
       "<div>\n",
       "<style scoped>\n",
       "    .dataframe tbody tr th:only-of-type {\n",
       "        vertical-align: middle;\n",
       "    }\n",
       "\n",
       "    .dataframe tbody tr th {\n",
       "        vertical-align: top;\n",
       "    }\n",
       "\n",
       "    .dataframe thead th {\n",
       "        text-align: right;\n",
       "    }\n",
       "</style>\n",
       "<table border=\"1\" class=\"dataframe\">\n",
       "  <thead>\n",
       "    <tr style=\"text-align: right;\">\n",
       "      <th></th>\n",
       "      <th>count</th>\n",
       "      <th>mean</th>\n",
       "      <th>std</th>\n",
       "      <th>min</th>\n",
       "      <th>25%</th>\n",
       "      <th>50%</th>\n",
       "      <th>75%</th>\n",
       "      <th>max</th>\n",
       "    </tr>\n",
       "  </thead>\n",
       "  <tbody>\n",
       "    <tr>\n",
       "      <th>f_0</th>\n",
       "      <td>99990.0</td>\n",
       "      <td>0.50</td>\n",
       "      <td>0.87</td>\n",
       "      <td>-1.41</td>\n",
       "      <td>-0.07</td>\n",
       "      <td>0.50</td>\n",
       "      <td>1.07</td>\n",
       "      <td>2.36</td>\n",
       "    </tr>\n",
       "    <tr>\n",
       "      <th>f_1</th>\n",
       "      <td>99990.0</td>\n",
       "      <td>0.25</td>\n",
       "      <td>0.50</td>\n",
       "      <td>-0.85</td>\n",
       "      <td>-0.20</td>\n",
       "      <td>0.25</td>\n",
       "      <td>0.70</td>\n",
       "      <td>1.34</td>\n",
       "    </tr>\n",
       "    <tr>\n",
       "      <th>f_2</th>\n",
       "      <td>99990.0</td>\n",
       "      <td>2.50</td>\n",
       "      <td>3.25</td>\n",
       "      <td>-12.09</td>\n",
       "      <td>0.29</td>\n",
       "      <td>2.52</td>\n",
       "      <td>4.72</td>\n",
       "      <td>16.00</td>\n",
       "    </tr>\n",
       "    <tr>\n",
       "      <th>product</th>\n",
       "      <td>99990.0</td>\n",
       "      <td>92.50</td>\n",
       "      <td>44.29</td>\n",
       "      <td>0.00</td>\n",
       "      <td>56.50</td>\n",
       "      <td>91.85</td>\n",
       "      <td>128.56</td>\n",
       "      <td>185.36</td>\n",
       "    </tr>\n",
       "  </tbody>\n",
       "</table>\n",
       "</div>"
      ],
      "text/plain": [
       "           count   mean    std    min    25%    50%     75%     max\n",
       "f_0      99990.0   0.50   0.87  -1.41  -0.07   0.50    1.07    2.36\n",
       "f_1      99990.0   0.25   0.50  -0.85  -0.20   0.25    0.70    1.34\n",
       "f_2      99990.0   2.50   3.25 -12.09   0.29   2.52    4.72   16.00\n",
       "product  99990.0  92.50  44.29   0.00  56.50  91.85  128.56  185.36"
      ]
     },
     "metadata": {},
     "output_type": "display_data"
    },
    {
     "name": "stdout",
     "output_type": "stream",
     "text": [
      "Описательные статистики для data_geo_2\n"
     ]
    },
    {
     "data": {
      "text/html": [
       "<div>\n",
       "<style scoped>\n",
       "    .dataframe tbody tr th:only-of-type {\n",
       "        vertical-align: middle;\n",
       "    }\n",
       "\n",
       "    .dataframe tbody tr th {\n",
       "        vertical-align: top;\n",
       "    }\n",
       "\n",
       "    .dataframe thead th {\n",
       "        text-align: right;\n",
       "    }\n",
       "</style>\n",
       "<table border=\"1\" class=\"dataframe\">\n",
       "  <thead>\n",
       "    <tr style=\"text-align: right;\">\n",
       "      <th></th>\n",
       "      <th>count</th>\n",
       "      <th>mean</th>\n",
       "      <th>std</th>\n",
       "      <th>min</th>\n",
       "      <th>25%</th>\n",
       "      <th>50%</th>\n",
       "      <th>75%</th>\n",
       "      <th>max</th>\n",
       "    </tr>\n",
       "  </thead>\n",
       "  <tbody>\n",
       "    <tr>\n",
       "      <th>f_0</th>\n",
       "      <td>99996.0</td>\n",
       "      <td>1.14</td>\n",
       "      <td>8.97</td>\n",
       "      <td>-31.61</td>\n",
       "      <td>-6.30</td>\n",
       "      <td>1.15</td>\n",
       "      <td>8.62</td>\n",
       "      <td>29.42</td>\n",
       "    </tr>\n",
       "    <tr>\n",
       "      <th>f_1</th>\n",
       "      <td>99996.0</td>\n",
       "      <td>-4.80</td>\n",
       "      <td>5.12</td>\n",
       "      <td>-26.36</td>\n",
       "      <td>-8.27</td>\n",
       "      <td>-4.81</td>\n",
       "      <td>-1.33</td>\n",
       "      <td>18.73</td>\n",
       "    </tr>\n",
       "    <tr>\n",
       "      <th>f_2</th>\n",
       "      <td>99996.0</td>\n",
       "      <td>2.49</td>\n",
       "      <td>1.70</td>\n",
       "      <td>-0.02</td>\n",
       "      <td>1.00</td>\n",
       "      <td>2.01</td>\n",
       "      <td>4.00</td>\n",
       "      <td>5.02</td>\n",
       "    </tr>\n",
       "    <tr>\n",
       "      <th>product</th>\n",
       "      <td>99996.0</td>\n",
       "      <td>68.82</td>\n",
       "      <td>45.94</td>\n",
       "      <td>0.00</td>\n",
       "      <td>26.95</td>\n",
       "      <td>57.09</td>\n",
       "      <td>107.81</td>\n",
       "      <td>137.95</td>\n",
       "    </tr>\n",
       "  </tbody>\n",
       "</table>\n",
       "</div>"
      ],
      "text/plain": [
       "           count   mean    std    min    25%    50%     75%     max\n",
       "f_0      99996.0   1.14   8.97 -31.61  -6.30   1.15    8.62   29.42\n",
       "f_1      99996.0  -4.80   5.12 -26.36  -8.27  -4.81   -1.33   18.73\n",
       "f_2      99996.0   2.49   1.70  -0.02   1.00   2.01    4.00    5.02\n",
       "product  99996.0  68.82  45.94   0.00  26.95  57.09  107.81  137.95"
      ]
     },
     "metadata": {},
     "output_type": "display_data"
    },
    {
     "name": "stdout",
     "output_type": "stream",
     "text": [
      "Описательные статистики для data_geo_3\n"
     ]
    },
    {
     "data": {
      "text/html": [
       "<div>\n",
       "<style scoped>\n",
       "    .dataframe tbody tr th:only-of-type {\n",
       "        vertical-align: middle;\n",
       "    }\n",
       "\n",
       "    .dataframe tbody tr th {\n",
       "        vertical-align: top;\n",
       "    }\n",
       "\n",
       "    .dataframe thead th {\n",
       "        text-align: right;\n",
       "    }\n",
       "</style>\n",
       "<table border=\"1\" class=\"dataframe\">\n",
       "  <thead>\n",
       "    <tr style=\"text-align: right;\">\n",
       "      <th></th>\n",
       "      <th>count</th>\n",
       "      <th>mean</th>\n",
       "      <th>std</th>\n",
       "      <th>min</th>\n",
       "      <th>25%</th>\n",
       "      <th>50%</th>\n",
       "      <th>75%</th>\n",
       "      <th>max</th>\n",
       "    </tr>\n",
       "  </thead>\n",
       "  <tbody>\n",
       "    <tr>\n",
       "      <th>f_0</th>\n",
       "      <td>99996.0</td>\n",
       "      <td>0.0</td>\n",
       "      <td>1.73</td>\n",
       "      <td>-8.76</td>\n",
       "      <td>-1.16</td>\n",
       "      <td>0.01</td>\n",
       "      <td>1.16</td>\n",
       "      <td>7.24</td>\n",
       "    </tr>\n",
       "    <tr>\n",
       "      <th>f_1</th>\n",
       "      <td>99996.0</td>\n",
       "      <td>-0.0</td>\n",
       "      <td>1.73</td>\n",
       "      <td>-7.08</td>\n",
       "      <td>-1.17</td>\n",
       "      <td>-0.01</td>\n",
       "      <td>1.16</td>\n",
       "      <td>7.84</td>\n",
       "    </tr>\n",
       "    <tr>\n",
       "      <th>f_2</th>\n",
       "      <td>99996.0</td>\n",
       "      <td>2.5</td>\n",
       "      <td>3.47</td>\n",
       "      <td>-11.97</td>\n",
       "      <td>0.13</td>\n",
       "      <td>2.48</td>\n",
       "      <td>4.86</td>\n",
       "      <td>16.74</td>\n",
       "    </tr>\n",
       "    <tr>\n",
       "      <th>product</th>\n",
       "      <td>99996.0</td>\n",
       "      <td>95.0</td>\n",
       "      <td>44.75</td>\n",
       "      <td>0.00</td>\n",
       "      <td>59.45</td>\n",
       "      <td>94.93</td>\n",
       "      <td>130.59</td>\n",
       "      <td>190.03</td>\n",
       "    </tr>\n",
       "  </tbody>\n",
       "</table>\n",
       "</div>"
      ],
      "text/plain": [
       "           count  mean    std    min    25%    50%     75%     max\n",
       "f_0      99996.0   0.0   1.73  -8.76  -1.16   0.01    1.16    7.24\n",
       "f_1      99996.0  -0.0   1.73  -7.08  -1.17  -0.01    1.16    7.84\n",
       "f_2      99996.0   2.5   3.47 -11.97   0.13   2.48    4.86   16.74\n",
       "product  99996.0  95.0  44.75   0.00  59.45  94.93  130.59  190.03"
      ]
     },
     "metadata": {},
     "output_type": "display_data"
    }
   ],
   "source": [
    "#создадим словарь с нашими датафреймами, чтобы можно было выводить удобно их названия\n",
    "dataframes = {\n",
    "    'data_geo_1': data_geo_1,\n",
    "    'data_geo_2': data_geo_2,\n",
    "    'data_geo_3': data_geo_3,\n",
    "}\n",
    "for name, d in dataframes.items():\n",
    "    print(f'Описательные статистики для {name}')\n",
    "    display(round(d.describe(),2).T)"
   ]
  },
  {
   "cell_type": "markdown",
   "metadata": {},
   "source": [
    "- средние значения объема сырья и других входных признаков схожи между собой у `data_geo_1` и `data_geo_3`.\n",
    "- в датафрейме `data_geo_2` самые низкие показатели сырья."
   ]
  },
  {
   "cell_type": "markdown",
   "metadata": {},
   "source": [
    "Построим поочередно графики для всех признаков. Хоть в наших датафреймах все признаки непрерывные, но могут быть и новые данные, поэтому стандартизированно построим графики распределения количественных признаков для всех датафреймов с возможностью построения в дальнейшем разных типов графиков для непрерывных и дискретных  величин."
   ]
  },
  {
   "cell_type": "code",
   "execution_count": 17,
   "metadata": {},
   "outputs": [
    {
     "data": {
      "image/png": "[encoded data removed]",
      "text/plain": [
       "<Figure size 1620x450 with 3 Axes>"
      ]
     },
     "metadata": {
      "needs_background": "light"
     },
     "output_type": "display_data"
    },
    {
     "data": {
      "image/png": "[encoded data removed]",
      "text/plain": [
       "<Figure size 1620x450 with 3 Axes>"
      ]
     },
     "metadata": {
      "needs_background": "light"
     },
     "output_type": "display_data"
    },
    {
     "data": {
      "image/png": "[encoded data removed]",
      "text/plain": [
       "<Figure size 1620x450 with 3 Axes>"
      ]
     },
     "metadata": {
      "needs_background": "light"
     },
     "output_type": "display_data"
    },
    {
     "data": {
      "image/png": "[encoded data removed]",
      "text/plain": [
       "<Figure size 1620x450 with 3 Axes>"
      ]
     },
     "metadata": {
      "needs_background": "light"
     },
     "output_type": "display_data"
    }
   ],
   "source": [
    "#для исключения столбца id добавляем конструкицю select_dtypes(exclude='object')\n",
    "for c in data_geo_1.select_dtypes(exclude='object').columns.tolist():\n",
    "    fig, axes = plt.subplots(nrows=1, ncols=3, figsize=(18,5), dpi = 90)\n",
    "    axes[0].set_title(f'Распределение признака {c} \\n датафрейма data_geo_1')\n",
    "    axes[0].set_xlabel(f'Значения признака {c}')\n",
    "    axes[0].set_ylabel(f'Частота встречаемости признака {c}')\n",
    "        \n",
    "    axes[1].set_title(f'Распределение признака {c} \\n датафрейма data_geo_2')\n",
    "    axes[1].set_xlabel(f'Значения признака {c}')\n",
    "    axes[1].set_ylabel(f'Частота встречаемости признака {c}')\n",
    "                                 \n",
    "    axes[2].set_title(f'Распределение признака {c} \\n датафрейма data_geo_3')\n",
    "    axes[2].set_xlabel(f'Значения признака {c}')\n",
    "    axes[2].set_ylabel(f'Частота встречаемости признака {c}')\n",
    "    if (data_geo_1[c].dtype == 'int64') and (len(data_geo_1[c].unique()) < 30):\n",
    "        sns.countplot(data = data_geo_1, x=c, palette = 'deep',ax=axes[0])                          \n",
    "        sns.countplot(data = data_geo_2, x=c, palette = 'deep',ax=axes[1])                        \n",
    "        sns.countplot(data = data_geo_3, x=c, palette = 'deep',ax=axes[2])\n",
    "        plt.show()\n",
    "    else:\n",
    "        sns.histplot(data = data_geo_1, x = c, color = 'peru', bins = 50,ax=axes[0])\n",
    "        sns.histplot(data = data_geo_2, x = c, color = 'peru', bins = 50,ax=axes[1])\n",
    "        sns.histplot(data = data_geo_3, x = c, color = 'peru', bins = 50,ax=axes[2])\n",
    "        plt.show()"
   ]
  },
  {
   "cell_type": "markdown",
   "metadata": {},
   "source": [
    "Полученные графики показывают следующие результаты:\n",
    " - только часть графиков показывает выраженное нормальное распределение\n",
    " - в `data_geo_2` графики `f_2` и `product` очень схожи, между ними возможно сильная неллинейная связь, проверим в дальнейшем. Их распределения больше похожи на распределения дискретных величин, хоть таковыми они и не являются\n",
    " - у локации 3 все входные признаки распределены нормально\n",
    " - графики распределений `product` у первой и третьей локации схожи"
   ]
  },
  {
   "cell_type": "markdown",
   "metadata": {},
   "source": [
    "**На этапе исследовательского анализа были получены следующие результаты:**\n",
    "- средние значения объема сырья и других входных признаков схожи между собой у `data_geo_1` и `data_geo_3`.\n",
    "- в датафрейме `data_geo_2` самые низкие показатели сырья\n",
    "- только часть графиков показывает выраженное нормальное распределение\n",
    "- в `data_geo_2` графики `f_2` и `product` очень схожи, между ними возможно сильная неллинейная связь, проверим в дальнейшем. Их распределения больше похожи на распределения дискретных величин, хоть таковыми они и не являются\n",
    "- у `data_geo_3` все входные признаки распределены нормально\n",
    "- графики распределений `product` у первой и третьей локации схожи"
   ]
  },
  {
   "cell_type": "markdown",
   "metadata": {},
   "source": [
    "## Корреляционный анализ"
   ]
  },
  {
   "cell_type": "markdown",
   "metadata": {},
   "source": [
    "Построим матрицу корреляции для возможного выявления мультиколлинеарности между входными признаками. Так как присутствуют в данных нелинейные зависимости, то воспользуемся матрицей корреляции `phik`. Так как все признаки у нас непрерывные, то передадим наименования всех столбцов в переменную `interval_cols`."
   ]
  },
  {
   "cell_type": "code",
   "execution_count": 18,
   "metadata": {},
   "outputs": [
    {
     "data": {
      "image/png": "[encoded data removed]",
      "text/plain": [
       "<Figure size 432x288 with 2 Axes>"
      ]
     },
     "metadata": {
      "needs_background": "light"
     },
     "output_type": "display_data"
    },
    {
     "data": {
      "image/png": "[encoded data removed]",
      "text/plain": [
       "<Figure size 432x288 with 2 Axes>"
      ]
     },
     "metadata": {
      "needs_background": "light"
     },
     "output_type": "display_data"
    },
    {
     "data": {
      "image/png": "[encoded data removed]",
      "text/plain": [
       "<Figure size 432x288 with 2 Axes>"
      ]
     },
     "metadata": {
      "needs_background": "light"
     },
     "output_type": "display_data"
    }
   ],
   "source": [
    "interval_cols = [\n",
    "    'f_0',\n",
    "    'f_1',\n",
    "    'f_2',\n",
    "    'product'\n",
    "]\n",
    "\n",
    "for name, d in dataframes.items():\n",
    "    plt.figure(figsize = (6,4))\n",
    "    sns.heatmap(d.iloc[:,1:].phik_matrix(interval_cols=interval_cols), annot=True, cmap='Greens')\n",
    "    plt.title(r'Матрица коэффициентов корреляции $\\phi_K$ между всеми признаками датафрейма'+ f'\\n {name}')\n",
    "    plt.show()"
   ]
  },
  {
   "cell_type": "markdown",
   "metadata": {},
   "source": [
    "**Полученные матрицы корреляции показывают:**\n",
    " - в датасете `data_geo_1` высокая корреляция между входными признаками `f_0` и `f_1`. Между целевым признаком и входными самая высокая корреляция с признаком `f_2` - 0.48\n",
    " - в датасете `data_geo_2` высокая корреляция между входным признаком `f_2` и `product` - 0.98, что должно улучшить обучение линейной модели на этом датасете\n",
    " - в датасете `data_geo_3` самая высокая корреляция между целевым признаком и входными `f_2` - 0.44\n",
    " - между входными признаками мультиколлинеарности не обнаружено"
   ]
  },
  {
   "cell_type": "markdown",
   "metadata": {},
   "source": [
    "## Обучение и проверка модели"
   ]
  },
  {
   "cell_type": "markdown",
   "metadata": {},
   "source": [
    "### Написание функции для подготовки данных и обучения модели"
   ]
  },
  {
   "cell_type": "markdown",
   "metadata": {},
   "source": [
    "Так как мы обучаем одну модель линейной регрессии и мы не будем подбирать гиперпараметры, и у нас нет категориальных столбцов, для которых необходимо выполнять кодирование, и нам не нужно улучшать модель, поэтому метрика при кросс-валидации нас не интересует, поэтому вместо использования пайплайна напишем функцию для подготовки данных и обучения модели. Так как модель линейная, то для улучшения метрики модели дополнительно выполним полиномизацию признаков."
   ]
  },
  {
   "cell_type": "code",
   "execution_count": 19,
   "metadata": {},
   "outputs": [],
   "source": [
    "def model(df):\n",
    "    #разбиваем датасеты на тренировочную и валидационную выборку, для удобства использую надпись test вместо valid\n",
    "    X_train, X_test, y_train, y_test = train_test_split(\n",
    "    df.drop(['id','product'], axis=1),\n",
    "    df['product'],\n",
    "    test_size = TEST_SIZE, \n",
    "    random_state = RANDOM_STATE\n",
    ")\n",
    "    #для улучшения показателей модели проведем полиномизацию признаков\n",
    "    poly = PolynomialFeatures(5)\n",
    "    X_train = poly.fit_transform(X_train)\n",
    "    X_test = poly.transform(X_test)\n",
    "    \n",
    "    #в качестве скейлера возьмем StandardScaler(), объявляем его и масштабируем данные\n",
    "    scaler = StandardScaler()\n",
    "    X_train = pd.DataFrame(scaler.fit_transform(X_train),columns = poly.get_feature_names())\n",
    "    X_test = pd.DataFrame(scaler.transform(X_test),columns = poly.get_feature_names())\n",
    "    \n",
    "    #инициилизируем и обучаем модель\n",
    "    model_lr = LinearRegression()\n",
    "    model_lr = model_lr.fit(X_train,y_train)\n",
    "    \n",
    "    #получаем прогнозные значения и метрику на валидационной выборке\n",
    "    predictions = model_lr.predict(X_test)\n",
    "    rmse_score = mean_squared_error(y_test, predictions, squared=False)\n",
    "    \n",
    "    return X_train, X_test, y_train, y_test, model_lr, predictions, rmse_score"
   ]
  },
  {
   "cell_type": "markdown",
   "metadata": {},
   "source": [
    "Подготовим данные, получим обученные модели, предсказания и метрику RMSE на валидационной выборке и запишем это все в  переменные"
   ]
  },
  {
   "cell_type": "code",
   "execution_count": 20,
   "metadata": {},
   "outputs": [],
   "source": [
    "X_train_1, X_test_1, y_train_1, y_test_1, model_lr_1, predictions_1, rmse_score_1 = model(data_geo_1)\n",
    "X_train_2, X_test_2, y_train_2, y_test_2, model_lr_2, predictions_2, rmse_score_2 = model(data_geo_2)\n",
    "X_train_3, X_test_3, y_train_3, y_test_3, model_lr_3, predictions_3, rmse_score_3 = model(data_geo_3)"
   ]
  },
  {
   "cell_type": "markdown",
   "metadata": {},
   "source": [
    "Выведем на экран средний запас предсказанного сырья и метрику RMSE для всех моделей"
   ]
  },
  {
   "cell_type": "code",
   "execution_count": 21,
   "metadata": {},
   "outputs": [
    {
     "name": "stdout",
     "output_type": "stream",
     "text": [
      "Средний запас предсказанного сырья для модели 1 : 92.683, RMSE = 37.096\n",
      "Средний запас предсказанного сырья для модели 2 : 68.579, RMSE = 0.758\n",
      "Средний запас предсказанного сырья для модели 3 : 94.899, RMSE = 38.359\n"
     ]
    }
   ],
   "source": [
    "i=1\n",
    "for p,r in (predictions_1, rmse_score_1), (predictions_2, rmse_score_2), (predictions_3, rmse_score_3):\n",
    "    print(f'Средний запас предсказанного сырья для модели {i} : {round(p.mean(),3)}, RMSE = {round(r,3)}')\n",
    "    i += 1"
   ]
  },
  {
   "cell_type": "markdown",
   "metadata": {},
   "source": [
    "**При обучении моделей и получении прогнозных значений были получены следующие результаты:**\n",
    "- написана функция для подготовки данных, обучения моделей и получения итоговой метрики и прогнозных значений. Предсказания и правильные ответы сохранены в отдельные переменные. \n",
    "- как и предполагалось после исследовательского анализа, среднее количество предсказанного сырья и RMSE у первой и третьй модели очень схожи\n",
    "- вторая модель, которая обучалась на данных, где была сильная корреляция между входным признаком и целевым, показала лучшую метрику RMSE - 0.758, у первой и третьей модели метрика RMSE составляет 37.096 и 38.359 соответсвенно\n",
    "- Средний запас прогнозного сырья у первой и третьей модели сильно выше - 94.9, чем у второй модели - 68.579, что соответствует реальным статистикам, полученным из наборов данных"
   ]
  },
  {
   "cell_type": "markdown",
   "metadata": {},
   "source": [
    "Осталось проверить нашу модель на адекватность"
   ]
  },
  {
   "cell_type": "markdown",
   "metadata": {},
   "source": [
    "### Проверка модели на адекватность"
   ]
  },
  {
   "cell_type": "markdown",
   "metadata": {},
   "source": [
    "Осталось сравнить результаты, предсказанные с помощью наших моделей, с результатами модели `DummyRegressor()`. Эта модель использует несколько типов стратегий, мы остановимся на стандартном, когда всем прогнозным значениям присваивается среднее значение целевого признака"
   ]
  },
  {
   "cell_type": "markdown",
   "metadata": {},
   "source": [
    "Для начала выведем метрики нашей модели для каждого набора данных"
   ]
  },
  {
   "cell_type": "code",
   "execution_count": 22,
   "metadata": {},
   "outputs": [
    {
     "name": "stdout",
     "output_type": "stream",
     "text": [
      "RMSE для модели 1  = 37.096\n",
      "RMSE для модели 2  = 0.758\n",
      "RMSE для модели 3  = 38.359\n"
     ]
    }
   ],
   "source": [
    "i=1\n",
    "for r in (rmse_score_1, rmse_score_2, rmse_score_3):\n",
    "    print(f'RMSE для модели {i}  = {round(r,3)}')\n",
    "    i += 1"
   ]
  },
  {
   "cell_type": "markdown",
   "metadata": {},
   "source": [
    "Объявим константную модель, в качестве стратегии укажем `mean`. Обучим ее на каждой тренировочной выборке, получим прогноз валидационной выборки и сравним метрику RMSE у нее и у наших моделей."
   ]
  },
  {
   "cell_type": "code",
   "execution_count": 23,
   "metadata": {},
   "outputs": [
    {
     "name": "stdout",
     "output_type": "stream",
     "text": [
      "Метрика RMSE Dummy модели на валидационной выборке: 44.245\n",
      "Метрика RMSE Dummy модели на валидационной выборке: 45.965\n",
      "Метрика RMSE Dummy модели на валидационной выборке: 44.669\n"
     ]
    }
   ],
   "source": [
    "for X, x, Y, y in ((X_train_1, X_test_1, y_train_1, y_test_1),\n",
    "                    (X_train_2, X_test_2, y_train_2, y_test_2),\n",
    "                    (X_train_3, X_test_3, y_train_3, y_test_3)):\n",
    "    #объявляем модель и указываем тип стратегии\n",
    "    dummy_model_regression = DummyRegressor(strategy = 'mean').fit(X, Y)\n",
    "\n",
    "    #получаем прогнозные значения DummyRegressor()\n",
    "    dummy_regression_predict = dummy_model_regression.predict(x)\n",
    "    #считаем метрику RMSE и выводим ее\n",
    "    print(f'Метрика RMSE Dummy модели на валидационной выборке: {round(mean_squared_error(y, dummy_regression_predict, squared=False),3)}')"
   ]
  },
  {
   "cell_type": "markdown",
   "metadata": {},
   "source": [
    "**Наши модели справились с проверкой на адекватность, метрика RMSE на каждом наборе данных ниже, чем у константной модели DummyRegressor()**"
   ]
  },
  {
   "cell_type": "markdown",
   "metadata": {},
   "source": [
    "## Подготовка к расчету прибыли"
   ]
  },
  {
   "cell_type": "markdown",
   "metadata": {},
   "source": [
    "Все ключевые значения для расчётов сохранены в отдельных константных переменных"
   ]
  },
  {
   "cell_type": "markdown",
   "metadata": {},
   "source": [
    "Было указано: \"Количество месторождений зависит от бюджета компании и стоимости разработки одной скважины\". Так как у нас есть общий бюджет на разработку скважин в регионе - 10 млрд. рублей, а с помощью машинного обучения выбираются 200 лучших скважин для разработки, то получается бюджет на разработку одной скважины равен 50 млн. рублей. Странно, что не указана стоимость, затрачиваемая на разработку 1 скважины, которая является вторым условием для определения кол-ва месторождений, а уже сразу указано, что нужно отобрать 200 лучших скважин. Имея только общий бюджет на разработку всех скважин и кол-во лучших, которые нужно отобрать, мы можем получить только бюджет на разработку одной скважины и будем считать, что это и есть реальные затраты на ее разработку, но вот оценить достаточно ли этой величины для разработки 1 скважины в реальности не можем, так как у нас нет данных по затратам на разработку 1 скважины:"
   ]
  },
  {
   "cell_type": "code",
   "execution_count": 25,
   "metadata": {},
   "outputs": [
    {
     "name": "stdout",
     "output_type": "stream",
     "text": [
      "Бюджет на разработку 1 из 200 лучших скважин: 50000000.0 рублей\n"
     ]
    }
   ],
   "source": [
    "budget_per_unit = BUDGET / N_BEST\n",
    "print (f'Бюджет на разработку 1 из 200 лучших скважин: {budget_per_unit} рублей')"
   ]
  },
  {
   "cell_type": "markdown",
   "metadata": {},
   "source": [
    "В задании указано, что с одной единицы продукта доход составляет 450 тыс. рублей (здесь вместо прибыли указали именно доход), значит, разделим бюджет на разработку одной скважины на доход с 1 единицы продукта, таким образом узнаем, сколько минимально нужно сырья, для того, чтобы доход с одной скважины не был меньше бюджета, потраченного на ее разработку"
   ]
  },
  {
   "cell_type": "code",
   "execution_count": 26,
   "metadata": {},
   "outputs": [
    {
     "name": "stdout",
     "output_type": "stream",
     "text": [
      "Минимальное кол-во сырья в скважине для безубыточности: 111.1 тыс. баррелей\n"
     ]
    }
   ],
   "source": [
    "min_product_per_unit = budget_per_unit / REVENUE_PER_UNIT\n",
    "print (f'Минимальное кол-во сырья в скважине для безубыточности: {round(min_product_per_unit,1)} тыс. баррелей')"
   ]
  },
  {
   "cell_type": "markdown",
   "metadata": {},
   "source": [
    "Теперь сравним полученную величину сырья для безубыточности скважины со средними реальными значениями в каждом регионе среди всех скважин и среди 200 скважин, которые имеют самый большой запас сырья"
   ]
  },
  {
   "cell_type": "code",
   "execution_count": 27,
   "metadata": {},
   "outputs": [
    {
     "name": "stdout",
     "output_type": "stream",
     "text": [
      "Минимальное необходимое кол-во сырья в скважине для безубыточности: 111.1 тыс. баррелей\n",
      "\n",
      "Значения сырья среди всех скважин для региона data_geo_1:          \n",
      " Среднее значение: 92.5. тыс. баррелей          \n",
      " Медианное значение: 91.85. тыс. баррелей\n",
      "\n",
      "Значения сырья для 200 скважин с самым большим количеством сырья в регионе data_geo_1:          \n",
      " Среднее значение: 184.83. тыс. баррелей          \n",
      " Медианное значение: 184.8. тыс. баррелей\n",
      "\n",
      "Значения сырья среди всех скважин для региона data_geo_2:          \n",
      " Среднее значение: 68.82. тыс. баррелей          \n",
      " Медианное значение: 57.09. тыс. баррелей\n",
      "\n",
      "Значения сырья для 200 скважин с самым большим количеством сырья в регионе data_geo_2:          \n",
      " Среднее значение: 137.95. тыс. баррелей          \n",
      " Медианное значение: 137.95. тыс. баррелей\n",
      "\n",
      "Значения сырья среди всех скважин для региона data_geo_3:          \n",
      " Среднее значение: 95.0. тыс. баррелей          \n",
      " Медианное значение: 94.93. тыс. баррелей\n",
      "\n",
      "Значения сырья для 200 скважин с самым большим количеством сырья в регионе data_geo_3:          \n",
      " Среднее значение: 189.55. тыс. баррелей          \n",
      " Медианное значение: 189.56. тыс. баррелей\n",
      "\n"
     ]
    }
   ],
   "source": [
    "print (f'Минимальное необходимое кол-во сырья в скважине для безубыточности: {round(min_product_per_unit,1)} тыс. баррелей\\n')\n",
    "\n",
    "for name, d in dataframes.items():\n",
    "    print(f'Значения сырья среди всех скважин для региона {name:}:\\\n",
    "          \\n Среднее значение: {round(d[\"product\"].mean(),2)}. тыс. баррелей\\\n",
    "          \\n Медианное значение: {round(d[\"product\"].median(),2)}. тыс. баррелей\\n')\n",
    "    \n",
    "    print(f'Значения сырья для 200 скважин с самым большим количеством сырья в регионе {name:}:\\\n",
    "          \\n Среднее значение: {round(d[\"product\"].sort_values(ascending = False)[:N_BEST].mean(),2)}. тыс. баррелей\\\n",
    "          \\n Медианное значение: {round(d[\"product\"].sort_values(ascending = False)[:N_BEST].median(),2)}. тыс. баррелей\\n')"
   ]
  },
  {
   "cell_type": "markdown",
   "metadata": {},
   "source": [
    "*Из результатов видно, что минимальное кол-во сырья в одной скважине, необходимое для безубыточности, намного больше, чем среднее кол-во сырья во всех скважинах в каждом регионе, но в то же время, конечно, намного меньше величины сырья в 200 скважинах в каждом регионе с самым большим количеством сырья*"
   ]
  },
  {
   "cell_type": "markdown",
   "metadata": {},
   "source": [
    "**На этапе подготовки к расчету прибыли было сделано следующее:**\n",
    "- все ключевые значения для расчётов сохранены в отдельных переменных\n",
    "- получено значение выделяемого бюджета на разработку одной скважины\n",
    "- получено значение минимального кол-ва сырья в одной скважине для ее безубыточности\n",
    "- минимальное кол-во сырья с одной скважины, необходимое для безубыточности, намного больше, чем среднее кол-во сырья со всех скважин в каждом регионе"
   ]
  },
  {
   "cell_type": "markdown",
   "metadata": {},
   "source": [
    "## Написание функции для расчета прибыли"
   ]
  },
  {
   "cell_type": "markdown",
   "metadata": {},
   "source": [
    "Напишем функцию для расчёта прибыли по выбранным лучшим скважинам и предсказаниям модели"
   ]
  },
  {
   "cell_type": "code",
   "execution_count": 28,
   "metadata": {},
   "outputs": [],
   "source": [
    "def revenue(real, predictions, count):\n",
    "    \n",
    "    \"\"\"Функция для расчета прибыли\n",
    "    \n",
    "    Передаваемые аргументы:\n",
    "    real - реальные значения сырья в скважине (тыс. баррелей)\n",
    "    predictions - предсказанные значения величины сырья в скважине моделью (тыс. баррелей)\n",
    "    count - количество лучших скважин, которые необходимо отобрать\n",
    "    \n",
    "    \"\"\"\n",
    "    \"\"\"сортируем скважины от максимального предсказания величины сырья к минимальному\"\"\"\n",
    "    predict_sorted = predictions.sort_values(ascending=False)\n",
    "    \n",
    "    \"\"\"выбираем реальные значения сырья для выбранных моделью скважин и отбираем лучшие, кол-во которых задано переменной count\"\"\"\n",
    "    selected_product = real[predict_sorted.index][:count]\n",
    "    \n",
    "    \"\"\"суммируем реальную общую величину сырья в лучших скважинах, умножаем на доход с одной единицы сырья, \n",
    "    так как мы считаем сразу прибыль, то вычитаем бюджет на создание скважин\"\"\"\n",
    "    return REVENUE_PER_UNIT * selected_product.sum() - BUDGET"
   ]
  },
  {
   "cell_type": "markdown",
   "metadata": {},
   "source": [
    "**Получили функцию для расчета прибыли**"
   ]
  },
  {
   "cell_type": "markdown",
   "metadata": {},
   "source": [
    "## Расчёт прибыли и рисков "
   ]
  },
  {
   "cell_type": "markdown",
   "metadata": {},
   "source": [
    "Применим технику Bootstrap с 1000 выборок, чтобы найти распределение прибыли. Так как при разведке региона исследуют 500 точек (`N_INVEST`) для выбора из них лучших 200 (`N_BEST = 200`), то каждая наша подвыборка из 1000 будет состоять из 500 случайных скважин в регионе."
   ]
  },
  {
   "cell_type": "code",
   "execution_count": 29,
   "metadata": {},
   "outputs": [
    {
     "name": "stdout",
     "output_type": "stream",
     "text": [
      "\n",
      "Итоговые результаты для месторождения: Первый регион\n",
      "Средняя прибыль: 497.97 млн. рублей,\n",
      "95% доверительный интервал для прибыли: от -31.2 млн. рублей до 1018.51 млн. рублей\n",
      "Риск убытков: 4.00%\n",
      "\n",
      "Итоговые результаты для месторождения: Второй регион\n",
      "Средняя прибыль: 498.69 млн. рублей,\n",
      "95% доверительный интервал для прибыли: от 72.38 млн. рублей до 935.74 млн. рублей\n",
      "Риск убытков: 1.00%\n",
      "\n",
      "Итоговые результаты для месторождения: Третий регион\n",
      "Средняя прибыль: 665.1 млн. рублей,\n",
      "95% доверительный интервал для прибыли: от 97.45 млн. рублей до 1170.24 млн. рублей\n",
      "Риск убытков: 1.10%\n"
     ]
    }
   ],
   "source": [
    "#задаем переменную для того, чтобы наша случайная последовательность в выборке на каждом этапе из 1000 итераций была не случайна\n",
    "state = np.random.RandomState(RANDOM_STATE)\n",
    "\n",
    "#создаем пустые списки для наполнения их значениями прибыли из 500 случайных скважин на каждом этапе из 1000 итераций повторения \n",
    "values_1 = []\n",
    "values_2 = []\n",
    "values_3 = []\n",
    "for p, y, v, n in ((predictions_1,y_test_1,values_1,'Первый регион'), \n",
    "                    (predictions_2,y_test_2,values_2,'Второй регион'), \n",
    "                    (predictions_3,y_test_3,values_3,'Третий регион')):\n",
    "    for i in range(1000):\n",
    "        #для соответствия по индексам предсказаний и реальных значений обновим индексы в y_test и превратим предсказания в объект Series()\n",
    "        y = y.reset_index(drop=True)\n",
    "        p = pd.Series(p)\n",
    "        \n",
    "        #создаем подвыборку из 500 элементов из общего кол-ва скважин в регионе, для повторной входимости элементов указываем параметр replace=True\n",
    "        sub_real = y.sample(n = N_INVEST, random_state=state,replace=True)\n",
    "        \n",
    "        #находим по индексам предсказанные значения из индексов реальных скважинам\n",
    "        sub_predictions =  p[sub_real.index]\n",
    "        \n",
    "        #вызываем функцию для подсчета прибыли и добавляем значение прибыли на каждом шаге из 1000 итераций\n",
    "        v.append(revenue(sub_real,sub_predictions,N_BEST))\n",
    "\n",
    "    #для подсчета квантилей и средних преобразуем массив в объект Series()\n",
    "    v = pd.Series(v)\n",
    "    \n",
    "    #считаем нижнюю границу для 95% доверительного интервала прибыли (0.025 квантиль)\n",
    "    lower = v.quantile(0.025)\n",
    "    \n",
    "    #считаем верхнюю границу для 95% доверительного интервала прибыли (0.975 квантиль)\n",
    "    upper = v.quantile(0.975)\n",
    "    \n",
    "    #выводим итоговые характеристики\n",
    "    print(f\"\\nИтоговые результаты для месторождения: {n}\")\n",
    "    \n",
    "    #зададим константу для уменьшения порядка итогового числа\n",
    "    million = 1000000\n",
    "    \n",
    "    #разделим каждую величиную на million для удобства визуального восприятия и отображения чисел в млн.\n",
    "    print(f\"Средняя прибыль: {round(v.mean()/million,2)} млн. рублей,\")\n",
    "    print(f\"95% доверительный интервал для прибыли: от {round(lower/million,2)} млн. рублей до {round(upper/million,2)} млн. рублей\")\n",
    "    \n",
    "    #считаем риск убытков: берем количество отрицательных значений прибыли из нашей выборки, делим на длину выборки и переводим в проценты\n",
    "    print(f\"Риск убытков: {((v<0).sum()/len(v)):.2%}\")"
   ]
  },
  {
   "cell_type": "markdown",
   "metadata": {},
   "source": [
    "**На этапе расчета прибыли и рисков по итогам проведенной процедуры Bootstrap были получены следующие результаты и сделаны следующие выводы:**\n",
    "\n",
    "- у первой локации получился самый высокий процент риска убытков - 4.0%. Также величина средней прибыли меньше, чем у третьего региона, где риск убытков меньше на 2.9%, поэтому этот регион не рассматривается в качестве лучшего региона для разработки скважин\n",
    "- хоть у второго региона риск убытков на 0.1% меньше, чем у третьего, но зато у него среднее значение прибыли почти на 167 млн меньше, чем у третьего региона, поэтому он также не подходит в качестве лучшего региона для добычи сырья\n",
    "- третий регион имеет низкую величину риска убытков в 1.1% и подходит под наше условие (риск убытков должен быть менее 2.5%), также имеет самую высокую величину средней прибыли - 655.1 млн. рублей. Третий регион больше остальных подходит в качестве региона для разработки скважин "
   ]
  },
  {
   "cell_type": "markdown",
   "metadata": {},
   "source": [
    "## Итоговые выводы"
   ]
  },
  {
   "cell_type": "markdown",
   "metadata": {},
   "source": [
    "**В результате исследования были получены следующие результаты:**\n",
    "\n",
    "**На этапе предобработки данных были выполнены следующие действия и получены следующие результаты:**\n",
    "- между буквенной и числовой частью в наименованиях столбцов добавлено нижнее подчеркивание. Столбцы приведены к змеиному регистру, лишних пробелов не обнаружено.\n",
    "- датафреймы проверены на наличие явных пропусков\n",
    "- в рассматриваемых датасетах отсутствуют аномальные значения\n",
    "- типы данных столбцов соответствуют значениям в них\n",
    "- при проверке датасетов явных дубликатов обнаружено не было, но были обнаружены неявные дубликаты в столбце с `id`, значения в котором должны быть уникальными. Неявные дубликаты удалены. Также дополнительно проверили, что неявные дубликаты не появятся, когда мы разделим датасеты на входные и целевой признаки: после удаления столбца `id`, но до удаления целевого признака `product` перед обучением модели.\n",
    "\n",
    "**На этапе исследовательского анализа были получены следующие результаты:**\n",
    "- средние значения объема сырья и других входных признаков схожи между собой у `data_geo_1` и `data_geo_3`.\n",
    "- в датафрейме `data_geo_2` самые низкие показатели сырья\n",
    "- только часть графиков показывает выраженное нормальное распределение\n",
    "- в `data_geo_2` графики `f_2` и `product` очень схожи, между ними возможно сильная неллинейная связь, проверим в дальнейшем. Их распределения больше похожи на распределения дискретных величин, хоть таковыми они и не являются\n",
    "- у `data_geo_3` все входные признаки распределены нормально\n",
    "- графики распределений `product` у первой и третьей локации схожи\n",
    "\n",
    "**На этапе корреляционного анализа полученные матрицы корреляции показали:**\n",
    " - в датасете `data_geo_1` высокая корреляция между входными признаками `f_0` и `f_1`. Между целевым признаком и входными самая высокая корреляция с признаком `f_2` - 0.48\n",
    " - в датасете `data_geo_2` высокая корреляция между входным признаком `f_2` и `product` - 0.98, что должно улучшить обучение линейной модели на этом датасете\n",
    " - в датасете `data_geo_3` самая высокая корреляция между целевым признаком и входными `f_2` - 0.44\n",
    " - между входными признаками мультиколлинеарности не обнаружено\n",
    " \n",
    "**На этапе обучения моделей и получении прогнозных значений были получены следующие результаты:**\n",
    "- написана функция для подготовки данных, обучения моделей и получения итоговой метрики и прогнозных значений. Предсказания и правильные ответы сохранены в отдельные переменные.\n",
    "- как и предполагалось после исследовательского анализа, среднее количество предсказанного сырья и RMSE у первой и третьй модели очень схожи\n",
    "- вторая модель, которая обучалась на данных, где была сильная корреляция между входным признаком и целевым, показала лучшую метрику RMSE - 0.758, у первой и третьей модели метрика RMSE составляет 37.096 и 38.359 соответственно\n",
    "- Средний запас прогнозного сырья у первой и третьей модели сильно выше - 94.9, чем у второй модели - 68.579, что соответствует реальным статистикам, полученным из наборов данных\n",
    "- также наши модели справились с проверкой на адекватность, метрика RMSE на каждом наборе данных ниже, чем у константной модели DummyRegressor()\n",
    "\n",
    "**На этапе подготовки к расчету прибыли было сделано следующее:**\n",
    "- все ключевые значения для расчётов сохранены в отдельных переменных\n",
    "- получено значение выделяемого бюджета на разработку одной скважины\n",
    "- получено значение минимального кол-ва сырья в одной скважине для ее безубыточности\n",
    "- минимальное кол-во сырья с одной скважины, необходимое для безубыточности, намного больше, чем среднее кол-во сырья со всех скважин в каждом регионе\n",
    "- также была получена функция для расчета прибыли\n",
    "\n",
    "**На этапе расчета прибыли и рисков по итогам проведенной процедуры Bootstrap были получены следующие результаты и сделаны следующие выводы:**\n",
    "\n",
    "- у первой локации получился самый высокий процент риска убытков - 4.0%. Также величина средней прибыли меньше, чем у третьего региона, где риск убытков меньше на 2.9%, поэтому этот регион не рассматривается в качестве лучшего региона для разработки скважин\n",
    "- хоть у второго региона риск убытков на 0.1% меньше, чем у третьего, но зато у него среднее значение прибыли почти на 167 млн меньше, чем у третьего региона, поэтому он также не подходит в качестве лучшего региона для добычи сырья\n",
    "- третий регион имеет низкую величину риска убытков в 1.1% и подходит под наше условие (риск убытков должен быть менее 2.5%), также имеет самую высокую величину средней прибыли - 655.1 млн. рублей. Третий регион больше остальных подходит в качестве региона для разработки скважин "
   ]
  },
  {
   "cell_type": "code",
   "execution_count": null,
   "metadata": {},
   "outputs": [],
   "source": []
  }
 ],
 "metadata": {
  "ExecuteTimeLog": [
   {
    "duration": 5011,
    "start_time": "2025-01-29T16:18:05.007Z"
   },
   {
    "duration": 1684,
    "start_time": "2025-01-29T16:18:10.020Z"
   },
   {
    "duration": 503,
    "start_time": "2025-01-29T16:18:11.706Z"
   },
   {
    "duration": 14,
    "start_time": "2025-01-29T16:18:12.211Z"
   },
   {
    "duration": 5,
    "start_time": "2025-01-29T16:18:31.402Z"
   },
   {
    "duration": 23,
    "start_time": "2025-01-29T16:19:03.721Z"
   },
   {
    "duration": 114,
    "start_time": "2025-01-29T16:19:35.154Z"
   },
   {
    "duration": 28,
    "start_time": "2025-01-29T16:19:58.202Z"
   },
   {
    "duration": 38,
    "start_time": "2025-01-29T16:20:35.419Z"
   },
   {
    "duration": 150,
    "start_time": "2025-01-29T16:21:04.628Z"
   },
   {
    "duration": 43,
    "start_time": "2025-01-29T16:21:21.118Z"
   },
   {
    "duration": 214,
    "start_time": "2025-01-29T16:21:34.729Z"
   },
   {
    "duration": 90,
    "start_time": "2025-01-29T16:21:51.027Z"
   },
   {
    "duration": 13,
    "start_time": "2025-01-29T16:22:08.288Z"
   },
   {
    "duration": 13,
    "start_time": "2025-01-29T16:24:34.361Z"
   },
   {
    "duration": 38,
    "start_time": "2025-01-29T16:25:02.480Z"
   },
   {
    "duration": 86,
    "start_time": "2025-01-29T16:27:00.380Z"
   },
   {
    "duration": 93,
    "start_time": "2025-01-29T16:27:08.586Z"
   },
   {
    "duration": 2425,
    "start_time": "2025-01-29T16:50:33.772Z"
   },
   {
    "duration": 1529,
    "start_time": "2025-01-29T16:50:36.200Z"
   },
   {
    "duration": 485,
    "start_time": "2025-01-29T16:50:37.731Z"
   },
   {
    "duration": 7,
    "start_time": "2025-01-29T16:50:38.218Z"
   },
   {
    "duration": 6,
    "start_time": "2025-01-29T16:50:38.228Z"
   },
   {
    "duration": 38,
    "start_time": "2025-01-29T16:50:38.236Z"
   },
   {
    "duration": 148,
    "start_time": "2025-01-29T16:50:38.277Z"
   },
   {
    "duration": 10,
    "start_time": "2025-01-29T16:50:38.427Z"
   },
   {
    "duration": 58,
    "start_time": "2025-01-29T16:50:38.438Z"
   },
   {
    "duration": 140,
    "start_time": "2025-01-29T16:50:38.497Z"
   },
   {
    "duration": 41,
    "start_time": "2025-01-29T16:50:38.639Z"
   },
   {
    "duration": 219,
    "start_time": "2025-01-29T16:50:38.702Z"
   },
   {
    "duration": 107,
    "start_time": "2025-01-29T16:50:38.922Z"
   },
   {
    "duration": 97,
    "start_time": "2025-01-29T16:50:39.032Z"
   },
   {
    "duration": 79,
    "start_time": "2025-01-29T16:50:39.131Z"
   },
   {
    "duration": 118,
    "start_time": "2025-01-29T17:03:50.048Z"
   },
   {
    "duration": 2433,
    "start_time": "2025-01-29T17:26:33.873Z"
   },
   {
    "duration": 3107,
    "start_time": "2025-01-29T17:28:41.347Z"
   },
   {
    "duration": 6,
    "start_time": "2025-01-29T17:30:39.091Z"
   },
   {
    "duration": 8,
    "start_time": "2025-01-29T17:30:54.582Z"
   },
   {
    "duration": 11,
    "start_time": "2025-01-29T17:31:00.293Z"
   },
   {
    "duration": 3123,
    "start_time": "2025-01-29T17:34:49.138Z"
   },
   {
    "duration": 101,
    "start_time": "2025-01-29T18:01:12.786Z"
   },
   {
    "duration": 2679,
    "start_time": "2025-01-29T18:01:24.853Z"
   },
   {
    "duration": 2671,
    "start_time": "2025-01-29T18:01:46.063Z"
   },
   {
    "duration": 2918,
    "start_time": "2025-01-29T18:02:28.393Z"
   },
   {
    "duration": 406,
    "start_time": "2025-01-29T18:03:13.749Z"
   },
   {
    "duration": 2789,
    "start_time": "2025-01-29T18:03:25.109Z"
   },
   {
    "duration": 2667,
    "start_time": "2025-01-29T18:03:37.301Z"
   },
   {
    "duration": 2693,
    "start_time": "2025-01-29T18:04:02.522Z"
   },
   {
    "duration": 83,
    "start_time": "2025-01-29T18:23:40.027Z"
   },
   {
    "duration": 79,
    "start_time": "2025-01-29T18:31:59.961Z"
   },
   {
    "duration": 1031,
    "start_time": "2025-01-29T18:32:57.396Z"
   },
   {
    "duration": 710,
    "start_time": "2025-01-29T18:37:50.136Z"
   },
   {
    "duration": 1843,
    "start_time": "2025-01-29T18:38:22.225Z"
   },
   {
    "duration": 1773,
    "start_time": "2025-01-29T18:38:38.058Z"
   },
   {
    "duration": 1956,
    "start_time": "2025-01-29T18:45:18.172Z"
   },
   {
    "duration": 609,
    "start_time": "2025-01-29T18:45:28.469Z"
   },
   {
    "duration": 1798,
    "start_time": "2025-01-29T18:45:35.536Z"
   },
   {
    "duration": 2008,
    "start_time": "2025-01-29T18:45:44.396Z"
   },
   {
    "duration": 1879,
    "start_time": "2025-01-29T18:46:05.554Z"
   },
   {
    "duration": 12,
    "start_time": "2025-01-29T19:12:05.713Z"
   },
   {
    "duration": 26,
    "start_time": "2025-01-29T19:12:14.890Z"
   },
   {
    "duration": 13,
    "start_time": "2025-01-29T19:14:08.208Z"
   },
   {
    "duration": 3,
    "start_time": "2025-01-29T19:21:13.278Z"
   },
   {
    "duration": 4,
    "start_time": "2025-01-29T19:23:26.004Z"
   },
   {
    "duration": 4,
    "start_time": "2025-01-29T19:31:47.085Z"
   },
   {
    "duration": 4,
    "start_time": "2025-01-29T19:33:50.919Z"
   },
   {
    "duration": 12,
    "start_time": "2025-01-29T19:35:13.502Z"
   },
   {
    "duration": 11,
    "start_time": "2025-01-29T19:35:20.264Z"
   },
   {
    "duration": 20,
    "start_time": "2025-01-29T19:36:12.877Z"
   },
   {
    "duration": 10,
    "start_time": "2025-01-29T19:36:14.861Z"
   },
   {
    "duration": 10,
    "start_time": "2025-01-29T19:36:29.496Z"
   },
   {
    "duration": 10,
    "start_time": "2025-01-29T19:38:06.460Z"
   },
   {
    "duration": 5,
    "start_time": "2025-01-29T19:38:33.004Z"
   },
   {
    "duration": 4,
    "start_time": "2025-01-29T19:38:37.599Z"
   },
   {
    "duration": 48,
    "start_time": "2025-01-29T19:41:26.851Z"
   },
   {
    "duration": 54,
    "start_time": "2025-01-29T19:42:53.595Z"
   },
   {
    "duration": 45,
    "start_time": "2025-01-29T19:42:54.262Z"
   },
   {
    "duration": 8,
    "start_time": "2025-01-29T19:42:56.098Z"
   },
   {
    "duration": 7,
    "start_time": "2025-01-29T19:44:39.048Z"
   },
   {
    "duration": 6,
    "start_time": "2025-01-29T19:45:13.081Z"
   },
   {
    "duration": 4,
    "start_time": "2025-01-29T19:49:19.758Z"
   },
   {
    "duration": 25,
    "start_time": "2025-01-29T19:49:29.082Z"
   },
   {
    "duration": 7,
    "start_time": "2025-01-29T19:49:31.418Z"
   },
   {
    "duration": 5,
    "start_time": "2025-01-29T19:49:54.911Z"
   },
   {
    "duration": 141,
    "start_time": "2025-01-29T19:49:58.014Z"
   },
   {
    "duration": 377,
    "start_time": "2025-01-29T19:49:59.932Z"
   },
   {
    "duration": 7,
    "start_time": "2025-01-29T19:50:03.266Z"
   },
   {
    "duration": 4557,
    "start_time": "2025-01-30T17:10:12.892Z"
   },
   {
    "duration": 1741,
    "start_time": "2025-01-30T17:10:17.454Z"
   },
   {
    "duration": 2,
    "start_time": "2025-01-30T17:10:19.197Z"
   },
   {
    "duration": 452,
    "start_time": "2025-01-30T17:10:19.200Z"
   },
   {
    "duration": 6,
    "start_time": "2025-01-30T17:10:19.654Z"
   },
   {
    "duration": 5,
    "start_time": "2025-01-30T17:10:19.662Z"
   },
   {
    "duration": 22,
    "start_time": "2025-01-30T17:10:19.668Z"
   },
   {
    "duration": 126,
    "start_time": "2025-01-30T17:10:19.691Z"
   },
   {
    "duration": 9,
    "start_time": "2025-01-30T17:10:19.819Z"
   },
   {
    "duration": 52,
    "start_time": "2025-01-30T17:10:19.829Z"
   },
   {
    "duration": 151,
    "start_time": "2025-01-30T17:10:19.883Z"
   },
   {
    "duration": 51,
    "start_time": "2025-01-30T17:10:20.035Z"
   },
   {
    "duration": 223,
    "start_time": "2025-01-30T17:10:20.088Z"
   },
   {
    "duration": 94,
    "start_time": "2025-01-30T17:10:20.313Z"
   },
   {
    "duration": 84,
    "start_time": "2025-01-30T17:10:20.409Z"
   },
   {
    "duration": 126,
    "start_time": "2025-01-30T17:10:20.495Z"
   },
   {
    "duration": 2531,
    "start_time": "2025-01-30T17:10:20.623Z"
   },
   {
    "duration": 1920,
    "start_time": "2025-01-30T17:10:23.155Z"
   },
   {
    "duration": 128,
    "start_time": "2025-01-30T17:10:25.077Z"
   },
   {
    "duration": 0,
    "start_time": "2025-01-30T17:10:25.207Z"
   },
   {
    "duration": 0,
    "start_time": "2025-01-30T17:10:25.208Z"
   },
   {
    "duration": 0,
    "start_time": "2025-01-30T17:10:25.209Z"
   },
   {
    "duration": 0,
    "start_time": "2025-01-30T17:10:25.210Z"
   },
   {
    "duration": 0,
    "start_time": "2025-01-30T17:10:25.212Z"
   },
   {
    "duration": 0,
    "start_time": "2025-01-30T17:10:25.212Z"
   },
   {
    "duration": 4,
    "start_time": "2025-01-30T17:18:20.652Z"
   },
   {
    "duration": 43,
    "start_time": "2025-01-30T17:18:22.562Z"
   },
   {
    "duration": 217,
    "start_time": "2025-01-30T17:18:23.341Z"
   },
   {
    "duration": 6,
    "start_time": "2025-01-30T17:18:24.387Z"
   },
   {
    "duration": 4,
    "start_time": "2025-01-30T17:18:30.278Z"
   },
   {
    "duration": 138,
    "start_time": "2025-01-30T17:18:32.719Z"
   },
   {
    "duration": 7,
    "start_time": "2025-01-30T17:18:35.306Z"
   },
   {
    "duration": 4,
    "start_time": "2025-01-30T17:18:43.177Z"
   },
   {
    "duration": 115,
    "start_time": "2025-01-30T17:18:50.542Z"
   },
   {
    "duration": 402,
    "start_time": "2025-01-30T17:18:56.054Z"
   },
   {
    "duration": 5,
    "start_time": "2025-01-30T17:18:58.890Z"
   },
   {
    "duration": 4,
    "start_time": "2025-01-30T17:19:54.410Z"
   },
   {
    "duration": 196,
    "start_time": "2025-01-30T17:19:57.675Z"
   },
   {
    "duration": 570,
    "start_time": "2025-01-30T17:19:58.887Z"
   },
   {
    "duration": 6,
    "start_time": "2025-01-30T17:20:03.198Z"
   },
   {
    "duration": 4,
    "start_time": "2025-01-30T17:21:13.237Z"
   },
   {
    "duration": 547,
    "start_time": "2025-01-30T17:21:16.117Z"
   },
   {
    "duration": 2349,
    "start_time": "2025-01-30T17:21:17.905Z"
   },
   {
    "duration": 6,
    "start_time": "2025-01-30T17:21:32.412Z"
   },
   {
    "duration": 4,
    "start_time": "2025-01-30T17:33:31.140Z"
   },
   {
    "duration": 3004,
    "start_time": "2025-01-30T17:34:39.853Z"
   },
   {
    "duration": 5,
    "start_time": "2025-01-30T17:34:44.822Z"
   },
   {
    "duration": 2709,
    "start_time": "2025-01-30T17:34:47.439Z"
   },
   {
    "duration": 5,
    "start_time": "2025-01-30T18:28:11.205Z"
   },
   {
    "duration": 8875,
    "start_time": "2025-01-30T18:28:14.375Z"
   },
   {
    "duration": 5,
    "start_time": "2025-01-30T18:28:46.452Z"
   },
   {
    "duration": 9037,
    "start_time": "2025-01-30T18:28:47.113Z"
   },
   {
    "duration": 5,
    "start_time": "2025-01-30T18:29:34.082Z"
   },
   {
    "duration": 8776,
    "start_time": "2025-01-30T18:29:34.980Z"
   },
   {
    "duration": 140,
    "start_time": "2025-01-30T18:30:39.865Z"
   },
   {
    "duration": 5,
    "start_time": "2025-01-30T18:30:50.949Z"
   },
   {
    "duration": 8244,
    "start_time": "2025-01-30T18:30:52.612Z"
   },
   {
    "duration": 5,
    "start_time": "2025-01-30T18:33:23.065Z"
   },
   {
    "duration": 8943,
    "start_time": "2025-01-30T18:33:25.007Z"
   },
   {
    "duration": 6,
    "start_time": "2025-01-30T18:34:32.554Z"
   },
   {
    "duration": 9004,
    "start_time": "2025-01-30T18:34:33.546Z"
   },
   {
    "duration": 5,
    "start_time": "2025-01-30T18:35:15.654Z"
   },
   {
    "duration": 2077,
    "start_time": "2025-01-30T18:35:16.572Z"
   },
   {
    "duration": 5,
    "start_time": "2025-01-30T18:35:34.440Z"
   },
   {
    "duration": 1877,
    "start_time": "2025-01-30T18:35:35.175Z"
   },
   {
    "duration": 4,
    "start_time": "2025-01-30T18:41:19.062Z"
   },
   {
    "duration": 3275,
    "start_time": "2025-01-30T18:41:22.573Z"
   },
   {
    "duration": 6,
    "start_time": "2025-01-30T18:42:29.548Z"
   },
   {
    "duration": 3023,
    "start_time": "2025-01-30T18:42:30.728Z"
   },
   {
    "duration": 132,
    "start_time": "2025-01-30T18:48:20.127Z"
   },
   {
    "duration": 4,
    "start_time": "2025-01-30T18:50:03.022Z"
   },
   {
    "duration": 3,
    "start_time": "2025-01-30T18:50:28.836Z"
   },
   {
    "duration": 4,
    "start_time": "2025-01-30T18:50:36.969Z"
   },
   {
    "duration": 8,
    "start_time": "2025-02-01T05:18:07.796Z"
   },
   {
    "duration": 3,
    "start_time": "2025-02-01T05:18:36.597Z"
   },
   {
    "duration": 4,
    "start_time": "2025-02-01T05:18:55.312Z"
   },
   {
    "duration": 4,
    "start_time": "2025-02-01T05:19:43.755Z"
   },
   {
    "duration": 67,
    "start_time": "2025-02-01T05:20:17.705Z"
   },
   {
    "duration": 8929,
    "start_time": "2025-02-01T05:20:58.857Z"
   },
   {
    "duration": 10086,
    "start_time": "2025-02-01T05:21:07.789Z"
   },
   {
    "duration": 2,
    "start_time": "2025-02-01T05:21:17.877Z"
   },
   {
    "duration": 490,
    "start_time": "2025-02-01T05:21:17.881Z"
   },
   {
    "duration": 6,
    "start_time": "2025-02-01T05:21:18.373Z"
   },
   {
    "duration": 8,
    "start_time": "2025-02-01T05:21:18.380Z"
   },
   {
    "duration": 52,
    "start_time": "2025-02-01T05:21:18.390Z"
   },
   {
    "duration": 140,
    "start_time": "2025-02-01T05:21:18.444Z"
   },
   {
    "duration": 11,
    "start_time": "2025-02-01T05:21:18.586Z"
   },
   {
    "duration": 67,
    "start_time": "2025-02-01T05:21:18.600Z"
   },
   {
    "duration": 179,
    "start_time": "2025-02-01T05:21:18.669Z"
   },
   {
    "duration": 47,
    "start_time": "2025-02-01T05:21:18.850Z"
   },
   {
    "duration": 275,
    "start_time": "2025-02-01T05:21:18.899Z"
   },
   {
    "duration": 100,
    "start_time": "2025-02-01T05:21:19.176Z"
   },
   {
    "duration": 102,
    "start_time": "2025-02-01T05:21:19.278Z"
   },
   {
    "duration": 132,
    "start_time": "2025-02-01T05:21:19.382Z"
   },
   {
    "duration": 2847,
    "start_time": "2025-02-01T05:21:19.516Z"
   },
   {
    "duration": 2159,
    "start_time": "2025-02-01T05:21:22.365Z"
   },
   {
    "duration": 5,
    "start_time": "2025-02-01T05:21:24.527Z"
   },
   {
    "duration": 3900,
    "start_time": "2025-02-01T05:21:24.535Z"
   },
   {
    "duration": 96,
    "start_time": "2025-02-01T05:21:28.438Z"
   },
   {
    "duration": 4,
    "start_time": "2025-02-01T05:21:28.536Z"
   },
   {
    "duration": 5,
    "start_time": "2025-02-01T05:21:28.542Z"
   },
   {
    "duration": 3,
    "start_time": "2025-02-01T05:21:28.634Z"
   },
   {
    "duration": 8,
    "start_time": "2025-02-01T05:21:28.639Z"
   },
   {
    "duration": 1711,
    "start_time": "2025-02-01T05:21:28.649Z"
   },
   {
    "duration": 4574,
    "start_time": "2025-02-01T05:21:55.437Z"
   },
   {
    "duration": 4,
    "start_time": "2025-02-01T05:23:54.592Z"
   },
   {
    "duration": 5,
    "start_time": "2025-02-01T05:28:44.206Z"
   },
   {
    "duration": 7,
    "start_time": "2025-02-01T05:29:04.091Z"
   },
   {
    "duration": 3,
    "start_time": "2025-02-01T05:33:09.695Z"
   },
   {
    "duration": 10652,
    "start_time": "2025-02-01T05:40:09.904Z"
   },
   {
    "duration": 16,
    "start_time": "2025-02-01T05:40:28.453Z"
   },
   {
    "duration": 9,
    "start_time": "2025-02-01T05:40:50.012Z"
   },
   {
    "duration": 8,
    "start_time": "2025-02-01T05:41:58.090Z"
   },
   {
    "duration": 8,
    "start_time": "2025-02-01T05:42:05.254Z"
   },
   {
    "duration": 11,
    "start_time": "2025-02-01T05:42:27.736Z"
   },
   {
    "duration": 8,
    "start_time": "2025-02-01T05:42:37.170Z"
   },
   {
    "duration": 7,
    "start_time": "2025-02-01T05:42:46.074Z"
   },
   {
    "duration": 10,
    "start_time": "2025-02-01T05:42:50.466Z"
   },
   {
    "duration": 8,
    "start_time": "2025-02-01T05:43:05.633Z"
   },
   {
    "duration": 7,
    "start_time": "2025-02-01T05:43:53.438Z"
   },
   {
    "duration": 4758,
    "start_time": "2025-02-01T07:37:02.575Z"
   },
   {
    "duration": 4816,
    "start_time": "2025-02-01T07:37:30.798Z"
   },
   {
    "duration": 4805,
    "start_time": "2025-02-01T07:37:44.383Z"
   },
   {
    "duration": 4905,
    "start_time": "2025-02-01T07:38:08.820Z"
   },
   {
    "duration": 4639,
    "start_time": "2025-02-01T07:40:39.023Z"
   },
   {
    "duration": 4750,
    "start_time": "2025-02-01T07:47:02.542Z"
   },
   {
    "duration": 4817,
    "start_time": "2025-02-01T08:02:59.600Z"
   },
   {
    "duration": 18414,
    "start_time": "2025-02-01T08:03:04.419Z"
   },
   {
    "duration": 3,
    "start_time": "2025-02-01T08:03:22.835Z"
   },
   {
    "duration": 509,
    "start_time": "2025-02-01T08:03:22.839Z"
   },
   {
    "duration": 7,
    "start_time": "2025-02-01T08:03:23.350Z"
   },
   {
    "duration": 5,
    "start_time": "2025-02-01T08:03:23.359Z"
   },
   {
    "duration": 29,
    "start_time": "2025-02-01T08:03:23.365Z"
   },
   {
    "duration": 152,
    "start_time": "2025-02-01T08:03:23.396Z"
   },
   {
    "duration": 9,
    "start_time": "2025-02-01T08:03:23.550Z"
   },
   {
    "duration": 38,
    "start_time": "2025-02-01T08:03:23.561Z"
   },
   {
    "duration": 183,
    "start_time": "2025-02-01T08:03:23.601Z"
   },
   {
    "duration": 61,
    "start_time": "2025-02-01T08:03:23.785Z"
   },
   {
    "duration": 251,
    "start_time": "2025-02-01T08:03:23.848Z"
   },
   {
    "duration": 116,
    "start_time": "2025-02-01T08:03:24.102Z"
   },
   {
    "duration": 89,
    "start_time": "2025-02-01T08:03:24.219Z"
   },
   {
    "duration": 149,
    "start_time": "2025-02-01T08:03:24.310Z"
   },
   {
    "duration": 2849,
    "start_time": "2025-02-01T08:03:24.461Z"
   },
   {
    "duration": 2247,
    "start_time": "2025-02-01T08:03:27.312Z"
   },
   {
    "duration": 6,
    "start_time": "2025-02-01T08:03:29.560Z"
   },
   {
    "duration": 3366,
    "start_time": "2025-02-01T08:03:29.567Z"
   },
   {
    "duration": 5,
    "start_time": "2025-02-01T08:03:32.934Z"
   },
   {
    "duration": 18,
    "start_time": "2025-02-01T08:03:32.941Z"
   },
   {
    "duration": 8,
    "start_time": "2025-02-01T08:03:32.961Z"
   },
   {
    "duration": 5,
    "start_time": "2025-02-01T08:03:32.970Z"
   },
   {
    "duration": 13,
    "start_time": "2025-02-01T08:03:32.977Z"
   },
   {
    "duration": 7,
    "start_time": "2025-02-01T08:03:32.992Z"
   },
   {
    "duration": 6,
    "start_time": "2025-02-01T08:03:33.001Z"
   },
   {
    "duration": 4773,
    "start_time": "2025-02-01T08:03:33.008Z"
   },
   {
    "duration": 4,
    "start_time": "2025-02-01T08:51:49.196Z"
   },
   {
    "duration": 4,
    "start_time": "2025-02-01T08:57:28.797Z"
   },
   {
    "duration": 4845,
    "start_time": "2025-02-01T09:13:14.119Z"
   },
   {
    "duration": 10720,
    "start_time": "2025-02-01T09:14:39.560Z"
   },
   {
    "duration": 17541,
    "start_time": "2025-02-01T09:14:50.283Z"
   },
   {
    "duration": 5,
    "start_time": "2025-02-01T09:15:07.827Z"
   },
   {
    "duration": 499,
    "start_time": "2025-02-01T09:15:07.834Z"
   },
   {
    "duration": 7,
    "start_time": "2025-02-01T09:15:08.335Z"
   },
   {
    "duration": 10,
    "start_time": "2025-02-01T09:15:08.344Z"
   },
   {
    "duration": 116,
    "start_time": "2025-02-01T09:15:08.355Z"
   },
   {
    "duration": 153,
    "start_time": "2025-02-01T09:15:08.473Z"
   },
   {
    "duration": 10,
    "start_time": "2025-02-01T09:15:08.629Z"
   },
   {
    "duration": 41,
    "start_time": "2025-02-01T09:15:08.641Z"
   },
   {
    "duration": 181,
    "start_time": "2025-02-01T09:15:08.683Z"
   },
   {
    "duration": 48,
    "start_time": "2025-02-01T09:15:08.866Z"
   },
   {
    "duration": 253,
    "start_time": "2025-02-01T09:15:08.932Z"
   },
   {
    "duration": 104,
    "start_time": "2025-02-01T09:15:09.187Z"
   },
   {
    "duration": 99,
    "start_time": "2025-02-01T09:15:09.292Z"
   },
   {
    "duration": 142,
    "start_time": "2025-02-01T09:15:09.393Z"
   },
   {
    "duration": 2757,
    "start_time": "2025-02-01T09:15:09.537Z"
   },
   {
    "duration": 2071,
    "start_time": "2025-02-01T09:15:12.295Z"
   },
   {
    "duration": 5,
    "start_time": "2025-02-01T09:15:14.368Z"
   },
   {
    "duration": 3365,
    "start_time": "2025-02-01T09:15:14.375Z"
   },
   {
    "duration": 91,
    "start_time": "2025-02-01T09:15:17.743Z"
   },
   {
    "duration": 4,
    "start_time": "2025-02-01T09:15:17.836Z"
   },
   {
    "duration": 93,
    "start_time": "2025-02-01T09:15:17.842Z"
   },
   {
    "duration": 3,
    "start_time": "2025-02-01T09:15:17.937Z"
   },
   {
    "duration": 14,
    "start_time": "2025-02-01T09:15:17.942Z"
   },
   {
    "duration": 13,
    "start_time": "2025-02-01T09:15:17.958Z"
   },
   {
    "duration": 30,
    "start_time": "2025-02-01T09:15:17.975Z"
   },
   {
    "duration": 4776,
    "start_time": "2025-02-01T09:15:18.007Z"
   },
   {
    "duration": 8,
    "start_time": "2025-02-02T07:44:12.226Z"
   },
   {
    "duration": 3,
    "start_time": "2025-02-02T07:44:14.656Z"
   },
   {
    "duration": 3,
    "start_time": "2025-02-02T07:45:58.283Z"
   },
   {
    "duration": 78,
    "start_time": "2025-02-02T08:01:27.457Z"
   },
   {
    "duration": 4313,
    "start_time": "2025-02-02T08:01:37.374Z"
   },
   {
    "duration": 2081,
    "start_time": "2025-02-02T08:01:41.690Z"
   },
   {
    "duration": 4,
    "start_time": "2025-02-02T08:01:43.773Z"
   },
   {
    "duration": 568,
    "start_time": "2025-02-02T08:01:43.780Z"
   },
   {
    "duration": 7,
    "start_time": "2025-02-02T08:01:44.350Z"
   },
   {
    "duration": 16,
    "start_time": "2025-02-02T08:01:44.359Z"
   },
   {
    "duration": 53,
    "start_time": "2025-02-02T08:01:44.377Z"
   },
   {
    "duration": 150,
    "start_time": "2025-02-02T08:01:44.436Z"
   },
   {
    "duration": 41,
    "start_time": "2025-02-02T08:01:44.588Z"
   },
   {
    "duration": 56,
    "start_time": "2025-02-02T08:01:44.636Z"
   },
   {
    "duration": 171,
    "start_time": "2025-02-02T08:01:44.694Z"
   },
   {
    "duration": 77,
    "start_time": "2025-02-02T08:01:44.866Z"
   },
   {
    "duration": 290,
    "start_time": "2025-02-02T08:01:44.945Z"
   },
   {
    "duration": 132,
    "start_time": "2025-02-02T08:01:45.240Z"
   },
   {
    "duration": 110,
    "start_time": "2025-02-02T08:01:45.374Z"
   },
   {
    "duration": 175,
    "start_time": "2025-02-02T08:01:45.486Z"
   },
   {
    "duration": 3331,
    "start_time": "2025-02-02T08:01:45.663Z"
   },
   {
    "duration": 2397,
    "start_time": "2025-02-02T08:01:48.996Z"
   },
   {
    "duration": 5,
    "start_time": "2025-02-02T08:01:51.395Z"
   },
   {
    "duration": 5426,
    "start_time": "2025-02-02T08:01:51.414Z"
   },
   {
    "duration": 67,
    "start_time": "2025-02-02T08:01:56.844Z"
   },
   {
    "duration": 21,
    "start_time": "2025-02-02T08:01:56.915Z"
   },
   {
    "duration": 78,
    "start_time": "2025-02-02T08:01:56.938Z"
   },
   {
    "duration": 8,
    "start_time": "2025-02-02T08:01:57.019Z"
   },
   {
    "duration": 16,
    "start_time": "2025-02-02T08:01:57.029Z"
   },
   {
    "duration": 9,
    "start_time": "2025-02-02T08:01:57.047Z"
   },
   {
    "duration": 6,
    "start_time": "2025-02-02T08:01:57.058Z"
   },
   {
    "duration": 7,
    "start_time": "2025-02-02T08:01:57.067Z"
   },
   {
    "duration": 5705,
    "start_time": "2025-02-02T08:01:57.076Z"
   },
   {
    "duration": 140,
    "start_time": "2025-02-02T08:02:46.045Z"
   },
   {
    "duration": 98,
    "start_time": "2025-02-02T08:03:16.403Z"
   },
   {
    "duration": 65,
    "start_time": "2025-02-02T08:03:50.704Z"
   },
   {
    "duration": 17,
    "start_time": "2025-02-02T08:04:16.290Z"
   },
   {
    "duration": 79,
    "start_time": "2025-02-02T08:04:42.070Z"
   },
   {
    "duration": 15,
    "start_time": "2025-02-02T08:04:53.143Z"
   },
   {
    "duration": 16,
    "start_time": "2025-02-02T08:05:28.630Z"
   },
   {
    "duration": 12,
    "start_time": "2025-02-02T08:05:46.087Z"
   },
   {
    "duration": 21,
    "start_time": "2025-02-02T08:05:59.409Z"
   },
   {
    "duration": 16,
    "start_time": "2025-02-02T08:06:09.776Z"
   },
   {
    "duration": 15,
    "start_time": "2025-02-02T08:06:19.552Z"
   },
   {
    "duration": 13,
    "start_time": "2025-02-02T08:06:29.360Z"
   },
   {
    "duration": 14,
    "start_time": "2025-02-02T08:06:49.046Z"
   },
   {
    "duration": 11,
    "start_time": "2025-02-02T08:12:01.936Z"
   },
   {
    "duration": 2,
    "start_time": "2025-02-02T08:12:11.379Z"
   },
   {
    "duration": 2042,
    "start_time": "2025-02-02T08:18:26.155Z"
   },
   {
    "duration": 6,
    "start_time": "2025-02-02T08:18:43.256Z"
   },
   {
    "duration": 15,
    "start_time": "2025-02-02T08:19:07.633Z"
   },
   {
    "duration": 7,
    "start_time": "2025-02-02T08:19:11.566Z"
   },
   {
    "duration": 6,
    "start_time": "2025-02-02T08:19:29.964Z"
   },
   {
    "duration": 7,
    "start_time": "2025-02-02T08:19:43.596Z"
   },
   {
    "duration": 7,
    "start_time": "2025-02-02T08:32:10.352Z"
   },
   {
    "duration": 8,
    "start_time": "2025-02-02T08:32:23.983Z"
   },
   {
    "duration": 7,
    "start_time": "2025-02-02T08:32:51.702Z"
   },
   {
    "duration": 6,
    "start_time": "2025-02-02T08:33:10.254Z"
   },
   {
    "duration": 13,
    "start_time": "2025-02-02T08:50:08.802Z"
   },
   {
    "duration": 14,
    "start_time": "2025-02-02T08:50:32.613Z"
   },
   {
    "duration": 18,
    "start_time": "2025-02-02T08:51:41.258Z"
   },
   {
    "duration": 266,
    "start_time": "2025-02-02T08:51:48.137Z"
   },
   {
    "duration": 20,
    "start_time": "2025-02-02T08:51:53.609Z"
   },
   {
    "duration": 16,
    "start_time": "2025-02-02T08:52:30.454Z"
   },
   {
    "duration": 19,
    "start_time": "2025-02-02T08:52:36.145Z"
   },
   {
    "duration": 31,
    "start_time": "2025-02-02T08:55:08.418Z"
   },
   {
    "duration": 14,
    "start_time": "2025-02-02T08:55:14.741Z"
   },
   {
    "duration": 6,
    "start_time": "2025-02-02T08:56:09.738Z"
   },
   {
    "duration": 19,
    "start_time": "2025-02-02T08:56:30.447Z"
   },
   {
    "duration": 28,
    "start_time": "2025-02-02T08:56:53.110Z"
   },
   {
    "duration": 25,
    "start_time": "2025-02-02T08:57:16.891Z"
   },
   {
    "duration": 37,
    "start_time": "2025-02-02T08:57:34.134Z"
   },
   {
    "duration": 38,
    "start_time": "2025-02-02T08:57:41.015Z"
   },
   {
    "duration": 105,
    "start_time": "2025-02-02T09:02:52.913Z"
   },
   {
    "duration": 88,
    "start_time": "2025-02-02T09:03:17.214Z"
   },
   {
    "duration": 104,
    "start_time": "2025-02-02T09:03:44.407Z"
   },
   {
    "duration": 13,
    "start_time": "2025-02-02T09:09:22.818Z"
   },
   {
    "duration": 12,
    "start_time": "2025-02-02T09:09:34.118Z"
   },
   {
    "duration": 7,
    "start_time": "2025-02-02T09:10:10.946Z"
   },
   {
    "duration": 5397,
    "start_time": "2025-02-02T09:29:18.200Z"
   },
   {
    "duration": 120,
    "start_time": "2025-02-02T09:55:22.306Z"
   },
   {
    "duration": 4,
    "start_time": "2025-02-02T10:00:24.536Z"
   },
   {
    "duration": 5,
    "start_time": "2025-02-02T10:05:23.304Z"
   },
   {
    "duration": 3,
    "start_time": "2025-02-02T10:07:06.075Z"
   },
   {
    "duration": 12,
    "start_time": "2025-02-02T10:30:57.043Z"
   },
   {
    "duration": 11,
    "start_time": "2025-02-02T10:32:28.078Z"
   },
   {
    "duration": 58,
    "start_time": "2025-02-02T10:50:15.006Z"
   },
   {
    "duration": 2546,
    "start_time": "2025-02-02T11:05:52.088Z"
   },
   {
    "duration": 1467,
    "start_time": "2025-02-02T11:05:54.637Z"
   },
   {
    "duration": 4,
    "start_time": "2025-02-02T11:05:56.106Z"
   },
   {
    "duration": 514,
    "start_time": "2025-02-02T11:05:56.112Z"
   },
   {
    "duration": 7,
    "start_time": "2025-02-02T11:05:56.627Z"
   },
   {
    "duration": 68,
    "start_time": "2025-02-02T11:05:56.636Z"
   },
   {
    "duration": 28,
    "start_time": "2025-02-02T11:05:56.706Z"
   },
   {
    "duration": 118,
    "start_time": "2025-02-02T11:05:56.735Z"
   },
   {
    "duration": 9,
    "start_time": "2025-02-02T11:05:56.855Z"
   },
   {
    "duration": 58,
    "start_time": "2025-02-02T11:05:56.866Z"
   },
   {
    "duration": 153,
    "start_time": "2025-02-02T11:05:56.925Z"
   },
   {
    "duration": 57,
    "start_time": "2025-02-02T11:05:57.080Z"
   },
   {
    "duration": 235,
    "start_time": "2025-02-02T11:05:57.139Z"
   },
   {
    "duration": 101,
    "start_time": "2025-02-02T11:05:57.375Z"
   },
   {
    "duration": 94,
    "start_time": "2025-02-02T11:05:57.477Z"
   },
   {
    "duration": 146,
    "start_time": "2025-02-02T11:05:57.573Z"
   },
   {
    "duration": 2853,
    "start_time": "2025-02-02T11:05:57.720Z"
   },
   {
    "duration": 2022,
    "start_time": "2025-02-02T11:06:00.575Z"
   },
   {
    "duration": 11,
    "start_time": "2025-02-02T11:06:02.599Z"
   },
   {
    "duration": 4499,
    "start_time": "2025-02-02T11:06:02.612Z"
   },
   {
    "duration": 7,
    "start_time": "2025-02-02T11:06:07.114Z"
   },
   {
    "duration": 118,
    "start_time": "2025-02-02T11:06:07.123Z"
   },
   {
    "duration": 24,
    "start_time": "2025-02-02T11:06:07.243Z"
   },
   {
    "duration": 8,
    "start_time": "2025-02-02T11:06:07.269Z"
   },
   {
    "duration": 38,
    "start_time": "2025-02-02T11:06:07.279Z"
   },
   {
    "duration": 27,
    "start_time": "2025-02-02T11:06:07.319Z"
   },
   {
    "duration": 75,
    "start_time": "2025-02-02T11:06:07.348Z"
   },
   {
    "duration": 5,
    "start_time": "2025-02-02T11:06:07.426Z"
   },
   {
    "duration": 4839,
    "start_time": "2025-02-02T11:06:07.432Z"
   }
  ],
  "kernelspec": {
   "display_name": "Python 3 (ipykernel)",
   "language": "python",
   "name": "python3"
  },
  "language_info": {
   "codemirror_mode": {
    "name": "ipython",
    "version": 3
   },
   "file_extension": ".py",
   "mimetype": "text/x-python",
   "name": "python",
   "nbconvert_exporter": "python",
   "pygments_lexer": "ipython3",
   "version": "3.12.4"
  },
  "toc": {
   "base_numbering": 1,
   "nav_menu": {
    "height": "172.4px",
    "width": "160px"
   },
   "number_sections": true,
   "sideBar": true,
   "skip_h1_title": true,
   "title_cell": "Table of Contents",
   "title_sidebar": "Contents",
   "toc_cell": false,
   "toc_position": {
    "height": "calc(100% - 180px)",
    "left": "10px",
    "top": "150px",
    "width": "247.6px"
   },
   "toc_section_display": true,
   "toc_window_display": true
  }
 },
 "nbformat": 4,
 "nbformat_minor": 4
}
